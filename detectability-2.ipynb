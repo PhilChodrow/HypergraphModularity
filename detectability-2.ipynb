{
 "cells": [
  {
   "cell_type": "code",
   "execution_count": 2,
   "metadata": {},
   "outputs": [
    {
     "name": "stderr",
     "output_type": "stream",
     "text": [
      "\u001b[32m\u001b[1m Activating\u001b[22m\u001b[39m environment at `~/hypergraph_modularities_code/Project.toml`\n"
     ]
    }
   ],
   "source": [
    "using Pkg; Pkg.activate(\".\")\n",
    "using HypergraphModularity\n",
    "\n",
    "# using Optim \n",
    "using Plots\n",
    "using TimerOutputs\n",
    "using StatsBase\n",
    "using SparseArrays\n",
    "using Plots\n",
    "using Parameters\n",
    "using LinearAlgebra\n",
    "\n",
    "# include(\"src/AON_hyperlouvain.jl\")"
   ]
  },
  {
   "cell_type": "code",
   "execution_count": 3,
   "metadata": {},
   "outputs": [
    {
     "data": {
      "text/plain": [
       "detectabilityData (generic function with 1 method)"
      ]
     },
     "execution_count": 3,
     "metadata": {},
     "output_type": "execute_result"
    }
   ],
   "source": [
    "function detectabilityData(n, c₂, c₃, p₂, p₃)\n",
    "    \"\"\"\n",
    "    construct a hypergraph of two clusters in which: \n",
    "    - n is the number of nodes (should be even)\n",
    "    - c₂ is the mean number of 2-edges attached to a node\n",
    "    - c₃ is the mean number of 3-edges attached to a node\n",
    "    - p₂ is the proportion of 2-edges within clusters\n",
    "    - p₃ is the proportion of 3-edges within clusters\n",
    "    \n",
    "    p₂ = 0 and p₃ = 1 for example, means that all 2-edges are between \n",
    "    cluster and all 3-edges are within cluster. \n",
    "    \"\"\"\n",
    "    n_group = n ÷ 2\n",
    "    \n",
    "    # numbers of edges of sizes 2 and 3\n",
    "    m₂ = c₂*n/2\n",
    "    m₃ = c₃*n/3\n",
    "    \n",
    "    # initialize edge dict\n",
    "    E = Dict(k => Dict() for k ∈ 1:3)\n",
    "    \n",
    "    # assign 2-edges\n",
    "    for i ∈ 1:m₂\n",
    "        # within-cluster 2-edges\n",
    "        if rand() < p₂\n",
    "            s, t = 0, 0\n",
    "            while s == t\n",
    "                s, t = rand(1:n_group), rand(1:n_group)\n",
    "            end\n",
    "            if rand() < 0.5\n",
    "                s += n_group\n",
    "                t += n_group\n",
    "            end\n",
    "        # between-cluster 2-edges\n",
    "        else\n",
    "            s = rand(1:n_group)\n",
    "            t = rand(1:n_group) + n_group\n",
    "        end\n",
    "        s, t = sort([s, t])\n",
    "        E[2][[s,t]] = get(E[2], [s,t], 0) + 1\n",
    "    end\n",
    "    \n",
    "    # assign 3-edges\n",
    "    \n",
    "    for i ∈ 1:m₃\n",
    "        # within-cluster 3-edges\n",
    "        if rand() < p₃\n",
    "            s, t, v = 0, 0, 0\n",
    "            while length(unique([s, t, v])) < 3\n",
    "                s, t, v = rand(1:n_group), rand(1:n_group), rand(1:n_group)\n",
    "            end\n",
    "            if rand() < 0.5\n",
    "                s += n_group\n",
    "                t += n_group\n",
    "                v += n_group\n",
    "            end\n",
    "        # between-cluster 2-edges\n",
    "        else\n",
    "            s, t, v = 0, 0, 0\n",
    "            while length(unique([s, t, v])) < 3\n",
    "                s = rand(1:n_group)\n",
    "                t = rand(1:n_group)\n",
    "                v = rand(1:n_group) + n_group\n",
    "            end\n",
    "            if rand() < 0.5\n",
    "                s += n_group\n",
    "                t += n_group\n",
    "                v -= n_group\n",
    "            end\n",
    "            s, t, v = sort([s, t, v])\n",
    "        end\n",
    "        E[3][[s, t, v]] = get(E[3], [s, t, v], 0) + 1\n",
    "    end\n",
    "    H = hypergraph(N = 1:n, E = E)\n",
    "    HypergraphModularity.computeDegrees!(H)\n",
    "    return(H)\n",
    "end"
   ]
  },
  {
   "cell_type": "code",
   "execution_count": 5,
   "metadata": {},
   "outputs": [
    {
     "data": {
      "text/plain": [
       "detectabilityExperiment (generic function with 1 method)"
      ]
     },
     "execution_count": 5,
     "metadata": {},
     "output_type": "execute_result"
    }
   ],
   "source": [
    "function detectabilityExperiment(n, c₂, c₃, p₂, p₃; n_rounds = 10)\n",
    "    \n",
    "    kmax = 3\n",
    "    weighted=false\n",
    "    Ω = 0\n",
    "    \n",
    "    Z = vcat(repeat([1], n÷2), repeat([2], n÷2))\n",
    "    H = detectabilityData(n, c₂, c₃, p₂, p₃)\n",
    "        \n",
    "    Z_ = copy(Z)\n",
    "    \n",
    "    γ̂ = computeDyadicResolutionParameter(H, Z_)\n",
    "    ω_in, ω_out = computeDyadicResolutionParameter(H, Z_; mode=\"ω\", weighted=weighted)\n",
    "    \n",
    "    best_L = -Inf\n",
    "    best_identified = 0\n",
    "    best_dyadic_group_num = n\n",
    "    \n",
    "    \n",
    "    for i in 1:n_rounds\n",
    "        \n",
    "        γ̂ = computeDyadicResolutionParameter(H, Z_)\n",
    "        Z_ = CliqueExpansionModularity(H, γ̂, weighted, true, false)\n",
    "        \n",
    "        ω_in, ω_out = computeDyadicResolutionParameter(H, Z_; mode=\"ω\", weighted=weighted)\n",
    "        L_D = dyadicLogLikelihood(H, Z_, ω_in, ω_out; weighted=weighted)\n",
    "\n",
    "        if L_D > best_L\n",
    "            best_L = L_D\n",
    "            best_identified = mutualInformation(Z, Z_, true)\n",
    "            best_dyadic_group_num = length(unique(Z_))\n",
    "        end\n",
    "    end\n",
    "    \n",
    "    best_dyadic_score = best_identified\n",
    "    \n",
    "    α0 = zeros(2*kmax)\n",
    "    α̂ = α0\n",
    "    \n",
    "    Z_ = copy(Z)\n",
    "    \n",
    "    Ω = estimateΩEmpirically(H, Z_; aggregator = p -> [length(p) == 1, sum(p)])\n",
    "    \n",
    "    best_L = -Inf\n",
    "    best_identified = 0\n",
    "    best_polyadic_group_num = n\n",
    "    \n",
    "    for i in 1:n_rounds\n",
    "        Ω = estimateΩEmpirically(H, Z_; aggregator = p -> [length(p) == 1, sum(p)])        \n",
    "        Z_ = SuperNode_PPLouvain(H, Ω; α = α̂, verbose = false, Z0 = collect(1:n))\n",
    "        L_H = modularity(H, Z_, Ω; α = α̂)\n",
    "        \n",
    "        if L_H > best_L\n",
    "            best_L = L_H\n",
    "            best_identified = mutualInformation(Z, Z_,true)\n",
    "            best_polyadic_group_num = length(unique(Z_))\n",
    "        end\n",
    "    end\n",
    "    \n",
    "    best_hypergraph_score = best_identified\n",
    "    \n",
    "    return(best_dyadic_score, best_dyadic_group_num, best_hypergraph_score, best_polyadic_group_num)\n",
    "end"
   ]
  },
  {
   "cell_type": "code",
   "execution_count": null,
   "metadata": {},
   "outputs": [],
   "source": [
    "# main experiment\n",
    "\n",
    "c₂, c₃ = 5, 5\n",
    "P₂, P₃, D, H, K_d, K_h = zeros(0), zeros(0), zeros(0), zeros(0), zeros(0), zeros(0)\n",
    "\n",
    "for p₂ ∈ 0:0.02:1, p₃ ∈ 0:0.02:1, rep ∈ 1:10\n",
    "    d, k_d, h, k_h = detectabilityExperiment(500, c₂, c₃, p₂, p₃)\n",
    "    append!(P₂, p₂)\n",
    "    append!(P₃, p₃)\n",
    "    append!(D, d)\n",
    "    append!(H, h)\n",
    "    append!(K_d, k_d)\n",
    "    append!(K_h, k_h)\n",
    "end"
   ]
  },
  {
   "cell_type": "code",
   "execution_count": null,
   "metadata": {},
   "outputs": [],
   "source": [
    "# # troubleshooting\n",
    "\n",
    "# c₂, c₃ = 5, 5\n",
    "# P₂, P₃, D, H, K_d, K_h = zeros(0), zeros(0), zeros(0), zeros(0), zeros(0), zeros(0)\n",
    "\n",
    "# for p₂ ∈ 0:0.02:1, p₃ ∈ 0:0.02:1, rep ∈ 1:1\n",
    "#     d, k_d, h, k_h = detectabilityExperiment(100, c₂, c₃, p₂, p₃)\n",
    "#     append!(P₂, p₂)\n",
    "#     append!(P₃, p₃)\n",
    "#     append!(D, d)\n",
    "#     append!(H, h)\n",
    "#     append!(K_d, k_d)\n",
    "#     append!(K_h, k_h)\n",
    "# end"
   ]
  },
  {
   "cell_type": "code",
   "execution_count": 210,
   "metadata": {},
   "outputs": [
    {
     "data": {
      "text/plain": [
       "RObject{StrSxp}\n",
       " [1] \"viridis\"     \"viridisLite\" \"forcats\"     \"stringr\"     \"dplyr\"      \n",
       " [6] \"purrr\"       \"readr\"       \"tidyr\"       \"tibble\"      \"ggplot2\"    \n",
       "[11] \"tidyverse\"   \"stats\"       \"graphics\"    \"grDevices\"   \"utils\"      \n",
       "[16] \"datasets\"    \"methods\"     \"base\"       \n"
      ]
     },
     "execution_count": 210,
     "metadata": {},
     "output_type": "execute_result"
    }
   ],
   "source": [
    "using RCall\n",
    "RCall.rcall_p(:options, rcalljl_options=Dict(:width => 450, :height => 200))\n",
    "R\"\"\"\n",
    "library(tidyverse)\n",
    "library(viridis)\n",
    "\"\"\""
   ]
  },
  {
   "cell_type": "code",
   "execution_count": 245,
   "metadata": {},
   "outputs": [
    {
     "name": "stderr",
     "output_type": "stream",
     "text": [
      "┌ Warning: RCall.jl: `summarise()` regrouping output by 'P_2', 'P_3' (override with `.groups` argument)\n",
      "└ @ RCall /home/phil/.julia/packages/RCall/Qzssx/src/io.jl:160\n"
     ]
    },
    {
     "data": {
      "image/png": "[encoded data removed]"
     },
     "metadata": {},
     "output_type": "display_data"
    },
    {
     "data": {
      "text/plain": [
       "RObject{VecSxp}\n"
      ]
     },
     "execution_count": 245,
     "metadata": {},
     "output_type": "execute_result"
    },
    {
     "name": "stderr",
     "output_type": "stream",
     "text": [
      "┌ Warning: RCall.jl: Warning: Removed 2754 row(s) containing missing values (geom_path).\n",
      "│ Warning: Removed 2601 rows containing missing values (geom_hline).\n",
      "│ Warning: Removed 2601 rows containing missing values (geom_vline).\n",
      "└ @ RCall /home/phil/.julia/packages/RCall/Qzssx/src/io.jl:160\n"
     ]
    }
   ],
   "source": [
    "R\"\"\"\n",
    "df <- tibble(P_2 = $P₂, P_3 = $P₃, D = $D, H = $H, K_d = $K_d, K_h = $K_h) %>% \n",
    "#    mutate(D = ifelse((P_2 == 1)*(P_3 == 1) == 1, 1, D)) %>% \n",
    "    gather(key = method, value = NMI, -P_2, -P_3, -K_d, - K_h) %>% \n",
    "    group_by(P_2, P_3, method) %>% \n",
    "    summarise(NMI = mean(NMI)) %>% \n",
    "    mutate(method = ifelse(method == \"D\", \"Graph\", \"Hypergraph\")) %>%\n",
    "    group_by(method, P_2, P_3) \n",
    "\n",
    "df <- df %>% mutate(q_3 = (sqrt(2*($c₂ + 2*$c₃)) - (2*P_2-1)*$c₂)/(3*$c₃) + 1/3,\n",
    "                    q_3 = ifelse(method == \"Graph\", q_3, NA),\n",
    "                    q_3 = ifelse(q_3 > 1, NA, q_3),\n",
    "                    r_3 = sqrt(4*$c₃)/(4*$c₃) + 1/3, \n",
    "                    r_3 = ifelse(method == \"Hypergraph\", r_3, NA),\n",
    "                    r_2 = 1/sqrt(2*$c₂) + 1/2,\n",
    "                    r_2 = ifelse(method == \"Hypergraph\", r_2, NA))\n",
    "\n",
    "labels <- data_frame(\n",
    "    x = c(0.35, 0.75, 0.2),\n",
    "    y = c(0.5, 0.2, 0.8),\n",
    "    lab = c(\"paste(italic(p[3]), '*')\", \"paste(italic(p[2]), '*')\", \"paste(italic(p), '*')\"),\n",
    "    method = c(\"Hypergraph\", \"Hypergraph\", \"Graph\")\n",
    ")\n",
    "\n",
    "df %>% \n",
    "    ggplot() + \n",
    "    facet_wrap(~method) + \n",
    "    geom_raster(aes(x = P_2, y = P_3, fill = NMI)) + \n",
    "    geom_line(aes(x = P_2, y = q_3), color = \"white\", linetype = \"dashed\") + \n",
    "    geom_hline(aes(yintercept = r_3), color = \"white\", linetype = \"dashed\") + \n",
    "    geom_vline(aes(xintercept = r_2), color = \"white\", linetype = \"dashed\") + \n",
    "    theme_bw() + \n",
    "    scale_fill_viridis(option = \"inferno\") + \n",
    "    scale_x_continuous(expand = c(0, 0)) + \n",
    "    scale_y_continuous(expand = c(0, 0)) + \n",
    "    theme(strip.background = element_blank(),\n",
    "          panel.spacing.x = unit(8, \"mm\")) +\n",
    "    xlab(expression(p[2])) + \n",
    "    ylab(expression(p[3])) + \n",
    "    coord_fixed() + \n",
    "    geom_text(aes(x = x, y = y, label = lab), data = labels, color = \"white\", parse = T)\n",
    "\"\"\""
   ]
  },
  {
   "cell_type": "code",
   "execution_count": 212,
   "metadata": {},
   "outputs": [
    {
     "name": "stderr",
     "output_type": "stream",
     "text": [
      "┌ Warning: RCall.jl: Warning: Removed 2754 row(s) containing missing values (geom_path).\n",
      "│ Warning: Removed 2601 rows containing missing values (geom_hline).\n",
      "│ Warning: Removed 2601 rows containing missing values (geom_vline).\n",
      "└ @ RCall /home/phil/.julia/packages/RCall/Qzssx/src/io.jl:160\n"
     ]
    },
    {
     "data": {
      "text/plain": [
       "RObject{NilSxp}\n",
       "NULL\n"
      ]
     },
     "execution_count": 212,
     "metadata": {},
     "output_type": "execute_result"
    }
   ],
   "source": [
    "R\"\"\"\n",
    "ggsave(\"fig/detectability_2.png\", width = 5, height = 2.5)\n",
    "\"\"\""
   ]
  },
  {
   "cell_type": "code",
   "execution_count": 216,
   "metadata": {},
   "outputs": [
    {
     "data": {
      "text/plain": [
       "RObject{VecSxp}\n",
       "# A tibble: 5,202 x 7\n",
       "# Groups:   method, P_2, P_3 [5,202]\n",
       "     P_2   P_3 method        NMI   q_3    r_3    r_2\n",
       "   <dbl> <dbl> <chr>       <dbl> <dbl>  <dbl>  <dbl>\n",
       " 1     0  0    Graph      0         NA NA     NA    \n",
       " 2     0  0    Hypergraph 0.0461    NA  0.557  0.816\n",
       " 3     0  0.02 Graph      0         NA NA     NA    \n",
       " 4     0  0.02 Hypergraph 0.0389    NA  0.557  0.816\n",
       " 5     0  0.04 Graph      0         NA NA     NA    \n",
       " 6     0  0.04 Hypergraph 0.0498    NA  0.557  0.816\n",
       " 7     0  0.06 Graph      0         NA NA     NA    \n",
       " 8     0  0.06 Hypergraph 0.0491    NA  0.557  0.816\n",
       " 9     0  0.08 Graph      0         NA NA     NA    \n",
       "10     0  0.08 Hypergraph 0.0520    NA  0.557  0.816\n",
       "# … with 5,192 more rows\n"
      ]
     },
     "execution_count": 216,
     "metadata": {},
     "output_type": "execute_result"
    }
   ],
   "source": [
    "R\"\"\"\n",
    "df %>% write_csv(\"fig/detectability_throughput.csv\")\n",
    "\"\"\""
   ]
  },
  {
   "cell_type": "code",
   "execution_count": null,
   "metadata": {},
   "outputs": [],
   "source": []
  }
 ],
 "metadata": {
  "kernelspec": {
   "display_name": "Julia 1.4.2",
   "language": "julia",
   "name": "julia-1.4"
  },
  "language_info": {
   "file_extension": ".jl",
   "mimetype": "application/julia",
   "name": "julia",
   "version": "1.4.2"
  }
 },
 "nbformat": 4,
 "nbformat_minor": 4
}
