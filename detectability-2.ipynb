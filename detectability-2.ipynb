{
 "cells": [
  {
   "cell_type": "code",
   "execution_count": 11,
   "metadata": {},
   "outputs": [
    {
     "name": "stderr",
     "output_type": "stream",
     "text": [
      "\u001b[32m\u001b[1m Activating\u001b[22m\u001b[39m environment at `~/hypergraph_modularities_code/Project.toml`\n"
     ]
    }
   ],
   "source": [
    "using Pkg; Pkg.activate(\".\")\n",
    "using HypergraphModularity\n",
    "\n",
    "# using Optim \n",
    "using Plots\n",
    "using TimerOutputs\n",
    "using StatsBase\n",
    "using SparseArrays"
   ]
  },
  {
   "cell_type": "code",
   "execution_count": 12,
   "metadata": {},
   "outputs": [
    {
     "data": {
      "text/plain": [
       "Ω (generic function with 1 method)"
      ]
     },
     "execution_count": 12,
     "metadata": {},
     "output_type": "execute_result"
    }
   ],
   "source": [
    "α0 = vcat([0.0, 0.0, 10.0], [0.0, 5.0, 0.0])\n",
    "kmax = 3\n",
    "n = 200\n",
    "ϑ = repeat([1.0], n);\n",
    "\n",
    "# all-or-nothing cut with dyadic edges always between group\n",
    "function Ω(z; α, mode = \"group\")\n",
    "    \n",
    "    p = (mode == \"group\") ? partitionize(z) : z\n",
    "    \n",
    "    k = sum(p)\n",
    "    \n",
    "    if length(p) == 1\n",
    "        return α[k]/n^(k-1)\n",
    "    elseif length(p) == 2\n",
    "        return α[kmax+k]/n^(k-1)\n",
    "    else\n",
    "        return α[kmax+k]/n^(k)\n",
    "    end\n",
    "end"
   ]
  },
  {
   "cell_type": "code",
   "execution_count": 13,
   "metadata": {},
   "outputs": [
    {
     "data": {
      "text/plain": [
       "percent_identified (generic function with 1 method)"
      ]
     },
     "execution_count": 13,
     "metadata": {},
     "output_type": "execute_result"
    }
   ],
   "source": [
    "function percent_identified(Z, Ẑ)\n",
    "    d = Dict()\n",
    "    for i = 1:length(Z)\n",
    "        d[(Z[i], Ẑ[i])] = get(d, (Z[i], Ẑ[i]), 0) + 1\n",
    "    end\n",
    "    if length(unique(Ẑ)) > 1\n",
    "        return 2*maximum(values(d)) / length(Z)\n",
    "    else\n",
    "        return 0\n",
    "    end\n",
    "end"
   ]
  },
  {
   "cell_type": "code",
   "execution_count": 14,
   "metadata": {},
   "outputs": [],
   "source": [
    "kmax = 3\n",
    "\n",
    "weighted = false\n",
    "\n",
    "A = 0.0:1.0:30\n",
    "\n",
    "n_runs = 5\n",
    "\n",
    "C = zeros(0)\n",
    "P = zeros(0)\n",
    "\n",
    "for i in 1:(length(A)), j in 1:n_runs\n",
    "    a = A[i]\n",
    "    Z = vcat(repeat([1], n÷2), repeat([2], n÷2))\n",
    "    α0 = vcat([0.0, 0.0, a], [0.0, 5.0, 0.0])\n",
    "    H = sampleSBM(Z, ϑ, Ω;α=α0, kmax=kmax, kmin = 1)\n",
    "    H.E[1] = Dict()\n",
    "        \n",
    "#     cᵢ = sum(values(H.E[3]))*3/n\n",
    "#     cₒ = sum(values(H.E[2]))*1/n\n",
    "    \n",
    "    cᵢ = 3*a/4          \n",
    "    cₒ = α0[5]/2\n",
    "    \n",
    "    append!(C, (cᵢ - cₒ)/sqrt(2*(cᵢ + cₒ)))\n",
    "        \n",
    "    Z_ = copy(Z)\n",
    "    \n",
    "    n_reps = 10\n",
    "    \n",
    "    best_L = -Inf\n",
    "    best_identified = 0\n",
    "    \n",
    "    for i in 1:n_reps\n",
    "        γ̂ = computeDyadicResolutionParameter(H, Z_)\n",
    "        Z_ = CliqueExpansionModularity(H, γ̂, weighted, true)\n",
    "        ω_in, ω_out = computeDyadicResolutionParameter(H, Z_; mode=\"ω\", weighted=weighted)\n",
    "        L_D = dyadicLogLikelihood(H, Z_, ω_in, ω_out, weighted)\n",
    "        \n",
    "        if L_D > best_L\n",
    "            best_L = L_D\n",
    "            best_identified = percent_identified(Z, Z_)\n",
    "        end\n",
    "    end\n",
    "    append!(P, best_identified)\n",
    "end"
   ]
  },
  {
   "cell_type": "code",
   "execution_count": 15,
   "metadata": {},
   "outputs": [],
   "source": [
    "kmax = 3\n",
    "\n",
    "weighted = true\n",
    "\n",
    "A = 0.0:1.0:30\n",
    "\n",
    "n_runs = 5\n",
    "\n",
    "C__ = zeros(0)\n",
    "P__ = zeros(0)\n",
    "\n",
    "for i in 1:(length(A)), j in 1:n_runs\n",
    "    a = A[i]\n",
    "    Z = vcat(repeat([1], n÷2), repeat([2], n÷2))\n",
    "    α0 = vcat([0.0, 0.0, a], [0.0, 5.0, 0.0])\n",
    "    H = sampleSBM(Z, ϑ, Ω;α=α0, kmax=kmax, kmin = 1)\n",
    "    H.E[1] = Dict()\n",
    "            \n",
    "    cᵢ = 3*a/(2*4)          \n",
    "    cₒ = α0[5]/2\n",
    "    \n",
    "    append!(C__, (cᵢ - cₒ)/sqrt(2*(cᵢ + cₒ)))\n",
    "        \n",
    "    Z_ = copy(Z)\n",
    "    \n",
    "    n_reps = 10\n",
    "    \n",
    "    best_L = -Inf\n",
    "    best_identified = 0\n",
    "    \n",
    "    for i in 1:n_reps\n",
    "        γ̂ = computeDyadicResolutionParameter(H, Z_)\n",
    "        Z_ = CliqueExpansionModularity(H, γ̂, weighted, true)\n",
    "        ω_in, ω_out = computeDyadicResolutionParameter(H, Z_; mode=\"ω\", weighted=weighted)\n",
    "        L_D = dyadicLogLikelihood(H, Z_, ω_in, ω_out, weighted)\n",
    "        \n",
    "        if L_D > best_L\n",
    "            best_L = L_D\n",
    "            best_identified = percent_identified(Z, Z_)\n",
    "        end\n",
    "    end\n",
    "    append!(P__, best_identified)\n",
    "end"
   ]
  },
  {
   "cell_type": "code",
   "execution_count": 16,
   "metadata": {},
   "outputs": [],
   "source": [
    "kmax = 3\n",
    "\n",
    "weighted = false\n",
    "\n",
    "A = 0.0:1.0:30\n",
    "\n",
    "n_runs = 5\n",
    "\n",
    "C_ = zeros(0)\n",
    "P_ = zeros(0)\n",
    "\n",
    "for i in 1:length(A)\n",
    "    a = A[i]\n",
    "    Z = vcat(repeat([1], n÷2), repeat([2], n÷2))\n",
    "    α0 = vcat([0.0, 0.0, a], [0.0, 5.0, 0.0])\n",
    "    H = sampleSBM(Z, ϑ, Ω;α=α0, kmax=kmax, kmin = 1)\n",
    "    H.E[1] = Dict()\n",
    "        \n",
    "    cᵢ = 3*a/4          \n",
    "    cₒ = α0[5]/2\n",
    "    \n",
    "    append!(C_, (cᵢ - cₒ)/sqrt(2*(cᵢ + cₒ)))\n",
    "    \n",
    "    Z_ = copy(Z)\n",
    "    α̂ = α0\n",
    "    \n",
    "    best_L = -Inf\n",
    "    best_identified = 0\n",
    "    \n",
    "    n_reps = 10\n",
    "    \n",
    "    for i in 1:n_reps\n",
    "        α̂ = coordinateAscent(H, Z_, Ω, α̂; n_iters = 10, amin = 10^(-10), amax = 10)\n",
    "        Z_ = SuperNodeLouvain(H,kmax,Ω;α=α̂, verbose=false, scan_order =\"random\")\n",
    "        L_H = modularity(H, Z_, Ω; α = α̂)\n",
    "        \n",
    "        if L_H > best_L\n",
    "            best_L = L_H\n",
    "            best_identified = percent_identified(Z, Z_)\n",
    "        end\n",
    "    end\n",
    "    append!(P_, best_identified)\n",
    "end"
   ]
  },
  {
   "cell_type": "code",
   "execution_count": 17,
   "metadata": {},
   "outputs": [
    {
     "data": {
      "text/plain": [
       "RObject{StrSxp}\n",
       " [1] \"forcats\"   \"stringr\"   \"dplyr\"     \"purrr\"     \"readr\"     \"tidyr\"    \n",
       " [7] \"tibble\"    \"ggplot2\"   \"tidyverse\" \"stats\"     \"graphics\"  \"grDevices\"\n",
       "[13] \"utils\"     \"datasets\"  \"methods\"   \"base\"     \n"
      ]
     },
     "execution_count": 17,
     "metadata": {},
     "output_type": "execute_result"
    }
   ],
   "source": [
    "using RCall\n",
    "RCall.rcall_p(:options, rcalljl_options=Dict(:width => 350, :height => 250))\n",
    "R\"\"\"\n",
    "library(tidyverse)\n",
    "\"\"\""
   ]
  },
  {
   "cell_type": "code",
   "execution_count": 18,
   "metadata": {},
   "outputs": [
    {
     "name": "stderr",
     "output_type": "stream",
     "text": [
      "┌ Warning: RCall.jl: `summarise()` regrouping output by 'C' (override with `.groups` argument)\n",
      "└ @ RCall /home/phil/.julia/packages/RCall/Qzssx/src/io.jl:160\n"
     ]
    },
    {
     "data": {
      "image/png": "[encoded data removed]"
     },
     "metadata": {},
     "output_type": "display_data"
    },
    {
     "data": {
      "text/plain": [
       "RObject{VecSxp}\n"
      ]
     },
     "execution_count": 18,
     "metadata": {},
     "output_type": "execute_result"
    }
   ],
   "source": [
    "R\"\"\"\n",
    "\n",
    "df_D <- tibble(C = $C_, P = $P_, algorithm = \"Hypergraph Louvain\")\n",
    "# df_D_W <- tibble(C = $C__, P = $P__, algorithm = \"Dyadic Louvain (weighted)\")\n",
    "df_H <- tibble(C = $C,  P = $P, algorithm = \"Dyadic Louvain (unweighted)\")\n",
    "\n",
    "df <- rbind(df_D, df_H) %>% \n",
    "#    rbind(df_D_W) %>% \n",
    "    group_by(C, algorithm) %>% \n",
    "    summarise(P = mean(P))\n",
    "\n",
    "df %>% \n",
    "    ggplot() + \n",
    "    aes(x = C, y = P, fill = algorithm) +\n",
    "    geom_vline(aes(xintercept = 1), color = \"darkgrey\", size = .5, linetype = \"dashed\") + \n",
    "    geom_line(aes(color = algorithm)) + \n",
    "    theme_bw() + \n",
    "    theme(panel.border = element_blank(),\n",
    "          axis.line = element_line(color = 'darkgrey'),\n",
    "          panel.grid.minor = element_blank(),\n",
    "          legend.position = c(1.0, .65),\n",
    "          legend.justification = c(\"right\", \"top\"),\n",
    "          legend.box.just = \"right\",\n",
    "          legend.margin = margin(6, 6, 6, 6),\n",
    "          legend.title = element_blank()) + \n",
    "    xlab(expression(italic(C))) + \n",
    "    ylab(\"% Identified\") + \n",
    "    scale_color_brewer(palette = \"Set2\") + \n",
    "    scale_fill_brewer(palette = \"Set2\")\n",
    "\"\"\""
   ]
  },
  {
   "cell_type": "code",
   "execution_count": 19,
   "metadata": {},
   "outputs": [
    {
     "data": {
      "text/plain": [
       "RObject{NilSxp}\n",
       "NULL\n"
      ]
     },
     "execution_count": 19,
     "metadata": {},
     "output_type": "execute_result"
    }
   ],
   "source": [
    "R\"\"\"\n",
    "ggsave(\"fig/detectability.png\", width = 5, height = 3.7)\n",
    "\"\"\""
   ]
  },
  {
   "cell_type": "markdown",
   "metadata": {},
   "source": [
    "# TODO\n",
    "\n",
    "Make a nicer plot via ggplot, check in on the location of the phase transition. "
   ]
  }
 ],
 "metadata": {
  "kernelspec": {
   "display_name": "Julia 1.4.2",
   "language": "julia",
   "name": "julia-1.4"
  },
  "language_info": {
   "file_extension": ".jl",
   "mimetype": "application/julia",
   "name": "julia",
   "version": "1.4.2"
  }
 },
 "nbformat": 4,
 "nbformat_minor": 4
}
