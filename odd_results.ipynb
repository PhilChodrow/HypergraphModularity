{
 "cells": [
  {
   "cell_type": "markdown",
   "metadata": {},
   "source": [
    "# Odd Behavior in Supernode?\n",
    "\n",
    "Nate, this notebook gives an example of some behavior I've observed that I suspect implies a bug? Not sure though. \n",
    "\n",
    "tl;dr: I made a dyadic graph with very strong planted partition structure. `CliqueExpansionModularity()` and `HyperLouvain()` both give the correct answer no problem, but `SuperNodeLouvain()` fails to move any nodes (and errors, but I suspect that's about not moving any nodes in the first step). "
   ]
  },
  {
   "cell_type": "code",
   "execution_count": 23,
   "metadata": {},
   "outputs": [],
   "source": [
    "using Optim \n",
    "\n",
    "include(\"jl/omega.jl\")\n",
    "include(\"jl/HSBM.jl\")\n",
    "include(\"jl/hypergraph_louvain.jl\")\n",
    "include(\"jl/inference.jl\")\n",
    "include(\"jl/warmstart.jl\");"
   ]
  },
  {
   "cell_type": "code",
   "execution_count": 24,
   "metadata": {},
   "outputs": [
    {
     "data": {
      "text/plain": [
       "hypergraph\n",
       "  N: Array{Int64}((200,)) [1, 2, 3, 4, 5, 6, 7, 8, 9, 10  …  191, 192, 193, 194, 195, 196, 197, 198, 199, 200]\n",
       "  E: Dict{Int64,Dict}\n",
       "  D: Array{Int64}((200,)) [19, 32, 32, 40, 27, 26, 28, 28, 21, 26  …  33, 25, 24, 31, 34, 25, 35, 41, 21, 24]\n"
      ]
     },
     "execution_count": 24,
     "metadata": {},
     "output_type": "execute_result"
    }
   ],
   "source": [
    "# build a data set\n",
    "\n",
    "n = 200\n",
    "Z = rand(1:2, n)\n",
    "ϑ = dropdims(ones(1,n) + rand(1,n), dims = 1)\n",
    "\n",
    "kmax = 3\n",
    "\n",
    "function ω(p, α)\n",
    "    k = sum(p)\n",
    "    length(p) == 1 ? (1.0*n)^(-α[k]) : (1.0*n)^(-α[kmax + k])\n",
    "end\n",
    "\n",
    "α0 = [10.0, 0.5, 10.6, 20.0, 1.8, 20.5]\n",
    "\n",
    "Ω = buildΩ(ω, α0, kmax)\n",
    "\n",
    "H = sampleSBM(Z, ϑ, Ω; α=α0, kmax=kmax, kmin = 1)"
   ]
  },
  {
   "cell_type": "code",
   "execution_count": 25,
   "metadata": {},
   "outputs": [
    {
     "name": "stdout",
     "output_type": "stream",
     "text": [
      "k = 1: NaN % of edges are within a single group.\n",
      "k = 2: 100.0 % of edges are within a single group.\n",
      "k = 3: NaN % of edges are within a single group.\n"
     ]
    }
   ],
   "source": [
    "# this is a dyadic graph (i.e. it has zero edges of size 1 or 3)\n",
    "\n",
    "for k = 1:3\n",
    "    p = mean([length(partitionize(Z[e])) == 1 for e in keys(H.E[k])])\n",
    "    println(\"k = $k: $(round(100*p, digits = 0)) % of edges are within a single group.\")\n",
    "end"
   ]
  },
  {
   "cell_type": "code",
   "execution_count": 26,
   "metadata": {},
   "outputs": [
    {
     "name": "stdout",
     "output_type": "stream",
     "text": [
      "Dyadic Louvain splits the data into 2 groups.\n"
     ]
    }
   ],
   "source": [
    "Z_dyadic = CliqueExpansionModularity(H)\n",
    "println(\"Dyadic Louvain splits the data into $(length(unique(Z_dyadic))) groups.\")"
   ]
  },
  {
   "cell_type": "code",
   "execution_count": 27,
   "metadata": {},
   "outputs": [
    {
     "name": "stdout",
     "output_type": "stream",
     "text": [
      "The modularity is Q = -29884.0\n"
     ]
    }
   ],
   "source": [
    "α̂, ll = estimateParameters(H, Z, Ω, α0)\n",
    "Q = modularity(H, Z_dyadic, Ω; α = α̂)\n",
    "println(\"The modularity is Q = $(round(Q, digits = 0))\")"
   ]
  },
  {
   "cell_type": "code",
   "execution_count": 28,
   "metadata": {},
   "outputs": [
    {
     "name": "stdout",
     "output_type": "stream",
     "text": [
      "\n",
      "Louvain Iteration 1\n",
      "Louvain Iteration 2\n",
      "Louvain Iteration 3\n",
      "Hypergraph Louvain splits the data into 2 groups.\n",
      "The modularity is Q = -29884.0\n"
     ]
    }
   ],
   "source": [
    "Z_hyper1 = HyperLouvain(H,kmax,Ω;α=α̂)\n",
    "println(\"Hypergraph Louvain splits the data into $(length(unique(Z_hyper1))) groups.\")\n",
    "\n",
    "Q = modularity(H, Z_hyper1, Ω; α = α̂)\n",
    "println(\"The modularity is Q = $(round(Q, digits = 0))\")"
   ]
  },
  {
   "cell_type": "code",
   "execution_count": 29,
   "metadata": {},
   "outputs": [
    {
     "name": "stdout",
     "output_type": "stream",
     "text": [
      "SuperNode Louvain: Phase 1\n",
      "\n",
      "Louvain Iteration 1\n",
      "No nodes moved clusters\n"
     ]
    },
    {
     "ename": "UndefVarError",
     "evalue": "UndefVarError: changed not defined",
     "output_type": "error",
     "traceback": [
      "UndefVarError: changed not defined",
      "",
      "Stacktrace:",
      " [1] SuperNodeLouvain(::hypergraph, ::Int64, ::Function, ::Int64, ::Bool; α::Array{Float64,1}) at /home/phil/hypergraph_modularities_code/jl/hypergraph_louvain.jl:731",
      " [2] top-level scope at In[29]:1"
     ]
    }
   ],
   "source": [
    "Z_hyper2 = SuperNodeLouvain(H,kmax,Ω;α=α̂)\n",
    "println(\"SuperNode Hypergraph Louvain splits the data into $(length(unique(Z_hyper2))) groups.\")\n",
    "\n",
    "Q = modularity(H, Z_hyper2, Ω; α = α̂)\n",
    "println(\"The modularity is Q = $(round(Q, digits = 0))\")"
   ]
  }
 ],
 "metadata": {
  "kernelspec": {
   "display_name": "Julia 1.4.2",
   "language": "julia",
   "name": "julia-1.4"
  },
  "language_info": {
   "file_extension": ".jl",
   "mimetype": "application/julia",
   "name": "julia",
   "version": "1.4.2"
  }
 },
 "nbformat": 4,
 "nbformat_minor": 4
}
