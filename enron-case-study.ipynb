{
 "cells": [
  {
   "cell_type": "code",
   "execution_count": 39,
   "metadata": {},
   "outputs": [
    {
     "name": "stderr",
     "output_type": "stream",
     "text": [
      "\u001b[32m\u001b[1m Activating\u001b[22m\u001b[39m environment at `~/hypergraph_modularities_code/Project.toml`\n"
     ]
    }
   ],
   "source": [
    "using Pkg; Pkg.activate(\".\")\n",
    "using HypergraphModularity\n",
    "\n",
    "using StatsBase"
   ]
  },
  {
   "cell_type": "code",
   "execution_count": 40,
   "metadata": {},
   "outputs": [],
   "source": [
    "# dataset = \"contact-primary-school-classes\"\n",
    "dataset = \"email-Enron-full\"\n",
    "# dataset = \"walmart-trips\"\n",
    "# dataset = \"TrivagoClickout\"\n",
    "kmax_ = 38\n",
    "\n",
    "H = read_hypergraph_data(dataset,kmax_, false)\n",
    "α = zeros(2*kmax_);\n",
    "\n",
    "kmax = maximum(keys(H.E))\n",
    "kmin = minimum(keys(H.E))\n",
    "\n",
    "n = length(H.D)\n",
    "\n",
    "# all-or-nothing\n",
    "function ω(p,α)\n",
    "    k = p[2]\n",
    "    δ = p[1]\n",
    "    return ((1+(1-δ))*n)^α[k] / (n^α[k + kmax])\n",
    "end\n",
    "\n",
    "Ω = allOrNothingIntensityFunction(ω, kmax);"
   ]
  },
  {
   "cell_type": "code",
   "execution_count": 41,
   "metadata": {},
   "outputs": [
    {
     "name": "stdout",
     "output_type": "stream",
     "text": [
      "\n",
      "DYADIC\n",
      "iteration           L_D            Q              NMI       groups    time (s)  \n",
      "--------------------------------------------------------------------------------\n",
      "1                   5612.0         -34687.0       0.68      18        0.03      \n",
      "2                   3221.0         -35385.0       0.77      11        0.011     \n",
      "3                   2726.0         -35621.0       0.77      11        0.01      \n",
      "4                   1694.0         -35929.0       0.8       10        0.012     \n",
      "5                   598.0          -35870.0       0.67      9         0.009     \n",
      "6                   -652.0         -36067.0       0.82      9         0.008     \n",
      "7                   -1016.0        -36029.0       0.91      8         0.055     \n",
      "8                   -1115.0        -35905.0       0.94      8         0.011     \n",
      "9                   -1135.0        -35794.0       0.97      8         0.009     \n",
      "10                  -1115.0        -35648.0       0.97      8         0.009     \n"
     ]
    }
   ],
   "source": [
    "α̂ = α\n",
    "verbose = false\n",
    "maxits = 100\n",
    "randflag = true\n",
    "weighted=false\n",
    "\n",
    "# Zwarm = collect(1:n)  # no warm start\n",
    "\n",
    "println(\"\")\n",
    "\n",
    "println(\"DYADIC\")\n",
    "print(rpad(\"iteration\", 20))\n",
    "print(rpad(\"L_D\", 15))\n",
    "print(rpad(\"Q\", 15))\n",
    "print(rpad(\"NMI\", 10))\n",
    "print(rpad(\"groups\", 10))\n",
    "println(rpad(\"time (s)\", 10))\n",
    "println(rpad(\"\",  80, \"-\"))\n",
    "\n",
    "Ẑ = collect(1:n)\n",
    "Ẑ₁ = Ẑ\n",
    "\n",
    "γ = 5.0\n",
    "for i = 1:10\n",
    "    \n",
    "    tic = time()\n",
    "    \n",
    "    Ẑ = CliqueExpansionModularity(H, γ, false, true);\n",
    "    toc = time()-tic\n",
    "    \n",
    "    γ = computeDyadicResolutionParameter(H, Ẑ)\n",
    "    ω_in, ω_out = computeDyadicResolutionParameter(H, Ẑ; mode=\"ω\", weighted=weighted)\n",
    "    α̂ = learnParameters(H, Ẑ, Ω, α̂; n_iters = 10, amin = -50, amax = 50)\n",
    "    Q = modularity(H, Ẑ, Ω; α = α̂)\n",
    "    \n",
    "    L_D = dyadicLogLikelihood(H, Ẑ, ω_in, ω_out)\n",
    "    \n",
    "    print(rpad(\"$i\", 20))\n",
    "    print(rpad(\"$(round(L_D))\", 15))\n",
    "    print(rpad(\"$(round(Q))\", 15))\n",
    "    print(rpad(\"$(round(mutualInformation(Ẑ₁,Ẑ,true), digits = 2))\", 10))\n",
    "    print(rpad(\"$(length(unique(Ẑ)))\", 10))\n",
    "    println(rpad(\"$(round(toc; digits=3))\", 10))\n",
    "    \n",
    "    Ẑ₁ = Ẑ\n",
    "end"
   ]
  },
  {
   "cell_type": "code",
   "execution_count": 42,
   "metadata": {},
   "outputs": [
    {
     "data": {
      "text/plain": [
       "3-element Array{Tuple{Int64,Int64},1}:\n",
       " (4, 85)\n",
       " (5, 43)\n",
       " (1, 15)"
      ]
     },
     "execution_count": 42,
     "metadata": {},
     "output_type": "execute_result"
    }
   ],
   "source": [
    "D = countmap(Ẑ₁)\n",
    "[(key, val) for (key, val) in D if val > 1]"
   ]
  },
  {
   "cell_type": "code",
   "execution_count": 43,
   "metadata": {},
   "outputs": [
    {
     "name": "stdout",
     "output_type": "stream",
     "text": [
      "Warmstart partition has 32 clusters and modularity -30439.0.\n",
      "\n",
      "POLYADIC\n",
      "iteration           Q              NMI       groups    time (s)  \n",
      "-----------------------------------------------------------------\n",
      "1                   -30108.0       0.67      13        0.033     \n",
      "2                   -30102.0       0.58      11        0.089     \n",
      "3                   -30010.0       0.65      11        0.021     \n",
      "4                   -30058.0       0.85      11        0.02      \n",
      "5                   -30189.0       0.75      11        0.076     \n",
      "6                   -30091.0       0.77      11        0.021     \n",
      "7                   -30138.0       0.86      11        0.021     \n",
      "8                   -30031.0       0.86      11        0.021     \n",
      "9                   -30231.0       0.79      11        0.021     \n",
      "10                  -30180.0       0.79      11        0.018     \n"
     ]
    }
   ],
   "source": [
    "α̂ = α\n",
    "verbose = false\n",
    "maxits = 100\n",
    "randflag = true\n",
    "\n",
    "# Zwarm = collect(1:n)  # no warm start\n",
    "Z_ = CliqueExpansionModularity(H, 10.0);\n",
    "\n",
    "Ẑ = Z_\n",
    "Ẑ₂ = Z_\n",
    "Ω = estimateΩEmpirically(H, Ẑ₂; aggregator = p -> [length(p) == 1, sum(p)])\n",
    "Q = modularity(H, Z_, Ω; α = α)\n",
    "println(\"Warmstart partition has $(maximum(Z_)) clusters and modularity $(round(Q)).\")\n",
    "println(\"\")\n",
    "\n",
    "println(\"POLYADIC\")\n",
    "print(rpad(\"iteration\", 20))\n",
    "print(rpad(\"Q\", 15))\n",
    "print(rpad(\"NMI\", 10))\n",
    "print(rpad(\"groups\", 10))\n",
    "println(rpad(\"time (s)\", 10))\n",
    "println(rpad(\"\",  65, \"-\"))\n",
    "\n",
    "for i = 1:10\n",
    "    \n",
    "    γ = computeDyadicResolutionParameter(H, Ẑ)\n",
    "    Z_ = CliqueExpansionModularity(H, γ);\n",
    "    \n",
    "    tic = time()\n",
    "    Ẑ₂ = SuperNode_PPLouvain(H, Ω; α = α, verbose = false, Z0 = Z_)\n",
    "    toc = time()-tic\n",
    "        \n",
    "    Ω = estimateΩEmpirically(H, Ẑ₂; aggregator = p -> [length(p) == 1, sum(p)])\n",
    "    Q = modularity(H, Ẑ₂, Ω; α = α̂)\n",
    "    \n",
    "    print(rpad(\"$i\", 20))\n",
    "    print(rpad(\"$(round(Q))\", 15))\n",
    "    print(rpad(\"$(round(mutualInformation(Ẑ₂,Ẑ,true), digits = 2))\", 10))\n",
    "    print(rpad(\"$(length(unique(Ẑ₂)))\", 10))\n",
    "    println(rpad(\"$(round(toc; digits=3))\", 10))\n",
    "    \n",
    "    Ẑ = Ẑ₂\n",
    "end"
   ]
  },
  {
   "cell_type": "code",
   "execution_count": 45,
   "metadata": {},
   "outputs": [
    {
     "data": {
      "text/plain": [
       "6-element Array{Tuple{Int64,Int64},1}:\n",
       " (2, 36)\n",
       " (7, 24)\n",
       " (6, 26)\n",
       " (3, 23)\n",
       " (5, 17)\n",
       " (1, 17)"
      ]
     },
     "execution_count": 45,
     "metadata": {},
     "output_type": "execute_result"
    }
   ],
   "source": [
    "D = countmap(Ẑ₂)\n",
    "[(key, val) for (key, val) in D if val > 1]"
   ]
  },
  {
   "cell_type": "code",
   "execution_count": 48,
   "metadata": {},
   "outputs": [
    {
     "data": {
      "text/plain": [
       "4.087174066115985e-133"
      ]
     },
     "execution_count": 48,
     "metadata": {},
     "output_type": "execute_result"
    }
   ],
   "source": [
    "Ω.ω([0, 37], α)"
   ]
  },
  {
   "cell_type": "code",
   "execution_count": 31,
   "metadata": {},
   "outputs": [
    {
     "data": {
      "text/plain": [
       "0.5089291990917897"
      ]
     },
     "execution_count": 31,
     "metadata": {},
     "output_type": "execute_result"
    }
   ],
   "source": [
    "mutualInformation(Ẑ₁, Ẑ₂, true)"
   ]
  },
  {
   "cell_type": "markdown",
   "metadata": {},
   "source": [
    "So it looks like we can see meaningfully different partition structure, but primarily when kmax is relatively low. When kmax is higher there is probably enough signal that both algorithms can find essentially the same partition quite reliably. Bit of a bummer, as there's not really a justifiable reason for restricting kmax to be so low. Maybe we need a different data set to demonstrate our algorithm showing qualitatively different performance in a context that matters?\n",
    "\n",
    "Alternative: use the slow version with different parameterization, and show that that does something interesting. "
   ]
  },
  {
   "cell_type": "code",
   "execution_count": 18,
   "metadata": {},
   "outputs": [
    {
     "name": "stdout",
     "output_type": "stream",
     "text": [
      "\n",
      "polyadic\n",
      "iteration           Q              NMI       groups    time (s)  \n",
      "-----------------------------------------------------------------\n"
     ]
    },
    {
     "ename": "InterruptException",
     "evalue": "InterruptException:",
     "output_type": "error",
     "traceback": [
      "InterruptException:",
      "",
      "Stacktrace:",
      " [1] _BigFloat at ./mpfr.jl:108 [inlined]",
      " [2] BigFloat(; precision::Int64) at ./mpfr.jl:118",
      " [3] BigFloat(::BigInt, ::Base.MPFR.MPFRRoundingMode; precision::Int64) at ./mpfr.jl:222",
      " [4] BigFloat at ./mpfr.jl:222 [inlined] (repeats 2 times)",
      " [5] convert at ./number.jl:7 [inlined]",
      " [6] _promote at ./promotion.jl:259 [inlined]",
      " [7] promote at ./promotion.jl:282 [inlined]",
      " [8] *(::BigInt, ::Float64) at ./promotion.jl:312",
      " [9] (::HypergraphModularity.var\"#objective#90\"{IntensityFunction,Dict{Array{Int64,1},Int64},Dict{Any,Any}})(::Array{Float64,1}) at /home/phil/hypergraph_modularities_code/src/inference.jl:67",
      " [10] G at /home/phil/hypergraph_modularities_code/src/inference.jl:42 [inlined]",
      " [11] (::HypergraphModularity.var\"#87#89\"{HypergraphModularity.var\"#G#88\"{HypergraphModularity.var\"#objective#90\"{IntensityFunction,Dict{Array{Int64,1},Int64},Dict{Any,Any}}},Array{Float64,1},Int64})(::Float64) at /home/phil/hypergraph_modularities_code/src/inference.jl:48",
      " [12] optimize(::HypergraphModularity.var\"#87#89\"{HypergraphModularity.var\"#G#88\"{HypergraphModularity.var\"#objective#90\"{IntensityFunction,Dict{Array{Int64,1},Int64},Dict{Any,Any}}},Array{Float64,1},Int64}, ::Float64, ::Float64, ::Optim.Brent; rel_tol::Float64, abs_tol::Float64, iterations::Int64, store_trace::Bool, show_trace::Bool, callback::Nothing, show_every::Int64, extended_trace::Bool) at /home/phil/.julia/packages/Optim/TNmSw/src/univariate/solvers/brent.jl:143",
      " [13] #optimize#80 at /home/phil/.julia/packages/Optim/TNmSw/src/univariate/optimize/interface.jl:21 [inlined]",
      " [14] optimize at /home/phil/.julia/packages/Optim/TNmSw/src/univariate/optimize/interface.jl:14 [inlined]",
      " [15] #optimize#81 at /home/phil/.julia/packages/Optim/TNmSw/src/univariate/optimize/interface.jl:38 [inlined]",
      " [16] optimize(::HypergraphModularity.var\"#87#89\"{HypergraphModularity.var\"#G#88\"{HypergraphModularity.var\"#objective#90\"{IntensityFunction,Dict{Array{Int64,1},Int64},Dict{Any,Any}}},Array{Float64,1},Int64}, ::Int64, ::Int64) at /home/phil/.julia/packages/Optim/TNmSw/src/univariate/optimize/interface.jl:37",
      " [17] learnParameters(::hypergraph, ::Array{Int64,1}, ::IntensityFunction, ::Array{Float64,1}; n_iters::Int64, amin::Int64, amax::Int64) at /home/phil/hypergraph_modularities_code/src/inference.jl:48",
      " [18] top-level scope at In[18]:28"
     ]
    }
   ],
   "source": [
    "function ω(p, α)\n",
    "    k = sum(p)\n",
    "    return sum(p)/sum((p .* (1:length(p)).^α[k])) / n^(α[kmax+k]*k)\n",
    "end\n",
    "\n",
    "Ω = partitionIntensityFunction(ω, kmax);\n",
    "α̂ = α\n",
    "verbose = false\n",
    "maxits = 100\n",
    "randflag = true\n",
    "weighted=false\n",
    "\n",
    "println(\"\")\n",
    "\n",
    "println(\"polyadic\")\n",
    "print(rpad(\"iteration\", 20))\n",
    "print(rpad(\"Q\", 15))\n",
    "print(rpad(\"NMI\", 10))\n",
    "print(rpad(\"groups\", 10))\n",
    "println(rpad(\"time (s)\", 10))\n",
    "println(rpad(\"\",  65, \"-\"))\n",
    "\n",
    "Ẑ = collect(1:n)\n",
    "Ẑ₂ = Ẑ\n",
    "\n",
    "γ = 1.0\n",
    "Ẑ = CliqueExpansionModularity(H, γ);\n",
    "α̂ = learnParameters(H, Ẑ, Ω, α̂; n_iters = 500, amin = -50, amax = 50)\n",
    "\n",
    "for i = 1:10\n",
    "    \n",
    "    tic = time()\n",
    "    Ẑ = SuperNodeLouvain(H,kmax,Ω;α=α̂, verbose=false, scan_order = \"random\")\n",
    "    toc = time()-tic\n",
    "    α̂ = learnParameters(H, Ẑ, Ω, α̂; n_iters = 500, amin = -50, amax = 50)\n",
    "    Q = modularity(H, Ẑ, Ω; α = α̂)\n",
    "    \n",
    "    print(rpad(\"$i\", 20))\n",
    "    print(rpad(\"$(round(Q))\", 15))\n",
    "    print(rpad(\"$(round(mutualInformation(Ẑ₂,Ẑ,true), digits = 2))\", 10))\n",
    "    print(rpad(\"$(length(unique(Ẑ)))\", 10))\n",
    "    println(rpad(\"$(round(toc; digits=3))\", 10))\n",
    "    \n",
    "    Ẑ₂ = Ẑ\n",
    "end"
   ]
  },
  {
   "cell_type": "code",
   "execution_count": 243,
   "metadata": {},
   "outputs": [
    {
     "data": {
      "text/plain": [
       "2-element Array{Tuple{Int64,Int64},1}:\n",
       " (2, 296)\n",
       " (1, 1419)"
      ]
     },
     "execution_count": 243,
     "metadata": {},
     "output_type": "execute_result"
    }
   ],
   "source": [
    "D = countmap(Ẑ₂)\n",
    "[(key, val) for (key, val) in D if val > 10]"
   ]
  },
  {
   "cell_type": "code",
   "execution_count": null,
   "metadata": {},
   "outputs": [],
   "source": []
  }
 ],
 "metadata": {
  "kernelspec": {
   "display_name": "Julia 1.4.2",
   "language": "julia",
   "name": "julia-1.4"
  },
  "language_info": {
   "file_extension": ".jl",
   "mimetype": "application/julia",
   "name": "julia",
   "version": "1.4.2"
  }
 },
 "nbformat": 4,
 "nbformat_minor": 4
}
