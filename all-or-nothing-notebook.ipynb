{
 "cells": [
  {
   "cell_type": "code",
   "execution_count": 1,
   "metadata": {},
   "outputs": [
    {
     "data": {
      "text/plain": [
       "notsame"
      ]
     },
     "execution_count": 1,
     "metadata": {},
     "output_type": "execute_result"
    }
   ],
   "source": [
    "using Parameters\n",
    "using LinearAlgebra\n",
    "using Combinatorics\n",
    "using StatsBase\n",
    "using NLopt\n",
    "using Random\n",
    "using SparseArrays\n",
    "using Optim\n",
    "\n",
    "# This is a stipped-down version of the original code,\n",
    "# which computes voldiff and cutdiff both ways (old and new), so that\n",
    "# we can compare the two approaches side by side.\n",
    "# In some cases, (e.g. congress bills with kmax = 5)\n",
    "# I've noticed differences in these computations, and I'm not sure why.\n",
    "include(\"src/louvain_vol_computations.jl\")"
   ]
  },
  {
   "cell_type": "code",
   "execution_count": 2,
   "metadata": {},
   "outputs": [
    {
     "data": {
      "text/plain": [
       "(hypergraph\n",
       "  N: Array{Int64}((1718,)) [1, 2, 3, 4, 5, 6, 7, 8, 9, 10  …  1709, 1710, 1711, 1712, 1713, 1714, 1715, 1716, 1717, 1718]\n",
       "  E: Dict{Int64,Dict}\n",
       "  D: Array{Int64}((1718,)) [51, 22, 140, 44, 73, 164, 167, 70, 85, 21  …  51, 43, 29, 64, 48, 29, 9, 3, 0, 2]\n",
       ", [1, 2, 1, 2, 1, 2, 1, 2, 2, 1  …  2, 2, 2, 2, 2, 1, 2, 1, 1, 1])"
      ]
     },
     "execution_count": 2,
     "metadata": {},
     "output_type": "execute_result"
    }
   ],
   "source": [
    "## Read in a dataset\n",
    "dataset = \"congress-bills\"\n",
    "# dataset = \"contact-primary-school-classes\"\n",
    "# dataset = \"TrivagoClickout\"\n",
    "# dataset = \"walmart-trips\"\n",
    "\n",
    "kmax_ = 5\n",
    "\n",
    "H, Z = read_hypergraph_data(dataset,kmax_)"
   ]
  },
  {
   "cell_type": "code",
   "execution_count": 3,
   "metadata": {},
   "outputs": [
    {
     "data": {
      "text/plain": [
       "IntensityFunction(ω, var\"#9#14\"(), [(0, 1), (0, 2), (0, 3), (0, 4), (0, 5), (1, 1), (1, 2), (1, 3), (1, 4), (1, 5)], var\"#11#16\"(), nothing)"
      ]
     },
     "execution_count": 3,
     "metadata": {},
     "output_type": "execute_result"
    }
   ],
   "source": [
    "## Define Omega\n",
    "\n",
    "kmax = maximum(keys(H.E))\n",
    "kmin = minimum(keys(H.E))\n",
    "\n",
    "n = length(H.D)\n",
    "\n",
    "# all-or-nothing\n",
    "function ω(p,α)\n",
    "    k = p[2]\n",
    "    δ = p[1]\n",
    "    return ((1+(1-δ))*n)^α[k] / (n^α[k + kmax])\n",
    "end\n",
    "\n",
    "Ω = allOrNothingIntensityFunction(ω, kmax)"
   ]
  },
  {
   "cell_type": "code",
   "execution_count": 4,
   "metadata": {},
   "outputs": [
    {
     "name": "stdout",
     "output_type": "stream",
     "text": [
      "  0.941356 seconds (2.57 M allocations: 333.432 MiB, 4.61% gc time)\n"
     ]
    }
   ],
   "source": [
    "@time Z_dyadic = CliqueExpansionModularity(H);"
   ]
  },
  {
   "cell_type": "code",
   "execution_count": 5,
   "metadata": {},
   "outputs": [
    {
     "data": {
      "text/plain": [
       "10-element Array{Float64,1}:\n",
       " -11.80339887498949\n",
       "  -8.931683657590579\n",
       "  -7.685855612273574\n",
       "  -7.503171006378569\n",
       "  -7.109466372742029\n",
       " -11.231606811035544\n",
       "  -7.249863846362905\n",
       "  -4.556675913952602\n",
       "  -2.9119792155112365\n",
       "  -0.9998760299723046"
      ]
     },
     "execution_count": 5,
     "metadata": {},
     "output_type": "execute_result"
    }
   ],
   "source": [
    "## Learn alpha\n",
    "α = zeros(2*kmax);\n",
    "α = learnParameters(H, Z_dyadic, Ω, α; n_iters = 1000, amin = -50, amax = 50)"
   ]
  },
  {
   "cell_type": "code",
   "execution_count": 6,
   "metadata": {},
   "outputs": [
    {
     "data": {
      "text/plain": [
       "(false, 4)"
      ]
     },
     "execution_count": 6,
     "metadata": {},
     "output_type": "execute_result"
    }
   ],
   "source": [
    "p = Ω.P([3, 3, 2, 1])\n",
    "a = Ω.aggregator(p)\n",
    "a"
   ]
  },
  {
   "cell_type": "code",
   "execution_count": 7,
   "metadata": {},
   "outputs": [
    {
     "data": {
      "text/plain": [
       "-1.056910161302624276275713533664700478619777431050731297760749680510947095232232e+06"
      ]
     },
     "execution_count": 7,
     "metadata": {},
     "output_type": "execute_result"
    }
   ],
   "source": [
    "## Modularity of this partition\n",
    "Q_dyadic = modularity(H, Z_dyadic, Ω; α = α)"
   ]
  },
  {
   "cell_type": "code",
   "execution_count": 8,
   "metadata": {},
   "outputs": [
    {
     "data": {
      "text/plain": [
       "5-element Array{Float64,1}:\n",
       " 0.014129210814019905\n",
       " 3.617292971672843e-6\n",
       " 7.497507332445864e-11\n",
       " 1.3963288510822363e-15\n",
       " 1.7067790202143493e-20"
      ]
     },
     "execution_count": 8,
     "metadata": {},
     "output_type": "execute_result"
    }
   ],
   "source": [
    "## Convert hypergraph to new input types\n",
    "include(\"src/AON_hyperlouvain.jl\")\n",
    "cut_weights, vol_weights, e2n, n2e,w,d,elen = AON_Inputs(H,ω,α,kmax);\n",
    "vol_weights\n",
    "# @assert(d == H.D)"
   ]
  },
  {
   "cell_type": "code",
   "execution_count": 9,
   "metadata": {},
   "outputs": [
    {
     "name": "stdout",
     "output_type": "stream",
     "text": [
      "Louvain Iteration 1\n",
      "Louvain Iteration 2\n",
      "Louvain Iteration 3\n",
      "Louvain Iteration 4\n",
      "Louvain Iteration 5\n",
      "Louvain Iteration 6\n",
      "Louvain Iteration 7\n",
      "Louvain Iteration 8\n",
      "Louvain Iteration 9\n",
      "Louvain Iteration 10\n",
      "Louvain Iteration 11\n",
      "Louvain Iteration 12\n",
      "mainloop = 32.76590895652771\n",
      "Old Version: 25 clusters, 34.473509073257446 sec\n"
     ]
    }
   ],
   "source": [
    "## Original version\n",
    "include(\"src/louvain_vol_computations.jl\")\n",
    "# set this to true to see how the voldiff computations \n",
    "# differ between the two approaches\n",
    "printvoldiff = true \n",
    "tic = time()\n",
    "Z = HyperLouvain_Vols(H, kmax, cut_weights, vol_weights, Ω, printvoldiff; α=α, verbose = true);\n",
    "runtime = time()-tic\n",
    "numclus_old = length(unique(Z))\n",
    "println(\"Old Version: $numclus_old clusters, $runtime sec\")"
   ]
  },
  {
   "cell_type": "code",
   "execution_count": 10,
   "metadata": {},
   "outputs": [
    {
     "name": "stdout",
     "output_type": "stream",
     "text": [
      "One step of all-or-nothing HyperLouvain\n",
      "\n",
      "Louvain Iteration 1\n",
      "Louvain Iteration 2\n",
      "Louvain Iteration 3\n",
      "Louvain Iteration 4\n",
      "Louvain Iteration 5\n",
      "Louvain Iteration 6\n",
      "Louvain Iteration 7\n",
      "Louvain Iteration 8\n",
      "Louvain Iteration 9\n",
      "Louvain Iteration 10\n",
      "Louvain Iteration 11\n",
      "Louvain Iteration 12\n",
      "Main loop took 0.4833030700683594 seconds\n",
      "New Version: 25 clusters, 0.8927738666534424 sec\n"
     ]
    }
   ],
   "source": [
    "## Run one step of new approach\n",
    "tic = time()\n",
    "Z, improved = ANHL_Step(n2e,e2n,w, d,elen,cut_weights, vol_weights,kmax)\n",
    "runtime = time()-tic\n",
    "clus = length(unique(Z))\n",
    "println(\"New Version: $clus clusters, $runtime sec\")"
   ]
  },
  {
   "cell_type": "code",
   "execution_count": 11,
   "metadata": {},
   "outputs": [
    {
     "name": "stdout",
     "output_type": "stream",
     "text": [
      "One step of all-or-nothing HyperLouvain\n",
      "\n",
      "Louvain Iteration 1\n",
      "Louvain Iteration 2\n",
      "Louvain Iteration 3\n",
      "Louvain Iteration 4\n",
      "Louvain Iteration 5\n",
      "Louvain Iteration 6\n",
      "Louvain Iteration 7\n",
      "Louvain Iteration 8\n",
      "Louvain Iteration 9\n",
      "Louvain Iteration 10\n",
      "Louvain Iteration 11\n",
      "Louvain Iteration 12\n",
      "Main loop took 0.5496470928192139 seconds\n",
      "One step of all-or-nothing HyperLouvain\n",
      "\n",
      "Louvain Iteration 1\n",
      "Louvain Iteration 2\n",
      "Main loop took 0.0001480579376220703 seconds\n",
      "One step of all-or-nothing HyperLouvain\n",
      "\n",
      "Louvain Iteration 1\n",
      "No nodes moved clusters\n",
      "Main loop took 7.295608520507812e-5 seconds\n",
      "  0.914762 seconds (3.24 M allocations: 424.401 MiB, 7.79% gc time)\n"
     ]
    }
   ],
   "source": [
    "## Full supernode version\n",
    "verbose = true\n",
    "maxits = 100\n",
    "randflag = true\n",
    "# Zwarm = Z_dyadic    # can optionally specify a warm start clustering\n",
    "Zwarm = collect(1:n)  # no warm start\n",
    "@time Zs = SuperNode_PPLouvain(n2e,e2n,w,d,elen,cut_weights,vol_weights,kmax,randflag,maxits,verbose,Zwarm);"
   ]
  },
  {
   "cell_type": "code",
   "execution_count": null,
   "metadata": {},
   "outputs": [],
   "source": []
  }
 ],
 "metadata": {
  "kernelspec": {
   "display_name": "Julia 1.3.1",
   "language": "julia",
   "name": "julia-1.3"
  },
  "language_info": {
   "file_extension": ".jl",
   "mimetype": "application/julia",
   "name": "julia",
   "version": "1.3.1"
  }
 },
 "nbformat": 4,
 "nbformat_minor": 4
}
