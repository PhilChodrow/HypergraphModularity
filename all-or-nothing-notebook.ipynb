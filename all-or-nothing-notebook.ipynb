{
 "cells": [
  {
   "cell_type": "code",
   "execution_count": 1,
   "metadata": {},
   "outputs": [
    {
     "data": {
      "text/plain": [
       "notsame"
      ]
     },
     "execution_count": 1,
     "metadata": {},
     "output_type": "execute_result"
    }
   ],
   "source": [
    "using Parameters\n",
    "using LinearAlgebra\n",
    "using Combinatorics\n",
    "using StatsBase\n",
    "using NLopt\n",
    "using Random\n",
    "using SparseArrays\n",
    "using Optim\n",
    "\n",
    "# This is a stipped-down version of the original code,\n",
    "# which computes voldiff and cutdiff both ways (old and new), so that\n",
    "# we can compare the two approaches side by side.\n",
    "# In some cases, (e.g. congress bills with kmax = 5)\n",
    "# I've noticed differences in these computations, and I'm not sure why.\n",
    "include(\"src/louvain_vol_computations.jl\")"
   ]
  },
  {
   "cell_type": "code",
   "execution_count": 2,
   "metadata": {},
   "outputs": [
    {
     "data": {
      "text/plain": [
       "(hypergraph\n",
       "  N: Array{Int64}((1718,)) [1, 2, 3, 4, 5, 6, 7, 8, 9, 10  …  1709, 1710, 1711, 1712, 1713, 1714, 1715, 1716, 1717, 1718]\n",
       "  E: Dict{Int64,Dict}\n",
       "  D: Array{Int64}((1718,)) [55, 30, 171, 60, 89, 192, 208, 84, 106, 27  …  63, 49, 34, 82, 60, 32, 9, 4, 0, 2]\n",
       ", [1, 2, 1, 2, 1, 2, 1, 2, 2, 1  …  2, 2, 2, 2, 2, 1, 2, 1, 1, 1])"
      ]
     },
     "execution_count": 2,
     "metadata": {},
     "output_type": "execute_result"
    }
   ],
   "source": [
    "## Read in a dataset\n",
    "dataset = \"congress-bills\"\n",
    "# dataset = \"contact-primary-school-classes\"\n",
    "# dataset = \"TrivagoClickout\"\n",
    "# dataset = \"walmart-trips\"\n",
    "\n",
    "kmax_ = 6\n",
    "\n",
    "H, Z = read_hypergraph_data(dataset,kmax_)"
   ]
  },
  {
   "cell_type": "code",
   "execution_count": 3,
   "metadata": {},
   "outputs": [
    {
     "data": {
      "text/plain": [
       "IntensityFunction(ω, var\"#9#14\"(), [(0, 1), (0, 2), (0, 3), (0, 4), (0, 5), (0, 6), (1, 1), (1, 2), (1, 3), (1, 4), (1, 5), (1, 6)], var\"#11#16\"(), nothing)"
      ]
     },
     "execution_count": 3,
     "metadata": {},
     "output_type": "execute_result"
    }
   ],
   "source": [
    "## Define Omega\n",
    "\n",
    "kmax = maximum(keys(H.E))\n",
    "kmin = minimum(keys(H.E))\n",
    "if kmin ==1\n",
    "    H.E[1] = Dict()\n",
    "end\n",
    "\n",
    "n = length(H.D)\n",
    "\n",
    "# all-or-nothing\n",
    "function ω(p,α)\n",
    "    k = p[2]\n",
    "    δ = p[1]\n",
    "    return ((1+(1-δ))*n)^α[k] / (n^α[k + kmax])\n",
    "end\n",
    "\n",
    "Ω = allOrNothingIntensityFunction(ω, kmax)\n"
   ]
  },
  {
   "cell_type": "code",
   "execution_count": 4,
   "metadata": {},
   "outputs": [
    {
     "name": "stdout",
     "output_type": "stream",
     "text": [
      "  1.543300 seconds (3.04 M allocations: 409.297 MiB, 16.21% gc time)\n"
     ]
    }
   ],
   "source": [
    "@time Z_dyadic = CliqueExpansionModularity(H);"
   ]
  },
  {
   "cell_type": "code",
   "execution_count": 5,
   "metadata": {},
   "outputs": [
    {
     "data": {
      "text/plain": [
       "12-element Array{Float64,1}:\n",
       " -11.80339887498949\n",
       "  -9.984141419283793\n",
       "  -9.749702007425228\n",
       "  -9.330771357468702\n",
       "  -9.084913145332889\n",
       "  -7.547378808059866\n",
       "  11.80339887498948\n",
       "  -8.19690105585436\n",
       "  -6.439104284143808\n",
       "  -4.493095409442233\n",
       "  -2.7088181524465016\n",
       "   0.3835993847103965"
      ]
     },
     "execution_count": 5,
     "metadata": {},
     "output_type": "execute_result"
    }
   ],
   "source": [
    "## Learn alpha\n",
    "α = zeros(2*kmax);\n",
    "α = learnParameters(H, Z_dyadic, Ω, α; n_iters = 1000, amin = -50, amax = 50)"
   ]
  },
  {
   "cell_type": "code",
   "execution_count": 7,
   "metadata": {},
   "outputs": [
    {
     "data": {
      "text/plain": [
       "-1.369356807677881889619057145865031285180528669709084786138308852485586135454607e+06"
      ]
     },
     "execution_count": 7,
     "metadata": {},
     "output_type": "execute_result"
    }
   ],
   "source": [
    "## I'm not sure why this doesn't work to check the modularity of this partition\n",
    "Q_dyadic = modularity(H, Z_dyadic, Ω; α = α)"
   ]
  },
  {
   "cell_type": "code",
   "execution_count": 7,
   "metadata": {},
   "outputs": [],
   "source": [
    "## Convert hypergraph to new input types\n",
    "include(\"src/AON_hyperlouvain.jl\")\n",
    "cut_weights, vol_weights, e2n, n2e,w,d,elen = AON_Inputs(H,ω,α,kmax);\n"
   ]
  },
  {
   "cell_type": "code",
   "execution_count": 14,
   "metadata": {},
   "outputs": [
    {
     "name": "stdout",
     "output_type": "stream",
     "text": [
      "Louvain Iteration 1\n",
      "Louvain Iteration 2\n",
      "Louvain Iteration 3\n",
      "Louvain Iteration 4\n",
      "Louvain Iteration 5\n",
      "mainloop = 43.75273299217224\n",
      "Old Version: 11 clusters, 44.1561119556427 sec\n"
     ]
    }
   ],
   "source": [
    "## Original version\n",
    "\n",
    "# set this to true to see how the voldiff computations \n",
    "# differ between the two approaches\n",
    "printvoldiff = false  \n",
    "tic = time()\n",
    "Z = HyperLouvain_Vols(H, kmax, cut_weights, vol_weights, Ω, printvoldiff; α=α, verbose = true);\n",
    "runtime = time()-tic\n",
    "numclus_old = length(unique(Z))\n",
    "println(\"Old Version: $numclus_old clusters, $runtime sec\")\n"
   ]
  },
  {
   "cell_type": "code",
   "execution_count": 15,
   "metadata": {},
   "outputs": [
    {
     "name": "stdout",
     "output_type": "stream",
     "text": [
      "One step of all-or-nothing HyperLouvain\n",
      "\n",
      "Louvain Iteration 1\n",
      "Louvain Iteration 2\n",
      "Louvain Iteration 3\n",
      "Louvain Iteration 4\n",
      "Louvain Iteration 5\n",
      "Main loop took 0.3394150733947754 seconds\n",
      "New Version: 11 clusters, 0.5627901554107666 sec\n"
     ]
    }
   ],
   "source": [
    "## Run one step of new approach\n",
    "tic = time()\n",
    "Z, improved = ANHL_Step(n2e,e2n,w, d,elen,cut_weights, vol_weights,kmax)\n",
    "runtime = time()-tic\n",
    "clus = length(unique(Z))\n",
    "println(\"New Version: $clus clusters, $runtime sec\")"
   ]
  },
  {
   "cell_type": "code",
   "execution_count": 16,
   "metadata": {},
   "outputs": [
    {
     "name": "stdout",
     "output_type": "stream",
     "text": [
      "One step of all-or-nothing HyperLouvain\n",
      "\n",
      "Louvain Iteration 1\n",
      "Louvain Iteration 2\n",
      "Louvain Iteration 3\n",
      "Louvain Iteration 4\n",
      "Louvain Iteration 5\n",
      "Main loop took 0.47547101974487305 seconds\n",
      "One step of all-or-nothing HyperLouvain\n",
      "\n",
      "Louvain Iteration 1\n",
      "No nodes moved clusters\n",
      "Main loop took 0.0001010894775390625 seconds\n",
      "  0.913364 seconds (2.57 M allocations: 290.927 MiB, 21.48% gc time)\n"
     ]
    }
   ],
   "source": [
    "## Full supernode version\n",
    "verbose = true\n",
    "maxits = 100\n",
    "randflag = true\n",
    "# Zwarm = Z_dyadic    # can optionally specify a warm start clustering\n",
    "Zwarm = collect(1:n)  # no warm start\n",
    "@time Zs = SuperNode_PPLouvain(n2e,e2n,w,d,elen,cut_weights,vol_weights,kmax,randflag,maxits,verbose,Zwarm);"
   ]
  },
  {
   "cell_type": "code",
   "execution_count": 20,
   "metadata": {},
   "outputs": [
    {
     "data": {
      "text/plain": [
       "6-element Array{Float64,1}:\n",
       " 4.2789876363997184e-77\n",
       " 1.6512278976568762e-6 \n",
       " 1.9482062564750627e-11\n",
       " 2.2352768226292953e-16\n",
       " 2.357135508785145e-21 \n",
       " 2.191664137568531e-26 "
      ]
     },
     "execution_count": 20,
     "metadata": {},
     "output_type": "execute_result"
    }
   ],
   "source": [
    "vol_weights"
   ]
  },
  {
   "cell_type": "code",
   "execution_count": null,
   "metadata": {},
   "outputs": [],
   "source": []
  }
 ],
 "metadata": {
  "kernelspec": {
   "display_name": "Julia 1.4.2",
   "language": "julia",
   "name": "julia-1.4"
  },
  "language_info": {
   "file_extension": ".jl",
   "mimetype": "application/julia",
   "name": "julia",
   "version": "1.4.2"
  }
 },
 "nbformat": 4,
 "nbformat_minor": 4
}
