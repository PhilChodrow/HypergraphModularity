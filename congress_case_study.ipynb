{
 "cells": [
  {
   "cell_type": "code",
   "execution_count": 85,
   "metadata": {},
   "outputs": [
    {
     "name": "stderr",
     "output_type": "stream",
     "text": [
      "\u001b[32m\u001b[1m Activating\u001b[22m\u001b[39m environment at `~/hypergraph_modularities_code/Project.toml`\n"
     ]
    }
   ],
   "source": [
    "using Pkg; Pkg.activate(\".\")\n",
    "using HypergraphModularity\n",
    "\n",
    "using StatsBase"
   ]
  },
  {
   "cell_type": "code",
   "execution_count": 132,
   "metadata": {},
   "outputs": [],
   "source": [
    "# dataset = \"contact-primary-school-classes\"\n",
    "dataset = \"congress-bills\"\n",
    "# dataset = \"walmart-trips\"\n",
    "# dataset = \"TrivagoClickout\"\n",
    "kmax_ = 20\n",
    "\n",
    "H, Z = read_hypergraph_data(dataset,kmax_)\n",
    "α = zeros(2*kmax_);\n",
    "\n",
    "kmax = maximum(keys(H.E))\n",
    "kmin = minimum(keys(H.E))\n",
    "\n",
    "n = length(H.D)\n",
    "\n",
    "# all-or-nothing\n",
    "function ω(p,α)\n",
    "    k = p[2]\n",
    "    δ = p[1]\n",
    "    return ((1+(1-δ))*n)^α[k] / (n^α[k + kmax])\n",
    "end\n",
    "\n",
    "Ω = allOrNothingIntensityFunction(ω, kmax);"
   ]
  },
  {
   "cell_type": "code",
   "execution_count": 135,
   "metadata": {},
   "outputs": [
    {
     "name": "stdout",
     "output_type": "stream",
     "text": [
      "-6.415964e+06    2    9.195397156\n"
     ]
    }
   ],
   "source": [
    "# warmstart\n",
    "\n",
    "H_ = H\n",
    "Z_ = Z\n",
    "\n",
    "ωᵢ = 2.0\n",
    "ωₒ = 0.6\n",
    "function ω(p, α)\n",
    "    num = p[1] == 1 ? ωᵢ : ωₒ\n",
    "    denom = big(sum(H_.D))^sum(p[2])\n",
    "    return 10000*num / denom\n",
    "end\n",
    "\n",
    "Ω = allOrNothingIntensityFunction(ω, maximum(keys(H_.E)));\n",
    "\n",
    "Ẑ, t = @timed SuperNode_PPLouvain(H_, Ω; α = 0, verbose = false, Z0 = collect(1:n), clusterpenalty = n)\n",
    "Ω̂ = estimateΩEmpirically(H_, Ẑ; aggregator = p -> [length(p) == 1, sum(p)], bigNums = true);\n",
    "Q = modularity(H_, Ẑ, Ω̂; α = nothing) - n*log(length(unique(Z)))\n",
    "k = length(unique(Ẑ))\n",
    "println(round(Q - n * log(k)), \"    \", k, \"    \", t)"
   ]
  },
  {
   "cell_type": "code",
   "execution_count": 136,
   "metadata": {},
   "outputs": [
    {
     "data": {
      "text/plain": [
       "Dict{Int64,Int64} with 2 entries:\n",
       "  2 => 296\n",
       "  1 => 1422"
      ]
     },
     "execution_count": 136,
     "metadata": {},
     "output_type": "execute_result"
    }
   ],
   "source": [
    "countmap(Ẑ)"
   ]
  },
  {
   "cell_type": "code",
   "execution_count": 137,
   "metadata": {},
   "outputs": [
    {
     "data": {
      "text/plain": [
       "(hypergraph\n",
       "  N: Array{Int64}((1422,)) [1, 2, 3, 4, 5, 6, 7, 8, 9, 10  …  1413, 1414, 1415, 1416, 1417, 1418, 1419, 1420, 1421, 1422]\n",
       "  E: Dict{Int64,Dict}\n",
       "  D: Array{Int64}((1422,)) [85, 78, 664, 145, 410, 374, 739, 150, 312, 82  …  21, 17, 15, 14, 28, 8, 22, 10, 2, 4]\n",
       ", [1, 2, 1, 2, 1, 2, 1, 2, 2, 1  …  2, 1, 1, 2, 2, 1, 2, 1, 2, 2])"
      ]
     },
     "execution_count": 137,
     "metadata": {},
     "output_type": "execute_result"
    }
   ],
   "source": [
    "H₁, Z₁ = subHypergraph(H_, Ẑ .== 1, Z_)"
   ]
  },
  {
   "cell_type": "code",
   "execution_count": 161,
   "metadata": {},
   "outputs": [],
   "source": [
    "H_ = H₁\n",
    "n = length(H_.D)\n",
    "\n",
    "function ω(p, α)\n",
    "    num = p[1] == 1 ? ωᵢ : ωₒ\n",
    "    denom = big(sum(H_.D))^sum(p[2])\n",
    "    return 5000*num / denom\n",
    "end\n",
    "Ω = allOrNothingIntensityFunction(ω, maximum(keys(H_.E)));\n",
    "\n",
    "Ẑ, t = @timed SuperNode_PPLouvain(H_, Ω; α = 0, verbose = false, Z0 = collect(1:n), clusterpenalty = n)\n",
    "Ω̂ = estimateΩEmpirically(H_, Ẑ; aggregator = p -> [length(p) == 1, sum(p)], bigNums = true);"
   ]
  },
  {
   "cell_type": "code",
   "execution_count": 165,
   "metadata": {},
   "outputs": [
    {
     "name": "stdout",
     "output_type": "stream",
     "text": [
      "-2.456908e+06    -1562.0   -2.45847e+06    3    6.600668318\n",
      "-2.456909e+06    -1562.0   -2.458471e+06    3    6.975085182\n",
      "-2.456902e+06    -1562.0   -2.458464e+06    3    7.015002787\n",
      "-2.456909e+06    -1562.0   -2.458471e+06    3    6.953005506\n",
      "-2.456924e+06    -1562.0   -2.458486e+06    3    6.814745012\n",
      "-2.456923e+06    -1562.0   -2.458485e+06    3    7.469246821\n",
      "-2.456902e+06    -1562.0   -2.458464e+06    3    9.441408381\n",
      "-2.456903e+06    -1562.0   -2.458465e+06    3    5.918561375\n",
      "-2.456903e+06    -1562.0   -2.458465e+06    3    8.746816755\n",
      "-2.456903e+06    -1562.0   -2.458465e+06    3    6.234023045\n"
     ]
    }
   ],
   "source": [
    "for i ∈ 1:10\n",
    "    Ẑ, t = @timed SuperNode_PPLouvain(H_, Ω̂; α = 0, verbose = false, Z0 = collect(1:n), clusterpenalty = n)\n",
    "    Ω̂ = estimateΩEmpirically(H_, Ẑ; aggregator = p -> [length(p) == 1, sum(p)], bigNums = true);\n",
    "    Q = modularity(H_, Ẑ, Ω̂; α = nothing)\n",
    "    k = length(unique(Ẑ))\n",
    "    penalty = round( - n * log(k))\n",
    "    println(round(Q), \"    \", penalty , \"   \", round(Q + penalty),\"    \", k, \"    \", t)\n",
    "end"
   ]
  },
  {
   "cell_type": "code",
   "execution_count": 166,
   "metadata": {},
   "outputs": [
    {
     "data": {
      "text/plain": [
       "0.013242278762364171"
      ]
     },
     "execution_count": 166,
     "metadata": {},
     "output_type": "execute_result"
    }
   ],
   "source": [
    "mutualInformation(Z₁, Ẑ, true)"
   ]
  },
  {
   "cell_type": "code",
   "execution_count": 167,
   "metadata": {},
   "outputs": [
    {
     "data": {
      "text/plain": [
       "-2.667401478500734530572340913039629378696513773550648710305325461248305604837027e+06"
      ]
     },
     "execution_count": 167,
     "metadata": {},
     "output_type": "execute_result"
    }
   ],
   "source": [
    "# labels are much lower likelihood\n",
    "\n",
    "Ω = estimateΩEmpirically(H_, Z₁; aggregator = p -> [length(p) == 1, sum(p)], bigNums = true);\n",
    "Q = modularity(H_, Z₁, Ω̂; α = nothing)"
   ]
  },
  {
   "cell_type": "code",
   "execution_count": 169,
   "metadata": {},
   "outputs": [
    {
     "data": {
      "image/svg+xml": [
       "<?xml version=\"1.0\" encoding=\"utf-8\"?>\n",
       "<svg xmlns=\"http://www.w3.org/2000/svg\" xmlns:xlink=\"http://www.w3.org/1999/xlink\" width=\"600\" height=\"400\" viewBox=\"0 0 2400 1600\">\n",
       "<defs>\n",
       "  <clipPath id=\"clip240\">\n",
       "    <rect x=\"0\" y=\"0\" width=\"2400\" height=\"1600\"/>\n",
       "  </clipPath>\n",
       "</defs>\n",
       "<path clip-path=\"url(#clip240)\" d=\"\n",
       "M0 1600 L2400 1600 L2400 0 L0 0  Z\n",
       "  \" fill=\"#ffffff\" fill-rule=\"evenodd\" fill-opacity=\"1\"/>\n",
       "<defs>\n",
       "  <clipPath id=\"clip241\">\n",
       "    <rect x=\"480\" y=\"0\" width=\"1681\" height=\"1600\"/>\n",
       "  </clipPath>\n",
       "</defs>\n",
       "<path clip-path=\"url(#clip240)\" d=\"\n",
       "M179.283 1486.45 L2352.76 1486.45 L2352.76 47.2441 L179.283 47.2441  Z\n",
       "  \" fill=\"#ffffff\" fill-rule=\"evenodd\" fill-opacity=\"1\"/>\n",
       "<defs>\n",
       "  <clipPath id=\"clip242\">\n",
       "    <rect x=\"179\" y=\"47\" width=\"2174\" height=\"1440\"/>\n",
       "  </clipPath>\n",
       "</defs>\n",
       "<polyline clip-path=\"url(#clip242)\" style=\"stroke:#000000; stroke-width:2; stroke-opacity:0.1; fill:none\" points=\"\n",
       "  582.538,1486.45 582.538,47.2441 \n",
       "  \"/>\n",
       "<polyline clip-path=\"url(#clip242)\" style=\"stroke:#000000; stroke-width:2; stroke-opacity:0.1; fill:none\" points=\"\n",
       "  1152.11,1486.45 1152.11,47.2441 \n",
       "  \"/>\n",
       "<polyline clip-path=\"url(#clip242)\" style=\"stroke:#000000; stroke-width:2; stroke-opacity:0.1; fill:none\" points=\"\n",
       "  1721.67,1486.45 1721.67,47.2441 \n",
       "  \"/>\n",
       "<polyline clip-path=\"url(#clip242)\" style=\"stroke:#000000; stroke-width:2; stroke-opacity:0.1; fill:none\" points=\"\n",
       "  2291.24,1486.45 2291.24,47.2441 \n",
       "  \"/>\n",
       "<polyline clip-path=\"url(#clip242)\" style=\"stroke:#000000; stroke-width:2; stroke-opacity:0.1; fill:none\" points=\"\n",
       "  179.283,1200.98 2352.76,1200.98 \n",
       "  \"/>\n",
       "<polyline clip-path=\"url(#clip242)\" style=\"stroke:#000000; stroke-width:2; stroke-opacity:0.1; fill:none\" points=\"\n",
       "  179.283,900.042 2352.76,900.042 \n",
       "  \"/>\n",
       "<polyline clip-path=\"url(#clip242)\" style=\"stroke:#000000; stroke-width:2; stroke-opacity:0.1; fill:none\" points=\"\n",
       "  179.283,599.098 2352.76,599.098 \n",
       "  \"/>\n",
       "<polyline clip-path=\"url(#clip242)\" style=\"stroke:#000000; stroke-width:2; stroke-opacity:0.1; fill:none\" points=\"\n",
       "  179.283,298.155 2352.76,298.155 \n",
       "  \"/>\n",
       "<polyline clip-path=\"url(#clip240)\" style=\"stroke:#000000; stroke-width:4; stroke-opacity:1; fill:none\" points=\"\n",
       "  179.283,1486.45 2352.76,1486.45 \n",
       "  \"/>\n",
       "<polyline clip-path=\"url(#clip240)\" style=\"stroke:#000000; stroke-width:4; stroke-opacity:1; fill:none\" points=\"\n",
       "  179.283,1486.45 179.283,47.2441 \n",
       "  \"/>\n",
       "<polyline clip-path=\"url(#clip240)\" style=\"stroke:#000000; stroke-width:4; stroke-opacity:1; fill:none\" points=\"\n",
       "  582.538,1486.45 582.538,1469.18 \n",
       "  \"/>\n",
       "<polyline clip-path=\"url(#clip240)\" style=\"stroke:#000000; stroke-width:4; stroke-opacity:1; fill:none\" points=\"\n",
       "  1152.11,1486.45 1152.11,1469.18 \n",
       "  \"/>\n",
       "<polyline clip-path=\"url(#clip240)\" style=\"stroke:#000000; stroke-width:4; stroke-opacity:1; fill:none\" points=\"\n",
       "  1721.67,1486.45 1721.67,1469.18 \n",
       "  \"/>\n",
       "<polyline clip-path=\"url(#clip240)\" style=\"stroke:#000000; stroke-width:4; stroke-opacity:1; fill:none\" points=\"\n",
       "  2291.24,1486.45 2291.24,1469.18 \n",
       "  \"/>\n",
       "<polyline clip-path=\"url(#clip240)\" style=\"stroke:#000000; stroke-width:4; stroke-opacity:1; fill:none\" points=\"\n",
       "  179.283,1200.98 205.365,1200.98 \n",
       "  \"/>\n",
       "<polyline clip-path=\"url(#clip240)\" style=\"stroke:#000000; stroke-width:4; stroke-opacity:1; fill:none\" points=\"\n",
       "  179.283,900.042 205.365,900.042 \n",
       "  \"/>\n",
       "<polyline clip-path=\"url(#clip240)\" style=\"stroke:#000000; stroke-width:4; stroke-opacity:1; fill:none\" points=\"\n",
       "  179.283,599.098 205.365,599.098 \n",
       "  \"/>\n",
       "<polyline clip-path=\"url(#clip240)\" style=\"stroke:#000000; stroke-width:4; stroke-opacity:1; fill:none\" points=\"\n",
       "  179.283,298.155 205.365,298.155 \n",
       "  \"/>\n",
       "<path clip-path=\"url(#clip240)\" d=\"M 0 0 M572.815 1505.36 L591.172 1505.36 L591.172 1509.3 L577.098 1509.3 L577.098 1517.77 Q578.116 1517.42 579.135 1517.26 Q580.153 1517.07 581.172 1517.07 Q586.959 1517.07 590.339 1520.24 Q593.718 1523.42 593.718 1528.83 Q593.718 1534.41 590.246 1537.51 Q586.774 1540.59 580.454 1540.59 Q578.278 1540.59 576.01 1540.22 Q573.765 1539.85 571.357 1539.11 L571.357 1534.41 Q573.44 1535.54 575.663 1536.1 Q577.885 1536.66 580.362 1536.66 Q584.366 1536.66 586.704 1534.55 Q589.042 1532.44 589.042 1528.83 Q589.042 1525.22 586.704 1523.11 Q584.366 1521.01 580.362 1521.01 Q578.487 1521.01 576.612 1521.42 Q574.76 1521.84 572.815 1522.72 L572.815 1505.36 Z\" fill=\"#000000\" fill-rule=\"evenodd\" fill-opacity=\"1\" /><path clip-path=\"url(#clip240)\" d=\"M 0 0 M1128.98 1535.98 L1136.62 1535.98 L1136.62 1509.62 L1128.31 1511.29 L1128.31 1507.03 L1136.57 1505.36 L1141.25 1505.36 L1141.25 1535.98 L1148.89 1535.98 L1148.89 1539.92 L1128.98 1539.92 L1128.98 1535.98 Z\" fill=\"#000000\" fill-rule=\"evenodd\" fill-opacity=\"1\" /><path clip-path=\"url(#clip240)\" d=\"M 0 0 M1163.96 1508.44 Q1160.35 1508.44 1158.52 1512 Q1156.71 1515.55 1156.71 1522.67 Q1156.71 1529.78 1158.52 1533.35 Q1160.35 1536.89 1163.96 1536.89 Q1167.59 1536.89 1169.4 1533.35 Q1171.23 1529.78 1171.23 1522.67 Q1171.23 1515.55 1169.4 1512 Q1167.59 1508.44 1163.96 1508.44 M1163.96 1504.73 Q1169.77 1504.73 1172.82 1509.34 Q1175.9 1513.92 1175.9 1522.67 Q1175.9 1531.4 1172.82 1536.01 Q1169.77 1540.59 1163.96 1540.59 Q1158.15 1540.59 1155.07 1536.01 Q1152.01 1531.4 1152.01 1522.67 Q1152.01 1513.92 1155.07 1509.34 Q1158.15 1504.73 1163.96 1504.73 Z\" fill=\"#000000\" fill-rule=\"evenodd\" fill-opacity=\"1\" /><path clip-path=\"url(#clip240)\" d=\"M 0 0 M1699.05 1535.98 L1706.69 1535.98 L1706.69 1509.62 L1698.38 1511.29 L1698.38 1507.03 L1706.64 1505.36 L1711.32 1505.36 L1711.32 1535.98 L1718.95 1535.98 L1718.95 1539.92 L1699.05 1539.92 L1699.05 1535.98 Z\" fill=\"#000000\" fill-rule=\"evenodd\" fill-opacity=\"1\" /><path clip-path=\"url(#clip240)\" d=\"M 0 0 M1724.07 1505.36 L1742.43 1505.36 L1742.43 1509.3 L1728.35 1509.3 L1728.35 1517.77 Q1729.37 1517.42 1730.39 1517.26 Q1731.41 1517.07 1732.43 1517.07 Q1738.21 1517.07 1741.59 1520.24 Q1744.97 1523.42 1744.97 1528.83 Q1744.97 1534.41 1741.5 1537.51 Q1738.03 1540.59 1731.71 1540.59 Q1729.53 1540.59 1727.26 1540.22 Q1725.02 1539.85 1722.61 1539.11 L1722.61 1534.41 Q1724.7 1535.54 1726.92 1536.1 Q1729.14 1536.66 1731.62 1536.66 Q1735.62 1536.66 1737.96 1534.55 Q1740.3 1532.44 1740.3 1528.83 Q1740.3 1525.22 1737.96 1523.11 Q1735.62 1521.01 1731.62 1521.01 Q1729.74 1521.01 1727.87 1521.42 Q1726.01 1521.84 1724.07 1522.72 L1724.07 1505.36 Z\" fill=\"#000000\" fill-rule=\"evenodd\" fill-opacity=\"1\" /><path clip-path=\"url(#clip240)\" d=\"M 0 0 M2272.39 1535.98 L2288.71 1535.98 L2288.71 1539.92 L2266.76 1539.92 L2266.76 1535.98 Q2269.43 1533.23 2274.01 1528.6 Q2278.62 1523.95 2279.8 1522.61 Q2282.04 1520.08 2282.92 1518.35 Q2283.82 1516.59 2283.82 1514.9 Q2283.82 1512.14 2281.88 1510.41 Q2279.96 1508.67 2276.86 1508.67 Q2274.66 1508.67 2272.2 1509.43 Q2269.77 1510.2 2266.99 1511.75 L2266.99 1507.03 Q2269.82 1505.89 2272.27 1505.31 Q2274.73 1504.73 2276.76 1504.73 Q2282.13 1504.73 2285.33 1507.42 Q2288.52 1510.11 2288.52 1514.6 Q2288.52 1516.73 2287.71 1518.65 Q2286.93 1520.54 2284.82 1523.14 Q2284.24 1523.81 2281.14 1527.03 Q2278.04 1530.22 2272.39 1535.98 Z\" fill=\"#000000\" fill-rule=\"evenodd\" fill-opacity=\"1\" /><path clip-path=\"url(#clip240)\" d=\"M 0 0 M2303.78 1508.44 Q2300.17 1508.44 2298.34 1512 Q2296.53 1515.55 2296.53 1522.67 Q2296.53 1529.78 2298.34 1533.35 Q2300.17 1536.89 2303.78 1536.89 Q2307.41 1536.89 2309.22 1533.35 Q2311.05 1529.78 2311.05 1522.67 Q2311.05 1515.55 2309.22 1512 Q2307.41 1508.44 2303.78 1508.44 M2303.78 1504.73 Q2309.59 1504.73 2312.64 1509.34 Q2315.72 1513.92 2315.72 1522.67 Q2315.72 1531.4 2312.64 1536.01 Q2309.59 1540.59 2303.78 1540.59 Q2297.97 1540.59 2294.89 1536.01 Q2291.83 1531.4 2291.83 1522.67 Q2291.83 1513.92 2294.89 1509.34 Q2297.97 1504.73 2303.78 1504.73 Z\" fill=\"#000000\" fill-rule=\"evenodd\" fill-opacity=\"1\" /><path clip-path=\"url(#clip240)\" d=\"M 0 0 M63.3625 1203.38 L75.8393 1203.38 L75.8393 1207.18 L63.3625 1207.18 L63.3625 1203.38 Z\" fill=\"#000000\" fill-rule=\"evenodd\" fill-opacity=\"1\" /><path clip-path=\"url(#clip240)\" d=\"M 0 0 M84.9365 1214.33 L101.256 1214.33 L101.256 1218.26 L79.3115 1218.26 L79.3115 1214.33 Q81.9735 1211.58 86.5568 1206.95 Q91.1633 1202.29 92.3438 1200.95 Q94.5892 1198.43 95.4688 1196.69 Q96.3716 1194.93 96.3716 1193.24 Q96.3716 1190.49 94.4271 1188.75 Q92.5059 1187.02 89.404 1187.02 Q87.205 1187.02 84.7513 1187.78 Q82.3207 1188.54 79.543 1190.09 L79.543 1185.37 Q82.367 1184.24 84.8207 1183.66 Q87.2744 1183.08 89.3114 1183.08 Q94.6818 1183.08 97.8762 1185.77 Q101.071 1188.45 101.071 1192.94 Q101.071 1195.07 100.26 1196.99 Q99.4734 1198.89 97.3669 1201.48 Q96.7882 1202.15 93.6864 1205.37 Q90.5846 1208.57 84.9365 1214.33 Z\" fill=\"#000000\" fill-rule=\"evenodd\" fill-opacity=\"1\" /><path clip-path=\"url(#clip240)\" d=\"M 0 0 M116.325 1186.78 Q112.714 1186.78 110.885 1190.35 Q109.08 1193.89 109.08 1201.02 Q109.08 1208.13 110.885 1211.69 Q112.714 1215.23 116.325 1215.23 Q119.959 1215.23 121.765 1211.69 Q123.594 1208.13 123.594 1201.02 Q123.594 1193.89 121.765 1190.35 Q119.959 1186.78 116.325 1186.78 M116.325 1183.08 Q122.135 1183.08 125.191 1187.69 Q128.27 1192.27 128.27 1201.02 Q128.27 1209.75 125.191 1214.35 Q122.135 1218.94 116.325 1218.94 Q110.515 1218.94 107.436 1214.35 Q104.381 1209.75 104.381 1201.02 Q104.381 1192.27 107.436 1187.69 Q110.515 1183.08 116.325 1183.08 Z\" fill=\"#000000\" fill-rule=\"evenodd\" fill-opacity=\"1\" /><path clip-path=\"url(#clip240)\" d=\"M 0 0 M143.339 1186.78 Q139.728 1186.78 137.899 1190.35 Q136.094 1193.89 136.094 1201.02 Q136.094 1208.13 137.899 1211.69 Q139.728 1215.23 143.339 1215.23 Q146.973 1215.23 148.779 1211.69 Q150.607 1208.13 150.607 1201.02 Q150.607 1193.89 148.779 1190.35 Q146.973 1186.78 143.339 1186.78 M143.339 1183.08 Q149.149 1183.08 152.205 1187.69 Q155.283 1192.27 155.283 1201.02 Q155.283 1209.75 152.205 1214.35 Q149.149 1218.94 143.339 1218.94 Q137.529 1218.94 134.45 1214.35 Q131.395 1209.75 131.395 1201.02 Q131.395 1192.27 134.45 1187.69 Q137.529 1183.08 143.339 1183.08 Z\" fill=\"#000000\" fill-rule=\"evenodd\" fill-opacity=\"1\" /><path clip-path=\"url(#clip240)\" d=\"M 0 0 M63.9875 902.437 L76.4643 902.437 L76.4643 906.234 L63.9875 906.234 L63.9875 902.437 Z\" fill=\"#000000\" fill-rule=\"evenodd\" fill-opacity=\"1\" /><path clip-path=\"url(#clip240)\" d=\"M 0 0 M82.3439 913.386 L89.9827 913.386 L89.9827 887.021 L81.6726 888.687 L81.6726 884.428 L89.9364 882.762 L94.6123 882.762 L94.6123 913.386 L102.251 913.386 L102.251 917.322 L82.3439 917.322 L82.3439 913.386 Z\" fill=\"#000000\" fill-rule=\"evenodd\" fill-opacity=\"1\" /><path clip-path=\"url(#clip240)\" d=\"M 0 0 M107.367 882.762 L125.723 882.762 L125.723 886.697 L111.649 886.697 L111.649 895.169 Q112.668 894.822 113.686 894.66 Q114.705 894.474 115.723 894.474 Q121.51 894.474 124.89 897.646 Q128.27 900.817 128.27 906.234 Q128.27 911.812 124.797 914.914 Q121.325 917.993 115.006 917.993 Q112.83 917.993 110.561 917.623 Q108.316 917.252 105.909 916.511 L105.909 911.812 Q107.992 912.947 110.214 913.502 Q112.436 914.058 114.913 914.058 Q118.918 914.058 121.256 911.951 Q123.594 909.845 123.594 906.234 Q123.594 902.623 121.256 900.516 Q118.918 898.41 114.913 898.41 Q113.038 898.41 111.163 898.826 Q109.311 899.243 107.367 900.123 L107.367 882.762 Z\" fill=\"#000000\" fill-rule=\"evenodd\" fill-opacity=\"1\" /><path clip-path=\"url(#clip240)\" d=\"M 0 0 M143.339 885.84 Q139.728 885.84 137.899 889.405 Q136.094 892.947 136.094 900.076 Q136.094 907.183 137.899 910.748 Q139.728 914.289 143.339 914.289 Q146.973 914.289 148.779 910.748 Q150.607 907.183 150.607 900.076 Q150.607 892.947 148.779 889.405 Q146.973 885.84 143.339 885.84 M143.339 882.137 Q149.149 882.137 152.205 886.743 Q155.283 891.326 155.283 900.076 Q155.283 908.803 152.205 913.41 Q149.149 917.993 143.339 917.993 Q137.529 917.993 134.45 913.41 Q131.395 908.803 131.395 900.076 Q131.395 891.326 134.45 886.743 Q137.529 882.137 143.339 882.137 Z\" fill=\"#000000\" fill-rule=\"evenodd\" fill-opacity=\"1\" /><path clip-path=\"url(#clip240)\" d=\"M 0 0 M62.9921 601.494 L75.4689 601.494 L75.4689 605.29 L62.9921 605.29 L62.9921 601.494 Z\" fill=\"#000000\" fill-rule=\"evenodd\" fill-opacity=\"1\" /><path clip-path=\"url(#clip240)\" d=\"M 0 0 M81.3485 612.443 L88.9874 612.443 L88.9874 586.078 L80.6772 587.744 L80.6772 583.485 L88.9411 581.818 L93.617 581.818 L93.617 612.443 L101.256 612.443 L101.256 616.378 L81.3485 616.378 L81.3485 612.443 Z\" fill=\"#000000\" fill-rule=\"evenodd\" fill-opacity=\"1\" /><path clip-path=\"url(#clip240)\" d=\"M 0 0 M116.325 584.897 Q112.714 584.897 110.885 588.462 Q109.08 592.003 109.08 599.133 Q109.08 606.239 110.885 609.804 Q112.714 613.346 116.325 613.346 Q119.959 613.346 121.765 609.804 Q123.594 606.239 123.594 599.133 Q123.594 592.003 121.765 588.462 Q119.959 584.897 116.325 584.897 M116.325 581.193 Q122.135 581.193 125.191 585.8 Q128.27 590.383 128.27 599.133 Q128.27 607.86 125.191 612.466 Q122.135 617.05 116.325 617.05 Q110.515 617.05 107.436 612.466 Q104.381 607.86 104.381 599.133 Q104.381 590.383 107.436 585.8 Q110.515 581.193 116.325 581.193 Z\" fill=\"#000000\" fill-rule=\"evenodd\" fill-opacity=\"1\" /><path clip-path=\"url(#clip240)\" d=\"M 0 0 M143.339 584.897 Q139.728 584.897 137.899 588.462 Q136.094 592.003 136.094 599.133 Q136.094 606.239 137.899 609.804 Q139.728 613.346 143.339 613.346 Q146.973 613.346 148.779 609.804 Q150.607 606.239 150.607 599.133 Q150.607 592.003 148.779 588.462 Q146.973 584.897 143.339 584.897 M143.339 581.193 Q149.149 581.193 152.205 585.8 Q155.283 590.383 155.283 599.133 Q155.283 607.86 152.205 612.466 Q149.149 617.05 143.339 617.05 Q137.529 617.05 134.45 612.466 Q131.395 607.86 131.395 599.133 Q131.395 590.383 134.45 585.8 Q137.529 581.193 143.339 581.193 Z\" fill=\"#000000\" fill-rule=\"evenodd\" fill-opacity=\"1\" /><path clip-path=\"url(#clip240)\" d=\"M 0 0 M89.7744 300.551 L102.251 300.551 L102.251 304.347 L89.7744 304.347 L89.7744 300.551 Z\" fill=\"#000000\" fill-rule=\"evenodd\" fill-opacity=\"1\" /><path clip-path=\"url(#clip240)\" d=\"M 0 0 M107.367 280.875 L125.723 280.875 L125.723 284.81 L111.649 284.81 L111.649 293.282 Q112.668 292.935 113.686 292.773 Q114.705 292.588 115.723 292.588 Q121.51 292.588 124.89 295.759 Q128.27 298.93 128.27 304.347 Q128.27 309.926 124.797 313.028 Q121.325 316.106 115.006 316.106 Q112.83 316.106 110.561 315.736 Q108.316 315.366 105.909 314.625 L105.909 309.926 Q107.992 311.06 110.214 311.616 Q112.436 312.171 114.913 312.171 Q118.918 312.171 121.256 310.065 Q123.594 307.958 123.594 304.347 Q123.594 300.736 121.256 298.63 Q118.918 296.523 114.913 296.523 Q113.038 296.523 111.163 296.94 Q109.311 297.356 107.367 298.236 L107.367 280.875 Z\" fill=\"#000000\" fill-rule=\"evenodd\" fill-opacity=\"1\" /><path clip-path=\"url(#clip240)\" d=\"M 0 0 M143.339 283.954 Q139.728 283.954 137.899 287.518 Q136.094 291.06 136.094 298.19 Q136.094 305.296 137.899 308.861 Q139.728 312.403 143.339 312.403 Q146.973 312.403 148.779 308.861 Q150.607 305.296 150.607 298.19 Q150.607 291.06 148.779 287.518 Q146.973 283.954 143.339 283.954 M143.339 280.25 Q149.149 280.25 152.205 284.856 Q155.283 289.44 155.283 298.19 Q155.283 306.917 152.205 311.523 Q149.149 316.106 143.339 316.106 Q137.529 316.106 134.45 311.523 Q131.395 306.917 131.395 298.19 Q131.395 289.44 134.45 284.856 Q137.529 280.25 143.339 280.25 Z\" fill=\"#000000\" fill-rule=\"evenodd\" fill-opacity=\"1\" /><circle clip-path=\"url(#clip242)\" cx=\"240.797\" cy=\"87.9763\" r=\"14\" fill=\"#009af9\" fill-rule=\"evenodd\" fill-opacity=\"1\" stroke=\"#000000\" stroke-opacity=\"1\" stroke-width=\"3.2\"/>\n",
       "<circle clip-path=\"url(#clip242)\" cx=\"354.71\" cy=\"161.839\" r=\"14\" fill=\"#009af9\" fill-rule=\"evenodd\" fill-opacity=\"1\" stroke=\"#000000\" stroke-opacity=\"1\" stroke-width=\"3.2\"/>\n",
       "<circle clip-path=\"url(#clip242)\" cx=\"468.624\" cy=\"233.523\" r=\"14\" fill=\"#009af9\" fill-rule=\"evenodd\" fill-opacity=\"1\" stroke=\"#000000\" stroke-opacity=\"1\" stroke-width=\"3.2\"/>\n",
       "<circle clip-path=\"url(#clip242)\" cx=\"582.538\" cy=\"304.947\" r=\"14\" fill=\"#009af9\" fill-rule=\"evenodd\" fill-opacity=\"1\" stroke=\"#000000\" stroke-opacity=\"1\" stroke-width=\"3.2\"/>\n",
       "<circle clip-path=\"url(#clip242)\" cx=\"696.451\" cy=\"375.932\" r=\"14\" fill=\"#009af9\" fill-rule=\"evenodd\" fill-opacity=\"1\" stroke=\"#000000\" stroke-opacity=\"1\" stroke-width=\"3.2\"/>\n",
       "<circle clip-path=\"url(#clip242)\" cx=\"810.365\" cy=\"446.45\" r=\"14\" fill=\"#009af9\" fill-rule=\"evenodd\" fill-opacity=\"1\" stroke=\"#000000\" stroke-opacity=\"1\" stroke-width=\"3.2\"/>\n",
       "<circle clip-path=\"url(#clip242)\" cx=\"924.279\" cy=\"516.969\" r=\"14\" fill=\"#009af9\" fill-rule=\"evenodd\" fill-opacity=\"1\" stroke=\"#000000\" stroke-opacity=\"1\" stroke-width=\"3.2\"/>\n",
       "<circle clip-path=\"url(#clip242)\" cx=\"1038.19\" cy=\"587.027\" r=\"14\" fill=\"#009af9\" fill-rule=\"evenodd\" fill-opacity=\"1\" stroke=\"#000000\" stroke-opacity=\"1\" stroke-width=\"3.2\"/>\n",
       "<circle clip-path=\"url(#clip242)\" cx=\"1152.11\" cy=\"657.621\" r=\"14\" fill=\"#009af9\" fill-rule=\"evenodd\" fill-opacity=\"1\" stroke=\"#000000\" stroke-opacity=\"1\" stroke-width=\"3.2\"/>\n",
       "<circle clip-path=\"url(#clip242)\" cx=\"1266.02\" cy=\"728.14\" r=\"14\" fill=\"#009af9\" fill-rule=\"evenodd\" fill-opacity=\"1\" stroke=\"#000000\" stroke-opacity=\"1\" stroke-width=\"3.2\"/>\n",
       "<circle clip-path=\"url(#clip242)\" cx=\"1379.93\" cy=\"797.846\" r=\"14\" fill=\"#009af9\" fill-rule=\"evenodd\" fill-opacity=\"1\" stroke=\"#000000\" stroke-opacity=\"1\" stroke-width=\"3.2\"/>\n",
       "<circle clip-path=\"url(#clip242)\" cx=\"1493.85\" cy=\"868.205\" r=\"14\" fill=\"#009af9\" fill-rule=\"evenodd\" fill-opacity=\"1\" stroke=\"#000000\" stroke-opacity=\"1\" stroke-width=\"3.2\"/>\n",
       "<circle clip-path=\"url(#clip242)\" cx=\"1607.76\" cy=\"937.628\" r=\"14\" fill=\"#009af9\" fill-rule=\"evenodd\" fill-opacity=\"1\" stroke=\"#000000\" stroke-opacity=\"1\" stroke-width=\"3.2\"/>\n",
       "<circle clip-path=\"url(#clip242)\" cx=\"1721.67\" cy=\"1007.22\" r=\"14\" fill=\"#009af9\" fill-rule=\"evenodd\" fill-opacity=\"1\" stroke=\"#000000\" stroke-opacity=\"1\" stroke-width=\"3.2\"/>\n",
       "<circle clip-path=\"url(#clip242)\" cx=\"1835.59\" cy=\"1078.29\" r=\"14\" fill=\"#009af9\" fill-rule=\"evenodd\" fill-opacity=\"1\" stroke=\"#000000\" stroke-opacity=\"1\" stroke-width=\"3.2\"/>\n",
       "<circle clip-path=\"url(#clip242)\" cx=\"1949.5\" cy=\"1148.7\" r=\"14\" fill=\"#009af9\" fill-rule=\"evenodd\" fill-opacity=\"1\" stroke=\"#000000\" stroke-opacity=\"1\" stroke-width=\"3.2\"/>\n",
       "<circle clip-path=\"url(#clip242)\" cx=\"2063.42\" cy=\"1218.9\" r=\"14\" fill=\"#009af9\" fill-rule=\"evenodd\" fill-opacity=\"1\" stroke=\"#000000\" stroke-opacity=\"1\" stroke-width=\"3.2\"/>\n",
       "<circle clip-path=\"url(#clip242)\" cx=\"2177.33\" cy=\"1287.58\" r=\"14\" fill=\"#009af9\" fill-rule=\"evenodd\" fill-opacity=\"1\" stroke=\"#000000\" stroke-opacity=\"1\" stroke-width=\"3.2\"/>\n",
       "<circle clip-path=\"url(#clip242)\" cx=\"2291.24\" cy=\"1358.98\" r=\"14\" fill=\"#009af9\" fill-rule=\"evenodd\" fill-opacity=\"1\" stroke=\"#000000\" stroke-opacity=\"1\" stroke-width=\"3.2\"/>\n",
       "<circle clip-path=\"url(#clip242)\" cx=\"240.797\" cy=\"96.521\" r=\"14\" fill=\"#e26f46\" fill-rule=\"evenodd\" fill-opacity=\"1\" stroke=\"#000000\" stroke-opacity=\"1\" stroke-width=\"3.2\"/>\n",
       "<circle clip-path=\"url(#clip242)\" cx=\"354.71\" cy=\"174.262\" r=\"14\" fill=\"#e26f46\" fill-rule=\"evenodd\" fill-opacity=\"1\" stroke=\"#000000\" stroke-opacity=\"1\" stroke-width=\"3.2\"/>\n",
       "<circle clip-path=\"url(#clip242)\" cx=\"468.624\" cy=\"250.442\" r=\"14\" fill=\"#e26f46\" fill-rule=\"evenodd\" fill-opacity=\"1\" stroke=\"#000000\" stroke-opacity=\"1\" stroke-width=\"3.2\"/>\n",
       "<circle clip-path=\"url(#clip242)\" cx=\"582.538\" cy=\"326.002\" r=\"14\" fill=\"#e26f46\" fill-rule=\"evenodd\" fill-opacity=\"1\" stroke=\"#000000\" stroke-opacity=\"1\" stroke-width=\"3.2\"/>\n",
       "<circle clip-path=\"url(#clip242)\" cx=\"696.451\" cy=\"401.236\" r=\"14\" fill=\"#e26f46\" fill-rule=\"evenodd\" fill-opacity=\"1\" stroke=\"#000000\" stroke-opacity=\"1\" stroke-width=\"3.2\"/>\n",
       "<circle clip-path=\"url(#clip242)\" cx=\"810.365\" cy=\"475.625\" r=\"14\" fill=\"#e26f46\" fill-rule=\"evenodd\" fill-opacity=\"1\" stroke=\"#000000\" stroke-opacity=\"1\" stroke-width=\"3.2\"/>\n",
       "<circle clip-path=\"url(#clip242)\" cx=\"924.279\" cy=\"550.381\" r=\"14\" fill=\"#e26f46\" fill-rule=\"evenodd\" fill-opacity=\"1\" stroke=\"#000000\" stroke-opacity=\"1\" stroke-width=\"3.2\"/>\n",
       "<circle clip-path=\"url(#clip242)\" cx=\"1038.19\" cy=\"625.212\" r=\"14\" fill=\"#e26f46\" fill-rule=\"evenodd\" fill-opacity=\"1\" stroke=\"#000000\" stroke-opacity=\"1\" stroke-width=\"3.2\"/>\n",
       "<circle clip-path=\"url(#clip242)\" cx=\"1152.11\" cy=\"699.881\" r=\"14\" fill=\"#e26f46\" fill-rule=\"evenodd\" fill-opacity=\"1\" stroke=\"#000000\" stroke-opacity=\"1\" stroke-width=\"3.2\"/>\n",
       "<circle clip-path=\"url(#clip242)\" cx=\"1266.02\" cy=\"774.251\" r=\"14\" fill=\"#e26f46\" fill-rule=\"evenodd\" fill-opacity=\"1\" stroke=\"#000000\" stroke-opacity=\"1\" stroke-width=\"3.2\"/>\n",
       "<circle clip-path=\"url(#clip242)\" cx=\"1379.93\" cy=\"849.084\" r=\"14\" fill=\"#e26f46\" fill-rule=\"evenodd\" fill-opacity=\"1\" stroke=\"#000000\" stroke-opacity=\"1\" stroke-width=\"3.2\"/>\n",
       "<circle clip-path=\"url(#clip242)\" cx=\"1493.85\" cy=\"923.641\" r=\"14\" fill=\"#e26f46\" fill-rule=\"evenodd\" fill-opacity=\"1\" stroke=\"#000000\" stroke-opacity=\"1\" stroke-width=\"3.2\"/>\n",
       "<circle clip-path=\"url(#clip242)\" cx=\"1607.76\" cy=\"998.053\" r=\"14\" fill=\"#e26f46\" fill-rule=\"evenodd\" fill-opacity=\"1\" stroke=\"#000000\" stroke-opacity=\"1\" stroke-width=\"3.2\"/>\n",
       "<circle clip-path=\"url(#clip242)\" cx=\"1721.67\" cy=\"1072.5\" r=\"14\" fill=\"#e26f46\" fill-rule=\"evenodd\" fill-opacity=\"1\" stroke=\"#000000\" stroke-opacity=\"1\" stroke-width=\"3.2\"/>\n",
       "<circle clip-path=\"url(#clip242)\" cx=\"1835.59\" cy=\"1146.88\" r=\"14\" fill=\"#e26f46\" fill-rule=\"evenodd\" fill-opacity=\"1\" stroke=\"#000000\" stroke-opacity=\"1\" stroke-width=\"3.2\"/>\n",
       "<circle clip-path=\"url(#clip242)\" cx=\"1949.5\" cy=\"1221.87\" r=\"14\" fill=\"#e26f46\" fill-rule=\"evenodd\" fill-opacity=\"1\" stroke=\"#000000\" stroke-opacity=\"1\" stroke-width=\"3.2\"/>\n",
       "<circle clip-path=\"url(#clip242)\" cx=\"2063.42\" cy=\"1296.28\" r=\"14\" fill=\"#e26f46\" fill-rule=\"evenodd\" fill-opacity=\"1\" stroke=\"#000000\" stroke-opacity=\"1\" stroke-width=\"3.2\"/>\n",
       "<circle clip-path=\"url(#clip242)\" cx=\"2177.33\" cy=\"1370.77\" r=\"14\" fill=\"#e26f46\" fill-rule=\"evenodd\" fill-opacity=\"1\" stroke=\"#000000\" stroke-opacity=\"1\" stroke-width=\"3.2\"/>\n",
       "<circle clip-path=\"url(#clip242)\" cx=\"2291.24\" cy=\"1445.72\" r=\"14\" fill=\"#e26f46\" fill-rule=\"evenodd\" fill-opacity=\"1\" stroke=\"#000000\" stroke-opacity=\"1\" stroke-width=\"3.2\"/>\n",
       "<path clip-path=\"url(#clip240)\" d=\"\n",
       "M1989.74 312.204 L2280.76 312.204 L2280.76 130.764 L1989.74 130.764  Z\n",
       "  \" fill=\"#ffffff\" fill-rule=\"evenodd\" fill-opacity=\"1\"/>\n",
       "<polyline clip-path=\"url(#clip240)\" style=\"stroke:#000000; stroke-width:4; stroke-opacity:1; fill:none\" points=\"\n",
       "  1989.74,312.204 2280.76,312.204 2280.76,130.764 1989.74,130.764 1989.74,312.204 \n",
       "  \"/>\n",
       "<circle clip-path=\"url(#clip240)\" cx=\"2097.74\" cy=\"191.244\" r=\"23\" fill=\"#009af9\" fill-rule=\"evenodd\" fill-opacity=\"1\" stroke=\"#000000\" stroke-opacity=\"1\" stroke-width=\"5.12\"/>\n",
       "<path clip-path=\"url(#clip240)\" d=\"M 0 0 M2195.58 210.931 Q2193.77 215.561 2192.06 216.973 Q2190.35 218.385 2187.48 218.385 L2184.08 218.385 L2184.08 214.82 L2186.58 214.82 Q2188.33 214.82 2189.31 213.987 Q2190.28 213.154 2191.46 210.052 L2192.22 208.107 L2181.74 182.598 L2186.25 182.598 L2194.35 202.876 L2202.46 182.598 L2206.97 182.598 L2195.58 210.931 Z\" fill=\"#000000\" fill-rule=\"evenodd\" fill-opacity=\"1\" /><path clip-path=\"url(#clip240)\" d=\"M 0 0 M2212.85 204.589 L2220.49 204.589 L2220.49 178.223 L2212.18 179.89 L2212.18 175.631 L2220.44 173.964 L2225.12 173.964 L2225.12 204.589 L2232.76 204.589 L2232.76 208.524 L2212.85 208.524 L2212.85 204.589 Z\" fill=\"#000000\" fill-rule=\"evenodd\" fill-opacity=\"1\" /><circle clip-path=\"url(#clip240)\" cx=\"2097.74\" cy=\"251.724\" r=\"23\" fill=\"#e26f46\" fill-rule=\"evenodd\" fill-opacity=\"1\" stroke=\"#000000\" stroke-opacity=\"1\" stroke-width=\"5.12\"/>\n",
       "<path clip-path=\"url(#clip240)\" d=\"M 0 0 M2195.58 271.411 Q2193.77 276.041 2192.06 277.453 Q2190.35 278.865 2187.48 278.865 L2184.08 278.865 L2184.08 275.3 L2186.58 275.3 Q2188.33 275.3 2189.31 274.467 Q2190.28 273.634 2191.46 270.532 L2192.22 268.587 L2181.74 243.078 L2186.25 243.078 L2194.35 263.356 L2202.46 243.078 L2206.97 243.078 L2195.58 271.411 Z\" fill=\"#000000\" fill-rule=\"evenodd\" fill-opacity=\"1\" /><path clip-path=\"url(#clip240)\" d=\"M 0 0 M2216.07 265.069 L2232.39 265.069 L2232.39 269.004 L2210.44 269.004 L2210.44 265.069 Q2213.1 262.314 2217.69 257.685 Q2222.29 253.032 2223.47 251.689 Q2225.72 249.166 2226.6 247.43 Q2227.5 245.671 2227.5 243.981 Q2227.5 241.226 2225.56 239.49 Q2223.64 237.754 2220.53 237.754 Q2218.33 237.754 2215.88 238.518 Q2213.45 239.282 2210.67 240.833 L2210.67 236.111 Q2213.5 234.976 2215.95 234.398 Q2218.4 233.819 2220.44 233.819 Q2225.81 233.819 2229.01 236.504 Q2232.2 239.189 2232.2 243.68 Q2232.2 245.81 2231.39 247.731 Q2230.6 249.629 2228.5 252.222 Q2227.92 252.893 2224.82 256.111 Q2221.71 259.305 2216.07 265.069 Z\" fill=\"#000000\" fill-rule=\"evenodd\" fill-opacity=\"1\" /></svg>\n"
      ]
     },
     "execution_count": 169,
     "metadata": {},
     "output_type": "execute_result"
    }
   ],
   "source": [
    "using Plots\n",
    "\n",
    "plot(collect(2:20),\n",
    "    log.([Ω̂.ω([1, i], 0) for i in 2:20]), \n",
    "    seriestype = :scatter)\n",
    "\n",
    "plot!(collect(2:20),\n",
    "    log.([Ω̂.ω([0, i], 0) for i in 2:20]), \n",
    "    seriestype = :scatter)"
   ]
  },
  {
   "cell_type": "code",
   "execution_count": 170,
   "metadata": {},
   "outputs": [
    {
     "data": {
      "image/svg+xml": [
       "<?xml version=\"1.0\" encoding=\"utf-8\"?>\n",
       "<svg xmlns=\"http://www.w3.org/2000/svg\" xmlns:xlink=\"http://www.w3.org/1999/xlink\" width=\"600\" height=\"400\" viewBox=\"0 0 2400 1600\">\n",
       "<defs>\n",
       "  <clipPath id=\"clip280\">\n",
       "    <rect x=\"0\" y=\"0\" width=\"2400\" height=\"1600\"/>\n",
       "  </clipPath>\n",
       "</defs>\n",
       "<path clip-path=\"url(#clip280)\" d=\"\n",
       "M0 1600 L2400 1600 L2400 0 L0 0  Z\n",
       "  \" fill=\"#ffffff\" fill-rule=\"evenodd\" fill-opacity=\"1\"/>\n",
       "<defs>\n",
       "  <clipPath id=\"clip281\">\n",
       "    <rect x=\"480\" y=\"0\" width=\"1681\" height=\"1600\"/>\n",
       "  </clipPath>\n",
       "</defs>\n",
       "<path clip-path=\"url(#clip280)\" d=\"\n",
       "M174.769 1486.45 L2352.76 1486.45 L2352.76 47.2441 L174.769 47.2441  Z\n",
       "  \" fill=\"#ffffff\" fill-rule=\"evenodd\" fill-opacity=\"1\"/>\n",
       "<defs>\n",
       "  <clipPath id=\"clip282\">\n",
       "    <rect x=\"174\" y=\"47\" width=\"2179\" height=\"1440\"/>\n",
       "  </clipPath>\n",
       "</defs>\n",
       "<polyline clip-path=\"url(#clip282)\" style=\"stroke:#000000; stroke-width:2; stroke-opacity:0.1; fill:none\" points=\"\n",
       "  578.861,1486.45 578.861,47.2441 \n",
       "  \"/>\n",
       "<polyline clip-path=\"url(#clip282)\" style=\"stroke:#000000; stroke-width:2; stroke-opacity:0.1; fill:none\" points=\"\n",
       "  1149.61,1486.45 1149.61,47.2441 \n",
       "  \"/>\n",
       "<polyline clip-path=\"url(#clip282)\" style=\"stroke:#000000; stroke-width:2; stroke-opacity:0.1; fill:none\" points=\"\n",
       "  1720.36,1486.45 1720.36,47.2441 \n",
       "  \"/>\n",
       "<polyline clip-path=\"url(#clip282)\" style=\"stroke:#000000; stroke-width:2; stroke-opacity:0.1; fill:none\" points=\"\n",
       "  2291.11,1486.45 2291.11,47.2441 \n",
       "  \"/>\n",
       "<polyline clip-path=\"url(#clip282)\" style=\"stroke:#000000; stroke-width:2; stroke-opacity:0.1; fill:none\" points=\"\n",
       "  174.769,1482.57 2352.76,1482.57 \n",
       "  \"/>\n",
       "<polyline clip-path=\"url(#clip282)\" style=\"stroke:#000000; stroke-width:2; stroke-opacity:0.1; fill:none\" points=\"\n",
       "  174.769,1133.92 2352.76,1133.92 \n",
       "  \"/>\n",
       "<polyline clip-path=\"url(#clip282)\" style=\"stroke:#000000; stroke-width:2; stroke-opacity:0.1; fill:none\" points=\"\n",
       "  174.769,785.27 2352.76,785.27 \n",
       "  \"/>\n",
       "<polyline clip-path=\"url(#clip282)\" style=\"stroke:#000000; stroke-width:2; stroke-opacity:0.1; fill:none\" points=\"\n",
       "  174.769,436.621 2352.76,436.621 \n",
       "  \"/>\n",
       "<polyline clip-path=\"url(#clip282)\" style=\"stroke:#000000; stroke-width:2; stroke-opacity:0.1; fill:none\" points=\"\n",
       "  174.769,87.9724 2352.76,87.9724 \n",
       "  \"/>\n",
       "<polyline clip-path=\"url(#clip280)\" style=\"stroke:#000000; stroke-width:4; stroke-opacity:1; fill:none\" points=\"\n",
       "  174.769,1486.45 2352.76,1486.45 \n",
       "  \"/>\n",
       "<polyline clip-path=\"url(#clip280)\" style=\"stroke:#000000; stroke-width:4; stroke-opacity:1; fill:none\" points=\"\n",
       "  174.769,1486.45 174.769,47.2441 \n",
       "  \"/>\n",
       "<polyline clip-path=\"url(#clip280)\" style=\"stroke:#000000; stroke-width:4; stroke-opacity:1; fill:none\" points=\"\n",
       "  578.861,1486.45 578.861,1469.18 \n",
       "  \"/>\n",
       "<polyline clip-path=\"url(#clip280)\" style=\"stroke:#000000; stroke-width:4; stroke-opacity:1; fill:none\" points=\"\n",
       "  1149.61,1486.45 1149.61,1469.18 \n",
       "  \"/>\n",
       "<polyline clip-path=\"url(#clip280)\" style=\"stroke:#000000; stroke-width:4; stroke-opacity:1; fill:none\" points=\"\n",
       "  1720.36,1486.45 1720.36,1469.18 \n",
       "  \"/>\n",
       "<polyline clip-path=\"url(#clip280)\" style=\"stroke:#000000; stroke-width:4; stroke-opacity:1; fill:none\" points=\"\n",
       "  2291.11,1486.45 2291.11,1469.18 \n",
       "  \"/>\n",
       "<polyline clip-path=\"url(#clip280)\" style=\"stroke:#000000; stroke-width:4; stroke-opacity:1; fill:none\" points=\"\n",
       "  174.769,1482.57 200.905,1482.57 \n",
       "  \"/>\n",
       "<polyline clip-path=\"url(#clip280)\" style=\"stroke:#000000; stroke-width:4; stroke-opacity:1; fill:none\" points=\"\n",
       "  174.769,1133.92 200.905,1133.92 \n",
       "  \"/>\n",
       "<polyline clip-path=\"url(#clip280)\" style=\"stroke:#000000; stroke-width:4; stroke-opacity:1; fill:none\" points=\"\n",
       "  174.769,785.27 200.905,785.27 \n",
       "  \"/>\n",
       "<polyline clip-path=\"url(#clip280)\" style=\"stroke:#000000; stroke-width:4; stroke-opacity:1; fill:none\" points=\"\n",
       "  174.769,436.621 200.905,436.621 \n",
       "  \"/>\n",
       "<polyline clip-path=\"url(#clip280)\" style=\"stroke:#000000; stroke-width:4; stroke-opacity:1; fill:none\" points=\"\n",
       "  174.769,87.9724 200.905,87.9724 \n",
       "  \"/>\n",
       "<path clip-path=\"url(#clip280)\" d=\"M 0 0 M569.139 1505.36 L587.495 1505.36 L587.495 1509.3 L573.421 1509.3 L573.421 1517.77 Q574.44 1517.42 575.459 1517.26 Q576.477 1517.07 577.496 1517.07 Q583.283 1517.07 586.662 1520.24 Q590.042 1523.42 590.042 1528.83 Q590.042 1534.41 586.57 1537.51 Q583.097 1540.59 576.778 1540.59 Q574.602 1540.59 572.334 1540.22 Q570.088 1539.85 567.681 1539.11 L567.681 1534.41 Q569.764 1535.54 571.986 1536.1 Q574.209 1536.66 576.685 1536.66 Q580.69 1536.66 583.028 1534.55 Q585.366 1532.44 585.366 1528.83 Q585.366 1525.22 583.028 1523.11 Q580.69 1521.01 576.685 1521.01 Q574.81 1521.01 572.935 1521.42 Q571.084 1521.84 569.139 1522.72 L569.139 1505.36 Z\" fill=\"#000000\" fill-rule=\"evenodd\" fill-opacity=\"1\" /><path clip-path=\"url(#clip280)\" d=\"M 0 0 M1126.49 1535.98 L1134.13 1535.98 L1134.13 1509.62 L1125.82 1511.29 L1125.82 1507.03 L1134.08 1505.36 L1138.76 1505.36 L1138.76 1535.98 L1146.39 1535.98 L1146.39 1539.92 L1126.49 1539.92 L1126.49 1535.98 Z\" fill=\"#000000\" fill-rule=\"evenodd\" fill-opacity=\"1\" /><path clip-path=\"url(#clip280)\" d=\"M 0 0 M1161.46 1508.44 Q1157.85 1508.44 1156.02 1512 Q1154.22 1515.55 1154.22 1522.67 Q1154.22 1529.78 1156.02 1533.35 Q1157.85 1536.89 1161.46 1536.89 Q1165.1 1536.89 1166.9 1533.35 Q1168.73 1529.78 1168.73 1522.67 Q1168.73 1515.55 1166.9 1512 Q1165.1 1508.44 1161.46 1508.44 M1161.46 1504.73 Q1167.27 1504.73 1170.33 1509.34 Q1173.41 1513.92 1173.41 1522.67 Q1173.41 1531.4 1170.33 1536.01 Q1167.27 1540.59 1161.46 1540.59 Q1155.65 1540.59 1152.58 1536.01 Q1149.52 1531.4 1149.52 1522.67 Q1149.52 1513.92 1152.58 1509.34 Q1155.65 1504.73 1161.46 1504.73 Z\" fill=\"#000000\" fill-rule=\"evenodd\" fill-opacity=\"1\" /><path clip-path=\"url(#clip280)\" d=\"M 0 0 M1697.74 1535.98 L1705.38 1535.98 L1705.38 1509.62 L1697.07 1511.29 L1697.07 1507.03 L1705.33 1505.36 L1710 1505.36 L1710 1535.98 L1717.64 1535.98 L1717.64 1539.92 L1697.74 1539.92 L1697.74 1535.98 Z\" fill=\"#000000\" fill-rule=\"evenodd\" fill-opacity=\"1\" /><path clip-path=\"url(#clip280)\" d=\"M 0 0 M1722.76 1505.36 L1741.12 1505.36 L1741.12 1509.3 L1727.04 1509.3 L1727.04 1517.77 Q1728.06 1517.42 1729.08 1517.26 Q1730.1 1517.07 1731.12 1517.07 Q1736.9 1517.07 1740.28 1520.24 Q1743.66 1523.42 1743.66 1528.83 Q1743.66 1534.41 1740.19 1537.51 Q1736.72 1540.59 1730.4 1540.59 Q1728.22 1540.59 1725.95 1540.22 Q1723.71 1539.85 1721.3 1539.11 L1721.3 1534.41 Q1723.38 1535.54 1725.61 1536.1 Q1727.83 1536.66 1730.31 1536.66 Q1734.31 1536.66 1736.65 1534.55 Q1738.99 1532.44 1738.99 1528.83 Q1738.99 1525.22 1736.65 1523.11 Q1734.31 1521.01 1730.31 1521.01 Q1728.43 1521.01 1726.56 1521.42 Q1724.7 1521.84 1722.76 1522.72 L1722.76 1505.36 Z\" fill=\"#000000\" fill-rule=\"evenodd\" fill-opacity=\"1\" /><path clip-path=\"url(#clip280)\" d=\"M 0 0 M2272.26 1535.98 L2288.58 1535.98 L2288.58 1539.92 L2266.64 1539.92 L2266.64 1535.98 Q2269.3 1533.23 2273.88 1528.6 Q2278.49 1523.95 2279.67 1522.61 Q2281.91 1520.08 2282.79 1518.35 Q2283.7 1516.59 2283.7 1514.9 Q2283.7 1512.14 2281.75 1510.41 Q2279.83 1508.67 2276.73 1508.67 Q2274.53 1508.67 2272.08 1509.43 Q2269.64 1510.2 2266.87 1511.75 L2266.87 1507.03 Q2269.69 1505.89 2272.14 1505.31 Q2274.6 1504.73 2276.64 1504.73 Q2282.01 1504.73 2285.2 1507.42 Q2288.39 1510.11 2288.39 1514.6 Q2288.39 1516.73 2287.58 1518.65 Q2286.8 1520.54 2284.69 1523.14 Q2284.11 1523.81 2281.01 1527.03 Q2277.91 1530.22 2272.26 1535.98 Z\" fill=\"#000000\" fill-rule=\"evenodd\" fill-opacity=\"1\" /><path clip-path=\"url(#clip280)\" d=\"M 0 0 M2303.65 1508.44 Q2300.04 1508.44 2298.21 1512 Q2296.4 1515.55 2296.4 1522.67 Q2296.4 1529.78 2298.21 1533.35 Q2300.04 1536.89 2303.65 1536.89 Q2307.28 1536.89 2309.09 1533.35 Q2310.92 1529.78 2310.92 1522.67 Q2310.92 1515.55 2309.09 1512 Q2307.28 1508.44 2303.65 1508.44 M2303.65 1504.73 Q2309.46 1504.73 2312.52 1509.34 Q2315.59 1513.92 2315.59 1522.67 Q2315.59 1531.4 2312.52 1536.01 Q2309.46 1540.59 2303.65 1540.59 Q2297.84 1540.59 2294.76 1536.01 Q2291.71 1531.4 2291.71 1522.67 Q2291.71 1513.92 2294.76 1509.34 Q2297.84 1504.73 2303.65 1504.73 Z\" fill=\"#000000\" fill-rule=\"evenodd\" fill-opacity=\"1\" /><path clip-path=\"url(#clip280)\" d=\"M 0 0 M74.9365 1468.37 Q71.3254 1468.37 69.4967 1471.93 Q67.6912 1475.47 67.6912 1482.6 Q67.6912 1489.71 69.4967 1493.27 Q71.3254 1496.81 74.9365 1496.81 Q78.5707 1496.81 80.3763 1493.27 Q82.205 1489.71 82.205 1482.6 Q82.205 1475.47 80.3763 1471.93 Q78.5707 1468.37 74.9365 1468.37 M74.9365 1464.66 Q80.7467 1464.66 83.8022 1469.27 Q86.8809 1473.85 86.8809 1482.6 Q86.8809 1491.33 83.8022 1495.93 Q80.7467 1500.52 74.9365 1500.52 Q69.1264 1500.52 66.0477 1495.93 Q62.9921 1491.33 62.9921 1482.6 Q62.9921 1473.85 66.0477 1469.27 Q69.1264 1464.66 74.9365 1464.66 Z\" fill=\"#000000\" fill-rule=\"evenodd\" fill-opacity=\"1\" /><path clip-path=\"url(#clip280)\" d=\"M 0 0 M91.9503 1493.97 L96.8345 1493.97 L96.8345 1499.85 L91.9503 1499.85 L91.9503 1493.97 Z\" fill=\"#000000\" fill-rule=\"evenodd\" fill-opacity=\"1\" /><path clip-path=\"url(#clip280)\" d=\"M 0 0 M111.904 1483.43 Q108.571 1483.43 106.649 1485.22 Q104.751 1487 104.751 1490.12 Q104.751 1493.25 106.649 1495.03 Q108.571 1496.81 111.904 1496.81 Q115.237 1496.81 117.159 1495.03 Q119.08 1493.23 119.08 1490.12 Q119.08 1487 117.159 1485.22 Q115.26 1483.43 111.904 1483.43 M107.228 1481.44 Q104.219 1480.7 102.529 1478.64 Q100.862 1476.58 100.862 1473.62 Q100.862 1469.48 103.802 1467.07 Q106.765 1464.66 111.904 1464.66 Q117.066 1464.66 120.006 1467.07 Q122.946 1469.48 122.946 1473.62 Q122.946 1476.58 121.256 1478.64 Q119.589 1480.7 116.603 1481.44 Q119.983 1482.23 121.858 1484.52 Q123.756 1486.81 123.756 1490.12 Q123.756 1495.15 120.677 1497.83 Q117.621 1500.52 111.904 1500.52 Q106.186 1500.52 103.108 1497.83 Q100.052 1495.15 100.052 1490.12 Q100.052 1486.81 101.95 1484.52 Q103.848 1482.23 107.228 1481.44 M105.515 1474.06 Q105.515 1476.74 107.182 1478.25 Q108.872 1479.75 111.904 1479.75 Q114.913 1479.75 116.603 1478.25 Q118.316 1476.74 118.316 1474.06 Q118.316 1471.37 116.603 1469.87 Q114.913 1468.37 111.904 1468.37 Q108.872 1468.37 107.182 1469.87 Q105.515 1471.37 105.515 1474.06 Z\" fill=\"#000000\" fill-rule=\"evenodd\" fill-opacity=\"1\" /><path clip-path=\"url(#clip280)\" d=\"M 0 0 M138.825 1468.37 Q135.214 1468.37 133.385 1471.93 Q131.58 1475.47 131.58 1482.6 Q131.58 1489.71 133.385 1493.27 Q135.214 1496.81 138.825 1496.81 Q142.459 1496.81 144.265 1493.27 Q146.094 1489.71 146.094 1482.6 Q146.094 1475.47 144.265 1471.93 Q142.459 1468.37 138.825 1468.37 M138.825 1464.66 Q144.635 1464.66 147.691 1469.27 Q150.769 1473.85 150.769 1482.6 Q150.769 1491.33 147.691 1495.93 Q144.635 1500.52 138.825 1500.52 Q133.015 1500.52 129.936 1495.93 Q126.881 1491.33 126.881 1482.6 Q126.881 1473.85 129.936 1469.27 Q133.015 1464.66 138.825 1464.66 Z\" fill=\"#000000\" fill-rule=\"evenodd\" fill-opacity=\"1\" /><path clip-path=\"url(#clip280)\" d=\"M 0 0 M75.9319 1119.72 Q72.3208 1119.72 70.4921 1123.28 Q68.6865 1126.82 68.6865 1133.95 Q68.6865 1141.06 70.4921 1144.62 Q72.3208 1148.17 75.9319 1148.17 Q79.5661 1148.17 81.3717 1144.62 Q83.2004 1141.06 83.2004 1133.95 Q83.2004 1126.82 81.3717 1123.28 Q79.5661 1119.72 75.9319 1119.72 M75.9319 1116.01 Q81.742 1116.01 84.7976 1120.62 Q87.8763 1125.2 87.8763 1133.95 Q87.8763 1142.68 84.7976 1147.29 Q81.742 1151.87 75.9319 1151.87 Q70.1217 1151.87 67.043 1147.29 Q63.9875 1142.68 63.9875 1133.95 Q63.9875 1125.2 67.043 1120.62 Q70.1217 1116.01 75.9319 1116.01 Z\" fill=\"#000000\" fill-rule=\"evenodd\" fill-opacity=\"1\" /><path clip-path=\"url(#clip280)\" d=\"M 0 0 M92.9457 1145.32 L97.8299 1145.32 L97.8299 1151.2 L92.9457 1151.2 L92.9457 1145.32 Z\" fill=\"#000000\" fill-rule=\"evenodd\" fill-opacity=\"1\" /><path clip-path=\"url(#clip280)\" d=\"M 0 0 M112.899 1134.79 Q109.566 1134.79 107.645 1136.57 Q105.747 1138.35 105.747 1141.48 Q105.747 1144.6 107.645 1146.38 Q109.566 1148.17 112.899 1148.17 Q116.233 1148.17 118.154 1146.38 Q120.075 1144.58 120.075 1141.48 Q120.075 1138.35 118.154 1136.57 Q116.256 1134.79 112.899 1134.79 M108.223 1132.8 Q105.214 1132.05 103.524 1129.99 Q101.858 1127.93 101.858 1124.97 Q101.858 1120.83 104.797 1118.42 Q107.76 1116.01 112.899 1116.01 Q118.061 1116.01 121.001 1118.42 Q123.941 1120.83 123.941 1124.97 Q123.941 1127.93 122.251 1129.99 Q120.584 1132.05 117.598 1132.8 Q120.978 1133.58 122.853 1135.87 Q124.751 1138.17 124.751 1141.48 Q124.751 1146.5 121.672 1149.18 Q118.617 1151.87 112.899 1151.87 Q107.182 1151.87 104.103 1149.18 Q101.047 1146.5 101.047 1141.48 Q101.047 1138.17 102.946 1135.87 Q104.844 1133.58 108.223 1132.8 M106.51 1125.41 Q106.51 1128.1 108.177 1129.6 Q109.867 1131.11 112.899 1131.11 Q115.909 1131.11 117.598 1129.6 Q119.311 1128.1 119.311 1125.41 Q119.311 1122.73 117.598 1121.22 Q115.909 1119.72 112.899 1119.72 Q109.867 1119.72 108.177 1121.22 Q106.51 1122.73 106.51 1125.41 Z\" fill=\"#000000\" fill-rule=\"evenodd\" fill-opacity=\"1\" /><path clip-path=\"url(#clip280)\" d=\"M 0 0 M129.867 1116.64 L148.223 1116.64 L148.223 1120.57 L134.149 1120.57 L134.149 1129.05 Q135.168 1128.7 136.186 1128.54 Q137.205 1128.35 138.223 1128.35 Q144.01 1128.35 147.39 1131.52 Q150.769 1134.69 150.769 1140.11 Q150.769 1145.69 147.297 1148.79 Q143.825 1151.87 137.506 1151.87 Q135.33 1151.87 133.061 1151.5 Q130.816 1151.13 128.408 1150.39 L128.408 1145.69 Q130.492 1146.82 132.714 1147.38 Q134.936 1147.93 137.413 1147.93 Q141.418 1147.93 143.756 1145.83 Q146.094 1143.72 146.094 1140.11 Q146.094 1136.5 143.756 1134.39 Q141.418 1132.29 137.413 1132.29 Q135.538 1132.29 133.663 1132.7 Q131.811 1133.12 129.867 1134 L129.867 1116.64 Z\" fill=\"#000000\" fill-rule=\"evenodd\" fill-opacity=\"1\" /><path clip-path=\"url(#clip280)\" d=\"M 0 0 M75.0291 771.068 Q71.418 771.068 69.5893 774.633 Q67.7838 778.175 67.7838 785.304 Q67.7838 792.411 69.5893 795.976 Q71.418 799.517 75.0291 799.517 Q78.6633 799.517 80.4689 795.976 Q82.2976 792.411 82.2976 785.304 Q82.2976 778.175 80.4689 774.633 Q78.6633 771.068 75.0291 771.068 M75.0291 767.365 Q80.8393 767.365 83.8948 771.971 Q86.9735 776.554 86.9735 785.304 Q86.9735 794.031 83.8948 798.638 Q80.8393 803.221 75.0291 803.221 Q69.2189 803.221 66.1403 798.638 Q63.0847 794.031 63.0847 785.304 Q63.0847 776.554 66.1403 771.971 Q69.2189 767.365 75.0291 767.365 Z\" fill=\"#000000\" fill-rule=\"evenodd\" fill-opacity=\"1\" /><path clip-path=\"url(#clip280)\" d=\"M 0 0 M92.0429 796.67 L96.9271 796.67 L96.9271 802.55 L92.0429 802.55 L92.0429 796.67 Z\" fill=\"#000000\" fill-rule=\"evenodd\" fill-opacity=\"1\" /><path clip-path=\"url(#clip280)\" d=\"M 0 0 M102.135 801.832 L102.135 797.573 Q103.895 798.406 105.7 798.846 Q107.506 799.286 109.242 799.286 Q113.871 799.286 116.302 796.184 Q118.756 793.059 119.103 786.716 Q117.76 788.707 115.7 789.772 Q113.64 790.837 111.14 790.837 Q105.955 790.837 102.922 787.712 Q99.9132 784.564 99.9132 779.124 Q99.9132 773.8 103.061 770.582 Q106.209 767.365 111.441 767.365 Q117.436 767.365 120.584 771.971 Q123.756 776.554 123.756 785.304 Q123.756 793.476 119.867 798.36 Q116.001 803.221 109.45 803.221 Q107.691 803.221 105.885 802.874 Q104.08 802.526 102.135 801.832 M111.441 787.179 Q114.589 787.179 116.418 785.027 Q118.27 782.874 118.27 779.124 Q118.27 775.397 116.418 773.244 Q114.589 771.068 111.441 771.068 Q108.293 771.068 106.441 773.244 Q104.612 775.397 104.612 779.124 Q104.612 782.874 106.441 785.027 Q108.293 787.179 111.441 787.179 Z\" fill=\"#000000\" fill-rule=\"evenodd\" fill-opacity=\"1\" /><path clip-path=\"url(#clip280)\" d=\"M 0 0 M138.825 771.068 Q135.214 771.068 133.385 774.633 Q131.58 778.175 131.58 785.304 Q131.58 792.411 133.385 795.976 Q135.214 799.517 138.825 799.517 Q142.459 799.517 144.265 795.976 Q146.094 792.411 146.094 785.304 Q146.094 778.175 144.265 774.633 Q142.459 771.068 138.825 771.068 M138.825 767.365 Q144.635 767.365 147.691 771.971 Q150.769 776.554 150.769 785.304 Q150.769 794.031 147.691 798.638 Q144.635 803.221 138.825 803.221 Q133.015 803.221 129.936 798.638 Q126.881 794.031 126.881 785.304 Q126.881 776.554 129.936 771.971 Q133.015 767.365 138.825 767.365 Z\" fill=\"#000000\" fill-rule=\"evenodd\" fill-opacity=\"1\" /><path clip-path=\"url(#clip280)\" d=\"M 0 0 M76.0245 422.42 Q72.4134 422.42 70.5847 425.984 Q68.7791 429.526 68.7791 436.656 Q68.7791 443.762 70.5847 447.327 Q72.4134 450.869 76.0245 450.869 Q79.6587 450.869 81.4642 447.327 Q83.2929 443.762 83.2929 436.656 Q83.2929 429.526 81.4642 425.984 Q79.6587 422.42 76.0245 422.42 M76.0245 418.716 Q81.8346 418.716 84.8902 423.322 Q87.9688 427.906 87.9688 436.656 Q87.9688 445.383 84.8902 449.989 Q81.8346 454.572 76.0245 454.572 Q70.2143 454.572 67.1356 449.989 Q64.0801 445.383 64.0801 436.656 Q64.0801 427.906 67.1356 423.322 Q70.2143 418.716 76.0245 418.716 Z\" fill=\"#000000\" fill-rule=\"evenodd\" fill-opacity=\"1\" /><path clip-path=\"url(#clip280)\" d=\"M 0 0 M93.0383 448.021 L97.9225 448.021 L97.9225 453.901 L93.0383 453.901 L93.0383 448.021 Z\" fill=\"#000000\" fill-rule=\"evenodd\" fill-opacity=\"1\" /><path clip-path=\"url(#clip280)\" d=\"M 0 0 M103.131 453.183 L103.131 448.924 Q104.89 449.758 106.696 450.197 Q108.501 450.637 110.237 450.637 Q114.867 450.637 117.297 447.535 Q119.751 444.41 120.098 438.068 Q118.756 440.058 116.696 441.123 Q114.635 442.188 112.135 442.188 Q106.95 442.188 103.918 439.063 Q100.909 435.915 100.909 430.475 Q100.909 425.151 104.057 421.934 Q107.205 418.716 112.436 418.716 Q118.432 418.716 121.58 423.322 Q124.751 427.906 124.751 436.656 Q124.751 444.827 120.862 449.711 Q116.996 454.572 110.446 454.572 Q108.686 454.572 106.881 454.225 Q105.075 453.878 103.131 453.183 M112.436 438.531 Q115.584 438.531 117.413 436.378 Q119.265 434.225 119.265 430.475 Q119.265 426.748 117.413 424.596 Q115.584 422.42 112.436 422.42 Q109.288 422.42 107.436 424.596 Q105.608 426.748 105.608 430.475 Q105.608 434.225 107.436 436.378 Q109.288 438.531 112.436 438.531 Z\" fill=\"#000000\" fill-rule=\"evenodd\" fill-opacity=\"1\" /><path clip-path=\"url(#clip280)\" d=\"M 0 0 M129.867 419.341 L148.223 419.341 L148.223 423.276 L134.149 423.276 L134.149 431.748 Q135.168 431.401 136.186 431.239 Q137.205 431.054 138.223 431.054 Q144.01 431.054 147.39 434.225 Q150.769 437.396 150.769 442.813 Q150.769 448.392 147.297 451.494 Q143.825 454.572 137.506 454.572 Q135.33 454.572 133.061 454.202 Q130.816 453.832 128.408 453.091 L128.408 448.392 Q130.492 449.526 132.714 450.082 Q134.936 450.637 137.413 450.637 Q141.418 450.637 143.756 448.531 Q146.094 446.424 146.094 442.813 Q146.094 439.202 143.756 437.096 Q141.418 434.989 137.413 434.989 Q135.538 434.989 133.663 435.406 Q131.811 435.822 129.867 436.702 L129.867 419.341 Z\" fill=\"#000000\" fill-rule=\"evenodd\" fill-opacity=\"1\" /><path clip-path=\"url(#clip280)\" d=\"M 0 0 M66.881 101.317 L74.5198 101.317 L74.5198 74.9517 L66.2097 76.6183 L66.2097 72.3591 L74.4735 70.6924 L79.1494 70.6924 L79.1494 101.317 L86.7883 101.317 L86.7883 105.252 L66.881 105.252 L66.881 101.317 Z\" fill=\"#000000\" fill-rule=\"evenodd\" fill-opacity=\"1\" /><path clip-path=\"url(#clip280)\" d=\"M 0 0 M91.8577 99.3728 L96.7419 99.3728 L96.7419 105.252 L91.8577 105.252 L91.8577 99.3728 Z\" fill=\"#000000\" fill-rule=\"evenodd\" fill-opacity=\"1\" /><path clip-path=\"url(#clip280)\" d=\"M 0 0 M111.811 73.7711 Q108.2 73.7711 106.372 77.3359 Q104.566 80.8776 104.566 88.0072 Q104.566 95.1136 106.372 98.6784 Q108.2 102.22 111.811 102.22 Q115.446 102.22 117.251 98.6784 Q119.08 95.1136 119.08 88.0072 Q119.08 80.8776 117.251 77.3359 Q115.446 73.7711 111.811 73.7711 M111.811 70.0674 Q117.621 70.0674 120.677 74.6739 Q123.756 79.2572 123.756 88.0072 Q123.756 96.734 120.677 101.34 Q117.621 105.924 111.811 105.924 Q106.001 105.924 102.922 101.34 Q99.8669 96.734 99.8669 88.0072 Q99.8669 79.2572 102.922 74.6739 Q106.001 70.0674 111.811 70.0674 Z\" fill=\"#000000\" fill-rule=\"evenodd\" fill-opacity=\"1\" /><path clip-path=\"url(#clip280)\" d=\"M 0 0 M138.825 73.7711 Q135.214 73.7711 133.385 77.3359 Q131.58 80.8776 131.58 88.0072 Q131.58 95.1136 133.385 98.6784 Q135.214 102.22 138.825 102.22 Q142.459 102.22 144.265 98.6784 Q146.094 95.1136 146.094 88.0072 Q146.094 80.8776 144.265 77.3359 Q142.459 73.7711 138.825 73.7711 M138.825 70.0674 Q144.635 70.0674 147.691 74.6739 Q150.769 79.2572 150.769 88.0072 Q150.769 96.734 147.691 101.34 Q144.635 105.924 138.825 105.924 Q133.015 105.924 129.936 101.34 Q126.881 96.734 126.881 88.0072 Q126.881 79.2572 129.936 74.6739 Q133.015 70.0674 138.825 70.0674 Z\" fill=\"#000000\" fill-rule=\"evenodd\" fill-opacity=\"1\" /><circle clip-path=\"url(#clip282)\" cx=\"236.411\" cy=\"1445.72\" r=\"14\" fill=\"#009af9\" fill-rule=\"evenodd\" fill-opacity=\"1\" stroke=\"#000000\" stroke-opacity=\"1\" stroke-width=\"3.2\"/>\n",
       "<circle clip-path=\"url(#clip282)\" cx=\"350.561\" cy=\"873.428\" r=\"14\" fill=\"#009af9\" fill-rule=\"evenodd\" fill-opacity=\"1\" stroke=\"#000000\" stroke-opacity=\"1\" stroke-width=\"3.2\"/>\n",
       "<circle clip-path=\"url(#clip282)\" cx=\"464.711\" cy=\"483.582\" r=\"14\" fill=\"#009af9\" fill-rule=\"evenodd\" fill-opacity=\"1\" stroke=\"#000000\" stroke-opacity=\"1\" stroke-width=\"3.2\"/>\n",
       "<circle clip-path=\"url(#clip282)\" cx=\"578.861\" cy=\"292.725\" r=\"14\" fill=\"#009af9\" fill-rule=\"evenodd\" fill-opacity=\"1\" stroke=\"#000000\" stroke-opacity=\"1\" stroke-width=\"3.2\"/>\n",
       "<circle clip-path=\"url(#clip282)\" cx=\"693.011\" cy=\"190.581\" r=\"14\" fill=\"#009af9\" fill-rule=\"evenodd\" fill-opacity=\"1\" stroke=\"#000000\" stroke-opacity=\"1\" stroke-width=\"3.2\"/>\n",
       "<circle clip-path=\"url(#clip282)\" cx=\"807.162\" cy=\"142.286\" r=\"14\" fill=\"#009af9\" fill-rule=\"evenodd\" fill-opacity=\"1\" stroke=\"#000000\" stroke-opacity=\"1\" stroke-width=\"3.2\"/>\n",
       "<circle clip-path=\"url(#clip282)\" cx=\"921.312\" cy=\"114.941\" r=\"14\" fill=\"#009af9\" fill-rule=\"evenodd\" fill-opacity=\"1\" stroke=\"#000000\" stroke-opacity=\"1\" stroke-width=\"3.2\"/>\n",
       "<circle clip-path=\"url(#clip282)\" cx=\"1035.46\" cy=\"100.2\" r=\"14\" fill=\"#009af9\" fill-rule=\"evenodd\" fill-opacity=\"1\" stroke=\"#000000\" stroke-opacity=\"1\" stroke-width=\"3.2\"/>\n",
       "<circle clip-path=\"url(#clip282)\" cx=\"1149.61\" cy=\"94.1922\" r=\"14\" fill=\"#009af9\" fill-rule=\"evenodd\" fill-opacity=\"1\" stroke=\"#000000\" stroke-opacity=\"1\" stroke-width=\"3.2\"/>\n",
       "<circle clip-path=\"url(#clip282)\" cx=\"1263.76\" cy=\"91.254\" r=\"14\" fill=\"#009af9\" fill-rule=\"evenodd\" fill-opacity=\"1\" stroke=\"#000000\" stroke-opacity=\"1\" stroke-width=\"3.2\"/>\n",
       "<circle clip-path=\"url(#clip282)\" cx=\"1377.91\" cy=\"89.3728\" r=\"14\" fill=\"#009af9\" fill-rule=\"evenodd\" fill-opacity=\"1\" stroke=\"#000000\" stroke-opacity=\"1\" stroke-width=\"3.2\"/>\n",
       "<circle clip-path=\"url(#clip282)\" cx=\"1492.06\" cy=\"88.6697\" r=\"14\" fill=\"#009af9\" fill-rule=\"evenodd\" fill-opacity=\"1\" stroke=\"#000000\" stroke-opacity=\"1\" stroke-width=\"3.2\"/>\n",
       "<circle clip-path=\"url(#clip282)\" cx=\"1606.21\" cy=\"88.2768\" r=\"14\" fill=\"#009af9\" fill-rule=\"evenodd\" fill-opacity=\"1\" stroke=\"#000000\" stroke-opacity=\"1\" stroke-width=\"3.2\"/>\n",
       "<circle clip-path=\"url(#clip282)\" cx=\"1720.36\" cy=\"88.1083\" r=\"14\" fill=\"#009af9\" fill-rule=\"evenodd\" fill-opacity=\"1\" stroke=\"#000000\" stroke-opacity=\"1\" stroke-width=\"3.2\"/>\n",
       "<circle clip-path=\"url(#clip282)\" cx=\"1834.51\" cy=\"88.0508\" r=\"14\" fill=\"#009af9\" fill-rule=\"evenodd\" fill-opacity=\"1\" stroke=\"#000000\" stroke-opacity=\"1\" stroke-width=\"3.2\"/>\n",
       "<circle clip-path=\"url(#clip282)\" cx=\"1948.66\" cy=\"88.0091\" r=\"14\" fill=\"#009af9\" fill-rule=\"evenodd\" fill-opacity=\"1\" stroke=\"#000000\" stroke-opacity=\"1\" stroke-width=\"3.2\"/>\n",
       "<circle clip-path=\"url(#clip282)\" cx=\"2062.81\" cy=\"87.9906\" r=\"14\" fill=\"#009af9\" fill-rule=\"evenodd\" fill-opacity=\"1\" stroke=\"#000000\" stroke-opacity=\"1\" stroke-width=\"3.2\"/>\n",
       "<circle clip-path=\"url(#clip282)\" cx=\"2176.96\" cy=\"87.9794\" r=\"14\" fill=\"#009af9\" fill-rule=\"evenodd\" fill-opacity=\"1\" stroke=\"#000000\" stroke-opacity=\"1\" stroke-width=\"3.2\"/>\n",
       "<circle clip-path=\"url(#clip282)\" cx=\"2291.11\" cy=\"87.9763\" r=\"14\" fill=\"#009af9\" fill-rule=\"evenodd\" fill-opacity=\"1\" stroke=\"#000000\" stroke-opacity=\"1\" stroke-width=\"3.2\"/>\n",
       "<path clip-path=\"url(#clip280)\" d=\"\n",
       "M1989.74 251.724 L2280.76 251.724 L2280.76 130.764 L1989.74 130.764  Z\n",
       "  \" fill=\"#ffffff\" fill-rule=\"evenodd\" fill-opacity=\"1\"/>\n",
       "<polyline clip-path=\"url(#clip280)\" style=\"stroke:#000000; stroke-width:4; stroke-opacity:1; fill:none\" points=\"\n",
       "  1989.74,251.724 2280.76,251.724 2280.76,130.764 1989.74,130.764 1989.74,251.724 \n",
       "  \"/>\n",
       "<circle clip-path=\"url(#clip280)\" cx=\"2097.74\" cy=\"191.244\" r=\"23\" fill=\"#009af9\" fill-rule=\"evenodd\" fill-opacity=\"1\" stroke=\"#000000\" stroke-opacity=\"1\" stroke-width=\"5.12\"/>\n",
       "<path clip-path=\"url(#clip280)\" d=\"M 0 0 M2195.58 210.931 Q2193.77 215.561 2192.06 216.973 Q2190.35 218.385 2187.48 218.385 L2184.08 218.385 L2184.08 214.82 L2186.58 214.82 Q2188.33 214.82 2189.31 213.987 Q2190.28 213.154 2191.46 210.052 L2192.22 208.107 L2181.74 182.598 L2186.25 182.598 L2194.35 202.876 L2202.46 182.598 L2206.97 182.598 L2195.58 210.931 Z\" fill=\"#000000\" fill-rule=\"evenodd\" fill-opacity=\"1\" /><path clip-path=\"url(#clip280)\" d=\"M 0 0 M2212.85 204.589 L2220.49 204.589 L2220.49 178.223 L2212.18 179.89 L2212.18 175.631 L2220.44 173.964 L2225.12 173.964 L2225.12 204.589 L2232.76 204.589 L2232.76 208.524 L2212.85 208.524 L2212.85 204.589 Z\" fill=\"#000000\" fill-rule=\"evenodd\" fill-opacity=\"1\" /></svg>\n"
      ]
     },
     "execution_count": 170,
     "metadata": {},
     "output_type": "execute_result"
    }
   ],
   "source": [
    "\n",
    "\n",
    "plot(2:20, ([Ω̂.ω([1, i], 0) / ( Ω̂.ω([0, i], 0) + Ω̂.ω([1, i], 0)) for i in 2:20]), seriestype = :scatter)"
   ]
  }
 ],
 "metadata": {
  "kernelspec": {
   "display_name": "Julia 1.4.2",
   "language": "julia",
   "name": "julia-1.4"
  },
  "language_info": {
   "file_extension": ".jl",
   "mimetype": "application/julia",
   "name": "julia",
   "version": "1.4.2"
  }
 },
 "nbformat": 4,
 "nbformat_minor": 4
}
