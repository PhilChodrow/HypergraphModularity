{
 "cells": [
  {
   "cell_type": "code",
   "execution_count": 1,
   "metadata": {},
   "outputs": [],
   "source": [
    "using StatsBase\n",
    "using Combinatorics"
   ]
  },
  {
   "cell_type": "code",
   "execution_count": 2,
   "metadata": {},
   "outputs": [
    {
     "data": {
      "text/plain": [
       "1×11 Array{Int64,2}:\n",
       " 3  4  2  5  6  4  3  2  5  2  2"
      ]
     },
     "execution_count": 2,
     "metadata": {},
     "output_type": "execute_result"
    }
   ],
   "source": [
    "Z = [1 1 2 2 3 3 4 4 4 5 5] # group partition\n",
    "D = [3 4 2 5 6 4 3 2 5 2 2] # degree sequence\n",
    "\n"
   ]
  },
  {
   "cell_type": "markdown",
   "metadata": {},
   "source": [
    "First thing we'll do: let's check the formula\n",
    "\n",
    "$$\\sum_{R \\in [n]^\\ell} \\mathbb{I}(\\#(\\mathbf{z}_R) = p) \\sigma(\\theta_R) = \\sum_{y: \\#y = p}\\prod_{a = 1}^{\\ell}v_{y_a}\\;,$$\n",
    "\n",
    "In this formula, we're allowing R to range over $[n]^\\ell$, where $\\ell$ is the number of nodes per hyperedge, and $n$ the number of nodes.  This is **different** from the current version of the nodes, and matches the conversation we had over email. \n",
    "\n"
   ]
  },
  {
   "cell_type": "code",
   "execution_count": 3,
   "metadata": {},
   "outputs": [
    {
     "data": {
      "text/plain": [
       "evalSum2 (generic function with 1 method)"
      ]
     },
     "execution_count": 3,
     "metadata": {},
     "output_type": "execute_result"
    }
   ],
   "source": [
    "# Naive evaluation of the sum (LHS)\n",
    "\n",
    "function evalSum(p, Z, D)\n",
    "    n = length(Z)\n",
    "    ℓ = sum(p)\n",
    "\n",
    "    S = 0\n",
    "\n",
    "    T = Iterators.product((1:n for i = 1:ℓ)...)\n",
    "\n",
    "    for R in T\n",
    "        a = countmap(vec(Z[collect(R)]))\n",
    "        a = -sort(-collect(values(a)))\n",
    "        if a == p\n",
    "            S += prod(D[collect(R)])\n",
    "        end\n",
    "    end\n",
    "    return(S)\n",
    "end\n",
    "\n",
    "# Faster evaluation (RHS)\n",
    "\n",
    "function evalSum2(p, Z, D)\n",
    "    n = length(Z)\n",
    "    ℓ = sum(p)\n",
    "    S = 0\n",
    "\n",
    "    V = [sum([(Z[i] == s)*D[i] for i = 1:n]) for s = 1:maximum(Z)] # vector of volumes\n",
    "\n",
    "    P = Iterators.product((1:maximum(Z) for i = 1:ℓ)...)\n",
    "    for p_ in P\n",
    "        a = countmap(vec(collect(p_)))\n",
    "        a = -sort(-collect(values(a)))\n",
    "        if a == p\n",
    "          S += prod(V[collect(p_)])\n",
    "        end\n",
    "    end\n",
    "\n",
    "    return(S)\n",
    "end"
   ]
  },
  {
   "cell_type": "code",
   "execution_count": 4,
   "metadata": {},
   "outputs": [
    {
     "name": "stdout",
     "output_type": "stream",
     "text": [
      "true\n",
      "true\n",
      "true\n",
      "true\n",
      "true\n",
      "true\n"
     ]
    }
   ],
   "source": [
    "# test: check that these two functions give the same result on all partitions\n",
    "# this will be very slow for even moderate n\n",
    "\n",
    "ℓ = 3\n",
    "\n",
    "for i = 1:ℓ\n",
    "    for j = 1:i\n",
    "        for p in partitions(i,j)\n",
    "            println(evalSum(p, Z, D) == evalSum2(p, Z, D))\n",
    "        end\n",
    "    end\n",
    "end"
   ]
  },
  {
   "cell_type": "markdown",
   "metadata": {},
   "source": [
    "Ok, looks good! `evalSum2` is a lot faster than `evalSum`, although they are both very slow. Presumably this is due in part to kludgy coding on my part, but one would imagine that even much better coding practice could only improve these so much"
   ]
  },
  {
   "cell_type": "code",
   "execution_count": 9,
   "metadata": {},
   "outputs": [
    {
     "name": "stdout",
     "output_type": "stream",
     "text": [
      "  0.109304 seconds (30.42 k allocations: 94.904 MiB, 21.07% gc time)\n",
      "  0.012299 seconds (2.65 k allocations: 8.912 MiB, 57.13% gc time)\n"
     ]
    },
    {
     "data": {
      "text/plain": [
       "27546"
      ]
     },
     "execution_count": 9,
     "metadata": {},
     "output_type": "execute_result"
    }
   ],
   "source": [
    "p = [2, 1]\n",
    "@time evalSum(p, Z, D)\n",
    "@time evalSum2(p, Z, D)"
   ]
  },
  {
   "cell_type": "markdown",
   "metadata": {},
   "source": [
    "Next we're going to try to use the recursion lemma from the notes in order to evaluate the sums for every possible partition vector p at once. "
   ]
  },
  {
   "cell_type": "code",
   "execution_count": 10,
   "metadata": {},
   "outputs": [
    {
     "data": {
      "text/plain": [
       "evalSums (generic function with 1 method)"
      ]
     },
     "execution_count": 10,
     "metadata": {},
     "output_type": "execute_result"
    }
   ],
   "source": [
    "function correctOvercounting(M, p)\n",
    "    \"\"\"\n",
    "    Utility function: second term in the recurrence in the notes\n",
    "    \"\"\"\n",
    "        pk = p[end]\n",
    "        S = 0\n",
    "        for i = 1:length(p)-1\n",
    "            p_ = copy(p)[1:(end-1)]\n",
    "            p_[i] += pk\n",
    "            S += M[-sort(-p_)]\n",
    "        end\n",
    "        return(S)\n",
    "    end\n",
    "\n",
    "function evalSums(Z, D, r)\n",
    "    \"\"\"\n",
    "    Z: an Array of integer group labels\n",
    "    D: an Array of degrees\n",
    "    ℓ: the largest hyperedge size to compute\n",
    "    \"\"\"\n",
    "    \n",
    "    V = [sum([D[i]*(Z[i] == j) for i in 1:length(Z)]) for j in 1:maximum(Z)]\n",
    "    μ = [sum(V.^i) for i = 1:ℓ]\n",
    "\n",
    "    M = Dict()\n",
    "\n",
    "    for i = 1:r\n",
    "        for j = 1:i # number of nonzero entries\n",
    "            for p in partitions(i, j)\n",
    "                pk = p[j]\n",
    "                M[p] = μ[p[end]]*get(M, p[1:(end-1)], 1) - correctOvercounting(M,p)\n",
    "            end\n",
    "        end\n",
    "    end\n",
    "    N = Dict()\n",
    "    for p in keys(M)\n",
    "        orderCorrection = 1\n",
    "        counts = values(countmap(p))\n",
    "        for c in counts\n",
    "            orderCorrection *= factorial(c) \n",
    "        end\n",
    "\n",
    "        N[p] = M[p] * multinomial(p...) ÷ orderCorrection\n",
    "    end\n",
    "    return(N)\n",
    "end"
   ]
  },
  {
   "cell_type": "code",
   "execution_count": 20,
   "metadata": {},
   "outputs": [
    {
     "name": "stdout",
     "output_type": "stream",
     "text": [
      "  0.000684 seconds (539 allocations: 764.281 KiB)\n"
     ]
    },
    {
     "data": {
      "text/plain": [
       "Dict{Any,Any} with 18 entries:\n",
       "  [2, 2, 1]       => 23050800\n",
       "  [1, 1, 1, 1]    => 346080\n",
       "  [3, 2]          => 6288620\n",
       "  [2, 2]          => 220614\n",
       "  [3]             => 2750\n",
       "  [1, 1]          => 1130\n",
       "  [1, 1, 1]       => 24576\n",
       "  [2]             => 314\n",
       "  [2, 1, 1]       => 1175616\n",
       "  [2, 1]          => 27546\n",
       "  [4, 1]          => 3587830\n",
       "  [4]             => 25058\n",
       "  [1]             => 38\n",
       "  [5]             => 234638\n",
       "  [2, 1, 1, 1]    => 26997600\n",
       "  [3, 1, 1]       => 16723680\n",
       "  [1, 1, 1, 1, 1] => 2352000\n",
       "  [3, 1]          => 317768"
      ]
     },
     "execution_count": 20,
     "metadata": {},
     "output_type": "execute_result"
    }
   ],
   "source": [
    "# need to run this block twice in order to avoid timing compile time\n",
    "r = 5 # size of largest hyperedge\n",
    "@time M = evalSums(Z, D, r)"
   ]
  },
  {
   "cell_type": "markdown",
   "metadata": {},
   "source": [
    "For comparison, let's implement `evalSums2` by just running `evalSum2` for each value of `p`: "
   ]
  },
  {
   "cell_type": "code",
   "execution_count": 21,
   "metadata": {},
   "outputs": [
    {
     "data": {
      "text/plain": [
       "evalSums2 (generic function with 1 method)"
      ]
     },
     "execution_count": 21,
     "metadata": {},
     "output_type": "execute_result"
    }
   ],
   "source": [
    "# comparison to using evalSum2 from above\n",
    "function evalSums2(Z, D, ℓ)\n",
    "    N = Dict()\n",
    "    for i = 1:ℓ\n",
    "        for j = 1:i # number of nonzero entries\n",
    "            for p in partitions(i, j)\n",
    "                N[p] = evalSum2(p, Z, D)\n",
    "            end\n",
    "        end\n",
    "    end\n",
    "    return(N)\n",
    "end"
   ]
  },
  {
   "cell_type": "code",
   "execution_count": 23,
   "metadata": {},
   "outputs": [
    {
     "name": "stdout",
     "output_type": "stream",
     "text": [
      "  1.348992 seconds (504.27 k allocations: 1.791 GiB, 22.95% gc time)\n"
     ]
    },
    {
     "data": {
      "text/plain": [
       "Dict{Any,Any} with 18 entries:\n",
       "  [2, 2, 1]       => 23050800\n",
       "  [1, 1, 1, 1]    => 346080\n",
       "  [3, 2]          => 6288620\n",
       "  [2, 2]          => 220614\n",
       "  [3]             => 2750\n",
       "  [1, 1]          => 1130\n",
       "  [1, 1, 1]       => 24576\n",
       "  [2]             => 314\n",
       "  [2, 1, 1]       => 1175616\n",
       "  [2, 1]          => 27546\n",
       "  [4, 1]          => 3587830\n",
       "  [4]             => 25058\n",
       "  [1]             => 38\n",
       "  [5]             => 234638\n",
       "  [2, 1, 1, 1]    => 26997600\n",
       "  [3, 1, 1]       => 16723680\n",
       "  [1, 1, 1, 1, 1] => 2352000\n",
       "  [3, 1]          => 317768"
      ]
     },
     "execution_count": 23,
     "metadata": {},
     "output_type": "execute_result"
    }
   ],
   "source": [
    "# need to run twice to avoid timing compile times\n",
    "@time N = evalSums2(Z, D, ℓ)"
   ]
  },
  {
   "cell_type": "markdown",
   "metadata": {},
   "source": [
    "Ok, so the main thing that these timings tell me us that I wrote `evalSum2` really inefficiently, but still seems promising...."
   ]
  },
  {
   "cell_type": "markdown",
   "metadata": {},
   "source": [
    "# How big can we go?\n",
    "\n",
    "Even with my highly non-optimized code, we can do pretty big instances this way: "
   ]
  },
  {
   "cell_type": "code",
   "execution_count": 25,
   "metadata": {},
   "outputs": [
    {
     "name": "stdout",
     "output_type": "stream",
     "text": [
      "  0.677302 seconds (4.07 M allocations: 127.180 MiB, 42.26% gc time)\n"
     ]
    },
    {
     "data": {
      "text/plain": [
       "Dict{Any,Any} with 683 entries:\n",
       "  [7, 4, 2, 1]                => 5027858454189433314328120153342427908164268397…\n",
       "  [6, 1, 1, 1, 1]             => 7327723515571252347889715277792187252270115876…\n",
       "  [6, 2, 2, 2, 2]             => 1961617046671012689321205902707254951497636559…\n",
       "  [3, 3, 3, 3]                => 4848437493488802731878184569974153054384726331…\n",
       "  [4, 4, 2, 1, 1]             => 1510691417288743151562118440490376125926353532…\n",
       "  [3, 3, 3, 2, 1, 1, 1]       => 6692644385492698076383664205001419355629034600…\n",
       "  [4, 4, 2, 1]                => 2672868700146717578534030044313469807670853237…\n",
       "  [6, 3, 3, 1, 1, 1]          => 2426501230029819603382079398940234904402130196…\n",
       "  [4, 2, 1]                   => 19181638968414986087014211321123066400\n",
       "  [7, 1]                      => 654678836916037443432911317874656869040\n",
       "  [3]                         => 434787418034230\n",
       "  [5, 2, 2, 1, 1, 1]          => 5419615173802319279132039758894819750550060133…\n",
       "  [8, 3, 1]                   => 1416398443898351060822537851940900653086421676…\n",
       "  [3, 2, 2, 2, 2, 1, 1, 1, 1] => 1033169764885009008261450114603040320416958648…\n",
       "  [4, 4, 3, 1, 1]             => 1349807969240887380220835955254621091588216818…\n",
       "  [6, 6, 1, 1]                => 5906895159184112378114978874893633555775443584…\n",
       "  [3, 2, 2, 2, 2, 2, 2]       => 1152118634994848610926340072682422998445523394…\n",
       "  [5, 3, 3, 3]                => 7581294408506987458993625813985358674284430422…\n",
       "  [4, 2, 2, 2, 2]             => 7475099907711791932386305042637484134331188632…\n",
       "  [6, 2, 2, 2, 1, 1]          => 3518693940754860660938435602103059035947752933…\n",
       "  [3, 3, 2, 1, 1, 1, 1]       => 3905953593556606326444769498298057417609405672…\n",
       "  [3, 2, 2, 2, 2, 2]          => 3556903594715501882222194708874091779733765202…\n",
       "  [4, 2, 2, 1, 1, 1, 1]       => 2939669059618112860153883380862996530983282336…\n",
       "  [5, 2, 2, 2, 1]             => 1208543539184590989645705785763869100399946769…\n",
       "  [4, 3, 2, 2, 1, 1, 1, 1]    => 4988711283416617362111401100722772741649041430…\n",
       "  ⋮                           => ⋮"
      ]
     },
     "execution_count": 25,
     "metadata": {},
     "output_type": "execute_result"
    }
   ],
   "source": [
    "# Performance test: how big can we do this?\n",
    "n = 20000\n",
    "\n",
    "Z = rand(1:50, n)\n",
    "Z = convert(Array{BigInt,1}, Z)\n",
    "D = rand(2:100, n)\n",
    "D = convert(Array{BigInt,1}, D)\n",
    "\n",
    "ℓ = 15\n",
    "\n",
    "@time M = evalSums(Z, D, ℓ)"
   ]
  },
  {
   "cell_type": "code",
   "execution_count": null,
   "metadata": {},
   "outputs": [],
   "source": []
  }
 ],
 "metadata": {
  "kernelspec": {
   "display_name": "Julia 1.4.1",
   "language": "julia",
   "name": "julia-1.4"
  },
  "language_info": {
   "file_extension": ".jl",
   "mimetype": "application/julia",
   "name": "julia",
   "version": "1.4.1"
  }
 },
 "nbformat": 4,
 "nbformat_minor": 2
}
