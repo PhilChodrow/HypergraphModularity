{
 "cells": [
  {
   "cell_type": "code",
   "execution_count": 1,
   "metadata": {},
   "outputs": [],
   "source": [
    "using StatsBase\n",
    "using Combinatorics"
   ]
  },
  {
   "cell_type": "code",
   "execution_count": 2,
   "metadata": {},
   "outputs": [
    {
     "ename": "InterruptException",
     "evalue": "InterruptException:",
     "output_type": "error",
     "traceback": [
      "InterruptException:",
      "",
      "Stacktrace:",
      " [1] _softscope at /Users/philchodrow/.julia/packages/SoftGlobalScope/cSbw5/src/SoftGlobalScope.jl:124 [inlined]",
      " [2] softscope(::Module, ::Expr) at /Users/philchodrow/.julia/packages/SoftGlobalScope/cSbw5/src/SoftGlobalScope.jl:177"
     ]
    }
   ],
   "source": [
    "# toy data\n",
    "\n",
    "Z = [1 1 2 2 3 3 4 4 4 5 5] # group partition\n",
    "D = [3 4 2 5 6 4 3 2 5 2 2] # degree sequence"
   ]
  },
  {
   "cell_type": "markdown",
   "metadata": {},
   "source": [
    "First thing we'll do: let's check the formula\n",
    "\n",
    "$$\\sum_{R \\in [n]^\\ell} \\mathbb{I}(\\#(\\mathbf{z}_R) = p) \\sigma(\\theta_R) = \\sum_{y: \\#y = p}\\prod_{a = 1}^{\\ell}v_{y_a}\\;,$$\n",
    "\n",
    "In this formula, we're allowing R to range over $[n]^\\ell$, where $\\ell$ is the number of nodes per hyperedge, and $n$ the number of nodes.  $p$ is a specified permutation. This is **different** from the current version of the nodes, and matches the conversation we had over email. \n",
    "\n"
   ]
  },
  {
   "cell_type": "code",
   "execution_count": 3,
   "metadata": {},
   "outputs": [],
   "source": [
    "# Naive evaluation of the sum (LHS)\n",
    "\n",
    "function evalSum(p, Z, D)\n",
    "    n = length(Z)\n",
    "    ℓ = sum(p)\n",
    "\n",
    "    S = 0\n",
    "\n",
    "    T = Iterators.product((1:n for i = 1:ℓ)...)\n",
    "\n",
    "    for R in T\n",
    "        a = countmap(vec(Z[collect(R)]))\n",
    "        a = -sort(-collect(values(a)))\n",
    "        if a == p\n",
    "            S += prod(D[collect(R)])\n",
    "        end\n",
    "    end\n",
    "    return(S)\n",
    "end\n",
    "\n",
    "# Faster evaluation (RHS)\n",
    "\n",
    "function evalSum2(p, Z, D)\n",
    "    n = length(Z)\n",
    "    ℓ = sum(p)\n",
    "    S = 0\n",
    "\n",
    "    V = [sum([(Z[i] == s)*D[i] for i = 1:n]) for s = 1:maximum(Z)] # vector of volumes\n",
    "\n",
    "    P = Iterators.product((1:maximum(Z) for i = 1:ℓ)...)\n",
    "    for p_ in P\n",
    "        a = countmap(vec(collect(p_)))\n",
    "        a = -sort(-collect(values(a)))\n",
    "        if a == p\n",
    "          S += prod(V[collect(p_)])\n",
    "        end\n",
    "    end\n",
    "\n",
    "    return(S)\n",
    "end;"
   ]
  },
  {
   "cell_type": "code",
   "execution_count": 5,
   "metadata": {},
   "outputs": [
    {
     "ename": "UndefVarError",
     "evalue": "UndefVarError: Z not defined",
     "output_type": "error",
     "traceback": [
      "UndefVarError: Z not defined",
      "",
      "Stacktrace:",
      " [1] top-level scope at ./In[5]:9"
     ]
    }
   ],
   "source": [
    "# test: check that these two functions give the same result on all partitions\n",
    "# this will be very slow for even moderate n\n",
    "\n",
    "r = 3\n",
    "\n",
    "for i = 1:r\n",
    "    for j = 1:i\n",
    "        for p in partitions(i,j)\n",
    "            println(evalSum(p, Z, D) == evalSum2(p, Z, D))\n",
    "        end\n",
    "    end\n",
    "end"
   ]
  },
  {
   "cell_type": "markdown",
   "metadata": {},
   "source": [
    "Ok, looks good! `evalSum2` is a lot faster than `evalSum`, although they are both very slow. Presumably this is due in part to kludgy coding on my part, but one would imagine that even much better coding practice could only improve these so much"
   ]
  },
  {
   "cell_type": "code",
   "execution_count": 7,
   "metadata": {},
   "outputs": [
    {
     "name": "stdout",
     "output_type": "stream",
     "text": [
      "  0.125355 seconds (30.42 k allocations: 94.904 MiB, 25.50% gc time)\n",
      "  0.013573 seconds (2.65 k allocations: 8.912 MiB, 61.19% gc time)\n"
     ]
    },
    {
     "data": {
      "text/plain": [
       "27546"
      ]
     },
     "execution_count": 7,
     "metadata": {},
     "output_type": "execute_result"
    }
   ],
   "source": [
    "p = [2, 1]\n",
    "@time evalSum(p, Z, D)\n",
    "@time evalSum2(p, Z, D)"
   ]
  },
  {
   "cell_type": "markdown",
   "metadata": {},
   "source": [
    "Next we're going to try to use the recursion lemma from the notes in order to evaluate the sums for every possible partition vector p at once. "
   ]
  },
  {
   "cell_type": "code",
   "execution_count": 8,
   "metadata": {},
   "outputs": [
    {
     "data": {
      "text/plain": [
       "evalSums (generic function with 1 method)"
      ]
     },
     "execution_count": 8,
     "metadata": {},
     "output_type": "execute_result"
    }
   ],
   "source": [
    "function correctOvercounting(M, p)\n",
    "    \"\"\"\n",
    "    Utility function: second term in the recurrence in the notes\n",
    "    \"\"\"\n",
    "        pk = p[end]\n",
    "        S = 0\n",
    "        for i = 1:length(p)-1\n",
    "            p_ = copy(p)[1:(end-1)]\n",
    "            p_[i] += pk\n",
    "            S += M[-sort(-p_)]\n",
    "        end\n",
    "        return(S)\n",
    "    end\n",
    "\n",
    "function evalSums(Z, D, r)\n",
    "    \"\"\"\n",
    "    Z: an Array of integer group labels\n",
    "    D: an Array of degrees\n",
    "    ℓ: the largest hyperedge size to compute\n",
    "    \"\"\"\n",
    "    \n",
    "    V = [sum([D[i]*(Z[i] == j) for i in 1:length(Z)]) for j in 1:maximum(Z)]\n",
    "    μ = [sum(V.^i) for i = 1:r]\n",
    "\n",
    "    M = Dict()\n",
    "\n",
    "    for i = 1:r\n",
    "        for j = 1:i # number of nonzero entries\n",
    "            for p in partitions(i, j)\n",
    "                pk = p[j]\n",
    "                M[p] = μ[p[end]]*get(M, p[1:(end-1)], 1) - correctOvercounting(M,p)\n",
    "            end\n",
    "        end\n",
    "    end\n",
    "    N = Dict()\n",
    "    for p in keys(M)\n",
    "        orderCorrection = 1\n",
    "        counts = values(countmap(p))\n",
    "        for c in counts\n",
    "            orderCorrection *= factorial(c) \n",
    "        end\n",
    "\n",
    "        N[p] = M[p] * multinomial(p...) ÷ orderCorrection\n",
    "    end\n",
    "    return(N)\n",
    "end"
   ]
  },
  {
   "cell_type": "code",
   "execution_count": 9,
   "metadata": {},
   "outputs": [
    {
     "ename": "BoundsError",
     "evalue": "BoundsError: attempt to access 3-element Array{Int64,1} at index [4]",
     "output_type": "error",
     "traceback": [
      "BoundsError: attempt to access 3-element Array{Int64,1} at index [4]",
      "",
      "Stacktrace:",
      " [1] getindex(::Array{Int64,1}, ::Int64) at ./array.jl:788",
      " [2] evalSums(::Array{Int64,2}, ::Array{Int64,2}, ::Int64) at ./In[8]:31",
      " [3] macro expansion at ./util.jl:175 [inlined]",
      " [4] top-level scope at ./In[9]:3"
     ]
    }
   ],
   "source": [
    "# need to run this block twice in order to avoid timing compile time\n",
    "r = 5 # size of largest hyperedge\n",
    "@time M = evalSums(Z, D, r)"
   ]
  },
  {
   "cell_type": "markdown",
   "metadata": {},
   "source": [
    "For comparison, let's implement `evalSums2` by just running `evalSum2` for each value of `p`: "
   ]
  },
  {
   "cell_type": "code",
   "execution_count": 21,
   "metadata": {},
   "outputs": [
    {
     "data": {
      "text/plain": [
       "evalSums2 (generic function with 1 method)"
      ]
     },
     "execution_count": 21,
     "metadata": {},
     "output_type": "execute_result"
    }
   ],
   "source": [
    "# comparison to using evalSum2 from above\n",
    "function evalSums2(Z, D, ℓ)\n",
    "    N = Dict()\n",
    "    for i = 1:ℓ\n",
    "        for j = 1:i # number of nonzero entries\n",
    "            for p in partitions(i, j)\n",
    "                N[p] = evalSum2(p, Z, D)\n",
    "            end\n",
    "        end\n",
    "    end\n",
    "    return(N)\n",
    "end"
   ]
  },
  {
   "cell_type": "code",
   "execution_count": 23,
   "metadata": {},
   "outputs": [
    {
     "name": "stdout",
     "output_type": "stream",
     "text": [
      "  1.348992 seconds (504.27 k allocations: 1.791 GiB, 22.95% gc time)\n"
     ]
    },
    {
     "data": {
      "text/plain": [
       "Dict{Any,Any} with 18 entries:\n",
       "  [2, 2, 1]       => 23050800\n",
       "  [1, 1, 1, 1]    => 346080\n",
       "  [3, 2]          => 6288620\n",
       "  [2, 2]          => 220614\n",
       "  [3]             => 2750\n",
       "  [1, 1]          => 1130\n",
       "  [1, 1, 1]       => 24576\n",
       "  [2]             => 314\n",
       "  [2, 1, 1]       => 1175616\n",
       "  [2, 1]          => 27546\n",
       "  [4, 1]          => 3587830\n",
       "  [4]             => 25058\n",
       "  [1]             => 38\n",
       "  [5]             => 234638\n",
       "  [2, 1, 1, 1]    => 26997600\n",
       "  [3, 1, 1]       => 16723680\n",
       "  [1, 1, 1, 1, 1] => 2352000\n",
       "  [3, 1]          => 317768"
      ]
     },
     "execution_count": 23,
     "metadata": {},
     "output_type": "execute_result"
    }
   ],
   "source": [
    "# need to run twice to avoid timing compile times\n",
    "@time N = evalSums2(Z, D, ℓ)"
   ]
  },
  {
   "cell_type": "markdown",
   "metadata": {},
   "source": [
    "Ok, so the main thing that these timings tell me us that I wrote `evalSum2` really inefficiently, but still seems promising...."
   ]
  },
  {
   "cell_type": "markdown",
   "metadata": {},
   "source": [
    "# How big can we go?\n",
    "\n",
    "Even with my highly non-optimized code, we can do medium-sized instances fairly quickly this way. Note, however, that we need BigInts to avoid overflow issues. "
   ]
  },
  {
   "cell_type": "code",
   "execution_count": 28,
   "metadata": {},
   "outputs": [
    {
     "name": "stdout",
     "output_type": "stream",
     "text": [
      "  0.690162 seconds (4.07 M allocations: 127.180 MiB, 23.96% gc time)\n"
     ]
    },
    {
     "data": {
      "text/plain": [
       "Dict{Any,Any} with 683 entries:\n",
       "  [7, 4, 2, 1]                => 4876097134623344827104310051502713342199818234…\n",
       "  [6, 1, 1, 1, 1]             => 7201451189283449227415975087764213309607655220…\n",
       "  [6, 2, 2, 2, 2]             => 1919215419355724423666487780680990394780648579…\n",
       "  [3, 3, 3, 3]                => 4777112010615357290763106726350374474518877252…\n",
       "  [4, 4, 2, 1, 1]             => 1487028166110726729048635662694304361555049208…\n",
       "  [3, 3, 3, 2, 1, 1, 1]       => 6606175680023126384315251083952314561414384765…\n",
       "  [4, 4, 2, 1]                => 2631325697865943443880271903083442217705802612…\n",
       "  [6, 3, 3, 1, 1, 1]          => 2369171418104558447191591745732633753164666408…\n",
       "  [4, 2, 1]                   => 19010143665488668897598211633038611500\n",
       "  [7, 1]                      => 639891464698090626130351698705320520352\n",
       "  [3]                         => 433061729882502\n",
       "  [5, 2, 2, 1, 1, 1]          => 5340229387325443202481028581515308658211676141…\n",
       "  [8, 3, 1]                   => 1370178327909764201142583313273151482543820734…\n",
       "  [3, 2, 2, 2, 2, 1, 1, 1, 1] => 1022822035319493147399313634590619672415448460…\n",
       "  [4, 4, 3, 1, 1]             => 1325872728710270611906094196490991018157473198…\n",
       "  [6, 6, 1, 1]                => 5717009788078621560439417288617172167737439341…\n",
       "  [3, 2, 2, 2, 2, 2, 2]       => 1138290913178178634746922316802497915796593815…\n",
       "  [5, 3, 3, 3]                => 7416722898632169434612454119440547447596101310…\n",
       "  [4, 2, 2, 2, 2]             => 7379971593259080056098301300947068745425190727…\n",
       "  [6, 2, 2, 2, 1, 1]          => 3446089296466035806393816112217322616645606097…\n",
       "  [3, 3, 2, 1, 1, 1, 1]       => 3867810294597539313443411946497240486510911622…\n",
       "  [3, 2, 2, 2, 2, 2]          => 3518251211182251840843004558367617257324810079…\n",
       "  [4, 2, 2, 1, 1, 1, 1]       => 2908092523277815303052176660762383086075729908…\n",
       "  [5, 2, 2, 2, 1]             => 1189646471010835583225758611020558730397194559…\n",
       "  [4, 3, 2, 2, 1, 1, 1, 1]    => 4919095469259108890560157125922473300134481517…\n",
       "  ⋮                           => ⋮"
      ]
     },
     "execution_count": 28,
     "metadata": {},
     "output_type": "execute_result"
    }
   ],
   "source": [
    "# Performance test: how big can we do this?\n",
    "n = 20000\n",
    "\n",
    "Z = rand(1:50, n)\n",
    "Z = convert(Array{BigInt,1}, Z)\n",
    "D = rand(2:100, n)\n",
    "D = convert(Array{BigInt,1}, D)\n",
    "\n",
    "r = 15 # maximum hyperedge size\n",
    "\n",
    "@time M = evalSums(Z, D, r)"
   ]
  },
  {
   "cell_type": "code",
   "execution_count": null,
   "metadata": {},
   "outputs": [],
   "source": []
  }
 ],
 "metadata": {
  "kernelspec": {
   "display_name": "Julia 1.4.1",
   "language": "julia",
   "name": "julia-1.4"
  },
  "language_info": {
   "file_extension": ".jl",
   "mimetype": "application/julia",
   "name": "julia",
   "version": "1.4.1"
  }
 },
 "nbformat": 4,
 "nbformat_minor": 2
}
