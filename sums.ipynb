{
 "cells": [
  {
   "cell_type": "code",
   "execution_count": 1,
   "metadata": {},
   "outputs": [],
   "source": [
    "using StatsBase\n",
    "using Combinatorics"
   ]
  },
  {
   "cell_type": "code",
   "execution_count": 2,
   "metadata": {},
   "outputs": [
    {
     "data": {
      "text/plain": [
       "1×11 Array{Int64,2}:\n",
       " 3  4  2  5  6  4  3  2  5  2  2"
      ]
     },
     "execution_count": 2,
     "metadata": {},
     "output_type": "execute_result"
    }
   ],
   "source": [
    "Z = [1 1 2 2 3 3 4 4 4 5 5] # group partition\n",
    "D = [3 4 2 5 6 4 3 2 5 2 2] # degree sequence"
   ]
  },
  {
   "cell_type": "markdown",
   "metadata": {},
   "source": [
    "First thing we'll do: let's check the formula\n",
    "\n",
    "$$\\sum_{R \\in [n]^\\ell} \\mathbb{I}(\\#(\\mathbf{z}_R) = p) \\sigma(\\theta_R) = \\sum_{y: \\#y = p}\\prod_{a = 1}^{\\ell}v_{y_a}\\;,$$\n",
    "\n",
    "In this formula, we're allowing R to range over $[n]^\\ell$, where $\\ell$ is the number of nodes per hyperedge, and $n$ the number of nodes.  This is **different** from the current version of the nodes, and matches the conversation we had over email. \n",
    "\n"
   ]
  },
  {
   "cell_type": "code",
   "execution_count": 3,
   "metadata": {},
   "outputs": [
    {
     "data": {
      "text/plain": [
       "evalSum2 (generic function with 1 method)"
      ]
     },
     "execution_count": 3,
     "metadata": {},
     "output_type": "execute_result"
    }
   ],
   "source": [
    "# Naive evaluation of the sum (LHS)\n",
    "\n",
    "function evalSum(p, Z, D)\n",
    "    n = length(Z)\n",
    "    ℓ = sum(p)\n",
    "\n",
    "    S = 0\n",
    "\n",
    "    T = Iterators.product((1:n for i = 1:ℓ)...)\n",
    "\n",
    "    for R in T\n",
    "        a = countmap(vec(Z[collect(R)]))\n",
    "        a = -sort(-collect(values(a)))\n",
    "        if a == p\n",
    "            S += prod(D[collect(R)])\n",
    "        end\n",
    "    end\n",
    "    return(S)\n",
    "end\n",
    "\n",
    "# Faster evaluation (RHS)\n",
    "\n",
    "function evalSum2(p, Z, D)\n",
    "    n = length(Z)\n",
    "    ℓ = sum(p)\n",
    "    S = 0\n",
    "\n",
    "    V = [sum([(Z[i] == s)*D[i] for i = 1:n]) for s = 1:maximum(Z)] # vector of volumes\n",
    "\n",
    "    P = Iterators.product((1:maximum(Z) for i = 1:ℓ)...)\n",
    "    for p_ in P\n",
    "        a = countmap(vec(collect(p_)))\n",
    "        a = -sort(-collect(values(a)))\n",
    "        if a == p\n",
    "          S += prod(V[collect(p_)])\n",
    "        end\n",
    "    end\n",
    "\n",
    "    return(S)\n",
    "end"
   ]
  },
  {
   "cell_type": "code",
   "execution_count": 17,
   "metadata": {},
   "outputs": [
    {
     "name": "stdout",
     "output_type": "stream",
     "text": [
      "true\n",
      "true\n",
      "true\n",
      "true\n",
      "true\n",
      "true\n",
      "true\n",
      "true\n",
      "true\n",
      "true\n",
      "true\n"
     ]
    }
   ],
   "source": [
    "# test: check that these two functions give the same result on all partitions\n",
    "\n",
    "ℓ = 4\n",
    "\n",
    "for i = 1:ℓ\n",
    "    for j = 1:i\n",
    "        for p in partitions(i,j)\n",
    "            println(evalSum(p, Z, D) == evalSum2(p, Z, D))\n",
    "        end\n",
    "    end\n",
    "end"
   ]
  },
  {
   "cell_type": "markdown",
   "metadata": {},
   "source": [
    "Ok, looks good! `evalSum2` is a lot faster than `evalSum`, although they are both very slow. Presumably this is due to inefficient coding on my part. "
   ]
  },
  {
   "cell_type": "code",
   "execution_count": 54,
   "metadata": {},
   "outputs": [
    {
     "name": "stdout",
     "output_type": "stream",
     "text": [
      "  0.770096 seconds (343.12 k allocations: 1.026 GiB, 22.87% gc time)\n",
      "  0.029999 seconds (13.80 k allocations: 44.872 MiB, 24.96% gc time)\n"
     ]
    },
    {
     "data": {
      "text/plain": [
       "1175616"
      ]
     },
     "execution_count": 54,
     "metadata": {},
     "output_type": "execute_result"
    }
   ],
   "source": [
    "p = [2, 1, 1]\n",
    "@time evalSum(p, Z, D)\n",
    "@time evalSum2(p, Z, D)"
   ]
  },
  {
   "cell_type": "markdown",
   "metadata": {},
   "source": [
    "Next thing we're going to do is try using a small lemma from the notes to efficiently evaluate all of the sums recursively. Somehow I imagine that this must be related to Austin's dynamic programming approach. "
   ]
  },
  {
   "cell_type": "code",
   "execution_count": 55,
   "metadata": {},
   "outputs": [
    {
     "data": {
      "text/plain": [
       "evalSums (generic function with 2 methods)"
      ]
     },
     "execution_count": 55,
     "metadata": {},
     "output_type": "execute_result"
    }
   ],
   "source": [
    "function correctOvercounting(M, p)\n",
    "    \"\"\"\n",
    "    Utility function: second term in the recurrence in the notes\n",
    "    \"\"\"\n",
    "        pk = p[end]\n",
    "        S = 0\n",
    "        for i = 1:length(p)-1\n",
    "            p_ = copy(p)[1:(end-1)]\n",
    "            p_[i] += pk\n",
    "            S += M[-sort(-p_)]\n",
    "        end\n",
    "        return(S)\n",
    "    end\n",
    "\n",
    "function evalSums(Z, D, ℓ)\n",
    "    \"\"\"\n",
    "    Z: an Array of integer group labels\n",
    "    D: an Array of degrees\n",
    "    ℓ: the largest hyperedge size to compute\n",
    "    \"\"\"\n",
    "    \n",
    "    V = [sum([D[i]*(Z[i] == j) for i in 1:length(Z)]) for j in 1:maximum(Z)]\n",
    "    μ = [sum(V.^i) for i = 1:ℓ]\n",
    "\n",
    "    M = Dict()\n",
    "\n",
    "    for i = 1:ℓ\n",
    "        for j = 1:i # number of nonzero entries\n",
    "            for p in partitions(i, j)\n",
    "                pk = p[j]\n",
    "                M[p] = μ[p[end]]*get(M, p[1:(end-1)], 1) - correctOvercounting(M,p)\n",
    "            end\n",
    "        end\n",
    "    end\n",
    "    N = Dict()\n",
    "    for p in keys(M)\n",
    "        factor = 1\n",
    "        counts = values(countmap(p))\n",
    "        for c in counts\n",
    "            factor *= factorial(c) \n",
    "        end\n",
    "\n",
    "        N[p] = M[p] * multinomial(p...) ÷ factor\n",
    "    end\n",
    "    return(N)\n",
    "end"
   ]
  },
  {
   "cell_type": "markdown",
   "metadata": {},
   "source": [
    "This algorithm is MUCH faster: "
   ]
  },
  {
   "cell_type": "code",
   "execution_count": 62,
   "metadata": {},
   "outputs": [
    {
     "name": "stdout",
     "output_type": "stream",
     "text": [
      "  0.000728 seconds (538 allocations: 764.250 KiB)\n"
     ]
    },
    {
     "data": {
      "text/plain": [
       "Dict{Any,Any} with 18 entries:\n",
       "  [2, 2, 1]       => 23050800\n",
       "  [1, 1, 1, 1]    => 346080\n",
       "  [3, 2]          => 6288620\n",
       "  [2, 2]          => 220614\n",
       "  [3]             => 2750\n",
       "  [1, 1]          => 1130\n",
       "  [1, 1, 1]       => 24576\n",
       "  [2]             => 314\n",
       "  [2, 1, 1]       => 1175616\n",
       "  [2, 1]          => 27546\n",
       "  [4, 1]          => 3587830\n",
       "  [4]             => 25058\n",
       "  [1]             => 38\n",
       "  [5]             => 234638\n",
       "  [2, 1, 1, 1]    => 26997600\n",
       "  [3, 1, 1]       => 16723680\n",
       "  [1, 1, 1, 1, 1] => 2352000\n",
       "  [3, 1]          => 317768"
      ]
     },
     "execution_count": 62,
     "metadata": {},
     "output_type": "execute_result"
    }
   ],
   "source": [
    "# need to run this block twice in order to avoid timing compile time\n",
    "ℓ = 5\n",
    "@time M = evalSums(Z, D, ℓ)"
   ]
  },
  {
   "cell_type": "markdown",
   "metadata": {},
   "source": [
    "For comparison, let's implement `evalSums2` by just running `evalSum2` for each value of `p`: "
   ]
  },
  {
   "cell_type": "code",
   "execution_count": 65,
   "metadata": {},
   "outputs": [
    {
     "data": {
      "text/plain": [
       "evalSums2 (generic function with 1 method)"
      ]
     },
     "execution_count": 65,
     "metadata": {},
     "output_type": "execute_result"
    }
   ],
   "source": [
    "# comparison to using evalSum2 from above\n",
    "function evalSums2(Z, D, ℓ)\n",
    "    N = Dict()\n",
    "    for i = 1:ℓ\n",
    "        for j = 1:i # number of nonzero entries\n",
    "            for p in partitions(i, j)\n",
    "                N[p] = evalSum2(p, Z, D)\n",
    "            end\n",
    "        end\n",
    "    end\n",
    "    return(N)\n",
    "end"
   ]
  },
  {
   "cell_type": "code",
   "execution_count": null,
   "metadata": {},
   "outputs": [],
   "source": [
    "@time N = evalSums2(Z, D, ℓ)"
   ]
  },
  {
   "cell_type": "markdown",
   "metadata": {},
   "source": [
    "Ok, so the main thing that these timings tell me us that I wrote `evalSum2` really inefficiently, but still seems promising...."
   ]
  },
  {
   "cell_type": "code",
   "execution_count": null,
   "metadata": {},
   "outputs": [],
   "source": []
  }
 ],
 "metadata": {
  "kernelspec": {
   "display_name": "Julia 1.4.1",
   "language": "julia",
   "name": "julia-1.4"
  },
  "language_info": {
   "file_extension": ".jl",
   "mimetype": "application/julia",
   "name": "julia",
   "version": "1.4.1"
  }
 },
 "nbformat": 4,
 "nbformat_minor": 2
}
