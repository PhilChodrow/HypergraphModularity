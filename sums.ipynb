{
 "cells": [
  {
   "cell_type": "code",
   "execution_count": 1,
   "metadata": {},
   "outputs": [],
   "source": [
    "using StatsBase\n",
    "using Combinatorics"
   ]
  },
  {
   "cell_type": "code",
   "execution_count": 2,
   "metadata": {},
   "outputs": [
    {
     "data": {
      "text/plain": [
       "1×11 Array{Int64,2}:\n",
       " 3  4  2  5  6  4  3  2  5  2  2"
      ]
     },
     "execution_count": 2,
     "metadata": {},
     "output_type": "execute_result"
    }
   ],
   "source": [
    "Z = [1 1 2 2 3 3 4 4 4 5 5] # group partition\n",
    "D = [3 4 2 5 6 4 3 2 5 2 2] # degree sequence\n",
    "\n"
   ]
  },
  {
   "cell_type": "markdown",
   "metadata": {},
   "source": [
    "First thing we'll do: let's check the formula\n",
    "\n",
    "$$\\sum_{R \\in [n]^\\ell} \\mathbb{I}(\\#(\\mathbf{z}_R) = p) \\sigma(\\theta_R) = \\sum_{y: \\#y = p}\\prod_{a = 1}^{\\ell}v_{y_a}\\;,$$\n",
    "\n",
    "In this formula, we're allowing R to range over $[n]^\\ell$, where $\\ell$ is the number of nodes per hyperedge, and $n$ the number of nodes.  This is **different** from the current version of the nodes, and matches the conversation we had over email. \n",
    "\n"
   ]
  },
  {
   "cell_type": "code",
   "execution_count": 3,
   "metadata": {},
   "outputs": [
    {
     "data": {
      "text/plain": [
       "evalSum2 (generic function with 1 method)"
      ]
     },
     "execution_count": 3,
     "metadata": {},
     "output_type": "execute_result"
    }
   ],
   "source": [
    "# Naive evaluation of the sum (LHS)\n",
    "\n",
    "function evalSum(p, Z, D)\n",
    "    n = length(Z)\n",
    "    ℓ = sum(p)\n",
    "\n",
    "    S = 0\n",
    "\n",
    "    T = Iterators.product((1:n for i = 1:ℓ)...)\n",
    "\n",
    "    for R in T\n",
    "        a = countmap(vec(Z[collect(R)]))\n",
    "        a = -sort(-collect(values(a)))\n",
    "        if a == p\n",
    "            S += prod(D[collect(R)])\n",
    "        end\n",
    "    end\n",
    "    return(S)\n",
    "end\n",
    "\n",
    "# Faster evaluation (RHS)\n",
    "\n",
    "function evalSum2(p, Z, D)\n",
    "    n = length(Z)\n",
    "    ℓ = sum(p)\n",
    "    S = 0\n",
    "\n",
    "    V = [sum([(Z[i] == s)*D[i] for i = 1:n]) for s = 1:maximum(Z)] # vector of volumes\n",
    "\n",
    "    P = Iterators.product((1:maximum(Z) for i = 1:ℓ)...)\n",
    "    for p_ in P\n",
    "        a = countmap(vec(collect(p_)))\n",
    "        a = -sort(-collect(values(a)))\n",
    "        if a == p\n",
    "          S += prod(V[collect(p_)])\n",
    "        end\n",
    "    end\n",
    "\n",
    "    return(S)\n",
    "end"
   ]
  },
  {
   "cell_type": "code",
   "execution_count": 4,
   "metadata": {},
   "outputs": [
    {
     "name": "stdout",
     "output_type": "stream",
     "text": [
      "true\n",
      "true\n",
      "true\n",
      "true\n",
      "true\n",
      "true\n"
     ]
    }
   ],
   "source": [
    "# test: check that these two functions give the same result on all partitions\n",
    "# this will be very slow for even moderate n\n",
    "\n",
    "ℓ = 3\n",
    "\n",
    "for i = 1:ℓ\n",
    "    for j = 1:i\n",
    "        for p in partitions(i,j)\n",
    "            println(evalSum(p, Z, D) == evalSum2(p, Z, D))\n",
    "        end\n",
    "    end\n",
    "end"
   ]
  },
  {
   "cell_type": "markdown",
   "metadata": {},
   "source": [
    "Ok, looks good! `evalSum2` is a lot faster than `evalSum`, although they are both very slow. Presumably this is due in part to kludgy coding on my part, but one would imagine that even much better coding practice could only improve these so much"
   ]
  },
  {
   "cell_type": "code",
   "execution_count": 9,
   "metadata": {},
   "outputs": [
    {
     "name": "stdout",
     "output_type": "stream",
     "text": [
      "  0.109304 seconds (30.42 k allocations: 94.904 MiB, 21.07% gc time)\n",
      "  0.012299 seconds (2.65 k allocations: 8.912 MiB, 57.13% gc time)\n"
     ]
    },
    {
     "data": {
      "text/plain": [
       "27546"
      ]
     },
     "execution_count": 9,
     "metadata": {},
     "output_type": "execute_result"
    }
   ],
   "source": [
    "p = [2, 1]\n",
    "@time evalSum(p, Z, D)\n",
    "@time evalSum2(p, Z, D)"
   ]
  },
  {
   "cell_type": "markdown",
   "metadata": {},
   "source": [
    "Next we're going to try to use the recursion lemma from the notes in order to evaluate the sums for every possible partition vector p at once. "
   ]
  },
  {
   "cell_type": "code",
   "execution_count": 10,
   "metadata": {},
   "outputs": [
    {
     "data": {
      "text/plain": [
       "evalSums (generic function with 1 method)"
      ]
     },
     "execution_count": 10,
     "metadata": {},
     "output_type": "execute_result"
    }
   ],
   "source": [
    "function correctOvercounting(M, p)\n",
    "    \"\"\"\n",
    "    Utility function: second term in the recurrence in the notes\n",
    "    \"\"\"\n",
    "        pk = p[end]\n",
    "        S = 0\n",
    "        for i = 1:length(p)-1\n",
    "            p_ = copy(p)[1:(end-1)]\n",
    "            p_[i] += pk\n",
    "            S += M[-sort(-p_)]\n",
    "        end\n",
    "        return(S)\n",
    "    end\n",
    "\n",
    "function evalSums(Z, D, r)\n",
    "    \"\"\"\n",
    "    Z: an Array of integer group labels\n",
    "    D: an Array of degrees\n",
    "    ℓ: the largest hyperedge size to compute\n",
    "    \"\"\"\n",
    "    \n",
    "    V = [sum([D[i]*(Z[i] == j) for i in 1:length(Z)]) for j in 1:maximum(Z)]\n",
    "    μ = [sum(V.^i) for i = 1:ℓ]\n",
    "\n",
    "    M = Dict()\n",
    "\n",
    "    for i = 1:r\n",
    "        for j = 1:i # number of nonzero entries\n",
    "            for p in partitions(i, j)\n",
    "                pk = p[j]\n",
    "                M[p] = μ[p[end]]*get(M, p[1:(end-1)], 1) - correctOvercounting(M,p)\n",
    "            end\n",
    "        end\n",
    "    end\n",
    "    N = Dict()\n",
    "    for p in keys(M)\n",
    "        orderCorrection = 1\n",
    "        counts = values(countmap(p))\n",
    "        for c in counts\n",
    "            orderCorrection *= factorial(c) \n",
    "        end\n",
    "\n",
    "        N[p] = M[p] * multinomial(p...) ÷ orderCorrection\n",
    "    end\n",
    "    return(N)\n",
    "end"
   ]
  },
  {
   "cell_type": "code",
   "execution_count": 20,
   "metadata": {},
   "outputs": [
    {
     "name": "stdout",
     "output_type": "stream",
     "text": [
      "  0.000684 seconds (539 allocations: 764.281 KiB)\n"
     ]
    },
    {
     "data": {
      "text/plain": [
       "Dict{Any,Any} with 18 entries:\n",
       "  [2, 2, 1]       => 23050800\n",
       "  [1, 1, 1, 1]    => 346080\n",
       "  [3, 2]          => 6288620\n",
       "  [2, 2]          => 220614\n",
       "  [3]             => 2750\n",
       "  [1, 1]          => 1130\n",
       "  [1, 1, 1]       => 24576\n",
       "  [2]             => 314\n",
       "  [2, 1, 1]       => 1175616\n",
       "  [2, 1]          => 27546\n",
       "  [4, 1]          => 3587830\n",
       "  [4]             => 25058\n",
       "  [1]             => 38\n",
       "  [5]             => 234638\n",
       "  [2, 1, 1, 1]    => 26997600\n",
       "  [3, 1, 1]       => 16723680\n",
       "  [1, 1, 1, 1, 1] => 2352000\n",
       "  [3, 1]          => 317768"
      ]
     },
     "execution_count": 20,
     "metadata": {},
     "output_type": "execute_result"
    }
   ],
   "source": [
    "# need to run this block twice in order to avoid timing compile time\n",
    "r = 5 # size of largest hyperedge\n",
    "@time M = evalSums(Z, D, r)"
   ]
  },
  {
   "cell_type": "markdown",
   "metadata": {},
   "source": [
    "For comparison, let's implement `evalSums2` by just running `evalSum2` for each value of `p`: "
   ]
  },
  {
   "cell_type": "code",
   "execution_count": 21,
   "metadata": {},
   "outputs": [
    {
     "data": {
      "text/plain": [
       "evalSums2 (generic function with 1 method)"
      ]
     },
     "execution_count": 21,
     "metadata": {},
     "output_type": "execute_result"
    }
   ],
   "source": [
    "# comparison to using evalSum2 from above\n",
    "function evalSums2(Z, D, ℓ)\n",
    "    N = Dict()\n",
    "    for i = 1:ℓ\n",
    "        for j = 1:i # number of nonzero entries\n",
    "            for p in partitions(i, j)\n",
    "                N[p] = evalSum2(p, Z, D)\n",
    "            end\n",
    "        end\n",
    "    end\n",
    "    return(N)\n",
    "end"
   ]
  },
  {
   "cell_type": "code",
   "execution_count": 23,
   "metadata": {},
   "outputs": [
    {
     "name": "stdout",
     "output_type": "stream",
     "text": [
      "  1.348992 seconds (504.27 k allocations: 1.791 GiB, 22.95% gc time)\n"
     ]
    },
    {
     "data": {
      "text/plain": [
       "Dict{Any,Any} with 18 entries:\n",
       "  [2, 2, 1]       => 23050800\n",
       "  [1, 1, 1, 1]    => 346080\n",
       "  [3, 2]          => 6288620\n",
       "  [2, 2]          => 220614\n",
       "  [3]             => 2750\n",
       "  [1, 1]          => 1130\n",
       "  [1, 1, 1]       => 24576\n",
       "  [2]             => 314\n",
       "  [2, 1, 1]       => 1175616\n",
       "  [2, 1]          => 27546\n",
       "  [4, 1]          => 3587830\n",
       "  [4]             => 25058\n",
       "  [1]             => 38\n",
       "  [5]             => 234638\n",
       "  [2, 1, 1, 1]    => 26997600\n",
       "  [3, 1, 1]       => 16723680\n",
       "  [1, 1, 1, 1, 1] => 2352000\n",
       "  [3, 1]          => 317768"
      ]
     },
     "execution_count": 23,
     "metadata": {},
     "output_type": "execute_result"
    }
   ],
   "source": [
    "# need to run twice to avoid timing compile times\n",
    "@time N = evalSums2(Z, D, ℓ)"
   ]
  },
  {
   "cell_type": "markdown",
   "metadata": {},
   "source": [
    "Ok, so the main thing that these timings tell me us that I wrote `evalSum2` really inefficiently, but still seems promising...."
   ]
  },
  {
   "cell_type": "markdown",
   "metadata": {},
   "source": [
    "# How big can we go?\n",
    "\n",
    "Even with my highly non-optimized code, we can do pretty big instances quite quickly this way. Note, however, that we need BigInts to avoid overflow issues. "
   ]
  },
  {
   "cell_type": "code",
   "execution_count": 26,
   "metadata": {},
   "outputs": [
    {
     "name": "stdout",
     "output_type": "stream",
     "text": [
      "  0.839897 seconds (4.07 M allocations: 127.180 MiB, 34.57% gc time)\n"
     ]
    },
    {
     "data": {
      "text/plain": [
       "Dict{Any,Any} with 683 entries:\n",
       "  [7, 4, 2, 1]                => 4366820134771323266712904469360550396892695170…\n",
       "  [6, 1, 1, 1, 1]             => 6649337384718222572117099167846024324296648692…\n",
       "  [6, 2, 2, 2, 2]             => 1715235058333481937052248076251115751416211800…\n",
       "  [3, 3, 3, 3]                => 4334016774805742571756720483000555088335017546…\n",
       "  [4, 4, 2, 1, 1]             => 1349467433400934408386996241977278844709660246…\n",
       "  [3, 3, 3, 2, 1, 1, 1]       => 5892218775350294643143693071525300034538983524…\n",
       "  [4, 4, 2, 1]                => 2407867106667914149381105164029336089578067379…\n",
       "  [6, 3, 3, 1, 1, 1]          => 2100618228500806758890621071269611193177188410…\n",
       "  [4, 2, 1]                   => 17962950682733302210580682066303319800\n",
       "  [7, 1]                      => 601622384129513752344944092593775453744\n",
       "  [3]                         => 422676770496166\n",
       "  [5, 2, 2, 1, 1, 1]          => 4845617336422390198729476304522186440832118369…\n",
       "  [8, 3, 1]                   => 1248975892490283057381891972411358025929442234…\n",
       "  [3, 2, 2, 2, 2, 1, 1, 1, 1] => 9041929780520648006474215930568341672247323675…\n",
       "  [4, 4, 3, 1, 1]             => 1193691562096363467563448367882110789738847306…\n",
       "  [6, 6, 1, 1]                => 5121719409430218958191917487740923085830103171…\n",
       "  [3, 2, 2, 2, 2, 2, 2]       => 1006625428006651292589196745341536725842811341…\n",
       "  [5, 3, 3, 3]                => 6627235410357410410813567034897424326561609705…\n",
       "  [4, 2, 2, 2, 2]             => 6693092264267673089309266770521571858067139763…\n",
       "  [6, 2, 2, 2, 1, 1]          => 3079285736509031685911046576630013808310687532…\n",
       "  [3, 3, 2, 1, 1, 1, 1]       => 3505781572606494566469409712367784248071099403…\n",
       "  [3, 2, 2, 2, 2, 2]          => 3163000672487866881324220296041091521959060403…\n",
       "  [4, 2, 2, 1, 1, 1, 1]       => 2636487746815451398111107264239192322453717902…\n",
       "  [5, 2, 2, 2, 1]             => 1079653117888809073371455323040351895240724286…\n",
       "  [4, 3, 2, 2, 1, 1, 1, 1]    => 4352036357981092676529614633678151277484961419…\n",
       "  ⋮                           => ⋮"
      ]
     },
     "execution_count": 26,
     "metadata": {},
     "output_type": "execute_result"
    }
   ],
   "source": [
    "# Performance test: how big can we do this?\n",
    "n = 20000\n",
    "\n",
    "Z = rand(1:50, n)\n",
    "Z = convert(Array{BigInt,1}, Z)\n",
    "D = rand(2:100, n)\n",
    "D = convert(Array{BigInt,1}, D)\n",
    "\n",
    "ℓ = 15\n",
    "\n",
    "@time M = evalSums(Z, D, ℓ)"
   ]
  }
 ],
 "metadata": {
  "kernelspec": {
   "display_name": "Julia 1.4.1",
   "language": "julia",
   "name": "julia-1.4"
  },
  "language_info": {
   "file_extension": ".jl",
   "mimetype": "application/julia",
   "name": "julia",
   "version": "1.4.1"
  }
 },
 "nbformat": 4,
 "nbformat_minor": 2
}
