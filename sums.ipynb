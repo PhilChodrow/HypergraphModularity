{
 "cells": [
  {
   "cell_type": "code",
   "execution_count": 1,
   "metadata": {},
   "outputs": [],
   "source": [
    "using StatsBase\n",
    "using Combinatorics\n",
    "include(\"jl/sums.jl\");"
   ]
  },
  {
   "cell_type": "code",
   "execution_count": 2,
   "metadata": {},
   "outputs": [],
   "source": [
    "# toy data\n",
    "\n",
    "Z = [1 1 2 2 3 3 4 4 4 5 5] # group partition\n",
    "D = [3 4 2 5 6 4 3 2 5 2 2]; # degree sequence"
   ]
  },
  {
   "cell_type": "markdown",
   "metadata": {},
   "source": [
    "First thing we'll do: let's check the formula\n",
    "\n",
    "$$\\sum_{R \\in [n]^\\ell} \\mathbb{I}(\\#(\\mathbf{z}_R) = p) \\sigma(\\theta_R) = \\sum_{y: \\#y = p}\\prod_{a = 1}^{\\ell}v_{y_a}\\;,$$\n",
    "\n",
    "In this formula, we're allowing R to range over $[n]^\\ell$, where $\\ell$ is the number of nodes per hyperedge, and $n$ the number of nodes.  $p$ is a specified permutation. This is **different** from the current version of the nodes, and matches the conversation we had over email. \n",
    "\n",
    "The function `evalSumNaive` performs the summation on the lefthand side, while the function `evalSumPV` uses the product-of-volumes representation on the righthand side. Both of these functions are defined in `jl/sums.jl`.\n",
    "\n"
   ]
  },
  {
   "cell_type": "code",
   "execution_count": 3,
   "metadata": {},
   "outputs": [
    {
     "name": "stdout",
     "output_type": "stream",
     "text": [
      "true\n",
      "true\n",
      "true\n",
      "true\n",
      "true\n",
      "true\n"
     ]
    }
   ],
   "source": [
    "# test: check that these two functions give the same result on all partitions\n",
    "# this will be very slow for even moderate n and r\n",
    "\n",
    "r = 3\n",
    "\n",
    "for i = 1:r\n",
    "    for j = 1:i\n",
    "        for p in partitions(i,j)\n",
    "            println(evalSumNaive(p, Z, D) == evalSumPV(p, Z, D))\n",
    "        end\n",
    "    end\n",
    "end"
   ]
  },
  {
   "cell_type": "markdown",
   "metadata": {},
   "source": [
    "Ok, looks good! `evalSumPV` is a lot faster than `evalSumNaive`, although they are both very slow. Presumably this is due in part to kludgy coding on my part, but one would imagine that even much better coding practice could only improve these so much"
   ]
  },
  {
   "cell_type": "code",
   "execution_count": 5,
   "metadata": {},
   "outputs": [
    {
     "name": "stdout",
     "output_type": "stream",
     "text": [
      "  0.085102 seconds (30.42 k allocations: 94.904 MiB, 25.13% gc time)\n",
      "  0.004549 seconds (2.65 k allocations: 8.912 MiB)\n"
     ]
    },
    {
     "data": {
      "text/plain": [
       "27546"
      ]
     },
     "execution_count": 5,
     "metadata": {},
     "output_type": "execute_result"
    }
   ],
   "source": [
    "p = [2, 1]\n",
    "@time evalSumNaive(p, Z, D)\n",
    "@time evalSumPV(p, Z, D)"
   ]
  },
  {
   "cell_type": "markdown",
   "metadata": {},
   "source": [
    "We can use `evalSumsPV` to compute the required sum for each partition. In principle, one could do this with `evalSumsNaive` as well (also implemented), but the latter is VERY slow. "
   ]
  },
  {
   "cell_type": "code",
   "execution_count": 7,
   "metadata": {},
   "outputs": [
    {
     "name": "stdout",
     "output_type": "stream",
     "text": [
      "  1.295019 seconds (504.27 k allocations: 1.791 GiB, 25.13% gc time)\n"
     ]
    },
    {
     "data": {
      "text/plain": [
       "Dict{Any,Any} with 18 entries:\n",
       "  [2, 2, 1]       => 23050800\n",
       "  [1, 1, 1, 1]    => 346080\n",
       "  [3, 2]          => 6288620\n",
       "  [2, 2]          => 220614\n",
       "  [3]             => 2750\n",
       "  [1, 1]          => 1130\n",
       "  [1, 1, 1]       => 24576\n",
       "  [2]             => 314\n",
       "  [2, 1, 1]       => 1175616\n",
       "  [2, 1]          => 27546\n",
       "  [4, 1]          => 3587830\n",
       "  [4]             => 25058\n",
       "  [1]             => 38\n",
       "  [5]             => 234638\n",
       "  [2, 1, 1, 1]    => 26997600\n",
       "  [3, 1, 1]       => 16723680\n",
       "  [1, 1, 1, 1, 1] => 2352000\n",
       "  [3, 1]          => 317768"
      ]
     },
     "execution_count": 7,
     "metadata": {},
     "output_type": "execute_result"
    }
   ],
   "source": [
    "# need to run twice to avoid timing compile times\n",
    "r = 5 # size of largest hyperedge\n",
    "@time MPV = evalSumsPV(Z, D, r)"
   ]
  },
  {
   "cell_type": "markdown",
   "metadata": {},
   "source": [
    "Remembering that n = 10 in this case and that we will need to evaluate these sums many many times, this timing is not practical. "
   ]
  },
  {
   "cell_type": "markdown",
   "metadata": {},
   "source": [
    "Now we'll use the `evalSums`, which uses a recursion lemma from the notes in order to compute the relevant sums for every partition vector p at once. Rather than a simple loop over all partitions like `evalSumsPV` uses, `evalSums` actually uses previously calculated values in order to significantly reduce the per-partition compute time. "
   ]
  },
  {
   "cell_type": "code",
   "execution_count": 10,
   "metadata": {},
   "outputs": [
    {
     "name": "stdout",
     "output_type": "stream",
     "text": [
      "  0.000191 seconds (1.02 k allocations: 49.359 KiB)\n"
     ]
    },
    {
     "data": {
      "text/plain": [
       "Dict{Array{Integer,1},Integer} with 18 entries:\n",
       "  Integer[2, 2, 1]       => 23050800\n",
       "  Integer[1, 1, 1, 1]    => 346080\n",
       "  Integer[3, 2]          => 6288620\n",
       "  Integer[2, 2]          => 220614\n",
       "  Integer[3]             => 2750\n",
       "  Integer[1, 1]          => 1130\n",
       "  Integer[1, 1, 1]       => 24576\n",
       "  Integer[2]             => 314\n",
       "  Integer[2, 1, 1]       => 1175616\n",
       "  Integer[2, 1]          => 27546\n",
       "  Integer[4, 1]          => 3587830\n",
       "  Integer[4]             => 25058\n",
       "  Integer[1]             => 38\n",
       "  Integer[5]             => 234638\n",
       "  Integer[2, 1, 1, 1]    => 26997600\n",
       "  Integer[3, 1, 1]       => 16723680\n",
       "  Integer[1, 1, 1, 1, 1] => 2352000\n",
       "  Integer[3, 1]          => 317768"
      ]
     },
     "execution_count": 10,
     "metadata": {},
     "output_type": "execute_result"
    }
   ],
   "source": [
    "# need to run this block twice in order to avoid timing compile time\n",
    "@time M = evalSums(Z, D, r)"
   ]
  },
  {
   "cell_type": "markdown",
   "metadata": {},
   "source": [
    "The result agrees with `evalSumsPV` on all partitions, but is roughly 10,000 times as fast. "
   ]
  },
  {
   "cell_type": "markdown",
   "metadata": {},
   "source": [
    "# How big can we go?\n",
    "\n",
    "Even with my highly non-optimized code, we can do medium-sized instances with large hyperedges fairly quickly this way. Note, however, that we need BigInts to avoid overflow issues. \n",
    "\n",
    "With this method, we can compute on n = 50,000 nodes and hyperedges of up to size 20 in roughly the same compute time that it took `evalSumsPV` to do 10 nodes and hyperedges up to size 5, before further optimization. In a later test (not shown), I was able to compute on 1M nodes in under a minute. "
   ]
  },
  {
   "cell_type": "code",
   "execution_count": 22,
   "metadata": {},
   "outputs": [
    {
     "name": "stdout",
     "output_type": "stream",
     "text": [
      "  1.663190 seconds (10.40 M allocations: 229.065 MiB, 25.79% gc time)\n"
     ]
    },
    {
     "data": {
      "text/plain": [
       "Dict{Array{Integer,1},Integer} with 2713 entries:\n",
       "  Integer[11, 6]            => 354679124176778831604771256188372170528107390367…\n",
       "  Integer[7, 4, 2, 1, 1, 1… => 271451841048001000102990215629915988916793650187…\n",
       "  Integer[5, 2, 2, 2, 1, 1… => 867994799556550794706126699802340902211063811733…\n",
       "  Integer[13, 3, 2, 1, 1]   => 651014421678383380535304278242952828530074392436…\n",
       "  Integer[7, 4, 2, 1]       => 167165023597700996788403334803875164609624313532…\n",
       "  Integer[6, 1, 1, 1, 1]    => 651049462010418485039859579053412798168896449355…\n",
       "  Integer[8, 5, 4, 3]       => 292107158136741018386825280338389855149552162278…\n",
       "  Integer[8, 5, 3, 1, 1, 1… => 264137915180593543203418284905494044535071586145…\n",
       "  Integer[6, 2, 2, 2, 2]    => 665751776910280533429906274033589323788360533730…\n",
       "  Integer[6, 3, 1, 1, 1, 1… => 188622219264118905990857674434540909119812466897…\n",
       "  Integer[8, 4, 2, 2, 1]    => 131420607614019684749821384144174443810512945197…\n",
       "  Integer[9, 5, 3, 1, 1, 1] => 269275884268628608561893764718106381952888174381…\n",
       "  Integer[3, 3, 3, 3]       => 269308444705502637754272567539512246674977433932…\n",
       "  Integer[4, 4, 2, 1, 1]    => 837161768586101515964687488142084965593956678806…\n",
       "  Integer[8, 4, 4, 2, 1]    => 980681032066782975454762039181479656838752812091…\n",
       "  Integer[8, 4, 2, 2, 2, 2] => 112162523715076872440947190932264509331598614014…\n",
       "  Integer[4, 4, 4, 4, 2]    => 579317500250853197073371938906971047600822312970…\n",
       "  Integer[5, 5, 4, 2, 1, 1] => 150503855605790724251823989867178274075320496872…\n",
       "  Integer[8, 5, 2, 1]       => 264460864784228339655408513789453209147569151606…\n",
       "  Integer[9, 3, 2, 2, 1, 1… => 172534006973752063072961039013613441778872211858…\n",
       "  Integer[3, 3, 3, 2, 1, 1… => 231866873646601826900398930812071957327385824615…\n",
       "  Integer[6, 2, 2, 2, 2, 1… => 493532585260795611489234715258943442473750937217…\n",
       "  Integer[13, 3, 3]         => 986124432629361853444569887237421304546678042362…\n",
       "  Integer[4, 3, 1, 1, 1, 1… => 408952100947698486441967942823822288278405224470…\n",
       "  Integer[13, 2, 1, 1, 1, … => 128434861725698953747074937288845927031843154730…\n",
       "  ⋮                         => ⋮"
      ]
     },
     "execution_count": 22,
     "metadata": {},
     "output_type": "execute_result"
    }
   ],
   "source": [
    "# Performance test: how big can we do this?\n",
    "n = 50000\n",
    "\n",
    "Z = rand(1:50, n)\n",
    "Z = convert(Array{BigInt,1}, Z)\n",
    "D = rand(2:100, n)\n",
    "D = convert(Array{BigInt,1}, D)\n",
    "\n",
    "r = 20 # maximum hyperedge size\n",
    "\n",
    "@time M = evalSums(Z, D, r)"
   ]
  }
 ],
 "metadata": {
  "kernelspec": {
   "display_name": "Julia 1.4.1",
   "language": "julia",
   "name": "julia-1.4"
  },
  "language_info": {
   "file_extension": ".jl",
   "mimetype": "application/julia",
   "name": "julia",
   "version": "1.4.1"
  }
 },
 "nbformat": 4,
 "nbformat_minor": 2
}
