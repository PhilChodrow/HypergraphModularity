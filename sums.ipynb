{
 "cells": [
  {
   "cell_type": "code",
   "execution_count": 1,
   "metadata": {},
   "outputs": [],
   "source": [
    "using StatsBase\n",
    "using Combinatorics"
   ]
  },
  {
   "cell_type": "code",
   "execution_count": 37,
   "metadata": {},
   "outputs": [],
   "source": [
    "# toy data\n",
    "\n",
    "Z = [1 1 2 2 3 3 4 4 4 5 5] # group partition\n",
    "D = [3 4 2 5 6 4 3 2 5 2 2]; # degree sequence"
   ]
  },
  {
   "cell_type": "markdown",
   "metadata": {},
   "source": [
    "First thing we'll do: let's check the formula\n",
    "\n",
    "$$\\sum_{R \\in [n]^\\ell} \\mathbb{I}(\\#(\\mathbf{z}_R) = p) \\sigma(\\theta_R) = \\sum_{y: \\#y = p}\\prod_{a = 1}^{\\ell}v_{y_a}\\;,$$\n",
    "\n",
    "In this formula, we're allowing R to range over $[n]^\\ell$, where $\\ell$ is the number of nodes per hyperedge, and $n$ the number of nodes.  $p$ is a specified permutation. This is **different** from the current version of the nodes, and matches the conversation we had over email. \n",
    "\n"
   ]
  },
  {
   "cell_type": "code",
   "execution_count": 29,
   "metadata": {},
   "outputs": [],
   "source": [
    "# Naive evaluation of the sum (LHS)\n",
    "\n",
    "function evalSum(p, Z, D)\n",
    "    n = length(Z)\n",
    "    ℓ = sum(p)\n",
    "\n",
    "    S = 0\n",
    "\n",
    "    T = Iterators.product((1:n for i = 1:ℓ)...)\n",
    "\n",
    "    for R in T\n",
    "        a = countmap(vec(Z[collect(R)]))\n",
    "        a = -sort(-collect(values(a)))\n",
    "        if a == p\n",
    "            S += prod(D[collect(R)])\n",
    "        end\n",
    "    end\n",
    "    return(S)\n",
    "end\n",
    "\n",
    "# Faster evaluation (RHS)\n",
    "\n",
    "function evalSum2(p, Z, D)\n",
    "    n = length(Z)\n",
    "    ℓ = sum(p)\n",
    "    S = 0\n",
    "\n",
    "    V = [sum([(Z[i] == s)*D[i] for i = 1:n]) for s = 1:maximum(Z)] # vector of volumes\n",
    "\n",
    "    P = Iterators.product((1:maximum(Z) for i = 1:ℓ)...)\n",
    "    for p_ in P\n",
    "        a = countmap(vec(collect(p_)))\n",
    "        a = -sort(-collect(values(a)))\n",
    "        if a == p\n",
    "          S += prod(V[collect(p_)])\n",
    "        end\n",
    "    end\n",
    "\n",
    "    return(S)\n",
    "end;"
   ]
  },
  {
   "cell_type": "code",
   "execution_count": 30,
   "metadata": {},
   "outputs": [
    {
     "name": "stdout",
     "output_type": "stream",
     "text": [
      "true\n",
      "true\n",
      "true\n",
      "true\n",
      "true\n",
      "true\n"
     ]
    }
   ],
   "source": [
    "# test: check that these two functions give the same result on all partitions\n",
    "# this will be very slow for even moderate n\n",
    "\n",
    "r = 3\n",
    "\n",
    "for i = 1:r\n",
    "    for j = 1:i\n",
    "        for p in partitions(i,j)\n",
    "            println(evalSum(p, Z, D) == evalSum2(p, Z, D))\n",
    "        end\n",
    "    end\n",
    "end"
   ]
  },
  {
   "cell_type": "markdown",
   "metadata": {},
   "source": [
    "Ok, looks good! `evalSum2` is a lot faster than `evalSum`, although they are both very slow. Presumably this is due in part to kludgy coding on my part, but one would imagine that even much better coding practice could only improve these so much"
   ]
  },
  {
   "cell_type": "code",
   "execution_count": 31,
   "metadata": {},
   "outputs": [
    {
     "name": "stdout",
     "output_type": "stream",
     "text": [
      "  0.114719 seconds (30.42 k allocations: 94.904 MiB, 19.49% gc time)\n",
      "  0.006694 seconds (2.65 k allocations: 8.912 MiB)\n"
     ]
    },
    {
     "data": {
      "text/plain": [
       "27546"
      ]
     },
     "execution_count": 31,
     "metadata": {},
     "output_type": "execute_result"
    }
   ],
   "source": [
    "p = [2, 1]\n",
    "@time evalSum(p, Z, D)\n",
    "@time evalSum2(p, Z, D)"
   ]
  },
  {
   "cell_type": "markdown",
   "metadata": {},
   "source": [
    "Next we're going to try to use the recursion lemma from the notes in order to evaluate the sums for every possible partition vector p at once. "
   ]
  },
  {
   "cell_type": "code",
   "execution_count": 32,
   "metadata": {},
   "outputs": [
    {
     "data": {
      "text/plain": [
       "evalSums (generic function with 1 method)"
      ]
     },
     "execution_count": 32,
     "metadata": {},
     "output_type": "execute_result"
    }
   ],
   "source": [
    "function correctOvercounting(M, p)\n",
    "    \"\"\"\n",
    "    Utility function: second term in the recurrence in the notes\n",
    "    \"\"\"\n",
    "        pk = p[end]\n",
    "        S = 0\n",
    "        for i = 1:length(p)-1\n",
    "            p_ = copy(p)[1:(end-1)]\n",
    "            p_[i] += pk\n",
    "            S += M[-sort(-p_)]\n",
    "        end\n",
    "        return(S)\n",
    "    end\n",
    "\n",
    "function evalSums(Z, D, r)\n",
    "    \"\"\"\n",
    "    Z: an Array of integer group labels\n",
    "    D: an Array of degrees\n",
    "    ℓ: the largest hyperedge size to compute\n",
    "    \"\"\"\n",
    "    \n",
    "    V = [sum([D[i]*(Z[i] == j) for i in 1:length(Z)]) for j in 1:maximum(Z)]\n",
    "    μ = [sum(V.^i) for i = 1:r]\n",
    "\n",
    "    M = Dict()\n",
    "\n",
    "    for i = 1:r\n",
    "        for j = 1:i # number of nonzero entries\n",
    "            for p in partitions(i, j)\n",
    "                pk = p[j]\n",
    "                M[p] = μ[p[end]]*get(M, p[1:(end-1)], 1) - correctOvercounting(M,p)\n",
    "            end\n",
    "        end\n",
    "    end\n",
    "    N = Dict()\n",
    "    for p in keys(M)\n",
    "        orderCorrection = 1\n",
    "        counts = values(countmap(p))\n",
    "        for c in counts\n",
    "            orderCorrection *= factorial(c) \n",
    "        end\n",
    "\n",
    "        N[p] = M[p] * multinomial(p...) ÷ orderCorrection\n",
    "    end\n",
    "    return(N)\n",
    "end"
   ]
  },
  {
   "cell_type": "code",
   "execution_count": 38,
   "metadata": {},
   "outputs": [
    {
     "name": "stdout",
     "output_type": "stream",
     "text": [
      "  0.000544 seconds (538 allocations: 764.250 KiB)\n"
     ]
    },
    {
     "data": {
      "text/plain": [
       "Dict{Any,Any} with 18 entries:\n",
       "  [2, 2, 1]       => 23050800\n",
       "  [1, 1, 1, 1]    => 346080\n",
       "  [3, 2]          => 6288620\n",
       "  [2, 2]          => 220614\n",
       "  [3]             => 2750\n",
       "  [1, 1]          => 1130\n",
       "  [1, 1, 1]       => 24576\n",
       "  [2]             => 314\n",
       "  [2, 1, 1]       => 1175616\n",
       "  [2, 1]          => 27546\n",
       "  [4, 1]          => 3587830\n",
       "  [4]             => 25058\n",
       "  [1]             => 38\n",
       "  [5]             => 234638\n",
       "  [2, 1, 1, 1]    => 26997600\n",
       "  [3, 1, 1]       => 16723680\n",
       "  [1, 1, 1, 1, 1] => 2352000\n",
       "  [3, 1]          => 317768"
      ]
     },
     "execution_count": 38,
     "metadata": {},
     "output_type": "execute_result"
    }
   ],
   "source": [
    "# need to run this block twice in order to avoid timing compile time\n",
    "r = 5 # size of largest hyperedge\n",
    "@time M = evalSums(Z, D, r)"
   ]
  },
  {
   "cell_type": "markdown",
   "metadata": {},
   "source": [
    "For comparison, let's implement `evalSums2` by just running `evalSum2` for each value of `p`: "
   ]
  },
  {
   "cell_type": "code",
   "execution_count": 34,
   "metadata": {},
   "outputs": [
    {
     "data": {
      "text/plain": [
       "evalSums2 (generic function with 1 method)"
      ]
     },
     "execution_count": 34,
     "metadata": {},
     "output_type": "execute_result"
    }
   ],
   "source": [
    "# comparison to using evalSum2 from above\n",
    "function evalSums2(Z, D, r)\n",
    "    N = Dict()\n",
    "    for i = 1:r\n",
    "        for j = 1:i # number of nonzero entries\n",
    "            for p in partitions(i, j)\n",
    "                N[p] = evalSum2(p, Z, D)\n",
    "            end\n",
    "        end\n",
    "    end\n",
    "    return(N)\n",
    "end"
   ]
  },
  {
   "cell_type": "code",
   "execution_count": 35,
   "metadata": {},
   "outputs": [
    {
     "name": "stdout",
     "output_type": "stream",
     "text": [
      "  1.493222 seconds (800.99 k allocations: 1.805 GiB, 20.31% gc time)\n"
     ]
    },
    {
     "data": {
      "text/plain": [
       "Dict{Any,Any} with 18 entries:\n",
       "  [2, 2, 1]       => 23050800\n",
       "  [1, 1, 1, 1]    => 346080\n",
       "  [3, 2]          => 6288620\n",
       "  [2, 2]          => 220614\n",
       "  [3]             => 2750\n",
       "  [1, 1]          => 1130\n",
       "  [1, 1, 1]       => 24576\n",
       "  [2]             => 314\n",
       "  [2, 1, 1]       => 1175616\n",
       "  [2, 1]          => 27546\n",
       "  [4, 1]          => 3587830\n",
       "  [4]             => 25058\n",
       "  [1]             => 38\n",
       "  [5]             => 234638\n",
       "  [2, 1, 1, 1]    => 26997600\n",
       "  [3, 1, 1]       => 16723680\n",
       "  [1, 1, 1, 1, 1] => 2352000\n",
       "  [3, 1]          => 317768"
      ]
     },
     "execution_count": 35,
     "metadata": {},
     "output_type": "execute_result"
    }
   ],
   "source": [
    "# need to run twice to avoid timing compile times\n",
    "@time N = evalSums2(Z, D, r)"
   ]
  },
  {
   "cell_type": "markdown",
   "metadata": {},
   "source": [
    "Ok, so the main thing that these timings tell me us that I wrote `evalSum2` really inefficiently. But, note that this agrees with the result computed above. "
   ]
  },
  {
   "cell_type": "markdown",
   "metadata": {},
   "source": [
    "# How big can we go?\n",
    "\n",
    "Even with my highly non-optimized code, we can do medium-sized instances fairly quickly this way. Note, however, that we need BigInts to avoid overflow issues. "
   ]
  },
  {
   "cell_type": "code",
   "execution_count": 36,
   "metadata": {},
   "outputs": [
    {
     "name": "stdout",
     "output_type": "stream",
     "text": [
      "  0.828582 seconds (4.34 M allocations: 140.212 MiB, 17.83% gc time)\n"
     ]
    },
    {
     "data": {
      "text/plain": [
       "Dict{Any,Any} with 683 entries:\n",
       "  [7, 4, 2, 1]                => 4802112887420135631642304944258647842689849590…\n",
       "  [6, 1, 1, 1, 1]             => 7097102946627510704059501763171522286622004738…\n",
       "  [6, 2, 2, 2, 2]             => 1876422190167809936175097922079900540509822094…\n",
       "  [3, 3, 3, 3]                => 4670252169073688006194382661273581217292690175…\n",
       "  [4, 4, 2, 1, 1]             => 1454960601256646000363900382489387582929242644…\n",
       "  [3, 3, 3, 2, 1, 1, 1]       => 6412135691961690657400815027413141046982865655…\n",
       "  [4, 4, 2, 1]                => 2581731751740062439013799533316880519352250446…\n",
       "  [6, 3, 3, 1, 1, 1]          => 2313512660894248547213649220304437865380695065…\n",
       "  [4, 2, 1]                   => 18766572231824268910221283837403313690\n",
       "  [7, 1]                      => 637172737082168549952543002733319930368\n",
       "  [3]                         => 430715715796245\n",
       "  [5, 2, 2, 1, 1, 1]          => 5220994817568176398818941251732422599778988726…\n",
       "  [8, 3, 1]                   => 1360359626336627525424739330432006014851074034…\n",
       "  [3, 2, 2, 2, 2, 1, 1, 1, 1] => 9876125145976938320727565071764800945499563303…\n",
       "  [4, 4, 3, 1, 1]             => 1295731675352971984467311096072593576619122739…\n",
       "  [6, 6, 1, 1]                => 5639221816808163791935534727118645538948219981…\n",
       "  [3, 2, 2, 2, 2, 2, 2]       => 1100855102043682812299037039044030973444504958…\n",
       "  [5, 3, 3, 3]                => 7250985953768973288515614521869725113244105619…\n",
       "  [4, 2, 2, 2, 2]             => 7203433258887850033714615508811063034288102330…\n",
       "  [6, 2, 2, 2, 1, 1]          => 3366580186688403930073616682655543245691947859…\n",
       "  [3, 3, 2, 1, 1, 1, 1]       => 3766238802298884517464227225228509459043696896…\n",
       "  [3, 2, 2, 2, 2, 2]          => 3419016198638497895013481024161141490010239819…\n",
       "  [4, 2, 2, 1, 1, 1, 1]       => 2834016682369987816641690875376838882209710218…\n",
       "  [5, 2, 2, 2, 1]             => 1164008934387699373425992768233775487288729513…\n",
       "  [4, 3, 2, 2, 1, 1, 1, 1]    => 4765011428202494991198485814999403211788445718…\n",
       "  ⋮                           => ⋮"
      ]
     },
     "execution_count": 36,
     "metadata": {},
     "output_type": "execute_result"
    }
   ],
   "source": [
    "# Performance test: how big can we do this?\n",
    "n = 20000\n",
    "\n",
    "Z = rand(1:50, n)\n",
    "Z = convert(Array{BigInt,1}, Z)\n",
    "D = rand(2:100, n)\n",
    "D = convert(Array{BigInt,1}, D)\n",
    "\n",
    "r = 15 # maximum hyperedge size\n",
    "\n",
    "@time M = evalSums(Z, D, r)"
   ]
  }
 ],
 "metadata": {
  "kernelspec": {
   "display_name": "Julia 1.4.1",
   "language": "julia",
   "name": "julia-1.4"
  },
  "language_info": {
   "file_extension": ".jl",
   "mimetype": "application/julia",
   "name": "julia",
   "version": "1.4.1"
  }
 },
 "nbformat": 4,
 "nbformat_minor": 2
}
