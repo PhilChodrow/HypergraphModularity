{
 "cells": [
  {
   "cell_type": "markdown",
   "metadata": {},
   "source": [
    "# Data Descriptives"
   ]
  },
  {
   "cell_type": "code",
   "execution_count": 14,
   "metadata": {},
   "outputs": [
    {
     "name": "stderr",
     "output_type": "stream",
     "text": [
      "\u001b[32m\u001b[1m Activating\u001b[22m\u001b[39m environment at `~/hypergraph_modularities_code/Project.toml`\n"
     ]
    }
   ],
   "source": [
    "using Revise\n",
    "using Pkg; Pkg.activate(\".\")\n",
    "using HypergraphModularity\n",
    "\n",
    "using CSV\n",
    "using StatsBase\n",
    "using DataFrames\n",
    "using Statistics"
   ]
  },
  {
   "cell_type": "code",
   "execution_count": 7,
   "metadata": {},
   "outputs": [
    {
     "data": {
      "text/plain": [
       "majority_size (generic function with 1 method)"
      ]
     },
     "execution_count": 7,
     "metadata": {},
     "output_type": "execute_result"
    }
   ],
   "source": [
    "function majority_size(e, Z)\n",
    "    p = partitionize(Z[e])\n",
    "    return p[1]/sum(p)\n",
    "end"
   ]
  },
  {
   "cell_type": "code",
   "execution_count": 11,
   "metadata": {},
   "outputs": [
    {
     "data": {
      "text/plain": [
       "readCommittees (generic function with 1 method)"
      ]
     },
     "execution_count": 11,
     "metadata": {},
     "output_type": "execute_result"
    }
   ],
   "source": [
    "function readCommittees(path)\n",
    "    DF = DataFrame!(CSV.File(path));\n",
    "    \n",
    "    sub = combine(groupby(DF, :new_id)) do sdf\n",
    "               sdf[argmax(sdf.new_id), :]\n",
    "               end\n",
    "\n",
    "    Z = sub[:, \"party\"];\n",
    "\n",
    "    E = Dict()\n",
    "\n",
    "    for sub ∈ groupby(DF, [:session, :committee])\n",
    "        e = sub[!,:new_id]\n",
    "        k = length(e)\n",
    "        if !(k ∈ keys(E))\n",
    "            E[k] = Dict()\n",
    "        end\n",
    "        E[k][e] = get(E[k], e, 0) + 1\n",
    "    end\n",
    "\n",
    "    for k in 1:maximum(keys(E))\n",
    "        if !(k ∈ keys(E))\n",
    "            E[k] = Dict()\n",
    "        end\n",
    "    end\n",
    "\n",
    "    N = unique(DF[!, :new_id])\n",
    "\n",
    "    H = hypergraph(N = N, E = E)\n",
    "    \n",
    "#     for k ∈ keys(H.E)\n",
    "#         if k > 65\n",
    "#             pop!(H.E, k)\n",
    "#         end\n",
    "#     end\n",
    "    \n",
    "    HypergraphModularity.computeDegrees!(H);\n",
    "    \n",
    "    return H, Z\n",
    "end"
   ]
  },
  {
   "cell_type": "code",
   "execution_count": 44,
   "metadata": {},
   "outputs": [
    {
     "data": {
      "text/plain": [
       "print_descriptives (generic function with 1 method)"
      ]
     },
     "execution_count": 44,
     "metadata": {},
     "output_type": "execute_result"
    }
   ],
   "source": [
    "function print_descriptives(d)\n",
    "    \n",
    "    \n",
    "    if d == \"senate-committees\"\n",
    "        H, Z = readCommittees(\"data/congress-committees/senate_committees.csv\")\n",
    "        two_groups = true\n",
    "    elseif d == \"house-committees\"\n",
    "        H, Z = readCommittees(\"data/congress-committees/house_committees.csv\")\n",
    "        two_groups = true\n",
    "    else\n",
    "        H, Z = read_hypergraph_data(d, 25)\n",
    "        two_groups = false\n",
    "    end\n",
    "\n",
    "\n",
    "    H.E[1] = Dict()\n",
    "\n",
    "    kmin = max(minimum(keys(H.E)), 2)\n",
    "    kmax = maximum(keys(H.E))\n",
    "\n",
    "    n = length(H.D)\n",
    "    m = sum(sum(values(H.E[k])) for k in keys(H.E) if length(H.E[k]) > 0)\n",
    "    c̄ = mean(H.D)\n",
    "    sc = std(H.D)\n",
    "    \n",
    "    ks = [length(e) for k in keys(H.E) for e in keys(H.E[k])]\n",
    "    k̄ = mean(ks)\n",
    "    sk = std(ks) \n",
    "    \n",
    "    maxk = maximum(ks)\n",
    "    \n",
    "        \n",
    "    \n",
    "    \n",
    "    # mean size of largest majority on hyperedge\n",
    "    \n",
    "#     p = mean(majority_size(e, Z) for k in keys(H.E) for e in keys(H.E[k]) )\n",
    "    p = mean(length(partitionize(Z[e])) == 1 for k in keys(H.E) for e in keys(H.E[k]) )\n",
    "    \n",
    "    println(\"\")\n",
    "    print(rpad(d, 35, \" \"))\n",
    "    print(rpad(\"$n\", 10, \" \"))\n",
    "    print(rpad(\"$m\", 10, \" \"))\n",
    "    print(rpad(\"$(round(c̄, digits = 2)) ($(round(sc, digits = 2)))\", 20, \" \"))\n",
    "    print(rpad(\"$(round(k̄, digits = 2)) ($(round(sk, digits = 2)))\", 20, \" \"))\n",
    "    print(rpad(\"$(maxk)\", 10, \" \"))\n",
    "    \n",
    "    \n",
    "#     println(\"$dataset : The data has $n nodes and $m edges. The mean degree is $(round(c̄, digits = 2)) and the mean edge size is $(round(k̄, digits = 2)).\")\n",
    "end"
   ]
  },
  {
   "cell_type": "code",
   "execution_count": 45,
   "metadata": {},
   "outputs": [
    {
     "data": {
      "text/plain": [
       "5.523521625889569"
      ]
     },
     "execution_count": 45,
     "metadata": {},
     "output_type": "execute_result"
    }
   ],
   "source": [
    "H, Z = read_hypergraph_data(\"SN-congress-bills\")\n",
    "Dict(k => sum(values(H.E[k])) for k in keys(H.E) if length(H.E[k]) > 0)\n",
    "\n",
    "\n",
    "std(ks)\n",
    "\n",
    "\n"
   ]
  },
  {
   "cell_type": "markdown",
   "metadata": {},
   "source": [
    "The table below shows the number of nodes, number of edges, mean degree, and mean edge dimension for each data set. Each of the data have been restricted to contain only edges of size no larger than 10. "
   ]
  },
  {
   "cell_type": "code",
   "execution_count": 46,
   "metadata": {},
   "outputs": [
    {
     "name": "stdout",
     "output_type": "stream",
     "text": [
      "data                               n         m         c̄                   k̄                   maxk      \n",
      "---------------------------------------------------------------------------------------------------------\n",
      "SN-congress-bills                  294       20006     493.38 (406.3)      7.25 (5.52)         25        \n",
      "HR-congress-bills                  1494      43047     273.98 (282.68)     9.51 (7.21)         25        \n",
      "contact-primary-school-classes     242       12704     126.98 (55.26)      2.42 (0.55)         5         \n",
      "TrivagoClickout                    172738    220758    4.02 (6.96)         4.15 (2.01)         25        \n",
      "walmart-trips                      88860     65979     5.09 (26.71)        6.86 (5.33)         25        \n",
      "contact-high-school-classes        327       7818      55.63 (27.1)        2.33 (0.53)         5         \n",
      "senate-committees                  282       315       19.0 (14.64)        17.45 (6.64)        31        \n",
      "house-committees                   1290      340       9.18 (7.11)         35.24 (21.27)       82        "
     ]
    }
   ],
   "source": [
    "print(rpad(\"data\", 35, \" \"))\n",
    "print(rpad(\"n\", 10, \" \"))\n",
    "print(rpad(\"m\", 10, \" \"))\n",
    "print(rpad(\"c̄\", 21, \" \"))\n",
    "print(rpad(\"k̄\", 21, \" \"))\n",
    "print(rpad(\"maxk\", 10, \" \"))\n",
    "println(\"\")\n",
    "print(rpad(\"\", 105, \"-\"))\n",
    "\n",
    "for dataset in [\"SN-congress-bills\",\n",
    "                \"HR-congress-bills\", \n",
    "                \"contact-primary-school-classes\", \n",
    "                \"TrivagoClickout\", \n",
    "                \"walmart-trips\", \n",
    "                \"contact-high-school-classes\", \n",
    "                \"senate-committees\", \n",
    "                \"house-committees\"]\n",
    "    print_descriptives(dataset)\n",
    "end"
   ]
  },
  {
   "cell_type": "code",
   "execution_count": 36,
   "metadata": {},
   "outputs": [
    {
     "data": {
      "text/plain": [
       "(hypergraph\n",
       "  N: Array{Int64}((1494,)) [1, 2, 3, 4, 5, 6, 7, 8, 9, 10  …  1485, 1486, 1487, 1488, 1489, 1490, 1491, 1492, 1493, 1494]\n",
       "  E: Dict{Int64,Dict}\n",
       "  D: Array{Int64}((1494,)) [528, 864, 621, 298, 836, 886, 382, 125, 223, 314  …  38, 65, 43, 50, 31, 28, 32, 31, 3, 18]\n",
       ", [1, 1, 1, 1, 2, 1, 1, 1, 1, 2  …  2, 2, 2, 1, 1, 1, 1, 2, 1, 1])"
      ]
     },
     "execution_count": 36,
     "metadata": {},
     "output_type": "execute_result"
    }
   ],
   "source": [
    "H, Z = read_hypergraph_data(\"HR-congress-bills\", 30)"
   ]
  },
  {
   "cell_type": "code",
   "execution_count": 37,
   "metadata": {},
   "outputs": [
    {
     "data": {
      "text/plain": [
       "29-element Array{Float64,1}:\n",
       " 0.6423719958202717\n",
       " 0.503089951934081\n",
       " 0.4164179104477612\n",
       " 0.36363636363636365\n",
       " 0.32040164308534913\n",
       " 0.2909732728189612\n",
       " 0.2711768050028425\n",
       " 0.23157248157248156\n",
       " 0.21226415094339623\n",
       " 0.22489082969432314\n",
       " 0.20325833979829325\n",
       " 0.19083969465648856\n",
       " 0.20430965682362331\n",
       " ⋮\n",
       " 0.1381936887921654\n",
       " 0.11858190709046455\n",
       " 0.13005050505050506\n",
       " 0.12483912483912483\n",
       " 0.11877394636015326\n",
       " 0.09099350046425256\n",
       " 0.07537091988130563\n",
       " 0.14672686230248308\n",
       " 0.10465116279069768\n",
       " 0.09970674486803519\n",
       " 0.10542168674698796\n",
       " 0.12195121951219512"
      ]
     },
     "execution_count": 37,
     "metadata": {},
     "output_type": "execute_result"
    }
   ],
   "source": [
    "[mean(length(partitionize(Z[e])) == 1 for e in keys(H.E[k])) for k in 2:30]"
   ]
  },
  {
   "cell_type": "code",
   "execution_count": null,
   "metadata": {},
   "outputs": [],
   "source": []
  }
 ],
 "metadata": {
  "kernelspec": {
   "display_name": "Julia 1.4.2",
   "language": "julia",
   "name": "julia-1.4"
  },
  "language_info": {
   "file_extension": ".jl",
   "mimetype": "application/julia",
   "name": "julia",
   "version": "1.4.2"
  }
 },
 "nbformat": 4,
 "nbformat_minor": 4
}
