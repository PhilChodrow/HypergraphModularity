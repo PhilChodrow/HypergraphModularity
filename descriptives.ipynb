{
 "cells": [
  {
   "cell_type": "markdown",
   "metadata": {},
   "source": [
    "# Data Descriptives"
   ]
  },
  {
   "cell_type": "code",
   "execution_count": 12,
   "metadata": {},
   "outputs": [
    {
     "name": "stderr",
     "output_type": "stream",
     "text": [
      "\u001b[32m\u001b[1m Activating\u001b[22m\u001b[39m environment at `~/hypergraph_modularities_code/Project.toml`\n"
     ]
    }
   ],
   "source": [
    "using Pkg; Pkg.activate(\".\")\n",
    "using HypergraphModularity\n",
    "\n",
    "using StatsBase"
   ]
  },
  {
   "cell_type": "code",
   "execution_count": 71,
   "metadata": {},
   "outputs": [
    {
     "data": {
      "text/plain": [
       "print_descriptives (generic function with 1 method)"
      ]
     },
     "execution_count": 71,
     "metadata": {},
     "output_type": "execute_result"
    }
   ],
   "source": [
    "function print_descriptives(dataset)\n",
    "\n",
    "    kmax = 10\n",
    "    kmin = 2\n",
    "\n",
    "    H, Z = read_hypergraph_data(dataset, kmax)\n",
    "\n",
    "    H.E[1] = Dict()\n",
    "\n",
    "    kmin = max(minimum(keys(H.E)), 2)\n",
    "    kmax = maximum(keys(H.E))\n",
    "\n",
    "    n = length(H.D)\n",
    "    m = sum(sum(values(H.E[k])) for k in keys(H.E) if length(H.E[k]) > 0)\n",
    "    c̄ = mean(H.D)\n",
    "    k̄ = sum(sum(values(H.E[k]))*k for k in keys(H.E) if length(H.E[k]) > 0)/m\n",
    "    \n",
    "    println(\"\")\n",
    "    print(rpad(dataset, 25, \" \"))\n",
    "    print(rpad(\"$n\", 10, \" \"))\n",
    "    print(rpad(\"$m\", 10, \" \"))\n",
    "    print(rpad(\"$(round(c̄, digits = 2))\", 10, \" \"))\n",
    "    print(rpad(\"$(round(k̄, digits = 2))\", 10, \" \"))\n",
    "    \n",
    "#     println(\"$dataset : The data has $n nodes and $m edges. The mean degree is $(round(c̄, digits = 2)) and the mean edge size is $(round(k̄, digits = 2)).\")\n",
    "end"
   ]
  },
  {
   "cell_type": "code",
   "execution_count": 72,
   "metadata": {},
   "outputs": [
    {
     "data": {
      "text/plain": [
       "4.560816763694785"
      ]
     },
     "execution_count": 72,
     "metadata": {},
     "output_type": "execute_result"
    }
   ],
   "source": [
    "H, Z = read_hypergraph_data(dataset, kmax)\n",
    "m = sum(sum(values(H.E[k])) for k in keys(H.E))\n",
    "k̄ = sum(sum(values(H.E[k]))*k for k in keys(H.E))/m"
   ]
  },
  {
   "cell_type": "markdown",
   "metadata": {},
   "source": [
    "The table below shows the number of nodes, number of edges, mean degree, and mean edge dimension for each data set. Each of the data have been restricted to contain only edges of size no larger than 10. "
   ]
  },
  {
   "cell_type": "code",
   "execution_count": 78,
   "metadata": {},
   "outputs": [
    {
     "name": "stdout",
     "output_type": "stream",
     "text": [
      "data                     n         m         c̄        k̄        \n",
      "-----------------------------------------------------------------\n",
      "congress-bills           1718      56193     153.67    4.67      \n",
      "contact-primary-school   242       12704     126.98    2.42      \n",
      "TrivagoClickout          172738    216534    3.71      3.96      \n",
      "walmart-trips            88860     52383     2.68      4.54      "
     ]
    }
   ],
   "source": [
    "print(rpad(\"data\", 25, \" \"))\n",
    "print(rpad(\"n\", 10, \" \"))\n",
    "print(rpad(\"m\", 10, \" \"))\n",
    "print(rpad(\"c̄\", 10, \" \"))\n",
    "print(rpad(\"k̄\", 10, \" \"))\n",
    "println(\"\")\n",
    "print(rpad(\"\", 65, \"-\"))\n",
    "\n",
    "for dataset in [\"congress-bills\", \"contact-primary-school\", \"TrivagoClickout\", \"walmart-trips\"]\n",
    "    print_descriptives(dataset)\n",
    "end"
   ]
  }
 ],
 "metadata": {
  "kernelspec": {
   "display_name": "Julia 1.4.2",
   "language": "julia",
   "name": "julia-1.4"
  },
  "language_info": {
   "file_extension": ".jl",
   "mimetype": "application/julia",
   "name": "julia",
   "version": "1.4.2"
  }
 },
 "nbformat": 4,
 "nbformat_minor": 4
}
