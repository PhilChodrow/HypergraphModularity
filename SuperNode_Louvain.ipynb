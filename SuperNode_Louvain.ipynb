{
 "cells": [
  {
   "cell_type": "code",
   "execution_count": 10,
   "metadata": {},
   "outputs": [
    {
     "name": "stderr",
     "output_type": "stream",
     "text": [
      "\u001b[32m\u001b[1m Activating\u001b[22m\u001b[39m environment at `~/hypergraph_modularities_code/Project.toml`\n"
     ]
    }
   ],
   "source": [
    "## Generate a graph\n",
    "using StatsBase\n",
    "using Combinatorics\n",
    "\n",
    "using Pkg; Pkg.activate(\".\")\n",
    "using HypergraphModularity"
   ]
  },
  {
   "cell_type": "code",
   "execution_count": 6,
   "metadata": {},
   "outputs": [
    {
     "data": {
      "text/plain": [
       "hypergraph\n",
       "  N: Array{Int64}((200,)) [1, 2, 3, 4, 5, 6, 7, 8, 9, 10  …  191, 192, 193, 194, 195, 196, 197, 198, 199, 200]\n",
       "  E: Dict{Int64,Dict}\n",
       "  D: Array{Int64}((200,)) [14, 9, 9, 12, 6, 4, 4, 13, 5, 8  …  13, 5, 4, 3, 8, 12, 3, 6, 6, 6]\n"
      ]
     },
     "execution_count": 6,
     "metadata": {},
     "output_type": "execute_result"
    }
   ],
   "source": [
    "n = 200\n",
    "Z = rand(1:2, n)\n",
    "ϑ = dropdims(ones(1,n) + rand(1,n), dims = 1)\n",
    "\n",
    "# defining group intensity function Ω\n",
    "μ = mean(ϑ)\n",
    "\n",
    "ω(p,α) = (10 .*μ*sum(p))^(-sum(p))*prod(p.^α)^(1/(sum(p)*α))\n",
    "α0 = 1\n",
    "\n",
    "kmax = 3\n",
    "\n",
    "Ω = buildΩ(ω, α0, kmax)\n",
    "## Sample\n",
    "H = sampleSBM(Z, ϑ, Ω; α=α0, kmax=kmax, kmin = 1)"
   ]
  },
  {
   "cell_type": "code",
   "execution_count": 7,
   "metadata": {},
   "outputs": [
    {
     "name": "stdout",
     "output_type": "stream",
     "text": [
      "Louvain Iteration 1\n",
      "Louvain Iteration 2\n",
      "  0.158904 seconds (2.05 M allocations: 106.063 MiB, 12.23% gc time)\n"
     ]
    },
    {
     "data": {
      "text/plain": [
       "-38784.8735706929276606691836082156654708086307437042705714702606201171875"
      ]
     },
     "execution_count": 7,
     "metadata": {},
     "output_type": "execute_result"
    }
   ],
   "source": [
    "## Run Louvains, Naive, and Faster version\n",
    "\n",
    "# @time Zlou = Naive_HyperLouvain(H,Ω;α=α0)\n",
    "@time Zlou2 = HyperLouvain(H,kmax,Ω;α=α0)\n",
    "\n",
    "# mlou = modularity(H,Zlou,Ω,α=α0)\n",
    "mlou2 = modularity(H,Zlou2,Ω,α=α0)\n",
    "\n",
    "# This may not be exactly the same, but that's okay.\n",
    "# Even a difference of 1e-14 in modularity change may lead you to make a \n",
    "# different greedy decision, but it's still a valid move.\n",
    "# @show mlou, mlou2\n",
    "# @show abs(mlou- mlou2)"
   ]
  },
  {
   "cell_type": "code",
   "execution_count": 8,
   "metadata": {},
   "outputs": [
    {
     "name": "stdout",
     "output_type": "stream",
     "text": [
      "toc = 0.0022649765014648438\n",
      "Louvain Iteration 1\n",
      "Louvain Iteration 2\n",
      "t1 = 0.18848586082458496\n",
      "  0.195015 seconds (2.03 M allocations: 123.083 MiB, 14.10% gc time)\n"
     ]
    },
    {
     "data": {
      "text/plain": [
       "-38784.37868553470197326813622730468100741063608438707888126373291015625"
      ]
     },
     "execution_count": 8,
     "metadata": {},
     "output_type": "execute_result"
    }
   ],
   "source": [
    "## Try supernode Louvain\n",
    "# Sanity check: having a singletons initialization is equivalent to naive louvain\n",
    "Z = collect(1:n)\n",
    "@time Znew, changed = SuperNodeStep(H,Z,kmax,Ω;α=α0)\n",
    "mlou3 =  modularity(H,Znew,Ω,α=α0)"
   ]
  },
  {
   "cell_type": "code",
   "execution_count": 9,
   "metadata": {},
   "outputs": [
    {
     "name": "stdout",
     "output_type": "stream",
     "text": [
      "Faster SuperNode Louvain: Phase 1\n",
      "Louvain Iteration 1\n",
      "Louvain Iteration 2\n",
      "SuperNode Louvain: Phase 2\n",
      "toc = 0.0018770694732666016\n",
      "Louvain Iteration 1\n",
      "t1 = 0.10001039505004883\n",
      "  0.256537 seconds (3.07 M allocations: 169.075 MiB, 14.72% gc time)\n"
     ]
    },
    {
     "data": {
      "text/plain": [
       "-38784.8735706929276606691836082156654708086307437042705714702606201171875"
      ]
     },
     "execution_count": 9,
     "metadata": {},
     "output_type": "execute_result"
    }
   ],
   "source": [
    "## Now repeatedly call the SuperNodeStep until no more improvement is possible\n",
    "@time Z = SuperNodeLouvain(H,kmax,Ω;α=α0)\n",
    "msuper = modularity(H,Z,Ω,α=α0)"
   ]
  }
 ],
 "metadata": {
  "@webio": {
   "lastCommId": null,
   "lastKernelId": null
  },
  "kernelspec": {
   "display_name": "Julia 1.4.2",
   "language": "julia",
   "name": "julia-1.4"
  },
  "language_info": {
   "file_extension": ".jl",
   "mimetype": "application/julia",
   "name": "julia",
   "version": "1.4.2"
  }
 },
 "nbformat": 4,
 "nbformat_minor": 4
}
