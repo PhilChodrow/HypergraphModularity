{
 "cells": [
  {
   "cell_type": "code",
   "execution_count": 4,
   "metadata": {},
   "outputs": [
    {
     "data": {
      "text/plain": [
       "estimateΩEmpirically (generic function with 1 method)"
      ]
     },
     "execution_count": 4,
     "metadata": {},
     "output_type": "execute_result"
    }
   ],
   "source": [
    "## Generate a graph\n",
    "using StatsBase\n",
    "using Combinatorics\n",
    "\n",
    "include(\"jl/omega.jl\")\n",
    "include(\"jl/HSBM.jl\")\n",
    "include(\"jl/hypergraph_louvain.jl\")\n",
    "include(\"jl/inference.jl\")"
   ]
  },
  {
   "cell_type": "code",
   "execution_count": 18,
   "metadata": {},
   "outputs": [
    {
     "data": {
      "text/plain": [
       "hypergraph\n",
       "  N: Array{Int64}((200,)) [1, 2, 3, 4, 5, 6, 7, 8, 9, 10  …  191, 192, 193, 194, 195, 196, 197, 198, 199, 200]\n",
       "  E: Dict{Int64,Dict}\n",
       "  D: Array{Int64}((200,)) [8, 7, 9, 2, 7, 8, 3, 5, 10, 10  …  5, 6, 10, 7, 8, 6, 9, 4, 14, 4]\n"
      ]
     },
     "execution_count": 18,
     "metadata": {},
     "output_type": "execute_result"
    }
   ],
   "source": [
    "n = 200\n",
    "Z = rand(1:2, n)\n",
    "ϑ = dropdims(ones(1,n) + rand(1,n), dims = 1)\n",
    "\n",
    "# defining group intensity function Ω\n",
    "μ = mean(ϑ)\n",
    "\n",
    "ω(p,α) = (10 .*μ*sum(p))^(-sum(p))*prod(p.^α)^(1/(sum(p)*α))\n",
    "α0 = 1\n",
    "\n",
    "kmax = 3\n",
    "\n",
    "Ω = buildΩ(ω, α0, kmax)\n",
    "## Sample\n",
    "H = sampleSBM(Z, ϑ, Ω; α=α0, kmax=kmax, kmin = 1)"
   ]
  },
  {
   "cell_type": "code",
   "execution_count": 10,
   "metadata": {},
   "outputs": [
    {
     "name": "stdout",
     "output_type": "stream",
     "text": [
      "\n",
      "Louvain Iteration 1\n",
      "Louvain Iteration 2\n",
      "Louvain Iteration 3\n",
      "Louvain Iteration 4\n",
      "  1.446576 seconds (7.38 M allocations: 1.404 GiB, 21.24% gc time)\n",
      "\n",
      "Louvain Iteration 1\n",
      "Louvain Iteration 2\n",
      "Louvain Iteration 3\n",
      "Louvain Iteration 4\n",
      "  0.055149 seconds (397.57 k allocations: 23.057 MiB, 17.93% gc time)\n",
      "(mlou, mlou2) = (-1044.8812939800981894541501431190877458021759593975730240345001220703125, -1044.8821879378618530027187532617516385613498641760088503360748291015625)\n",
      "abs(mlou - mlou2) = 0.00089395776366354856861014266389275917390477843582630157470703125\n"
     ]
    },
    {
     "data": {
      "text/plain": [
       "0.00089395776366354856861014266389275917390477843582630157470703125"
      ]
     },
     "execution_count": 10,
     "metadata": {},
     "output_type": "execute_result"
    }
   ],
   "source": [
    "## Run Louvains, Naive, and Faster version\n",
    "\n",
    "@time Zlou = Naive_HyperLouvain(H,Ω;α=α0)\n",
    "@time Zlou2 = HyperLouvain(H,kmax,Ω;α=α0)\n",
    "\n",
    "mlou = modularity(H,Zlou,Ω,α=α0)\n",
    "mlou2 = modularity(H,Zlou2,Ω,α=α0)\n",
    "\n",
    "# This may not be exactly the same, but that's okay.\n",
    "# Even a difference of 1e-14 in modularity change may lead you to make a \n",
    "# different greedy decision, but it's still a valid move.\n",
    "@show mlou, mlou2\n",
    "@show abs(mlou- mlou2)"
   ]
  },
  {
   "cell_type": "code",
   "execution_count": 14,
   "metadata": {},
   "outputs": [
    {
     "name": "stdout",
     "output_type": "stream",
     "text": [
      "\n",
      "Louvain Iteration 1\n",
      "Louvain Iteration 2\n",
      "Louvain Iteration 3\n",
      "Louvain Iteration 4\n",
      "  0.180047 seconds (636.46 k allocations: 43.588 MiB, 50.59% gc time)\n"
     ]
    },
    {
     "data": {
      "text/plain": [
       "-1044.8812939800981894541501431190877458021759593975730240345001220703125"
      ]
     },
     "execution_count": 14,
     "metadata": {},
     "output_type": "execute_result"
    }
   ],
   "source": [
    "## Try supernode Louvain\n",
    "# Sanity check: having a singletons initialization is equivalent to naive louvain\n",
    "Z = collect(1:n)\n",
    "@time Znew, changed = SuperNodeStep(H,Z,kmax,Ω;α=α0)\n",
    "mlou3 =  modularity(H,Znew,Ω,α=α0)"
   ]
  },
  {
   "cell_type": "code",
   "execution_count": 17,
   "metadata": {},
   "outputs": [
    {
     "name": "stdout",
     "output_type": "stream",
     "text": [
      "SuperNode Louvain: Phase 1\n",
      "\n",
      "Louvain Iteration 1\n",
      "Louvain Iteration 2\n",
      "Louvain Iteration 3\n",
      "Louvain Iteration 4\n",
      "SuperNode Louvain: Phase 2\n",
      "\n",
      "Louvain Iteration 1\n",
      "Louvain Iteration 2\n",
      "Louvain Iteration 3\n",
      "SuperNode Louvain: Phase 3\n",
      "\n",
      "Louvain Iteration 1\n",
      "  0.148006 seconds (809.73 k allocations: 53.141 MiB, 17.69% gc time)\n"
     ]
    },
    {
     "data": {
      "text/plain": [
       "-1043.8259629293173430704738864106817519683545469888485968112945556640625"
      ]
     },
     "execution_count": 17,
     "metadata": {},
     "output_type": "execute_result"
    }
   ],
   "source": [
    "## Now repeatedly call the SuperNodeStep until no more improvement is possible\n",
    "@time Z = SuperNodeLouvain(H,kmax,Ω;α=α0)\n",
    "msuper = modularity(H,Z,Ω,α=α0)"
   ]
  }
 ],
 "metadata": {
  "@webio": {
   "lastCommId": null,
   "lastKernelId": null
  },
  "kernelspec": {
   "display_name": "Julia 1.3.1",
   "language": "julia",
   "name": "julia-1.3"
  },
  "language_info": {
   "file_extension": ".jl",
   "mimetype": "application/julia",
   "name": "julia",
   "version": "1.3.1"
  }
 },
 "nbformat": 4,
 "nbformat_minor": 4
}
