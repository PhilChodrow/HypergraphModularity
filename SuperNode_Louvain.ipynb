{
 "cells": [
  {
   "cell_type": "code",
   "execution_count": 1,
   "metadata": {},
   "outputs": [],
   "source": [
    "## Generate a graph\n",
    "using StatsBase\n",
    "using Combinatorics\n",
    "\n",
    "include(\"jl/omega.jl\")\n",
    "include(\"jl/HSBM.jl\")\n",
    "include(\"jl/hypergraph_louvain.jl\")\n",
    "include(\"jl/inference.jl\")"
   ]
  },
  {
   "cell_type": "code",
   "execution_count": 16,
   "metadata": {},
   "outputs": [
    {
     "data": {
      "text/plain": [
       "hypergraph\n",
       "  N: Array{Int64}((100,)) [1, 2, 3, 4, 5, 6, 7, 8, 9, 10  …  91, 92, 93, 94, 95, 96, 97, 98, 99, 100]\n",
       "  E: Dict{Int64,Dict}\n",
       "  D: Array{Int64}((100,)) [4, 1, 0, 1, 1, 0, 2, 2, 0, 4  …  0, 0, 3, 1, 1, 1, 1, 1, 2, 0]\n"
      ]
     },
     "execution_count": 16,
     "metadata": {},
     "output_type": "execute_result"
    }
   ],
   "source": [
    "n = 100\n",
    "Z = rand(1:2, n)\n",
    "ϑ = dropdims(ones(1,n) + rand(1,n), dims = 1)\n",
    "\n",
    "# defining group intensity function Ω\n",
    "μ = mean(ϑ)\n",
    "\n",
    "ω(p,α) = (10 .*μ*sum(p))^(-sum(p))*prod(p.^α)^(1/(sum(p)*α))\n",
    "α0 = 1\n",
    "\n",
    "kmax = 3\n",
    "\n",
    "Ω = buildΩ(ω, α0, kmax)\n",
    "## Sample\n",
    "H = sampleSBM(Z, ϑ, Ω; α=α0, kmax=kmax, kmin = 1)"
   ]
  },
  {
   "cell_type": "code",
   "execution_count": 110,
   "metadata": {},
   "outputs": [
    {
     "name": "stdout",
     "output_type": "stream",
     "text": [
      "\n",
      "Louvain Iteration 1\n",
      "Louvain Iteration 2\n",
      "Louvain Iteration 3\n",
      "tdiff = 0\n",
      "  1.644867 seconds (1.89 M allocations: 94.755 MiB, 4.45% gc time)\n",
      "\n",
      "Louvain Iteration 1\n",
      "Louvain Iteration 2\n",
      "Louvain Iteration 3\n",
      "  1.854632 seconds (5.07 M allocations: 979.449 MiB, 23.50% gc time)\n",
      "mlou ≈ mlou2 = false\n",
      "abs(mlou - mlou2) = 0.33520787515331142764868463564120748543473382596857845783233642578125\n"
     ]
    },
    {
     "data": {
      "text/plain": [
       "0.33520787515331142764868463564120748543473382596857845783233642578125"
      ]
     },
     "execution_count": 110,
     "metadata": {},
     "output_type": "execute_result"
    }
   ],
   "source": [
    "## Run Louvains, Naive, and Faster version\n",
    "include(\"jl/hypergraph_louvain.jl\")\n",
    "@time Zlou2 = HyperLouvain(H,kmax,Ω;α=α0)\n",
    "@time Zlou = Naive_HyperLouvain(H,Ω;α=α0)\n",
    "\n",
    "mlou = modularity(H,Zlou,Ω,α=α0)\n",
    "mlou2 = modularity(H,Zlou2,Ω,α=α0)\n",
    "\n",
    "# This may not be exactly the same, but that's okay.\n",
    "# Even a difference of 1e-14 in modularity change may lead you to make a \n",
    "# different greedy decision, but it's still a valid move.\n",
    "@show mlou, mlou2\n",
    "@show abs(mlou- mlou2)"
   ]
  },
  {
   "cell_type": "code",
   "execution_count": 107,
   "metadata": {},
   "outputs": [
    {
     "name": "stdout",
     "output_type": "stream",
     "text": [
      "\n",
      "Louvain Iteration 1\n",
      "Louvain Iteration 2\n",
      "Louvain Iteration 3\n",
      "  2.181428 seconds (6.59 M allocations: 1.129 GiB, 19.03% gc time)\n"
     ]
    },
    {
     "data": {
      "text/plain": [
       "-893.4706412410682598171788909753587848427969220210798084735870361328125"
      ]
     },
     "execution_count": 107,
     "metadata": {},
     "output_type": "execute_result"
    }
   ],
   "source": [
    "## Try supernode Louvain\n",
    "# Sanity check: having a singletons initialization is equivalent to naive louvain\n",
    "include(\"jl/hypergraph_louvain.jl\")\n",
    "Z = collect(1:n)\n",
    "@time Znew, changed = Naive_SuperNodeStep(H,Z,kmax,Ω;α=α0)\n",
    "mlou3 =  modularity(H,Znew,Ω,α=α0)"
   ]
  },
  {
   "cell_type": "code",
   "execution_count": 121,
   "metadata": {},
   "outputs": [
    {
     "name": "stdout",
     "output_type": "stream",
     "text": [
      "SuperNode Louvain: Phase 1\n",
      "\n",
      "Louvain Iteration 1\n",
      "Louvain Iteration 2\n",
      "Louvain Iteration 3\n",
      "SuperNode Louvain: Phase 2\n",
      "\n",
      "Louvain Iteration 1\n",
      "(abs(change3 - change), abs(change2 - change)) = (2.753353101070388220250606536865234375e-14, 0.0)\n",
      "(abs(change3 - change), abs(change2 - change)) = (1.7763568394002504646778106689453125e-15, 0.0)\n",
      "(abs(change3 - change), abs(change2 - change)) = (2.753353101070388220250606536865234375e-14, 0.0)\n",
      "(abs(change3 - change), abs(change2 - change)) = (0.135155036036056941384231322444975376129150390625, 0.0)\n"
     ]
    },
    {
     "ename": "AssertionError",
     "evalue": "AssertionError: abs(change - change3) < 1.0e-10",
     "output_type": "error",
     "traceback": [
      "AssertionError: abs(change - change3) < 1.0e-10",
      "",
      "Stacktrace:",
      " [1] #Experimental_SuperNodeStep#10483(::Int64, ::typeof(Experimental_SuperNodeStep), ::hypergraph, ::Array{Int64,1}, ::Int64, ::Function, ::Int64, ::Bool) at /Users/nateveldt/GitHubRepos/hypergraph_modularities_code/jl/hypergraph_louvain.jl:688",
      " [2] #Experimental_SuperNodeStep at ./none:0 [inlined] (repeats 2 times)",
      " [3] #SuperNodeLouvain#10486(::Int64, ::typeof(SuperNodeLouvain), ::hypergraph, ::Int64, ::Function, ::Int64, ::Bool) at /Users/nateveldt/GitHubRepos/hypergraph_modularities_code/jl/hypergraph_louvain.jl:759",
      " [4] #SuperNodeLouvain at ./none:0 [inlined] (repeats 2 times)",
      " [5] top-level scope at util.jl:155",
      " [6] top-level scope at In[121]:3"
     ]
    }
   ],
   "source": [
    "## Now repeatedly call the Naive_SuperNodeStep until no more improvement is possible\n",
    "include(\"jl/hypergraph_louvain.jl\")\n",
    "@time Z = SuperNodeLouvain(H,kmax,Ω;α=α0)\n",
    "msuper = modularity(H,Z,Ω,α=α0)"
   ]
  },
  {
   "cell_type": "code",
   "execution_count": null,
   "metadata": {},
   "outputs": [],
   "source": []
  }
 ],
 "metadata": {
  "kernelspec": {
   "display_name": "Julia 1.3.1",
   "language": "julia",
   "name": "julia-1.3"
  },
  "language_info": {
   "file_extension": ".jl",
   "mimetype": "application/julia",
   "name": "julia",
   "version": "1.3.1"
  }
 },
 "nbformat": 4,
 "nbformat_minor": 4
}
