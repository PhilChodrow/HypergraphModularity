{
 "cells": [
  {
   "cell_type": "code",
   "execution_count": 1,
   "metadata": {},
   "outputs": [
    {
     "data": {
      "text/plain": [
       "estimateΩEmpirically (generic function with 1 method)"
      ]
     },
     "execution_count": 1,
     "metadata": {},
     "output_type": "execute_result"
    }
   ],
   "source": [
    "## Generate a graph\n",
    "using StatsBase\n",
    "using Combinatorics\n",
    "\n",
    "include(\"jl/omega.jl\")\n",
    "include(\"jl/HSBM.jl\")\n",
    "include(\"jl/hypergraph_louvain.jl\")\n",
    "include(\"jl/inference.jl\");"
   ]
  },
  {
   "cell_type": "code",
   "execution_count": 5,
   "metadata": {},
   "outputs": [
    {
     "data": {
      "text/plain": [
       "hypergraph\n",
       "  N: Array{Int64}((200,)) [1, 2, 3, 4, 5, 6, 7, 8, 9, 10  …  191, 192, 193, 194, 195, 196, 197, 198, 199, 200]\n",
       "  E: Dict{Int64,Dict}\n",
       "  D: Array{Int64}((200,)) [6, 4, 8, 12, 3, 8, 2, 7, 6, 4  …  8, 11, 3, 6, 9, 3, 9, 3, 3, 10]\n"
      ]
     },
     "execution_count": 5,
     "metadata": {},
     "output_type": "execute_result"
    }
   ],
   "source": [
    "n = 200\n",
    "Z = rand(1:2, n)\n",
    "ϑ = dropdims(ones(1,n) + rand(1,n), dims = 1)\n",
    "\n",
    "# defining group intensity function Ω\n",
    "μ = mean(ϑ)\n",
    "\n",
    "ω(p,α) = (10 .*μ*sum(p))^(-sum(p))*prod(p.^α)^(1/(sum(p)*α))\n",
    "α0 = 1\n",
    "\n",
    "kmax = 3\n",
    "\n",
    "Ω = buildΩ(ω, α0, kmax)\n",
    "## Sample\n",
    "H = sampleSBM(Z, ϑ, Ω; α=α0, kmax=kmax, kmin = 1)"
   ]
  },
  {
   "cell_type": "code",
   "execution_count": 3,
   "metadata": {},
   "outputs": [
    {
     "name": "stdout",
     "output_type": "stream",
     "text": [
      "\n",
      "Louvain Iteration 1\n",
      "Louvain Iteration 2\n",
      " 18.083869 seconds (144.25 M allocations: 10.832 GiB, 10.27% gc time)\n",
      "\n",
      "Louvain Iteration 1\n",
      "Louvain Iteration 2\n",
      "  1.400914 seconds (5.27 M allocations: 312.008 MiB, 5.65% gc time)\n",
      "(mlou, mlou2) = (-37780.4478438872007249699103040123382424297915349598042666912078857421875, -37780.4478438872007249699103040123382424297915349598042666912078857421875)\n",
      "abs(mlou - mlou2) = 0.0\n"
     ]
    },
    {
     "data": {
      "text/plain": [
       "0.0"
      ]
     },
     "execution_count": 3,
     "metadata": {},
     "output_type": "execute_result"
    }
   ],
   "source": [
    "## Run Louvains, Naive, and Faster version\n",
    "\n",
    "@time Zlou = Naive_HyperLouvain(H,Ω;α=α0)\n",
    "@time Zlou2 = HyperLouvain(H,kmax,Ω;α=α0)\n",
    "\n",
    "mlou = modularity(H,Zlou,Ω,α=α0)\n",
    "mlou2 = modularity(H,Zlou2,Ω,α=α0)\n",
    "\n",
    "# This may not be exactly the same, but that's okay.\n",
    "# Even a difference of 1e-14 in modularity change may lead you to make a \n",
    "# different greedy decision, but it's still a valid move.\n",
    "@show mlou, mlou2\n",
    "@show abs(mlou- mlou2)"
   ]
  },
  {
   "cell_type": "code",
   "execution_count": 4,
   "metadata": {},
   "outputs": [
    {
     "name": "stdout",
     "output_type": "stream",
     "text": [
      "\n",
      "Louvain Iteration 1\n",
      "Louvain Iteration 2\n",
      "  2.341902 seconds (6.66 M allocations: 440.950 MiB, 4.93% gc time)\n"
     ]
    },
    {
     "data": {
      "text/plain": [
       "-37780.4478438872007249699103040123382424297915349598042666912078857421875"
      ]
     },
     "execution_count": 4,
     "metadata": {},
     "output_type": "execute_result"
    }
   ],
   "source": [
    "## Try supernode Louvain\n",
    "# Sanity check: having a singletons initialization is equivalent to naive louvain\n",
    "Z = collect(1:n)\n",
    "@time Znew, changed = SuperNodeStep(H,Z,kmax,Ω;α=α0)\n",
    "mlou3 =  modularity(H,Znew,Ω,α=α0)"
   ]
  },
  {
   "cell_type": "code",
   "execution_count": 10,
   "metadata": {},
   "outputs": [
    {
     "name": "stdout",
     "output_type": "stream",
     "text": [
      "SuperNode Louvain: Phase 1\n",
      "\n",
      "Louvain Iteration 1\n",
      "Louvain Iteration 2\n",
      "SuperNode Louvain: Phase 2\n",
      "\n",
      "Louvain Iteration 1\n",
      "  0.543997 seconds (4.43 M allocations: 313.029 MiB, 12.48% gc time)\n"
     ]
    },
    {
     "data": {
      "text/plain": [
       "-36610.57871622490183330896128081899387751718677463941276073455810546875"
      ]
     },
     "execution_count": 10,
     "metadata": {},
     "output_type": "execute_result"
    }
   ],
   "source": [
    "## Now repeatedly call the SuperNodeStep until no more improvement is possible\n",
    "@time Z = SuperNodeLouvain(H,kmax,Ω;α=α0)\n",
    "msuper = modularity(H,Z,Ω,α=α0)"
   ]
  },
  {
   "cell_type": "code",
   "execution_count": null,
   "metadata": {},
   "outputs": [],
   "source": []
  }
 ],
 "metadata": {
  "@webio": {
   "lastCommId": null,
   "lastKernelId": null
  },
  "kernelspec": {
   "display_name": "Julia 1.4.2",
   "language": "julia",
   "name": "julia-1.4"
  },
  "language_info": {
   "file_extension": ".jl",
   "mimetype": "application/julia",
   "name": "julia",
   "version": "1.4.2"
  }
 },
 "nbformat": 4,
 "nbformat_minor": 4
}
