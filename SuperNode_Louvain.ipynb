{
 "cells": [
  {
   "cell_type": "code",
   "execution_count": 1,
   "metadata": {},
   "outputs": [],
   "source": [
    "## Generate a graph\n",
    "using StatsBase\n",
    "using Combinatorics\n",
    "\n",
    "include(\"jl/omega.jl\")\n",
    "include(\"jl/HSBM.jl\")\n",
    "include(\"jl/hypergraph_louvain.jl\")\n",
    "include(\"jl/inference.jl\");"
   ]
  },
  {
   "cell_type": "code",
   "execution_count": 2,
   "metadata": {},
   "outputs": [
    {
     "data": {
      "text/plain": [
       "Ω (generic function with 1 method)"
      ]
     },
     "execution_count": 2,
     "metadata": {},
     "output_type": "execute_result"
    }
   ],
   "source": [
    "n = 100\n",
    "Z = rand(1:2, n)\n",
    "ϑ = dropdims(ones(1,n) + rand(1,n), dims = 1)\n",
    "\n",
    "# defining group intensity function Ω\n",
    "μ = mean(ϑ)\n",
    "\n",
    "ω(p,α) = (10 .*μ*sum(p))^(-sum(p))*prod(p.^α)^(1/(sum(p)*α))\n",
    "α0 = 1\n",
    "\n",
    "kmax = 3\n",
    "\n",
    "Ω = buildΩ(ω, α0, kmax)\n",
    "## Sample\n",
    "H = sampleSBM(Z, ϑ, Ω; α=α0, kmax=kmax, kmin = 1)"
   ]
  },
  {
   "cell_type": "code",
   "execution_count": 3,
   "metadata": {},
   "outputs": [
    {
     "ename": "UndefVarError",
     "evalue": "UndefVarError: H not defined",
     "output_type": "error",
     "traceback": [
      "UndefVarError: H not defined",
      "",
      "Stacktrace:",
      " [1] top-level scope at util.jl:155",
      " [2] top-level scope at In[3]:1"
     ]
    }
   ],
   "source": [
    "## Run Louvains, Naive, and Faster version\n",
    "\n",
    "@time Zlou = Naive_HyperLouvain(H,Ω;α=α0)\n",
    "@time Zlou2 = HyperLouvain(H,kmax,Ω;α=α0)\n",
    "\n",
    "mlou = modularity(H,Zlou,Ω,α=α0)\n",
    "mlou2 = modularity(H,Zlou2,Ω,α=α0)\n",
    "\n",
    "mlou ≈ mlou2\n",
    "mlou"
   ]
  },
  {
   "cell_type": "code",
   "execution_count": 5,
   "metadata": {},
   "outputs": [
    {
     "ename": "UndefVarError",
     "evalue": "UndefVarError: Naive_SuperNodeStep not defined",
     "output_type": "error",
     "traceback": [
      "UndefVarError: Naive_SuperNodeStep not defined",
      "",
      "Stacktrace:",
      " [1] top-level scope at util.jl:155",
      " [2] top-level scope at In[5]:5"
     ]
    }
   ],
   "source": [
    "## Try supernode Louvain\n",
    "# Sanity check: having a singletons initialization is equivalent to naive louvain\n",
    "include(\"jl/hypergraph_louvain.jl\")\n",
    "Z = collect(1:n)\n",
    "@time Znew, changed = Naive_SuperNodeStep(H,Z,kmax,Ω;α=α0)\n",
    "mlou3 =  modularity(H,Znew,Ω,α=α0)"
   ]
  },
  {
   "cell_type": "code",
   "execution_count": null,
   "metadata": {},
   "outputs": [],
   "source": [
    "## Now repeatedly call the Naive_SuperNodeStep until no more improvement is possible\n",
    "\n",
    "@time Z = SuperNodeLouvain(H,kmax,Ω;α=α0)\n",
    "msuper = modularity(H,Z,Ω,α=α0)"
   ]
  }
 ],
 "metadata": {
  "kernelspec": {
   "display_name": "Julia 1.3.1",
   "language": "julia",
   "name": "julia-1.3"
  },
  "language_info": {
   "file_extension": ".jl",
   "mimetype": "application/julia",
   "name": "julia",
   "version": "1.3.1"
  }
 },
 "nbformat": 4,
 "nbformat_minor": 4
}
