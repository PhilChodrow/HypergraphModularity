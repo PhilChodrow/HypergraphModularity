{
 "cells": [
  {
   "cell_type": "markdown",
   "metadata": {},
   "source": [
    "# Quick Comparisons\n",
    "\n",
    "In this notebook, we'll run a few quick comparisons between dyadic Louvain, single-stage hypergraph Louvain, and full hypergraph Louvain on the `contact-primary-school` data set. The highlight here is that `hypergraph louvain` can, when initialized with reasonable parameters (as obtained e.g. from a warm start) achieve higher polyadic modularity than dyadic Louvain. This is what we would ideally expect, but it's still nice to see it indeed happening. Additionally, as we would expect, the supernode steps do indeed help. \n",
    "\n",
    "The number of nodes is not large, but there's a fairly large number of edges, which may explain the relatively slow computation time. We might have opportunities to do better here. \n",
    "\n",
    "Finally, it's worth noting that the modularity of the partition we find is actually higher than that of the true labels, which can be interpreted as either a bug or a feature. "
   ]
  },
  {
   "cell_type": "code",
   "execution_count": 4,
   "metadata": {},
   "outputs": [
    {
     "name": "stderr",
     "output_type": "stream",
     "text": [
      "\u001b[32m\u001b[1m Activating\u001b[22m\u001b[39m environment at `~/hypergraph_modularities_code/Project.toml`\n"
     ]
    }
   ],
   "source": [
    "using Optim \n",
    "# using Plots\n",
    "using StatsBase\n",
    "\n",
    "using Pkg; Pkg.activate(\".\")\n",
    "using HypergraphModularity"
   ]
  },
  {
   "cell_type": "code",
   "execution_count": 2,
   "metadata": {},
   "outputs": [
    {
     "data": {
      "text/plain": [
       "(::HypergraphModularity.var\"#Ω#8\"{HypergraphModularity.var\"#Ω#3#9\"{typeof(ω),Int64}}) (generic function with 1 method)"
      ]
     },
     "execution_count": 2,
     "metadata": {},
     "output_type": "execute_result"
    }
   ],
   "source": [
    "dataset = \"congress-bills\"\n",
    "kmax_ = 4\n",
    "\n",
    "H, Z = read_hypergraph_data(dataset,kmax_)\n",
    "\n",
    "Z = convert(Array{Int16, 1}, Z) # type conversion for faster partitionize method\n",
    "\n",
    "H.E[1] = Dict()\n",
    "\n",
    "kmin = max(minimum(keys(H.E)), 2)\n",
    "kmax = maximum(keys(H.E))\n",
    "\n",
    "α0 = vcat(repeat([0.0], kmax), 1:kmax)\n",
    "\n",
    "n = length(H.D)\n",
    "\n",
    "function ω(p, α)\n",
    "    k = sum(p)\n",
    "    return sum(p)/sum((p .* (1:length(p)).^α[k])) / n^(α[kmax+k]*k)\n",
    "end\n",
    "\n",
    "Ω = buildΩ(ω, α0, kmax)"
   ]
  },
  {
   "cell_type": "code",
   "execution_count": 5,
   "metadata": {},
   "outputs": [
    {
     "name": "stdout",
     "output_type": "stream",
     "text": [
      "k = 2: 61.0 % of 13871 edges are within a single group.\n",
      "k = 3: 46.0 % of 10156 edges are within a single group.\n",
      "k = 4: 37.0 % of 7764 edges are within a single group.\n"
     ]
    }
   ],
   "source": [
    "for k = kmin:kmax\n",
    "    p = mean([length(partitionize(Z[e])) == 1 for e in keys(H.E[k])])\n",
    "    println(\"k = $k: $(round(100*p, digits = 0)) % of $(length(keys(H.E[k]))) edges are within a single group.\")\n",
    "end"
   ]
  },
  {
   "cell_type": "code",
   "execution_count": 6,
   "metadata": {},
   "outputs": [
    {
     "name": "stdout",
     "output_type": "stream",
     "text": [
      "There are 1718 nodes.\n"
     ]
    }
   ],
   "source": [
    "println(\"There are $(length(H.D)) nodes.\")"
   ]
  },
  {
   "cell_type": "code",
   "execution_count": 7,
   "metadata": {},
   "outputs": [
    {
     "name": "stdout",
     "output_type": "stream",
     "text": [
      "algorithm                     Q              groups    time (s)  \n",
      "-----------------------------------------------------------------\n",
      "Dyadic                        -722185.0      23        2.475337012\n",
      "Hypergraph (supernode)        -720736.0      23        18.786123124\n",
      "TRUE LABELS                   -787730.0      2         NA        \n"
     ]
    }
   ],
   "source": [
    "timeAlg(expr)= @timed eval(expr)\n",
    "\n",
    "algDict = Dict(\n",
    "    \"Dyadic\"                    => :(CliqueExpansionModularity(H)),\n",
    "#     \"Hypergraph (no supernode)\" => :(HyperLouvain(H,kmax,Ω;α=α̂, verbose=false)),\n",
    "    \"Hypergraph (supernode)\"    => :(SuperNodeLouvain(H,kmax,Ω;α=α̂, verbose=false))\n",
    ")\n",
    "\n",
    "α̂ = α0\n",
    "\n",
    "print(rpad(\"algorithm\", 30))\n",
    "print(rpad(\"Q\", 15))\n",
    "print(rpad(\"groups\", 10))\n",
    "println(rpad(\"time (s)\", 10))\n",
    "println(rpad(\"\",  65, \"-\"))\n",
    "\n",
    "Ẑ = zero(Z)\n",
    "\n",
    "# for name in [\"Dyadic\", \"Hypergraph (no supernode)\", \"Hypergraph (supernode)\"]\n",
    "for name in [\"Dyadic\", \"Hypergraph (supernode)\"]\n",
    "    out = timeAlg(algDict[name])\n",
    "    Ẑ = out[1]\n",
    "    time = out[2]\n",
    "    if name == \"Dyadic\"\n",
    "        α̂, ll = estimateParameters(H, Ẑ, Ω, α0)\n",
    "    end\n",
    "    \n",
    "    Q = modularity(H, Ẑ, Ω; α = α̂)\n",
    "    \n",
    "    print(rpad(\"$name\", 30))\n",
    "    print(rpad(\"$(round(Q, digits = 0))\", 15))\n",
    "    print(rpad(\"$(length(unique(Ẑ)))\", 10))\n",
    "    println(rpad(\"$time\", 10))\n",
    "end\n",
    "\n",
    "print(rpad(\"TRUE LABELS\", 30))\n",
    "Q = modularity(H, Z, Ω; α=α̂)\n",
    "print(rpad(\"$(round(Q, digits=0))\", 15))\n",
    "print(rpad(\"$(length(unique(Z)))\", 10))\n",
    "println(rpad(\"NA\", 10))"
   ]
  },
  {
   "cell_type": "code",
   "execution_count": null,
   "metadata": {},
   "outputs": [],
   "source": []
  }
 ],
 "metadata": {
  "kernelspec": {
   "display_name": "Julia 1.4.2",
   "language": "julia",
   "name": "julia-1.4"
  },
  "language_info": {
   "file_extension": ".jl",
   "mimetype": "application/julia",
   "name": "julia",
   "version": "1.4.2"
  }
 },
 "nbformat": 4,
 "nbformat_minor": 4
}
