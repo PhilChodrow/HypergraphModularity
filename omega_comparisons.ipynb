{
 "cells": [
  {
   "cell_type": "code",
   "execution_count": 103,
   "metadata": {},
   "outputs": [
    {
     "name": "stderr",
     "output_type": "stream",
     "text": [
      "\u001b[32m\u001b[1m Activating\u001b[22m\u001b[39m environment at `~/hypergraph_modularities_code/Project.toml`\n"
     ]
    }
   ],
   "source": [
    "using Pkg; Pkg.activate(\".\")\n",
    "using HypergraphModularity"
   ]
  },
  {
   "cell_type": "code",
   "execution_count": 104,
   "metadata": {},
   "outputs": [
    {
     "data": {
      "text/plain": [
       "ω (generic function with 1 method)"
      ]
     },
     "execution_count": 104,
     "metadata": {},
     "output_type": "execute_result"
    }
   ],
   "source": [
    "# dataset = \"email-Enron-full\"\n",
    "# dataset = \"contact-primary-school-classes\"\n",
    "# dataset = \"contact-high-school-classes\"\n",
    "# dataset = \"congress-bills\"\n",
    "dataset = \"walmart-trips\"\n",
    "# dataset = \"TrivagoClickout\"\n",
    "kmax_ = 10\n",
    "\n",
    "H, Z = read_hypergraph_data(dataset,kmax_, 2, true)\n",
    "α = zeros(2*kmax_);\n",
    "\n",
    "kmax = maximum(keys(H.E))\n",
    "kmin = minimum(keys(H.E))\n",
    "\n",
    "n = length(H.D)\n",
    "\n",
    "function ω(p,α)\n",
    "    k = p[2]\n",
    "    δ = p[1]\n",
    "    return ((1+(1-δ))*n)^α[k] / (n^α[k + kmax])\n",
    "end"
   ]
  },
  {
   "cell_type": "code",
   "execution_count": 105,
   "metadata": {},
   "outputs": [
    {
     "name": "stdout",
     "output_type": "stream",
     "text": [
      "-2.51109e+06\n",
      "-2.499034e+06\n",
      "-2.500949e+06\n"
     ]
    },
    {
     "data": {
      "text/plain": [
       "ω (generic function with 1 method)"
      ]
     },
     "execution_count": 105,
     "metadata": {},
     "output_type": "execute_result"
    }
   ],
   "source": [
    "# all or nothing\n",
    "Ω = estimateΩEmpirically(H, Z; aggregator = p -> [length(p) == 1, sum(p)], bigNums = true);\n",
    "Q_H = modularity(H, Z, Ω; α = nothing);\n",
    "println(round(Q_H))\n",
    "\n",
    "# number of groups\n",
    "Ω = estimateΩEmpirically(H, Z; aggregator = p -> [length(p), sum(p)], bigNums = true);\n",
    "Q_H = modularity(H, Z, Ω; α = nothing);\n",
    "println(round(Q_H))\n",
    "\n",
    "\n",
    "# smoothed parameterization\n",
    "α0 = vcat(repeat([0.0], kmax), 1:kmax)\n",
    "\n",
    "function ω(p, α)\n",
    "    k = sum(p)\n",
    "    return sum(p)/sum((p .* (1:length(p)).^α[k])) / n^(α[kmax+k]*k)\n",
    "end\n",
    "Ω = partitionIntensityFunction(ω, kmax);\n",
    "\n",
    "### warmstart\n",
    "α = learnParameters(H, Z, Ω, α0; n_iters = 100, amin = -10, amax = 20)\n",
    "\n",
    "Q_H = modularity(H, Z, Ω; α = α)\n",
    "\n",
    "println(round(Q_H))\n",
    "\n"
   ]
  },
  {
   "cell_type": "code",
   "execution_count": 112,
   "metadata": {},
   "outputs": [
    {
     "data": {
      "text/plain": [
       "88860-element Array{Int64,1}:\n",
       "     1\n",
       "     2\n",
       "     2\n",
       "     2\n",
       "     2\n",
       "     2\n",
       "     2\n",
       "     2\n",
       "     2\n",
       "     2\n",
       "     2\n",
       "     3\n",
       "     4\n",
       "     ⋮\n",
       " 22201\n",
       " 22202\n",
       " 22203\n",
       " 22204\n",
       "     2\n",
       "     2\n",
       "     2\n",
       " 22205\n",
       " 22206\n",
       " 22207\n",
       "     2\n",
       "     2"
      ]
     },
     "execution_count": 112,
     "metadata": {},
     "output_type": "execute_result"
    }
   ],
   "source": [
    "# gamma = 1\n",
    "\n",
    "ωᵢ = 2\n",
    "ωₒ = 0.4\n",
    "\n",
    "function ω(p, α)\n",
    "    om = p[1] == 1 ? ωᵢ : ωₒ\n",
    "    return om / (0.5*n)^sum(p)\n",
    "end\n",
    "\n",
    "Ω = allOrNothingIntensityFunction(ω, kmax)\n",
    "\n",
    "Z = SuperNode_PPLouvain(H, Ω; α = zeros(2*kmax), verbose = false, Z0 = collect(1:n))"
   ]
  },
  {
   "cell_type": "code",
   "execution_count": 114,
   "metadata": {},
   "outputs": [
    {
     "data": {
      "text/plain": [
       "22207-element Array{Int64,1}:\n",
       "     1\n",
       "     2\n",
       "     3\n",
       "     4\n",
       "     5\n",
       "     6\n",
       "     7\n",
       "     8\n",
       "     9\n",
       "    10\n",
       "    11\n",
       "    12\n",
       "    13\n",
       "     ⋮\n",
       " 22196\n",
       " 22197\n",
       " 22198\n",
       " 22199\n",
       " 22200\n",
       " 22201\n",
       " 22202\n",
       " 22203\n",
       " 22204\n",
       " 22205\n",
       " 22206\n",
       " 22207"
      ]
     },
     "execution_count": 114,
     "metadata": {},
     "output_type": "execute_result"
    }
   ],
   "source": [
    "unique(Z)"
   ]
  },
  {
   "cell_type": "code",
   "execution_count": null,
   "metadata": {},
   "outputs": [],
   "source": []
  }
 ],
 "metadata": {
  "kernelspec": {
   "display_name": "Julia 1.4.2",
   "language": "julia",
   "name": "julia-1.4"
  },
  "language_info": {
   "file_extension": ".jl",
   "mimetype": "application/julia",
   "name": "julia",
   "version": "1.4.2"
  }
 },
 "nbformat": 4,
 "nbformat_minor": 4
}
