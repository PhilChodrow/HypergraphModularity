{
 "cells": [
  {
   "cell_type": "markdown",
   "metadata": {},
   "source": [
    "# Parameterization Experiments\n",
    "\n",
    "In this notebook, we'll illustrate the process of learning a *parameterized* form for $\\Omega$ from data with true labels. "
   ]
  },
  {
   "cell_type": "code",
   "execution_count": 13,
   "metadata": {},
   "outputs": [],
   "source": [
    "using StatsBase\n",
    "using Combinatorics\n",
    "using Plots\n",
    "using Optim\n",
    "\n",
    "include(\"jl/omega.jl\")\n",
    "include(\"jl/HSBM.jl\")\n",
    "include(\"jl/read_data.jl\")\n",
    "include(\"jl/inference.jl\")\n",
    "include(\"jl/objectives.jl\")\n",
    "include(\"jl/hypergraph_louvain.jl\");"
   ]
  },
  {
   "cell_type": "code",
   "execution_count": 7,
   "metadata": {},
   "outputs": [
    {
     "data": {
      "text/plain": [
       "optimizeParameters (generic function with 1 method)"
      ]
     },
     "execution_count": 7,
     "metadata": {},
     "output_type": "execute_result"
    }
   ],
   "source": [
    "function initializeExperiment(dataset, kmax_)\n",
    "    \"\"\"\n",
    "    read a data set, form Ω using a currently hard-coded functional form, and \n",
    "    return important data used in optimizeParameters and plotParameters\n",
    "    \"\"\"\n",
    "    H, Z = read_hypergraph_data(dataset,kmax_)\n",
    "\n",
    "    kmax = maximum(keys(H.E))\n",
    "    kmin = minimum(keys(H.E))\n",
    "    K = 1:kmax\n",
    "        \n",
    "    α0 = vcat(rand(kmax),  1.0 .+ rand(kmax));\n",
    "    n = 1*length(H.D)\n",
    "\n",
    "    function ω(p, α)\n",
    "        k = sum(p)\n",
    "        return sum(p)/sum((p .* (1:length(p)).^α[k])) / n^(α[kmax+k]*k)\n",
    "    end\n",
    "\n",
    "    Ω = buildΩ(ω, α0, kmax)\n",
    "    \n",
    "    return(H, Z, Ω, α0, kmin, kmax)\n",
    "    \n",
    "end\n",
    "\n",
    "function optimizeParameters(objective, α0; n_outer = 50, bounds_γ = (-3, 3), bounds_β = (0, 100))\n",
    "    \n",
    "    \"\"\"\n",
    "    Custom coordinate-wise optimizer. Specific to the functional form used in initializeExperiment().\n",
    "    In particular, assumes that α = (β, γ), where β controls homogeneity and γ controls size density.  \n",
    "    \"\"\"\n",
    "\n",
    "    α = α0\n",
    "    kmax = length(α)÷2\n",
    "    \n",
    "    res = 0\n",
    "    \n",
    "    function inner_obj(α, a, k)\n",
    "        α_ = copy(α)\n",
    "        α_[k] = a[1]\n",
    "        return objective(α_)\n",
    "    end\n",
    "    \n",
    "    for i = 1:n_outer\n",
    "        # optimization in γ\n",
    "        for k = (kmax+1):(2*kmax)\n",
    "            res = optimize(a -> inner_obj(α, a, k), bounds_γ[1], bounds_γ[2]) # very slow and simple -- no gradient information\n",
    "            α[k] = Optim.minimizer(res)[1]\n",
    "\n",
    "        end\n",
    "        # optimization in β\n",
    "        for k = 1:kmax\n",
    "            res = optimize(a -> inner_obj(α, a, k), bounds_β[1], bounds_β[2])\n",
    "            α[k] = Optim.minimizer(res)[1]\n",
    "        end\n",
    "    end\n",
    "    \n",
    "    ll = -Optim.minimum(res)\n",
    "    return α, ll\n",
    "end"
   ]
  },
  {
   "cell_type": "code",
   "execution_count": 9,
   "metadata": {},
   "outputs": [
    {
     "data": {
      "text/plain": [
       "242"
      ]
     },
     "execution_count": 9,
     "metadata": {},
     "output_type": "execute_result"
    }
   ],
   "source": [
    "H, Z, Ω, α0, kmin, kmax = initializeExperiment(\"contact-primary-school\", 5);\n",
    "n = length(Z)"
   ]
  },
  {
   "cell_type": "code",
   "execution_count": 20,
   "metadata": {},
   "outputs": [
    {
     "data": {
      "text/plain": [
       "([38.19660112501051, 1.2353680159713913, 4.919163488304201, 5.72356055553026, 4.352308670823825, 2.9999986890149417, 0.8684992133442138, 1.0704318769313845, 1.2965946988262813, 1.5240034391357193], -187328.22817845453)"
      ]
     },
     "execution_count": 20,
     "metadata": {},
     "output_type": "execute_result"
    }
   ],
   "source": [
    "Ẑ = collect(1:n)\n",
    "\n",
    "obj = formObjective(H, Z, Ω)  # best estimates from real partition\n",
    "α, ll = optimizeParameters(obj, α0)"
   ]
  },
  {
   "cell_type": "code",
   "execution_count": 23,
   "metadata": {},
   "outputs": [
    {
     "name": "stdout",
     "output_type": "stream",
     "text": [
      "SuperNode Louvain: Phase 1\n",
      "\n",
      "Louvain Iteration 1\n",
      "Louvain Iteration 2\n",
      "Louvain Iteration 3\n",
      "Louvain Iteration 4\n",
      "Louvain Iteration 5\n",
      "Louvain Iteration 6\n",
      "SuperNode Louvain: Phase 2\n",
      "\n",
      "Louvain Iteration 1\n",
      "Louvain Iteration 2\n",
      "SuperNode Louvain: Phase 3\n",
      "\n",
      "Louvain Iteration 1\n",
      "617.877323 seconds (5.40 G allocations: 415.556 GiB, 13.54% gc time)\n"
     ]
    },
    {
     "data": {
      "text/plain": [
       "242-element Array{Int64,1}:\n",
       "  1\n",
       "  1\n",
       "  2\n",
       "  3\n",
       "  3\n",
       "  4\n",
       "  5\n",
       "  6\n",
       "  7\n",
       "  8\n",
       "  4\n",
       "  5\n",
       "  9\n",
       "  ⋮\n",
       " 41\n",
       " 27\n",
       "  4\n",
       " 12\n",
       " 19\n",
       " 19\n",
       "  4\n",
       " 35\n",
       " 48\n",
       "  3\n",
       " 24\n",
       " 20"
      ]
     },
     "execution_count": 23,
     "metadata": {},
     "output_type": "execute_result"
    }
   ],
   "source": [
    "@time Ẑ = SuperNodeLouvain(H,kmax,Ω;α=α) # bug (UndefVarError: changed not defined)\n",
    "\n",
    "# also a general problem: if no nodes move clusters even after we've made a \n",
    "# prima facie reasonable estimate for the parameters then we are going to have significant issues. "
   ]
  },
  {
   "cell_type": "code",
   "execution_count": 24,
   "metadata": {},
   "outputs": [
    {
     "data": {
      "text/plain": [
       "53-element Array{Int64,1}:\n",
       "  1\n",
       "  2\n",
       "  3\n",
       "  4\n",
       "  5\n",
       "  6\n",
       "  7\n",
       "  8\n",
       "  9\n",
       " 10\n",
       " 11\n",
       " 12\n",
       " 13\n",
       "  ⋮\n",
       " 42\n",
       " 43\n",
       " 44\n",
       " 45\n",
       " 46\n",
       " 47\n",
       " 48\n",
       " 49\n",
       " 50\n",
       " 51\n",
       " 52\n",
       " 53"
      ]
     },
     "execution_count": 24,
     "metadata": {},
     "output_type": "execute_result"
    }
   ],
   "source": [
    "unique(Ẑ)"
   ]
  }
 ],
 "metadata": {
  "kernelspec": {
   "display_name": "Julia 1.4.2",
   "language": "julia",
   "name": "julia-1.4"
  },
  "language_info": {
   "file_extension": ".jl",
   "mimetype": "application/julia",
   "name": "julia",
   "version": "1.4.2"
  }
 },
 "nbformat": 4,
 "nbformat_minor": 4
}
