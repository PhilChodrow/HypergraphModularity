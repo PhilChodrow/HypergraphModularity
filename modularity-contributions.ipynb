{
 "cells": [
  {
   "cell_type": "code",
   "execution_count": null,
   "metadata": {},
   "outputs": [],
   "source": [
    "using Pkg\n",
    "Pkg.activate(\".\")"
   ]
  },
  {
   "cell_type": "code",
   "execution_count": null,
   "metadata": {},
   "outputs": [],
   "source": [
    "using HypergraphModularity\n",
    "using LinearAlgebra\n",
    "using Printf\n",
    "using SparseArrays\n",
    "using StatsBase"
   ]
  },
  {
   "cell_type": "code",
   "execution_count": null,
   "metadata": {},
   "outputs": [],
   "source": [
    "function all_or_nothing(p::Vector{Int64})\n",
    "    is_aon = length(p) == 1\n",
    "    return (sum(p), is_aon)\n",
    "end\n",
    "\n",
    "function polyadic_AON_MLE(Hyp, Z)\n",
    "    Ω̂ = estimateΩEmpirically(Hyp, Z; min_val=0, aggregator=all_or_nothing)\n",
    "    ll = Float64(sum(logLikelihood(Hyp, Z, Ω̂; α=0, bigInt=true)))\n",
    "    return (ll, Ω̂)    \n",
    "end\n",
    "\n",
    "function dyadic_MLE(Hyp, Z, weighted::Bool, binary::Bool)\n",
    "    ω_in, ω_out = \n",
    "        computeDyadicResolutionParameter(Hyp, Z; mode=\"ω\", weighted=weighted, binary=binary)\n",
    "    γ = (ω_in - ω_out) / (log(ω_in) - log(ω_out))\n",
    "    Q = dyadicModularity(Hyp, Z, γ; weighted=weighted, binary=binary)\n",
    "    ll = Float64(dyadicLogLikelihood(Hyp, Z, ω_in, ω_out; weighted=weighted, binary=binary))\n",
    "    return (ll, ω_in, ω_out, γ, Q)\n",
    "end"
   ]
  },
  {
   "cell_type": "code",
   "execution_count": null,
   "metadata": {},
   "outputs": [],
   "source": [
    "function decomposedDyadicModularity(H, Z, γ, weighted, binary)\n",
    "    G = CliqueExpansion(H, weighted, binary) \n",
    "    cluster_ids = unique(Z)\n",
    "    \n",
    "    # edge terms\n",
    "    edges = Dict{Int64, Float64}(c => 0.0 for c in cluster_ids)\n",
    "    for (i, j, v) in zip(SparseArrays.findnz(G)...)\n",
    "        if Z[i] == Z[j]\n",
    "            edges[Z[i]] += v\n",
    "        end\n",
    "\tend\n",
    "\n",
    "    # volume terms                                                                                                                                                                                                \n",
    "    d = vec(sum(G, dims=1))    \n",
    "    vols = Dict{Int64, Float64}(c => 0.0 for c in cluster_ids)\n",
    "    for (ci, di) in zip(Z, d)\n",
    "        vols[ci] += di\n",
    "    end\n",
    "\n",
    "    # modularity terms\n",
    "    volG = sum(d)\n",
    "    Qs = Dict{Int64, Float64}(c => 0.0 for c in cluster_ids)\n",
    "    for c in cluster_ids\n",
    "        Qs[c] = (edges[c] - γ * vols[c]^2 / volG) / volG\n",
    "    end\n",
    "\n",
    "    return Qs\n",
    "end"
   ]
  },
  {
   "cell_type": "code",
   "execution_count": null,
   "metadata": {},
   "outputs": [],
   "source": [
    "function decomposedAONPolyadicModularity(H, Z, Ω)\n",
    "    cluster_ids = unique(Z)\n",
    "    all_Qs = Dict()\n",
    "    combined_Qs = Dict{Int64, Float64}(c => 0.0 for c in cluster_ids)\n",
    "    \n",
    "    for ℓ = 2:maximum(keys(H.E))\n",
    "        if haskey(H.E, ℓ)\n",
    "            # Volume and W terms\n",
    "            vols = Dict{Int64, Float64}(c => 0.0 for c in cluster_ids)\n",
    "            Ws = Dict{Int64, Float64}(c => 0.0 for c in cluster_ids)\n",
    "            for (edge, weight) in H.E[ℓ]\n",
    "                Zedge = [Z[v] for v in edge]\n",
    "                if all(z -> z == Zedge[1], Zedge)\n",
    "                   Ws[Zedge[1]] += weight\n",
    "                end\n",
    "                for c in Zedge\n",
    "                   vols[c] += weight\n",
    "                end\n",
    "            end\n",
    "            \n",
    "            # Modularities\n",
    "            ω1 = Ω.ω((ℓ, true),  0)\n",
    "            ω0 = Ω.ω((ℓ, false), 0)\n",
    "            α = log(ω1) - log(ω0)\n",
    "            β = ω1 - ω0\n",
    "            Qs = Dict{Int64, Float64}(c => 0.0 for c in cluster_ids)\n",
    "            for c in cluster_ids\n",
    "                Qs[c] = α * Ws[c] - β * vols[c]^ℓ\n",
    "                combined_Qs[c] += Qs[c]\n",
    "            end\n",
    "            \n",
    "            all_Qs[ℓ] = Qs\n",
    "        end\n",
    "    end\n",
    "    \n",
    "    return all_Qs, combined_Qs\n",
    "end"
   ]
  },
  {
   "cell_type": "code",
   "execution_count": null,
   "metadata": {},
   "outputs": [],
   "source": [
    "function dyadic_modularity_contributions(H, labels, names, topk=10, weighted=false, binary=true)\n",
    "    g_ll, ω_in, ω_out, γ, Q = dyadic_MLE(H, labels, weighted, binary)\n",
    "    dyadicQs = decomposedDyadicModularity(H, labels, γ, weighted, binary)\n",
    "    stopind = min(topk, length(names))\n",
    "\n",
    "    # Dyadic from clique expansion\n",
    "    println(\"dyadic...\")\n",
    "    dyadicQ = sort([(name, dyadicQs[i]) for (i, name) in enumerate(names)], by=kv->kv[2], rev=true)[1:stopind]\n",
    "    for (i, (name, Q)) in enumerate(dyadicQ)\n",
    "        println(rpad(\"$i: \", 5), \n",
    "                rpad(name, 31),\n",
    "                rpad(@sprintf(\"%.3E\", Q), 15))\n",
    "    end\n",
    "    println(\"------\")\n",
    "end\n",
    "\n",
    "function polyadic_modularity_contributions(H, labels, names, topk=10, individual=false)\n",
    "    h_ll, Ω̂ = polyadic_AON_MLE(H, labels)\n",
    "    Qs, combined_Qs = decomposedAONPolyadicModularity(H, labels, Ω̂)\n",
    "    stopind = min(topk, length(names))\n",
    "   \n",
    "    # Polyadic (combined)\n",
    "    println(\"polyadic...\")\n",
    "    polyadicQ = sort([(name, combined_Qs[i]) for (i, name) in enumerate(names)], by=kv->kv[2], rev=true)[1:stopind]\n",
    "    for (i, (name, Q)) in enumerate(polyadicQ)\n",
    "        println(rpad(\"$i: \", 5), \n",
    "                rpad(name, 31),\n",
    "                rpad(@sprintf(\"%.3E\", Q), 15))\n",
    "    end\n",
    "    println(\"------\")\n",
    "    \n",
    "    if individual\n",
    "        # Polyadic (per hyperedge size)\n",
    "        for key in sort(collect(keys(Qs)))\n",
    "            println(\"ℓ = $(key)...\")\n",
    "            Qℓ = Qs[key]\n",
    "            order_ℓ = sort([(name, Qℓ[i]) for (i, name) in enumerate(names)], by=kv->kv[2], rev=true)[1:stopind]\n",
    "            for (i, (name, Q)) in enumerate(order_ℓ)\n",
    "                println(rpad(\"$i: \", 5), \n",
    "                        rpad(name, 31),\n",
    "                        rpad(@sprintf(\"%.3E\", Q), 15))\n",
    "            end\n",
    "            println(\"------\")\n",
    "        end\n",
    "    end\n",
    "end"
   ]
  },
  {
   "cell_type": "code",
   "execution_count": null,
   "metadata": {},
   "outputs": [],
   "source": [
    "dataset = \"walmart-trips\"\n",
    "H, labels = read_hypergraph_data(dataset, 10)\n",
    "names = read_hypergraph_label_names(dataset)\n",
    "\n",
    "# throw out \"Other\" category\n",
    "other_key = \"Other\"\n",
    "other_ind = findfirst(names .== other_key)\n",
    "keep = Vector{Bool}(labels .!= other_ind)\n",
    "(subH, node_map) = subhypergraph(H, keep)\n",
    "sub_labels = zeros(Int64, maximum(subH.N))\n",
    "for (i, j) in node_map\n",
    "    sub_labels[j] = labels[i]\n",
    "end\n",
    "\n",
    "# Just to keep rest of the code the same\n",
    "H = subH\n",
    "labels = sub_labels\n",
    "names = names[names .!= other_key]\n",
    ";"
   ]
  },
  {
   "cell_type": "code",
   "execution_count": null,
   "metadata": {},
   "outputs": [],
   "source": [
    "dyadic_modularity_contributions(H, labels, names)\n",
    "polyadic_modularity_contributions(H, labels, names)"
   ]
  },
  {
   "cell_type": "code",
   "execution_count": null,
   "metadata": {},
   "outputs": [],
   "source": [
    "dataset = \"TrivagoClickout\"\n",
    "H, labels = read_hypergraph_data(dataset, 5)\n",
    "names = read_hypergraph_label_names(dataset)\n",
    "dyadic_modularity_contributions(H, labels, names)\n",
    "polyadic_modularity_contributions(H, labels, names)"
   ]
  },
  {
   "cell_type": "code",
   "execution_count": null,
   "metadata": {},
   "outputs": [],
   "source": [
    "dataset = \"congress-bills\"\n",
    "H, labels = read_hypergraph_data(dataset, 10)\n",
    "names = read_hypergraph_label_names(dataset)\n",
    "dyadic_modularity_contributions(H, labels, names)\n",
    "polyadic_modularity_contributions(H, labels, names)"
   ]
  },
  {
   "cell_type": "code",
   "execution_count": null,
   "metadata": {},
   "outputs": [],
   "source": [
    "dataset = \"contact-high-school-classes\"\n",
    "H, labels = read_hypergraph_data(dataset, 10)\n",
    "names = read_hypergraph_label_names(dataset)\n",
    "dyadic_modularity_contributions(H, labels, names)\n",
    "polyadic_modularity_contributions(H, labels, names)"
   ]
  },
  {
   "cell_type": "code",
   "execution_count": null,
   "metadata": {},
   "outputs": [],
   "source": [
    "dataset = \"contact-primary-school-classes\"\n",
    "H, labels = read_hypergraph_data(dataset, 10)\n",
    "names = read_hypergraph_label_names(dataset)\n",
    ";"
   ]
  },
  {
   "cell_type": "code",
   "execution_count": null,
   "metadata": {},
   "outputs": [],
   "source": [
    "println(\"Weight-normalized\")\n",
    "dyadic_modularity_contributions(H, labels, names, 12, true, false)\n",
    "println(\"Clique-weighted\")\n",
    "dyadic_modularity_contributions(H, labels, names, 12, false, false)\n",
    "println(\"binary\")\n",
    "dyadic_modularity_contributions(H, labels, names, 12, false, true)\n",
    "polyadic_modularity_contributions(H, labels, names, 12)"
   ]
  },
  {
   "cell_type": "code",
   "execution_count": null,
   "metadata": {},
   "outputs": [],
   "source": [
    "for k = 2:5\n",
    "    H, labels = read_hypergraph_data(dataset, k, k)\n",
    "    names = read_hypergraph_label_names(dataset)\n",
    "    println(\"$k...\")\n",
    "    dyadic_modularity_contributions(H, labels, names)\n",
    "end"
   ]
  },
  {
   "cell_type": "code",
   "execution_count": null,
   "metadata": {},
   "outputs": [],
   "source": []
  }
 ],
 "metadata": {
  "@webio": {
   "lastCommId": null,
   "lastKernelId": null
  },
  "kernelspec": {
   "display_name": "Julia 1.5.1",
   "language": "julia",
   "name": "julia-1.5"
  },
  "language_info": {
   "file_extension": ".jl",
   "mimetype": "application/julia",
   "name": "julia",
   "version": "1.5.1"
  }
 },
 "nbformat": 4,
 "nbformat_minor": 4
}
