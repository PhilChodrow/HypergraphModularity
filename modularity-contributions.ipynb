{
 "cells": [
  {
   "cell_type": "code",
   "execution_count": 1,
   "metadata": {},
   "outputs": [
    {
     "name": "stderr",
     "output_type": "stream",
     "text": [
      "\u001b[32m\u001b[1m Activating\u001b[22m\u001b[39m environment at `~/code/hypergraph_modularities_code/Project.toml`\n"
     ]
    }
   ],
   "source": [
    "using Pkg\n",
    "Pkg.activate(\".\")"
   ]
  },
  {
   "cell_type": "code",
   "execution_count": 2,
   "metadata": {},
   "outputs": [],
   "source": [
    "using HypergraphModularity\n",
    "using LinearAlgebra\n",
    "using Printf\n",
    "using SparseArrays\n",
    "using StatsBase"
   ]
  },
  {
   "cell_type": "code",
   "execution_count": 3,
   "metadata": {},
   "outputs": [
    {
     "data": {
      "text/plain": [
       "dyadic_MLE (generic function with 1 method)"
      ]
     },
     "execution_count": 3,
     "metadata": {},
     "output_type": "execute_result"
    }
   ],
   "source": [
    "function all_or_nothing(p::Vector{Int64})\n",
    "    is_aon = length(p) == 1\n",
    "    return (sum(p), is_aon)\n",
    "end\n",
    "\n",
    "function polyadic_AON_MLE(Hyp, Z)\n",
    "    Ω̂ = estimateΩEmpirically(Hyp, Z; min_val=0, aggregator=all_or_nothing)\n",
    "    ll = Float64(sum(logLikelihood(Hyp, Z, Ω̂; α=0, bigInt=true)))\n",
    "    return (ll, Ω̂)    \n",
    "end\n",
    "\n",
    "function dyadic_MLE(Hyp, Z, weighted::Bool, binary::Bool)\n",
    "    ω_in, ω_out = \n",
    "        computeDyadicResolutionParameter(Hyp, Z; mode=\"ω\", weighted=weighted, binary=binary)\n",
    "    γ = (ω_in - ω_out) / (log(ω_in) - log(ω_out))\n",
    "    Q = dyadicModularity(Hyp, Z, γ; weighted=weighted, binary=binary)\n",
    "    ll = Float64(dyadicLogLikelihood(Hyp, Z, ω_in, ω_out; weighted=weighted, binary=binary))\n",
    "    return (ll, ω_in, ω_out, γ, Q)\n",
    "end"
   ]
  },
  {
   "cell_type": "code",
   "execution_count": 4,
   "metadata": {},
   "outputs": [
    {
     "data": {
      "text/plain": [
       "decomposedDyadicModularity (generic function with 1 method)"
      ]
     },
     "execution_count": 4,
     "metadata": {},
     "output_type": "execute_result"
    }
   ],
   "source": [
    "function decomposedDyadicModularity(H, Z, γ, weighted, binary)\n",
    "    G = CliqueExpansion(H, weighted, binary)\n",
    "    cluster_ids = unique(Z)\n",
    "    \n",
    "    # edge terms\n",
    "    edges = Dict{Int64, Float64}(c => 0.0 for c in cluster_ids)\n",
    "    for (i, j, v) in zip(SparseArrays.findnz(G)...)\n",
    "        if Z[i] == Z[j]\n",
    "            edges[Z[i]] += v\n",
    "        end\n",
    "\tend\n",
    "\n",
    "    # volume terms                                                                                                                                                   \n",
    "    d = vec(sum(G, dims=1))\n",
    "    vols = Dict{Int64, Float64}(c => 0.0 for c in cluster_ids)\n",
    "    for (ci, di) in zip(Z, d)\n",
    "        vols[ci] += di\n",
    "    end\n",
    "\n",
    "    # modularity terms\n",
    "    volG = sum(d)\n",
    "    Qs = Dict{Int64, Float64}(c => 0.0 for c in cluster_ids)\n",
    "    for c in cluster_ids\n",
    "        Qs[c] = (edges[c] - γ * vols[c]^2 / volG) / volG\n",
    "    end\n",
    "\n",
    "    return Qs\n",
    "end"
   ]
  },
  {
   "cell_type": "code",
   "execution_count": 5,
   "metadata": {},
   "outputs": [
    {
     "data": {
      "text/plain": [
       "decomposedAONPolyadicModularity (generic function with 1 method)"
      ]
     },
     "execution_count": 5,
     "metadata": {},
     "output_type": "execute_result"
    }
   ],
   "source": [
    "function decomposedAONPolyadicModularity(H, Z, Ω)\n",
    "    cluster_ids = unique(Z)\n",
    "    all_Qs = Dict()\n",
    "    combined_Qs = Dict{Int64, Float64}(c => 0.0 for c in cluster_ids)\n",
    "    \n",
    "    for ℓ = 2:maximum(keys(H.E))\n",
    "        if haskey(H.E, ℓ)\n",
    "            # Volume and W terms\n",
    "            vols = Dict{Int64, Float64}(c => 0.0 for c in cluster_ids)\n",
    "            Ws = Dict{Int64, Float64}(c => 0.0 for c in cluster_ids)\n",
    "            for (edge, weight) in H.E[ℓ]\n",
    "                Zedge = [Z[v] for v in edge]\n",
    "                if all(z -> z == Zedge[1], Zedge)\n",
    "                   Ws[Zedge[1]] += weight\n",
    "                end\n",
    "                for c in Zedge\n",
    "                   vols[c] += weight\n",
    "                end\n",
    "            end\n",
    "            \n",
    "            # Modularities\n",
    "            ω1 = Ω.ω((ℓ, true),  0)\n",
    "            ω0 = Ω.ω((ℓ, false), 0)\n",
    "            α = log(ω1) - log(ω0)\n",
    "            β = ω1 - ω0\n",
    "            Qs = Dict{Int64, Float64}(c => 0.0 for c in cluster_ids)\n",
    "            for c in cluster_ids\n",
    "                Qs[c] = α * Ws[c] - β * vols[c]^ℓ\n",
    "                combined_Qs[c] += Qs[c]\n",
    "            end\n",
    "            \n",
    "            all_Qs[ℓ] = Qs\n",
    "        end\n",
    "    end\n",
    "    \n",
    "    return all_Qs, combined_Qs\n",
    "end"
   ]
  },
  {
   "cell_type": "code",
   "execution_count": 6,
   "metadata": {},
   "outputs": [
    {
     "data": {
      "text/plain": [
       "polyadic_modularity_contributions (generic function with 3 methods)"
      ]
     },
     "execution_count": 6,
     "metadata": {},
     "output_type": "execute_result"
    }
   ],
   "source": [
    "function dyadic_modularity_contributions(H, labels, names, topk=10, weighted=false, binary=true)\n",
    "    g_ll, ω_in, ω_out, γ, Q = dyadic_MLE(H, labels, weighted, binary)\n",
    "    dyadicQs = decomposedDyadicModularity(H, labels, γ, weighted, binary)\n",
    "    stopind = min(topk, length(names))\n",
    "\n",
    "    # Dyadic from clique expansion\n",
    "    println(\"dyadic...\")\n",
    "    dyadicQ = sort([(name, dyadicQs[i]) for (i, name) in enumerate(names)], by=kv->kv[2], rev=true)[1:stopind]\n",
    "    for (i, (name, Q)) in enumerate(dyadicQ)\n",
    "        println(rpad(\"$i: \", 5), \n",
    "                rpad(name, 31),\n",
    "                rpad(@sprintf(\"%.3E\", Q), 15))\n",
    "    end\n",
    "    println(\"------\")\n",
    "end\n",
    "\n",
    "function polyadic_modularity_contributions(H, labels, names, topk=10, individual=false)\n",
    "    h_ll, Ω̂ = polyadic_AON_MLE(H, labels)\n",
    "    Qs, combined_Qs = decomposedAONPolyadicModularity(H, labels, Ω̂)\n",
    "    stopind = min(topk, length(names))\n",
    "   \n",
    "    # Polyadic (combined)\n",
    "    println(\"polyadic...\")\n",
    "    polyadicQ = sort([(name, combined_Qs[i]) for (i, name) in enumerate(names)], by=kv->kv[2], rev=true)[1:stopind]\n",
    "    for (i, (name, Q)) in enumerate(polyadicQ)\n",
    "        println(rpad(\"$i: \", 5), \n",
    "                rpad(name, 31),\n",
    "                rpad(@sprintf(\"%.3E\", Q), 15))\n",
    "    end\n",
    "    println(\"------\")\n",
    "    \n",
    "    if individual\n",
    "        # Polyadic (per hyperedge size)\n",
    "        for key in sort(collect(keys(Qs)))\n",
    "            println(\"ℓ = $(key)...\")\n",
    "            Qℓ = Qs[key]\n",
    "            order_ℓ = sort([(name, Qℓ[i]) for (i, name) in enumerate(names)], by=kv->kv[2], rev=true)[1:stopind]\n",
    "            for (i, (name, Q)) in enumerate(order_ℓ)\n",
    "                println(rpad(\"$i: \", 5), \n",
    "                        rpad(name, 31),\n",
    "                        rpad(@sprintf(\"%.3E\", Q), 15))\n",
    "            end\n",
    "            println(\"------\")\n",
    "        end\n",
    "    end\n",
    "end"
   ]
  },
  {
   "cell_type": "code",
   "execution_count": 7,
   "metadata": {},
   "outputs": [],
   "source": [
    "dataset = \"walmart-trips\"\n",
    "H, labels = read_hypergraph_data(dataset, 10)\n",
    "names = read_hypergraph_label_names(dataset)\n",
    "\n",
    "# throw out \"Other\" category\n",
    "other_key = \"Other\"\n",
    "other_ind = findfirst(names .== other_key)\n",
    "keep = Vector{Bool}(labels .!= other_ind)\n",
    "(subH, node_map) = subhypergraph(H, keep)\n",
    "sub_labels = zeros(Int64, maximum(subH.N))\n",
    "for (i, j) in node_map\n",
    "    sub_labels[j] = labels[i]\n",
    "end\n",
    "\n",
    "# Just to keep rest of the code the same\n",
    "H = subH\n",
    "labels = sub_labels\n",
    "names = names[names .!= other_key]\n",
    ";"
   ]
  },
  {
   "cell_type": "code",
   "execution_count": 8,
   "metadata": {},
   "outputs": [
    {
     "name": "stdout",
     "output_type": "stream",
     "text": [
      "dyadic...\n",
      "1:   Food, Household & Pets         9.198E-02      \n",
      "2:   Pharmacy, Health & Beauty      4.885E-02      \n",
      "3:   Clothing, Shoes & Accessories  4.247E-02      \n",
      "4:   Home, Furniture & Appliances   1.378E-02      \n",
      "5:   Baby                           1.238E-02      \n",
      "6:   Auto, Tires & Industrial       8.468E-03      \n",
      "7:   Home Improvement & Patio       6.702E-03      \n",
      "8:   Electronics and Office         6.170E-03      \n",
      "9:   Toys, Games, and Video Games   4.499E-03      \n",
      "10:  Sports, Fitness & Outdoors     3.582E-03      \n",
      "------\n",
      "polyadic...\n",
      "1:   Food, Household & Pets         3.350E+04      \n",
      "2:   Pharmacy, Health & Beauty      5.358E+03      \n",
      "3:   Clothing, Shoes & Accessories  4.605E+03      \n",
      "4:   Home, Furniture & Appliances   1.200E+03      \n",
      "5:   Baby                           1.034E+03      \n",
      "6:   Electronics and Office         9.652E+02      \n",
      "7:   Auto, Tires & Industrial       9.269E+02      \n",
      "8:   Home Improvement & Patio       5.612E+02      \n",
      "9:   Toys, Games, and Video Games   4.732E+02      \n",
      "10:  Sports, Fitness & Outdoors     3.925E+02      \n",
      "------\n"
     ]
    }
   ],
   "source": [
    "dyadic_modularity_contributions(H, labels, names)\n",
    "polyadic_modularity_contributions(H, labels, names)"
   ]
  },
  {
   "cell_type": "code",
   "execution_count": 9,
   "metadata": {},
   "outputs": [
    {
     "name": "stdout",
     "output_type": "stream",
     "text": [
      "dyadic...\n",
      "1:   Brazil                         7.734E-02      \n",
      "2:   Japan                          6.544E-02      \n",
      "3:   USA                            6.273E-02      \n",
      "4:   United Kingdom                 4.816E-02      \n",
      "5:   Germany                        4.163E-02      \n",
      "6:   Spain                          4.007E-02      \n",
      "7:   India                          3.830E-02      \n",
      "8:   Mexico                         3.665E-02      \n",
      "9:   Italy                          3.601E-02      \n",
      "10:  Turkey                         3.514E-02      \n",
      "------\n",
      "polyadic...\n",
      "1:   Brazil                         2.199E+05      \n",
      "2:   Japan                          1.671E+05      \n",
      "3:   USA                            1.587E+05      \n",
      "4:   United Kingdom                 1.130E+05      \n",
      "5:   Germany                        9.253E+04      \n",
      "6:   Mexico                         9.020E+04      \n",
      "7:   Spain                          8.771E+04      \n",
      "8:   India                          8.507E+04      \n",
      "9:   Turkey                         7.692E+04      \n",
      "10:  Italy                          7.236E+04      \n",
      "------\n"
     ]
    }
   ],
   "source": [
    "dataset = \"TrivagoClickout\"\n",
    "H, labels = read_hypergraph_data(dataset, 5)\n",
    "names = read_hypergraph_label_names(dataset)\n",
    "dyadic_modularity_contributions(H, labels, names)\n",
    "polyadic_modularity_contributions(H, labels, names)"
   ]
  },
  {
   "cell_type": "code",
   "execution_count": 10,
   "metadata": {},
   "outputs": [
    {
     "name": "stdout",
     "output_type": "stream",
     "text": [
      "dyadic...\n",
      "1:   1 democrat                     5.421E-02      \n",
      "2:   2 republican                   5.247E-02      \n",
      "------\n",
      "polyadic...\n",
      "1:   1 democrat                     1.684E+04      \n",
      "2:   2 republican                   1.063E+04      \n",
      "------\n"
     ]
    }
   ],
   "source": [
    "dataset = \"congress-bills\"\n",
    "H, labels = read_hypergraph_data(dataset, 10)\n",
    "names = read_hypergraph_label_names(dataset)\n",
    "dyadic_modularity_contributions(H, labels, names)\n",
    "polyadic_modularity_contributions(H, labels, names)"
   ]
  },
  {
   "cell_type": "code",
   "execution_count": 11,
   "metadata": {},
   "outputs": [
    {
     "name": "stdout",
     "output_type": "stream",
     "text": [
      "dyadic...\n",
      "1:   PC                             7.081E-02      \n",
      "2:   2BIO3                          6.188E-02      \n",
      "3:   PC*                            6.168E-02      \n",
      "4:   MP*2                           5.143E-02      \n",
      "5:   2BIO1                          4.961E-02      \n",
      "6:   MP                             4.897E-02      \n",
      "7:   2BIO2                          4.532E-02      \n",
      "8:   PSI*                           4.491E-02      \n",
      "9:   MP*1                           2.851E-02      \n",
      "------\n",
      "polyadic...\n",
      "1:   PC                             3.655E+03      \n",
      "2:   2BIO3                          3.555E+03      \n",
      "3:   PC*                            2.617E+03      \n",
      "4:   MP*2                           2.373E+03      \n",
      "5:   MP                             1.966E+03      \n",
      "6:   2BIO2                          1.913E+03      \n",
      "7:   2BIO1                          1.878E+03      \n",
      "8:   PSI*                           1.376E+03      \n",
      "9:   MP*1                           7.233E+02      \n",
      "------\n"
     ]
    }
   ],
   "source": [
    "dataset = \"contact-high-school-classes\"\n",
    "H, labels = read_hypergraph_data(dataset, 10)\n",
    "names = read_hypergraph_label_names(dataset)\n",
    "dyadic_modularity_contributions(H, labels, names)\n",
    "polyadic_modularity_contributions(H, labels, names)"
   ]
  },
  {
   "cell_type": "code",
   "execution_count": 12,
   "metadata": {},
   "outputs": [],
   "source": [
    "dataset = \"contact-primary-school-classes\"\n",
    "H, labels = read_hypergraph_data(dataset, 10)\n",
    "names = read_hypergraph_label_names(dataset)\n",
    ";"
   ]
  },
  {
   "cell_type": "code",
   "execution_count": 13,
   "metadata": {},
   "outputs": [
    {
     "name": "stdout",
     "output_type": "stream",
     "text": [
      "Weight-normalized\n",
      "dyadic...\n",
      "1:   1B                             3.915E-02      \n",
      "2:   2B                             3.436E-02      \n",
      "3:   5B                             3.048E-02      \n",
      "4:   3B                             2.988E-02      \n",
      "5:   2A                             2.908E-02      \n",
      "6:   5A                             2.734E-02      \n",
      "7:   4A                             2.694E-02      \n",
      "8:   3A                             2.475E-02      \n",
      "9:   4B                             2.417E-02      \n",
      "10:  1A                             2.261E-02      \n",
      "11:  Teachers                       7.414E-04      \n",
      "------\n",
      "Clique-weighted\n",
      "dyadic...\n",
      "1:   1B                             4.850E-02      \n",
      "2:   2B                             3.868E-02      \n",
      "3:   3B                             3.730E-02      \n",
      "4:   5B                             3.493E-02      \n",
      "5:   2A                             3.326E-02      \n",
      "6:   5A                             3.219E-02      \n",
      "7:   4A                             3.103E-02      \n",
      "8:   3A                             3.035E-02      \n",
      "9:   1A                             2.580E-02      \n",
      "10:  4B                             2.562E-02      \n",
      "11:  Teachers                       3.361E-04      \n",
      "------\n",
      "binary\n",
      "dyadic...\n",
      "1:   2B                             2.131E-02      \n",
      "2:   4B                             1.962E-02      \n",
      "3:   5B                             1.616E-02      \n",
      "4:   2A                             1.588E-02      \n",
      "5:   4A                             1.453E-02      \n",
      "6:   5A                             1.282E-02      \n",
      "7:   1A                             1.275E-02      \n",
      "8:   1B                             1.105E-02      \n",
      "9:   3A                             9.101E-03      \n",
      "10:  3B                             8.467E-03      \n",
      "11:  Teachers                       2.016E-03      \n",
      "------\n",
      "polyadic...\n",
      "1:   1B                             2.646E+03      \n",
      "2:   3B                             1.842E+03      \n",
      "3:   2B                             1.752E+03      \n",
      "4:   5B                             1.547E+03      \n",
      "5:   2A                             1.514E+03      \n",
      "6:   3A                             1.379E+03      \n",
      "7:   5A                             1.361E+03      \n",
      "8:   4A                             1.244E+03      \n",
      "9:   1A                             1.179E+03      \n",
      "10:  4B                             9.734E+02      \n",
      "11:  Teachers                       5.087E+01      \n",
      "------\n"
     ]
    }
   ],
   "source": [
    "println(\"Weight-normalized\")\n",
    "dyadic_modularity_contributions(H, labels, names, 12, true, false)\n",
    "println(\"Clique-weighted\")\n",
    "dyadic_modularity_contributions(H, labels, names, 12, false, false)\n",
    "println(\"binary\")\n",
    "dyadic_modularity_contributions(H, labels, names, 12, false, true)\n",
    "polyadic_modularity_contributions(H, labels, names, 12)"
   ]
  },
  {
   "cell_type": "code",
   "execution_count": 14,
   "metadata": {},
   "outputs": [
    {
     "name": "stdout",
     "output_type": "stream",
     "text": [
      "2...\n",
      "dyadic...\n",
      "1:   2B                             2.279E-02      \n",
      "2:   4B                             2.104E-02      \n",
      "3:   5B                             1.793E-02      \n",
      "4:   2A                             1.755E-02      \n",
      "5:   4A                             1.544E-02      \n",
      "6:   1A                             1.424E-02      \n",
      "7:   5A                             1.389E-02      \n",
      "8:   1B                             1.380E-02      \n",
      "9:   3A                             1.068E-02      \n",
      "10:  3B                             1.030E-02      \n",
      "------\n",
      "3...\n",
      "dyadic...\n",
      "1:   2B                             3.461E-02      \n",
      "2:   2A                             3.114E-02      \n",
      "3:   5B                             3.024E-02      \n",
      "4:   5A                             3.015E-02      \n",
      "5:   1B                             2.955E-02      \n",
      "6:   4B                             2.879E-02      \n",
      "7:   4A                             2.807E-02      \n",
      "8:   1A                             2.747E-02      \n",
      "9:   3B                             2.362E-02      \n",
      "10:  3A                             2.118E-02      \n",
      "------\n",
      "4...\n",
      "dyadic...\n",
      "1:   1B                             6.669E-02      \n",
      "2:   3B                             4.920E-02      \n",
      "3:   2B                             4.430E-02      \n",
      "4:   2A                             3.915E-02      \n",
      "5:   5A                             3.584E-02      \n",
      "6:   3A                             3.411E-02      \n",
      "7:   1A                             3.285E-02      \n",
      "8:   5B                             3.174E-02      \n",
      "9:   4A                             2.907E-02      \n",
      "10:  4B                             2.172E-02      \n",
      "------\n",
      "5...\n",
      "dyadic...\n",
      "1:   4B                             8.064E-02      \n",
      "2:   2B                             5.124E-02      \n",
      "3:   3B                             2.857E-02      \n",
      "4:   4A                             1.068E-02      \n",
      "5:   5A                             4.471E-03      \n",
      "6:   2A                             4.471E-03      \n",
      "7:   Teachers                       0.000E+00      \n",
      "8:   1B                             -8.419E-04     \n",
      "9:   1A                             -8.419E-04     \n",
      "10:  3A                             -8.419E-04     \n",
      "------\n"
     ]
    }
   ],
   "source": [
    "for k = 2:5\n",
    "    H, labels = read_hypergraph_data(dataset, k, k)\n",
    "    names = read_hypergraph_label_names(dataset)\n",
    "    println(\"$k...\")\n",
    "    dyadic_modularity_contributions(H, labels, names)\n",
    "end"
   ]
  },
  {
   "cell_type": "code",
   "execution_count": null,
   "metadata": {},
   "outputs": [],
   "source": []
  }
 ],
 "metadata": {
  "@webio": {
   "lastCommId": null,
   "lastKernelId": null
  },
  "kernelspec": {
   "display_name": "Julia 1.5.1",
   "language": "julia",
   "name": "julia-1.5"
  },
  "language_info": {
   "file_extension": ".jl",
   "mimetype": "application/julia",
   "name": "julia",
   "version": "1.5.1"
  }
 },
 "nbformat": 4,
 "nbformat_minor": 4
}
