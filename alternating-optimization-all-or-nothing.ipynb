{
 "cells": [
  {
   "cell_type": "code",
   "execution_count": 1,
   "metadata": {},
   "outputs": [
    {
     "data": {
      "text/plain": [
       "notsame"
      ]
     },
     "execution_count": 1,
     "metadata": {},
     "output_type": "execute_result"
    }
   ],
   "source": [
    "using Parameters\n",
    "using LinearAlgebra\n",
    "using Combinatorics\n",
    "using StatsBase\n",
    "using NLopt\n",
    "using Random\n",
    "using SparseArrays\n",
    "using Optim\n",
    "using TimerOutputs\n",
    "\n",
    "# This is a stipped-down version of the original code,\n",
    "# which computes voldiff and cutdiff both ways (old and new), so that\n",
    "# we can compare the two approaches side by side.\n",
    "# In some cases, (e.g. congress bills with kmax = 5)\n",
    "# I've noticed differences in these computations, and I'm not sure why.\n",
    "include(\"src/louvain_vol_computations.jl\")"
   ]
  },
  {
   "cell_type": "code",
   "execution_count": 2,
   "metadata": {},
   "outputs": [
    {
     "data": {
      "text/plain": [
       "(hypergraph\n",
       "  N: Array{Int64}((88860,)) [1, 2, 3, 4, 5, 6, 7, 8, 9, 10  …  88851, 88852, 88853, 88854, 88855, 88856, 88857, 88858, 88859, 88860]\n",
       "  E: Dict{Int64,Dict}\n",
       "  D: Array{Int64}((88860,)) [0, 0, 3, 2, 1, 32, 0, 0, 2, 10  …  0, 0, 1, 1, 0, 0, 0, 0, 1, 1]\n",
       ", [7, 7, 7, 7, 7, 11, 7, 7, 7, 7  …  1, 3, 1, 1, 7, 5, 5, 5, 10, 11])"
      ]
     },
     "execution_count": 2,
     "metadata": {},
     "output_type": "execute_result"
    }
   ],
   "source": [
    "## Read in a dataset\n",
    "dataset = \"congress-bills\"\n",
    "# dataset = \"contact-primary-school-classes\"\n",
    "dataset = \"TrivagoClickout\"\n",
    "dataset = \"walmart-trips\"\n",
    "\n",
    "kmax_ = 5\n",
    "\n",
    "H, Z = read_hypergraph_data(dataset,kmax_)"
   ]
  },
  {
   "cell_type": "code",
   "execution_count": 3,
   "metadata": {},
   "outputs": [
    {
     "data": {
      "text/plain": [
       "IntensityFunction(ω, var\"#11#16\"(), Tuple{Int64,Int64}[(0, 1), (0, 2), (0, 3), (0, 4), (0, 5), (1, 1), (1, 2), (1, 3), (1, 4), (1, 5)], var\"#13#18\"(), nothing)"
      ]
     },
     "execution_count": 3,
     "metadata": {},
     "output_type": "execute_result"
    }
   ],
   "source": [
    "kmax = maximum(keys(H.E))\n",
    "kmin = minimum(keys(H.E))\n",
    "\n",
    "n = length(H.D)\n",
    "\n",
    "# all-or-nothing\n",
    "function ω(p,α)\n",
    "    k = p[2]\n",
    "    δ = p[1]\n",
    "    return ((1+(1-δ))*n)^α[k] / (n^α[k + kmax])\n",
    "end\n",
    "\n",
    "Ω = allOrNothingIntensityFunction(ω, kmax)"
   ]
  },
  {
   "cell_type": "code",
   "execution_count": 4,
   "metadata": {},
   "outputs": [
    {
     "name": "stdout",
     "output_type": "stream",
     "text": [
      " 44.275654 seconds (60.65 M allocations: 11.434 GiB, 6.70% gc time)\n"
     ]
    }
   ],
   "source": [
    "@time Z_dyadic = CliqueExpansionModularity(H);"
   ]
  },
  {
   "cell_type": "code",
   "execution_count": 5,
   "metadata": {},
   "outputs": [],
   "source": [
    "Z_learn = Z_dyadic;"
   ]
  },
  {
   "cell_type": "code",
   "execution_count": 6,
   "metadata": {},
   "outputs": [
    {
     "data": {
      "text/plain": [
       "10-element Array{Float64,1}:\n",
       " -11.80339887498949   \n",
       " -11.484724215480254  \n",
       " -10.671528010107668  \n",
       "  -9.910031420143213  \n",
       "  -4.368009855035218  \n",
       "  11.80339887498948   \n",
       " -10.374636778679204  \n",
       "  -8.572987822270028  \n",
       "  -6.817281072455037  \n",
       "  -0.22196114519680707"
      ]
     },
     "execution_count": 6,
     "metadata": {},
     "output_type": "execute_result"
    }
   ],
   "source": [
    "## Learn alpha\n",
    "α = zeros(2*kmax);\n",
    "α = learnParameters(H, Z_learn, Ω, α; n_iters = 1000, amin = -50, amax = 50)"
   ]
  },
  {
   "cell_type": "code",
   "execution_count": 7,
   "metadata": {},
   "outputs": [
    {
     "data": {
      "text/plain": [
       "-1.033626478778783246003967931209830256646114407178661854264219298029340708042631e+06"
      ]
     },
     "execution_count": 7,
     "metadata": {},
     "output_type": "execute_result"
    }
   ],
   "source": [
    "## Modularity of the partition you learned parameters on\n",
    "Q_learn = modularity(H, Z_learn, Ω; α = α)"
   ]
  },
  {
   "cell_type": "code",
   "execution_count": 8,
   "metadata": {},
   "outputs": [],
   "source": [
    "## Convert hypergraph to new input types\n",
    "include(\"src/AON_hyperlouvain.jl\")\n",
    "cut_weights, vol_weights, e2n, n2e,w,d,elen = AON_Inputs(H,ω,α,kmax);\n",
    "@assert(d == H.D)"
   ]
  },
  {
   "cell_type": "code",
   "execution_count": 9,
   "metadata": {},
   "outputs": [
    {
     "name": "stdout",
     "output_type": "stream",
     "text": [
      "One step of all-or-nothing HyperLouvain\n",
      "\n",
      "Louvain Iteration 1\n",
      "Louvain Iteration 2\n",
      "Louvain Iteration 3\n",
      "Louvain Iteration 4\n",
      "Louvain Iteration 5\n",
      "Louvain Iteration 6\n",
      "Louvain Iteration 7\n",
      "Louvain Iteration 8\n",
      "Louvain Iteration 9\n",
      "Louvain Iteration 10\n",
      "Louvain Iteration 11\n",
      "Louvain Iteration 12\n",
      "Louvain Iteration 13\n",
      "Louvain Iteration 14\n",
      "Louvain Iteration 15\n",
      "Louvain Iteration 16\n",
      "Louvain Iteration 17\n",
      "Louvain Iteration 18\n",
      "Main loop took 8.473057985305786 seconds\n",
      "New Version: 78423 clusters, 12.51836609840393 sec\n"
     ]
    }
   ],
   "source": [
    "## Run one step of new approach\n",
    "tic = time()\n",
    "Z, improved = ANHL_Step(n2e,e2n,w, d,elen,cut_weights, vol_weights,kmax)\n",
    "runtime = time()-tic\n",
    "clus = length(unique(Z))\n",
    "println(\"New Version: $clus clusters, $runtime sec\")"
   ]
  },
  {
   "cell_type": "code",
   "execution_count": 10,
   "metadata": {},
   "outputs": [
    {
     "name": "stdout",
     "output_type": "stream",
     "text": [
      "One step of all-or-nothing HyperLouvain\n",
      "\n",
      "Louvain Iteration 1\n",
      "Louvain Iteration 2\n",
      "Louvain Iteration 3\n",
      "Louvain Iteration 4\n",
      "Louvain Iteration 5\n",
      "Louvain Iteration 6\n",
      "Main loop took 24.049147129058838 seconds\n",
      "One step of all-or-nothing HyperLouvain\n",
      "\n",
      "Louvain Iteration 1\n",
      "Louvain Iteration 2\n",
      "Louvain Iteration 3\n",
      "Main loop took 0.1979689598083496 seconds\n",
      "One step of all-or-nothing HyperLouvain\n",
      "\n",
      "Louvain Iteration 1\n",
      "No nodes moved clusters\n",
      "Main loop took 0.0739450454711914 seconds\n",
      " 41.286362 seconds (15.63 M allocations: 23.965 GiB, 8.96% gc time)\n"
     ]
    }
   ],
   "source": [
    "## Full supernode version\n",
    "verbose = true\n",
    "maxits = 100\n",
    "randflag = true\n",
    "\n",
    "# Here's where you can set the warm start.\n",
    "\n",
    "Zwarm = Z_dyadic    # can optionally specify a warm start clustering\n",
    "#Zwarm = collect(1:n)  # no warm start\n",
    "@time Zset = SuperNode_PPLouvain(n2e,e2n,w,d,elen,cut_weights,vol_weights,kmax,randflag,maxits,verbose,Zwarm);\n",
    "Zs = Zset[:,end];"
   ]
  },
  {
   "cell_type": "code",
   "execution_count": 30,
   "metadata": {},
   "outputs": [
    {
     "name": "stdout",
     "output_type": "stream",
     "text": [
      "-1.033626478778783246003967931209830256646114407178661854264219298029340708042631e+06 \n",
      "-1.105575867513021256148416874191502015091609023464244678772364533105802418728499e+06 \n",
      "-1.029582925800438924475466833337162334930257637412097476081221706492528263521597e+06\n",
      "44769 \t 78423 \t 44705\n",
      "The hypergraph louvain answer has 35 clusters with more than 8 nodes\n"
     ]
    }
   ],
   "source": [
    "## Check modularities\n",
    "Q_learn = modularity(H, Z_learn, Ω; α = α)\n",
    "Q_1 = modularity(H, Z, Ω; α = α)\n",
    "Q_s = modularity(H, Zs, Ω; α = α)\n",
    "println(\"$Q_learn \\n$Q_1 \\n$Q_s\")\n",
    "\n",
    "nc_learn = length(unique(Z_learn))\n",
    "nc_1 = length(unique(Z))\n",
    "nc_super = length(unique(Zs))\n",
    "println(\"$nc_learn \\t $nc_1 \\t $nc_super\")\n",
    "\n",
    "## The average cluster size is tiny. \n",
    "# But perhaps more interesting is to focus on the number and size of nontrivial clusters\n",
    "minsize = 8\n",
    "NonTrivialClusters = length(findall(x->x>minsize,collect(values(countmap(Z)))))\n",
    "println(\"The hypergraph louvain answer has $NonTrivialClusters clusters with more than $minsize nodes\")"
   ]
  },
  {
   "cell_type": "code",
   "execution_count": 120,
   "metadata": {},
   "outputs": [
    {
     "name": "stdout",
     "output_type": "stream",
     "text": [
      "POLYADIC\n",
      "iteration           Q              groups    time (s)  \n",
      "-----------------------------------------------------------------\n",
      "1                   -978310.0      77472     69.768    \n",
      "2                   -977754.0      77366     65.374    \n",
      "3                   -977682.0      77361     68.407    \n",
      "4                   -977610.0      77348     67.67     \n",
      "5                   -977621.0      77338     68.083    \n",
      "6                   -977653.0      77341     69.522    \n",
      "7                   -977750.0      77355     69.535    \n",
      "8                   -977632.0      77336     71.721    \n",
      "9                   -977623.0      77338     67.545    \n",
      "10                  -977671.0      77349     67.864    \n"
     ]
    }
   ],
   "source": [
    "## Alternating optimization\n",
    "include(\"src/AON_hyperlouvain.jl\")\n",
    "α̂  = zeros(2*kmax);\n",
    "α̂  = learnParameters(H, Z_learn, Ω, α̂; n_iters = 1000, amin = -50, amax = 50)\n",
    "verbose = false\n",
    "maxits = 100\n",
    "randflag = true\n",
    "\n",
    "println(\"POLYADIC\")\n",
    "print(rpad(\"iteration\", 20))\n",
    "print(rpad(\"Q\", 15))\n",
    "print(rpad(\"groups\", 10))\n",
    "println(rpad(\"time (s)\", 10))\n",
    "println(rpad(\"\",  65, \"-\"))\n",
    "\n",
    "Ẑ = zero(Z)\n",
    "Zwarm = collect(1:n)  # no warm start\n",
    "\n",
    "for i = 1:10\n",
    "    cut_weights, vol_weights, e2n, n2e,w,d,elen = AON_Inputs(H,ω,α̂,kmax);\n",
    "    tic = time()\n",
    "    Zset = SuperNode_PPLouvain(n2e,e2n,w,d,elen,cut_weights,vol_weights,kmax,randflag,maxits,verbose,Zwarm)\n",
    "    toc = time()-tic\n",
    "    Ẑ = Zset[:,end]\n",
    "        \n",
    "    α̂ = learnParameters(H, Ẑ, Ω, α̂; n_iters = 10, amin = -10, amax = 10)\n",
    "    Q = modularity(H, Ẑ, Ω; α = α̂)\n",
    "    \n",
    "    print(rpad(\"$i\", 20))\n",
    "    print(rpad(\"$(round(Q))\", 15))\n",
    "    print(rpad(\"$(length(unique(Ẑ)))\", 10))\n",
    "    println(rpad(\"$(round(toc; digits=3))\", 10))\n",
    "end"
   ]
  },
  {
   "cell_type": "code",
   "execution_count": null,
   "metadata": {},
   "outputs": [],
   "source": []
  }
 ],
 "metadata": {
  "kernelspec": {
   "display_name": "Julia 1.3.1",
   "language": "julia",
   "name": "julia-1.3"
  },
  "language_info": {
   "file_extension": ".jl",
   "mimetype": "application/julia",
   "name": "julia",
   "version": "1.3.1"
  }
 },
 "nbformat": 4,
 "nbformat_minor": 4
}
