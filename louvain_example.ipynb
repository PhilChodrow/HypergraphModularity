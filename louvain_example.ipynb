{
 "cells": [
  {
   "cell_type": "code",
   "execution_count": 5,
   "metadata": {},
   "outputs": [
    {
     "name": "stderr",
     "output_type": "stream",
     "text": [
      "┌ Info: Precompiling Parameters [d96e819e-fc66-5662-9728-84c9c7592b0a]\n",
      "└ @ Base loading.jl:1260\n"
     ]
    },
    {
     "data": {
      "text/plain": [
       "Ω (generic function with 1 method)"
      ]
     },
     "execution_count": 5,
     "metadata": {},
     "output_type": "execute_result"
    }
   ],
   "source": [
    "## Generate a graph\n",
    "using StatsBase\n",
    "using Combinatorics\n",
    "\n",
    "include(\"jl/omega.jl\")\n",
    "include(\"jl/HSBM.jl\")\n",
    "\n",
    "# parameters\n",
    "\n",
    "n = 50\n",
    "Z = rand(1:5, n)\n",
    "ϑ = dropdims(ones(1,n) + rand(1,n), dims = 1)\n",
    "\n",
    "# defining group intensity function Ω\n",
    "μ = mean(ϑ)\n",
    "\n",
    "kmax = 4\n",
    "kmin = 1\n",
    "\n",
    "fk = k->(2 .*μ*k)^(-k)\n",
    "fp = x->harmonicMean(x)^3\n",
    "\n",
    "Ω_dict = Dict{Vector{Int64}, Float64}()\n",
    "\n",
    "for k = kmin:kmax, p in partitions(k)\n",
    "    Ω_dict[p] = fk(sum(p))*fp(p)/100\n",
    "end\n",
    "\n",
    "for p in keys(Ω_dict)\n",
    "    if sum(p) == 1\n",
    "        Ω_dict[p] = 0\n",
    "    end\n",
    "end\n",
    "\n",
    "Ω = buildΩ(Ω_dict; by_size=true)"
   ]
  },
  {
   "cell_type": "code",
   "execution_count": 6,
   "metadata": {},
   "outputs": [
    {
     "data": {
      "text/plain": [
       "hypergraph\n",
       "  N: Array{Int64}((50,)) [1, 2, 3, 4, 5, 6, 7, 8, 9, 10  …  41, 42, 43, 44, 45, 46, 47, 48, 49, 50]\n",
       "  E: Dict{Int64,Dict}\n",
       "  D: Array{Int64}((50,)) [3, 8, 2, 3, 2, 7, 2, 7, 4, 2  …  3, 2, 2, 1, 3, 5, 2, 1, 3, 3]\n"
      ]
     },
     "execution_count": 6,
     "metadata": {},
     "output_type": "execute_result"
    }
   ],
   "source": [
    "## Sample\n",
    "H = sampleSBM(Z, ϑ, Ω; kmax=kmax, kmin = kmin)"
   ]
  },
  {
   "cell_type": "code",
   "execution_count": 8,
   "metadata": {},
   "outputs": [
    {
     "name": "stdout",
     "output_type": "stream",
     "text": [
      "\n",
      "Louvain Iteration 1\n",
      "Louvain Iteration 2\n",
      "  2.239675 seconds (16.86 M allocations: 927.129 MiB, 17.19% gc time)\n",
      "\n",
      "Louvain Iteration 1\n",
      "Louvain Iteration 2\n",
      "  0.706928 seconds (1.60 M allocations: 80.104 MiB, 4.18% gc time)\n"
     ]
    },
    {
     "data": {
      "text/plain": [
       "true"
      ]
     },
     "execution_count": 8,
     "metadata": {},
     "output_type": "execute_result"
    }
   ],
   "source": [
    "## Run Louvains, Naive, and Faster version\n",
    "include(\"jl/hypergraph_louvain.jl\")\n",
    "\n",
    "@time Zlou = Naive_HyperLouvain(H,Ω)\n",
    "@time Zlou2 = HyperLouvain(H,kmax,Ω)\n",
    "\n",
    "mlou = modularity(H,Zlou,Ω)\n",
    "mlou2 = modularity(H,Zlou2,Ω)\n",
    "\n",
    "mlou ≈ mlou2"
   ]
  },
  {
   "cell_type": "code",
   "execution_count": 10,
   "metadata": {},
   "outputs": [
    {
     "data": {
      "text/plain": [
       "(::var\"#Ω#288\"{var\"#Ω#287#289\"{Dict{Int64,Dict{Array{Int64,1},Float64}}}}) (generic function with 1 method)"
      ]
     },
     "execution_count": 10,
     "metadata": {},
     "output_type": "execute_result"
    }
   ],
   "source": [
    "include(\"jl/inference.jl\")\n",
    "\n",
    "Zsing = collect(1:n)\n",
    "\n",
    "ω̂_lou2 = estimateΩ(H, Zlou2)\n",
    "Ω̂_lou2 = buildΩ(ω̂_lou2; by_size=true)\n",
    "\n",
    "ω̂_sing = estimateΩ(H, Zsing)\n",
    "Ω̂_sing = buildΩ(ω̂_sing; by_size=true)\n",
    "\n",
    "ω̂ = estimateΩ(H, Z)\n",
    "Ω̂ = buildΩ(ω̂; by_size=true)"
   ]
  },
  {
   "cell_type": "code",
   "execution_count": 11,
   "metadata": {},
   "outputs": [
    {
     "name": "stdout",
     "output_type": "stream",
     "text": [
      "The modularity of the true partition is -702.83.\n",
      "The modularity of the Louvain partition is -696.293.\n",
      "The modularity of the singelton partition is -703.179.\n"
     ]
    }
   ],
   "source": [
    "# Also compare modularity scores against the ground truth community,\n",
    "# and all singleton clusters\n",
    "# Strange that trivially putting all nodes in one cluster does better than the ground truth...\n",
    "# Am I missing something?\n",
    "\n",
    "Q_true = convert(Float64, modularity(H, Z, Ω̂))\n",
    "Q_sing = convert(Float64, modularity(H, Zsing, Ω̂_sing))\n",
    "Q_lou  = convert(Float64, modularity(H, Zlou2, Ω̂_lou2))\n",
    "\n",
    "println(\"The modularity of the true partition is $(round(Q_true,digits=3)).\")\n",
    "println(\"The modularity of the Louvain partition is $(round(Q_lou,digits=3)).\")\n",
    "println(\"The modularity of the singelton partition is $(round(Q_sing,digits=3)).\")"
   ]
  },
  {
   "cell_type": "code",
   "execution_count": 12,
   "metadata": {},
   "outputs": [
    {
     "name": "stdout",
     "output_type": "stream",
     "text": [
      "The log-likelihood of the true partition is -409.981.\n",
      "The log-likelihood of the Louvain partition is -409.334.\n",
      "The log-likelihood of the singleton partition is -415.225.\n"
     ]
    }
   ],
   "source": [
    "# all with true parameters\n",
    "\n",
    "println(\"The log-likelihood of the true partition is $(round(logLikelihood(H, Z, Ω, ϑ),digits=3)).\")\n",
    "println(\"The log-likelihood of the Louvain partition is $(round(logLikelihood(H, Zlou2, Ω, ϑ),digits=3)).\")\n",
    "println(\"The log-likelihood of the singleton partition is $(round(logLikelihood(H, Zsing, Ω, ϑ),digits=3)).\")"
   ]
  },
  {
   "cell_type": "markdown",
   "metadata": {},
   "source": [
    "# Alternating Updates"
   ]
  },
  {
   "cell_type": "code",
   "execution_count": 13,
   "metadata": {},
   "outputs": [
    {
     "name": "stdout",
     "output_type": "stream",
     "text": [
      "\n",
      "Louvain Iteration 1\n",
      "Louvain Iteration 2\n",
      "Louvain Iteration 3\n",
      "Louvain Iteration 4\n",
      "The log-likelihood of the Louvain partition is -380.986.\n",
      "\n",
      "Louvain Iteration 1\n",
      "Louvain Iteration 2\n",
      "Louvain Iteration 3\n",
      "The log-likelihood of the Louvain partition is -363.522.\n",
      "\n",
      "Louvain Iteration 1\n",
      "Louvain Iteration 2\n",
      "Louvain Iteration 3\n",
      "The log-likelihood of the Louvain partition is -362.346.\n",
      "\n",
      "Louvain Iteration 1\n",
      "Louvain Iteration 2\n",
      "The log-likelihood of the Louvain partition is -371.235.\n",
      "\n",
      "Louvain Iteration 1\n",
      "Louvain Iteration 2\n",
      "Louvain Iteration 3\n",
      "The log-likelihood of the Louvain partition is -362.346.\n"
     ]
    }
   ],
   "source": [
    "# encouraging that this does indeed tend to decrease. I don't think it's required to be monotonically decreasing (need to check), so heuristically this looks ok-ish\n",
    "\n",
    "Ω̂ = buildΩ(estimateΩ(H, Z); by_size=true)\n",
    "\n",
    "Z_ = copy(Z)\n",
    "\n",
    "for i = 1:5\n",
    "    Z_ = HyperLouvain(H,kmax,Ω̂)\n",
    "    Ω̂  = buildΩ(estimateΩ(H, Z_); by_size=true)\n",
    "    println(\"The log-likelihood of the Louvain partition is $(round(logLikelihood(H, Z_, Ω̂),digits=3)).\")\n",
    "end"
   ]
  }
 ],
 "metadata": {
  "kernelspec": {
   "display_name": "Julia 1.4.2",
   "language": "julia",
   "name": "julia-1.4"
  },
  "language_info": {
   "file_extension": ".jl",
   "mimetype": "application/julia",
   "name": "julia",
   "version": "1.4.2"
  }
 },
 "nbformat": 4,
 "nbformat_minor": 4
}
