{
 "cells": [
  {
   "cell_type": "code",
   "execution_count": 1,
   "metadata": {},
   "outputs": [
    {
     "name": "stderr",
     "output_type": "stream",
     "text": [
      "\u001b[32m\u001b[1m Activating\u001b[22m\u001b[39m environment at `~/hypergraph_modularities_code/Project.toml`\n"
     ]
    }
   ],
   "source": [
    "## Generate a graph\n",
    "using StatsBase\n",
    "using Combinatorics\n",
    "\n",
    "using Pkg; Pkg.activate(\".\")\n",
    "using HypergraphModularity"
   ]
  },
  {
   "cell_type": "code",
   "execution_count": 3,
   "metadata": {},
   "outputs": [],
   "source": [
    "# parameters\n",
    "\n",
    "n = 100\n",
    "Z = rand(1:2, n)\n",
    "ϑ = dropdims(ones(1,n) + rand(1,n), dims = 1)\n",
    "\n",
    "# defining group intensity function Ω\n",
    "μ = mean(ϑ)\n",
    "\n",
    "ω(p,α) = (10 .*μ*sum(p))^(-sum(p))*prod(p.^α)^(1/(sum(p)*α))\n",
    "α0 = 1\n",
    "\n",
    "kmax = 3\n",
    "\n",
    "Ω = partitionIntensityFunction(ω, kmax);"
   ]
  },
  {
   "cell_type": "code",
   "execution_count": 4,
   "metadata": {},
   "outputs": [
    {
     "data": {
      "text/plain": [
       "hypergraph\n",
       "  N: Array{Int64}((100,)) [1, 2, 3, 4, 5, 6, 7, 8, 9, 10  …  91, 92, 93, 94, 95, 96, 97, 98, 99, 100]\n",
       "  E: Dict{Int64,Dict}\n",
       "  D: Array{Int64}((100,)) [0, 3, 0, 2, 0, 2, 4, 2, 1, 2  …  1, 1, 2, 3, 2, 1, 0, 0, 4, 1]\n"
      ]
     },
     "execution_count": 4,
     "metadata": {},
     "output_type": "execute_result"
    }
   ],
   "source": [
    "## Sample\n",
    "H = sampleSBM(Z, ϑ, Ω; α=α0, kmax=kmax, kmin = 1)"
   ]
  },
  {
   "cell_type": "code",
   "execution_count": 5,
   "metadata": {},
   "outputs": [
    {
     "name": "stdout",
     "output_type": "stream",
     "text": [
      "Louvain Iteration 1\n",
      "Louvain Iteration 2\n",
      "Louvain Iteration 3\n",
      "  3.259504 seconds (7.89 M allocations: 400.737 MiB, 9.37% gc time)\n"
     ]
    },
    {
     "data": {
      "text/plain": [
       "-754.66008409121721143233120173733630142720585354254581034183502197265625"
      ]
     },
     "execution_count": 5,
     "metadata": {},
     "output_type": "execute_result"
    }
   ],
   "source": [
    "## Run Louvains, Naive, and Faster version\n",
    "\n",
    "# @time Zlou = Naive_HyperLouvain(H,Ω;α=α0)\n",
    "@time Zlou2 = HyperLouvain(H,kmax,Ω;α=α0)\n",
    "\n",
    "# mlou = modularity(H,Zlou,Ω;α=α0)\n",
    "mlou2 = modularity(H,Zlou2,Ω;α=α0)\n",
    "\n",
    "# mlou ≈ mlou2"
   ]
  },
  {
   "cell_type": "code",
   "execution_count": 6,
   "metadata": {},
   "outputs": [
    {
     "ename": "MethodError",
     "evalue": "MethodError: no method matching modularity(::hypergraph, ::Array{Int64,1}, ::HypergraphModularity.var\"#Ω̂#76\"{HypergraphModularity.var\"#Ω̂#73#77\"{Dict{Array{Int64,1},Float64}}}; α=1)\nClosest candidates are:\n  modularity(::hypergraph, ::Array{#s58,1} where #s58<:Integer, !Matched::IntensityFunction; α, bigInt) at /home/phil/hypergraph_modularities_code/src/objectives.jl:3",
     "output_type": "error",
     "traceback": [
      "MethodError: no method matching modularity(::hypergraph, ::Array{Int64,1}, ::HypergraphModularity.var\"#Ω̂#76\"{HypergraphModularity.var\"#Ω̂#73#77\"{Dict{Array{Int64,1},Float64}}}; α=1)\nClosest candidates are:\n  modularity(::hypergraph, ::Array{#s58,1} where #s58<:Integer, !Matched::IntensityFunction; α, bigInt) at /home/phil/hypergraph_modularities_code/src/objectives.jl:3",
      "",
      "Stacktrace:",
      " [1] top-level scope at In[6]:6"
     ]
    }
   ],
   "source": [
    "Zsing = collect(1:n)\n",
    "\n",
    "Ω̂_lou2 = estimateΩEmpirically(H, Zlou2;min_val=0)\n",
    "Ω̂_sing = estimateΩEmpirically(H, Zsing; min_val=0)\n",
    "Ω̂      = estimateΩEmpirically(H, Z; min_val=0)\n",
    "\n",
    "Q_true = convert(Float64, modularity(H, Z, Ω̂;α=α0))\n",
    "Q_sing = convert(Float64, modularity(H, Zsing, Ω̂_sing;α=α0))\n",
    "Q_lou  = convert(Float64, modularity(H, Zlou2, Ω̂_lou2;α=α0))\n",
    "\n",
    "println(\"The modularity of the true partition is $(round(Q_true,digits=3)).\") # odd, not sure what's going on there\n",
    "println(\"The modularity of the Louvain partition is $(round(Q_lou,digits=3)).\")\n",
    "println(\"The modularity of the singelton partition is $(round(Q_sing,digits=3)).\")"
   ]
  },
  {
   "cell_type": "code",
   "execution_count": 8,
   "metadata": {},
   "outputs": [
    {
     "name": "stdout",
     "output_type": "stream",
     "text": [
      "The log-likelihood of the true partition is -608.464.\n",
      "The log-likelihood of the Louvain partition is -594.923.\n",
      "The log-likelihood of the singleton partition is -608.671.\n"
     ]
    }
   ],
   "source": [
    "# all with true parameters\n",
    "\n",
    "println(\"The log-likelihood of the true partition is $(round(logLikelihood(H, Z, Ω, ϑ;α=α0),digits=3)).\")\n",
    "println(\"The log-likelihood of the Louvain partition is $(round(logLikelihood(H, Zlou2, Ω, ϑ;α=α0),digits=3)).\")\n",
    "println(\"The log-likelihood of the singleton partition is $(round(logLikelihood(H, Zsing, Ω, ϑ;α=α0),digits=3)).\")"
   ]
  },
  {
   "cell_type": "markdown",
   "metadata": {},
   "source": [
    "# Alternating Updates"
   ]
  },
  {
   "cell_type": "code",
   "execution_count": 9,
   "metadata": {},
   "outputs": [
    {
     "name": "stdout",
     "output_type": "stream",
     "text": [
      "Louvain Iteration 1\n",
      "Louvain Iteration 2\n",
      "Louvain Iteration 3\n",
      "The modularity is -120308.757\n",
      "Louvain Iteration 1\n",
      "Louvain Iteration 2\n",
      "Louvain Iteration 3\n",
      "Louvain Iteration 4\n",
      "Louvain Iteration 5\n",
      "The modularity is -810.437\n",
      "Louvain Iteration 1\n",
      "Louvain Iteration 2\n",
      "Louvain Iteration 3\n",
      "Louvain Iteration 4\n",
      "Louvain Iteration 5\n",
      "Louvain Iteration 6\n",
      "Louvain Iteration 7\n",
      "The modularity is -44826.149\n",
      "Louvain Iteration 1\n",
      "No nodes moved clusters\n",
      "The modularity is -4.792187661e6\n",
      "Louvain Iteration 1\n",
      "No nodes moved clusters\n",
      "The modularity is -4.792187661e6\n"
     ]
    }
   ],
   "source": [
    "# encouraging that this does indeed tend to decrease. I don't think it's required to be monotonically decreasing (need to check), so heuristically this looks ok-ish\n",
    "# Ω̂ = buildΩ(estimateΩ(H, Z; min_val=10E-16); by_size=true)\n",
    "\n",
    "Ω̂ = Ω\n",
    "\n",
    "Z_ = copy(Z)\n",
    "\n",
    "for i = 1:5\n",
    "    Z_ = HyperLouvain(H,kmax,Ω̂;α=α0)\n",
    "    Ω̂ = estimateΩEmpirically(H, Z_;min_val=0)\n",
    "#     Ω̂  = buildΩ(estimateΩ(H, Z_; min_val=10E-16); by_size=true)\n",
    "    println(\"The modularity is $(round(Float64(modularity(H, Z_, Ω̂;α=α0)), digits = 3))\")\n",
    "#     println(\"The log-likelihood of the Louvain partition is $(round(logLikelihood(H, Z_, Ω̂),digits=3)).\")\n",
    "end"
   ]
  },
  {
   "cell_type": "code",
   "execution_count": 10,
   "metadata": {},
   "outputs": [
    {
     "data": {
      "text/plain": [
       "Dict{Array{Int64,1},Float64} with 3 entries:\n",
       "  [3]       => 1.71429\n",
       "  [1, 1, 1] => 0.0\n",
       "  [2, 1]    => 0.6875"
      ]
     },
     "execution_count": 10,
     "metadata": {},
     "output_type": "execute_result"
    }
   ],
   "source": [
    "Dict(p => Ω̂(p;α=α0) for p in partitions(3))"
   ]
  },
  {
   "cell_type": "code",
   "execution_count": null,
   "metadata": {},
   "outputs": [],
   "source": [
    "Ŝ"
   ]
  }
 ],
 "metadata": {
  "kernelspec": {
   "display_name": "Julia 1.4.2",
   "language": "julia",
   "name": "julia-1.4"
  },
  "language_info": {
   "file_extension": ".jl",
   "mimetype": "application/julia",
   "name": "julia",
   "version": "1.4.2"
  }
 },
 "nbformat": 4,
 "nbformat_minor": 4
}
