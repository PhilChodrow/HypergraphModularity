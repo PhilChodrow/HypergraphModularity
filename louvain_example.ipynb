{
 "cells": [
  {
   "cell_type": "code",
   "execution_count": 53,
   "metadata": {},
   "outputs": [
    {
     "data": {
      "text/plain": [
       "Ω (generic function with 1 method)"
      ]
     },
     "execution_count": 53,
     "metadata": {},
     "output_type": "execute_result"
    }
   ],
   "source": [
    "## Generate a graph\n",
    "using StatsBase\n",
    "using Combinatorics\n",
    "\n",
    "include(\"jl/omega.jl\")\n",
    "include(\"jl/HSBM.jl\")\n",
    "\n",
    "# parameters\n",
    "\n",
    "n = 50\n",
    "Z = rand(1:5, n)\n",
    "ϑ = dropdims(ones(1,n) + rand(1,n), dims = 1)\n",
    "\n",
    "# defining group intensity function Ω\n",
    "μ = mean(ϑ)\n",
    "\n",
    "kmax = 4\n",
    "kmin = 1\n",
    "\n",
    "fk = k->(2 .*μ*k)^(-k)\n",
    "fp = x->harmonicMean(x)^3\n",
    "\n",
    "Ω_dict = Dict{Vector{Int64}, Float64}()\n",
    "\n",
    "for k = kmin:kmax, p in partitions(k)\n",
    "    Ω_dict[p] = fk(sum(p))*fp(p)/100\n",
    "end\n",
    "\n",
    "for p in keys(Ω_dict)\n",
    "    if sum(p) == 1\n",
    "        Ω_dict[p] = 0\n",
    "    end\n",
    "end\n",
    "\n",
    "Ω = buildΩ(Ω_dict; by_size=true)"
   ]
  },
  {
   "cell_type": "code",
   "execution_count": 54,
   "metadata": {},
   "outputs": [
    {
     "data": {
      "text/plain": [
       "hypergraph\n",
       "  N: Array{Int64}((50,)) [1, 2, 3, 4, 5, 6, 7, 8, 9, 10  …  41, 42, 43, 44, 45, 46, 47, 48, 49, 50]\n",
       "  E: Dict{Integer,Dict}\n",
       "  D: Array{Integer}((50,)) Integer[2, 2, 0, 5, 0, 2, 1, 0, 2, 1  …  6, 1, 6, 4, 1, 1, 3, 2, 3, 4]\n"
      ]
     },
     "execution_count": 54,
     "metadata": {},
     "output_type": "execute_result"
    }
   ],
   "source": [
    "## Sample\n",
    "H = sampleSBM(Z, ϑ, Ω; kmax=kmax, kmin = kmin)"
   ]
  },
  {
   "cell_type": "code",
   "execution_count": 55,
   "metadata": {},
   "outputs": [
    {
     "name": "stdout",
     "output_type": "stream",
     "text": [
      "\n",
      "Louvain Iteration 1\n",
      "Louvain Iteration 2\n",
      "Louvain Iteration 3\n",
      "  5.125278 seconds (22.10 M allocations: 1.147 GiB, 17.31% gc time)\n",
      "\n",
      "Louvain Iteration 1\n",
      "Louvain Iteration 2\n",
      "Louvain Iteration 3\n",
      "  1.138947 seconds (2.48 M allocations: 101.197 MiB, 2.99% gc time)\n"
     ]
    },
    {
     "data": {
      "text/plain": [
       "true"
      ]
     },
     "execution_count": 55,
     "metadata": {},
     "output_type": "execute_result"
    }
   ],
   "source": [
    "## Run Louvains, Naive, and Faster version\n",
    "include(\"jl/hypergraph_louvain.jl\")\n",
    "\n",
    "@time Zlou = Naive_HyperLouvain(H,Ω)\n",
    "@time Zlou2 = HyperLouvain(H,kmax,Ω)\n",
    "\n",
    "mlou = modularity(H,Zlou,Ω)\n",
    "mlou2 = modularity(H,Zlou2,Ω)\n",
    "\n",
    "mlou ≈ mlou2"
   ]
  },
  {
   "cell_type": "code",
   "execution_count": 56,
   "metadata": {},
   "outputs": [
    {
     "data": {
      "text/plain": [
       "(::var\"#Ω#731\"{var\"#Ω#730#732\"{Dict{Int64,Dict{Array{Int64,1},Float64}}}}) (generic function with 1 method)"
      ]
     },
     "execution_count": 56,
     "metadata": {},
     "output_type": "execute_result"
    }
   ],
   "source": [
    "include(\"jl/inference.jl\")\n",
    "\n",
    "ω̂_lou2 = estimateΩ(H, Zlou2)\n",
    "Ω̂_lou2 = buildΩ(ω̂_lou2; by_size=true)\n",
    "\n",
    "ω̂_sing = estimateΩ(H, Zsing)\n",
    "Ω̂_sing = buildΩ(ω̂_sing; by_size=true)\n",
    "\n",
    "ω̂ = estimateΩ(H, Z)\n",
    "Ω̂ = buildΩ(ω̂; by_size=true)"
   ]
  },
  {
   "cell_type": "code",
   "execution_count": 57,
   "metadata": {},
   "outputs": [
    {
     "name": "stdout",
     "output_type": "stream",
     "text": [
      "The modularity of the true partition is -595.683.\n",
      "The modularity of the Louvain partition is -574.891.\n",
      "The modularity of the singelton partition is -598.093.\n"
     ]
    }
   ],
   "source": [
    "# Also compare modularity scores against the ground truth community,\n",
    "# and all singleton clusters\n",
    "# Strange that trivially putting all nodes in one cluster does better than the ground truth...\n",
    "# Am I missing something?\n",
    "\n",
    "Zsing = collect(1:n)\n",
    "\n",
    "Q_true = convert(Float64, modularity(H, Z, Ω̂))\n",
    "Q_sing = convert(Float64, modularity(H, Zsing, Ω̂_sing))\n",
    "Q_lou  = convert(Float64, modularity(H, Zlou2, Ω̂_lou2))\n",
    "\n",
    "println(\"The modularity of the true partition is $(round(Q_true,digits=3)).\")\n",
    "println(\"The modularity of the Louvain partition is $(round(Q_lou,digits=3)).\")\n",
    "println(\"The modularity of the singelton partition is $(round(Q_sing,digits=3)).\")"
   ]
  },
  {
   "cell_type": "code",
   "execution_count": 58,
   "metadata": {},
   "outputs": [
    {
     "name": "stdout",
     "output_type": "stream",
     "text": [
      "The log-likelihood of the true partition is -362.563.\n",
      "The log-likelihood of the Louvain partition is -356.375.\n",
      "The log-likelihood of the singleton partition is -365.666.\n"
     ]
    }
   ],
   "source": [
    "println(\"The log-likelihood of the true partition is $(round(logLikelihood(H, Z, Ω, ϑ),digits=3)).\")\n",
    "println(\"The log-likelihood of the Louvain partition is $(round(logLikelihood(H, Zlou2, Ω, ϑ),digits=3)).\")\n",
    "println(\"The log-likelihood of the singleton partition is $(round(logLikelihood(H, Zsing, Ω, ϑ),digits=3)).\")"
   ]
  }
 ],
 "metadata": {
  "kernelspec": {
   "display_name": "Julia 1.4.1",
   "language": "julia",
   "name": "julia-1.4"
  },
  "language_info": {
   "file_extension": ".jl",
   "mimetype": "application/julia",
   "name": "julia",
   "version": "1.4.1"
  }
 },
 "nbformat": 4,
 "nbformat_minor": 4
}
