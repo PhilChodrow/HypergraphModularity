{
 "cells": [
  {
   "cell_type": "code",
   "execution_count": 15,
   "metadata": {},
   "outputs": [],
   "source": [
    "## Generate a graph\n",
    "using StatsBase\n",
    "using Combinatorics\n",
    "\n",
    "include(\"jl/omega.jl\")\n",
    "include(\"jl/HSBM.jl\")\n",
    "include(\"jl/hypergraph_louvain.jl\")\n",
    "include(\"jl/inference.jl\");"
   ]
  },
  {
   "cell_type": "code",
   "execution_count": 53,
   "metadata": {},
   "outputs": [
    {
     "data": {
      "text/plain": [
       "Ω (generic function with 1 method)"
      ]
     },
     "execution_count": 53,
     "metadata": {},
     "output_type": "execute_result"
    }
   ],
   "source": [
    "# parameters\n",
    "\n",
    "n = 100\n",
    "Z = rand(1:2, n)\n",
    "ϑ = dropdims(ones(1,n) + rand(1,n), dims = 1)\n",
    "\n",
    "# defining group intensity function Ω\n",
    "μ = mean(ϑ)\n",
    "\n",
    "ω(p,α) = (10 .*μ*sum(p))^(-sum(p))*prod(p.^α)^(1/(sum(p)*α))\n",
    "α0 = 1\n",
    "\n",
    "kmax = 3\n",
    "\n",
    "Ω = buildΩ(ω, α0, kmax)"
   ]
  },
  {
   "cell_type": "code",
   "execution_count": 54,
   "metadata": {},
   "outputs": [
    {
     "data": {
      "text/plain": [
       "hypergraph\n",
       "  N: Array{Int64}((100,)) [1, 2, 3, 4, 5, 6, 7, 8, 9, 10  …  91, 92, 93, 94, 95, 96, 97, 98, 99, 100]\n",
       "  E: Dict{Int64,Dict}\n",
       "  D: Array{Int64}((100,)) [2, 2, 1, 3, 0, 7, 2, 1, 2, 1  …  1, 4, 0, 3, 0, 2, 3, 2, 0, 1]\n"
      ]
     },
     "execution_count": 54,
     "metadata": {},
     "output_type": "execute_result"
    }
   ],
   "source": [
    "## Sample\n",
    "H = sampleSBM(Z, ϑ, Ω; α=α0, kmax=kmax, kmin = 1)"
   ]
  },
  {
   "cell_type": "code",
   "execution_count": 58,
   "metadata": {},
   "outputs": [
    {
     "name": "stdout",
     "output_type": "stream",
     "text": [
      "\n",
      "Louvain Iteration 1\n",
      "Louvain Iteration 2\n",
      "Louvain Iteration 3\n",
      "Louvain Iteration 4\n",
      "  7.168400 seconds (54.91 M allocations: 1.460 GiB, 28.98% gc time)\n",
      "\n",
      "Louvain Iteration 1\n",
      "Louvain Iteration 2\n",
      "Louvain Iteration 3\n",
      "Louvain Iteration 4\n",
      "  0.062222 seconds (509.63 k allocations: 22.620 MiB)\n"
     ]
    },
    {
     "data": {
      "text/plain": [
       "false"
      ]
     },
     "execution_count": 58,
     "metadata": {},
     "output_type": "execute_result"
    }
   ],
   "source": [
    "## Run Louvains, Naive, and Faster version\n",
    "\n",
    "@time Zlou = Naive_HyperLouvain(H,Ω;α=α0)\n",
    "@time Zlou2 = HyperLouvain(H,kmax,Ω;α=α0)\n",
    "\n",
    "mlou = modularity(H,Zlou,Ω;α=α0)\n",
    "mlou2 = modularity(H,Zlou2,Ω;α=α0)\n",
    "\n",
    "mlou ≈ mlou2"
   ]
  },
  {
   "cell_type": "code",
   "execution_count": 59,
   "metadata": {},
   "outputs": [
    {
     "name": "stdout",
     "output_type": "stream",
     "text": [
      "The modularity of the true partition is NaN.\n",
      "The modularity of the Louvain partition is -673.24.\n",
      "The modularity of the singelton partition is -788.992.\n"
     ]
    }
   ],
   "source": [
    "Zsing = collect(1:n)\n",
    "\n",
    "Ω̂_lou2 = estimateΩEmpirically(H, Zlou2;min_val=0)\n",
    "Ω̂_sing = estimateΩEmpirically(H, Zsing; min_val=0)\n",
    "Ω̂      = estimateΩEmpirically(H, Z; min_val=0)\n",
    "\n",
    "Q_true = convert(Float64, modularity(H, Z, Ω̂;α=α0))\n",
    "Q_sing = convert(Float64, modularity(H, Zsing, Ω̂_sing;α=α0))\n",
    "Q_lou  = convert(Float64, modularity(H, Zlou2, Ω̂_lou2;α=α0))\n",
    "\n",
    "println(\"The modularity of the true partition is $(round(Q_true,digits=3)).\") # odd, not sure what's going on there\n",
    "println(\"The modularity of the Louvain partition is $(round(Q_lou,digits=3)).\")\n",
    "println(\"The modularity of the singelton partition is $(round(Q_sing,digits=3)).\")"
   ]
  },
  {
   "cell_type": "code",
   "execution_count": 60,
   "metadata": {},
   "outputs": [
    {
     "name": "stdout",
     "output_type": "stream",
     "text": [
      "The log-likelihood of the true partition is -582.344.\n",
      "The log-likelihood of the Louvain partition is -566.114.\n",
      "The log-likelihood of the singleton partition is -581.201.\n"
     ]
    }
   ],
   "source": [
    "# all with true parameters\n",
    "\n",
    "println(\"The log-likelihood of the true partition is $(round(logLikelihood(H, Z, Ω, ϑ;α=α0),digits=3)).\")\n",
    "println(\"The log-likelihood of the Louvain partition is $(round(logLikelihood(H, Zlou2, Ω, ϑ;α=α0),digits=3)).\")\n",
    "println(\"The log-likelihood of the singleton partition is $(round(logLikelihood(H, Zsing, Ω, ϑ;α=α0),digits=3)).\")"
   ]
  },
  {
   "cell_type": "markdown",
   "metadata": {},
   "source": [
    "# Alternating Updates"
   ]
  },
  {
   "cell_type": "code",
   "execution_count": 61,
   "metadata": {},
   "outputs": [
    {
     "name": "stdout",
     "output_type": "stream",
     "text": [
      "\n",
      "Louvain Iteration 1\n",
      "Louvain Iteration 2\n",
      "Louvain Iteration 3\n",
      "Louvain Iteration 4\n",
      "The modularity is -673.24\n",
      "\n",
      "Louvain Iteration 1\n",
      "Louvain Iteration 2\n",
      "Louvain Iteration 3\n",
      "Louvain Iteration 4\n",
      "The modularity is -672.564\n",
      "\n",
      "Louvain Iteration 1\n",
      "Louvain Iteration 2\n",
      "Louvain Iteration 3\n",
      "Louvain Iteration 4\n",
      "The modularity is -670.651\n",
      "\n",
      "Louvain Iteration 1\n",
      "Louvain Iteration 2\n",
      "Louvain Iteration 3\n",
      "Louvain Iteration 4\n",
      "The modularity is -670.651\n",
      "\n",
      "Louvain Iteration 1\n",
      "Louvain Iteration 2\n",
      "Louvain Iteration 3\n",
      "Louvain Iteration 4\n",
      "The modularity is -670.651\n"
     ]
    }
   ],
   "source": [
    "# encouraging that this does indeed tend to decrease. I don't think it's required to be monotonically decreasing (need to check), so heuristically this looks ok-ish\n",
    "# Ω̂ = buildΩ(estimateΩ(H, Z; min_val=10E-16); by_size=true)\n",
    "\n",
    "Ω̂ = Ω\n",
    "\n",
    "Z_ = copy(Z)\n",
    "\n",
    "for i = 1:5\n",
    "    Z_ = HyperLouvain(H,kmax,Ω̂;α=α0)\n",
    "    Ω̂ = estimateΩEmpirically(H, Z_;min_val=0)\n",
    "#     Ω̂  = buildΩ(estimateΩ(H, Z_; min_val=10E-16); by_size=true)\n",
    "    println(\"The modularity is $(round(Float64(modularity(H, Z_, Ω̂;α=α0)), digits = 3))\")\n",
    "#     println(\"The log-likelihood of the Louvain partition is $(round(logLikelihood(H, Z_, Ω̂),digits=3)).\")\n",
    "end"
   ]
  },
  {
   "cell_type": "code",
   "execution_count": 62,
   "metadata": {},
   "outputs": [
    {
     "data": {
      "text/plain": [
       "Dict{Array{Int64,1},Float64} with 3 entries:\n",
       "  [3]       => 0.0324324\n",
       "  [1, 1, 1] => 0.000173898\n",
       "  [2, 1]    => 9.13687e-5"
      ]
     },
     "execution_count": 62,
     "metadata": {},
     "output_type": "execute_result"
    }
   ],
   "source": [
    "Dict(p => Ω̂(p;α=α0) for p in partitions(3))"
   ]
  }
 ],
 "metadata": {
  "kernelspec": {
   "display_name": "Julia 1.4.2",
   "language": "julia",
   "name": "julia-1.4"
  },
  "language_info": {
   "file_extension": ".jl",
   "mimetype": "application/julia",
   "name": "julia",
   "version": "1.4.2"
  }
 },
 "nbformat": 4,
 "nbformat_minor": 4
}
