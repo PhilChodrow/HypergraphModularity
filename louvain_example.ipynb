{
 "cells": [
  {
   "cell_type": "code",
   "execution_count": 30,
   "metadata": {},
   "outputs": [
    {
     "data": {
      "text/plain": [
       "Ω (generic function with 1 method)"
      ]
     },
     "execution_count": 30,
     "metadata": {},
     "output_type": "execute_result"
    }
   ],
   "source": [
    "## Generate a graph\n",
    "using StatsBase\n",
    "using Combinatorics\n",
    "\n",
    "include(\"jl/omega.jl\")\n",
    "include(\"jl/HSBM.jl\")\n",
    "\n",
    "# parameters\n",
    "\n",
    "n = 30\n",
    "Z = rand(1:5, n)\n",
    "ϑ = dropdims(ones(1,n) + rand(1,n), dims = 1)\n",
    "\n",
    "# defining group intensity function Ω\n",
    "μ = mean(ϑ)\n",
    "\n",
    "kmax = 4\n",
    "kmin = 1\n",
    "\n",
    "fk = k->(2 .*μ*k)^(-k)\n",
    "fp = harmonicMean\n",
    "\n",
    "Ω_dict = Dict{Array{Int64, 1}, Float64}()\n",
    "\n",
    "for k = kmin:kmax, p in partitions(k)\n",
    "    Ω_dict[p] = fk(sum(p))*fp(p)/10\n",
    "end\n",
    "\n",
    "Ω = buildΩ(Ω_dict; by_size=true)"
   ]
  },
  {
   "cell_type": "code",
   "execution_count": 32,
   "metadata": {},
   "outputs": [
    {
     "data": {
      "text/plain": [
       "hypergraph\n",
       "  E: Dict{Integer,Dict}\n",
       "  D: Array{Integer}((30,)) Integer[9, 4, 2, 4, 6, 1, 5, 3, 3, 4  …  7, 6, 4, 6, 3, 3, 4, 2, 1, 5]\n"
      ]
     },
     "execution_count": 32,
     "metadata": {},
     "output_type": "execute_result"
    }
   ],
   "source": [
    "## Sample\n",
    "H = sampleSBM(Z, ϑ, Ω; kmax=kmax, kmin = kmin)"
   ]
  },
  {
   "cell_type": "code",
   "execution_count": 33,
   "metadata": {},
   "outputs": [
    {
     "name": "stdout",
     "output_type": "stream",
     "text": [
      "\n",
      "Louvain Iteration 1\n",
      "Louvain Iteration 2\n",
      "  1.780899 seconds (7.33 M allocations: 584.272 MiB, 12.07% gc time)\n",
      "\n",
      "Took 7.700920104980469e-5 seconds to convert to different hypergraph formats\n",
      "Louvain Iteration 1\n",
      "Louvain Iteration 2\n",
      "  1.093634 seconds (5.54 M allocations: 481.650 MiB, 18.19% gc time)\n"
     ]
    },
    {
     "data": {
      "text/plain": [
       "true"
      ]
     },
     "execution_count": 33,
     "metadata": {},
     "output_type": "execute_result"
    }
   ],
   "source": [
    "## Run Louvains, Naive, and Faster version\n",
    "include(\"jl/hypergraph_louvain.jl\")\n",
    "\n",
    "@time Zlou = Naive_HyperLouvain(H,Ω)\n",
    "@time Zlou2 = HyperLouvain(H,kmax,Ω)\n",
    "\n",
    "mlou = modularity(H,Zlou,Ω)\n",
    "mlou2 = modularity(H,Zlou2,Ω)\n",
    "\n",
    "mlou ≈ mlou2"
   ]
  },
  {
   "cell_type": "code",
   "execution_count": 35,
   "metadata": {},
   "outputs": [
    {
     "name": "stdout",
     "output_type": "stream",
     "text": [
      "-1586.730331297104655748610860309215364605250897511723451316356658935546875\n",
      " -1741.071008800072559990926727492045744671855800334014929831027984619140625\n",
      " -1586.629202430686990335236580154480712234743577937479130923748016357421875\n"
     ]
    }
   ],
   "source": [
    "# Also compare modularity scores against the ground truth community,\n",
    "# and all singleton clusters\n",
    "# Strange that trivially putting all nodes in one cluster does better than the ground truth...\n",
    "# Am I missing something?\n",
    "Zsing = collect(1:n)\n",
    "msing = modularity(H,Zsing,Ω)\n",
    "mtrue = modularity(H,Z,Ω)\n",
    "\n",
    "\n",
    "println(\"$msing\\n $mtrue\\n $mlou\")"
   ]
  },
  {
   "cell_type": "code",
   "execution_count": null,
   "metadata": {},
   "outputs": [],
   "source": []
  }
 ],
 "metadata": {
  "kernelspec": {
   "display_name": "Julia 1.3.1",
   "language": "julia",
   "name": "julia-1.3"
  },
  "language_info": {
   "file_extension": ".jl",
   "mimetype": "application/julia",
   "name": "julia",
   "version": "1.3.1"
  }
 },
 "nbformat": 4,
 "nbformat_minor": 4
}
