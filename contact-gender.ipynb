{
 "cells": [
  {
   "cell_type": "code",
   "execution_count": 1,
   "metadata": {},
   "outputs": [
    {
     "name": "stderr",
     "output_type": "stream",
     "text": [
      "\u001b[32m\u001b[1m Activating\u001b[22m\u001b[39m environment at `~/codes/hypergraph_modularities_code/Project.toml`\n"
     ]
    }
   ],
   "source": [
    "using Pkg; Pkg.activate(\".\")\n",
    "using HypergraphModularity\n",
    "\n",
    "using Random\n",
    "using StatsBase"
   ]
  },
  {
   "cell_type": "code",
   "execution_count": 2,
   "metadata": {},
   "outputs": [
    {
     "data": {
      "text/plain": [
       "MLE_ll (generic function with 1 method)"
      ]
     },
     "execution_count": 2,
     "metadata": {},
     "output_type": "execute_result"
    }
   ],
   "source": [
    "identity(p::Vector{Int64}) = p\n",
    "\n",
    "function sum_of_ext_degs(p::Vector{Int64})\n",
    "    soed = length(p) - 1\n",
    "    return (sum(p), soed)\n",
    "end\n",
    "\n",
    "function all_or_nothing(p::Vector{Int64})\n",
    "    is_aon = length(p) == 1\n",
    "    return (sum(p), is_aon)\n",
    "end\n",
    "\n",
    "function rainbow(p::Vector{Int64})\n",
    "    is_rainbow = length(p) == sum(p) && length(p) > 1\n",
    "    return (sum(p), is_rainbow)\n",
    "end\n",
    "\n",
    "\n",
    "function MLE_ll(Hyp, Z, agg)\n",
    "    Ω̂ = estimateΩEmpirically(Hyp, Z; min_val=0, aggregator=agg)\n",
    "    return Float64(sum(L(Hyp, Z, Ω̂; α=0, bigInt=true)))    \n",
    "end"
   ]
  },
  {
   "cell_type": "code",
   "execution_count": 3,
   "metadata": {},
   "outputs": [
    {
     "data": {
      "text/plain": [
       "sub_hypergraph (generic function with 1 method)"
      ]
     },
     "execution_count": 3,
     "metadata": {},
     "output_type": "execute_result"
    }
   ],
   "source": [
    "function sub_hypergraph(h::hypergraph, labels, in_subset::Vector{Bool})\n",
    "    # Get new set of edges\n",
    "    new_edges = []\n",
    "    for (sz, edges) in h.E\n",
    "        for (edge, val) in edges\n",
    "            new_edge = filter(v -> in_subset[v], edge)\n",
    "            if length(new_edge) > 1\n",
    "               push!(new_edges, new_edge)\n",
    "            end\n",
    "        end\n",
    "    end\n",
    "    \n",
    "    # renumbering\n",
    "    node_map = Dict{Int64,Int64}()\n",
    "    for (i, val) in enumerate(in_subset)\n",
    "        if val\n",
    "            node_map[i] = length(node_map) + 1\n",
    "        end\n",
    "    end\n",
    "    \n",
    "    renumber_edge(e) = [node_map[v] for v in e]\n",
    "    renumbered_new_edges = [renumber_edge(e) for e in new_edges]\n",
    "    \n",
    "    subE = Dict{Integer, Dict}()\n",
    "    for edge in renumbered_new_edges\n",
    "        sz = length(edge)\n",
    "        if !haskey(subE, sz)\n",
    "            subE[sz] = Dict{}()\n",
    "        end\n",
    "        subE[sz][edge] = 1\n",
    "    end\n",
    "    \n",
    "    n = length(node_map)\n",
    "    subD = zeros(Int64, n)\n",
    "    for (sz, edges) in subE\n",
    "        for (e, _) in edges\n",
    "            subD[e] .+= 1\n",
    "        end\n",
    "    end\n",
    "    \n",
    "    return hypergraph(1:n, subE, subD), labels[in_subset], node_map\n",
    "end"
   ]
  },
  {
   "cell_type": "code",
   "execution_count": 4,
   "metadata": {},
   "outputs": [
    {
     "data": {
      "text/plain": [
       "merge_gender_labels (generic function with 1 method)"
      ]
     },
     "execution_count": 4,
     "metadata": {},
     "output_type": "execute_result"
    }
   ],
   "source": [
    "# merged labels\n",
    "function merge_gender_labels()\n",
    "    merge_names = String[]\n",
    "    merge_labels = Int64[]\n",
    "    split_names = [split(name) for name in names]\n",
    "    for label in labels\n",
    "        merge_name = split_names[label][1]\n",
    "        if !(merge_name in merge_names)\n",
    "           push!(merge_names, merge_name) \n",
    "        end\n",
    "        ind = findall(merge_names .== merge_name)[1]\n",
    "        push!(merge_labels, ind)\n",
    "    end\n",
    "    return merge_names, merge_labels\n",
    "end"
   ]
  },
  {
   "cell_type": "code",
   "execution_count": 5,
   "metadata": {},
   "outputs": [
    {
     "data": {
      "text/plain": [
       "24-element Array{String,1}:\n",
       " \"5B M\"\n",
       " \"5B F\"\n",
       " \"5A F\"\n",
       " \"5A M\"\n",
       " \"4A M\"\n",
       " \"4A F\"\n",
       " \"Teachers Unknown\"\n",
       " \"3B M\"\n",
       " \"3B F\"\n",
       " \"4B F\"\n",
       " \"2A F\"\n",
       " \"2A M\"\n",
       " \"4A Unknown\"\n",
       " \"4B M\"\n",
       " \"5A Unknown\"\n",
       " \"1B M\"\n",
       " \"1B F\"\n",
       " \"2B F\"\n",
       " \"2B M\"\n",
       " \"1A F\"\n",
       " \"3A M\"\n",
       " \"3A F\"\n",
       " \"1A M\"\n",
       " \"1A Unknown\""
      ]
     },
     "execution_count": 5,
     "metadata": {},
     "output_type": "execute_result"
    }
   ],
   "source": []
  },
  {
   "cell_type": "code",
   "execution_count": 8,
   "metadata": {},
   "outputs": [
    {
     "name": "stdout",
     "output_type": "stream",
     "text": [
      "dataset = primary-school\n",
      "MLE (with genders): -470152.1789186721\n",
      "MLE (just classes): -54676.65251816025\n",
      "\n",
      "dataset = high-school\n",
      "MLE (with genders): -92326.53363478063\n",
      "MLE (just classes): -27550.859421192486\n",
      "\n"
     ]
    }
   ],
   "source": [
    "for dataset in [\"primary-school\", \"high-school\"]\n",
    "    H, labels = read_hypergraph_data(\"contact-$dataset-classes-gender\", 10)\n",
    "    names = read_hypergraph_label_names(\"contact-$dataset-classes-gender\")\n",
    "\n",
    "    # Throw out data where gender is unknown\n",
    "    keep = ones(Bool, length(labels))\n",
    "    for (i, label) in enumerate(labels)\n",
    "        keep[i] = !occursin(\"Unknown\", names[label])\n",
    "    end\n",
    "\n",
    "    merge_names, merge_labels = merge_gender_labels()\n",
    "\n",
    "    subH, sublabels1, _ = sub_hypergraph(H, labels, keep)\n",
    "    _, sublabels2, _ = sub_hypergraph(H, merge_labels, keep)\n",
    "    \n",
    "    println(\"dataset = \", dataset)\n",
    "    println(\"MLE (with genders): \", MLE_ll(subH, sublabels1, all_or_nothing))\n",
    "    println(\"MLE (just classes): \", MLE_ll(subH, sublabels2, all_or_nothing))\n",
    "    \n",
    "    println(\"\")\n",
    "end"
   ]
  },
  {
   "cell_type": "code",
   "execution_count": null,
   "metadata": {},
   "outputs": [],
   "source": [
    "# out of date?\n",
    "\n",
    "function dyadic_MLE_ll(Hyp, Z, weighted::Bool)\n",
    "    ω_in, ω_out = \n",
    "        computeDyadicResolutionParameter(H, Z; mode=\"ω\", weighted=weighted)\n",
    "    return Float64(dyadicLogLikelihood(H, Z, ω_in, ω_out, weighted=weighted))\n",
    "end\n",
    "dyadic_MLE_ll(subH, sublabels1, true)"
   ]
  }
 ],
 "metadata": {
  "@webio": {
   "lastCommId": null,
   "lastKernelId": null
  },
  "kernelspec": {
   "display_name": "Julia 1.4.0",
   "language": "julia",
   "name": "julia-1.4"
  },
  "language_info": {
   "file_extension": ".jl",
   "mimetype": "application/julia",
   "name": "julia",
   "version": "1.4.0"
  }
 },
 "nbformat": 4,
 "nbformat_minor": 2
}
