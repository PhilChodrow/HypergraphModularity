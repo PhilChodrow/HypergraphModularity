{
 "cells": [
  {
   "cell_type": "markdown",
   "metadata": {},
   "source": [
    "Data from this paper: \n",
    "\n",
    "https://linqs.soe.ucsc.edu/data"
   ]
  },
  {
   "cell_type": "code",
   "execution_count": 7,
   "metadata": {},
   "outputs": [
    {
     "name": "stderr",
     "output_type": "stream",
     "text": [
      "\u001b[32m\u001b[1m Activating\u001b[22m\u001b[39m environment at `~/hypergraph_modularities_code/Project.toml`\n"
     ]
    }
   ],
   "source": [
    "using Pkg; Pkg.activate(\".\")\n",
    "using HypergraphModularity\n",
    "\n",
    "using DelimitedFiles\n",
    "using Clustering"
   ]
  },
  {
   "cell_type": "code",
   "execution_count": 2,
   "metadata": {},
   "outputs": [
    {
     "data": {
      "text/plain": [
       "read_cora (generic function with 2 methods)"
      ]
     },
     "execution_count": 2,
     "metadata": {},
     "output_type": "execute_result"
    }
   ],
   "source": [
    "function read_cora(kmax = 50)\n",
    "    \n",
    "    recode = Dict(\n",
    "         \"Neural_Networks\"        => 1,\n",
    "         \"Rule_Learning\"          => 2,\n",
    "         \"Reinforcement_Learning\" => 3,\n",
    "         \"Probabilistic_Methods\"  => 4,\n",
    "         \"Theory\"                 => 5,\n",
    "         \"Genetic_Algorithms\"     => 6,\n",
    "         \"Case_Based\"             => 7,\n",
    "    )\n",
    "    \n",
    "    Z = []\n",
    "    E = Dict{Int64, Dict{Array{Int64}, Int64}}()\n",
    "    H = nothing\n",
    "    \n",
    "    E_L = [[] for i in 1:1433]\n",
    "    \n",
    "    i = 1\n",
    "    open(\"data/cora/cora.content\") do file\n",
    "        for ln in eachline(file)\n",
    "            S = split(ln, \"\\t\")\n",
    "            push!(Z, S[end]) # add category to Z\n",
    "\n",
    "            # eliminate first id \n",
    "            # and label\n",
    "            S = S[2:(end-1)]\n",
    "\n",
    "            # get words \n",
    "            words = findall(x -> (x ≈ 1.0), parse.(Int64, S))\n",
    "            \n",
    "            for w in words\n",
    "                push!(E_L[w], i)\n",
    "            end\n",
    "            \n",
    "            i += 1\n",
    "        end\n",
    "    \n",
    "        for e in E_L\n",
    "            if length(e) > 0\n",
    "                sort!(e)\n",
    "                k = length(e)\n",
    "                if !(k ∈ keys(E))\n",
    "                    E[k] = Dict(e => 1)\n",
    "                else\n",
    "                    E[k][e] = get(E[k], e, 0) + 1\n",
    "                end\n",
    "            end\n",
    "        end\n",
    "        \n",
    "        KMAX = maximum(keys(E))\n",
    "        n = maximum([maximum(key) for k in keys(E) for key in keys(E[k])])\n",
    "        for k ∈ 2:KMAX\n",
    "            if !(k ∈ keys(E))\n",
    "                E[k] = Dict()\n",
    "            end\n",
    "        end\n",
    "        \n",
    "        \n",
    "        for k in keys(E)\n",
    "            if k > kmax\n",
    "                delete!(E, k)\n",
    "            end\n",
    "        end\n",
    "        \n",
    "        N = 1:n\n",
    "        H = HypergraphModularity.hypergraph(N, E, zero(N))\n",
    "        HypergraphModularity.computeDegrees!(H);\n",
    "        \n",
    "    end\n",
    "    Z = [recode[z] for z in Z]\n",
    "    \n",
    "    return H, Z\n",
    "#     return E\n",
    "end"
   ]
  },
  {
   "cell_type": "code",
   "execution_count": 29,
   "metadata": {},
   "outputs": [
    {
     "data": {
      "text/plain": [
       "2708"
      ]
     },
     "execution_count": 29,
     "metadata": {},
     "output_type": "execute_result"
    }
   ],
   "source": [
    "kmax = 10\n",
    "H, Z = read_cora(kmax);\n",
    "n = length(H.D)"
   ]
  },
  {
   "cell_type": "code",
   "execution_count": 4,
   "metadata": {},
   "outputs": [
    {
     "name": "stdout",
     "output_type": "stream",
     "text": [
      "-27531.0\n"
     ]
    }
   ],
   "source": [
    "# all or nothing\n",
    "Ω = estimateΩEmpirically(H, Z; aggregator = p -> [length(p) == 1, sum(p)], bigNums = true);\n",
    "Q_H = modularity(H, Z, Ω; α = nothing);\n",
    "println(round(Q_H))\n",
    "\n",
    "# # number of groups\n",
    "# Ω = estimateΩEmpirically(H, Z; aggregator = p -> [length(p) == 1, sum(p)], bigNums = true);\n",
    "# Q_H = modularity(H, Z, Ω; α = nothing);\n",
    "# println(round(Q_H))\n",
    "\n",
    "\n",
    "# smoothed parameterization\n",
    "# α0 = vcat(repeat([0.0], kmax), 1:kmax)\n",
    "\n",
    "# function ω(p, α)\n",
    "#     k = sum(p)\n",
    "#     return sum(p)/sum((p .* (1:length(p)).^α[k])) / n^(α[kmax+k]*k)\n",
    "# end\n",
    "# Ω = partitionIntensityFunction(ω, kmax);\n",
    "\n",
    "# # warmstart\n",
    "# α = learnParameters(H, Z, Ω, α0; n_iters = 10, amin = -10, amax = 20)\n",
    "\n",
    "# Q_H = modularity(H, Z, Ω; α = α)\n",
    "\n",
    "# println(round(Q_H))"
   ]
  },
  {
   "cell_type": "code",
   "execution_count": 42,
   "metadata": {},
   "outputs": [
    {
     "data": {
      "text/plain": [
       "(hypergraph\n",
       "  N: Array{Int64}((0,)) Int64[]\n",
       "  E: Dict{Int64,Dict}\n",
       "  D: Array{Int64}((0,)) Int64[]\n",
       ", Int64[])"
      ]
     },
     "execution_count": 42,
     "metadata": {},
     "output_type": "execute_result"
    }
   ],
   "source": [
    "H, Z = kcore(H, Z, 2)"
   ]
  },
  {
   "cell_type": "code",
   "execution_count": 40,
   "metadata": {},
   "outputs": [
    {
     "data": {
      "text/plain": [
       "polyadicExperiment (generic function with 2 methods)"
      ]
     },
     "execution_count": 40,
     "metadata": {},
     "output_type": "execute_result"
    }
   ],
   "source": [
    "function evalPartition(H, Ẑ, Z; weighted = false)\n",
    "    \"\"\"\n",
    "    evaluate the dyadic modularity, dyadic log likelihood, \n",
    "    and polyadic modularity for \n",
    "    \"\"\"\n",
    "    # dyadic parameters\n",
    "    γ = computeDyadicResolutionParameter(H, Ẑ)\n",
    "    ωᵢ, ωₒ = computeDyadicResolutionParameter(H, Ẑ; mode=\"ω\", weighted=weighted)\n",
    "    \n",
    "    # dyadic measures\n",
    "    Q_D = dyadicModularity(H, Ẑ, γ; weighted=weighted)\n",
    "    L_D = dyadicLogLikelihood(H, Ẑ, ωᵢ, ωₒ; constants = true)\n",
    "    \n",
    "    # polyadic measures\n",
    "    Ω = estimateΩEmpirically(H, Ẑ; aggregator = p -> [length(p) == 1, sum(p)])\n",
    "    Q_H = modularity(H, Ẑ, Ω; α = nothing)\n",
    "    L_H = logLikelihood(H, Ẑ, Ω; α = nothing)\n",
    "    return Dict(\"Q_D\" => Q_D, \"L_D\" => L_D, \"Q_H\" => Q_H, \"ARI\" => randindex(Z, Ẑ)[1])\n",
    "end\n",
    "\n",
    "function printMetrics((D, Z)::Tuple{Dict, Vector{Int64}}, label)\n",
    "    print(rpad(\"   \" * label, 25))\n",
    "    print(rpad(\"$(round(D[\"Q_D\"],digits = 2))\", 15))\n",
    "    print(rpad(\"$(round(D[\"L_D\"],digits = 2))\", 15))\n",
    "    print(rpad(\"$(round(D[\"Q_H\"]))\", 15))\n",
    "    print(rpad(\"$(length(unique(Z)))\", 10))\n",
    "    print(rpad(\"$(D[\"ARI\"])\", 10))\n",
    "    println(\"\")\n",
    "end\n",
    "\n",
    "function printHeader()\n",
    "    print(rpad(\"data\", 25))\n",
    "    print(rpad(\"Q_D\", 15))\n",
    "    print(rpad(\"L_D\", 15))\n",
    "    print(rpad(\"Q_H\", 15))\n",
    "    print(rpad(\"k\", 10))\n",
    "    print(rpad(\"ARI\", 10))\n",
    "    println(\"\")\n",
    "    print(rpad(\"\", 100, \"-\"))\n",
    "    println(\"\")\n",
    "end\n",
    "\n",
    "function polyadicExperiment(H, n_rounds = 10)\n",
    "    \n",
    "    γ = 0.01\n",
    "    S = -Inf\n",
    "    \n",
    "    n = length(H.D)\n",
    "    best_Z = collect(1:n)\n",
    "    best_D = nothing\n",
    "    \n",
    "    α = nothing\n",
    "    \n",
    "    # warmstart\n",
    "    Ẑ = CliqueExpansionModularity(H, γ)\n",
    "    Ω = estimateΩEmpirically(H, Ẑ; aggregator = p -> [length(p) == 1, sum(p)], bigNums = true)\n",
    "    \n",
    "    for i ∈ 1:n_rounds\n",
    "        Ẑ = SuperNode_PPLouvain(H, Ω; α = α, verbose = false, Z0 = collect(1:n), clusterpenalty = n)\n",
    "        Ω = estimateΩEmpirically(H, Ẑ; aggregator = p -> [length(p) == 1, sum(p)], bigNums = true)\n",
    "\n",
    "        D = evalPartition(H, Ẑ, Z)\n",
    "\n",
    "        if D[\"Q_H\"] > S\n",
    "            best_D = D\n",
    "            best_Z = Ẑ\n",
    "        end\n",
    "    end\n",
    "    \n",
    "    return best_D, best_Z\n",
    "end"
   ]
  },
  {
   "cell_type": "code",
   "execution_count": 41,
   "metadata": {},
   "outputs": [
    {
     "name": "stdout",
     "output_type": "stream",
     "text": [
      "data                     Q_D            L_D            Q_H            k         ARI       \n",
      "----------------------------------------------------------------------------------------------------\n",
      "   test                  1.0            NaN            -27644.0       6         -0.0005204524814337093\n"
     ]
    }
   ],
   "source": [
    "D = polyadicExperiment(H, 20)\n",
    "printHeader()\n",
    "printMetrics(D,\"test\")"
   ]
  },
  {
   "cell_type": "code",
   "execution_count": 47,
   "metadata": {},
   "outputs": [],
   "source": [
    "kmax = maximum(keys(H.E))\n",
    "n = length(H.D)\n",
    "function ω(p, α)\n",
    "    k = sum(p)\n",
    "    return sum(p)/sum((p .* (1:length(p)).^α[k])) / n^(α[kmax+k]*k)\n",
    "end\n",
    "\n",
    "Ω = partitionIntensityFunction(ω, kmax);"
   ]
  },
  {
   "cell_type": "code",
   "execution_count": 55,
   "metadata": {},
   "outputs": [
    {
     "name": "stdout",
     "output_type": "stream",
     "text": [
      "-31731.0       695\n",
      "-29938.0       689\n",
      "-29953.0       689\n",
      "-29944.0       685\n",
      "-29933.0       688\n",
      "-29958.0       688\n",
      "-29938.0       686\n",
      "-29971.0       689\n",
      "-29939.0       689\n",
      "-29921.0       687\n"
     ]
    }
   ],
   "source": [
    "α = vcat(repeat([0.0], kmax), 1:kmax)\n",
    "\n",
    "γ = 50.0\n",
    "Z = CliqueExpansionModularity(H, γ, false, true)\n",
    "\n",
    "for i in 1:10\n",
    "    α = learnParameters(H, Z, Ω, α; n_iters = 10, amin = -10, amax = 10)\n",
    "    Z = SuperNodeLouvain(H,kmax,Ω;α=α, verbose=false, scan_order =\"random\")\n",
    "    Q_H = modularity(H, Z, Ω; α = α)\n",
    "    print(rpad(\"$(round(Q_H, digits = 0))\", 15))\n",
    "    println(length(unique(Z)))\n",
    "end"
   ]
  },
  {
   "cell_type": "code",
   "execution_count": null,
   "metadata": {},
   "outputs": [],
   "source": [
    "length(unique(Z))"
   ]
  }
 ],
 "metadata": {
  "kernelspec": {
   "display_name": "Julia 1.4.2",
   "language": "julia",
   "name": "julia-1.4"
  },
  "language_info": {
   "file_extension": ".jl",
   "mimetype": "application/julia",
   "name": "julia",
   "version": "1.4.2"
  }
 },
 "nbformat": 4,
 "nbformat_minor": 4
}
