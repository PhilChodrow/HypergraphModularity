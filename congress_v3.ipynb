{
 "cells": [
  {
   "cell_type": "code",
   "execution_count": 2,
   "metadata": {},
   "outputs": [
    {
     "name": "stderr",
     "output_type": "stream",
     "text": [
      "\u001b[32m\u001b[1m Activating\u001b[22m\u001b[39m environment at `~/hypergraph_modularities_code/Project.toml`\n",
      "┌ Info: Precompiling HypergraphModularity [0c934d27-dd44-49d7-950f-bd4be7819e54]\n",
      "└ @ Base loading.jl:1260\n",
      "┌ Warning: Package HypergraphModularity does not have DelimitedFiles in its dependencies:\n",
      "│ - If you have HypergraphModularity checked out for development and have\n",
      "│   added DelimitedFiles as a dependency but haven't updated your primary\n",
      "│   environment's manifest file, try `Pkg.resolve()`.\n",
      "│ - Otherwise you may need to report an issue with HypergraphModularity\n",
      "└ Loading DelimitedFiles into HypergraphModularity from project dependency, future warnings for HypergraphModularity are suppressed.\n",
      "WARNING: Method definition CliqueExpansionModularity(HypergraphModularity.hypergraph) in module HypergraphModularity at /home/phil/hypergraph_modularities_code/src/graph_louvain.jl:43 overwritten at /home/phil/hypergraph_modularities_code/src/graph_louvain.jl:47.\n",
      "  ** incremental compilation may be fatally broken for this module **\n",
      "\n",
      "WARNING: Method definition CliqueExpansionModularity(HypergraphModularity.hypergraph, Float64) in module HypergraphModularity at /home/phil/hypergraph_modularities_code/src/graph_louvain.jl:43 overwritten at /home/phil/hypergraph_modularities_code/src/graph_louvain.jl:47.\n",
      "  ** incremental compilation may be fatally broken for this module **\n",
      "\n"
     ]
    }
   ],
   "source": [
    "using Revise\n",
    "using Pkg; Pkg.activate(\".\")\n",
    "using HypergraphModularity\n",
    "using StatsBase\n",
    "using DataFrames\n",
    "using RCall\n",
    "using SparseArrays\n",
    "using Clustering"
   ]
  },
  {
   "cell_type": "code",
   "execution_count": 11,
   "metadata": {},
   "outputs": [],
   "source": [
    "# H, Z = read_hypergraph_data(\"walmart-trips\", 20)\n",
    "kmax = 10\n",
    "H, Z = read_hypergraph_data(\"SN-congress-bills\", kmax) # VERY good results on Trivago with 3-5 core\n",
    "# H, Z = read_hypergraph_data(\"congress-bills\", 20) \n",
    "\n",
    "Base.copy(H::hypergraph) = hypergraph(H.N, H.E, H.D)"
   ]
  },
  {
   "cell_type": "code",
   "execution_count": 13,
   "metadata": {},
   "outputs": [
    {
     "data": {
      "text/plain": [
       "20-element Array{Float64,1}:\n",
       "   1.0\n",
       "   0.5091902583294604\n",
       "   0.7324012598771031\n",
       "   0.8718804537782678\n",
       "   0.963534608267226\n",
       "   0.9681938699578093\n",
       "   1.1874155680088547\n",
       "   1.245955991831588\n",
       "   1.3162636324396662\n",
       "   1.3993788395851705\n",
       " 280.88472054342907\n",
       "   0.662293897473341\n",
       "   0.7784901770366114\n",
       "   0.8351706524707061\n",
       "   0.8698429227306783\n",
       "   0.8912336338136182\n",
       "   0.902125163200449\n",
       "   0.9120316963364965\n",
       "   0.9187967325061648\n",
       "   0.9252202070017719"
      ]
     },
     "execution_count": 13,
     "metadata": {},
     "output_type": "execute_result"
    }
   ],
   "source": [
    "V = big(sum(H.D))\n",
    "function ω_d(p, α)\n",
    "    k = big(sum(p))\n",
    "    kmax = length(α) ÷ 2\n",
    "    dcut = big((sum(p*p') - p'*p)/2)\n",
    "    return k/((1 + dcut)^α[k])/ V^(α[kmax+k]*k)\n",
    "end\n",
    "Ω̂ = partitionIntensityFunction(ω_d, kmax)\n",
    "α = vcat(repeat([1.0], kmax), 1:kmax);\n",
    "α = learnParameters(H, Z, Ω̂, α; max_iters = 50, verbose = false, tol = 1e-2) "
   ]
  },
  {
   "cell_type": "code",
   "execution_count": 14,
   "metadata": {},
   "outputs": [
    {
     "name": "stdout",
     "output_type": "stream",
     "text": [
      "Faster SuperNode Louvain: Phase 1\n",
      "Louvain Iteration 1, Q = -716461.98\n",
      "Louvain Iteration 2, Q = -709819.72\n",
      "Louvain Iteration 3, Q = -707206.63\n",
      "Louvain Iteration 4, Q = -706883.36\n",
      "Louvain Iteration 5, Q = -706627.17\n",
      "SuperNode Louvain: Phase 2\n",
      "toc = 0.06918716430664062\n",
      "Louvain Iteration 1\n",
      "Louvain Iteration 2\n",
      "t1 = 0.598656415939331\n",
      "SuperNode Louvain: Phase 3\n",
      "toc = 0.012814998626708984\n",
      "Louvain Iteration 1\n",
      "t1 = 0.036128997802734375\n"
     ]
    },
    {
     "data": {
      "text/plain": [
       "294-element Array{Int64,1}:\n",
       " 1\n",
       " 1\n",
       " 1\n",
       " 1\n",
       " 1\n",
       " 1\n",
       " 1\n",
       " 1\n",
       " 1\n",
       " 1\n",
       " 1\n",
       " 1\n",
       " 1\n",
       " ⋮\n",
       " 3\n",
       " 2\n",
       " 2\n",
       " 2\n",
       " 2\n",
       " 2\n",
       " 2\n",
       " 2\n",
       " 2\n",
       " 2\n",
       " 2\n",
       " 2"
      ]
     },
     "execution_count": 14,
     "metadata": {},
     "output_type": "execute_result"
    }
   ],
   "source": [
    "Ẑ = SuperNodeLouvain(H::hypergraph, Ω̂; α = α, verbose = true)"
   ]
  },
  {
   "cell_type": "code",
   "execution_count": 15,
   "metadata": {},
   "outputs": [
    {
     "data": {
      "text/plain": [
       "0.045501929577378905"
      ]
     },
     "execution_count": 15,
     "metadata": {},
     "output_type": "execute_result"
    }
   ],
   "source": [
    "randindex(Z, Ẑ)[1]"
   ]
  },
  {
   "cell_type": "code",
   "execution_count": 17,
   "metadata": {},
   "outputs": [
    {
     "data": {
      "text/plain": [
       "Dict{Int64,Int64} with 3 entries:\n",
       "  2 => 150\n",
       "  3 => 1\n",
       "  1 => 143"
      ]
     },
     "execution_count": 17,
     "metadata": {},
     "output_type": "execute_result"
    }
   ],
   "source": [
    "countmap(Ẑ)"
   ]
  },
  {
   "cell_type": "code",
   "execution_count": null,
   "metadata": {},
   "outputs": [],
   "source": []
  }
 ],
 "metadata": {
  "kernelspec": {
   "display_name": "Julia 1.4.2",
   "language": "julia",
   "name": "julia-1.4"
  },
  "language_info": {
   "file_extension": ".jl",
   "mimetype": "application/julia",
   "name": "julia",
   "version": "1.4.2"
  }
 },
 "nbformat": 4,
 "nbformat_minor": 4
}
