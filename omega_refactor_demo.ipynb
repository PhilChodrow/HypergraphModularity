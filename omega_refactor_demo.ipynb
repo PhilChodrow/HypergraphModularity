{
 "cells": [
  {
   "cell_type": "markdown",
   "metadata": {},
   "source": [
    "# Demo: refactored implementation of $\\Omega$\n",
    "\n",
    "This notebook gives an example of the new implementation of $\\Omega$. The aim of the implementation has so far been to make as few alterations as possible to the existing codebase, while still enabling the user considerably more flexibility in the definition of $\\Omega$. \n",
    "\n",
    "## Math Assumptions\n",
    "\n",
    "The primary mathematical assumption behind the new implementation is that $\\Omega(z)$ is always expressible as a function of the partition vector of $z$. This is the same assumption that we were using throughout our previous version. The aim of the new implementation is that special cases can be handled with significantly more peformant code. "
   ]
  },
  {
   "cell_type": "code",
   "execution_count": 3,
   "metadata": {},
   "outputs": [
    {
     "name": "stderr",
     "output_type": "stream",
     "text": [
      "\u001b[32m\u001b[1m Activating\u001b[22m\u001b[39m environment at `~/hypergraph_modularities_code/Project.toml`\n"
     ]
    }
   ],
   "source": [
    "using Pkg; Pkg.activate(\".\")\n",
    "using HypergraphModularity\n",
    "\n",
    "using StatsBase"
   ]
  },
  {
   "cell_type": "code",
   "execution_count": 4,
   "metadata": {},
   "outputs": [],
   "source": [
    "n = 20\n",
    "Z = rand(1:5, n)\n",
    "ϑ = dropdims(ones(1,n) + rand(1,n), dims = 1)\n",
    "μ = mean(ϑ)\n",
    "kmax = 4;"
   ]
  },
  {
   "cell_type": "markdown",
   "metadata": {},
   "source": [
    "## The `IntensityFunction` struct\n",
    "\n",
    "Now we're ready to construct $\\Omega$. In the new idiom, $\\Omega$ is an `IntensityFunction`, which contains four fields. \n",
    "Let's look at two examples, which are both implemented in `src/omega.jl`. \n",
    "\n",
    "```julia\n",
    "function partitionIntensityFunction(ω, kmax)\n",
    "    range      = partitionsUpTo(kmax)\n",
    "    P          = partitionize\n",
    "    aggregator = identity\n",
    "    return IntensityFunction(ω, P, range, aggregator)\n",
    "end\n",
    "```\n",
    "\n",
    "This `IntensityFunction` corresponds to the highly general `partitionize`-based framework we were using previously. Here are its fields: \n",
    "\n",
    "<dl>\n",
    "    <dt> ω </dt> <dd> A parameterized function whose valid inputs are the elements of `range`. </dd>\n",
    "    <dt> <code>P</code> </dt> <dd> A function that maps group label vectors (i.e. subvectors of $Z$) to <i>feature</i> vectors. <code>partitionize()</code> is an example, as is the polyadic $\\delta$-function. </dd>\n",
    "    <dt> <code>range</code> </dt> <dd> The set of all possible values of <code>P</code>. Also assumed to be the domain of the function $\\omega$. This nomenclature is perhaps confusing and may be revised.</dd>\n",
    "    <dt> <code>aggregator</code> </dt> <dd> A function that maps partition vectors (of the kind returned by <code>partitionize()</code> to elements of <code>range</code>. This is included for technical purposes related to the calculation of the volume term in modularity. It would be desirable to deprecate it if possible.  </dd>\n",
    "</dl>\n",
    "\n",
    "So, the code above creates an intensity function that operates on subvectors of $Z$ by first `partitionize()`ing them and then applying the function $\\omega$. No aggregation is needed.  \n",
    "\n",
    "On the other hand, here's an alternative that corresponds to the all-or-nothing cut. In this case, the feature map $P$ computes two entries: whether or not all entries of $z$ are the same, and the length of $z$. The `range` gives all possible results (up to size `kmax`). The aggregator takes a partition vector and returns a feature. The specified function $\\omega$ should then operate on the features. \n",
    "\n",
    "```julia\n",
    "function allOrNothingIntensityFunction(ω, kmax)\n",
    "    range      = [(1.0*x, y) for x = 0:1 for y = 1:kmax]\n",
    "    P          = z->(all(z[1] .== z), length(z))\n",
    "    aggregator = p->(length(p) == 1, sum(p))\n",
    "    return IntensityFunction(ω, P, range, aggregator)\n",
    "end\n",
    "```\n",
    "Ok, let's try it out: \n",
    "\n"
   ]
  },
  {
   "cell_type": "code",
   "execution_count": 5,
   "metadata": {},
   "outputs": [
    {
     "data": {
      "text/plain": [
       "IntensityFunction"
      ]
     },
     "execution_count": 5,
     "metadata": {},
     "output_type": "execute_result"
    }
   ],
   "source": [
    "function ω(p, α)\n",
    "    k = sum(p)\n",
    "    return sum(p)/sum((p .* (1:length(p)).^α[k])) / n^(α[kmax+k]*k)\n",
    "end\n",
    "\n",
    "α = vcat(repeat([5.0], kmax), 0.2*(1:kmax))\n",
    "Ω = partitionIntensityFunction(ω, kmax);\n",
    "\n",
    "typeof(Ω)"
   ]
  },
  {
   "cell_type": "code",
   "execution_count": 6,
   "metadata": {},
   "outputs": [
    {
     "data": {
      "text/plain": [
       "hypergraph\n",
       "  N: Array{Int64}((20,)) [1, 2, 3, 4, 5, 6, 7, 8, 9, 10, 11, 12, 13, 14, 15, 16, 17, 18, 19, 20]\n",
       "  E: Dict{Int64,Dict}\n",
       "  D: Array{Int64}((20,)) [5, 5, 2, 7, 3, 8, 7, 5, 8, 2, 4, 5, 7, 6, 5, 6, 3, 3, 7, 5]\n"
      ]
     },
     "execution_count": 6,
     "metadata": {},
     "output_type": "execute_result"
    }
   ],
   "source": [
    "H = sampleSBM(Z, ϑ, Ω;α=α, kmax=kmax, kmin = 1)"
   ]
  },
  {
   "cell_type": "markdown",
   "metadata": {},
   "source": [
    "# TODO: check on inference and algorithms\n",
    "\n",
    "# CONJECTURE: \n",
    "\n",
    "we have introduced a bug related to CutDiff_OneNode that is causing issues. Consider whether we should try to squash the bug or reimplement SuperNodeLouvain using more familiar functions such as cutDiff(). Major question will be whether this introduces additional expense (i.e. whether we gain from the penalty term used in the current code). \n",
    "\n",
    "I **think** that we do gain from storying the penalties -- should cut the number of calls to `Omega.P` by about half, which is certainly desirable. \n",
    "\n",
    "\n"
   ]
  },
  {
   "cell_type": "code",
   "execution_count": 106,
   "metadata": {},
   "outputs": [],
   "source": [
    "dataset = \"contact-primary-school\"\n",
    "kmax_ = 6\n",
    "\n",
    "H, Z = read_hypergraph_data(dataset,kmax_)\n",
    "\n",
    "\n",
    "kmax = maximum(keys(H.E))\n",
    "kmin = minimum(keys(H.E))\n",
    "\n",
    "\n",
    "n = length(H.D)\n",
    "\n",
    "# full, partition-based intensity function\n",
    "\n",
    "function ω(p, α)\n",
    "    k = sum(p)\n",
    "    return sum(p)/sum((p .* (1:length(p)).^α[k])) / n^(α[kmax+k]*k)\n",
    "end\n",
    "\n",
    "Ω = partitionIntensityFunction(ω, kmax);\n",
    "\n",
    "α = zeros(2*kmax)\n",
    "\n",
    "# ---\n",
    "\n",
    "# all-or-nothing\n",
    "# issue: no nodes move clusters with this intensity function\n",
    "# function ω(p,α)\n",
    "#     k = p[2]\n",
    "#     δ = p[1]\n",
    "#     return (1.0*n)^(α[k + (1-δ)*kmax]*k)\n",
    "# end\n",
    "\n",
    "# Ω = allOrNothingIntensityFunction(ω, kmax);"
   ]
  },
  {
   "cell_type": "code",
   "execution_count": 107,
   "metadata": {},
   "outputs": [],
   "source": [
    "Z_dyadic = CliqueExpansionModularity(H);"
   ]
  },
  {
   "cell_type": "code",
   "execution_count": 108,
   "metadata": {},
   "outputs": [
    {
     "data": {
      "text/plain": [
       "(1.0, 1.0)"
      ]
     },
     "execution_count": 108,
     "metadata": {},
     "output_type": "execute_result"
    }
   ],
   "source": [
    "ω((1, 2), α), ω((0, 2), α)"
   ]
  },
  {
   "cell_type": "code",
   "execution_count": 109,
   "metadata": {},
   "outputs": [
    {
     "data": {
      "text/plain": [
       "10-element Array{Float64,1}:\n",
       " 3.819660112501051\n",
       " 2.867295706299621\n",
       " 6.742418311310051\n",
       " 7.67902153540493\n",
       " 7.3361102991579905\n",
       " 7.639320225002102\n",
       " 0.978114793532527\n",
       " 1.1851004712943891\n",
       " 1.4071909463740124\n",
       " 1.5977989755152606"
      ]
     },
     "execution_count": 109,
     "metadata": {},
     "output_type": "execute_result"
    }
   ],
   "source": [
    "α = coordinateAscent(H, Z_dyadic, Ω, α; amin =0, amax = 10, n_iters = 50) "
   ]
  },
  {
   "cell_type": "code",
   "execution_count": 110,
   "metadata": {},
   "outputs": [
    {
     "data": {
      "text/plain": [
       "(6.9752629772481275e-22, 1.8640200401255297e-16)"
      ]
     },
     "execution_count": 110,
     "metadata": {},
     "output_type": "execute_result"
    }
   ],
   "source": [
    "Ω.ω((1, 4), α), Ω.ω((0, 4), α)"
   ]
  },
  {
   "cell_type": "code",
   "execution_count": 111,
   "metadata": {},
   "outputs": [
    {
     "name": "stdout",
     "output_type": "stream",
     "text": [
      "Warning: running HyperLouvain from src/hypergraph_louvain.jl\n",
      "\n",
      "Louvain Iteration 1\n",
      "Louvain Iteration 2\n",
      "Louvain Iteration 3\n",
      "Louvain Iteration 4\n",
      "10\n"
     ]
    }
   ],
   "source": [
    "Z = HypergraphModularity.HyperLouvain_(H, kmax, Ω; α=α, verbose = true);\n",
    "\n",
    "println(length(unique(Z)))"
   ]
  },
  {
   "cell_type": "code",
   "execution_count": 113,
   "metadata": {},
   "outputs": [
    {
     "name": "stdout",
     "output_type": "stream",
     "text": [
      "Louvain Iteration 1\n",
      "Louvain Iteration 2\n",
      "Louvain Iteration 3\n",
      "Louvain Iteration 4\n",
      "10\n"
     ]
    }
   ],
   "source": [
    "Z = HypergraphModularity.HyperLouvain(H, kmax, Ω; α=α, verbose = true);\n",
    "println(length(unique(Z)))"
   ]
  },
  {
   "cell_type": "code",
   "execution_count": 114,
   "metadata": {},
   "outputs": [
    {
     "name": "stdout",
     "output_type": "stream",
     "text": [
      "7\n",
      "8\n",
      "9\n",
      "9\n",
      "9\n",
      "9\n",
      "8\n",
      "9\n",
      "9\n",
      "10\n"
     ]
    }
   ],
   "source": [
    "for i = 1:10\n",
    "    Z = SuperNodeLouvain(H, kmax, Ω; α=α, verbose = false, scan_order = \"random\");\n",
    "    α = coordinateAscent(H, Z, Ω, α; amin = 0, amax = 10) \n",
    "    println(length(unique(Z)))\n",
    "end"
   ]
  }
 ],
 "metadata": {
  "kernelspec": {
   "display_name": "Julia 1.4.2",
   "language": "julia",
   "name": "julia-1.4"
  },
  "language_info": {
   "file_extension": ".jl",
   "mimetype": "application/julia",
   "name": "julia",
   "version": "1.4.2"
  }
 },
 "nbformat": 4,
 "nbformat_minor": 4
}
