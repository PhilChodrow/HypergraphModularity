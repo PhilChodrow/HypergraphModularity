{
 "cells": [
  {
   "cell_type": "markdown",
   "metadata": {},
   "source": [
    "# Demo: refactored implementation of $\\Omega$\n",
    "\n",
    "This notebook gives an example of the new implementation of $\\Omega$. The aim of the implementation has so far been to make as few alterations as possible to the existing codebase, while still enabling the user considerably more flexibility in the definition of $\\Omega$. \n",
    "\n",
    "## Math Assumptions\n",
    "\n",
    "The primary mathematical assumption behind the new implementation is that $\\Omega(z)$ is always expressible as a function of the partition vector of $z$. This is the same assumption that we were using throughout our previous version. The aim of the new implementation is that special cases can be handled with significantly more peformant code. "
   ]
  },
  {
   "cell_type": "code",
   "execution_count": 60,
   "metadata": {},
   "outputs": [
    {
     "name": "stderr",
     "output_type": "stream",
     "text": [
      "\u001b[32m\u001b[1m Activating\u001b[22m\u001b[39m environment at `~/hypergraph_modularities_code/Project.toml`\n"
     ]
    }
   ],
   "source": [
    "using Pkg; Pkg.activate(\".\")\n",
    "using HypergraphModularity\n",
    "\n",
    "using StatsBase"
   ]
  },
  {
   "cell_type": "code",
   "execution_count": 61,
   "metadata": {},
   "outputs": [],
   "source": [
    "n = 20\n",
    "Z = rand(1:5, n)\n",
    "ϑ = dropdims(ones(1,n) + rand(1,n), dims = 1)\n",
    "μ = mean(ϑ)\n",
    "kmax = 4;"
   ]
  },
  {
   "cell_type": "markdown",
   "metadata": {},
   "source": [
    "## The `IntensityFunction` struct\n",
    "\n",
    "Now we're ready to construct $\\Omega$. In the new idiom, $\\Omega$ is an `IntensityFunction`, which contains four fields. \n",
    "Let's look at two examples, which are both implemented in `src/omega.jl`. \n",
    "\n",
    "```julia\n",
    "function partitionIntensityFunction(ω, kmax)\n",
    "    range      = partitionsUpTo(kmax)\n",
    "    P          = partitionize\n",
    "    aggregator = identity\n",
    "    return IntensityFunction(ω, P, range, aggregator)\n",
    "end\n",
    "```\n",
    "\n",
    "This `IntensityFunction` corresponds to the highly general `partitionize`-based framework we were using previously. Here are its fields: \n",
    "\n",
    "<dl>\n",
    "    <dt> ω </dt> <dd> A parameterized function whose valid inputs are the elements of `range`. </dd>\n",
    "    <dt> <code>P</code> </dt> <dd> A function that maps group label vectors (i.e. subvectors of $Z$) to <i>feature</i> vectors. <code>partitionize()</code> is an example, as is the polyadic $\\delta$-function. </dd>\n",
    "    <dt> <code>range</code> </dt> <dd> The set of all possible values of <code>P</code>. Also assumed to be the domain of the function $\\omega$. This nomenclature is perhaps confusing and may be revised.</dd>\n",
    "    <dt> <code>aggregator</code> </dt> <dd> A function that maps partition vectors (of the kind returned by <code>partitionize()</code> to elements of <code>range</code>. This is included for technical purposes related to the calculation of the volume term in modularity. It would be desirable to deprecate it if possible.  </dd>\n",
    "</dl>\n",
    "\n",
    "So, the code above creates an intensity function that operates on subvectors of $Z$ by first `partitionize()`ing them and then applying the function $\\omega$. No aggregation is needed.  \n",
    "\n",
    "On the other hand, here's an alternative that corresponds to the all-or-nothing cut. In this case, the feature map $P$ computes two entries: whether or not all entries of $z$ are the same, and the length of $z$. The `range` gives all possible results (up to size `kmax`). The aggregator takes a partition vector and returns a feature. The specified function $\\omega$ should then operate on the features. \n",
    "\n",
    "```julia\n",
    "function allOrNothingIntensityFunction(ω, kmax)\n",
    "    range      = [(1.0*x, y) for x = 0:1 for y = 1:kmax]\n",
    "    P          = z->(all(z[1] .== z), length(z))\n",
    "    aggregator = p->(length(p) == 1, sum(p))\n",
    "    return IntensityFunction(ω, P, range, aggregator)\n",
    "end\n",
    "```\n",
    "Ok, let's try it out: \n",
    "\n"
   ]
  },
  {
   "cell_type": "code",
   "execution_count": 62,
   "metadata": {},
   "outputs": [
    {
     "data": {
      "text/plain": [
       "IntensityFunction"
      ]
     },
     "execution_count": 62,
     "metadata": {},
     "output_type": "execute_result"
    }
   ],
   "source": [
    "function ω(p, α)\n",
    "    k = sum(p)\n",
    "    return sum(p)/sum((p .* (1:length(p)).^α[k])) / n^(α[kmax+k]*k)\n",
    "end\n",
    "\n",
    "α = vcat(repeat([5.0], kmax), 0.2*(1:kmax))\n",
    "Ω = partitionIntensityFunction(ω, kmax);\n",
    "\n",
    "typeof(Ω)"
   ]
  },
  {
   "cell_type": "code",
   "execution_count": 63,
   "metadata": {},
   "outputs": [
    {
     "data": {
      "text/plain": [
       "hypergraph\n",
       "  N: Array{Int64}((20,)) [1, 2, 3, 4, 5, 6, 7, 8, 9, 10, 11, 12, 13, 14, 15, 16, 17, 18, 19, 20]\n",
       "  E: Dict{Int64,Dict}\n",
       "  D: Array{Int64}((20,)) [2, 3, 1, 3, 12, 6, 9, 4, 7, 5, 4, 4, 6, 5, 9, 5, 7, 6, 6, 6]\n"
      ]
     },
     "execution_count": 63,
     "metadata": {},
     "output_type": "execute_result"
    }
   ],
   "source": [
    "H = sampleSBM(Z, ϑ, Ω;α=α, kmax=kmax, kmin = 1)"
   ]
  },
  {
   "cell_type": "markdown",
   "metadata": {},
   "source": [
    "# TODO: check on inference and algorithms\n",
    "\n",
    "# CONJECTURE: \n",
    "\n",
    "we have introduced a bug related to CutDiff_OneNode that is causing issues. Consider whether we should try to squash the bug or reimplement SuperNodeLouvain using more familiar functions such as cutDiff(). Major question will be whether this introduces additional expense (i.e. whether we gain from the penalty term used in the current code). \n",
    "\n",
    "I **think** that we do gain from storying the penalties -- should cut the number of calls to `Omega.P` by about half, which is certainly desirable. \n",
    "\n",
    "\n"
   ]
  },
  {
   "cell_type": "code",
   "execution_count": 64,
   "metadata": {},
   "outputs": [],
   "source": [
    "dataset = \"contact-primary-school\"\n",
    "kmax_ = 6\n",
    "\n",
    "H, Z = read_hypergraph_data(dataset,kmax_)\n",
    "\n",
    "kmax = maximum(keys(H.E))\n",
    "kmin = minimum(keys(H.E))\n",
    "\n",
    "n = length(H.D)\n",
    "\n",
    "# full, partition-based intensity function\n",
    "\n",
    "function ω_1(p, α)\n",
    "    k = sum(p)\n",
    "    return sum(p)/sum((p .* (1:length(p)).^α[k])) / n^(α[kmax+k]*k)\n",
    "end\n",
    "\n",
    "Ω_1 = partitionIntensityFunction(ω_1, kmax);\n",
    "\n",
    "# ---\n",
    "\n",
    "# sum of exterior\n",
    "function ω_2(p,α)\n",
    "    k = p[2]\n",
    "    δ = p[1]\n",
    "    return ((1+δ)*n)^α[k] / (1 + α[k + kmax])\n",
    "end\n",
    "\n",
    "Ω_2 = sumOfExteriorDegreesIntensityFunction(ω_2, kmax);\n",
    "\n",
    "\n",
    "# sum of exterior\n",
    "function ω_3(p,α)\n",
    "    k = p[2]\n",
    "    δ = p[1]\n",
    "    return ((1+δ)*n)^α[k] / (1 + α[k + kmax])\n",
    "end\n",
    "\n",
    "Ω_3 = allOrNothingIntensityFunction(ω_3, kmax);"
   ]
  },
  {
   "cell_type": "markdown",
   "metadata": {},
   "source": [
    "# Quick Speed Tests"
   ]
  },
  {
   "cell_type": "code",
   "execution_count": 65,
   "metadata": {},
   "outputs": [],
   "source": [
    "Z_dyadic = CliqueExpansionModularity(H);"
   ]
  },
  {
   "cell_type": "code",
   "execution_count": 66,
   "metadata": {},
   "outputs": [],
   "source": [
    "α = zeros(2*kmax);"
   ]
  },
  {
   "cell_type": "markdown",
   "metadata": {},
   "source": [
    "## General Partition-Based"
   ]
  },
  {
   "cell_type": "code",
   "execution_count": 71,
   "metadata": {},
   "outputs": [
    {
     "data": {
      "text/plain": [
       "([0.3764741351374923, 2.8672942397473213, 6.742407149806297, 7.679033661187109, 7.064696734014081, 8.531123130937832, 0.9781161291263542, 1.1851031377792722, 1.4071890853292668, 1.6029789394102092], 207914.80460689426)"
      ]
     },
     "execution_count": 71,
     "metadata": {},
     "output_type": "execute_result"
    }
   ],
   "source": [
    "α, f = learnParameters(H, Z_dyadic, Ω_1, α; xtol_abs = 1e-6)"
   ]
  },
  {
   "cell_type": "code",
   "execution_count": 73,
   "metadata": {},
   "outputs": [
    {
     "name": "stdout",
     "output_type": "stream",
     "text": [
      "Louvain Iteration 1\n",
      "Louvain Iteration 2\n",
      "Louvain Iteration 3\n",
      "Louvain Iteration 4\n",
      "  4.969337 seconds (66.33 M allocations: 3.100 GiB, 11.15% gc time)\n",
      "10\n"
     ]
    }
   ],
   "source": [
    "@time Z = HypergraphModularity.HyperLouvain(H, kmax, Ω_1; α=α, verbose = true);\n",
    "println(length(unique(Z)))"
   ]
  },
  {
   "cell_type": "markdown",
   "metadata": {},
   "source": [
    "## Sum of Exterior Degrees"
   ]
  },
  {
   "cell_type": "code",
   "execution_count": 74,
   "metadata": {},
   "outputs": [
    {
     "data": {
      "text/plain": [
       "([-1.266392248818159, -1.6246953011341447, -4.3745463505560735, -5.059854264169689, -6.971771486786326, 0.9471269502379152, 2.235520789533781, -0.998478541132391, 2.5056612050099116, 3.774895300335604], 211088.95913010038)"
      ]
     },
     "execution_count": 74,
     "metadata": {},
     "output_type": "execute_result"
    }
   ],
   "source": [
    "α = zeros(2*kmax);\n",
    "α, f = learnParameters(H, Z_dyadic, Ω_2, α; xtol_abs = 1e-6)"
   ]
  },
  {
   "cell_type": "code",
   "execution_count": 76,
   "metadata": {},
   "outputs": [
    {
     "name": "stdout",
     "output_type": "stream",
     "text": [
      "Louvain Iteration 1\n",
      "Louvain Iteration 2\n",
      "Louvain Iteration 3\n",
      "Louvain Iteration 4\n",
      "  3.855183 seconds (54.83 M allocations: 2.112 GiB, 10.30% gc time)\n",
      "10\n"
     ]
    }
   ],
   "source": [
    "@time Z = HypergraphModularity.HyperLouvain(H, kmax, Ω_2; α=α, verbose = true);\n",
    "println(length(unique(Z)))"
   ]
  },
  {
   "cell_type": "markdown",
   "metadata": {},
   "source": [
    "## All-or-nothing"
   ]
  },
  {
   "cell_type": "code",
   "execution_count": 77,
   "metadata": {},
   "outputs": [],
   "source": [
    "α = zeros(2*kmax);"
   ]
  },
  {
   "cell_type": "code",
   "execution_count": 80,
   "metadata": {},
   "outputs": [
    {
     "data": {
      "text/plain": [
       "([-4.0284622622899535, -0.4762067433236213, -2.4097327497940086, -5.463881071470425, -8.721697714581483, 0.04306426279380271, 8130.039346766027, 10120.01747534906, 220.6160675525968, 3.7401930527651253], 227287.514631432)"
      ]
     },
     "execution_count": 80,
     "metadata": {},
     "output_type": "execute_result"
    }
   ],
   "source": [
    "α, f = learnParameters(H, Z_dyadic, Ω_3, α; xtol_abs = 1e-6)"
   ]
  },
  {
   "cell_type": "code",
   "execution_count": 85,
   "metadata": {},
   "outputs": [
    {
     "name": "stdout",
     "output_type": "stream",
     "text": [
      "Louvain Iteration 1\n",
      "Louvain Iteration 2\n",
      "Louvain Iteration 3\n",
      "Louvain Iteration 4\n",
      "Louvain Iteration 5\n",
      "Louvain Iteration 6\n",
      "Louvain Iteration 7\n",
      "Louvain Iteration 8\n",
      "Louvain Iteration 9\n",
      "Louvain Iteration 10\n",
      "Louvain Iteration 11\n",
      "Louvain Iteration 12\n",
      "5\n"
     ]
    }
   ],
   "source": [
    "using Profile\n",
    "\n",
    "@profile Z = HypergraphModularity.HyperLouvain(H, kmax, Ω_3; α=α, verbose = true);\n",
    "println(length(unique(Z)))"
   ]
  },
  {
   "cell_type": "code",
   "execution_count": 97,
   "metadata": {},
   "outputs": [
    {
     "name": "stdout",
     "output_type": "stream",
     "text": [
      "Overhead ╎ [+additional indent] Count File:Line; Function\n",
      "=========================================================\n",
      "    ╎8329  @Base/task.jl:358; (::IJulia.var\"#15#18\")()\n",
      "    ╎ 8329  ...ia/src/eventloop.jl:8; eventloop(::ZMQ.Socket)\n",
      "    ╎  8329  @Base/essentials.jl:711; invokelatest\n",
      "    ╎   8329  @Base/essentials.jl:712; #invokelatest#1\n",
      "    ╎    8329  ...execute_request.jl:67; execute_request(::ZMQ.Socket...\n",
      "    ╎     8329  ...oftGlobalScope.jl:218; softscope_include_string(::...\n",
      "   8╎    ╎ 8329  @Base/boot.jl:331; eval\n",
      "    ╎    ╎  8320  ...rgraph_louvain.jl:2; (::HypergraphModularity.var...\n",
      "   3╎    ╎   8320  ...rgraph_louvain.jl:2; HyperLouvain##kw\n",
      "  21╎    ╎    976   ...raph_louvain.jl:74; HyperLouvain(::hypergraph...\n",
      "    ╎    ╎     955   @Base/reduce.jl:503; sum(::Base.Generator{Bas...\n",
      "    ╎    ╎    ╎ 955   @Base/reduce.jl:486; sum\n",
      "    ╎    ╎    ╎  955   @Base/reduce.jl:283; mapreduce\n",
      "    ╎    ╎    ╎   955   @Base/reduce.jl:283; #mapreduce#193\n",
      "    ╎    ╎    ╎    955   @Base/reduce.jl:157; mapfoldl\n",
      "    ╎    ╎    ╎     955   @Base/reduce.jl:157; #mapfoldl#189\n",
      "    ╎    ╎    ╎    ╎ 955   @Base/reduce.jl:41; mapfoldl_impl\n",
      "    ╎    ╎    ╎    ╎  955   @Base/reduce.jl:45; foldl_impl\n",
      "    ╎    ╎    ╎    ╎   873   @Base/reduce.jl:59; _foldl_impl(::Base.M...\n",
      "  35╎    ╎    ╎    ╎    873   @Base/reduce.jl:90; MappingRF\n",
      "  92╎    ╎    ╎    ╎     747   none:0; (::HypergraphModul...\n",
      "   3╎    ╎    ╎    ╎    ╎ 117   @Base/dict.jl:476; getindex(::Dict{Ar...\n",
      "    ╎    ╎    ╎    ╎    ╎  107   @Base/dict.jl:282; ht_keyindex(::Dic...\n",
      "    ╎    ╎    ╎    ╎    ╎   107   @Base/dict.jl:168; hashindex\n",
      "   3╎    ╎    ╎    ╎    ╎    107   ...hashing.jl:18; hash\n",
      "    ╎    ╎    ╎    ╎    ╎ 133   @Base/dict.jl:476; getindex\n",
      "    ╎    ╎    ╎    ╎    ╎  115   @Base/dict.jl:282; ht_keyindex(::Di...\n",
      "    ╎    ╎    ╎    ╎    ╎   115   @Base/dict.jl:168; hashindex\n",
      "   1╎    ╎    ╎    ╎    ╎    115   ...hashing.jl:18; hash\n",
      " 125╎    ╎    ╎    ╎    ╎ 170   In[64]:36; ω_3(::Tuple{Bool,I...\n",
      "   2╎    ╎    ╎    ╎    ╎ 205   ...perators.jl:529; *(::Float64, ::Big...\n",
      "   2╎    ╎    ╎    ╎    ╎  155   ...omotion.jl:312; *\n",
      "   3╎    ╎    2757  ...raph_louvain.jl:73; HyperLouvain(::hypergraph...\n",
      "  17╎    ╎     2751  ...rity/src/vol.jl:178; increments(::Array{BigIn...\n",
      "    ╎    ╎    ╎ 155   ...rity/src/vol.jl:200; increments(::Array{BigIn...\n",
      "    ╎    ╎    ╎  155   .../partitions.jl:113; iterate\n",
      "   4╎    ╎    ╎   115   .../partitions.jl:118; iterate\n",
      "    ╎    ╎    ╎ 401   ...rity/src/vol.jl:191; increments(::Array{BigIn...\n",
      "    ╎    ╎    ╎  350   ...ity/src/vol.jl:172; momentIncrements\n",
      "    ╎    ╎    ╎   283   @Base/array.jl:670; collect(::Base.Generat...\n",
      "    ╎    ╎    ╎    280   @Base/array.jl:689; collect_to_with_first!...\n",
      "    ╎    ╎    ╎     278   @Base/array.jl:711; collect_to!\n",
      "   3╎    ╎    ╎    ╎ 276   .../generator.jl:47; iterate\n",
      "    ╎    ╎    ╎    ╎  264   none:0; (::HypergraphModular...\n",
      "   1╎    ╎    ╎    ╎   120   @Base/gmp.jl:599; ^\n",
      "    ╎    ╎    ╎    ╎    113   @Base/gmp.jl:594; bigint_pow(::BigInt...\n",
      "   1╎    ╎    ╎    ╎     113   @Base/gmp.jl:573; ^\n",
      "    ╎    ╎    ╎    ╎    ╎ 112   @Base/gmp.jl:169; pow_ui(::BigInt, :...\n",
      "  68╎    ╎    ╎ 2089  ...rity/src/vol.jl:201; increments(::Array{BigIn...\n",
      "    ╎    ╎    ╎  152   @Base/dict.jl:500; get\n",
      "    ╎    ╎    ╎   134   @Base/dict.jl:282; ht_keyindex(::Dict{Arr...\n",
      "    ╎    ╎    ╎    134   @Base/dict.jl:168; hashindex\n",
      "   4╎    ╎    ╎     134   @Base/hashing.jl:18; hash\n",
      "    ╎    ╎    ╎    ╎ 111   ...ractarray.jl:2166; hash(::Array{Int64,1...\n",
      "    ╎    ╎    ╎    ╎  111   @Base/hashing.jl:23; hash\n",
      " 106╎    ╎    ╎    ╎   106   ...eflection.jl:312; objectid\n",
      "    ╎    ╎    ╎  152   ...ity/src/vol.jl:27; correctOvercounting(::D...\n",
      "    ╎    ╎    ╎  154   @Base/array.jl:796; getindex\n",
      "    ╎    ╎    ╎   154   @Base/array.jl:360; similar\n",
      " 154╎    ╎    ╎    154   @Base/boot.jl:405; Array\n",
      "    ╎    ╎    ╎  160   @Base/gmp.jl:473; *\n",
      "   3╎    ╎    ╎   160   @Base/gmp.jl:155; mul(::BigInt, ::BigInt)\n",
      "    ╎    ╎    ╎    132   @Base/gmp.jl:56; Type##kw\n",
      "  42╎    ╎    ╎     126   @Base/gmp.jl:56; BigInt#1\n",
      "    ╎    ╎    ╎  163   @Base/dict.jl:381; setindex!(::Dict{Array{...\n",
      "    ╎    ╎    ╎   154   @Base/dict.jl:308; ht_keyindex2!(::Dict{A...\n",
      "    ╎    ╎    ╎    154   @Base/dict.jl:168; hashindex\n",
      "    ╎    ╎    ╎     154   @Base/hashing.jl:18; hash\n",
      "    ╎    ╎    ╎    ╎ 122   ...ractarray.jl:2166; hash(::Array{Int64,1...\n",
      "    ╎    ╎    ╎    ╎  122   @Base/hashing.jl:23; hash\n",
      " 118╎    ╎    ╎    ╎   118   ...eflection.jl:312; objectid\n",
      "   2╎    ╎    ╎  272   @Base/dict.jl:500; get(::Dict{Array{Int64,...\n",
      "    ╎    ╎    ╎   247   @Base/dict.jl:282; ht_keyindex(::Dict{Arr...\n",
      "    ╎    ╎    ╎    247   @Base/dict.jl:168; hashindex\n",
      "   3╎    ╎    ╎     247   @Base/hashing.jl:18; hash\n",
      "   4╎    ╎    ╎    ╎ 200   ...ractarray.jl:2166; hash(::Array{Int64,1...\n",
      "    ╎    ╎    ╎    ╎  196   @Base/hashing.jl:23; hash\n",
      " 192╎    ╎    ╎    ╎   192   ...eflection.jl:312; objectid\n",
      "   7╎    ╎    ╎  541   ...ity/src/vol.jl:29; correctOvercounting(::D...\n",
      "   3╎    ╎    ╎   107   ...e/arraymath.jl:30; -(::Array{Int64,1})\n",
      "    ╎    ╎    ╎    104   .../broadcast.jl:809; broadcast_preserving_z...\n",
      "    ╎    ╎    ╎     104   .../broadcast.jl:820; materialize\n",
      "    ╎    ╎    ╎    ╎ 104   .../broadcast.jl:840; copy\n",
      "    ╎    ╎    ╎    ╎  100   ...broadcast.jl:196; similar\n",
      "    ╎    ╎    ╎    ╎   100   ...ractarray.jl:670; similar\n",
      "    ╎    ╎    ╎    ╎    100   ...actarray.jl:671; similar\n",
      "    ╎    ╎    ╎    ╎     100   @Base/boot.jl:422; Array\n",
      "    ╎    ╎    ╎    ╎    ╎ 100   @Base/boot.jl:414; Array\n",
      " 100╎    ╎    ╎    ╎    ╎  100   @Base/boot.jl:405; Array\n",
      "    ╎    ╎    ╎   123   @Base/sort.jl:763; sort\n",
      "    ╎    ╎    ╎    123   @Base/sort.jl:763; #sort#8\n",
      "   1╎    ╎    ╎   198   @Base/dict.jl:476; getindex\n",
      "    ╎    ╎    ╎    189   @Base/dict.jl:282; ht_keyindex(::Dict{Arr...\n",
      "    ╎    ╎    ╎     189   @Base/dict.jl:168; hashindex\n",
      "   7╎    ╎    ╎    ╎ 189   @Base/hashing.jl:18; hash\n",
      "   1╎    ╎    ╎    ╎  144   ...ractarray.jl:2166; hash(::Array{Int64,...\n",
      "    ╎    ╎    ╎    ╎   143   ...e/hashing.jl:23; hash\n",
      " 141╎    ╎    ╎    ╎    141   ...flection.jl:312; objectid\n",
      "    ╎    ╎    4462  ...raph_louvain.jl:76; HyperLouvain(::hypergraph...\n",
      "  14╎    ╎     4459  ...vain_helpers.jl:66; CutDiff_OneNode##kw\n",
      "   1╎    ╎    ╎ 112   ...vain_helpers.jl:80; CutDiff_OneNode(::Array{...\n",
      "    ╎    ╎    ╎ 505   ...vain_helpers.jl:78; CutDiff_OneNode(::Array{...\n",
      "    ╎    ╎    ╎  505   ...stractarray.jl:980; getindex\n",
      "   4╎    ╎    ╎   252   ...dimensional.jl:727; _getindex\n",
      "    ╎    ╎    ╎    226   ...imensional.jl:739; _unsafe_getindex(::Ind...\n",
      "    ╎    ╎    ╎     226   ...tractarray.jl:626; similar\n",
      "    ╎    ╎    ╎    ╎ 226   @Base/array.jl:361; similar\n",
      "    ╎    ╎    ╎    ╎  226   @Base/boot.jl:414; Array\n",
      " 226╎    ╎    ╎    ╎   226   @Base/boot.jl:405; Array\n",
      " 134╎    ╎    ╎   253   ...dimensional.jl:726; _getindex\n",
      "   1╎    ╎    ╎    119   ...tractarray.jl:502; checkbounds\n",
      "    ╎    ╎    ╎     118   ...tractarray.jl:487; checkbounds\n",
      "1016╎    ╎    ╎ 3728  ...vain_helpers.jl:79; CutDiff_OneNode(::Array{...\n",
      "    ╎    ╎    ╎  196   @Base/dict.jl:388; setindex!(::Dict{Int64,...\n",
      "    ╎    ╎    ╎   172   @Base/dict.jl:367; _setindex!\n",
      "  23╎    ╎    ╎  653   ...y/src/omega.jl:29; (::HypergraphModularity...\n",
      "    ╎    ╎    ╎   618   .../broadcast.jl:820; materialize\n",
      "    ╎    ╎    ╎    616   .../broadcast.jl:840; copy\n",
      "    ╎    ╎    ╎     101   .../broadcast.jl:864; copyto!\n",
      "    ╎    ╎    ╎     515   .../broadcast.jl:198; similar\n",
      "    ╎    ╎    ╎    ╎ 515   ...tractarray.jl:670; similar\n",
      "    ╎    ╎    ╎    ╎  515   ...ractarray.jl:671; similar\n",
      "   8╎    ╎    ╎    ╎   515   .../bitarray.jl:66; BitArray\n",
      " 230╎    ╎    ╎    ╎    230   .../bitarray.jl:34; BitArray{1}(::Undef...\n",
      "    ╎    ╎    ╎    ╎    260   .../bitarray.jl:32; BitArray{1}(::Undef...\n",
      " 260╎    ╎    ╎    ╎     260   @Base/boot.jl:405; Array\n",
      "1141╎    ╎    ╎  1537  In[64]:36; ω_3(::Tuple{Bool,Int64}...\n",
      "   3╎    ╎    ╎   321   ...e/promotion.jl:343; ^(::Int64, ::Float64)\n",
      " 315╎    ╎    ╎    315   @Base/math.jl:870; ^\n",
      "Total snapshots: 16891\n"
     ]
    }
   ],
   "source": [
    "Profile.print(sortedby = :count, mincount = 100)"
   ]
  },
  {
   "cell_type": "code",
   "execution_count": null,
   "metadata": {},
   "outputs": [],
   "source": []
  }
 ],
 "metadata": {
  "kernelspec": {
   "display_name": "Julia 1.4.2",
   "language": "julia",
   "name": "julia-1.4"
  },
  "language_info": {
   "file_extension": ".jl",
   "mimetype": "application/julia",
   "name": "julia",
   "version": "1.4.2"
  }
 },
 "nbformat": 4,
 "nbformat_minor": 4
}
