{
 "cells": [
  {
   "cell_type": "markdown",
   "metadata": {},
   "source": [
    "# Demo: refactored implementation of $\\Omega$\n",
    "\n",
    "This notebook gives an example of the new implementation of $\\Omega$. The aim of the implementation has so far been to make as few alterations as possible to the existing codebase, while still enabling the user considerably more flexibility in the definition of $\\Omega$. \n",
    "\n",
    "## Math Assumptions\n",
    "\n",
    "The primary mathematical assumption behind the new implementation is that $\\Omega(z)$ is always expressible as a function of the partition vector of $z$. This is the same assumption that we were using throughout our previous version. The aim of the new implementation is that special cases can be handled with significantly more peformant code. "
   ]
  },
  {
   "cell_type": "code",
   "execution_count": 1,
   "metadata": {},
   "outputs": [
    {
     "name": "stderr",
     "output_type": "stream",
     "text": [
      "\u001b[32m\u001b[1m Activating\u001b[22m\u001b[39m environment at `~/hypergraph_modularities_code/Project.toml`\n",
      "┌ Info: Precompiling HypergraphModularity [0c934d27-dd44-49d7-950f-bd4be7819e54]\n",
      "└ @ Base loading.jl:1260\n",
      "WARNING: Method definition evalSums(Array{#s46, 1} where #s46<:Integer, Array{Int64, 1}, Integer) in module HypergraphModularity at /home/phil/hypergraph_modularities_code/src/vol.jl:79 overwritten at /home/phil/hypergraph_modularities_code/src/vol.jl:113.\n",
      "  ** incremental compilation may be fatally broken for this module **\n",
      "\n",
      "WARNING: Method definition ConstructAdj(SparseArrays.SparseMatrixCSC{Tv, Ti} where Ti<:Integer where Tv, Int64) in module HypergraphModularity at /home/phil/hypergraph_modularities_code/src/graph_louvain.jl:12 overwritten at /home/phil/hypergraph_modularities_code/src/graph_louvain.jl:12.\n",
      "  ** incremental compilation may be fatally broken for this module **\n",
      "\n",
      "┌ Warning: Replacing docs for `HypergraphModularity.ConstructAdj :: Tuple{SparseArrays.SparseMatrixCSC,Int64}` in module `HypergraphModularity`\n",
      "└ @ Base.Docs docs/Docs.jl:229\n",
      "WARNING: Method definition LamCCobj(SparseArrays.SparseMatrixCSC{Tv, Ti} where Ti<:Integer where Tv, Any, Any, Any) in module HypergraphModularity at /home/phil/hypergraph_modularities_code/src/graph_louvain.jl:43 overwritten at /home/phil/hypergraph_modularities_code/src/graph_louvain.jl:43.\n",
      "  ** incremental compilation may be fatally broken for this module **\n",
      "\n",
      "┌ Warning: Replacing docs for `HypergraphModularity.LamCCobj :: Tuple{SparseArrays.SparseMatrixCSC,Any,Any,Any}` in module `HypergraphModularity`\n",
      "└ @ Base.Docs docs/Docs.jl:229\n",
      "WARNING: Method definition renumber(Array{Int64, 1}, Array{Array{Int64, 1}, 1}) in module HypergraphModularity at /home/phil/hypergraph_modularities_code/src/graph_louvain.jl:76 overwritten at /home/phil/hypergraph_modularities_code/src/graph_louvain.jl:76.\n",
      "  ** incremental compilation may be fatally broken for this module **\n",
      "\n",
      "┌ Warning: Replacing docs for `HypergraphModularity.renumber :: Tuple{Array{Int64,1},Array{Array{Int64,1},1}}` in module `HypergraphModularity`\n",
      "└ @ Base.Docs docs/Docs.jl:229\n",
      "WARNING: Method definition renumber(Array{Int64, 1}) in module HypergraphModularity at /home/phil/hypergraph_modularities_code/src/graph_louvain.jl:99 overwritten at /home/phil/hypergraph_modularities_code/src/graph_louvain.jl:99.\n",
      "  ** incremental compilation may be fatally broken for this module **\n",
      "\n",
      "┌ Warning: Replacing docs for `HypergraphModularity.renumber :: Tuple{Array{Int64,1}}` in module `HypergraphModularity`\n",
      "└ @ Base.Docs docs/Docs.jl:229\n",
      "WARNING: Method definition Many_Louvain(SparseArrays.SparseMatrixCSC{Float64, Int64}, Array{Float64, 1}, Float64, Int64) in module HypergraphModularity at /home/phil/hypergraph_modularities_code/src/graph_louvain.jl:118 overwritten at /home/phil/hypergraph_modularities_code/src/graph_louvain.jl:118.\n",
      "  ** incremental compilation may be fatally broken for this module **\n",
      "\n",
      "WARNING: Method definition Many_Louvain(SparseArrays.SparseMatrixCSC{Float64, Int64}, Array{Float64, 1}, Float64, Int64, Int64) in module HypergraphModularity at /home/phil/hypergraph_modularities_code/src/graph_louvain.jl:118 overwritten at /home/phil/hypergraph_modularities_code/src/graph_louvain.jl:118.\n",
      "  ** incremental compilation may be fatally broken for this module **\n",
      "\n",
      "┌ Warning: Replacing docs for `HypergraphModularity.Many_Louvain :: Union{Tuple{SparseArrays.SparseMatrixCSC{Float64,Int64},Array{Float64,1},Float64,Int64}, Tuple{SparseArrays.SparseMatrixCSC{Float64,Int64},Array{Float64,1},Float64,Int64,Int64}}` in module `HypergraphModularity`\n",
      "└ @ Base.Docs docs/Docs.jl:229\n",
      "WARNING: Method definition LambdaLouvain(SparseArrays.SparseMatrixCSC{Float64, Int64}, Array{Float64, 1}, Float64) in module HypergraphModularity at /home/phil/hypergraph_modularities_code/src/graph_louvain.jl:156 overwritten at /home/phil/hypergraph_modularities_code/src/graph_louvain.jl:156.\n",
      "  ** incremental compilation may be fatally broken for this module **\n",
      "\n",
      "WARNING: Method definition LambdaLouvain(SparseArrays.SparseMatrixCSC{Float64, Int64}, Array{Float64, 1}, Float64, Bool) in module HypergraphModularity at /home/phil/hypergraph_modularities_code/src/graph_louvain.jl:156 overwritten at /home/phil/hypergraph_modularities_code/src/graph_louvain.jl:156.\n",
      "  ** incremental compilation may be fatally broken for this module **\n",
      "\n",
      "WARNING: Method definition LambdaLouvain(SparseArrays.SparseMatrixCSC{Float64, Int64}, Array{Float64, 1}, Float64, Bool, Int64) in module HypergraphModularity at /home/phil/hypergraph_modularities_code/src/graph_louvain.jl:156 overwritten at /home/phil/hypergraph_modularities_code/src/graph_louvain.jl:156.\n",
      "  ** incremental compilation may be fatally broken for this module **\n",
      "\n",
      "┌ Warning: Replacing docs for `HypergraphModularity.LambdaLouvain :: Union{Tuple{SparseArrays.SparseMatrixCSC{Float64,Int64},Array{Float64,1},Float64}, Tuple{SparseArrays.SparseMatrixCSC{Float64,Int64},Array{Float64,1},Float64,Bool}, Tuple{SparseArrays.SparseMatrixCSC{Float64,Int64},Array{Float64,1},Float64,Bool,Int64}}` in module `HypergraphModularity`\n",
      "└ @ Base.Docs docs/Docs.jl:229\n",
      "WARNING: Method definition LambdaLouvain_Step(SparseArrays.SparseMatrixCSC{Float64, Int64}, Array{Float64, 1}, Float64) in module HypergraphModularity at /home/phil/hypergraph_modularities_code/src/graph_louvain.jl:224 overwritten at /home/phil/hypergraph_modularities_code/src/graph_louvain.jl:224.\n",
      "  ** incremental compilation may be fatally broken for this module **\n",
      "\n",
      "WARNING: Method definition LambdaLouvain_Step(SparseArrays.SparseMatrixCSC{Float64, Int64}, Array{Float64, 1}, Float64, Bool) in module HypergraphModularity at /home/phil/hypergraph_modularities_code/src/graph_louvain.jl:224 overwritten at /home/phil/hypergraph_modularities_code/src/graph_louvain.jl:224.\n",
      "  ** incremental compilation may be fatally broken for this module **\n",
      "\n",
      "WARNING: Method definition LambdaLouvain_Step(SparseArrays.SparseMatrixCSC{Float64, Int64}, Array{Float64, 1}, Float64, Bool, Int64) in module HypergraphModularity at /home/phil/hypergraph_modularities_code/src/graph_louvain.jl:224 overwritten at /home/phil/hypergraph_modularities_code/src/graph_louvain.jl:224.\n",
      "  ** incremental compilation may be fatally broken for this module **\n",
      "\n",
      "┌ Warning: Replacing docs for `HypergraphModularity.LambdaLouvain_Step :: Union{Tuple{SparseArrays.SparseMatrixCSC{Float64,Int64},Array{Float64,1},Float64}, Tuple{SparseArrays.SparseMatrixCSC{Float64,Int64},Array{Float64,1},Float64,Bool}, Tuple{SparseArrays.SparseMatrixCSC{Float64,Int64},Array{Float64,1},Float64,Bool,Int64}}` in module `HypergraphModularity`\n",
      "└ @ Base.Docs docs/Docs.jl:229\n",
      "WARNING: Method definition collapse_clustering(SparseArrays.SparseMatrixCSC{Float64, Int64}, Array{Float64, 1}, Array{Int64, 1}) in module HypergraphModularity at /home/phil/hypergraph_modularities_code/src/graph_louvain.jl:393 overwritten at /home/phil/hypergraph_modularities_code/src/graph_louvain.jl:393.\n",
      "  ** incremental compilation may be fatally broken for this module **\n",
      "\n",
      "┌ Warning: Replacing docs for `HypergraphModularity.collapse_clustering :: Tuple{SparseArrays.SparseMatrixCSC{Float64,Int64},Array{Float64,1},Array{Int64,1}}` in module `HypergraphModularity`\n",
      "└ @ Base.Docs docs/Docs.jl:229\n",
      "WARNING: Method definition ClusterSizes(Any) in module HypergraphModularity at /home/phil/hypergraph_modularities_code/src/graph_louvain.jl:442 overwritten at /home/phil/hypergraph_modularities_code/src/graph_louvain.jl:442.\n",
      "  ** incremental compilation may be fatally broken for this module **\n",
      "\n",
      "WARNING: Method definition (::Type{HypergraphModularity.hypergraph})() in module HypergraphModularity at /home/phil/.julia/packages/Parameters/CVyBv/src/Parameters.jl:468 overwritten at /home/phil/.julia/packages/Parameters/CVyBv/src/Parameters.jl:468.\n",
      "  ** incremental compilation may be fatally broken for this module **\n",
      "\n",
      "WARNING: Method definition Type##kw(Any, Type{HypergraphModularity.hypergraph}) in module HypergraphModularity at /home/phil/.julia/packages/Parameters/CVyBv/src/Parameters.jl:468 overwritten at /home/phil/.julia/packages/Parameters/CVyBv/src/Parameters.jl:468.\n",
      "  ** incremental compilation may be fatally broken for this module **\n",
      "\n",
      "WARNING: Method definition (::Type{HypergraphModularity.hypergraph})(Any, Any, Any) in module HypergraphModularity at /home/phil/.julia/packages/Parameters/CVyBv/src/Parameters.jl:480 overwritten at /home/phil/.julia/packages/Parameters/CVyBv/src/Parameters.jl:480.\n",
      "  ** incremental compilation may be fatally broken for this module **\n",
      "\n",
      "WARNING: Method definition (::Type{HypergraphModularity.hypergraph})(HypergraphModularity.hypergraph) in module HypergraphModularity at /home/phil/.julia/packages/Parameters/CVyBv/src/Parameters.jl:530 overwritten at /home/phil/.julia/packages/Parameters/CVyBv/src/Parameters.jl:530.\n",
      "  ** incremental compilation may be fatally broken for this module **\n",
      "\n",
      "WARNING: Method definition Type##kw(Any, Type{HypergraphModularity.hypergraph}, HypergraphModularity.hypergraph) in module HypergraphModularity at /home/phil/.julia/packages/Parameters/CVyBv/src/Parameters.jl:530 overwritten at /home/phil/.julia/packages/Parameters/CVyBv/src/Parameters.jl:530.\n",
      "  ** incremental compilation may be fatally broken for this module **\n",
      "\n",
      "WARNING: Method definition (::Type{HypergraphModularity.hypergraph})(HypergraphModularity.hypergraph, Base.AbstractDict{K, V} where V where K) in module HypergraphModularity at /home/phil/.julia/packages/Parameters/CVyBv/src/Parameters.jl:533 overwritten at /home/phil/.julia/packages/Parameters/CVyBv/src/Parameters.jl:533.\n",
      "  ** incremental compilation may be fatally broken for this module **\n",
      "\n",
      "WARNING: Method definition (::Type{HypergraphModularity.hypergraph})(HypergraphModularity.hypergraph, Tuple{Symbol, Any}...) in module HypergraphModularity at /home/phil/.julia/packages/Parameters/CVyBv/src/Parameters.jl:534 overwritten at /home/phil/.julia/packages/Parameters/CVyBv/src/Parameters.jl:534.\n",
      "  ** incremental compilation may be fatally broken for this module **\n",
      "\n",
      "WARNING: Method definition show(IO, HypergraphModularity.hypergraph) in module HypergraphModularity at /home/phil/.julia/packages/Parameters/CVyBv/src/Parameters.jl:543 overwritten at /home/phil/.julia/packages/Parameters/CVyBv/src/Parameters.jl:543.\n",
      "  ** incremental compilation may be fatally broken for this module **\n",
      "\n",
      "WARNING: Method definition @unpack_hypergraph(LineNumberNode, Module, Any) in module HypergraphModularity at /home/phil/.julia/packages/Parameters/CVyBv/src/Parameters.jl:578 overwritten at /home/phil/.julia/packages/Parameters/CVyBv/src/Parameters.jl:578.\n",
      "  ** incremental compilation may be fatally broken for this module **\n",
      "\n",
      "WARNING: Method definition @pack_hypergraph!(LineNumberNode, Module, Any) in module HypergraphModularity at /home/phil/.julia/packages/Parameters/CVyBv/src/Parameters.jl:556 overwritten at /home/phil/.julia/packages/Parameters/CVyBv/src/Parameters.jl:556.\n",
      "  ** incremental compilation may be fatally broken for this module **\n",
      "\n",
      "WARNING: Method definition @pack_hypergraph(LineNumberNode, Module) in module HypergraphModularity at /home/phil/.julia/packages/Parameters/CVyBv/src/Parameters.jl:559 overwritten at /home/phil/.julia/packages/Parameters/CVyBv/src/Parameters.jl:559.\n",
      "  ** incremental compilation may be fatally broken for this module **\n",
      "\n",
      "WARNING: Method definition sampleEdge(Array{Int64, 1}, Array{Int64, 1}, Array{Float64, 1}, HypergraphModularity.IntensityFunction) in module HypergraphModularity at /home/phil/hypergraph_modularities_code/src/HSBM.jl:17 overwritten at /home/phil/hypergraph_modularities_code/src/HSBM.jl:17.\n",
      "  ** incremental compilation may be fatally broken for this module **\n",
      "\n",
      "WARNING: Method definition sampleEdge##kw(Any, typeof(HypergraphModularity.sampleEdge), Array{Int64, 1}, Array{Int64, 1}, Array{Float64, 1}, HypergraphModularity.IntensityFunction) in module HypergraphModularity at /home/phil/hypergraph_modularities_code/src/HSBM.jl:17 overwritten at /home/phil/hypergraph_modularities_code/src/HSBM.jl:17.\n",
      "  ** incremental compilation may be fatally broken for this module **\n",
      "\n",
      "WARNING: Method definition sampleEdges(Array{Int64, 1}, Array{Float64, 1}, HypergraphModularity.IntensityFunction) in module HypergraphModularity at /home/phil/hypergraph_modularities_code/src/HSBM.jl:35 overwritten at /home/phil/hypergraph_modularities_code/src/HSBM.jl:35.\n",
      "  ** incremental compilation may be fatally broken for this module **\n",
      "\n",
      "WARNING: Method definition sampleEdges##kw(Any, typeof(HypergraphModularity.sampleEdges), Array{Int64, 1}, Array{Float64, 1}, HypergraphModularity.IntensityFunction) in module HypergraphModularity at /home/phil/hypergraph_modularities_code/src/HSBM.jl:35 overwritten at /home/phil/hypergraph_modularities_code/src/HSBM.jl:35.\n",
      "  ** incremental compilation may be fatally broken for this module **\n",
      "\n",
      "WARNING: Method definition sampleEdges(Base.Dict{K, V} where V where K, Base.Dict{K, V} where V where K, HypergraphModularity.IntensityFunction) in module HypergraphModularity at /home/phil/hypergraph_modularities_code/src/HSBM.jl:60 overwritten at /home/phil/hypergraph_modularities_code/src/HSBM.jl:60.\n",
      "  ** incremental compilation may be fatally broken for this module **\n",
      "\n",
      "WARNING: Method definition sampleEdges##kw(Any, typeof(HypergraphModularity.sampleEdges), Base.Dict{K, V} where V where K, Base.Dict{K, V} where V where K, HypergraphModularity.IntensityFunction) in module HypergraphModularity at /home/phil/hypergraph_modularities_code/src/HSBM.jl:60 overwritten at /home/phil/hypergraph_modularities_code/src/HSBM.jl:60.\n",
      "  ** incremental compilation may be fatally broken for this module **\n",
      "\n",
      "WARNING: Method definition computeDegrees(Base.Dict{Int64, Base.Dict{K, V} where V where K}, Array{Int64, 1}) in module HypergraphModularity at /home/phil/hypergraph_modularities_code/src/HSBM.jl:69 overwritten at /home/phil/hypergraph_modularities_code/src/HSBM.jl:69.\n",
      "  ** incremental compilation may be fatally broken for this module **\n",
      "\n",
      "WARNING: Method definition computeDegrees(HypergraphModularity.hypergraph) in module HypergraphModularity at /home/phil/hypergraph_modularities_code/src/HSBM.jl:87 overwritten at /home/phil/hypergraph_modularities_code/src/HSBM.jl:87.\n",
      "  ** incremental compilation may be fatally broken for this module **\n",
      "\n",
      "WARNING: Method definition computeDegrees!(HypergraphModularity.hypergraph) in module HypergraphModularity at /home/phil/hypergraph_modularities_code/src/HSBM.jl:91 overwritten at /home/phil/hypergraph_modularities_code/src/HSBM.jl:91.\n",
      "  ** incremental compilation may be fatally broken for this module **\n",
      "\n",
      "WARNING: Method definition sampleSBM(Any...) in module HypergraphModularity at /home/phil/hypergraph_modularities_code/src/HSBM.jl:98 overwritten at /home/phil/hypergraph_modularities_code/src/HSBM.jl:98.\n",
      "  ** incremental compilation may be fatally broken for this module **\n",
      "\n",
      "WARNING: Method definition sampleSBM##kw(Any, typeof(HypergraphModularity.sampleSBM), Any...) in module HypergraphModularity at /home/phil/hypergraph_modularities_code/src/HSBM.jl:98 overwritten at /home/phil/hypergraph_modularities_code/src/HSBM.jl:98.\n",
      "  ** incremental compilation may be fatally broken for this module **\n",
      "\n",
      "WARNING: Method definition countEdges(HypergraphModularity.hypergraph) in module HypergraphModularity at /home/phil/hypergraph_modularities_code/src/HSBM.jl:109 overwritten at /home/phil/hypergraph_modularities_code/src/HSBM.jl:109.\n",
      "  ** incremental compilation may be fatally broken for this module **\n",
      "\n",
      "WARNING: Method definition renumber(Array{Int64, 1}, Array{Array{Int64, 1}, 1}) in module HypergraphModularity at /home/phil/hypergraph_modularities_code/src/graph_louvain.jl:76 overwritten at /home/phil/hypergraph_modularities_code/src/hyperlouvain_helpers.jl:122.\n",
      "  ** incremental compilation may be fatally broken for this module **\n",
      "\n",
      "WARNING: Method definition renumber(Array{Int64, 1}) in module HypergraphModularity at /home/phil/hypergraph_modularities_code/src/graph_louvain.jl:99 overwritten at /home/phil/hypergraph_modularities_code/src/hyperlouvain_helpers.jl:148.\n",
      "  ** incremental compilation may be fatally broken for this module **\n",
      "\n",
      "WARNING: Method definition renumber(Array{Int64, 1}, Array{Array{Int64, 1}, 1}) in module HypergraphModularity at /home/phil/hypergraph_modularities_code/src/hyperlouvain_helpers.jl:122 overwritten at /home/phil/hypergraph_modularities_code/src/hypergraph_louvain.jl:34.\n",
      "  ** incremental compilation may be fatally broken for this module **\n",
      "\n",
      "WARNING: Method definition renumber(Array{Int64, 1}) in module HypergraphModularity at /home/phil/hypergraph_modularities_code/src/hyperlouvain_helpers.jl:148 overwritten at /home/phil/hypergraph_modularities_code/src/hypergraph_louvain.jl:61.\n",
      "  ** incremental compilation may be fatally broken for this module **\n",
      "\n",
      "WARNING: Method definition SuperNeighborList(Any, Any, Any) in module HypergraphModularity at /home/phil/hypergraph_modularities_code/src/hyperlouvain_helpers.jl:89 overwritten at /home/phil/hypergraph_modularities_code/src/hypergraph_louvain.jl:372.\n",
      "  ** incremental compilation may be fatally broken for this module **\n",
      "\n"
     ]
    }
   ],
   "source": [
    "using Pkg; Pkg.activate(\".\")\n",
    "using HypergraphModularity\n",
    "\n",
    "using StatsBase"
   ]
  },
  {
   "cell_type": "code",
   "execution_count": 2,
   "metadata": {},
   "outputs": [],
   "source": [
    "n = 20\n",
    "Z = rand(1:5, n)\n",
    "ϑ = dropdims(ones(1,n) + rand(1,n), dims = 1)\n",
    "μ = mean(ϑ)\n",
    "kmax = 4;"
   ]
  },
  {
   "cell_type": "markdown",
   "metadata": {},
   "source": [
    "## The `IntensityFunction` struct\n",
    "\n",
    "Now we're ready to construct $\\Omega$. In the new idiom, $\\Omega$ is an `IntensityFunction`, which contains four fields. \n",
    "Let's look at two examples, which are both implemented in `src/omega.jl`. \n",
    "\n",
    "```julia\n",
    "function partitionIntensityFunction(ω, kmax)\n",
    "    range      = partitionsUpTo(kmax)\n",
    "    P          = partitionize\n",
    "    aggregator = identity\n",
    "    return IntensityFunction(ω, P, range, aggregator)\n",
    "end\n",
    "```\n",
    "\n",
    "This `IntensityFunction` corresponds to the highly general `partitionize`-based framework we were using previously. Here are its fields: \n",
    "\n",
    "<dl>\n",
    "    <dt> ω </dt> <dd> A parameterized function whose valid inputs are the elements of `range`. </dd>\n",
    "    <dt> <code>P</code> </dt> <dd> A function that maps group label vectors (i.e. subvectors of $Z$) to <i>feature</i> vectors. <code>partitionize()</code> is an example, as is the polyadic $\\delta$-function. </dd>\n",
    "    <dt> <code>range</code> </dt> <dd> The set of all possible values of <code>P</code>. Also assumed to be the domain of the function $\\omega$. This nomenclature is perhaps confusing and may be revised.</dd>\n",
    "    <dt> <code>aggregator</code> </dt> <dd> A function that maps partition vectors (of the kind returned by <code>partitionize()</code> to elements of <code>range</code>. This is included for technical purposes related to the calculation of the volume term in modularity. It would be desirable to deprecate it if possible.  </dd>\n",
    "</dl>\n",
    "\n",
    "So, the code above creates an intensity function that operates on subvectors of $Z$ by first `partitionize()`ing them and then applying the function $\\omega$. No aggregation is needed.  \n",
    "\n",
    "On the other hand, here's an alternative that corresponds to the all-or-nothing cut. In this case, the feature map $P$ computes two entries: whether or not all entries of $z$ are the same, and the length of $z$. The `range` gives all possible results (up to size `kmax`). The aggregator takes a partition vector and returns a feature. The specified function $\\omega$ should then operate on the features. \n",
    "\n",
    "```julia\n",
    "function allOrNothingIntensityFunction(ω, kmax)\n",
    "    range      = [(1.0*x, y) for x = 0:1 for y = 1:kmax]\n",
    "    P          = z->(all(z[1] .== z), length(z))\n",
    "    aggregator = p->(length(p) == 1, sum(p))\n",
    "    return IntensityFunction(ω, P, range, aggregator)\n",
    "end\n",
    "```\n",
    "Ok, let's try it out: \n",
    "\n"
   ]
  },
  {
   "cell_type": "code",
   "execution_count": 3,
   "metadata": {},
   "outputs": [
    {
     "data": {
      "text/plain": [
       "IntensityFunction"
      ]
     },
     "execution_count": 3,
     "metadata": {},
     "output_type": "execute_result"
    }
   ],
   "source": [
    "function ω(p, α)\n",
    "    k = sum(p)\n",
    "    return sum(p)/sum((p .* (1:length(p)).^α[k])) / n^(α[kmax+k]*k)\n",
    "end\n",
    "\n",
    "α = vcat(repeat([5.0], kmax), 0.2*(1:kmax))\n",
    "Ω = partitionIntensityFunction(ω, kmax);\n",
    "\n",
    "typeof(Ω)"
   ]
  },
  {
   "cell_type": "code",
   "execution_count": 4,
   "metadata": {},
   "outputs": [
    {
     "data": {
      "text/plain": [
       "hypergraph\n",
       "  N: Array{Int64}((20,)) [1, 2, 3, 4, 5, 6, 7, 8, 9, 10, 11, 12, 13, 14, 15, 16, 17, 18, 19, 20]\n",
       "  E: Dict{Int64,Dict}\n",
       "  D: Array{Int64}((20,)) [7, 5, 5, 2, 7, 5, 4, 2, 8, 3, 11, 3, 5, 6, 8, 4, 3, 1, 3, 8]\n"
      ]
     },
     "execution_count": 4,
     "metadata": {},
     "output_type": "execute_result"
    }
   ],
   "source": [
    "H = sampleSBM(Z, ϑ, Ω;α=α, kmax=kmax, kmin = 1)"
   ]
  },
  {
   "cell_type": "code",
   "execution_count": 49,
   "metadata": {},
   "outputs": [],
   "source": [
    "dataset = \"contact-primary-school-classes\"\n",
    "kmax_ = 6\n",
    "\n",
    "H, Z = read_hypergraph_data(dataset,kmax_)\n",
    "\n",
    "kmax = maximum(keys(H.E))\n",
    "kmin = minimum(keys(H.E))\n",
    "\n",
    "n = length(H.D)\n",
    "\n",
    "# full, partition-based intensity function\n",
    "\n",
    "function ω_1(p, α)\n",
    "    k = sum(p)\n",
    "    return sum(p)/sum((p .* (1:length(p)).^α[k])) / n^(α[kmax+k]*k)\n",
    "end\n",
    "\n",
    "Ω_1 = partitionIntensityFunction(ω_1, kmax);\n",
    "\n",
    "# ---\n",
    "\n",
    "# sum of exterior\n",
    "function ω_2(p,α)\n",
    "    k = p[2]\n",
    "    δ = p[1]\n",
    "    return ((1+δ)*n)^α[k] / (n^α[k + kmax])\n",
    "end\n",
    "\n",
    "Ω_2 = sumOfExteriorDegreesIntensityFunction(ω_2, kmax);\n",
    "\n",
    "\n",
    "# all-or-nothing\n",
    "function ω_3(p,α)\n",
    "    k = p[2]\n",
    "    δ = p[1]\n",
    "    return ((1+δ)*n)^α[k] / (n^α[k + kmax])\n",
    "end\n",
    "\n",
    "Ω_3 = allOrNothingIntensityFunction(ω_3, kmax);"
   ]
  },
  {
   "cell_type": "markdown",
   "metadata": {},
   "source": [
    "# Quick Speed Tests"
   ]
  },
  {
   "cell_type": "code",
   "execution_count": 50,
   "metadata": {},
   "outputs": [],
   "source": [
    "Z_dyadic = CliqueExpansionModularity(H);"
   ]
  },
  {
   "cell_type": "code",
   "execution_count": 51,
   "metadata": {},
   "outputs": [],
   "source": [
    "α = zeros(2*kmax);"
   ]
  },
  {
   "cell_type": "markdown",
   "metadata": {},
   "source": [
    "## General Partition-Based"
   ]
  },
  {
   "cell_type": "code",
   "execution_count": 52,
   "metadata": {},
   "outputs": [
    {
     "name": "stdout",
     "output_type": "stream",
     "text": [
      "WARNING: this function is now deprecated, use learnParameters() instead.\n"
     ]
    },
    {
     "data": {
      "text/plain": [
       "10-element Array{Float64,1}:\n",
       " -2.360679774997898\n",
       "  2.867295705087045\n",
       "  6.742418369760678\n",
       "  7.6790213643603105\n",
       "  7.336111719808482\n",
       "  7.1070076127661705\n",
       "  0.9781147969257838\n",
       "  1.1851004710096498\n",
       "  1.407190951502974\n",
       "  1.5977988863173893"
      ]
     },
     "execution_count": 52,
     "metadata": {},
     "output_type": "execute_result"
    }
   ],
   "source": [
    "α = learnParameters(H, Z_dyadic, Ω_1, α; n_iters = 100, amin = -10, amax = 10)"
   ]
  },
  {
   "cell_type": "code",
   "execution_count": 53,
   "metadata": {},
   "outputs": [
    {
     "name": "stdout",
     "output_type": "stream",
     "text": [
      "Louvain Iteration 1\n",
      "Louvain Iteration 2\n",
      "Louvain Iteration 3\n",
      "Louvain Iteration 4\n",
      "  4.226131 seconds (53.82 M allocations: 2.474 GiB, 9.95% gc time)\n",
      "10\n"
     ]
    }
   ],
   "source": [
    "@time Z = HypergraphModularity.HyperLouvain(H, kmax, Ω_1; α=α, verbose = true);\n",
    "println(length(unique(Z)))"
   ]
  },
  {
   "cell_type": "markdown",
   "metadata": {},
   "source": [
    "## Sum of Exterior Degrees"
   ]
  },
  {
   "cell_type": "code",
   "execution_count": 54,
   "metadata": {},
   "outputs": [],
   "source": [
    "α = zeros(2*kmax);"
   ]
  },
  {
   "cell_type": "code",
   "execution_count": 62,
   "metadata": {},
   "outputs": [
    {
     "name": "stdout",
     "output_type": "stream",
     "text": [
      "WARNING: this function is now deprecated, use learnParameters() instead.\n"
     ]
    },
    {
     "data": {
      "text/plain": [
       "10-element Array{Float64,1}:\n",
       " -11.80339887498949\n",
       "  -3.480788262951598\n",
       "  -8.843804518544633\n",
       " -10.204497666444768\n",
       "  -9.538412408080816\n",
       "  11.80339887498948\n",
       "  -1.9630259976190572\n",
       "  -6.404009175325025\n",
       "  -5.862050004054816\n",
       "  -2.755809126649543"
      ]
     },
     "execution_count": 62,
     "metadata": {},
     "output_type": "execute_result"
    }
   ],
   "source": [
    "α = learnParameters(H, Z_dyadic, Ω_2, α; n_iters = 1000, amin = -50, amax = 50)"
   ]
  },
  {
   "cell_type": "code",
   "execution_count": 63,
   "metadata": {},
   "outputs": [
    {
     "name": "stdout",
     "output_type": "stream",
     "text": [
      "Louvain Iteration 1\n",
      "Louvain Iteration 2\n",
      "Louvain Iteration 3\n",
      "Louvain Iteration 4\n",
      "  3.657383 seconds (52.69 M allocations: 2.030 GiB, 10.10% gc time)\n",
      "9\n"
     ]
    }
   ],
   "source": [
    "@time Z = HypergraphModularity.HyperLouvain(H, kmax, Ω_2; α=α, verbose = true);\n",
    "println(length(unique(Z)))"
   ]
  },
  {
   "cell_type": "markdown",
   "metadata": {},
   "source": [
    "## All-or-nothing"
   ]
  },
  {
   "cell_type": "code",
   "execution_count": 64,
   "metadata": {},
   "outputs": [],
   "source": [
    "α = zeros(2*kmax);"
   ]
  },
  {
   "cell_type": "code",
   "execution_count": 72,
   "metadata": {},
   "outputs": [
    {
     "name": "stdout",
     "output_type": "stream",
     "text": [
      "WARNING: this function is now deprecated, use learnParameters() instead.\n"
     ]
    },
    {
     "data": {
      "text/plain": [
       "10-element Array{Float64,1}:\n",
       " -11.80339887498949\n",
       "   2.0525828740491034\n",
       "   6.288909268980722\n",
       "   8.348388042841721\n",
       "   8.47997993783242\n",
       "  11.80339887498948\n",
       "   4.268014184364058\n",
       "  10.636084335307212\n",
       "  15.025848697532082\n",
       "  17.565827200431848"
      ]
     },
     "execution_count": 72,
     "metadata": {},
     "output_type": "execute_result"
    }
   ],
   "source": [
    "α= learnParameters(H, Z_dyadic, Ω_3, α; n_iters = 1000, amin = -50, amax = 50)"
   ]
  },
  {
   "cell_type": "code",
   "execution_count": 73,
   "metadata": {},
   "outputs": [
    {
     "name": "stdout",
     "output_type": "stream",
     "text": [
      "Louvain Iteration 1\n",
      "Louvain Iteration 2\n",
      "Louvain Iteration 3\n",
      "Louvain Iteration 4\n",
      "7\n"
     ]
    }
   ],
   "source": [
    "Z = HypergraphModularity.HyperLouvain(H, kmax, Ω_3; α=α, verbose = true);\n",
    "println(length(unique(Z)))"
   ]
  }
 ],
 "metadata": {
  "kernelspec": {
   "display_name": "Julia 1.4.2",
   "language": "julia",
   "name": "julia-1.4"
  },
  "language_info": {
   "file_extension": ".jl",
   "mimetype": "application/julia",
   "name": "julia",
   "version": "1.4.2"
  }
 },
 "nbformat": 4,
 "nbformat_minor": 4
}
