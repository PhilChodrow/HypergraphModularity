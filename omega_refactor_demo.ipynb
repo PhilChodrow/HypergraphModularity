{
 "cells": [
  {
   "cell_type": "markdown",
   "metadata": {},
   "source": [
    "# Demo: refactored implementation of $\\Omega$\n",
    "\n",
    "This notebook gives an example of the new implementation of $\\Omega$. The aim of the implementation has so far been to make as few alterations as possible to the existing codebase, while still enabling the user considerably more flexibility in the definition of $\\Omega$. \n",
    "\n",
    "## Math Assumptions\n",
    "\n",
    "The primary mathematical assumption behind the new implementation is that $\\Omega(z)$ is always expressible as a function of the partition vector of $z$. This is the same assumption that we were using throughout our previous version. The aim of the new implementation is that special cases can be handled with significantly more peformant code. "
   ]
  },
  {
   "cell_type": "code",
   "execution_count": 1,
   "metadata": {},
   "outputs": [
    {
     "name": "stderr",
     "output_type": "stream",
     "text": [
      "\u001b[32m\u001b[1m Activating\u001b[22m\u001b[39m environment at `~/hypergraph_modularities_code/Project.toml`\n"
     ]
    }
   ],
   "source": [
    "using Pkg; Pkg.activate(\".\")\n",
    "using HypergraphModularity\n",
    "\n",
    "using StatsBase"
   ]
  },
  {
   "cell_type": "code",
   "execution_count": 3,
   "metadata": {},
   "outputs": [],
   "source": [
    "n = 20\n",
    "Z = rand(1:5, n)\n",
    "ϑ = dropdims(ones(1,n) + rand(1,n), dims = 1)\n",
    "μ = mean(ϑ)\n",
    "kmax = 4;"
   ]
  },
  {
   "cell_type": "markdown",
   "metadata": {},
   "source": [
    "## The `IntensityFunction` struct\n",
    "\n",
    "Now we're ready to construct $\\Omega$. In the new idiom, $\\Omega$ is an `IntensityFunction`, which contains four fields. \n",
    "Let's look at two examples, which are both implemented in `src/omega.jl`. \n",
    "\n",
    "```julia\n",
    "function partitionIntensityFunction(ω, kmax)\n",
    "    range      = partitionsUpTo(kmax)\n",
    "    P          = partitionize\n",
    "    aggregator = identity\n",
    "    return IntensityFunction(ω, P, range, aggregator)\n",
    "end\n",
    "```\n",
    "\n",
    "This `IntensityFunction` corresponds to the highly general `partitionize`-based framework we were using previously. Here are its fields: \n",
    "\n",
    "<dl>\n",
    "    <dt> ω </dt> <dd> A parameterized function whose valid inputs are the elements of `range`. </dd>\n",
    "    <dt> <code>P</code> </dt> <dd> A function that maps group label vectors (i.e. subvectors of $Z$) to <i>feature</i> vectors. <code>partitionize()</code> is an example, as is the polyadic $\\delta$-function. </dd>\n",
    "    <dt> <code>range</code> </dt> <dd> The set of all possible values of <code>P</code>. Also assumed to be the domain of the function $\\omega$. This nomenclature is perhaps confusing and may be revised.</dd>\n",
    "    <dt> <code>aggregator</code> </dt> <dd> A function that maps partition vectors (of the kind returned by <code>partitionize()</code> to elements of <code>range</code>. This is included for technical purposes related to the calculation of the volume term in modularity. It would be desirable to deprecate it if possible.  </dd>\n",
    "</dl>\n",
    "\n",
    "So, the code above creates an intensity function that operates on subvectors of $Z$ by first `partitionize()`ing them and then applying the function $\\omega$. No aggregation is needed.  \n",
    "\n",
    "On the other hand, here's an alternative that corresponds to the all-or-nothing cut. In this case, the feature map $P$ computes two entries: whether or not all entries of $z$ are the same, and the length of $z$. The `range` gives all possible results (up to size `kmax`). The aggregator takes a partition vector and returns a feature. The specified function $\\omega$ should then operate on the features. \n",
    "\n",
    "```julia\n",
    "function allOrNothingIntensityFunction(ω, kmax)\n",
    "    range      = [(1.0*x, y) for x = 0:1 for y = 1:kmax]\n",
    "    P          = z->(all(z[1] .== z), length(z))\n",
    "    aggregator = p->(length(p) == 1, sum(p))\n",
    "    return IntensityFunction(ω, P, range, aggregator)\n",
    "end\n",
    "```\n",
    "Ok, let's try it out: \n",
    "\n"
   ]
  },
  {
   "cell_type": "code",
   "execution_count": 4,
   "metadata": {},
   "outputs": [
    {
     "data": {
      "text/plain": [
       "IntensityFunction"
      ]
     },
     "execution_count": 4,
     "metadata": {},
     "output_type": "execute_result"
    }
   ],
   "source": [
    "function ω(p, α)\n",
    "    k = sum(p)\n",
    "    return sum(p)/sum((p .* (1:length(p)).^α[k])) / n^(α[kmax+k]*k)\n",
    "end\n",
    "\n",
    "α = vcat(repeat([5.0], kmax), 0.2*(1:kmax))\n",
    "Ω = partitionIntensityFunction(ω, kmax);\n",
    "\n",
    "typeof(Ω)"
   ]
  },
  {
   "cell_type": "code",
   "execution_count": 5,
   "metadata": {},
   "outputs": [
    {
     "data": {
      "text/plain": [
       "hypergraph\n",
       "  N: Array{Int64}((20,)) [1, 2, 3, 4, 5, 6, 7, 8, 9, 10, 11, 12, 13, 14, 15, 16, 17, 18, 19, 20]\n",
       "  E: Dict{Int64,Dict}\n",
       "  D: Array{Int64}((20,)) [3, 6, 10, 3, 5, 2, 2, 7, 2, 6, 1, 7, 5, 5, 4, 7, 3, 8, 4, 11]\n"
      ]
     },
     "execution_count": 5,
     "metadata": {},
     "output_type": "execute_result"
    }
   ],
   "source": [
    "H = sampleSBM(Z, ϑ, Ω;α=α, kmax=kmax, kmin = 1)"
   ]
  },
  {
   "cell_type": "markdown",
   "metadata": {},
   "source": [
    "# TODO: check on inference and algorithms\n",
    "\n",
    "# CONJECTURE: \n",
    "\n",
    "we have introduced a bug related to CutDiff_OneNode that is causing issues. Consider whether we should try to squash the bug or reimplement SuperNodeLouvain using more familiar functions such as cutDiff(). Major question will be whether this introduces additional expense (i.e. whether we gain from the penalty term used in the current code). \n",
    "\n",
    "I **think** that we do gain from storying the penalties -- should cut the number of calls to `Omega.P` by about half, which is certainly desirable. \n",
    "\n",
    "\n"
   ]
  },
  {
   "cell_type": "code",
   "execution_count": 6,
   "metadata": {},
   "outputs": [],
   "source": [
    "dataset = \"contact-primary-school\"\n",
    "kmax_ = 6\n",
    "\n",
    "H, Z = read_hypergraph_data(dataset,kmax_)\n",
    "\n",
    "kmax = maximum(keys(H.E))\n",
    "kmin = minimum(keys(H.E))\n",
    "\n",
    "n = length(H.D)\n",
    "\n",
    "# full, partition-based intensity function\n",
    "\n",
    "function ω_1(p, α)\n",
    "    k = sum(p)\n",
    "    return sum(p)/sum((p .* (1:length(p)).^α[k])) / n^(α[kmax+k]*k)\n",
    "end\n",
    "\n",
    "Ω_1 = partitionIntensityFunction(ω_1, kmax);\n",
    "\n",
    "# ---\n",
    "\n",
    "# sum of exterior\n",
    "function ω_2(p,α)\n",
    "    k = p[2]\n",
    "    δ = p[1]\n",
    "    return ((1+δ)*n)^α[k] / (1 + α[k + kmax])\n",
    "end\n",
    "\n",
    "Ω_2 = sumOfExteriorDegreesIntensityFunction(ω_2, kmax);\n",
    "\n",
    "\n",
    "# sum of exterior\n",
    "function ω_3(p,α)\n",
    "    k = p[2]\n",
    "    δ = p[1]\n",
    "    return ((1+δ)*n)^α[k] / (1 + α[k + kmax])\n",
    "end\n",
    "\n",
    "Ω_3 = allOrNothingIntensityFunction(ω_3, kmax);"
   ]
  },
  {
   "cell_type": "markdown",
   "metadata": {},
   "source": [
    "# Quick Speed Tests"
   ]
  },
  {
   "cell_type": "code",
   "execution_count": 8,
   "metadata": {},
   "outputs": [],
   "source": [
    "Z_dyadic = CliqueExpansionModularity(H);"
   ]
  },
  {
   "cell_type": "code",
   "execution_count": 67,
   "metadata": {},
   "outputs": [],
   "source": [
    "α = zeros(2*kmax);"
   ]
  },
  {
   "cell_type": "markdown",
   "metadata": {},
   "source": [
    "## General Partition-Based"
   ]
  },
  {
   "cell_type": "code",
   "execution_count": 33,
   "metadata": {},
   "outputs": [
    {
     "data": {
      "text/plain": [
       "([0.37235902432056794, 2.8678933926823387, 6.743124522082655, 7.683818220111279, 7.131635917772291, 7.6674009516602215, 0.9780918519042805, 1.1850954493288224, 1.4071329581303154, 1.6024599066543563], 207914.78210149752)"
      ]
     },
     "execution_count": 33,
     "metadata": {},
     "output_type": "execute_result"
    }
   ],
   "source": [
    "α, f = learnParameters(H, Z_dyadic, Ω_1, α; ftol_abs = 1e-1)"
   ]
  },
  {
   "cell_type": "code",
   "execution_count": 34,
   "metadata": {},
   "outputs": [
    {
     "name": "stdout",
     "output_type": "stream",
     "text": [
      "Louvain Iteration 1\n",
      "Louvain Iteration 2\n",
      "Louvain Iteration 3\n",
      "Louvain Iteration 4\n",
      " 11.752488 seconds (69.77 M allocations: 3.277 GiB, 7.81% gc time)\n",
      "10\n"
     ]
    }
   ],
   "source": [
    "@time Z = HypergraphModularity.HyperLouvain(H, kmax, Ω_1; α=α, verbose = true);\n",
    "println(length(unique(Z)))"
   ]
  },
  {
   "cell_type": "markdown",
   "metadata": {},
   "source": [
    "## Sum of Exterior Degrees"
   ]
  },
  {
   "cell_type": "code",
   "execution_count": 55,
   "metadata": {},
   "outputs": [
    {
     "data": {
      "text/plain": [
       "([-3.55152055013857, -2.8419076483855767, -3.378465742859703, -5.064439262413201, -7.056383033632777, 46.37636938449891, -0.9987452635479722, 0.10181093867767275, 2.4044502901364346, 2.3743192790382204], 211828.87377020856)"
      ]
     },
     "execution_count": 55,
     "metadata": {},
     "output_type": "execute_result"
    }
   ],
   "source": [
    "α, f = learnParameters(H, Z_dyadic, Ω_2, α; ftol_abs = 1e-1)"
   ]
  },
  {
   "cell_type": "code",
   "execution_count": 56,
   "metadata": {},
   "outputs": [
    {
     "name": "stdout",
     "output_type": "stream",
     "text": [
      "Louvain Iteration 1\n",
      "Louvain Iteration 2\n",
      "Louvain Iteration 3\n",
      "Louvain Iteration 4\n",
      "  6.286571 seconds (51.77 M allocations: 1.994 GiB, 10.19% gc time)\n",
      "9\n"
     ]
    }
   ],
   "source": [
    "@time Z = HypergraphModularity.HyperLouvain(H, kmax, Ω_2; α=α, verbose = true);\n",
    "println(length(unique(Z)))"
   ]
  },
  {
   "cell_type": "markdown",
   "metadata": {},
   "source": [
    "## All-or-nothing"
   ]
  },
  {
   "cell_type": "code",
   "execution_count": 62,
   "metadata": {},
   "outputs": [
    {
     "data": {
      "text/plain": [
       "([-5.166626719420295, -0.810169739949687, -3.354310832307315, -5.802713453197831, -8.846453973998866, 49.376131346487846, 1258.5179960504315, 55.483786753629765, 33.49339780609307, 1.3871703866306981], 230180.99969596814)"
      ]
     },
     "execution_count": 62,
     "metadata": {},
     "output_type": "execute_result"
    }
   ],
   "source": [
    "α, f = learnParameters(H, Z_dyadic, Ω_3, α; ftol_abs = 1)"
   ]
  },
  {
   "cell_type": "code",
   "execution_count": 66,
   "metadata": {},
   "outputs": [
    {
     "name": "stdout",
     "output_type": "stream",
     "text": [
      "Louvain Iteration 1\n",
      "Louvain Iteration 2\n",
      "Louvain Iteration 3\n",
      "Louvain Iteration 4\n",
      "Louvain Iteration 5\n",
      "Louvain Iteration 6\n",
      "Louvain Iteration 7\n",
      "Louvain Iteration 8\n",
      "Louvain Iteration 9\n",
      "  8.622355 seconds (71.69 M allocations: 2.754 GiB, 10.29% gc time)\n",
      "8\n"
     ]
    }
   ],
   "source": [
    "@time Z = HypergraphModularity.HyperLouvain(H, kmax, Ω_3; α=α, verbose = true);\n",
    "println(length(unique(Z)))"
   ]
  }
 ],
 "metadata": {
  "kernelspec": {
   "display_name": "Julia 1.4.2",
   "language": "julia",
   "name": "julia-1.4"
  },
  "language_info": {
   "file_extension": ".jl",
   "mimetype": "application/julia",
   "name": "julia",
   "version": "1.4.2"
  }
 },
 "nbformat": 4,
 "nbformat_minor": 4
}
