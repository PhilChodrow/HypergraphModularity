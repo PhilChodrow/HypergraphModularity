{
 "cells": [
  {
   "cell_type": "markdown",
   "metadata": {},
   "source": [
    "# Learning $\\hat{\\Omega}$\n",
    "\n",
    "In this notebook, we're going to demonstrate parameter inference for $\\Omega$, under the assumption that $\\Omega$ depends only on subgroup sizes within each edge. We consider a scenario in which we already know or have a guess about $Z$. "
   ]
  },
  {
   "cell_type": "code",
   "execution_count": 44,
   "metadata": {},
   "outputs": [
    {
     "name": "stderr",
     "output_type": "stream",
     "text": [
      "\u001b[32m\u001b[1m Activating\u001b[22m\u001b[39m environment at `~/hypergraph_modularities_code/Project.toml`\n"
     ]
    }
   ],
   "source": [
    "using Pkg; Pkg.activate(\".\")\n",
    "using HypergraphModularity\n",
    "\n",
    "using NLopt\n",
    "using StatsBase\n",
    "using Optim"
   ]
  },
  {
   "cell_type": "markdown",
   "metadata": {},
   "source": [
    "First thing we'll do is define a set of parameters, including group memberships $Z$, degree parameters $\\vartheta$, and the connection function $\\Omega$. "
   ]
  },
  {
   "cell_type": "code",
   "execution_count": 109,
   "metadata": {},
   "outputs": [
    {
     "data": {
      "text/plain": [
       "hypergraph\n",
       "  N: Array{Int64}((100,)) [1, 2, 3, 4, 5, 6, 7, 8, 9, 10  …  91, 92, 93, 94, 95, 96, 97, 98, 99, 100]\n",
       "  E: Dict{Int64,Dict}\n",
       "  D: Array{Int64}((100,)) [4, 8, 9, 6, 3, 7, 2, 6, 6, 4  …  8, 7, 2, 6, 10, 4, 8, 9, 3, 5]\n"
      ]
     },
     "execution_count": 109,
     "metadata": {},
     "output_type": "execute_result"
    }
   ],
   "source": [
    "n = 100\n",
    "Z = rand(1:5, n)\n",
    "ϑ = dropdims(ones(1,n) + rand(1,n), dims = 1)\n",
    "μ = mean(ϑ)\n",
    "kmax = 4;\n",
    "\n",
    "function ω(p, α)\n",
    "    k = sum(p)\n",
    "    return sum(p)/sum((p .* (1:length(p)).^α[k])) / n^(α[kmax+k]*k)\n",
    "end\n",
    "\n",
    "function ∇ω(p, α)\n",
    "    \n",
    "    g = zero(α)\n",
    "    \n",
    "    k = sum(p)\n",
    "    j = length(p)\n",
    "    \n",
    "    c = sum(p.*(1:j).^α[k])\n",
    "    d = sum(p.*(1:j).^α[k].*log.(1:j))\n",
    "    \n",
    "    g[k] = d/c*ω(p, α)\n",
    "    g[k+kmax] = log(n)*k*ω(p,α)\n",
    "    \n",
    "    return -convert(Vector{Float64}, g)\n",
    "end\n",
    "\n",
    "α = vcat(repeat([5.0], kmax), 0.2*(1:kmax))\n",
    "Ω = partitionIntensityFunction(ω, kmax; grad = ∇ω);\n",
    "# Ω = partitionIntensityFunction(ω, kmax; grad = nothing);\n",
    "\n",
    "H = sampleSBM(Z, ϑ, Ω;α=α, kmax=kmax, kmin = 1)"
   ]
  },
  {
   "cell_type": "code",
   "execution_count": 110,
   "metadata": {},
   "outputs": [
    {
     "data": {
      "text/plain": [
       "formObjective_ (generic function with 1 method)"
      ]
     },
     "execution_count": 110,
     "metadata": {},
     "output_type": "execute_result"
    }
   ],
   "source": [
    "function formObjective_(H, Z, Ω)\n",
    "    ℓ       = maximum(Z)\n",
    "    C       = evalCuts(H,Z,Ω)\n",
    "    V, μ, S = evalSums(Z,H,ℓ,true);\n",
    "    Ŝ       = HypergraphModularity.aggregateSums(S,Ω)\n",
    "    \n",
    "    function f(α)\n",
    "        obj = 0.0\n",
    "        for p in keys(Ŝ)\n",
    "            Op   = Ω.ω(p, α)\n",
    "            obj += get(C, p, 0)*log(Op) - Ŝ[p]*Op\n",
    "        end\n",
    "        obj = -convert(Float64, obj)\n",
    "#         println(obj, α)\n",
    "        return obj # sign is for minimization\n",
    "    end\n",
    "\n",
    "    if Ω.grad != nothing     \n",
    "        function g!(grad, α)\n",
    "            obj = 0.0\n",
    "            grad[:] = zero(α)\n",
    "            for p in keys(Ŝ)\n",
    "                Op    = Ω.ω(p, α)\n",
    "                obj  += get(C, p, 0)*log(Op) - Ŝ[p]*Op\n",
    "                grad = grad + (get(C, p, 0)/Op - Ŝ[p]).*Ω.grad(p, α)\n",
    "            end\n",
    "            grad = -convert(Vector{Float64}, grad)\n",
    "#             println(grad)\n",
    "            return grad # sign is for minimization\n",
    "        end\n",
    "        return f, g!\n",
    "    else\n",
    "        return f\n",
    "    end\n",
    "end"
   ]
  },
  {
   "cell_type": "code",
   "execution_count": 117,
   "metadata": {},
   "outputs": [
    {
     "data": {
      "text/plain": [
       "learnParameters_ (generic function with 1 method)"
      ]
     },
     "execution_count": 117,
     "metadata": {},
     "output_type": "execute_result"
    }
   ],
   "source": [
    "function learnParameters_(H, Z, Ω, α0; verbose = false, ftol_abs = 1e-6, maxeval = 100000)\n",
    "    \"\"\"\n",
    "    a more reliable optimization to learn parameters given a partition, using the COBYLA algorithm from NLopt. \n",
    "    returns both the optimal α and the objective value at that point. \n",
    "    \"\"\"\n",
    "    \n",
    "    kmax = length(α0) ÷ 2\n",
    "    f, g!  = formObjective_(H, Z, Ω)\n",
    "    \n",
    "    res = Optim.optimize(f, α0, BFGS())\n",
    "    return(res)\n",
    "end"
   ]
  },
  {
   "cell_type": "code",
   "execution_count": 120,
   "metadata": {},
   "outputs": [
    {
     "data": {
      "text/plain": [
       " * Status: success\n",
       "\n",
       " * Candidate solution\n",
       "    Final objective value:     2.550967e+03\n",
       "\n",
       " * Found with\n",
       "    Algorithm:     BFGS\n",
       "\n",
       " * Convergence measures\n",
       "    |x - x'|               = 6.98e-10 ≰ 0.0e+00\n",
       "    |x - x'|/|x'|          = 1.24e-10 ≰ 0.0e+00\n",
       "    |f(x) - f(x')|         = 0.00e+00 ≤ 0.0e+00\n",
       "    |f(x) - f(x')|/|f(x')| = 0.00e+00 ≤ 0.0e+00\n",
       "    |g(x)|                 = 3.75e-08 ≰ 1.0e-08\n",
       "\n",
       " * Work counters\n",
       "    Seconds run:   0  (vs limit Inf)\n",
       "    Iterations:    22\n",
       "    f(x) calls:    99\n",
       "    ∇f(x) calls:   99\n"
      ]
     },
     "execution_count": 120,
     "metadata": {},
     "output_type": "execute_result"
    }
   ],
   "source": [
    "res = learnParameters_(H, Z, Ω, α0)"
   ]
  },
  {
   "cell_type": "code",
   "execution_count": null,
   "metadata": {},
   "outputs": [],
   "source": []
  }
 ],
 "metadata": {
  "kernelspec": {
   "display_name": "Julia 1.4.2",
   "language": "julia",
   "name": "julia-1.4"
  },
  "language_info": {
   "file_extension": ".jl",
   "mimetype": "application/julia",
   "name": "julia",
   "version": "1.4.2"
  }
 },
 "nbformat": 4,
 "nbformat_minor": 4
}
