{
 "cells": [
  {
   "cell_type": "code",
   "execution_count": 8,
   "metadata": {},
   "outputs": [],
   "source": [
    "using StatsBase\n",
    "using Combinatorics\n",
    "include(\"jl/vol.jl\");"
   ]
  },
  {
   "cell_type": "code",
   "execution_count": 9,
   "metadata": {},
   "outputs": [],
   "source": [
    "n = 50000\n",
    "\n",
    "Z = rand(1:50, n)\n",
    "D = rand(2:100, n)\n",
    "\n",
    "r = 10 # maximum hyperedge size\n",
    "\n",
    "V, μ, M = evalSums(Z, D, r;constants=true, bigInt=true);"
   ]
  },
  {
   "cell_type": "code",
   "execution_count": 10,
   "metadata": {},
   "outputs": [
    {
     "name": "stdout",
     "output_type": "stream",
     "text": [
      "We are going to move 985 nodes from group 4 to group 5\n"
     ]
    }
   ],
   "source": [
    "s = 4\n",
    "t = 5\n",
    "to_move = findall(==(s), Z);\n",
    "println(\"We are going to move $(length(to_move)) nodes from group $s to group $t\")"
   ]
  },
  {
   "cell_type": "code",
   "execution_count": 11,
   "metadata": {},
   "outputs": [
    {
     "data": {
      "text/plain": [
       "savvy (generic function with 1 method)"
      ]
     },
     "execution_count": 11,
     "metadata": {},
     "output_type": "execute_result"
    }
   ],
   "source": [
    "function naive(Z, V, μ, M)\n",
    "    \"\"\"\n",
    "    naive version loops through one-node moves\n",
    "    \"\"\"\n",
    "    Z_ = copy(Z)\n",
    "    for i in to_move\n",
    "        ΔV, Δμ, ΔM = increments(V, μ, M, i, t, D, Z_)\n",
    "        V, μ, M = addIncrements(V, μ, M, ΔV, Δμ, ΔM)\n",
    "        # carry out the change in membership\n",
    "        Z_[i] = t\n",
    "    end\n",
    "    return(V, μ, M)\n",
    "end\n",
    "\n",
    "function savvy(Z, V, μ, M)\n",
    "    \"\"\"\n",
    "    savvy version computes the increments associated with moving all nodes as a batch. Uses a different method of increments\n",
    "    \"\"\"\n",
    "    Z_ = copy(Z)\n",
    "    ΔV, Δμ, ΔM = increments(V, μ, M, to_move, t, D, Z)\n",
    "    V, μ, M = addIncrements(V, μ, M, ΔV, Δμ, ΔM)\n",
    "    return(V, μ, M)\n",
    "end"
   ]
  },
  {
   "cell_type": "code",
   "execution_count": 14,
   "metadata": {},
   "outputs": [
    {
     "name": "stdout",
     "output_type": "stream",
     "text": [
      "  0.598837 seconds (5.80 M allocations: 382.755 MiB, 14.23% gc time)\n"
     ]
    }
   ],
   "source": [
    "@time M_n = naive(Z, V, μ, M)[3]"
   ]
  },
  {
   "cell_type": "code",
   "execution_count": 15,
   "metadata": {},
   "outputs": [
    {
     "name": "stdout",
     "output_type": "stream",
     "text": [
      "  0.001031 seconds (11.78 k allocations: 881.250 KiB)\n"
     ]
    }
   ],
   "source": [
    "@time M_s = savvy(Z, V, μ, M)[3]"
   ]
  },
  {
   "cell_type": "code",
   "execution_count": 17,
   "metadata": {},
   "outputs": [
    {
     "data": {
      "text/plain": [
       "true"
      ]
     },
     "execution_count": 17,
     "metadata": {},
     "output_type": "execute_result"
    }
   ],
   "source": [
    "all([M_s[p] == M_n[p] for p in keys(M_n)]) # check equality"
   ]
  }
 ],
 "metadata": {
  "kernelspec": {
   "display_name": "Julia 1.4.2",
   "language": "julia",
   "name": "julia-1.4"
  },
  "language_info": {
   "file_extension": ".jl",
   "mimetype": "application/julia",
   "name": "julia",
   "version": "1.4.2"
  }
 },
 "nbformat": 4,
 "nbformat_minor": 4
}
