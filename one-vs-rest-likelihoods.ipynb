{
 "cells": [
  {
   "cell_type": "code",
   "execution_count": 1,
   "metadata": {},
   "outputs": [
    {
     "name": "stderr",
     "output_type": "stream",
     "text": [
      "\u001b[32m\u001b[1m Activating\u001b[22m\u001b[39m environment at `~/code/hypergraph_modularities_code/Project.toml`\n"
     ]
    }
   ],
   "source": [
    "using Pkg; Pkg.activate(\".\")\n",
    "using HypergraphModularity\n",
    "using StatsBase"
   ]
  },
  {
   "cell_type": "code",
   "execution_count": 2,
   "metadata": {},
   "outputs": [
    {
     "data": {
      "text/plain": [
       "all_or_nothing2 (generic function with 1 method)"
      ]
     },
     "execution_count": 2,
     "metadata": {},
     "output_type": "execute_result"
    }
   ],
   "source": [
    "identity(p::Vector{Int64}) = p\n",
    "\n",
    "function sum_of_ext_degs(p::Vector{Int64})\n",
    "    soed = length(p) - 1\n",
    "    return (sum(p), soed)\n",
    "end\n",
    "\n",
    "function all_or_nothing(p::Vector{Int64})\n",
    "    is_aon = length(p) == 1\n",
    "    return (sum(p), is_aon)\n",
    "end\n",
    "\n",
    "function all_or_nothing2(p::Vector{Int64})\n",
    "    return is_aon\n",
    "end\n",
    "\n",
    "function rainbow(p::Vector{Int64})\n",
    "    is_rainbow = length(p) == sum(p) && length(p) > 1\n",
    "    return (sum(p), is_rainbow)\n",
    "end\n",
    "\n",
    "function all_or_nothing2(p::Vector{Int64})\n",
    "    return length(p) == 1\n",
    "end"
   ]
  },
  {
   "cell_type": "code",
   "execution_count": 3,
   "metadata": {},
   "outputs": [
    {
     "data": {
      "text/plain": [
       "dyadic_MLE_ll (generic function with 1 method)"
      ]
     },
     "execution_count": 3,
     "metadata": {},
     "output_type": "execute_result"
    }
   ],
   "source": [
    "function MLE_ll(Hyp, Z, agg)\n",
    "    Ω̂ = estimateΩEmpirically(Hyp, Z; min_val=0, aggregator=agg)\n",
    "    return Float64(sum(logLikelihood(Hyp, Z, Ω̂; α=0, bigInt=true)))    \n",
    "end\n",
    "\n",
    "function dyadic_MLE_ll(Hyp, Z, weighted::Bool, binary::Bool)\n",
    "    ω_in, ω_out = \n",
    "        computeDyadicResolutionParameter(Hyp, Z; mode=\"ω\", weighted=weighted, binary=binary)\n",
    "    return Float64(dyadicLogLikelihood(Hyp, Z, ω_in, ω_out; weighted=weighted, binary=binary))\n",
    "end"
   ]
  },
  {
   "cell_type": "code",
   "execution_count": 4,
   "metadata": {},
   "outputs": [
    {
     "data": {
      "text/plain": [
       "11-element Array{String,1}:\n",
       " \"Clothing, Shoes & Accessories\"\n",
       " \"Electronics and Office\"\n",
       " \"Home, Furniture & Appliances\"\n",
       " \"Home Improvement & Patio\"\n",
       " \"Baby\"\n",
       " \"Toys, Games, and Video Games\"\n",
       " \"Food, Household & Pets\"\n",
       " \"Pharmacy, Health & Beauty\"\n",
       " \"Sports, Fitness & Outdoors\"\n",
       " \"Auto, Tires & Industrial\"\n",
       " \"Other\""
      ]
     },
     "execution_count": 4,
     "metadata": {},
     "output_type": "execute_result"
    }
   ],
   "source": [
    "H, labels = read_hypergraph_data(\"walmart-trips\", 10)\n",
    "names = read_hypergraph_label_names(\"walmart-trips\")"
   ]
  },
  {
   "cell_type": "code",
   "execution_count": 5,
   "metadata": {},
   "outputs": [],
   "source": [
    "h_lls = Float64[]\n",
    "g_lls = Float64[]\n",
    "for z in unique(labels)\n",
    "    Z = ones(Int64, length(labels))\n",
    "    Z[labels .== z] .= 2\n",
    "    \n",
    "    h_ll = MLE_ll(H, Z, sum_of_ext_degs)\n",
    "    g_ll = dyadic_MLE_ll(H, Z, false, false)\n",
    "    \n",
    "    push!(h_lls, h_ll)\n",
    "    push!(g_lls, g_ll)\n",
    "end"
   ]
  },
  {
   "cell_type": "code",
   "execution_count": 6,
   "metadata": {},
   "outputs": [
    {
     "name": "stdout",
     "output_type": "stream",
     "text": [
      "     Hypergraph                         \tGraph                         \n",
      "1:   Clothing, Shoes & Accessories      \tElectronics and Office        \n",
      "2:   Home Improvement & Patio           \tSports, Fitness & Outdoors    \n",
      "3:   Home, Furniture & Appliances       \tToys, Games, and Video Games  \n",
      "4:   Food, Household & Pets             \tPharmacy, Health & Beauty     \n",
      "5:   Pharmacy, Health & Beauty          \tAuto, Tires & Industrial      \n",
      "6:   Electronics and Office             \tBaby                          \n",
      "7:   Baby                               \tHome Improvement & Patio      \n",
      "8:   Toys, Games, and Video Games       \tOther                         \n",
      "9:   Other                              \tClothing, Shoes & Accessories \n",
      "10:  Sports, Fitness & Outdoors         \tHome, Furniture & Appliances  \n",
      "11:  Auto, Tires & Industrial           \tFood, Household & Pets        \n"
     ]
    }
   ],
   "source": [
    "hsp = sortperm(h_lls, rev=true)\n",
    "gsp = sortperm(g_lls, rev=true)\n",
    "println(rpad(\"\",     5), rpad(\"Hypergraph\",  35), \"\\t\", rpad(\"Graph\",       30))\n",
    "for (i, (j, k)) in enumerate(zip(hsp, gsp))\n",
    "    println(rpad(\"$i: \", 5), rpad(\"$(names[j])\", 35), \"\\t\", rpad(\"$(names[k])\", 30))\n",
    "end"
   ]
  },
  {
   "cell_type": "code",
   "execution_count": 7,
   "metadata": {},
   "outputs": [],
   "source": [
    "H, labels = read_hypergraph_data(\"TrivagoClickout\", 10)\n",
    "names = read_hypergraph_label_names(\"TrivagoClickout\")\n",
    "name_map = Dict(name => j for (j, name) in enumerate(names))\n",
    ";"
   ]
  },
  {
   "cell_type": "code",
   "execution_count": 8,
   "metadata": {},
   "outputs": [
    {
     "name": "stdout",
     "output_type": "stream",
     "text": [
      "(names[k], v) = (\"USA\", 15519)\n",
      "(names[k], v) = (\"Brazil\", 14921)\n",
      "(names[k], v) = (\"Japan\", 10065)\n",
      "(names[k], v) = (\"India\", 9963)\n",
      "(names[k], v) = (\"Italy\", 9699)\n",
      "(names[k], v) = (\"Spain\", 8654)\n",
      "(names[k], v) = (\"United Kingdom\", 8430)\n",
      "(names[k], v) = (\"Germany\", 8269)\n",
      "(names[k], v) = (\"Turkey\", 6186)\n",
      "(names[k], v) = (\"Mexico\", 5749)\n",
      "tot = 75283\n"
     ]
    },
    {
     "data": {
      "text/plain": [
       "75283"
      ]
     },
     "execution_count": 8,
     "metadata": {},
     "output_type": "execute_result"
    }
   ],
   "source": [
    "cm = countmap(labels)\n",
    "scm = sort(collect(cm), by=x->x[2], rev=true)\n",
    "tot = length(labels)\n",
    "for (k, v) in scm[1:10]\n",
    "    @show names[k], v\n",
    "    tot -= v\n",
    "end\n",
    "@show tot"
   ]
  },
  {
   "cell_type": "code",
   "execution_count": 9,
   "metadata": {},
   "outputs": [],
   "source": [
    "#=\n",
    "s_am = [\"Brazil\", \"Colombia\", \"Argentina\", \"Peru\", \"Venezuela\", \"Chile\", \"Ecuador\", \"Bolivia\",\n",
    "        \"Bolivia\", \"Paraguay\", \"Uruguay\", \"Guyana\", \"French Guiana\"]\n",
    "n_am = [\"USA\", \"Canada\", \"Mexico\"]\n",
    "europe = [\"Austria\", \"Belgium\", \"Bulgaria\", \"Croatia\", \"Cyprus\", \"Czech Republic\", \"Denmark\", \"Estonia\", \"Finland\",\n",
    "          \"France\", \"Germany\", \"Greece\", \"Hungary\", \"Ireland\", \"Italy\", \"Latvia\", \"Lithuania\", \"Luxembourg\", \"Malta\", \n",
    "          \"Netherlands\", \"Poland\", \"Portugal\", \"Romania\", \"Slovakia\", \"Slovenia\", \"Spain\", \"Sweden\", \"Turkey\", \n",
    "          \"United Kingdom\", \"Switzerland\"]\n",
    "asia = [\"Japan\", \"Thailand\", \"Taiwan\", \"Indonesia\", \"Philippines\", \"Vietnam\", \"China\"]\n",
    "\n",
    "region_names = [\"South America\", \"North America\", \"Europe\", \"Asia\"]\n",
    "=#"
   ]
  },
  {
   "cell_type": "code",
   "execution_count": 10,
   "metadata": {},
   "outputs": [],
   "source": [
    "h_lls = Float64[]\n",
    "g_lls = Float64[]\n",
    "loc_names = []\n",
    "#for region in [s_am, n_am, europe, asia]\n",
    "#    inds = [name_map[c] for c in region]\n",
    "for (k, _) in scm[1:10]\n",
    "    Z = ones(Int64, length(labels))\n",
    "    #Z[[l for l in labels if l in inds]] .= 2\n",
    "    Z[labels .== k] .= 2\n",
    "    push!(loc_names, names[k])\n",
    "    \n",
    "    h_ll = MLE_ll(H, Z, sum_of_ext_degs)\n",
    "    g_ll = dyadic_MLE_ll(H, Z, false, false)\n",
    "    \n",
    "    push!(h_lls, h_ll)\n",
    "    push!(g_lls, g_ll)    \n",
    "end"
   ]
  },
  {
   "cell_type": "code",
   "execution_count": 11,
   "metadata": {},
   "outputs": [
    {
     "name": "stdout",
     "output_type": "stream",
     "text": [
      "     Hypergraph                         \tGraph                         \n",
      "1:   Brazil                             \tBrazil                        \n",
      "2:   Japan                              \tUSA                           \n",
      "3:   USA                                \tJapan                         \n",
      "4:   United Kingdom                     \tUnited Kingdom                \n",
      "5:   Germany                            \tGermany                       \n",
      "6:   Turkey                             \tItaly                         \n",
      "7:   Spain                              \tSpain                         \n",
      "8:   Mexico                             \tTurkey                        \n",
      "9:   India                              \tMexico                        \n",
      "10:  Italy                              \tIndia                         \n"
     ]
    }
   ],
   "source": [
    "hsp = sortperm(h_lls, rev=true)\n",
    "gsp = sortperm(g_lls, rev=true)\n",
    "println(rpad(\"\",     5), rpad(\"Hypergraph\",  35), \"\\t\", rpad(\"Graph\",       30))\n",
    "for (i, (j, k)) in enumerate(zip(hsp, gsp))\n",
    "    println(rpad(\"$i: \", 5), rpad(\"$(loc_names[j])\", 35), \"\\t\", rpad(\"$(loc_names[k])\", 30))\n",
    "end"
   ]
  },
  {
   "cell_type": "code",
   "execution_count": null,
   "metadata": {},
   "outputs": [],
   "source": []
  }
 ],
 "metadata": {
  "@webio": {
   "lastCommId": null,
   "lastKernelId": null
  },
  "kernelspec": {
   "display_name": "Julia 1.5.1",
   "language": "julia",
   "name": "julia-1.5"
  },
  "language_info": {
   "file_extension": ".jl",
   "mimetype": "application/julia",
   "name": "julia",
   "version": "1.5.1"
  }
 },
 "nbformat": 4,
 "nbformat_minor": 4
}
