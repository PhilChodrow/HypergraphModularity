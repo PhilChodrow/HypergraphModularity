{
 "cells": [
  {
   "cell_type": "markdown",
   "metadata": {},
   "source": [
    "Model might be misspecified -- want to maximize where say, there are 1 or two more of the majority party. "
   ]
  },
  {
   "cell_type": "code",
   "execution_count": 1627,
   "metadata": {},
   "outputs": [
    {
     "name": "stderr",
     "output_type": "stream",
     "text": [
      "\u001b[32m\u001b[1m Activating\u001b[22m\u001b[39m environment at `~/hypergraph_modularities_code/Project.toml`\n"
     ]
    }
   ],
   "source": [
    "using Revise\n",
    "using Pkg; Pkg.activate(\".\")\n",
    "using HypergraphModularity\n",
    "\n",
    "using DataFrames\n",
    "using CSV\n",
    "using Clustering\n",
    "\n",
    "using StatsBase\n",
    "\n",
    "using Plots\n",
    "\n",
    "using SpecialFunctions\n",
    "using TSne\n",
    "using Distances"
   ]
  },
  {
   "cell_type": "markdown",
   "metadata": {},
   "source": [
    "# Read the Data"
   ]
  },
  {
   "cell_type": "code",
   "execution_count": 1628,
   "metadata": {},
   "outputs": [
    {
     "data": {
      "text/plain": [
       "readCommittees (generic function with 1 method)"
      ]
     },
     "execution_count": 1628,
     "metadata": {},
     "output_type": "execute_result"
    }
   ],
   "source": [
    "path = \"data/congress-committees/senate_committees.csv\"\n",
    "\n",
    "function readCommittees(path)\n",
    "    DF = DataFrame!(CSV.File(path));\n",
    "    \n",
    "    sub = combine(groupby(DF, :new_id)) do sdf\n",
    "               sdf[argmax(sdf.new_id), :]\n",
    "               end\n",
    "\n",
    "    Z = sub[:, \"party\"];\n",
    "\n",
    "    E = Dict()\n",
    "\n",
    "    for sub ∈ groupby(DF, [:session, :committee])\n",
    "        e = sub[!,:new_id]\n",
    "        k = length(e)\n",
    "        if !(k ∈ keys(E))\n",
    "            E[k] = Dict()\n",
    "        end\n",
    "        E[k][e] = get(E[k], e, 0) + 1\n",
    "    end\n",
    "\n",
    "    for k in 1:maximum(keys(E))\n",
    "        if !(k ∈ keys(E))\n",
    "            E[k] = Dict()\n",
    "        end\n",
    "    end\n",
    "\n",
    "    N = unique(DF[!, :new_id])\n",
    "\n",
    "    H = hypergraph(N = N, E = E)\n",
    "\n",
    "    HypergraphModularity.computeDegrees!(H);\n",
    "    \n",
    "    return H, Z\n",
    "end"
   ]
  },
  {
   "cell_type": "code",
   "execution_count": 1629,
   "metadata": {},
   "outputs": [
    {
     "data": {
      "text/plain": [
       "(hypergraph\n",
       "  N: Array{Int64}((337,)) [1, 2, 3, 4, 5, 6, 7, 8, 9, 10  …  328, 329, 330, 331, 332, 333, 334, 335, 336, 337]\n",
       "  E: Dict{Int64,Dict}\n",
       "  D: Array{Int64}((337,)) [53, 14, 7, 12, 44, 42, 26, 46, 11, 34  …  6, 6, 3, 3, 4, 4, 2, 3, 3, 1]\n",
       ", [1, 1, 1, 1, 1, 1, 1, 1, 1, 1  …  1, 2, 2, 1, 1, 2, 2, 1, 1, 1])"
      ]
     },
     "execution_count": 1629,
     "metadata": {},
     "output_type": "execute_result"
    }
   ],
   "source": [
    "H, Z = readCommittees(path)\n",
    "\n",
    "H, Z = kcore(H, Z, 0)"
   ]
  },
  {
   "cell_type": "code",
   "execution_count": 1630,
   "metadata": {},
   "outputs": [
    {
     "data": {
      "text/plain": [
       "(hypergraph\n",
       "  N: Array{Int64}((337,)) [1, 2, 3, 4, 5, 6, 7, 8, 9, 10  …  328, 329, 330, 331, 332, 333, 334, 335, 336, 337]\n",
       "  E: Dict{Int64,Dict}\n",
       "  D: Array{Int64}((337,)) [38, 14, 7, 12, 33, 42, 26, 45, 9, 34  …  6, 6, 3, 3, 4, 4, 2, 3, 3, 1]\n",
       ", [1, 1, 1, 1, 1, 1, 1, 1, 1, 1  …  1, 2, 2, 1, 1, 2, 2, 1, 1, 1])"
      ]
     },
     "execution_count": 1630,
     "metadata": {},
     "output_type": "execute_result"
    }
   ],
   "source": [
    "for k in keys(H.E)\n",
    "    if k > 25\n",
    "        pop!(H.E, k, 0)\n",
    "    end\n",
    "end\n",
    "HypergraphModularity.computeDegrees!(H)\n",
    "\n",
    "H, Z = subHypergraph(H::hypergraph, H.D .> 0, Z)"
   ]
  },
  {
   "cell_type": "code",
   "execution_count": 1631,
   "metadata": {},
   "outputs": [
    {
     "data": {
      "text/plain": [
       "15.181008902077151"
      ]
     },
     "execution_count": 1631,
     "metadata": {},
     "output_type": "execute_result"
    }
   ],
   "source": [
    "mean(H.D)"
   ]
  },
  {
   "cell_type": "markdown",
   "metadata": {},
   "source": [
    "# $\\Omega$\n",
    "\n",
    "Our idea here is that we want an $\\Omega$ function that actively favors splits that are roughly even. "
   ]
  },
  {
   "cell_type": "code",
   "execution_count": 1632,
   "metadata": {},
   "outputs": [
    {
     "data": {
      "text/plain": [
       "-88917.09982233566375952345649475579114094494062641625420804951324020567011188891"
      ]
     },
     "execution_count": 1632,
     "metadata": {},
     "output_type": "execute_result"
    }
   ],
   "source": [
    "V = big(sum(H.D))\n",
    "\n",
    "kmax = maximum(keys(H.E))\n",
    "\n",
    "g(ℓ) = ℓ == 1 ? 1/100 : 1/ℓ^5\n",
    "\n",
    "function ω(p, α)\n",
    "    \n",
    "    # x will be unity when the committees are split exactly evenly \n",
    "    k = sum(p)\n",
    "    ℓ = length(p)\n",
    "    \n",
    "    δ = ℓ == 1 ? p[1] : p[1] - p[2]\n",
    "    μ = k % 2 == 0 ? 2.0 : 1.0\n",
    "    \n",
    "    x = -μ + δ*log(μ) - logfactorial(δ)\n",
    "    x = ℓ >= 1 ? exp(x) : 0.01\n",
    "    \n",
    "    return x/V^(α[k+kmax]*k)*g(ℓ)\n",
    "#     return x^(α[k])/V^k\n",
    "end\n",
    "\n",
    "Ω = partitionIntensityFunction(ω, kmax);\n",
    "\n",
    "α = vcat(repeat([10.0], kmax), repeat([2.0], kmax));\n",
    "\n",
    "modularity(H, Z, Ω;α = α)"
   ]
  },
  {
   "cell_type": "code",
   "execution_count": 1633,
   "metadata": {},
   "outputs": [
    {
     "data": {
      "text/plain": [
       "(2.803175842146650620518610471763972303238677359352671638404590614234314776885907e-77, 5.606351684293301241037220943527944606477354718705343276809181228468629553771815e-77)"
      ]
     },
     "execution_count": 1633,
     "metadata": {},
     "output_type": "execute_result"
    }
   ],
   "source": [
    "ω([5, 5], α), Ω.ω([6, 4], α)"
   ]
  },
  {
   "cell_type": "code",
   "execution_count": 1634,
   "metadata": {},
   "outputs": [
    {
     "name": "stdout",
     "output_type": "stream",
     "text": [
      "Q = -42988.855246027335\n"
     ]
    }
   ],
   "source": [
    "α = learnParameters(H, Z, Ω, α; max_iters = 10, verbose = true, tol = 1e-4);"
   ]
  },
  {
   "cell_type": "code",
   "execution_count": 1637,
   "metadata": {},
   "outputs": [
    {
     "name": "stdout",
     "output_type": "stream",
     "text": [
      "Faster SuperNode Louvain: Phase 1\n",
      "Louvain Iteration 1, Q = -45770.28\n",
      "Louvain Iteration 2, Q = -44742.02\n",
      "Louvain Iteration 3, Q = -44161.36\n",
      "Louvain Iteration 4, Q = -43910.67\n",
      "Louvain Iteration 5, Q = -43697.77\n",
      "Louvain Iteration 6, Q = -43613.03\n",
      "Louvain Iteration 7, Q = -43570.22\n",
      "Louvain Iteration 8, Q = -43533.53\n",
      "Louvain Iteration 9, Q = -43504.01\n",
      "Louvain Iteration 10, Q = -43472.05\n",
      "Louvain Iteration 11, Q = -43433.79\n",
      "Louvain Iteration 12, Q = -43415.57\n",
      "Louvain Iteration 13, Q = -43401.56\n",
      "Louvain Iteration 14, Q = -43400.87\n",
      "SuperNode Louvain: Phase 2\n",
      "toc = 0.0014002323150634766\n",
      "Louvain Iteration 1\n",
      "Louvain Iteration 2\n",
      "Louvain Iteration 3\n",
      "t1 = 32.042065143585205\n",
      "SuperNode Louvain: Phase 3\n",
      "toc = 0.0011279582977294922\n",
      "Louvain Iteration 1\n",
      "t1 = 6.25963282585144\n"
     ]
    }
   ],
   "source": [
    "n = length(H.D)\n",
    "Ẑ = SuperNodeLouvain(H, Ω; \n",
    "                     α = α, \n",
    "                     verbose = true, \n",
    "                     scan_order = \"random\", \n",
    "                     Z0 = collect(1:n))\n",
    "#                      Z0 = rand([1, 2], length(H.D)));"
   ]
  },
  {
   "cell_type": "code",
   "execution_count": 1636,
   "metadata": {},
   "outputs": [
    {
     "data": {
      "text/plain": [
       "11-element Array{Tuple{Array{Int64,1},Array{Int64,1}},1}:\n",
       " ([3, 1, 1, 1, 3, 3, 1, 3, 1, 3], [2, 2, 1, 1, 1, 1, 2, 2, 2, 2])\n",
       " ([1, 1, 1, 3, 3, 1, 2, 1, 1, 2], [1, 1, 2, 2, 1, 2, 1, 1, 1, 2])\n",
       " ([1, 1, 3, 1, 1, 3, 1, 1, 1, 1], [1, 1, 1, 2, 1, 2, 2, 2, 2, 2])\n",
       " ([1, 1, 3, 1, 1, 3, 1, 1, 1, 2], [1, 1, 2, 2, 2, 1, 1, 2, 2, 2])\n",
       " ([3, 1, 1, 3, 1, 3, 3, 3, 1, 2], [2, 2, 2, 1, 1, 2, 1, 1, 2, 2])\n",
       " ([1, 1, 3, 1, 1, 3, 1, 1, 1, 3], [1, 1, 1, 2, 1, 2, 2, 2, 2, 2])\n",
       " ([1, 2, 1, 2, 1, 1, 3, 1, 1, 1], [2, 1, 1, 2, 2, 1, 2, 2, 2, 1])\n",
       " ([1, 1, 1, 2, 1, 1, 3, 3, 1, 2], [1, 2, 2, 1, 1, 1, 1, 1, 2, 2])\n",
       " ([1, 3, 2, 1, 1, 3, 1, 1, 1, 3], [1, 2, 2, 2, 1, 2, 2, 2, 1, 1])\n",
       " ([1, 1, 1, 3, 3, 1, 3, 3, 3, 1], [2, 1, 1, 1, 1, 2, 2, 2, 2, 2])\n",
       " ([1, 1, 1, 3, 3, 1, 1, 2, 1, 1], [1, 1, 2, 2, 1, 2, 2, 1, 1, 1])"
      ]
     },
     "execution_count": 1636,
     "metadata": {},
     "output_type": "execute_result"
    }
   ],
   "source": [
    "[(Ẑ[e], Z[e]) for e in keys(H.E[10])]"
   ]
  },
  {
   "cell_type": "code",
   "execution_count": 1517,
   "metadata": {},
   "outputs": [
    {
     "data": {
      "text/plain": [
       "(-50731.95, 0.5712835835539724)"
      ]
     },
     "execution_count": 1517,
     "metadata": {},
     "output_type": "execute_result"
    }
   ],
   "source": [
    "Z̄ = copy(Z)\n",
    "t = 0.1\n",
    "for i in 1:length(Z)\n",
    "    Z̄[i] = rand() < t ? 3-Z[i] : Z[i]\n",
    "end\n",
    "round(Float64(modularity(H, Z̄, Ω;α = α)), digits = 2), randindex(Z̄, Z)[1]"
   ]
  },
  {
   "cell_type": "code",
   "execution_count": 1518,
   "metadata": {},
   "outputs": [
    {
     "name": "stdout",
     "output_type": "stream",
     "text": [
      "Faster SuperNode Louvain: Phase 1\n",
      "Louvain Iteration 1, Q = -50731.95\n",
      "Louvain Iteration 2, Q = -50705.7\n",
      "Louvain Iteration 3, Q = -50700.09\n",
      "Louvain Iteration 4, Q = -50699.68\n",
      "SuperNode Louvain: Phase 2\n",
      "toc = 0.000843048095703125\n",
      "Louvain Iteration 1\n",
      "t1 = 1.4346771240234375\n"
     ]
    }
   ],
   "source": [
    "Ẑ = SuperNodeLouvain(H, Ω; α = α, verbose = true, scan_order = \"random\", Z0 = Z̄);"
   ]
  },
  {
   "cell_type": "code",
   "execution_count": 1521,
   "metadata": {},
   "outputs": [
    {
     "data": {
      "text/plain": [
       "(-50699.68, 0.47646858176251405)"
      ]
     },
     "execution_count": 1521,
     "metadata": {},
     "output_type": "execute_result"
    }
   ],
   "source": [
    "# ok interesting, local  max is largely uncorrelated with true labels....\n",
    "# that is a bummer =(. Does adding more edges help? \n",
    "\n",
    "round(Float64(modularity(H, Ẑ, Ω;α = α)), digits = 2), randindex(Ẑ, Z)[1]"
   ]
  },
  {
   "cell_type": "code",
   "execution_count": 1522,
   "metadata": {},
   "outputs": [
    {
     "data": {
      "text/plain": [
       "(-50547.82, 1.0)"
      ]
     },
     "execution_count": 1522,
     "metadata": {},
     "output_type": "execute_result"
    }
   ],
   "source": [
    "# true value\n",
    "\n",
    "round(Float64(modularity(H, Z, Ω;α = α)), digits = 2), randindex(Z, Z)[1]"
   ]
  },
  {
   "cell_type": "code",
   "execution_count": 1531,
   "metadata": {},
   "outputs": [],
   "source": [
    "n_rounds = 200\n",
    "\n",
    "Q = zeros(n_rounds)\n",
    "ARI = zeros(n_rounds)\n",
    "\n",
    "for i ∈ 1:n_rounds\n",
    "    Z̄ = copy(Z)\n",
    "    t = 0.1*rand()\n",
    "    for j ∈ 1:length(Z)\n",
    "        Z̄[j] = rand() < t ? 3-Z[j] : Z[j]\n",
    "    end\n",
    "    Q[i] = modularity(H, Z̄, Ω;α = α)\n",
    "    ARI[i] = randindex(Z, Z̄)[1]\n",
    "end"
   ]
  },
  {
   "cell_type": "code",
   "execution_count": 1532,
   "metadata": {},
   "outputs": [
    {
     "data": {
      "text/plain": [
       "RObject{StrSxp}\n",
       " [1] \"forcats\"   \"stringr\"   \"dplyr\"     \"purrr\"     \"readr\"     \"tidyr\"    \n",
       " [7] \"tibble\"    \"ggplot2\"   \"tidyverse\" \"stats\"     \"graphics\"  \"grDevices\"\n",
       "[13] \"utils\"     \"datasets\"  \"methods\"   \"base\"     \n"
      ]
     },
     "execution_count": 1532,
     "metadata": {},
     "output_type": "execute_result"
    }
   ],
   "source": [
    "using RCall\n",
    "\n",
    "R\"\"\"\n",
    "library(tidyverse)\n",
    "\"\"\""
   ]
  },
  {
   "cell_type": "code",
   "execution_count": 1533,
   "metadata": {},
   "outputs": [
    {
     "data": {
      "image/png": "[encoded data removed]"
     },
     "metadata": {},
     "output_type": "display_data"
    },
    {
     "data": {
      "text/plain": [
       "RObject{VecSxp}\n"
      ]
     },
     "execution_count": 1533,
     "metadata": {},
     "output_type": "execute_result"
    },
    {
     "name": "stderr",
     "output_type": "stream",
     "text": [
      "┌ Warning: RCall.jl: `geom_smooth()` using method = 'loess' and formula 'y ~ x'\n",
      "└ @ RCall /home/phil/.julia/packages/RCall/Qzssx/src/io.jl:160\n"
     ]
    }
   ],
   "source": [
    "R\"\"\"\n",
    "df <- tibble(Q = $Q, ARI = $(ARI))\n",
    "\n",
    "best_df <- tibble(Q = $(modularity(H, Z, Ω; α =α)), ARI = $(randindex(Z, Z)[1]))\n",
    "\n",
    "df %>% \n",
    "    ggplot() + \n",
    "    aes(x = Q, y = ARI) + \n",
    "    geom_point(alpha = 0.2) + \n",
    "#    xlim(max(df$Q) - 5, max(best_df$Q)) + \n",
    "    geom_smooth() + \n",
    "    geom_hline(aes(yintercept = 1)) + \n",
    "    geom_vline(aes(xintercept = best_df$Q[1])) + \n",
    "    geom_point(data = best_df, color = \"firebrick\") + \n",
    "    theme_bw()\n",
    "\"\"\""
   ]
  },
  {
   "cell_type": "markdown",
   "metadata": {},
   "source": [
    "# Synthetic\n",
    "\n",
    "Can we do this when we have a fake hypergraph?"
   ]
  },
  {
   "cell_type": "code",
   "execution_count": 1183,
   "metadata": {},
   "outputs": [
    {
     "data": {
      "text/plain": [
       "hypergraph\n",
       "  N: Array{Int64}((100,)) [1, 2, 3, 4, 5, 6, 7, 8, 9, 10  …  91, 92, 93, 94, 95, 96, 97, 98, 99, 100]\n",
       "  E: Dict{Int64,Dict}\n",
       "  D: Array{Int64}((100,)) [9, 7, 7, 3, 13, 5, 6, 4, 5, 3  …  7, 8, 6, 1, 9, 12, 7, 6, 2, 2]\n"
      ]
     },
     "execution_count": 1183,
     "metadata": {},
     "output_type": "execute_result"
    }
   ],
   "source": [
    "n = 100\n",
    "\n",
    "kmax = 4\n",
    "\n",
    "Z = rand(1:2, n)\n",
    "\n",
    "function ω(p, α)\n",
    "    k = sum(p)\n",
    "    x = 4*prod(p) / k^2\n",
    "    return 0.5*x^5/n^(α[k+kmax]*k)*k^9\n",
    "end\n",
    "\n",
    "Ω = partitionIntensityFunction(ω, kmax);\n",
    "\n",
    "α = vcat(repeat([10.0], kmax), repeat([.1], kmax));\n",
    "\n",
    "ϑ =  1000000000*dropdims(ones(1,n) + rand(1,n), dims = 1)\n",
    "\n",
    "H = sampleSBM(Z, ϑ, Ω;α=α0, kmax=kmax, kmin = 1)"
   ]
  },
  {
   "cell_type": "code",
   "execution_count": 1184,
   "metadata": {},
   "outputs": [
    {
     "data": {
      "text/plain": [
       "5.77"
      ]
     },
     "execution_count": 1184,
     "metadata": {},
     "output_type": "execute_result"
    }
   ],
   "source": [
    "mean(H.D)"
   ]
  },
  {
   "cell_type": "code",
   "execution_count": 1185,
   "metadata": {},
   "outputs": [
    {
     "data": {
      "text/plain": [
       "4-element Array{Int64,1}:\n",
       "  55\n",
       " 100\n",
       "  54\n",
       "  40"
      ]
     },
     "execution_count": 1185,
     "metadata": {},
     "output_type": "execute_result"
    }
   ],
   "source": [
    "[length(H.E[k]) for k in 1:maximum(keys(H.E))]"
   ]
  },
  {
   "cell_type": "code",
   "execution_count": 1186,
   "metadata": {},
   "outputs": [
    {
     "name": "stdout",
     "output_type": "stream",
     "text": [
      "Q = -2878.0809048283973\n"
     ]
    },
    {
     "data": {
      "text/plain": [
       "(-2878.0, 1.0)"
      ]
     },
     "execution_count": 1186,
     "metadata": {},
     "output_type": "execute_result"
    }
   ],
   "source": [
    "α = learnParameters(H, Z, Ω, α; max_iters = 10, verbose = true, tol = 1e-4);\n",
    "round(modularity(H, Z, Ω;α = α)), randindex(Z, Z)[1]"
   ]
  },
  {
   "cell_type": "code",
   "execution_count": 1211,
   "metadata": {},
   "outputs": [
    {
     "data": {
      "text/plain": [
       "(-2954.0, 0.6044056963032804)"
      ]
     },
     "execution_count": 1211,
     "metadata": {},
     "output_type": "execute_result"
    }
   ],
   "source": [
    "Z̄ = copy(Z)\n",
    "t = 0.1\n",
    "for i in 1:length(Z)\n",
    "    Z̄[i] = rand() < t ? 3-Z[i] : Z[i]\n",
    "end\n",
    "round(modularity(H, Z̄, Ω;α = α)), randindex(Z̄, Z)[1]"
   ]
  },
  {
   "cell_type": "code",
   "execution_count": 1212,
   "metadata": {},
   "outputs": [],
   "source": [
    "Ẑ = SuperNodeLouvain(H, Ω; α = α, verbose = false, scan_order = \"random\", Z0 = Z̄);"
   ]
  },
  {
   "cell_type": "code",
   "execution_count": 1213,
   "metadata": {},
   "outputs": [
    {
     "data": {
      "text/plain": [
       "(-2876.4, 0.6363294399767251)"
      ]
     },
     "execution_count": 1213,
     "metadata": {},
     "output_type": "execute_result"
    }
   ],
   "source": [
    "# ok interesting, local  max is largely uncorrelated with true labels....\n",
    "# that is a bummer =(. Does adding more edges help? \n",
    "\n",
    "round(Float64(modularity(H, Ẑ, Ω;α = α)), digits = 2), randindex(Ẑ, Z)[1]"
   ]
  },
  {
   "cell_type": "code",
   "execution_count": 1545,
   "metadata": {},
   "outputs": [
    {
     "name": "stderr",
     "output_type": "stream",
     "text": [
      "\u001b[32m\u001b[1m  Resolving\u001b[22m\u001b[39m package versions...\n",
      "\u001b[32m\u001b[1m   Updating\u001b[22m\u001b[39m `~/hypergraph_modularities_code/Project.toml`\n",
      " \u001b[90m [b4f34e82]\u001b[39m\u001b[92m + Distances v0.9.0\u001b[39m\n",
      "\u001b[32m\u001b[1m   Updating\u001b[22m\u001b[39m `~/hypergraph_modularities_code/Manifest.toml`\n",
      "\u001b[90m [no changes]\u001b[39m\n"
     ]
    }
   ],
   "source": [
    "Pkg.add(\"Distances\")"
   ]
  },
  {
   "cell_type": "code",
   "execution_count": null,
   "metadata": {},
   "outputs": [],
   "source": []
  }
 ],
 "metadata": {
  "kernelspec": {
   "display_name": "Julia 1.4.2",
   "language": "julia",
   "name": "julia-1.4"
  },
  "language_info": {
   "file_extension": ".jl",
   "mimetype": "application/julia",
   "name": "julia",
   "version": "1.4.2"
  }
 },
 "nbformat": 4,
 "nbformat_minor": 4
}
