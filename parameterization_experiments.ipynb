{
 "cells": [
  {
   "cell_type": "markdown",
   "metadata": {},
   "source": [
    "# Parameterization Experiments\n",
    "\n",
    "In this notebook, we'll illustrate the process of learning a *parameterized* form for $\\Omega$ from data with true labels. "
   ]
  },
  {
   "cell_type": "code",
   "execution_count": 21,
   "metadata": {},
   "outputs": [],
   "source": [
    "using StatsBase\n",
    "using Combinatorics\n",
    "using Plots\n",
    "using Optim\n",
    "\n",
    "include(\"jl/omega.jl\")\n",
    "include(\"jl/HSBM.jl\")\n",
    "include(\"jl/read_data.jl\")\n",
    "include(\"jl/inference.jl\")\n",
    "include(\"jl/objectives.jl\");"
   ]
  },
  {
   "cell_type": "code",
   "execution_count": 22,
   "metadata": {},
   "outputs": [
    {
     "data": {
      "text/plain": [
       "1718.0"
      ]
     },
     "execution_count": 22,
     "metadata": {},
     "output_type": "execute_result"
    }
   ],
   "source": [
    "kmax = 15\n",
    "H, Z = read_hypergraph_data(\"congress-bills\",kmax)\n",
    "n = 1.0*length(H.D)"
   ]
  },
  {
   "cell_type": "markdown",
   "metadata": {},
   "source": [
    "Now we'll define a parameterization. In this notebook, we'll use: \n",
    "$$\\Omega(p;\\alpha) = \\left(\\frac{p_1}{k}\\right)^{\\alpha_k} n^{-\\alpha_0 k}\\;, $$\n",
    "where $k$ is the number of elements partitioned by $p$. Intuitively, he parameter $\\alpha_0$ controls the absolute size scaling, while the parameters $\\alpha_1,\\ldots,\\alpha_{kmax}$ control how the frequency of a hyperedge depends on the relative size of the plurality. Note that, although I've used the notation $\\alpha_0$ for the size parameter here, in the code below it's actually the final entry of $\\alpha$. \n"
   ]
  },
  {
   "cell_type": "code",
   "execution_count": 27,
   "metadata": {},
   "outputs": [],
   "source": [
    "function ω(p, α)\n",
    "        k = sum(p)\n",
    "        return (p[1] / k)^α[k]  / n^(α[end]*k)\n",
    "end\n",
    "\n",
    "# random initialization\n",
    "α0 = 3*rand(kmax)\n",
    "α0 = vcat(α0, 1.5)\n",
    "\n",
    "Ω = buildΩ(ω, α0, kmax);"
   ]
  },
  {
   "cell_type": "markdown",
   "metadata": {},
   "source": [
    "Next we'll optimize. The code below is VERY shaggy and VERY slow, but it captures the right general idea. Big picture: it's coordinate ascent in the entries of $\\alpha$, doing nothing smart. We're just looping through an out-of-the-box solver. "
   ]
  },
  {
   "cell_type": "code",
   "execution_count": 32,
   "metadata": {},
   "outputs": [
    {
     "name": "stdout",
     "output_type": "stream",
     "text": [
      "4.863219259562454e6\n",
      "4.863091500148607e6\n",
      "4.8630211112843035e6\n",
      "4.862982827765676e6\n",
      "4.862962208856954e6\n",
      "4.862951185112626e6\n",
      "4.8629453234318225e6\n",
      "4.862942219112938e6\n",
      "4.862940579931674e6\n",
      "4.862939716258456e6\n",
      "4.862939261910767e6\n",
      "4.862939023167857e6\n",
      "4.862938897821201e6\n",
      "4.862938832050074e6\n",
      "4.86293879755386e6\n",
      "4.862938779464442e6\n",
      "4.862938769983699e6\n",
      "4.862938765014423e6\n",
      "4.862938762410029e6\n",
      "4.86293876104512e6\n"
     ]
    }
   ],
   "source": [
    "α = α0\n",
    "\n",
    "ℓ = maximum(k for k in keys(H.E)) # size of largest hyperedge\n",
    "\n",
    "C       = evalCuts(Z,H)\n",
    "V, μ, S = evalSums(Z,H,ℓ,true);\n",
    "\n",
    "order = vcat([kmax+1], 1:kmax)\n",
    "\n",
    "for i = 1:20\n",
    "    res = 0\n",
    "    for h = 1:length(α0)\n",
    "        j = order[h]\n",
    "        function objective(a)\n",
    "            alph = copy(α)\n",
    "            alph[j] = a[1]\n",
    "            obj = 0.0\n",
    "            for p in keys(S)\n",
    "                Op = Ω(p; α=alph, mode=\"partition\")\n",
    "                obj -= S[p]*Op\n",
    "                if p in keys(C)\n",
    "                    obj += C[p]*log(Op)\n",
    "                end\n",
    "            end\n",
    "            return -obj # for minimization\n",
    "        end\n",
    "        res = optimize(objective, [α[j]], LBFGS())\n",
    "        α[j] = Optim.minimizer(res)[1]\n",
    "    end\n",
    "    println(Optim.minimum(res))\n",
    "end"
   ]
  },
  {
   "cell_type": "markdown",
   "metadata": {},
   "source": [
    "Let's plot the entries of $\\alpha$ corresponding to the influence of the group plurality. "
   ]
  },
  {
   "cell_type": "code",
   "execution_count": 33,
   "metadata": {},
   "outputs": [
    {
     "data": {
      "image/svg+xml": [
       "<?xml version=\"1.0\" encoding=\"utf-8\"?>\n",
       "<svg xmlns=\"http://www.w3.org/2000/svg\" xmlns:xlink=\"http://www.w3.org/1999/xlink\" width=\"600\" height=\"400\" viewBox=\"0 0 2400 1600\">\n",
       "<defs>\n",
       "  <clipPath id=\"clip890\">\n",
       "    <rect x=\"0\" y=\"0\" width=\"2400\" height=\"1600\"/>\n",
       "  </clipPath>\n",
       "</defs>\n",
       "<path clip-path=\"url(#clip890)\" d=\"\n",
       "M0 1600 L2400 1600 L2400 0 L0 0  Z\n",
       "  \" fill=\"#ffffff\" fill-rule=\"evenodd\" fill-opacity=\"1\"/>\n",
       "<defs>\n",
       "  <clipPath id=\"clip891\">\n",
       "    <rect x=\"480\" y=\"0\" width=\"1681\" height=\"1600\"/>\n",
       "  </clipPath>\n",
       "</defs>\n",
       "<path clip-path=\"url(#clip890)\" d=\"\n",
       "M152.27 1486.45 L2352.76 1486.45 L2352.76 47.2441 L152.27 47.2441  Z\n",
       "  \" fill=\"#ffffff\" fill-rule=\"evenodd\" fill-opacity=\"1\"/>\n",
       "<defs>\n",
       "  <clipPath id=\"clip892\">\n",
       "    <rect x=\"152\" y=\"47\" width=\"2201\" height=\"1440\"/>\n",
       "  </clipPath>\n",
       "</defs>\n",
       "<polyline clip-path=\"url(#clip892)\" style=\"stroke:#000000; stroke-width:2; stroke-opacity:0.1; fill:none\" points=\"\n",
       "  362.828,1486.45 362.828,47.2441 \n",
       "  \"/>\n",
       "<polyline clip-path=\"url(#clip892)\" style=\"stroke:#000000; stroke-width:2; stroke-opacity:0.1; fill:none\" points=\"\n",
       "  659.39,1486.45 659.39,47.2441 \n",
       "  \"/>\n",
       "<polyline clip-path=\"url(#clip892)\" style=\"stroke:#000000; stroke-width:2; stroke-opacity:0.1; fill:none\" points=\"\n",
       "  955.951,1486.45 955.951,47.2441 \n",
       "  \"/>\n",
       "<polyline clip-path=\"url(#clip892)\" style=\"stroke:#000000; stroke-width:2; stroke-opacity:0.1; fill:none\" points=\"\n",
       "  1252.51,1486.45 1252.51,47.2441 \n",
       "  \"/>\n",
       "<polyline clip-path=\"url(#clip892)\" style=\"stroke:#000000; stroke-width:2; stroke-opacity:0.1; fill:none\" points=\"\n",
       "  1549.07,1486.45 1549.07,47.2441 \n",
       "  \"/>\n",
       "<polyline clip-path=\"url(#clip892)\" style=\"stroke:#000000; stroke-width:2; stroke-opacity:0.1; fill:none\" points=\"\n",
       "  1845.64,1486.45 1845.64,47.2441 \n",
       "  \"/>\n",
       "<polyline clip-path=\"url(#clip892)\" style=\"stroke:#000000; stroke-width:2; stroke-opacity:0.1; fill:none\" points=\"\n",
       "  2142.2,1486.45 2142.2,47.2441 \n",
       "  \"/>\n",
       "<polyline clip-path=\"url(#clip892)\" style=\"stroke:#000000; stroke-width:2; stroke-opacity:0.1; fill:none\" points=\"\n",
       "  152.27,1286.24 2352.76,1286.24 \n",
       "  \"/>\n",
       "<polyline clip-path=\"url(#clip892)\" style=\"stroke:#000000; stroke-width:2; stroke-opacity:0.1; fill:none\" points=\"\n",
       "  152.27,941.719 2352.76,941.719 \n",
       "  \"/>\n",
       "<polyline clip-path=\"url(#clip892)\" style=\"stroke:#000000; stroke-width:2; stroke-opacity:0.1; fill:none\" points=\"\n",
       "  152.27,597.199 2352.76,597.199 \n",
       "  \"/>\n",
       "<polyline clip-path=\"url(#clip892)\" style=\"stroke:#000000; stroke-width:2; stroke-opacity:0.1; fill:none\" points=\"\n",
       "  152.27,252.68 2352.76,252.68 \n",
       "  \"/>\n",
       "<polyline clip-path=\"url(#clip890)\" style=\"stroke:#000000; stroke-width:4; stroke-opacity:1; fill:none\" points=\"\n",
       "  152.27,1486.45 2352.76,1486.45 \n",
       "  \"/>\n",
       "<polyline clip-path=\"url(#clip890)\" style=\"stroke:#000000; stroke-width:4; stroke-opacity:1; fill:none\" points=\"\n",
       "  152.27,1486.45 152.27,47.2441 \n",
       "  \"/>\n",
       "<polyline clip-path=\"url(#clip890)\" style=\"stroke:#000000; stroke-width:4; stroke-opacity:1; fill:none\" points=\"\n",
       "  362.828,1486.45 362.828,1469.18 \n",
       "  \"/>\n",
       "<polyline clip-path=\"url(#clip890)\" style=\"stroke:#000000; stroke-width:4; stroke-opacity:1; fill:none\" points=\"\n",
       "  659.39,1486.45 659.39,1469.18 \n",
       "  \"/>\n",
       "<polyline clip-path=\"url(#clip890)\" style=\"stroke:#000000; stroke-width:4; stroke-opacity:1; fill:none\" points=\"\n",
       "  955.951,1486.45 955.951,1469.18 \n",
       "  \"/>\n",
       "<polyline clip-path=\"url(#clip890)\" style=\"stroke:#000000; stroke-width:4; stroke-opacity:1; fill:none\" points=\"\n",
       "  1252.51,1486.45 1252.51,1469.18 \n",
       "  \"/>\n",
       "<polyline clip-path=\"url(#clip890)\" style=\"stroke:#000000; stroke-width:4; stroke-opacity:1; fill:none\" points=\"\n",
       "  1549.07,1486.45 1549.07,1469.18 \n",
       "  \"/>\n",
       "<polyline clip-path=\"url(#clip890)\" style=\"stroke:#000000; stroke-width:4; stroke-opacity:1; fill:none\" points=\"\n",
       "  1845.64,1486.45 1845.64,1469.18 \n",
       "  \"/>\n",
       "<polyline clip-path=\"url(#clip890)\" style=\"stroke:#000000; stroke-width:4; stroke-opacity:1; fill:none\" points=\"\n",
       "  2142.2,1486.45 2142.2,1469.18 \n",
       "  \"/>\n",
       "<polyline clip-path=\"url(#clip890)\" style=\"stroke:#000000; stroke-width:4; stroke-opacity:1; fill:none\" points=\"\n",
       "  152.27,1286.24 178.675,1286.24 \n",
       "  \"/>\n",
       "<polyline clip-path=\"url(#clip890)\" style=\"stroke:#000000; stroke-width:4; stroke-opacity:1; fill:none\" points=\"\n",
       "  152.27,941.719 178.675,941.719 \n",
       "  \"/>\n",
       "<polyline clip-path=\"url(#clip890)\" style=\"stroke:#000000; stroke-width:4; stroke-opacity:1; fill:none\" points=\"\n",
       "  152.27,597.199 178.675,597.199 \n",
       "  \"/>\n",
       "<polyline clip-path=\"url(#clip890)\" style=\"stroke:#000000; stroke-width:4; stroke-opacity:1; fill:none\" points=\"\n",
       "  152.27,252.68 178.675,252.68 \n",
       "  \"/>\n",
       "<path clip-path=\"url(#clip890)\" d=\"M 0 0 M357.481 1535.98 L373.8 1535.98 L373.8 1539.92 L351.856 1539.92 L351.856 1535.98 Q354.518 1533.23 359.101 1528.6 Q363.708 1523.95 364.888 1522.61 Q367.134 1520.08 368.013 1518.35 Q368.916 1516.59 368.916 1514.9 Q368.916 1512.14 366.972 1510.41 Q365.05 1508.67 361.949 1508.67 Q359.75 1508.67 357.296 1509.43 Q354.865 1510.2 352.088 1511.75 L352.088 1507.03 Q354.912 1505.89 357.365 1505.31 Q359.819 1504.73 361.856 1504.73 Q367.226 1504.73 370.421 1507.42 Q373.615 1510.11 373.615 1514.6 Q373.615 1516.73 372.805 1518.65 Q372.018 1520.54 369.912 1523.14 Q369.333 1523.81 366.231 1527.03 Q363.129 1530.22 357.481 1535.98 Z\" fill=\"#000000\" fill-rule=\"evenodd\" fill-opacity=\"1\" /><path clip-path=\"url(#clip890)\" d=\"M 0 0 M662.399 1509.43 L650.593 1527.88 L662.399 1527.88 L662.399 1509.43 M661.172 1505.36 L667.052 1505.36 L667.052 1527.88 L671.982 1527.88 L671.982 1531.77 L667.052 1531.77 L667.052 1539.92 L662.399 1539.92 L662.399 1531.77 L646.797 1531.77 L646.797 1527.26 L661.172 1505.36 Z\" fill=\"#000000\" fill-rule=\"evenodd\" fill-opacity=\"1\" /><path clip-path=\"url(#clip890)\" d=\"M 0 0 M956.356 1520.78 Q953.208 1520.78 951.356 1522.93 Q949.528 1525.08 949.528 1528.83 Q949.528 1532.56 951.356 1534.73 Q953.208 1536.89 956.356 1536.89 Q959.504 1536.89 961.333 1534.73 Q963.185 1532.56 963.185 1528.83 Q963.185 1525.08 961.333 1522.93 Q959.504 1520.78 956.356 1520.78 M965.639 1506.12 L965.639 1510.38 Q963.879 1509.55 962.074 1509.11 Q960.291 1508.67 958.532 1508.67 Q953.903 1508.67 951.449 1511.8 Q949.018 1514.92 948.671 1521.24 Q950.037 1519.23 952.097 1518.16 Q954.157 1517.07 956.634 1517.07 Q961.842 1517.07 964.852 1520.24 Q967.884 1523.39 967.884 1528.83 Q967.884 1534.16 964.736 1537.37 Q961.588 1540.59 956.356 1540.59 Q950.361 1540.59 947.19 1536.01 Q944.018 1531.4 944.018 1522.67 Q944.018 1514.48 947.907 1509.62 Q951.796 1504.73 958.347 1504.73 Q960.106 1504.73 961.889 1505.08 Q963.694 1505.43 965.639 1506.12 Z\" fill=\"#000000\" fill-rule=\"evenodd\" fill-opacity=\"1\" /><path clip-path=\"url(#clip890)\" d=\"M 0 0 M1252.51 1523.51 Q1249.18 1523.51 1247.26 1525.29 Q1245.36 1527.07 1245.36 1530.2 Q1245.36 1533.32 1247.26 1535.11 Q1249.18 1536.89 1252.51 1536.89 Q1255.85 1536.89 1257.77 1535.11 Q1259.69 1533.3 1259.69 1530.2 Q1259.69 1527.07 1257.77 1525.29 Q1255.87 1523.51 1252.51 1523.51 M1247.84 1521.52 Q1244.83 1520.78 1243.14 1518.72 Q1241.47 1516.66 1241.47 1513.69 Q1241.47 1509.55 1244.41 1507.14 Q1247.37 1504.73 1252.51 1504.73 Q1257.67 1504.73 1260.61 1507.14 Q1263.55 1509.55 1263.55 1513.69 Q1263.55 1516.66 1261.86 1518.72 Q1260.2 1520.78 1257.21 1521.52 Q1260.59 1522.3 1262.47 1524.6 Q1264.36 1526.89 1264.36 1530.2 Q1264.36 1535.22 1261.29 1537.91 Q1258.23 1540.59 1252.51 1540.59 Q1246.8 1540.59 1243.72 1537.91 Q1240.66 1535.22 1240.66 1530.2 Q1240.66 1526.89 1242.56 1524.6 Q1244.46 1522.3 1247.84 1521.52 M1246.12 1514.13 Q1246.12 1516.82 1247.79 1518.32 Q1249.48 1519.83 1252.51 1519.83 Q1255.52 1519.83 1257.21 1518.32 Q1258.92 1516.82 1258.92 1514.13 Q1258.92 1511.45 1257.21 1509.94 Q1255.52 1508.44 1252.51 1508.44 Q1249.48 1508.44 1247.79 1509.94 Q1246.12 1511.45 1246.12 1514.13 Z\" fill=\"#000000\" fill-rule=\"evenodd\" fill-opacity=\"1\" /><path clip-path=\"url(#clip890)\" d=\"M 0 0 M1525.95 1535.98 L1533.59 1535.98 L1533.59 1509.62 L1525.28 1511.29 L1525.28 1507.03 L1533.54 1505.36 L1538.22 1505.36 L1538.22 1535.98 L1545.86 1535.98 L1545.86 1539.92 L1525.95 1539.92 L1525.95 1535.98 Z\" fill=\"#000000\" fill-rule=\"evenodd\" fill-opacity=\"1\" /><path clip-path=\"url(#clip890)\" d=\"M 0 0 M1560.93 1508.44 Q1557.31 1508.44 1555.49 1512 Q1553.68 1515.55 1553.68 1522.67 Q1553.68 1529.78 1555.49 1533.35 Q1557.31 1536.89 1560.93 1536.89 Q1564.56 1536.89 1566.37 1533.35 Q1568.19 1529.78 1568.19 1522.67 Q1568.19 1515.55 1566.37 1512 Q1564.56 1508.44 1560.93 1508.44 M1560.93 1504.73 Q1566.74 1504.73 1569.79 1509.34 Q1572.87 1513.92 1572.87 1522.67 Q1572.87 1531.4 1569.79 1536.01 Q1566.74 1540.59 1560.93 1540.59 Q1555.12 1540.59 1552.04 1536.01 Q1548.98 1531.4 1548.98 1522.67 Q1548.98 1513.92 1552.04 1509.34 Q1555.12 1504.73 1560.93 1504.73 Z\" fill=\"#000000\" fill-rule=\"evenodd\" fill-opacity=\"1\" /><path clip-path=\"url(#clip890)\" d=\"M 0 0 M1823.31 1535.98 L1830.95 1535.98 L1830.95 1509.62 L1822.64 1511.29 L1822.64 1507.03 L1830.9 1505.36 L1835.58 1505.36 L1835.58 1535.98 L1843.22 1535.98 L1843.22 1539.92 L1823.31 1539.92 L1823.31 1535.98 Z\" fill=\"#000000\" fill-rule=\"evenodd\" fill-opacity=\"1\" /><path clip-path=\"url(#clip890)\" d=\"M 0 0 M1852.31 1535.98 L1868.63 1535.98 L1868.63 1539.92 L1846.69 1539.92 L1846.69 1535.98 Q1849.35 1533.23 1853.93 1528.6 Q1858.54 1523.95 1859.72 1522.61 Q1861.97 1520.08 1862.85 1518.35 Q1863.75 1516.59 1863.75 1514.9 Q1863.75 1512.14 1861.8 1510.41 Q1859.88 1508.67 1856.78 1508.67 Q1854.58 1508.67 1852.13 1509.43 Q1849.7 1510.2 1846.92 1511.75 L1846.92 1507.03 Q1849.74 1505.89 1852.2 1505.31 Q1854.65 1504.73 1856.69 1504.73 Q1862.06 1504.73 1865.25 1507.42 Q1868.45 1510.11 1868.45 1514.6 Q1868.45 1516.73 1867.64 1518.65 Q1866.85 1520.54 1864.74 1523.14 Q1864.17 1523.81 1861.06 1527.03 Q1857.96 1530.22 1852.31 1535.98 Z\" fill=\"#000000\" fill-rule=\"evenodd\" fill-opacity=\"1\" /><path clip-path=\"url(#clip890)\" d=\"M 0 0 M2118.83 1535.98 L2126.47 1535.98 L2126.47 1509.62 L2118.16 1511.29 L2118.16 1507.03 L2126.42 1505.36 L2131.1 1505.36 L2131.1 1535.98 L2138.74 1535.98 L2138.74 1539.92 L2118.83 1539.92 L2118.83 1535.98 Z\" fill=\"#000000\" fill-rule=\"evenodd\" fill-opacity=\"1\" /><path clip-path=\"url(#clip890)\" d=\"M 0 0 M2156.65 1509.43 L2144.85 1527.88 L2156.65 1527.88 L2156.65 1509.43 M2155.43 1505.36 L2161.31 1505.36 L2161.31 1527.88 L2166.24 1527.88 L2166.24 1531.77 L2161.31 1531.77 L2161.31 1539.92 L2156.65 1539.92 L2156.65 1531.77 L2141.05 1531.77 L2141.05 1527.26 L2155.43 1505.36 Z\" fill=\"#000000\" fill-rule=\"evenodd\" fill-opacity=\"1\" /><path clip-path=\"url(#clip890)\" d=\"M 0 0 M62.9921 1288.63 L75.4689 1288.63 L75.4689 1292.43 L62.9921 1292.43 L62.9921 1288.63 Z\" fill=\"#000000\" fill-rule=\"evenodd\" fill-opacity=\"1\" /><path clip-path=\"url(#clip890)\" d=\"M 0 0 M81.3485 1299.58 L88.9874 1299.58 L88.9874 1273.22 L80.6772 1274.89 L80.6772 1270.63 L88.9411 1268.96 L93.617 1268.96 L93.617 1299.58 L101.256 1299.58 L101.256 1303.52 L81.3485 1303.52 L81.3485 1299.58 Z\" fill=\"#000000\" fill-rule=\"evenodd\" fill-opacity=\"1\" /><path clip-path=\"url(#clip890)\" d=\"M 0 0 M116.325 1272.04 Q112.714 1272.04 110.885 1275.6 Q109.08 1279.14 109.08 1286.27 Q109.08 1293.38 110.885 1296.95 Q112.714 1300.49 116.325 1300.49 Q119.959 1300.49 121.765 1296.95 Q123.594 1293.38 123.594 1286.27 Q123.594 1279.14 121.765 1275.6 Q119.959 1272.04 116.325 1272.04 M116.325 1268.33 Q122.135 1268.33 125.191 1272.94 Q128.27 1277.52 128.27 1286.27 Q128.27 1295 125.191 1299.61 Q122.135 1304.19 116.325 1304.19 Q110.515 1304.19 107.436 1299.61 Q104.381 1295 104.381 1286.27 Q104.381 1277.52 107.436 1272.94 Q110.515 1268.33 116.325 1268.33 Z\" fill=\"#000000\" fill-rule=\"evenodd\" fill-opacity=\"1\" /><path clip-path=\"url(#clip890)\" d=\"M 0 0 M116.325 927.518 Q112.714 927.518 110.885 931.083 Q109.08 934.624 109.08 941.754 Q109.08 948.86 110.885 952.425 Q112.714 955.967 116.325 955.967 Q119.959 955.967 121.765 952.425 Q123.594 948.86 123.594 941.754 Q123.594 934.624 121.765 931.083 Q119.959 927.518 116.325 927.518 M116.325 923.814 Q122.135 923.814 125.191 928.421 Q128.27 933.004 128.27 941.754 Q128.27 950.481 125.191 955.087 Q122.135 959.671 116.325 959.671 Q110.515 959.671 107.436 955.087 Q104.381 950.481 104.381 941.754 Q104.381 933.004 107.436 928.421 Q110.515 923.814 116.325 923.814 Z\" fill=\"#000000\" fill-rule=\"evenodd\" fill-opacity=\"1\" /><path clip-path=\"url(#clip890)\" d=\"M 0 0 M81.3485 610.544 L88.9874 610.544 L88.9874 584.179 L80.6772 585.845 L80.6772 581.586 L88.9411 579.919 L93.617 579.919 L93.617 610.544 L101.256 610.544 L101.256 614.479 L81.3485 614.479 L81.3485 610.544 Z\" fill=\"#000000\" fill-rule=\"evenodd\" fill-opacity=\"1\" /><path clip-path=\"url(#clip890)\" d=\"M 0 0 M116.325 582.998 Q112.714 582.998 110.885 586.563 Q109.08 590.105 109.08 597.234 Q109.08 604.341 110.885 607.905 Q112.714 611.447 116.325 611.447 Q119.959 611.447 121.765 607.905 Q123.594 604.341 123.594 597.234 Q123.594 590.105 121.765 586.563 Q119.959 582.998 116.325 582.998 M116.325 579.294 Q122.135 579.294 125.191 583.901 Q128.27 588.484 128.27 597.234 Q128.27 605.961 125.191 610.567 Q122.135 615.151 116.325 615.151 Q110.515 615.151 107.436 610.567 Q104.381 605.961 104.381 597.234 Q104.381 588.484 107.436 583.901 Q110.515 579.294 116.325 579.294 Z\" fill=\"#000000\" fill-rule=\"evenodd\" fill-opacity=\"1\" /><path clip-path=\"url(#clip890)\" d=\"M 0 0 M84.9365 266.024 L101.256 266.024 L101.256 269.96 L79.3115 269.96 L79.3115 266.024 Q81.9735 263.27 86.5568 258.64 Q91.1633 253.987 92.3438 252.645 Q94.5892 250.122 95.4688 248.386 Q96.3716 246.626 96.3716 244.937 Q96.3716 242.182 94.4271 240.446 Q92.5059 238.71 89.404 238.71 Q87.205 238.71 84.7513 239.474 Q82.3207 240.238 79.543 241.788 L79.543 237.066 Q82.367 235.932 84.8207 235.353 Q87.2744 234.775 89.3114 234.775 Q94.6818 234.775 97.8762 237.46 Q101.071 240.145 101.071 244.636 Q101.071 246.765 100.26 248.687 Q99.4734 250.585 97.3669 253.177 Q96.7882 253.849 93.6864 257.066 Q90.5846 260.261 84.9365 266.024 Z\" fill=\"#000000\" fill-rule=\"evenodd\" fill-opacity=\"1\" /><path clip-path=\"url(#clip890)\" d=\"M 0 0 M116.325 238.478 Q112.714 238.478 110.885 242.043 Q109.08 245.585 109.08 252.714 Q109.08 259.821 110.885 263.386 Q112.714 266.927 116.325 266.927 Q119.959 266.927 121.765 263.386 Q123.594 259.821 123.594 252.714 Q123.594 245.585 121.765 242.043 Q119.959 238.478 116.325 238.478 M116.325 234.775 Q122.135 234.775 125.191 239.381 Q128.27 243.964 128.27 252.714 Q128.27 261.441 125.191 266.048 Q122.135 270.631 116.325 270.631 Q110.515 270.631 107.436 266.048 Q104.381 261.441 104.381 252.714 Q104.381 243.964 107.436 239.381 Q110.515 234.775 116.325 234.775 Z\" fill=\"#000000\" fill-rule=\"evenodd\" fill-opacity=\"1\" /><circle clip-path=\"url(#clip892)\" cx=\"214.547\" cy=\"909.739\" r=\"14\" fill=\"#009af9\" fill-rule=\"evenodd\" fill-opacity=\"1\" stroke=\"#000000\" stroke-opacity=\"1\" stroke-width=\"3.2\"/>\n",
       "<circle clip-path=\"url(#clip892)\" cx=\"362.828\" cy=\"1305.5\" r=\"14\" fill=\"#009af9\" fill-rule=\"evenodd\" fill-opacity=\"1\" stroke=\"#000000\" stroke-opacity=\"1\" stroke-width=\"3.2\"/>\n",
       "<circle clip-path=\"url(#clip892)\" cx=\"511.109\" cy=\"1445.72\" r=\"14\" fill=\"#009af9\" fill-rule=\"evenodd\" fill-opacity=\"1\" stroke=\"#000000\" stroke-opacity=\"1\" stroke-width=\"3.2\"/>\n",
       "<circle clip-path=\"url(#clip892)\" cx=\"659.39\" cy=\"1194.2\" r=\"14\" fill=\"#009af9\" fill-rule=\"evenodd\" fill-opacity=\"1\" stroke=\"#000000\" stroke-opacity=\"1\" stroke-width=\"3.2\"/>\n",
       "<circle clip-path=\"url(#clip892)\" cx=\"807.67\" cy=\"1175.32\" r=\"14\" fill=\"#009af9\" fill-rule=\"evenodd\" fill-opacity=\"1\" stroke=\"#000000\" stroke-opacity=\"1\" stroke-width=\"3.2\"/>\n",
       "<circle clip-path=\"url(#clip892)\" cx=\"955.951\" cy=\"1067.18\" r=\"14\" fill=\"#009af9\" fill-rule=\"evenodd\" fill-opacity=\"1\" stroke=\"#000000\" stroke-opacity=\"1\" stroke-width=\"3.2\"/>\n",
       "<circle clip-path=\"url(#clip892)\" cx=\"1104.23\" cy=\"1003.23\" r=\"14\" fill=\"#009af9\" fill-rule=\"evenodd\" fill-opacity=\"1\" stroke=\"#000000\" stroke-opacity=\"1\" stroke-width=\"3.2\"/>\n",
       "<circle clip-path=\"url(#clip892)\" cx=\"1252.51\" cy=\"924.229\" r=\"14\" fill=\"#009af9\" fill-rule=\"evenodd\" fill-opacity=\"1\" stroke=\"#000000\" stroke-opacity=\"1\" stroke-width=\"3.2\"/>\n",
       "<circle clip-path=\"url(#clip892)\" cx=\"1400.79\" cy=\"840.76\" r=\"14\" fill=\"#009af9\" fill-rule=\"evenodd\" fill-opacity=\"1\" stroke=\"#000000\" stroke-opacity=\"1\" stroke-width=\"3.2\"/>\n",
       "<circle clip-path=\"url(#clip892)\" cx=\"1549.07\" cy=\"751.809\" r=\"14\" fill=\"#009af9\" fill-rule=\"evenodd\" fill-opacity=\"1\" stroke=\"#000000\" stroke-opacity=\"1\" stroke-width=\"3.2\"/>\n",
       "<circle clip-path=\"url(#clip892)\" cx=\"1697.35\" cy=\"648.113\" r=\"14\" fill=\"#009af9\" fill-rule=\"evenodd\" fill-opacity=\"1\" stroke=\"#000000\" stroke-opacity=\"1\" stroke-width=\"3.2\"/>\n",
       "<circle clip-path=\"url(#clip892)\" cx=\"1845.64\" cy=\"535.082\" r=\"14\" fill=\"#009af9\" fill-rule=\"evenodd\" fill-opacity=\"1\" stroke=\"#000000\" stroke-opacity=\"1\" stroke-width=\"3.2\"/>\n",
       "<circle clip-path=\"url(#clip892)\" cx=\"1993.92\" cy=\"404.854\" r=\"14\" fill=\"#009af9\" fill-rule=\"evenodd\" fill-opacity=\"1\" stroke=\"#000000\" stroke-opacity=\"1\" stroke-width=\"3.2\"/>\n",
       "<circle clip-path=\"url(#clip892)\" cx=\"2142.2\" cy=\"265.336\" r=\"14\" fill=\"#009af9\" fill-rule=\"evenodd\" fill-opacity=\"1\" stroke=\"#000000\" stroke-opacity=\"1\" stroke-width=\"3.2\"/>\n",
       "<circle clip-path=\"url(#clip892)\" cx=\"2290.48\" cy=\"87.9763\" r=\"14\" fill=\"#009af9\" fill-rule=\"evenodd\" fill-opacity=\"1\" stroke=\"#000000\" stroke-opacity=\"1\" stroke-width=\"3.2\"/>\n",
       "</svg>\n"
      ]
     },
     "execution_count": 33,
     "metadata": {},
     "output_type": "execute_result"
    }
   ],
   "source": [
    "plot(1:kmax, α[1:kmax], seriestype = :scatter, label = \"\")"
   ]
  },
  {
   "cell_type": "markdown",
   "metadata": {},
   "source": [
    "So, several things about this are reasonably neat. First, the value of $\\alpha_k$ depends relatively smoothly on $k$. Perhaps more interesting is the fact that the small $k$ values of $\\alpha$ are negative, suggesting that small groups of cosponsors actually tend to be heterogeneous. \n",
    "\n",
    "The strong dependence on size is worth querying further, however, and I don't fully trust these results. Considering that there's plenty of data, a better approach might be to do a similar method but with a different parameter in the dominator for each size, resulting in $2kmax$ parameters. This would allow us to check that this isn't just a model misbehavior in which the $\\alpha_k$'s are actually attempting to do the work of $\\alpha_0$. "
   ]
  }
 ],
 "metadata": {
  "kernelspec": {
   "display_name": "Julia 1.4.2",
   "language": "julia",
   "name": "julia-1.4"
  },
  "language_info": {
   "file_extension": ".jl",
   "mimetype": "application/julia",
   "name": "julia",
   "version": "1.4.2"
  }
 },
 "nbformat": 4,
 "nbformat_minor": 4
}
