{
 "cells": [
  {
   "cell_type": "code",
   "execution_count": 2,
   "metadata": {},
   "outputs": [
    {
     "name": "stdout",
     "output_type": "stream",
     "text": [
      "\u001b[32m\u001b[1mActivating\u001b[22m\u001b[39m environment at `~/GitHubRepos/hypergraph_modularities_code/Project.toml`\n"
     ]
    }
   ],
   "source": [
    "using Pkg; Pkg.activate(\".\")\n",
    "using HypergraphModularity\n"
   ]
  },
  {
   "cell_type": "code",
   "execution_count": 10,
   "metadata": {},
   "outputs": [
    {
     "data": {
      "text/plain": [
       "(hypergraph\n",
       "  N: Array{Int64}((242,)) [1, 2, 3, 4, 5, 6, 7, 8, 9, 10  …  233, 234, 235, 236, 237, 238, 239, 240, 241, 242]\n",
       "  E: Dict{Int64,Dict}\n",
       "  D: Array{Int64}((242,)) [236, 150, 183, 105, 147, 74, 49, 159, 222, 244  …  48, 141, 72, 114, 34, 34, 37, 84, 36, 102]\n",
       ", [5, 5, 5, 5, 5, 6, 6, 6, 8, 8  …  4, 10, 2, 2, 6, 1, 9, 5, 10, 7])"
      ]
     },
     "execution_count": 10,
     "metadata": {},
     "output_type": "execute_result"
    }
   ],
   "source": [
    "kmax = 5\n",
    "H,labels = read_hypergraph_data(\"contact-primary-school\",kmax)\n",
    "# H,labels = read_hypergraph_data(\"congress-bills\",kmax)"
   ]
  },
  {
   "cell_type": "code",
   "execution_count": 11,
   "metadata": {},
   "outputs": [
    {
     "name": "stdout",
     "output_type": "stream",
     "text": [
      "  0.052311 seconds (354.91 k allocations: 19.004 MiB, 23.22% gc time)\n"
     ]
    },
    {
     "data": {
      "text/plain": [
       "-209109.0927440209428451826400948247386581394508658236120615450182645613536930045"
      ]
     },
     "execution_count": 11,
     "metadata": {},
     "output_type": "execute_result"
    }
   ],
   "source": [
    "## Dyadic Louvain\n",
    "α0 = 1\n",
    "n = length(labels)\n",
    "@time c_warm = CliqueExpansionModularity(H)\n",
    "Ω = estimateΩEmpirically(H, c_warm)\n",
    "mwarm = modularity(H,c_warm,Ω,α=α0)"
   ]
  },
  {
   "cell_type": "code",
   "execution_count": 12,
   "metadata": {},
   "outputs": [
    {
     "name": "stdout",
     "output_type": "stream",
     "text": [
      "Louvain Iteration 1\n",
      "Louvain Iteration 2\n",
      "Louvain Iteration 3\n",
      "Louvain Iteration 4\n",
      " 15.710244 seconds (66.95 M allocations: 19.785 GiB, 29.65% gc time)\n"
     ]
    },
    {
     "data": {
      "text/plain": [
       "-Inf"
      ]
     },
     "execution_count": 12,
     "metadata": {},
     "output_type": "execute_result"
    }
   ],
   "source": [
    "## Hypergraph Louvain\n",
    "@time Zlou = HyperLouvain(H,kmax,Ω;α=α0)\n",
    "mlou = modularity(H,Zlou,Ω,α=α0)"
   ]
  },
  {
   "cell_type": "code",
   "execution_count": null,
   "metadata": {},
   "outputs": [],
   "source": []
  }
 ],
 "metadata": {
  "kernelspec": {
   "display_name": "Julia 1.3.1",
   "language": "julia",
   "name": "julia-1.3"
  },
  "language_info": {
   "file_extension": ".jl",
   "mimetype": "application/julia",
   "name": "julia",
   "version": "1.3.1"
  }
 },
 "nbformat": 4,
 "nbformat_minor": 4
}
