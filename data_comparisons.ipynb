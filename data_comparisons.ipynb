{
 "cells": [
  {
   "cell_type": "markdown",
   "metadata": {},
   "source": [
    "# Data Comparisons\n",
    "\n",
    "A comparative study of dyadic and polyadic methods on a selection of data sets, always using all-or-nothing cuts. \n",
    "\n",
    "Consider replacing the modularity with the full polyadic likelihood function. Should also check to make sure that this function is still right -- unit test. "
   ]
  },
  {
   "cell_type": "code",
   "execution_count": 2,
   "metadata": {},
   "outputs": [
    {
     "name": "stderr",
     "output_type": "stream",
     "text": [
      "\u001b[32m\u001b[1m Activating\u001b[22m\u001b[39m environment at `~/hypergraph_modularities_code/Project.toml`\n"
     ]
    }
   ],
   "source": [
    "using Pkg; Pkg.activate(\".\")\n",
    "using HypergraphModularity\n",
    "\n",
    "using StatsBase\n",
    "using SparseArrays\n",
    "using SpecialFunctions"
   ]
  },
  {
   "cell_type": "code",
   "execution_count": 15,
   "metadata": {},
   "outputs": [
    {
     "data": {
      "text/plain": [
       "evalPartition (generic function with 1 method)"
      ]
     },
     "execution_count": 15,
     "metadata": {},
     "output_type": "execute_result"
    }
   ],
   "source": [
    "function evalPartition(H, Z; weighted = false)\n",
    "    \"\"\"\n",
    "    evaluate the dyadic modularity, dyadic log likelihood, \n",
    "    and polyadic modularity for \n",
    "    \"\"\"\n",
    "    # dyadic parameters\n",
    "    γ = computeDyadicResolutionParameter(H, Z)\n",
    "    ωᵢ, ωₒ = computeDyadicResolutionParameter(H, Z; mode=\"ω\", weighted=weighted)\n",
    "    \n",
    "    # dyadic measures\n",
    "    Q_D = dyadicModularity(H, Z, γ; weighted=weighted)\n",
    "    L_D = Float64(dyadicLogLikelihoodDirect(H, Z, ωᵢ, ωₒ))\n",
    "    \n",
    "    # polyadic measures\n",
    "    Ω = estimateΩEmpirically(H, Z; aggregator = p -> [length(p) == 1, sum(p)])\n",
    "    Q_H = modularity(H, Z, Ω; α = nothing)\n",
    "    L_H = logLikelihood(H, Z, Ω; α = nothing)\n",
    "    return Dict(\"Q_D\" => Q_D, \"L_D\" => L_D, \"Q_H\" => Q_H)\n",
    "end"
   ]
  },
  {
   "cell_type": "code",
   "execution_count": 16,
   "metadata": {},
   "outputs": [
    {
     "data": {
      "text/plain": [
       "printHeader (generic function with 1 method)"
      ]
     },
     "execution_count": 16,
     "metadata": {},
     "output_type": "execute_result"
    }
   ],
   "source": [
    "function printMetrics((D, Z, NMI)::Tuple{Dict, Vector{Int64}, Float64}, label)\n",
    "    print(rpad(\"   \" * label, 25))\n",
    "    print(rpad(\"$(round(D[\"Q_D\"],digits = 2))\", 15))\n",
    "    print(rpad(\"$(round(D[\"L_D\"],digits = 2))\", 15))\n",
    "    print(rpad(\"$(round(D[\"Q_H\"]))\", 15))\n",
    "    print(rpad(\"$(length(unique(Z)))\", 10))\n",
    "    print(rpad(\"$(round(NMI,digits = 3))\", 10))\n",
    "    println(\"\")\n",
    "end\n",
    "\n",
    "function printHeader()\n",
    "    print(rpad(\"data\", 25))\n",
    "    print(rpad(\"Q_D\", 15))\n",
    "    print(rpad(\"L_D\", 15))\n",
    "    print(rpad(\"Q_H\", 15))\n",
    "    print(rpad(\"k\", 10))\n",
    "    print(rpad(\"NMI (true)\", 10))\n",
    "    println(\"\")\n",
    "    print(rpad(\"\", 90, \"-\"))\n",
    "    println(\"\")\n",
    "end"
   ]
  },
  {
   "cell_type": "code",
   "execution_count": 17,
   "metadata": {},
   "outputs": [
    {
     "data": {
      "text/plain": [
       "dyadicExperiment (generic function with 4 methods)"
      ]
     },
     "execution_count": 17,
     "metadata": {},
     "output_type": "execute_result"
    }
   ],
   "source": [
    "function dyadicExperiment(H, score = \"Q_D\", n_rounds = 10, Z̄ = nothing)\n",
    "    \n",
    "    S = -Inf\n",
    "    \n",
    "    n = length(H.D)\n",
    "    best_Z = collect(1:n)\n",
    "    best_D = nothing\n",
    "    for γ₀ ∈ [1.0]\n",
    "        Z = CliqueExpansionModularity(H, γ₀, false, true);\n",
    "        γ = computeDyadicResolutionParameter(H, Z)\n",
    "        for i ∈ 1:n_rounds\n",
    "            Z = CliqueExpansionModularity(H, γ, false, true);\n",
    "            γ = computeDyadicResolutionParameter(H, Z)\n",
    "\n",
    "            D = evalPartition(H, Z)\n",
    "\n",
    "            if D[score] > S\n",
    "                best_D = D\n",
    "                best_Z = Z\n",
    "            end\n",
    "        end\n",
    "    end\n",
    "    \n",
    "    NMI = isnothing(Z̄) ? NaN : mutualInformation(best_Z, Z̄, true)\n",
    "    \n",
    "    return best_D, best_Z, NMI\n",
    "end"
   ]
  },
  {
   "cell_type": "code",
   "execution_count": 18,
   "metadata": {},
   "outputs": [
    {
     "data": {
      "text/plain": [
       "polyadicExperiment (generic function with 3 methods)"
      ]
     },
     "execution_count": 18,
     "metadata": {},
     "output_type": "execute_result"
    }
   ],
   "source": [
    "function polyadicExperiment(H, n_rounds = 10, Z̄ = nothing)\n",
    "    \n",
    "    S = -Inf\n",
    "    \n",
    "    n = length(H.D)\n",
    "    best_Z = collect(1:n)\n",
    "    best_D = nothing\n",
    "    \n",
    "    α = nothing\n",
    "    \n",
    "    for γ ∈ [1.0, 5.0, 10.0, 50.0]\n",
    "    \n",
    "        # warmstart\n",
    "        Z_ = CliqueExpansionModularity(H, γ)\n",
    "        Ω = estimateΩEmpirically(H, Z_; aggregator = p -> [length(p) == 1, sum(p)], bigNums = true)\n",
    "\n",
    "        for i ∈ 1:n_rounds\n",
    "            Z = SuperNode_PPLouvain(H, Ω; α = α, verbose = false, Z0 = collect(1:n))\n",
    "            Ω = estimateΩEmpirically(H, Z; aggregator = p -> [length(p) == 1, sum(p)], bigNums = true)\n",
    "\n",
    "            D = evalPartition(H, Z)\n",
    "\n",
    "            if D[\"Q_H\"] > S\n",
    "                best_D = D\n",
    "                best_Z = Z\n",
    "            end\n",
    "        end\n",
    "        \n",
    "        NMI = isnothing(Z̄) ? NaN : mutualInformation(best_Z, Z̄, true)\n",
    "\n",
    "        return best_D, best_Z, NMI\n",
    "    end\n",
    "end"
   ]
  },
  {
   "cell_type": "code",
   "execution_count": 19,
   "metadata": {},
   "outputs": [
    {
     "data": {
      "text/plain": [
       "experiment (generic function with 3 methods)"
      ]
     },
     "execution_count": 19,
     "metadata": {},
     "output_type": "execute_result"
    }
   ],
   "source": [
    "function experiment(H, n_rounds = 10, Z̄ = nothing)    \n",
    "#     println(\"  Dyadic (Modularity)\")\n",
    "    printMetrics(dyadicExperiment(H, \"Q_D\", n_rounds, Z̄), \"dyadic (Q)\")\n",
    "#     println(\"  Dyadic (Likelihood)\")\n",
    "    printMetrics(dyadicExperiment(H, \"L_D\", n_rounds, Z̄), \"dyadic (L)\")\n",
    "#     println(\"  Polyadic (Modularity)\")\n",
    "    printMetrics(polyadicExperiment(H, n_rounds, Z̄), \"polyadic (L)\")\n",
    "end"
   ]
  },
  {
   "cell_type": "code",
   "execution_count": 21,
   "metadata": {},
   "outputs": [
    {
     "name": "stdout",
     "output_type": "stream",
     "text": [
      "data                     Q_D            L_D            Q_H            k         NMI (true)\n",
      "------------------------------------------------------------------------------------------\n",
      "congress-bills\n",
      "   dyadic (Q)            0.62           Inf            -6.413828e+06  2         0.0       \n",
      "   dyadic (L)            0.62           Inf            -6.413793e+06  2         0.0       \n",
      "   polyadic (L)          0.62           Inf            -6.413556e+06  2         0.0       \n",
      "contact-high-school-classes\n",
      "   dyadic (Q)            0.62           -17306.47      -112598.0      5         0.809     \n",
      "   dyadic (L)            0.62           -17306.47      -112598.0      5         0.809     \n",
      "   polyadic (L)          0.55           -16922.87      -109920.0      9         1.0       \n",
      "email-Enron-full\n",
      "   dyadic (Q)            0.44           -7316.73       -29173.0       9         NaN       \n",
      "   dyadic (L)            0.44           -7358.38       -29218.0       9         NaN       \n",
      "   polyadic (L)          0.33           -6865.76       -28709.0       18        NaN       \n",
      "contact-primary-school-classes\n",
      "   dyadic (Q)            0.45           -24477.09      -212088.0      3         0.587     \n",
      "   dyadic (L)            0.45           -24477.09      -212088.0      3         0.587     \n",
      "   polyadic (L)          0.42           -22135.0       -208283.0      7         0.851     \n"
     ]
    }
   ],
   "source": [
    "datasets = Dict(\n",
    "    \"email-Enron-full\"               => 20,\n",
    "    \"contact-high-school-classes\"    => 6,\n",
    "    \"contact-primary-school-classes\" => 6,\n",
    "    \"congress-bills\"                 => 20,\n",
    "#     \"walmart-trips\"                  => 4,\n",
    "#     \"stats-coauth\" => 10\n",
    ")\n",
    "\n",
    "printHeader()\n",
    "\n",
    "for f in keys(datasets)\n",
    "    kmax = datasets[f]\n",
    "    if f == \"stats-coauth\"\n",
    "        H = read_stats_data(kmax)\n",
    "        Z̄ = nothing\n",
    "    elseif f == \"email-Enron-full\"\n",
    "        H = read_hypergraph_data(f, kmax, 2, false)\n",
    "        Z̄ = nothing\n",
    "    else\n",
    "        H, Z̄ = read_hypergraph_data(f, kmax, 2, true)\n",
    "    end\n",
    "    println(f)\n",
    "    experiment(H, 10, Z̄)\n",
    "end"
   ]
  },
  {
   "cell_type": "markdown",
   "metadata": {},
   "source": [
    "1. Consider cross-initializing to check whether partitions are local optima of other methods. \n",
    "2. Fix data set and vary $\\Omega$, show that doing so leads to different likelihoods/clusters. Could be part of the case study.\n",
    "\n",
    "Performance story -- what's the right way to tell this story?"
   ]
  },
  {
   "cell_type": "code",
   "execution_count": null,
   "metadata": {},
   "outputs": [],
   "source": []
  }
 ],
 "metadata": {
  "kernelspec": {
   "display_name": "Julia 1.4.2",
   "language": "julia",
   "name": "julia-1.4"
  },
  "language_info": {
   "file_extension": ".jl",
   "mimetype": "application/julia",
   "name": "julia",
   "version": "1.4.2"
  }
 },
 "nbformat": 4,
 "nbformat_minor": 4
}
