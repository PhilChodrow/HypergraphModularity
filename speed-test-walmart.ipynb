{
 "cells": [
  {
   "cell_type": "markdown",
   "metadata": {},
   "source": [
    "# Quick Comparisons\n",
    "\n",
    "This code is intended to be a speed test on the Walmart data, but currently dyadic modularity takes an impractical running time so we can safely assume that we won't do much better. "
   ]
  },
  {
   "cell_type": "code",
   "execution_count": 3,
   "metadata": {},
   "outputs": [
    {
     "name": "stderr",
     "output_type": "stream",
     "text": [
      "\u001b[32m\u001b[1m Activating\u001b[22m\u001b[39m environment at `~/hypergraph_modularities_code/Project.toml`\n"
     ]
    }
   ],
   "source": [
    "using Optim \n",
    "# using Plots\n",
    "using StatsBase\n",
    "\n",
    "using Pkg; Pkg.activate(\".\")\n",
    "using HypergraphModularity"
   ]
  },
  {
   "cell_type": "code",
   "execution_count": 4,
   "metadata": {},
   "outputs": [
    {
     "data": {
      "text/plain": [
       "(::HypergraphModularity.var\"#Ω#8\"{HypergraphModularity.var\"#Ω#3#9\"{typeof(ω),Int64}}) (generic function with 1 method)"
      ]
     },
     "execution_count": 4,
     "metadata": {},
     "output_type": "execute_result"
    }
   ],
   "source": [
    "dataset = \"walmart-trips\"\n",
    "kmax_ = 3\n",
    "\n",
    "H, Z = read_hypergraph_data(dataset,kmax_)\n",
    "\n",
    "Z = convert(Array{Int16, 1}, Z) # type conversion for faster partitionize method\n",
    "\n",
    "H.E[1] = Dict()\n",
    "\n",
    "kmin = max(minimum(keys(H.E)), 2)\n",
    "kmax = maximum(keys(H.E))\n",
    "\n",
    "α0 = vcat(repeat([0.0], kmax), 1:kmax)\n",
    "\n",
    "n = length(H.D)\n",
    "\n",
    "function ω(p, α)\n",
    "    k = sum(p)\n",
    "    return sum(p)/sum((p .* (1:length(p)).^α[k])) / n^(α[kmax+k]*k)\n",
    "end\n",
    "\n",
    "Ω = buildΩ(ω, α0, kmax)"
   ]
  },
  {
   "cell_type": "code",
   "execution_count": 5,
   "metadata": {},
   "outputs": [
    {
     "name": "stdout",
     "output_type": "stream",
     "text": [
      "k = 2: 59.0 % of 12838 edges are within a single group.\n",
      "k = 3: 43.0 % of 10110 edges are within a single group.\n"
     ]
    }
   ],
   "source": [
    "for k = kmin:kmax\n",
    "    p = mean([length(partitionize(Z[e])) == 1 for e in keys(H.E[k])])\n",
    "    println(\"k = $k: $(round(100*p, digits = 0)) % of $(length(keys(H.E[k]))) edges are within a single group.\")\n",
    "end"
   ]
  },
  {
   "cell_type": "code",
   "execution_count": 6,
   "metadata": {},
   "outputs": [
    {
     "name": "stdout",
     "output_type": "stream",
     "text": [
      "There are 88860 nodes.\n"
     ]
    }
   ],
   "source": [
    "println(\"There are $(length(H.D)) nodes.\")"
   ]
  },
  {
   "cell_type": "code",
   "execution_count": 10,
   "metadata": {},
   "outputs": [],
   "source": [
    "# G = CliqueExpansion(H)"
   ]
  },
  {
   "cell_type": "code",
   "execution_count": 6,
   "metadata": {},
   "outputs": [
    {
     "name": "stdout",
     "output_type": "stream",
     "text": [
      "algorithm                     Q              groups    time (s)  \n",
      "-----------------------------------------------------------------\n"
     ]
    },
    {
     "ename": "InterruptException",
     "evalue": "InterruptException:",
     "output_type": "error",
     "traceback": [
      "InterruptException:",
      "",
      "Stacktrace:",
      " [1] Array at ./boot.jl:405 [inlined]",
      " [2] getindex_cols(::SparseArrays.SparseMatrixCSC{Float64,Int64}, ::Array{Int64,1}) at /buildworker/worker/package_linux64/build/usr/share/julia/stdlib/v1.4/SparseArrays/src/sparsematrix.jl:2023",
      " [3] getindex(::SparseArrays.SparseMatrixCSC{Float64,Int64}, ::UnitRange{Int64}, ::Array{Int64,1}) at /buildworker/worker/package_linux64/build/usr/share/julia/stdlib/v1.4/SparseArrays/src/sparsematrix.jl:2058",
      " [4] getindex at /buildworker/worker/package_linux64/build/usr/share/julia/stdlib/v1.4/SparseArrays/src/sparsematrix.jl:2013 [inlined]",
      " [5] collapse_clustering(::SparseArrays.SparseMatrixCSC{Float64,Int64}, ::Array{Float64,1}, ::Array{Int64,1}) at /home/phil/hypergraph_modularities_code/src/graph_louvain.jl:425",
      " [6] LambdaLouvain(::SparseArrays.SparseMatrixCSC{Float64,Int64}, ::Array{Float64,1}, ::Float64, ::Bool, ::Int64) at /home/phil/hypergraph_modularities_code/src/graph_louvain.jl:181",
      " [7] VanillaModularity(::SparseArrays.SparseMatrixCSC{Float64,Int64}, ::Bool, ::Int64) at /home/phil/hypergraph_modularities_code/src/warmstart.jl:67",
      " [8] VanillaModularity at /home/phil/hypergraph_modularities_code/src/warmstart.jl:51 [inlined]",
      " [9] CliqueExpansionModularity at /home/phil/hypergraph_modularities_code/src/warmstart.jl:46 [inlined]",
      " [10] CliqueExpansionModularity(::hypergraph) at /home/phil/hypergraph_modularities_code/src/warmstart.jl:41",
      " [11] top-level scope at /home/phil/.julia/packages/IJulia/DrVMH/src/kernel.jl:52",
      " [12] eval at ./boot.jl:331 [inlined]",
      " [13] eval(::Expr) at ./client.jl:449",
      " [14] macro expansion at ./util.jl:308 [inlined]",
      " [15] timeAlg(::Expr) at ./In[6]:1",
      " [16] top-level scope at ./In[6]:21"
     ]
    }
   ],
   "source": [
    "timeAlg(expr)= @timed eval(expr)\n",
    "\n",
    "algDict = Dict(\n",
    "    \"Dyadic\"                    => :(CliqueExpansionModularity(H)),\n",
    "#     \"Hypergraph (no supernode)\" => :(HyperLouvain(H,kmax,Ω;α=α̂, verbose=false)),\n",
    "    \"Hypergraph (supernode)\"    => :(SuperNodeLouvain(H,kmax,Ω;α=α̂, verbose=false))\n",
    ")\n",
    "\n",
    "α̂ = α0\n",
    "\n",
    "print(rpad(\"algorithm\", 30))\n",
    "print(rpad(\"Q\", 15))\n",
    "print(rpad(\"groups\", 10))\n",
    "println(rpad(\"time (s)\", 10))\n",
    "println(rpad(\"\",  65, \"-\"))\n",
    "\n",
    "Ẑ = zero(Z)\n",
    "\n",
    "# for name in [\"Dyadic\", \"Hypergraph (no supernode)\", \"Hypergraph (supernode)\"]\n",
    "for name in [\"Dyadic\", \"Hypergraph (supernode)\"]\n",
    "    out = timeAlg(algDict[name])\n",
    "    Ẑ = out[1]\n",
    "    time = out[2]\n",
    "    if name == \"Dyadic\"\n",
    "        α̂, ll = estimateParameters(H, Ẑ, Ω, α0)\n",
    "    end\n",
    "    \n",
    "    Q = modularity(H, Ẑ, Ω; α = α̂)\n",
    "    \n",
    "    print(rpad(\"$name\", 30))\n",
    "    print(rpad(\"$(round(Q, digits = 0))\", 15))\n",
    "    print(rpad(\"$(length(unique(Ẑ)))\", 10))\n",
    "    println(rpad(\"$time\", 10))\n",
    "end\n",
    "\n",
    "print(rpad(\"TRUE LABELS\", 30))\n",
    "Q = modularity(H, Z, Ω; α=α̂)\n",
    "print(rpad(\"$(round(Q, digits=0))\", 15))\n",
    "print(rpad(\"$(length(unique(Z)))\", 10))\n",
    "println(rpad(\"NA\", 10))"
   ]
  }
 ],
 "metadata": {
  "kernelspec": {
   "display_name": "Julia 1.4.2",
   "language": "julia",
   "name": "julia-1.4"
  },
  "language_info": {
   "file_extension": ".jl",
   "mimetype": "application/julia",
   "name": "julia",
   "version": "1.4.2"
  }
 },
 "nbformat": 4,
 "nbformat_minor": 4
}
