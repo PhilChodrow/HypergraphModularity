{
 "cells": [
  {
   "cell_type": "markdown",
   "metadata": {},
   "source": [
    "# Quick Comparisons\n",
    "\n",
    "In this notebook, we'll run a few quick comparisons between dyadic Louvain, single-stage hypergraph Louvain, and full hypergraph Louvain on the `contact-primary-school` data set. The highlight here is that `hypergraph louvain` can, when initialized with reasonable parameters (as obtained e.g. from a warm start) achieve higher polyadic modularity than dyadic Louvain. This is what we would ideally expect, but it's still nice to see it indeed happening. Additionally, as we would expect, the supernode steps do indeed help. \n",
    "\n",
    "The number of nodes is not large, but there's a fairly large number of edges, which may explain the relatively slow computation time. We might have opportunities to do better here. \n",
    "\n",
    "Finally, it's worth noting that the modularity of the partition we find is actually higher than that of the true labels, which can be interpreted as either a bug or a feature. "
   ]
  },
  {
   "cell_type": "code",
   "execution_count": 1,
   "metadata": {},
   "outputs": [
    {
     "name": "stderr",
     "output_type": "stream",
     "text": [
      "\u001b[32m\u001b[1m Activating\u001b[22m\u001b[39m environment at `~/codes/hypergraph_modularities_code/Project.toml`\n",
      "┌ Info: Precompiling Plots [91a5bcdd-55d7-5caf-9e0b-520d859cae80]\n",
      "└ @ Base loading.jl:1260\n",
      "┌ Info: Precompiling RCall [6f49c342-dc21-5d91-9882-a32aef131414]\n",
      "└ @ Base loading.jl:1260\n"
     ]
    }
   ],
   "source": [
    "using Pkg; Pkg.activate(\".\")\n",
    "using HypergraphModularity\n",
    "\n",
    "# using Optim \n",
    "using Plots\n",
    "using TimerOutputs\n",
    "using RCall\n",
    "using StatsBase"
   ]
  },
  {
   "cell_type": "code",
   "execution_count": 2,
   "metadata": {},
   "outputs": [
    {
     "data": {
      "text/plain": [
       "(::HypergraphModularity.var\"#Ω#8\"{HypergraphModularity.var\"#Ω#3#9\"{typeof(ω),Int64}}) (generic function with 1 method)"
      ]
     },
     "execution_count": 2,
     "metadata": {},
     "output_type": "execute_result"
    }
   ],
   "source": [
    "dataset = \"contact-primary-school-classes\"\n",
    "kmax_ = 6\n",
    "\n",
    "H, Z = read_hypergraph_data(dataset,kmax_)\n",
    "\n",
    "keepdims = [2, 3, 4, 5]\n",
    "\n",
    "kmax = maximum(keys(H.E))\n",
    "kmin = minimum(keys(H.E))\n",
    "\n",
    "for i = 1:kmax\n",
    "    if !(i ∈ keepdims)\n",
    "        H.E[i] = Dict()\n",
    "    end\n",
    "end\n",
    "\n",
    "α0 = vcat(repeat([0.0], kmax), 1:kmax)\n",
    "\n",
    "n = length(H.D)\n",
    "\n",
    "function ω(p, α)\n",
    "    k = sum(p)\n",
    "    return sum(p)/sum((p .* (1:length(p)).^α[k])) / n^(α[kmax+k]*k)\n",
    "end\n",
    "\n",
    "Ω = buildΩ(ω, α0, kmax)"
   ]
  },
  {
   "cell_type": "code",
   "execution_count": 3,
   "metadata": {},
   "outputs": [
    {
     "name": "stdout",
     "output_type": "stream",
     "text": [
      "k = 2: 33.0 % of 7748 edges are within a single group.\n",
      "k = 3: 53.0 % of 4600 edges are within a single group.\n",
      "k = 4: 46.0 % of 347 edges are within a single group.\n",
      "k = 5: 11.0 % of 9 edges are within a single group.\n"
     ]
    }
   ],
   "source": [
    "for k = keepdims\n",
    "    p = mean([length(partitionize(Z[e])) == 1 for e in keys(H.E[k])])\n",
    "    println(\"k = $k: $(round(100*p, digits = 0)) % of $(length(keys(H.E[k]))) edges are within a single group.\")\n",
    "end"
   ]
  },
  {
   "cell_type": "markdown",
   "metadata": {},
   "source": [
    "# Dyadic Modularity"
   ]
  },
  {
   "cell_type": "code",
   "execution_count": 4,
   "metadata": {},
   "outputs": [
    {
     "name": "stdout",
     "output_type": "stream",
     "text": [
      "DYADIC\n",
      "iteration           Q (dyadic)     Q (polyadic)   γ̂             groups    time (s)  \n",
      "--------------------------------------------------------------------------------\n",
      "1                   -0.024         -218668.0      10.0           116       2.803     \n",
      "2                   0.192          -207822.0      3.192          13        0.037     \n",
      "3                   0.302          -206994.0      2.13           10        0.066     \n",
      "4                   0.316          -206994.0      2.002          10        0.036     \n",
      "5                   0.316          -206994.0      2.002          10        0.033     \n",
      "6                   0.316          -206994.0      2.002          10        0.062     \n",
      "7                   0.316          -206994.0      2.002          10        0.045     \n",
      "8                   0.316          -206994.0      2.002          10        0.062     \n",
      "9                   0.316          -206994.0      2.002          10        0.035     \n",
      "10                  0.314          -207409.0      2.002          9         0.037     \n"
     ]
    }
   ],
   "source": [
    "γ̂ = 10.0\n",
    "α̂ = α0\n",
    "\n",
    "timeAlg(expr)= @timed eval(expr)\n",
    "\n",
    "println(\"DYADIC\")\n",
    "\n",
    "print(rpad(\"iteration\", 20))\n",
    "print(rpad(\"Q (dyadic)\", 15))\n",
    "print(rpad(\"Q (polyadic)\", 15))\n",
    "print(rpad(\"γ̂\", 15))\n",
    "print(rpad(\"groups\", 10))\n",
    "println(rpad(\"time (s)\", 10))\n",
    "println(rpad(\"\",  80, \"-\"))\n",
    "\n",
    "Ẑ_dyadic = zero(Z)\n",
    "\n",
    "for i = 1:10\n",
    "    out = timeAlg(:(CliqueExpansionModularity(H, γ̂, true, true))) # second true adds random scan order\n",
    "    Ẑ_dyadic = out[1]\n",
    "    time = out[2]\n",
    "    \n",
    "    α̂ = coordinateAscent(H, Ẑ_dyadic, Ω, α̂; n_iters = 10)\n",
    "    \n",
    "    Q_D = dyadicModularity(H, Ẑ_dyadic, γ̂)\n",
    "    Q_H = modularity(H, Ẑ_dyadic, Ω; α = α̂)\n",
    "    \n",
    "    print(rpad(\"$i\", 20))\n",
    "    print(rpad(\"$(round(Q_D, digits = 3))\", 15))\n",
    "    print(rpad(\"$(round(Q_H, digits = 0))\", 15))\n",
    "    print(rpad(\"$(round(γ̂, digits = 3))\", 15))\n",
    "    print(rpad(\"$(length(unique(Ẑ_dyadic)))\", 10))\n",
    "    println(rpad(\"$(round(time; digits=3))\", 10))\n",
    "    γ̂ = computeDyadicResolutionParameter(H, Ẑ_dyadic)\n",
    "end"
   ]
  },
  {
   "cell_type": "markdown",
   "metadata": {},
   "source": [
    "# Polyadic Modularity"
   ]
  },
  {
   "cell_type": "code",
   "execution_count": 5,
   "metadata": {},
   "outputs": [
    {
     "name": "stdout",
     "output_type": "stream",
     "text": [
      "POLYADIC\n",
      "iteration           Q              groups    time (s)  \n",
      "-----------------------------------------------------------------\n",
      "1                   -207597.0      12        13.735    \n",
      "2                   -206994.0      10        7.993     \n",
      "3                   -206994.0      10        8.197     \n",
      "4                   -206994.0      10        8.15      \n",
      "5                   -207305.0      10        7.893     \n",
      "6                   -207305.0      10        7.616     \n",
      "7                   -207305.0      10        9.097     \n",
      "8                   -207305.0      10        7.208     \n",
      "9                   -206994.0      10        8.42      \n",
      "10                  -206994.0      10        8.347     \n"
     ]
    }
   ],
   "source": [
    "α̂ = vcat(.5 .+ ((1/2).*1:kmax), repeat([1.4], kmax)) \n",
    "\n",
    "println(\"POLYADIC\")\n",
    "\n",
    "print(rpad(\"iteration\", 20))\n",
    "print(rpad(\"Q\", 15))\n",
    "print(rpad(\"groups\", 10))\n",
    "println(rpad(\"time (s)\", 10))\n",
    "println(rpad(\"\",  65, \"-\"))\n",
    "\n",
    "Ẑ = zero(Z)\n",
    "\n",
    "for i = 1:10\n",
    "    out = timeAlg(:(SuperNodeLouvain(H,kmax,Ω;α=α̂, verbose=false, scan_order =\"random\")))\n",
    "    Ẑ = out[1]\n",
    "    time = out[2]\n",
    "    \n",
    "    \n",
    "    α̂ = coordinateAscent(H, Ẑ, Ω, α̂; n_iters = 10)\n",
    "    Q = modularity(H, Ẑ, Ω; α = α̂)\n",
    "    \n",
    "    print(rpad(\"$i\", 20))\n",
    "    print(rpad(\"$(round(Q, digits = 0))\", 15))\n",
    "    print(rpad(\"$(length(unique(Ẑ)))\", 10))\n",
    "    println(rpad(\"$(round(time; digits=3))\", 10))\n",
    "end"
   ]
  },
  {
   "cell_type": "markdown",
   "metadata": {},
   "source": [
    "# Figures (trying RCall)"
   ]
  },
  {
   "cell_type": "code",
   "execution_count": 6,
   "metadata": {},
   "outputs": [
    {
     "data": {
      "text/plain": [
       "Ptr{VecSxp} @0x00007fc1c357a998"
      ]
     },
     "execution_count": 6,
     "metadata": {},
     "output_type": "execute_result"
    }
   ],
   "source": [
    "RCall.rcall_p(:options, rcalljl_options=Dict(:width => 600, :height => 300))"
   ]
  },
  {
   "cell_type": "code",
   "execution_count": 7,
   "metadata": {},
   "outputs": [
    {
     "name": "stderr",
     "output_type": "stream",
     "text": [
      "┌ Warning: RCall.jl: ── Attaching packages ─────────────────────────────────────── tidyverse 1.3.0 ──\n",
      "│ ✔ ggplot2 3.3.2     ✔ purrr   0.3.4\n",
      "│ ✔ tibble  3.0.3     ✔ dplyr   1.0.2\n",
      "│ ✔ tidyr   1.1.2     ✔ stringr 1.4.0\n",
      "│ ✔ readr   1.3.1     ✔ forcats 0.5.0\n",
      "│ ── Conflicts ────────────────────────────────────────── tidyverse_conflicts() ──\n",
      "│ ✖ dplyr::filter() masks stats::filter()\n",
      "│ ✖ dplyr::lag()    masks stats::lag()\n",
      "└ @ RCall /Users/arb/.julia/packages/RCall/jOnwc/src/io.jl:160\n"
     ]
    },
    {
     "data": {
      "text/plain": [
       "RObject{StrSxp}\n",
       " [1] \"forcats\"   \"stringr\"   \"dplyr\"     \"purrr\"     \"readr\"     \"tidyr\"    \n",
       " [7] \"tibble\"    \"ggplot2\"   \"tidyverse\" \"stats\"     \"graphics\"  \"grDevices\"\n",
       "[13] \"utils\"     \"datasets\"  \"methods\"   \"base\"     \n"
      ]
     },
     "execution_count": 7,
     "metadata": {},
     "output_type": "execute_result"
    }
   ],
   "source": [
    "#using RCall\n",
    "\n",
    "R\"\"\"\n",
    "library(tidyverse)\n",
    "\"\"\""
   ]
  },
  {
   "cell_type": "code",
   "execution_count": 10,
   "metadata": {},
   "outputs": [
    {
     "name": "stderr",
     "output_type": "stream",
     "text": [
      "┌ Warning: RCall.jl: Parsed with column specification:\n",
      "│ cols(\n",
      "│   X1 = col_character()\n",
      "│ )\n",
      "└ @ RCall /Users/arb/.julia/packages/RCall/jOnwc/src/io.jl:160\n",
      "┌ Warning: RCall.jl: `summarise()` regrouping output by 'class', 'method' (override with `.groups` argument)\n",
      "└ @ RCall /Users/arb/.julia/packages/RCall/jOnwc/src/io.jl:160\n"
     ]
    }
   ],
   "source": [
    "R\"\"\"\n",
    "df <- tibble(Dyadic = $Ẑ_dyadic, Polyadic = $Ẑ, labels = $Z)\n",
    "\n",
    "labels <- read_csv(\"data/contact-primary-school-classes/label-names-contact-primary-school-classes.txt\",\n",
    "                    col_names = FALSE) %>% \n",
    "          mutate(num = row_number()) %>% \n",
    "          rename(class = X1)\n",
    "\n",
    "labels\n",
    "df <- df %>% \n",
    "    left_join(labels, by = c(\"labels\" = \"num\"))\n",
    "\n",
    "df <- df %>% \n",
    "    select(-labels) %>% \n",
    "    pivot_longer(-class) %>% \n",
    "    rename(method = name) %>% \n",
    "    group_by(method) %>% \n",
    "    group_by(class, method, value) %>% \n",
    "    summarise(n = n()) %>% \n",
    "    ungroup()\n",
    "\"\"\";\n",
    "\n",
    "# Getting there, need to figure out the right way to reorder the labels"
   ]
  },
  {
   "cell_type": "code",
   "execution_count": 11,
   "metadata": {},
   "outputs": [
    {
     "name": "stdout",
     "output_type": "stream",
     "text": [
      "# A tibble: 19 x 4\n",
      "# Groups:   method [2]\n",
      "   method   main_group gr    new_number\n",
      "   <chr>         <int> <lgl>      <int>\n",
      " 1 Dyadic            1 TRUE           1\n",
      " 2 Dyadic            4 TRUE           2\n",
      " 3 Dyadic            7 TRUE           3\n",
      " 4 Dyadic            9 TRUE           4\n",
      " 5 Dyadic            8 TRUE           5\n",
      " 6 Dyadic            3 TRUE           6\n",
      " 7 Dyadic            5 TRUE           7\n",
      " 8 Dyadic            2 TRUE           8\n",
      " 9 Dyadic            6 TRUE           9\n",
      "10 Polyadic          5 TRUE           1\n",
      "11 Polyadic          3 TRUE           2\n",
      "12 Polyadic          8 TRUE           3\n",
      "13 Polyadic         10 TRUE           4\n",
      "14 Polyadic          4 TRUE           5\n",
      "15 Polyadic          1 TRUE           6\n",
      "16 Polyadic          6 TRUE           7\n",
      "17 Polyadic          2 TRUE           8\n",
      "18 Polyadic          7 TRUE           9\n",
      "19 Polyadic          9 TRUE          10\n"
     ]
    },
    {
     "name": "stderr",
     "output_type": "stream",
     "text": [
      "┌ Warning: RCall.jl: `summarise()` regrouping output by 'class' (override with `.groups` argument)\n",
      "└ @ RCall /Users/arb/.julia/packages/RCall/jOnwc/src/io.jl:160\n"
     ]
    }
   ],
   "source": [
    "R\"\"\"\n",
    "reorder_df <- df %>% \n",
    "    group_by(class, method) %>% \n",
    "    summarise(main_group = max(value)) %>% \n",
    "    arrange(method, class) %>% \n",
    "    ungroup() %>%\n",
    "    group_by(method) %>% \n",
    "    mutate(gr = (!duplicated(main_group)),\n",
    "           new_number = cumsum(gr)) %>% \n",
    "    select(-class) %>% \n",
    "    filter(gr) %>%\n",
    "    print(n = 22)\n",
    "\"\"\";"
   ]
  },
  {
   "cell_type": "code",
   "execution_count": 12,
   "metadata": {},
   "outputs": [],
   "source": [
    "R\"\"\"\n",
    "df <- df %>% \n",
    "    left_join(reorder_df, by = c(\"method\" = \"method\", \"value\" = \"main_group\"))\n",
    "\"\"\";"
   ]
  },
  {
   "cell_type": "code",
   "execution_count": 13,
   "metadata": {},
   "outputs": [
    {
     "data": {
      "image/png": "[encoded data removed]"
     },
     "metadata": {},
     "output_type": "display_data"
    },
    {
     "data": {
      "text/plain": [
       "RObject{VecSxp}\n"
      ]
     },
     "execution_count": 13,
     "metadata": {},
     "output_type": "execute_result"
    }
   ],
   "source": [
    "R\"\"\"\n",
    "\n",
    "df %>% \n",
    "    ggplot() + \n",
    "    aes(x = new_number, y = class) + \n",
    "    facet_wrap(~method) + \n",
    "    geom_tile(aes(fill = n), color = \"black\") + \n",
    "    theme_bw() + \n",
    "    geom_text(aes(label = n, color = n > 3)) + \n",
    "    scale_color_manual(values = c(\"black\", \"white\")) + \n",
    "    theme(panel.grid.major = element_blank(), \n",
    "          panel.grid.minor = element_blank(), \n",
    "          strip.background = element_blank(),\n",
    "          strip.text = element_text(size = 12),\n",
    "          axis.title.x = element_text(size = 12),\n",
    "          axis.title.y = element_blank(),\n",
    "          axis.text.x = element_text(size = 10),\n",
    "          axis.text.y = element_text(size = 10)) + \n",
    "    guides(color = FALSE, fill = FALSE) + \n",
    "    scale_x_continuous(expand = c(0,0), breaks = 1:10, labels = 1:10) + \n",
    "    scale_y_discrete(expand = c(0,0)) + \n",
    "    xlab(\"Cluster\") + \n",
    "    ylab(\"Class\") + \n",
    "    scale_fill_gradient(low = \"white\", high = \"steelblue\")\n",
    "\"\"\""
   ]
  },
  {
   "cell_type": "code",
   "execution_count": 14,
   "metadata": {},
   "outputs": [],
   "source": [
    "R\"\"\"\n",
    "ggsave(\"fig/contact-primary-school-clustering.png\", width = 6, height = 3, dpi = 200)\n",
    "\"\"\";"
   ]
  },
  {
   "cell_type": "code",
   "execution_count": null,
   "metadata": {},
   "outputs": [],
   "source": []
  }
 ],
 "metadata": {
  "@webio": {
   "lastCommId": null,
   "lastKernelId": null
  },
  "kernelspec": {
   "display_name": "Julia 1.4.0",
   "language": "julia",
   "name": "julia-1.4"
  },
  "language_info": {
   "file_extension": ".jl",
   "mimetype": "application/julia",
   "name": "julia",
   "version": "1.4.0"
  }
 },
 "nbformat": 4,
 "nbformat_minor": 4
}
