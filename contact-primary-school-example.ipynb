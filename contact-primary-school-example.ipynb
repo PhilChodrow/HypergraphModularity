{
 "cells": [
  {
   "cell_type": "markdown",
   "metadata": {},
   "source": [
    "# Quick Comparisons\n",
    "\n",
    "In this notebook, we'll run a few quick comparisons between dyadic Louvain, single-stage hypergraph Louvain, and full hypergraph Louvain on the `contact-primary-school` data set. The highlight here is that `hypergraph louvain` can, when initialized with reasonable parameters (as obtained e.g. from a warm start) achieve higher polyadic modularity than dyadic Louvain. This is what we would ideally expect, but it's still nice to see it indeed happening. Additionally, as we would expect, the supernode steps do indeed help. \n",
    "\n",
    "The number of nodes is not large, but there's a fairly large number of edges, which may explain the relatively slow computation time. We might have opportunities to do better here. \n",
    "\n",
    "Finally, it's worth noting that the modularity of the partition we find is actually higher than that of the true labels, which can be interpreted as either a bug or a feature. "
   ]
  },
  {
   "cell_type": "code",
   "execution_count": 1,
   "metadata": {},
   "outputs": [
    {
     "name": "stderr",
     "output_type": "stream",
     "text": [
      "\u001b[32m\u001b[1m Activating\u001b[22m\u001b[39m environment at `~/hypergraph_modularities_code/Project.toml`\n",
      "┌ Info: Precompiling HypergraphModularity [0c934d27-dd44-49d7-950f-bd4be7819e54]\n",
      "└ @ Base loading.jl:1260\n",
      "WARNING: Method definition evalSums(Array{#s51, 1} where #s51<:Integer, Array{Int64, 1}, Integer) in module HypergraphModularity at /home/phil/hypergraph_modularities_code/src/vol.jl:79 overwritten at /home/phil/hypergraph_modularities_code/src/vol.jl:113.\n",
      "  ** incremental compilation may be fatally broken for this module **\n",
      "\n",
      "WARNING: Method definition NeighborList(SparseArrays.SparseMatrixCSC{Float64, Int64}, SparseArrays.SparseMatrixCSC{Float64, Int64}) in module HypergraphModularity at /home/phil/hypergraph_modularities_code/src/hyper_format.jl:5 overwritten at /home/phil/hypergraph_modularities_code/src/hyper_format.jl:5.\n",
      "  ** incremental compilation may be fatally broken for this module **\n",
      "\n",
      "WARNING: Method definition NeighborList(Array{Array{Int64, 1}, 1}, Array{Array{Int64, 1}, 1}) in module HypergraphModularity at /home/phil/hypergraph_modularities_code/src/hyper_format.jl:32 overwritten at /home/phil/hypergraph_modularities_code/src/hyper_format.jl:32.\n",
      "  ** incremental compilation may be fatally broken for this module **\n",
      "\n",
      "WARNING: Method definition getedges(SparseArrays.SparseMatrixCSC{Float64, Int64}, Int64) in module HypergraphModularity at /home/phil/hypergraph_modularities_code/src/hyper_format.jl:57 overwritten at /home/phil/hypergraph_modularities_code/src/hyper_format.jl:57.\n",
      "  ** incremental compilation may be fatally broken for this module **\n",
      "\n",
      "WARNING: Method definition getnodes(SparseArrays.SparseMatrixCSC{Float64, Int64}, Int64) in module HypergraphModularity at /home/phil/hypergraph_modularities_code/src/hyper_format.jl:69 overwritten at /home/phil/hypergraph_modularities_code/src/hyper_format.jl:69.\n",
      "  ** incremental compilation may be fatally broken for this module **\n",
      "\n",
      "WARNING: Method definition incidence2elist(SparseArrays.SparseMatrixCSC{Float64, Int64}) in module HypergraphModularity at /home/phil/hypergraph_modularities_code/src/hyper_format.jl:90 overwritten at /home/phil/hypergraph_modularities_code/src/hyper_format.jl:90.\n",
      "  ** incremental compilation may be fatally broken for this module **\n",
      "\n",
      "WARNING: Method definition incidence2elist(SparseArrays.SparseMatrixCSC{Float64, Int64}, Bool) in module HypergraphModularity at /home/phil/hypergraph_modularities_code/src/hyper_format.jl:90 overwritten at /home/phil/hypergraph_modularities_code/src/hyper_format.jl:90.\n",
      "  ** incremental compilation may be fatally broken for this module **\n",
      "\n",
      "WARNING: Method definition elist2incidence(Array{Array{Int64, 1}, 1}, Int64) in module HypergraphModularity at /home/phil/hypergraph_modularities_code/src/hyper_format.jl:127 overwritten at /home/phil/hypergraph_modularities_code/src/hyper_format.jl:127.\n",
      "  ** incremental compilation may be fatally broken for this module **\n",
      "\n",
      "WARNING: Method definition hyperedge_formatting(HypergraphModularity.hypergraph) in module HypergraphModularity at /home/phil/hypergraph_modularities_code/src/hyper_format.jl:148 overwritten at /home/phil/hypergraph_modularities_code/src/hyper_format.jl:148.\n",
      "  ** incremental compilation may be fatally broken for this module **\n",
      "\n",
      "WARNING: Method definition hypergraph2incidence(HypergraphModularity.hypergraph) in module HypergraphModularity at /home/phil/hypergraph_modularities_code/src/hyper_format.jl:168 overwritten at /home/phil/hypergraph_modularities_code/src/hyper_format.jl:168.\n",
      "  ** incremental compilation may be fatally broken for this module **\n",
      "\n",
      "WARNING: Method definition EdgeMap(HypergraphModularity.hypergraph) in module HypergraphModularity at /home/phil/hypergraph_modularities_code/src/hyper_format.jl:185 overwritten at /home/phil/hypergraph_modularities_code/src/hyper_format.jl:185.\n",
      "  ** incremental compilation may be fatally broken for this module **\n",
      "\n",
      "WARNING: Method definition evalCuts(Array{Int64, 1}, HypergraphModularity.hypergraph) in module HypergraphModularity at /home/phil/hypergraph_modularities_code/src/cut.jl:116 overwritten at /home/phil/hypergraph_modularities_code/src/hyperlouvain_helpers.jl:2.\n",
      "  ** incremental compilation may be fatally broken for this module **\n",
      "\n",
      "WARNING: Method definition renumber(Array{Int64, 1}, Array{Array{Int64, 1}, 1}) in module HypergraphModularity at /home/phil/hypergraph_modularities_code/src/graph_louvain.jl:76 overwritten at /home/phil/hypergraph_modularities_code/src/hyperlouvain_helpers.jl:124.\n",
      "  ** incremental compilation may be fatally broken for this module **\n",
      "\n",
      "WARNING: Method definition renumber(Array{Int64, 1}) in module HypergraphModularity at /home/phil/hypergraph_modularities_code/src/graph_louvain.jl:99 overwritten at /home/phil/hypergraph_modularities_code/src/hyperlouvain_helpers.jl:150.\n",
      "  ** incremental compilation may be fatally broken for this module **\n",
      "\n"
     ]
    }
   ],
   "source": [
    "using Pkg; Pkg.activate(\".\")\n",
    "using HypergraphModularity\n",
    "\n",
    "# using Optim \n",
    "using Plots\n",
    "using TimerOutputs\n",
    "using StatsBase"
   ]
  },
  {
   "cell_type": "code",
   "execution_count": 2,
   "metadata": {},
   "outputs": [
    {
     "data": {
      "text/plain": [
       "(::HypergraphModularity.var\"#Ω#8\"{HypergraphModularity.var\"#Ω#3#9\"{typeof(ω),Int64}}) (generic function with 1 method)"
      ]
     },
     "execution_count": 2,
     "metadata": {},
     "output_type": "execute_result"
    }
   ],
   "source": [
    "dataset = \"contact-primary-school\"\n",
    "kmax_ = 6\n",
    "\n",
    "H, Z = read_hypergraph_data(dataset,kmax_)\n",
    "\n",
    "keepdims = [2]\n",
    "\n",
    "kmax = maximum(keys(H.E))\n",
    "kmin = minimum(keys(H.E))\n",
    "\n",
    "\n",
    "for i = 1:kmax\n",
    "    if !(i ∈ keepdims)\n",
    "        H.E[i] = Dict()\n",
    "    end\n",
    "end\n",
    "\n",
    "α0 = vcat(repeat([0.0], kmax), 1:kmax)\n",
    "\n",
    "n = length(H.D)\n",
    "\n",
    "function ω(p, α)\n",
    "    k = sum(p)\n",
    "    return sum(p)/sum((p .* (1:length(p)).^α[k])) / n^(α[kmax+k]*k)\n",
    "end\n",
    "\n",
    "Ω = buildΩ(ω, α0, kmax)"
   ]
  },
  {
   "cell_type": "code",
   "execution_count": 3,
   "metadata": {},
   "outputs": [
    {
     "name": "stdout",
     "output_type": "stream",
     "text": [
      "k = 2: 33.0 % of 7748 edges are within a single group.\n"
     ]
    }
   ],
   "source": [
    "for k = keepdims\n",
    "    p = mean([length(partitionize(Z[e])) == 1 for e in keys(H.E[k])])\n",
    "    println(\"k = $k: $(round(100*p, digits = 0)) % of $(length(keys(H.E[k]))) edges are within a single group.\")\n",
    "end"
   ]
  },
  {
   "cell_type": "code",
   "execution_count": null,
   "metadata": {},
   "outputs": [
    {
     "name": "stdout",
     "output_type": "stream",
     "text": [
      "algorithm                     Q              groups    time (s)  \n",
      "-----------------------------------------------------------------\n",
      "Dyadic                        "
     ]
    }
   ],
   "source": [
    "timeAlg(expr)= @timed eval(expr)\n",
    "\n",
    "algDict = Dict(\n",
    "    \"Dyadic\"                    => :(CliqueExpansionModularity(H)),\n",
    "    \"Hypergraph (no supernode)\" => :(HyperLouvain(H,kmax,Ω;α=α̂, verbose=false, scan_order=\"random\")),\n",
    "    \"Hypergraph (supernode)\"    => :(SuperNodeLouvain(H,kmax,Ω;α=α̂, verbose=false, scan_order =\"random\"))\n",
    ")\n",
    "\n",
    "α̂ = α0\n",
    "\n",
    "print(rpad(\"algorithm\", 30))\n",
    "print(rpad(\"Q\", 15))\n",
    "print(rpad(\"groups\", 10))\n",
    "println(rpad(\"time (s)\", 10))\n",
    "println(rpad(\"\",  65, \"-\"))\n",
    "\n",
    "for name in [\"Dyadic\", \"Hypergraph (no supernode)\", \"Hypergraph (supernode)\"]\n",
    "    out = timeAlg(algDict[name])\n",
    "    Ẑ = out[1]\n",
    "    time = out[2]\n",
    "    if name == \"Dyadic\"\n",
    "        α̂, ll = estimateParameters(H, Ẑ, Ω, α0)\n",
    "    end\n",
    "    \n",
    "    Q = modularity(H, Ẑ, Ω; α = α̂)\n",
    "    \n",
    "    print(rpad(\"$name\", 30))\n",
    "    print(rpad(\"$(round(Q, digits = 0))\", 15))\n",
    "    print(rpad(\"$(length(unique(Ẑ)))\", 10))\n",
    "    println(rpad(\"$time\", 10))\n",
    "end\n",
    "\n",
    "print(rpad(\"TRUE LABELS\", 30))\n",
    "Q = modularity(H, Z, Ω; α=α̂)\n",
    "print(rpad(\"$(round(Q, digits=0))\", 15))\n",
    "print(rpad(\"$(length(unique(Z)))\", 10))\n",
    "println(rpad(\"NA\", 10))"
   ]
  },
  {
   "cell_type": "code",
   "execution_count": null,
   "metadata": {},
   "outputs": [],
   "source": []
  }
 ],
 "metadata": {
  "kernelspec": {
   "display_name": "Julia 1.4.2",
   "language": "julia",
   "name": "julia-1.4"
  },
  "language_info": {
   "file_extension": ".jl",
   "mimetype": "application/julia",
   "name": "julia",
   "version": "1.4.2"
  }
 },
 "nbformat": 4,
 "nbformat_minor": 4
}
