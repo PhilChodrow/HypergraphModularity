{
 "cells": [
  {
   "cell_type": "code",
   "execution_count": 1,
   "metadata": {},
   "outputs": [
    {
     "name": "stderr",
     "output_type": "stream",
     "text": [
      "\u001b[32m\u001b[1m Activating\u001b[22m\u001b[39m environment at `~/hypergraph_modularities_code/Project.toml`\n",
      "┌ Info: Precompiling HypergraphModularity [0c934d27-dd44-49d7-950f-bd4be7819e54]\n",
      "└ @ Base loading.jl:1260\n",
      "WARNING: Method definition evalSums(Array{#s51, 1} where #s51<:Integer, Array{Int64, 1}, Integer) in module HypergraphModularity at /home/phil/hypergraph_modularities_code/src/vol.jl:79 overwritten at /home/phil/hypergraph_modularities_code/src/vol.jl:113.\n",
      "  ** incremental compilation may be fatally broken for this module **\n",
      "\n",
      "WARNING: Method definition NeighborList(SparseArrays.SparseMatrixCSC{Float64, Int64}, SparseArrays.SparseMatrixCSC{Float64, Int64}) in module HypergraphModularity at /home/phil/hypergraph_modularities_code/src/hyper_format.jl:5 overwritten at /home/phil/hypergraph_modularities_code/src/hyper_format.jl:5.\n",
      "  ** incremental compilation may be fatally broken for this module **\n",
      "\n",
      "WARNING: Method definition NeighborList(Array{Array{Int64, 1}, 1}, Array{Array{Int64, 1}, 1}) in module HypergraphModularity at /home/phil/hypergraph_modularities_code/src/hyper_format.jl:32 overwritten at /home/phil/hypergraph_modularities_code/src/hyper_format.jl:32.\n",
      "  ** incremental compilation may be fatally broken for this module **\n",
      "\n",
      "WARNING: Method definition getedges(SparseArrays.SparseMatrixCSC{Float64, Int64}, Int64) in module HypergraphModularity at /home/phil/hypergraph_modularities_code/src/hyper_format.jl:57 overwritten at /home/phil/hypergraph_modularities_code/src/hyper_format.jl:57.\n",
      "  ** incremental compilation may be fatally broken for this module **\n",
      "\n",
      "WARNING: Method definition getnodes(SparseArrays.SparseMatrixCSC{Float64, Int64}, Int64) in module HypergraphModularity at /home/phil/hypergraph_modularities_code/src/hyper_format.jl:69 overwritten at /home/phil/hypergraph_modularities_code/src/hyper_format.jl:69.\n",
      "  ** incremental compilation may be fatally broken for this module **\n",
      "\n",
      "WARNING: Method definition incidence2elist(SparseArrays.SparseMatrixCSC{Float64, Int64}) in module HypergraphModularity at /home/phil/hypergraph_modularities_code/src/hyper_format.jl:90 overwritten at /home/phil/hypergraph_modularities_code/src/hyper_format.jl:90.\n",
      "  ** incremental compilation may be fatally broken for this module **\n",
      "\n",
      "WARNING: Method definition incidence2elist(SparseArrays.SparseMatrixCSC{Float64, Int64}, Bool) in module HypergraphModularity at /home/phil/hypergraph_modularities_code/src/hyper_format.jl:90 overwritten at /home/phil/hypergraph_modularities_code/src/hyper_format.jl:90.\n",
      "  ** incremental compilation may be fatally broken for this module **\n",
      "\n",
      "WARNING: Method definition elist2incidence(Array{Array{Int64, 1}, 1}, Int64) in module HypergraphModularity at /home/phil/hypergraph_modularities_code/src/hyper_format.jl:127 overwritten at /home/phil/hypergraph_modularities_code/src/hyper_format.jl:127.\n",
      "  ** incremental compilation may be fatally broken for this module **\n",
      "\n",
      "WARNING: Method definition hyperedge_formatting(HypergraphModularity.hypergraph) in module HypergraphModularity at /home/phil/hypergraph_modularities_code/src/hyper_format.jl:148 overwritten at /home/phil/hypergraph_modularities_code/src/hyper_format.jl:148.\n",
      "  ** incremental compilation may be fatally broken for this module **\n",
      "\n",
      "WARNING: Method definition hypergraph2incidence(HypergraphModularity.hypergraph) in module HypergraphModularity at /home/phil/hypergraph_modularities_code/src/hyper_format.jl:168 overwritten at /home/phil/hypergraph_modularities_code/src/hyper_format.jl:168.\n",
      "  ** incremental compilation may be fatally broken for this module **\n",
      "\n",
      "WARNING: Method definition EdgeMap(HypergraphModularity.hypergraph) in module HypergraphModularity at /home/phil/hypergraph_modularities_code/src/hyper_format.jl:185 overwritten at /home/phil/hypergraph_modularities_code/src/hyper_format.jl:185.\n",
      "  ** incremental compilation may be fatally broken for this module **\n",
      "\n",
      "WARNING: Method definition evalCuts(Array{Int64, 1}, HypergraphModularity.hypergraph) in module HypergraphModularity at /home/phil/hypergraph_modularities_code/src/cut.jl:116 overwritten at /home/phil/hypergraph_modularities_code/src/hyperlouvain_helpers.jl:2.\n",
      "  ** incremental compilation may be fatally broken for this module **\n",
      "\n",
      "WARNING: Method definition renumber(Array{Int64, 1}, Array{Array{Int64, 1}, 1}) in module HypergraphModularity at /home/phil/hypergraph_modularities_code/src/graph_louvain.jl:76 overwritten at /home/phil/hypergraph_modularities_code/src/hyperlouvain_helpers.jl:124.\n",
      "  ** incremental compilation may be fatally broken for this module **\n",
      "\n",
      "WARNING: Method definition renumber(Array{Int64, 1}) in module HypergraphModularity at /home/phil/hypergraph_modularities_code/src/graph_louvain.jl:99 overwritten at /home/phil/hypergraph_modularities_code/src/hyperlouvain_helpers.jl:150.\n",
      "  ** incremental compilation may be fatally broken for this module **\n",
      "\n"
     ]
    },
    {
     "data": {
      "text/plain": [
       "(::HypergraphModularity.var\"#Ω#8\"{HypergraphModularity.var\"#Ω#3#9\"{typeof(ω),Int64}}) (generic function with 1 method)"
      ]
     },
     "execution_count": 1,
     "metadata": {},
     "output_type": "execute_result"
    }
   ],
   "source": [
    "using Pkg; Pkg.activate(\".\")\n",
    "using HypergraphModularity\n",
    "\n",
    "\n",
    "using StatsBase\n",
    "using Combinatorics\n",
    "using Plots\n",
    "\n",
    "\n",
    "# parameters\n",
    "# parameters\n",
    "\n",
    "n = 100\n",
    "Z = rand(1:2, n)\n",
    "ϑ = dropdims(ones(1,n) + rand(1,n), dims = 1)\n",
    "\n",
    "# defining group intensity function Ω\n",
    "μ = mean(ϑ)\n",
    "\n",
    "ω(p,α) = (10 .*μ*sum(p))^(-sum(p))*prod(p.^α)^(1/(sum(p)*α))\n",
    "α0 = 1\n",
    "\n",
    "kmax = 3\n",
    "\n",
    "Ω = buildΩ(ω, α0, kmax)"
   ]
  },
  {
   "cell_type": "code",
   "execution_count": 3,
   "metadata": {},
   "outputs": [
    {
     "data": {
      "text/plain": [
       "HypergraphModularity.hypergraph\n",
       "  N: Array{Int64}((100,)) [1, 2, 3, 4, 5, 6, 7, 8, 9, 10  …  91, 92, 93, 94, 95, 96, 97, 98, 99, 100]\n",
       "  E: Dict{Int64,Dict}\n",
       "  D: Array{Int64}((100,)) [3, 2, 3, 4, 3, 1, 2, 3, 2, 2  …  1, 2, 1, 3, 3, 1, 3, 1, 2, 4]\n"
      ]
     },
     "execution_count": 3,
     "metadata": {},
     "output_type": "execute_result"
    }
   ],
   "source": [
    "## Sample\n",
    "H = sampleSBM(Z, ϑ, Ω; α=α0, kmax=kmax, kmin = 1)"
   ]
  },
  {
   "cell_type": "code",
   "execution_count": 5,
   "metadata": {},
   "outputs": [
    {
     "data": {
      "text/plain": [
       "-761.6375316443888"
      ]
     },
     "execution_count": 5,
     "metadata": {},
     "output_type": "execute_result"
    }
   ],
   "source": [
    "## Create a random clustering with k clusters\n",
    "\n",
    "k = 10\n",
    "c = rand(1:k,n)\n",
    "term1 = first_term_eval(H,c,Ω;α=α0)"
   ]
  },
  {
   "cell_type": "code",
   "execution_count": 8,
   "metadata": {},
   "outputs": [
    {
     "name": "stdout",
     "output_type": "stream",
     "text": [
      "  0.000138 seconds (1.30 k allocations: 67.078 KiB)\n",
      "  0.000011 seconds (21 allocations: 6.062 KiB)\n",
      "  0.000113 seconds (1.30 k allocations: 65.734 KiB)\n"
     ]
    },
    {
     "data": {
      "text/plain": [
       "true"
      ]
     },
     "execution_count": 8,
     "metadata": {},
     "output_type": "execute_result"
    }
   ],
   "source": [
    "@time T1 = first_term_eval(H,c,Ω;α=α0)\n",
    "@time Hyp, w = hyperedge_formatting(H)\n",
    "@time T2 = first_term_v2(Hyp,w,c,Ω;α=α0)\n",
    "\n",
    "T1 ≈ T2"
   ]
  }
 ],
 "metadata": {
  "kernelspec": {
   "display_name": "Julia 1.4.2",
   "language": "julia",
   "name": "julia-1.4"
  },
  "language_info": {
   "file_extension": ".jl",
   "mimetype": "application/julia",
   "name": "julia",
   "version": "1.4.2"
  }
 },
 "nbformat": 4,
 "nbformat_minor": 4
}
