{
 "cells": [
  {
   "cell_type": "code",
   "execution_count": 2,
   "metadata": {},
   "outputs": [
    {
     "data": {
      "text/plain": [
       "Ω (generic function with 1 method)"
      ]
     },
     "execution_count": 2,
     "metadata": {},
     "output_type": "execute_result"
    }
   ],
   "source": [
    "using StatsBase\n",
    "using Combinatorics\n",
    "using Plots\n",
    "\n",
    "include(\"jl/omega.jl\")\n",
    "include(\"jl/HSBM.jl\")\n",
    "include(\"jl/cut.jl\")\n",
    "\n",
    "# parameters\n",
    "\n",
    "n = 100\n",
    "Z = rand(1:5, n)\n",
    "ϑ = dropdims(ones(1,n) + rand(1,n), dims = 1)\n",
    "\n",
    "# defining group intensity function Ω\n",
    "μ = mean(ϑ)\n",
    "\n",
    "kmax = 4\n",
    "kmin = 1\n",
    "\n",
    "fk = k->(2 .*μ*k)^(-k)\n",
    "fp = harmonicMean\n",
    "\n",
    "Ω_dict = Dict()\n",
    "\n",
    "for k = kmin:kmax, p in partitions(k)\n",
    "    Ω_dict[p] = fk(sum(p))*fp(p)\n",
    "end\n",
    "\n",
    "Ω = buildΩ(Ω_dict; by_size=true)"
   ]
  },
  {
   "cell_type": "code",
   "execution_count": 3,
   "metadata": {},
   "outputs": [
    {
     "data": {
      "text/plain": [
       "35001"
      ]
     },
     "execution_count": 3,
     "metadata": {},
     "output_type": "execute_result"
    }
   ],
   "source": [
    "# sample from the HSBM with these parameters, restricting to hyperedges of size no more than kmax\n",
    "H = sampleSBM(Z, ϑ, Ω; kmax=kmax, kmin = kmin)\n",
    "countEdges(H)"
   ]
  },
  {
   "cell_type": "code",
   "execution_count": 4,
   "metadata": {},
   "outputs": [
    {
     "data": {
      "text/plain": [
       "-323940.5850808654"
      ]
     },
     "execution_count": 4,
     "metadata": {},
     "output_type": "execute_result"
    }
   ],
   "source": [
    "## Create a random clustering with k clusters\n",
    "include(\"jl/cut.jl\")\n",
    "k = 10\n",
    "c = rand(1:k,n)\n",
    "term1 = first_term_eval(H,c,Ω)"
   ]
  },
  {
   "cell_type": "code",
   "execution_count": 5,
   "metadata": {},
   "outputs": [
    {
     "name": "stdout",
     "output_type": "stream",
     "text": [
      "  0.110945 seconds (874.00 k allocations: 59.648 MiB, 9.21% gc time)\n",
      "  0.262420 seconds (392.78 k allocations: 19.712 MiB)\n",
      "  0.129097 seconds (795.34 k allocations: 58.278 MiB, 15.53% gc time)\n"
     ]
    },
    {
     "data": {
      "text/plain": [
       "true"
      ]
     },
     "execution_count": 5,
     "metadata": {},
     "output_type": "execute_result"
    }
   ],
   "source": [
    "@time T1 = first_term_eval(H,c,Ω)\n",
    "@time Hyp, w = hyperedge_formatting(H)\n",
    "@time T2 = first_term_v2(Hyp,w,c,Ω)\n",
    "\n",
    "T1 ≈ T2"
   ]
  },
  {
   "cell_type": "markdown",
   "metadata": {},
   "source": [
    "The CutDiff function computes the change in objective score when node I is moved to cluster J. The code is still a little sloppy, but this is a little faster and a step in the right direction over a naive approach. One thing that is clear to me after implementing this is that we will need a new way to store hyperedge. Given a query node, we need to quickly be able to access all hyperedges that node is in."
   ]
  },
  {
   "cell_type": "code",
   "execution_count": 6,
   "metadata": {},
   "outputs": [
    {
     "name": "stdout",
     "output_type": "stream",
     "text": [
      "  0.320767 seconds (1.81 M allocations: 122.384 MiB, 5.77% gc time)\n",
      "  0.074287 seconds (89.83 k allocations: 5.866 MiB, 10.51% gc time)\n",
      "(b, a) = (-23.88977823429559, -23.889778234646656)\n"
     ]
    },
    {
     "data": {
      "text/plain": [
       "true"
      ]
     },
     "execution_count": 6,
     "metadata": {},
     "output_type": "execute_result"
    }
   ],
   "source": [
    "include(\"jl/cut.jl\")\n",
    "node2edges = EdgeMap(H)\n",
    "I = rand(1:n)\n",
    "J = c[I] + 1\n",
    "@time a = NaiveCutDiff(H,c,I,J,Ω)\n",
    "@time b = CutDiff(Hyp,w,node2edges,c,I,J,Ω)\n",
    "@show b, a\n",
    "a ≈ b"
   ]
  },
  {
   "cell_type": "code",
   "execution_count": null,
   "metadata": {},
   "outputs": [],
   "source": []
  }
 ],
 "metadata": {
  "kernelspec": {
   "display_name": "Julia 1.3.1",
   "language": "julia",
   "name": "julia-1.3"
  },
  "language_info": {
   "file_extension": ".jl",
   "mimetype": "application/julia",
   "name": "julia",
   "version": "1.3.1"
  }
 },
 "nbformat": 4,
 "nbformat_minor": 4
}
