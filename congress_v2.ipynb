{
 "cells": [
  {
   "cell_type": "code",
   "execution_count": 79,
   "metadata": {},
   "outputs": [
    {
     "name": "stderr",
     "output_type": "stream",
     "text": [
      "\u001b[32m\u001b[1m Activating\u001b[22m\u001b[39m environment at `~/hypergraph_modularities_code/Project.toml`\n"
     ]
    }
   ],
   "source": [
    "using Revise\n",
    "using Pkg; Pkg.activate(\".\")\n",
    "using HypergraphModularityarity\n",
    "\n",
    "using StatsBase\n",
    "using Statistics\n",
    "using Plots\n",
    "using DataFrames\n",
    "using SparseArrays\n",
    "using Clustering"
   ]
  },
  {
   "cell_type": "code",
   "execution_count": 119,
   "metadata": {},
   "outputs": [
    {
     "data": {
      "text/plain": [
       "158799"
      ]
     },
     "execution_count": 119,
     "metadata": {},
     "output_type": "execute_result"
    }
   ],
   "source": [
    "# dataset = \"HR-congress-bills\"\n",
    "dataset = \"SN-congress-bills\"\n",
    "kmax_ = 30\n",
    "\n",
    "H, Z = read_hypergraph_data(dataset,kmax_)\n",
    "α = zeros(2*kmax_);\n",
    "\n",
    "kmax = maximum(keys(H.E))\n",
    "kmin = minimum(keys(H.E));\n",
    "\n",
    "H, Z = kcore(H, Z, 0)\n",
    "\n",
    "n = length(H.D);\n",
    "D = big(sum(H.D))"
   ]
  },
  {
   "cell_type": "markdown",
   "metadata": {},
   "source": [
    "## Acquire Warmstart"
   ]
  },
  {
   "cell_type": "code",
   "execution_count": 132,
   "metadata": {},
   "outputs": [
    {
     "name": "stdout",
     "output_type": "stream",
     "text": [
      "30\n"
     ]
    }
   ],
   "source": [
    "D = big(sum(H.D))\n",
    "\n",
    "ωᵢ = 2.0\n",
    "ωₒ = 0.6\n",
    "function ω(p, α)\n",
    "    num = p[1] == 1 ? ωᵢ : ωₒ\n",
    "    denom = D^sum(p[2])\n",
    "    return 10000*num / denom\n",
    "end\n",
    "\n",
    "Ω̂ = allOrNothingIntensityFunction(ω, maximum(keys(H.E)));\n",
    "\n",
    "Ẑ_w = SuperNode_PPLouvain(H, Ω̂; α = 0, verbose = false, Z0 = collect(1:n));\n",
    "Ẑ = zero(Ẑ_w)\n",
    "println(length(unique(Ẑ_w)))"
   ]
  },
  {
   "cell_type": "code",
   "execution_count": 133,
   "metadata": {},
   "outputs": [
    {
     "data": {
      "text/plain": [
       "0.03724516155675963"
      ]
     },
     "execution_count": 133,
     "metadata": {},
     "output_type": "execute_result"
    }
   ],
   "source": [
    "randindex(Ẑ_w, Z)[1]"
   ]
  },
  {
   "cell_type": "markdown",
   "metadata": {},
   "source": [
    "## Dyadic"
   ]
  },
  {
   "cell_type": "code",
   "execution_count": 134,
   "metadata": {},
   "outputs": [
    {
     "name": "stdout",
     "output_type": "stream",
     "text": [
      "-7.912814e+06      48            0.201898732   0.056841726918598706\n",
      "-7.912644e+06      44            0.222353521   0.05676157311629137\n",
      "-7.912582e+06      45            0.230431061   0.05806295332113014\n",
      "-7.912561e+06      45            0.199591131   0.05806269086688578\n",
      "-7.912696e+06      45            0.21165298   0.05935542521930287\n",
      "-7.942363e+06      47            0.168193364   0.08064906055158552\n",
      "-7.924891e+06      50            0.222719196   0.06897588457174963\n",
      "-7.912789e+06      44            0.192464521   0.049631043610984305\n",
      "-7.912713e+06      48            0.179766646   0.05165783143962546\n",
      "-7.948181e+06      41            0.225364521   0.011359553698984703\n",
      "-7.939181e+06      45            0.210848723   0.12813236786667737\n",
      "-7.917476e+06      54            0.217890637   0.08952545438548894\n",
      "-7.916708e+06      51            0.224788985   0.08686687957423335\n",
      "-7.916595e+06      49            0.212883551   0.08539874665940582\n",
      "-7.913297e+06      51            0.183925153   0.058887352263872955\n",
      "-7.939504e+06      47            0.212423634   0.12530257893615793\n",
      "-7.917485e+06      53            0.268098785   0.08924553468561651\n",
      "-7.937905e+06      51            0.204339783   0.13390576030647106\n",
      "-7.932941e+06      56            0.176194064   0.08106585391461756\n",
      "-7.929938e+06      58            0.239388445   0.12518228701953837\n"
     ]
    }
   ],
   "source": [
    "function projectedGraph(H)\n",
    "    \n",
    "    n = length(H.D)\n",
    "    A = CliqueExpansion(H, false, false)\n",
    "    ix, jx, w = findnz(A)\n",
    "    E = Dict(sort([ix[k], jx[k]]) => w[k] for k in 1:length(ix))\n",
    "\n",
    "    H̄ = hypergraph(collect(1:n), Dict(1 => Dict(), 2 => E), [0])\n",
    "    HypergraphModularity.computeDegrees!(H̄);\n",
    "    return H̄\n",
    "end\n",
    "\n",
    "H̄ = projectedGraph(H)\n",
    "\n",
    "Ω̄ = estimateΩEmpirically(H̄, Ẑ_w; aggregator = p -> [length(p) == 1, sum(p)])\n",
    "\n",
    "DF = DataFrame()\n",
    "\n",
    "for i ∈ 1:20\n",
    "    Ẑ, t = @timed SuperNode_PPLouvain(H̄, Ω̄; α = 0, verbose = false)\n",
    "    Ω̄ = estimateΩEmpirically(H̄, Ẑ; aggregator = p -> [length(p) == 1, sum(p)])\n",
    "    \n",
    "    Q = modularity(H̄, Ẑ, Ω̄; α = 0)\n",
    "    ℓ = length(unique(Ẑ))\n",
    "    ARI = randindex(Z, Ẑ)[1]\n",
    "    \n",
    "    df = DataFrame(Q = Q, ℓ = ℓ, ARI = ARI, method = \"dyadic\")\n",
    "    DF = vcat(DF, df)\n",
    "    \n",
    "    println(rpad(round(Q), 15, \" \"), \"    \", rpad(ℓ, 10, \" \"), \"    \", rpad(t, 10, \" \") ,\"   \", ARI)\n",
    "end"
   ]
  },
  {
   "cell_type": "markdown",
   "metadata": {},
   "source": [
    "# Polyadic AON"
   ]
  },
  {
   "cell_type": "code",
   "execution_count": 135,
   "metadata": {},
   "outputs": [
    {
     "name": "stdout",
     "output_type": "stream",
     "text": [
      "-1.759268e+06      13            0.857040665       0.02413991552073836\n",
      "-1.758708e+06      11            0.764868731       0.030676639217728733\n",
      "-1.758567e+06      11            0.75251292        0.028806643534901748\n",
      "-1.757853e+06      9             0.744087452       0.033771054245624176\n",
      "-1.759444e+06      8             0.717139208       0.024510084668818922\n",
      "-1.757373e+06      10            0.780476364       0.02620303339058387\n",
      "-1.757251e+06      10            0.762285639       0.019293376277422374\n",
      "-1.757095e+06      9             0.775307501       0.020032511602051335\n",
      "-1.763126e+06      11            0.677999384       0.04572655482944875\n",
      "-1.756549e+06      8             0.762816925       0.028543966070252596\n",
      "-1.75639e+06       7             0.691625592       0.025375738970727316\n",
      "-1.756336e+06      7             0.654587315       0.025321319575501974\n",
      "-1.756332e+06      7             0.650535721       0.022422773889281145\n",
      "-1.756336e+06      8             0.698855          0.025422675960556328\n",
      "-1.756333e+06      8             0.711945052       0.022458224722838767\n",
      "-1.756337e+06      7             0.671903893       0.021963774958910224\n",
      "-1.757958e+06      7             0.738874658       0.018491193128361436\n",
      "-1.756394e+06      8             0.645155437       0.023983642935559952\n",
      "-1.756337e+06      9             0.684667189       0.02317039878558618\n",
      "-1.756333e+06      8             0.735388908       0.022458224722838767\n"
     ]
    }
   ],
   "source": [
    "Ω̂ = estimateΩEmpirically(H, Ẑ_w; aggregator = p -> [length(p) == 1, sum(p)])\n",
    "\n",
    "for i ∈ 1:20\n",
    "    Ẑ, t = @timed SuperNode_PPLouvain(H, Ω̂; α = 0, verbose = false, scan_order = \"random\")\n",
    "    Ω̂ = estimateΩEmpirically(H, Ẑ; aggregator = p -> [length(p) == 1, sum(p)])\n",
    "    \n",
    "    Q = modularity(H, Ẑ, Ω̂; α = 0)\n",
    "    ℓ = length(unique(Ẑ))\n",
    "    ARI = randindex(Z, Ẑ)[1]\n",
    "    \n",
    "    df = DataFrame(Q = Q, ℓ = ℓ, ARI = ARI, method = \"polyadic AON\")\n",
    "    DF = vcat(DF, df)\n",
    "    \n",
    "    println(rpad(round(Q), 15, \" \"), \"    \", rpad(ℓ, 10, \" \"), \"    \", rpad(t, 15, \" \") ,\"   \", ARI)\n",
    "end"
   ]
  },
  {
   "cell_type": "code",
   "execution_count": 113,
   "metadata": {},
   "outputs": [
    {
     "data": {
      "text/plain": [
       "Dict{Int64,Int64} with 7 entries:\n",
       "  7 => 1\n",
       "  4 => 4\n",
       "  2 => 41\n",
       "  3 => 1\n",
       "  5 => 1\n",
       "  6 => 115\n",
       "  1 => 131"
      ]
     },
     "execution_count": 113,
     "metadata": {},
     "output_type": "execute_result"
    }
   ],
   "source": [
    "countmap(Ẑ)"
   ]
  },
  {
   "cell_type": "code",
   "execution_count": 114,
   "metadata": {},
   "outputs": [
    {
     "data": {
      "text/plain": [
       "RObject{StrSxp}\n",
       " [1] \"forcats\"   \"stringr\"   \"dplyr\"     \"purrr\"     \"readr\"     \"tidyr\"    \n",
       " [7] \"tibble\"    \"ggplot2\"   \"tidyverse\" \"stats\"     \"graphics\"  \"grDevices\"\n",
       "[13] \"utils\"     \"datasets\"  \"methods\"   \"base\"     \n"
      ]
     },
     "execution_count": 114,
     "metadata": {},
     "output_type": "execute_result"
    }
   ],
   "source": [
    "using RCall\n",
    "\n",
    "R\"\"\"\n",
    "library(tidyverse)\n",
    "\"\"\""
   ]
  },
  {
   "cell_type": "code",
   "execution_count": 116,
   "metadata": {},
   "outputs": [
    {
     "data": {
      "image/png": "[encoded data removed]"
     },
     "metadata": {},
     "output_type": "display_data"
    },
    {
     "data": {
      "text/plain": [
       "RObject{VecSxp}\n"
      ]
     },
     "execution_count": 116,
     "metadata": {},
     "output_type": "execute_result"
    }
   ],
   "source": [
    "R\"\"\"\n",
    "df <- tibble($DF)\n",
    "\n",
    "df %>% \n",
    "    group_by(method) %>% \n",
    "    mutate(Q = (Q - mean(Q))/sd(Q)) %>% \n",
    "    ggplot() + \n",
    "    aes(x = Q, y = ARI, color = method) + \n",
    "    geom_point()\n",
    "\"\"\""
   ]
  },
  {
   "cell_type": "markdown",
   "metadata": {},
   "source": [
    "# Polyadic General"
   ]
  },
  {
   "cell_type": "code",
   "execution_count": 117,
   "metadata": {},
   "outputs": [
    {
     "data": {
      "text/plain": [
       "-1.363227138086514475824135876762068263064065126593435870863519781962870772737962e+06"
      ]
     },
     "execution_count": 117,
     "metadata": {},
     "output_type": "execute_result"
    }
   ],
   "source": [
    "n_ = big(n)\n",
    "\n",
    "function ω(p, α)\n",
    "    k = sum(p)\n",
    "    return sum(p)/sum((p .* (1:length(p)).^α[k])) / n^(α[kmax+k]*k)\n",
    "end\n",
    "\n",
    "function ω_m(p, α)\n",
    "    k = sum(p)\n",
    "    kmax = length(α) ÷ 2\n",
    "    return (2*p[1]/k)^α[k] / n_^(α[kmax+k]*k)\n",
    "end\n",
    "\n",
    "Ω̂ = partitionIntensityFunction(ω, kmax);\n",
    "α̂ = vcat(repeat([10.0], kmax), repeat([2.0], kmax));\n",
    "\n",
    "\n",
    "# Ω̂ = partitionIntensityFunction(ω_m, kmax);\n",
    "# α̂ = repeat([2.0], 2*kmax)\n",
    "\n",
    "α̂ = learnParameters(H, Ẑ_w, Ω̂, α̂; max_iters = 50, verbose = false, tol = 1e-4);\n",
    "Q = modularity(H, Ẑ_w, Ω̂; α = α̂)"
   ]
  },
  {
   "cell_type": "code",
   "execution_count": 118,
   "metadata": {},
   "outputs": [
    {
     "ename": "InterruptException",
     "evalue": "InterruptException:",
     "output_type": "error",
     "traceback": [
      "InterruptException:",
      "",
      "Stacktrace:",
      " [1] init2! at ./gmp.jl:140 [inlined]",
      " [2] BigInt at ./gmp.jl:56 [inlined]",
      " [3] sub(::BigInt, ::BigInt) at ./gmp.jl:155",
      " [4] - at ./gmp.jl:473 [inlined]",
      " [5] increments(::Array{BigInt,1}, ::Array{BigInt,1}, ::Dict{Array{Int64,1},BigInt}, ::Array{Int64,1}, ::Int64, ::Array{Int64,1}, ::Array{Int64,1}; bigInt::Bool) at /home/phil/hypergraph_modularities_code/src/vol.jl:197",
      " [6] increments(::Array{BigInt,1}, ::Array{BigInt,1}, ::Dict{Array{Int64,1},BigInt}, ::Array{Int64,1}, ::Int64, ::Array{Int64,1}, ::Array{Int64,1}) at /home/phil/hypergraph_modularities_code/src/vol.jl:174",
      " [7] HyperLouvain(::hypergraph, ::IntensityFunction; α::Array{Float64,1}, kmax::Int64, maxits::Int64, bigInt::Bool, verbose::Bool, scan_order::String) at /home/phil/hypergraph_modularities_code/src/general_hypergraph_louvain.jl:79",
      " [8] #HyperLouvain#106 at /home/phil/hypergraph_modularities_code/src/general_hypergraph_louvain.jl:2 [inlined]",
      " [9] SuperNodeLouvain(::hypergraph, ::IntensityFunction; α::Array{Float64,1}, kmax::Int64, maxits::Int64, bigInt::Bool, verbose::Bool, scan_order::String) at /home/phil/hypergraph_modularities_code/src/general_hypergraph_louvain.jl:326",
      " [10] macro expansion at ./util.jl:308 [inlined]",
      " [11] top-level scope at ./In[118]:2"
     ]
    }
   ],
   "source": [
    "for i ∈ 1:20\n",
    "    Ẑ, t = @timed SuperNodeLouvain(H, Ω̂; α = α̂, verbose = false, scan_order =\"random\")\n",
    "    α̂ = learnParameters(H, Ẑ_w, Ω̂, α̂; max_iters = 10, verbose = false, tol = 1e-4)\n",
    "    \n",
    "    Q = modularity(H, Ẑ, Ω̂; α = α̂)\n",
    "    ℓ = length(unique(Ẑ))\n",
    "    ARI = randindex(Z, Ẑ)[1]\n",
    "    \n",
    "    df = DataFrame(Q = Q, ℓ = ℓ, ARI = ARI, method = \"polyadic parameterized\")\n",
    "    DF = vcat(DF, df)\n",
    "    \n",
    "    println(rpad(round(Q), 15, \" \"), \"    \", rpad(ℓ, 10, \" \"), \"    \", rpad(t, 15, \" \") ,\"   \", ARI)\n",
    "end"
   ]
  },
  {
   "cell_type": "code",
   "execution_count": 59,
   "metadata": {},
   "outputs": [
    {
     "data": {
      "image/png": "[encoded data removed]"
     },
     "metadata": {},
     "output_type": "display_data"
    },
    {
     "data": {
      "text/plain": [
       "RObject{VecSxp}\n"
      ]
     },
     "execution_count": 59,
     "metadata": {},
     "output_type": "execute_result"
    }
   ],
   "source": [
    "R\"\"\"\n",
    "df <- tibble($DF)\n",
    "\n",
    "df %>% \n",
    "    group_by(method) %>% \n",
    "    mutate(Q = (Q - mean(Q))/sd(Q)) %>% \n",
    "    ggplot() + \n",
    "    aes(x = Q, y = ARI, color = method) + \n",
    "    geom_point()\n",
    "\"\"\""
   ]
  },
  {
   "cell_type": "code",
   "execution_count": null,
   "metadata": {},
   "outputs": [],
   "source": [
    "function agg(p)\n",
    "#     q = minimum(p)\n",
    "#     k = sum(p)\n",
    "#     if q >= 2 return [0, k] end\n",
    "#     return [1, k]\n",
    "    return [length(p), sum(p)]\n",
    "end\n",
    "\n",
    "Ω̂ = estimateΩEmpirically(H, Ẑ_w; aggregator = agg)\n",
    "\n",
    "for i ∈ 1:20\n",
    "    Ẑ, t = @timed SuperNodeLouvain(H, Ω̂; α = 0, verbose = false)\n",
    "    Ω̂ = estimateΩEmpirically(H, Ẑ; aggregator = agg)\n",
    "    \n",
    "    Q = modularity(H, Ẑ, Ω̂; α = 0)\n",
    "    ℓ = length(unique(Ẑ))\n",
    "    ARI = randindex(Z, Ẑ)[1]\n",
    "    \n",
    "    df = DataFrame(Q = Q, ℓ = ℓ, ARI = ARI, method = \"polyadic custom\")\n",
    "    DF = vcat(DF, df)\n",
    "    \n",
    "    println(rpad(round(Q), 15, \" \"), \"    \", rpad(ℓ, 10, \" \"), \"    \", rpad(t, 15, \" \") ,\"   \", ARI)\n",
    "end"
   ]
  },
  {
   "cell_type": "markdown",
   "metadata": {},
   "source": [
    "### Majorization Penalty"
   ]
  },
  {
   "cell_type": "code",
   "execution_count": 397,
   "metadata": {},
   "outputs": [
    {
     "name": "stdout",
     "output_type": "stream",
     "text": [
      "-14936.0    6    0.12556582\n"
     ]
    }
   ],
   "source": [
    "# warmstart\n",
    "ωᵢ = 2.0\n",
    "ωₒ = 0.6\n",
    "function ω(p, α)\n",
    "    num = p[1] == 1 ? ωᵢ : ωₒ\n",
    "    denom = big(sum(H_.D))^sum(p[2])\n",
    "    return 10000*num / denom\n",
    "end\n",
    "\n",
    "Ω = allOrNothingIntensityFunction(ω, maximum(keys(H_.E)));\n",
    "\n",
    "Ẑ, t = @timed SuperNode_PPLouvain(H, Ω; α = 0, verbose = false, Z0 = collect(1:n), clusterpenalty = n)\n",
    "Ω̂ = estimateΩEmpirically(H, Ẑ; aggregator = p -> [length(p) == 1, sum(p)], bigNums = true);\n",
    "Q = modularity(H, Ẑ, Ω̂; α = nothing) - n*log(length(unique(Z)))\n",
    "k = length(unique(Ẑ))\n",
    "println(round(Q - n * log(k)), \"    \", k, \"    \", t)"
   ]
  },
  {
   "cell_type": "code",
   "execution_count": 398,
   "metadata": {},
   "outputs": [],
   "source": [
    "function ω_m(p, α)\n",
    "    k = big(sum(p))\n",
    "    kmax = length(α) ÷ 2\n",
    "    return (p[1]/k)^α[k] / n^(α[kmax+k]*k)\n",
    "end\n",
    "\n",
    "Ω̂ = partitionIntensityFunction(ω_m, kmax);\n",
    "α̂ = vcat(repeat([10.0], kmax), repeat([1.0], kmax));"
   ]
  },
  {
   "cell_type": "code",
   "execution_count": 399,
   "metadata": {},
   "outputs": [
    {
     "ename": "InterruptException",
     "evalue": "InterruptException:",
     "output_type": "error",
     "traceback": [
      "InterruptException:",
      "",
      "Stacktrace:",
      " [1] BigInt at ./gmp.jl:56 [inlined]",
      " [2] BigInt at ./gmp.jl:56 [inlined]",
      " [3] add_ui(::BigInt, ::UInt64) at ./gmp.jl:169",
      " [4] + at ./gmp.jl:521 [inlined]",
      " [5] + at ./gmp.jl:528 [inlined]",
      " [6] ω_m(::Array{Int64,1}, ::Array{Float64,1}) at ./In[398]:4",
      " [7] (::HypergraphModularity.var\"#110#113\"{Array{Float64,1},IntensityFunction,Dict{Array{Int64,1},BigInt}})(::Array{Int64,1}) at ./none:0",
      " [8] MappingRF at ./reduce.jl:90 [inlined]",
      " [9] _foldl_impl(::Base.MappingRF{HypergraphModularity.var\"#110#113\"{Array{Float64,1},IntensityFunction,Dict{Array{Int64,1},BigInt}},Base.BottomRF{typeof(Base.add_sum)}}, ::Base._InitialValue, ::Base.KeySet{Array{Int64,1},Dict{Array{Int64,1},BigInt}}) at ./reduce.jl:59",
      " [10] foldl_impl at ./reduce.jl:45 [inlined]",
      " [11] mapfoldl_impl at ./reduce.jl:41 [inlined]",
      " [12] #mapfoldl#189 at ./reduce.jl:157 [inlined]",
      " [13] mapfoldl at ./reduce.jl:157 [inlined]",
      " [14] #mapreduce#193 at ./reduce.jl:283 [inlined]",
      " [15] mapreduce at ./reduce.jl:283 [inlined]",
      " [16] sum at ./reduce.jl:486 [inlined]",
      " [17] sum(::Base.Generator{Base.KeySet{Array{Int64,1},Dict{Array{Int64,1},BigInt}},HypergraphModularity.var\"#110#113\"{Array{Float64,1},IntensityFunction,Dict{Array{Int64,1},BigInt}}}) at ./reduce.jl:503",
      " [18] HyperLouvain(::hypergraph, ::IntensityFunction; α::Array{Float64,1}, kmax::Int64, maxits::Int64, bigInt::Bool, verbose::Bool, scan_order::String) at /home/phil/hypergraph_modularities_code/src/general_hypergraph_louvain.jl:80",
      " [19] #HyperLouvain#106 at /home/phil/hypergraph_modularities_code/src/general_hypergraph_louvain.jl:2 [inlined]",
      " [20] SuperNodeLouvain(::hypergraph, ::IntensityFunction; α::Array{Float64,1}, kmax::Int64, maxits::Int64, bigInt::Bool, verbose::Bool, scan_order::String) at /home/phil/hypergraph_modularities_code/src/general_hypergraph_louvain.jl:326",
      " [21] #SuperNodeLouvain#120 at /home/phil/hypergraph_modularities_code/src/general_hypergraph_louvain.jl:310 [inlined]",
      " [22] macro expansion at ./util.jl:308 [inlined]",
      " [23] top-level scope at ./In[399]:3"
     ]
    }
   ],
   "source": [
    "for i ∈ 1:5\n",
    "    α̂ = learnParameters(H, Ẑ, Ω̂, α̂; max_iters = 50, verbose = false) \n",
    "    Ẑ, t = @timed SuperNodeLouvain(H,kmax,Ω̂;α=α̂, verbose=false, scan_order =\"random\");\n",
    "    Q = modularity(H, Ẑ, Ω̂; α = α̂)\n",
    "    k = length(unique(Ẑ))\n",
    "    \n",
    "    NMI = mutualInformation(Z, Ẑ, true)\n",
    "    println(round(Q), \"    \", k, \"    \", rpad(t, 10, \" \") ,\"   \", NMI)\n",
    "end"
   ]
  },
  {
   "cell_type": "markdown",
   "metadata": {},
   "source": [
    "# Ground Truth"
   ]
  },
  {
   "cell_type": "code",
   "execution_count": 416,
   "metadata": {},
   "outputs": [
    {
     "data": {
      "text/plain": [
       "-14653.99064269901118557493380289218514767396291651551455769549583275286063969922"
      ]
     },
     "execution_count": 416,
     "metadata": {},
     "output_type": "execute_result"
    }
   ],
   "source": [
    "α̂ = learnParameters(H, Z, Ω̂, α̂; max_iters = 1000, verbose = false) \n",
    "Q = modularity(H, Z, Ω̂; α = α̂)"
   ]
  },
  {
   "cell_type": "code",
   "execution_count": null,
   "metadata": {},
   "outputs": [],
   "source": []
  }
 ],
 "metadata": {
  "kernelspec": {
   "display_name": "Julia 1.4.2",
   "language": "julia",
   "name": "julia-1.4"
  },
  "language_info": {
   "file_extension": ".jl",
   "mimetype": "application/julia",
   "name": "julia",
   "version": "1.4.2"
  }
 },
 "nbformat": 4,
 "nbformat_minor": 4
}
