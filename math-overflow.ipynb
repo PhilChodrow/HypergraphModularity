{
 "cells": [
  {
   "cell_type": "code",
   "execution_count": 2,
   "metadata": {},
   "outputs": [
    {
     "name": "stderr",
     "output_type": "stream",
     "text": [
      "\u001b[32m\u001b[1m Activating\u001b[22m\u001b[39m environment at `~/hypergraph_modularities_code/Project.toml`\n",
      "┌ Info: Precompiling HypergraphModularity [0c934d27-dd44-49d7-950f-bd4be7819e54]\n",
      "└ @ Base loading.jl:1260\n",
      "┌ Warning: Package HypergraphModularity does not have DelimitedFiles in its dependencies:\n",
      "│ - If you have HypergraphModularity checked out for development and have\n",
      "│   added DelimitedFiles as a dependency but haven't updated your primary\n",
      "│   environment's manifest file, try `Pkg.resolve()`.\n",
      "│ - Otherwise you may need to report an issue with HypergraphModularity\n",
      "└ Loading DelimitedFiles into HypergraphModularity from project dependency, future warnings for HypergraphModularity are suppressed.\n",
      "WARNING: Method definition CliqueExpansionModularity(HypergraphModularity.hypergraph) in module HypergraphModularity at /home/phil/hypergraph_modularities_code/src/graph_louvain.jl:43 overwritten at /home/phil/hypergraph_modularities_code/src/graph_louvain.jl:47.\n",
      "  ** incremental compilation may be fatally broken for this module **\n",
      "\n",
      "WARNING: Method definition CliqueExpansionModularity(HypergraphModularity.hypergraph, Float64) in module HypergraphModularity at /home/phil/hypergraph_modularities_code/src/graph_louvain.jl:43 overwritten at /home/phil/hypergraph_modularities_code/src/graph_louvain.jl:47.\n",
      "  ** incremental compilation may be fatally broken for this module **\n",
      "\n"
     ]
    }
   ],
   "source": [
    "using Revise\n",
    "using Pkg; Pkg.activate(\".\")\n",
    "using HypergraphModularity\n",
    "\n",
    "using StatsBase\n",
    "using Statistics\n",
    "using Plots\n",
    "using DataFrames\n",
    "using SparseArrays\n",
    "using Clustering"
   ]
  },
  {
   "cell_type": "code",
   "execution_count": 26,
   "metadata": {},
   "outputs": [
    {
     "data": {
      "text/plain": [
       "2803"
      ]
     },
     "execution_count": 26,
     "metadata": {},
     "output_type": "execute_result"
    }
   ],
   "source": [
    "sum(H.D .>= 5)"
   ]
  },
  {
   "cell_type": "code",
   "execution_count": 183,
   "metadata": {},
   "outputs": [
    {
     "data": {
      "text/plain": [
       "1312"
      ]
     },
     "execution_count": 183,
     "metadata": {},
     "output_type": "execute_result"
    }
   ],
   "source": [
    "# dataset = \"HR-congress-bills\"\n",
    "dataset = \"TrivagoClickout-cities\"\n",
    "kmax_ = 10\n",
    "\n",
    "H, Z = read_hypergraph_data(dataset,kmax_)\n",
    "\n",
    "H, Z = kcore(H, Z, 10)\n",
    "\n",
    "kmax = maximum(keys(H.E))\n",
    "α = zeros(2*kmax);\n",
    "\n",
    "D = big(sum(H.D))\n",
    "n = length(H.D)"
   ]
  },
  {
   "cell_type": "markdown",
   "metadata": {},
   "source": [
    "## Acquire Warmstart"
   ]
  },
  {
   "cell_type": "code",
   "execution_count": 184,
   "metadata": {},
   "outputs": [
    {
     "name": "stdout",
     "output_type": "stream",
     "text": [
      "22\n"
     ]
    }
   ],
   "source": [
    "D = big(sum(H.D))\n",
    "\n",
    "ωᵢ = 2.0\n",
    "ωₒ = 0.6\n",
    "function ω(p, α)\n",
    "    num = p[1] == 1 ? ωᵢ : ωₒ\n",
    "    denom = D^sum(p[2])\n",
    "    return 10000*num / denom\n",
    "end\n",
    "\n",
    "Ω̂ = allOrNothingIntensityFunction(ω, maximum(keys(H.E)));\n",
    "\n",
    "Ẑ_w = SuperNode_PPLouvain(H, Ω̂; α = 0, verbose = false, Z0 = collect(1:n), clusterpenalty = n);\n",
    "\n",
    "println(length(unique(Ẑ_w)))"
   ]
  },
  {
   "cell_type": "code",
   "execution_count": 185,
   "metadata": {},
   "outputs": [
    {
     "data": {
      "text/plain": [
       "0.7533741702605317"
      ]
     },
     "execution_count": 185,
     "metadata": {},
     "output_type": "execute_result"
    }
   ],
   "source": [
    "randindex(Ẑ_w, Z)[1]"
   ]
  },
  {
   "cell_type": "markdown",
   "metadata": {},
   "source": [
    "## Dyadic"
   ]
  },
  {
   "cell_type": "code",
   "execution_count": 186,
   "metadata": {},
   "outputs": [
    {
     "name": "stdout",
     "output_type": "stream",
     "text": [
      "-331211.0          32            0.118515937   0.894039018699798\n",
      "-331199.0          33            0.112269524   0.8989648075153214\n",
      "-331199.0          33            0.109504682   0.8989648075153214\n",
      "-331199.0          33            0.112030758   0.8989648075153214\n",
      "-331199.0          33            0.111178886   0.8989648075153214\n",
      "-331199.0          33            0.096150877   0.8989648075153214\n",
      "-331199.0          33            0.098410855   0.8989648075153214\n",
      "-331199.0          33            0.094331914   0.8989648075153214\n",
      "-331199.0          33            0.111218981   0.8989648075153214\n",
      "-331199.0          33            0.104086393   0.8989648075153214\n",
      "-331199.0          33            0.109134862   0.8989648075153214\n",
      "-331199.0          33            0.116105323   0.8989648075153214\n",
      "-331199.0          33            0.112629474   0.8989648075153214\n",
      "-331199.0          33            0.108496479   0.8989648075153214\n",
      "-331550.0          33            0.108528616   0.9022959983334262\n",
      "-331199.0          33            0.0931658    0.8989648075153214\n",
      "-331199.0          33            0.091107128   0.8989648075153214\n",
      "-331199.0          33            0.088727684   0.8989648075153214\n",
      "-331199.0          33            0.105224296   0.8989648075153214\n",
      "-331199.0          33            0.107674197   0.8989648075153214\n"
     ]
    }
   ],
   "source": [
    "function projectedGraph(H)\n",
    "    \n",
    "    n = length(H.D)\n",
    "    A = CliqueExpansion(H, false, false)\n",
    "    ix, jx, w = findnz(A)\n",
    "    E = Dict(sort([ix[k], jx[k]]) => w[k] for k in 1:length(ix))\n",
    "\n",
    "    H̄ = hypergraph(collect(1:n), Dict(1 => Dict(), 2 => E), [0])\n",
    "    HypergraphModularity.computeDegrees!(H̄);\n",
    "    return H̄\n",
    "end\n",
    "\n",
    "H̄ = projectedGraph(H)\n",
    "\n",
    "Ω̄ = estimateΩEmpirically(H̄, Ẑ_w; aggregator = p -> [length(p) == 1, sum(p)])\n",
    "\n",
    "DF = DataFrame()\n",
    "\n",
    "for i ∈ 1:20\n",
    "    Ẑ, t = @timed SuperNode_PPLouvain(H̄, Ω̄; α = 0, verbose = false)\n",
    "    Ω̄ = estimateΩEmpirically(H̄, Ẑ; aggregator = p -> [length(p) == 1, sum(p)])\n",
    "    \n",
    "    Q = modularity(H̄, Ẑ, Ω̄; α = 0)\n",
    "    ℓ = length(unique(Ẑ))\n",
    "    ARI = randindex(Z, Ẑ)[1]\n",
    "    \n",
    "    df = DataFrame(Q = Q, ℓ = ℓ, ARI = ARI, method = \"dyadic\")\n",
    "    DF = vcat(DF, df)\n",
    "    \n",
    "    println(rpad(round(Q), 15, \" \"), \"    \", rpad(ℓ, 10, \" \"), \"    \", rpad(t, 10, \" \") ,\"   \", ARI)\n",
    "end"
   ]
  },
  {
   "cell_type": "markdown",
   "metadata": {},
   "source": [
    "# Polyadic AON"
   ]
  },
  {
   "cell_type": "code",
   "execution_count": 187,
   "metadata": {},
   "outputs": [
    {
     "name": "stdout",
     "output_type": "stream",
     "text": [
      "-228875.0          29            0.110950586       0.8480955863599731\n",
      "-228757.0          30            0.122150676       0.8736675409487955\n",
      "-228757.0          30            0.121751586       0.8736675409487955\n",
      "-228930.0          28            0.126444974       0.8545016998702725\n",
      "-228757.0          30            0.118154419       0.8736675409487955\n",
      "-228797.0          29            0.105301195       0.8570631848849021\n",
      "-228757.0          30            0.100123879       0.8736675409487955\n",
      "-228757.0          30            0.100607859       0.8736675409487955\n",
      "-228757.0          30            0.099110315       0.8736675409487955\n",
      "-228757.0          30            0.102556773       0.8736675409487955\n",
      "-228757.0          30            0.115009814       0.8736675409487955\n",
      "-228757.0          30            0.122198307       0.8736675409487955\n",
      "-228757.0          30            0.125641113       0.8736675409487955\n",
      "-228757.0          30            0.126471526       0.8736675409487955\n",
      "-228757.0          30            0.128568128       0.8736675409487955\n",
      "-228757.0          30            0.125865985       0.8736675409487955\n",
      "-228757.0          30            0.119356403       0.8736675409487955\n",
      "-228757.0          30            0.126513631       0.8736675409487955\n",
      "-228757.0          30            0.119313861       0.8736675409487955\n",
      "-228757.0          30            0.116612351       0.8736675409487955\n"
     ]
    }
   ],
   "source": [
    "Ω̂ = estimateΩEmpirically(H, Ẑ_w; aggregator = p -> [length(p) == 1, sum(p)])\n",
    "\n",
    "for i ∈ 1:20\n",
    "    Ẑ, t = @timed SuperNode_PPLouvain(H, Ω̂; α = 0, verbose = false)\n",
    "    Ω̂ = estimateΩEmpirically(H, Ẑ; aggregator = p -> [length(p) == 1, sum(p)])\n",
    "    \n",
    "    Q = modularity(H, Ẑ, Ω̂; α = 0)\n",
    "    ℓ = length(unique(Ẑ))\n",
    "    ARI = randindex(Z, Ẑ)[1]\n",
    "    \n",
    "    df = DataFrame(Q = Q, ℓ = ℓ, ARI = ARI, method = \"polyadic AON\")\n",
    "    DF = vcat(DF, df)\n",
    "    \n",
    "    println(rpad(round(Q), 15, \" \"), \"    \", rpad(ℓ, 10, \" \"), \"    \", rpad(t, 15, \" \") ,\"   \", ARI)\n",
    "end"
   ]
  },
  {
   "cell_type": "code",
   "execution_count": 188,
   "metadata": {},
   "outputs": [
    {
     "data": {
      "text/plain": [
       "RObject{StrSxp}\n",
       " [1] \"forcats\"   \"stringr\"   \"dplyr\"     \"purrr\"     \"readr\"     \"tidyr\"    \n",
       " [7] \"tibble\"    \"ggplot2\"   \"tidyverse\" \"stats\"     \"graphics\"  \"grDevices\"\n",
       "[13] \"utils\"     \"datasets\"  \"methods\"   \"base\"     \n"
      ]
     },
     "execution_count": 188,
     "metadata": {},
     "output_type": "execute_result"
    }
   ],
   "source": [
    "using RCall\n",
    "\n",
    "R\"\"\"\n",
    "library(tidyverse)\n",
    "\"\"\""
   ]
  },
  {
   "cell_type": "code",
   "execution_count": 189,
   "metadata": {},
   "outputs": [
    {
     "data": {
      "image/png": "[encoded data removed]"
     },
     "metadata": {},
     "output_type": "display_data"
    },
    {
     "data": {
      "text/plain": [
       "RObject{VecSxp}\n"
      ]
     },
     "execution_count": 189,
     "metadata": {},
     "output_type": "execute_result"
    }
   ],
   "source": [
    "R\"\"\"\n",
    "df <- tibble($DF)\n",
    "\n",
    "df %>% \n",
    "    group_by(method) %>% \n",
    "    mutate(Q = (Q - mean(Q))/sd(Q)) %>% \n",
    "    ggplot() + \n",
    "    aes(x = Q, y = ARI, color = method) + \n",
    "    geom_point()\n",
    "\"\"\""
   ]
  },
  {
   "cell_type": "markdown",
   "metadata": {},
   "source": [
    "# Polyadic General"
   ]
  },
  {
   "cell_type": "code",
   "execution_count": 192,
   "metadata": {},
   "outputs": [
    {
     "data": {
      "text/plain": [
       "-230297.0261248540458129659704453864105687659986927479508619817187225847533067793"
      ]
     },
     "execution_count": 192,
     "metadata": {},
     "output_type": "execute_result"
    }
   ],
   "source": [
    "n_ = big(n)\n",
    "\n",
    "function ω(p, α)\n",
    "    k = sum(p)\n",
    "    return sum(p)/sum((p .* (1:length(p)).^α[k])) / n^(α[kmax+k]*k)\n",
    "end\n",
    "\n",
    "function ω_m(p, α)\n",
    "    k = sum(p)\n",
    "    kmax = length(α) ÷ 2\n",
    "    return (2*p[1]/k)^α[k] / n_^(α[kmax+k]*k)\n",
    "end\n",
    "\n",
    "Ω̂ = partitionIntensityFunction(ω, kmax);\n",
    "α̂ = vcat(repeat([10.0], kmax), repeat([2.0], kmax));\n",
    "\n",
    "Ω̂ = partitionIntensityFunction(ω_m, kmax);\n",
    "α̂ = repeat([2.0], 2*kmax)\n",
    "\n",
    "α̂ = learnParameters(H, Ẑ_w, Ω̂, α̂; max_iters = 50, verbose = false, tol = 1e-4);\n",
    "Q = modularity(H, Ẑ_w, Ω̂; α = α̂)"
   ]
  },
  {
   "cell_type": "code",
   "execution_count": 193,
   "metadata": {},
   "outputs": [
    {
     "name": "stdout",
     "output_type": "stream",
     "text": [
      "-228999.0          30            66.275824452      0.8861159131788843\n",
      "-229087.0          29            62.389663241      0.8570631848849021\n",
      "-228949.0          29            69.452134304      0.8711357722801711\n"
     ]
    },
    {
     "ename": "InterruptException",
     "evalue": "InterruptException:",
     "output_type": "error",
     "traceback": [
      "InterruptException:",
      "",
      "Stacktrace:",
      " [1] ^(::BigFloat, ::BigFloat) at ./mpfr.jl:592",
      " [2] ^(::BigInt, ::Float64) at ./promotion.jl:343",
      " [3] ω_m(::Array{Int64,1}, ::Array{Float64,1}) at ./In[192]:11",
      " [4] (::HypergraphModularity.var\"#110#113\"{Array{Float64,1},IntensityFunction,Dict{Array{Int64,1},BigInt}})(::Array{Int64,1}) at ./none:0",
      " [5] MappingRF at ./reduce.jl:90 [inlined]",
      " [6] _foldl_impl(::Base.MappingRF{HypergraphModularity.var\"#110#113\"{Array{Float64,1},IntensityFunction,Dict{Array{Int64,1},BigInt}},Base.BottomRF{typeof(Base.add_sum)}}, ::Base._InitialValue, ::Base.KeySet{Array{Int64,1},Dict{Array{Int64,1},BigInt}}) at ./reduce.jl:59",
      " [7] foldl_impl at ./reduce.jl:45 [inlined]",
      " [8] mapfoldl_impl at ./reduce.jl:41 [inlined]",
      " [9] #mapfoldl#189 at ./reduce.jl:157 [inlined]",
      " [10] mapfoldl at ./reduce.jl:157 [inlined]",
      " [11] #mapreduce#193 at ./reduce.jl:283 [inlined]",
      " [12] mapreduce at ./reduce.jl:283 [inlined]",
      " [13] sum at ./reduce.jl:486 [inlined]",
      " [14] sum(::Base.Generator{Base.KeySet{Array{Int64,1},Dict{Array{Int64,1},BigInt}},HypergraphModularity.var\"#110#113\"{Array{Float64,1},IntensityFunction,Dict{Array{Int64,1},BigInt}}}) at ./reduce.jl:503",
      " [15] HyperLouvain(::hypergraph, ::IntensityFunction; α::Array{Float64,1}, kmax::Int64, maxits::Int64, bigInt::Bool, verbose::Bool, scan_order::String) at /home/phil/hypergraph_modularities_code/src/general_hypergraph_louvain.jl:80",
      " [16] #HyperLouvain#106 at /home/phil/hypergraph_modularities_code/src/general_hypergraph_louvain.jl:2 [inlined]",
      " [17] SuperNodeLouvain(::hypergraph, ::IntensityFunction; α::Array{Float64,1}, kmax::Int64, maxits::Int64, bigInt::Bool, verbose::Bool, scan_order::String) at /home/phil/hypergraph_modularities_code/src/general_hypergraph_louvain.jl:326",
      " [18] macro expansion at ./util.jl:308 [inlined]",
      " [19] top-level scope at ./In[193]:2"
     ]
    }
   ],
   "source": [
    "for i ∈ 1:20\n",
    "    Ẑ, t = @timed SuperNodeLouvain(H, Ω̂; α = α̂, verbose = false, scan_order =\"random\")\n",
    "    α̂ = learnParameters(H, Ẑ_w, Ω̂, α̂; max_iters = 10, verbose = false, tol = 1e-4)\n",
    "    \n",
    "    Q = modularity(H, Ẑ, Ω̂; α = α̂)\n",
    "    ℓ = length(unique(Ẑ))\n",
    "    ARI = randindex(Z, Ẑ)[1]\n",
    "    \n",
    "    df = DataFrame(Q = Q, ℓ = ℓ, ARI = ARI, method = \"polyadic parameterized\")\n",
    "    DF = vcat(DF, df)\n",
    "    \n",
    "    println(rpad(round(Q), 15, \" \"), \"    \", rpad(ℓ, 10, \" \"), \"    \", rpad(t, 15, \" \") ,\"   \", ARI)\n",
    "end"
   ]
  },
  {
   "cell_type": "code",
   "execution_count": 285,
   "metadata": {},
   "outputs": [
    {
     "data": {
      "text/plain": [
       "20-element Array{Float64,1}:\n",
       "   10.0\n",
       "    2.0157982450483853\n",
       "    1.6420402851796\n",
       "    1.6138989601861196\n",
       "    1.7548670019352406\n",
       "    1.511821667189462\n",
       "    2.129641207389855\n",
       "    2.4029876852808525\n",
       "    2.3222944392261917\n",
       "    2.8310088045893673\n",
       " 4820.629479614956\n",
       "    1.2837950944091958\n",
       "    1.4915557529450094\n",
       "    1.6133866008600193\n",
       "    1.6921080904869437\n",
       "    1.7416951966212864\n",
       "    1.7751036937749376\n",
       "    1.7998251081046557\n",
       "    1.8189623636424275\n",
       "    1.8356222970012483"
      ]
     },
     "execution_count": 285,
     "metadata": {},
     "output_type": "execute_result"
    }
   ],
   "source": [
    "α̂"
   ]
  },
  {
   "cell_type": "code",
   "execution_count": 83,
   "metadata": {},
   "outputs": [
    {
     "name": "stdout",
     "output_type": "stream",
     "text": [
      "-24338.0    24    0.097109231   0.02819413075234297\n",
      "-24373.0    16    0.113282001   0.045375983355760936\n",
      "-24373.0    15    0.08260662   0.03588840601133854\n",
      "-24397.0    13    0.137715602   0.020303231136368283\n",
      "-24413.0    11    0.165952214   0.008474838549360878\n",
      "-24428.0    10    0.143249124   0.01744823081678586\n",
      "-24434.0    9    0.095822992   0.024422931187532915\n",
      "-24485.0    7    0.156647942   0.00782719433531464\n",
      "-24528.0    5    0.120425984   0.01694186439356128\n",
      "-24536.0    5    0.089718067   0.006701657752530066\n"
     ]
    }
   ],
   "source": [
    "for i in 1:10\n",
    "    Ẑ, t = @timed SuperNode_PPLouvain(H, Ω̂; α = 0, verbose = false, Z0 = collect(1:n), clusterpenalty = n)\n",
    "    Ω̂ = estimateΩEmpirically(H, Ẑ; aggregator = p -> [length(p) == 1, sum(p)], bigNums = true);\n",
    "    Q = modularity(H, Ẑ, Ω̂; α = nothing)\n",
    "    k = length(unique(Ẑ))\n",
    "    NMI = mutualInformation(Z, Ẑ, true)\n",
    "    println(round(Q), \"    \", k, \"    \", rpad(t, 10, \" \") ,\"   \", NMI)\n",
    "end"
   ]
  },
  {
   "cell_type": "markdown",
   "metadata": {},
   "source": [
    "### Majorization Penalty"
   ]
  },
  {
   "cell_type": "code",
   "execution_count": 397,
   "metadata": {},
   "outputs": [
    {
     "name": "stdout",
     "output_type": "stream",
     "text": [
      "-14936.0    6    0.12556582\n"
     ]
    }
   ],
   "source": [
    "# warmstart\n",
    "ωᵢ = 2.0\n",
    "ωₒ = 0.6\n",
    "function ω(p, α)\n",
    "    num = p[1] == 1 ? ωᵢ : ωₒ\n",
    "    denom = big(sum(H_.D))^sum(p[2])\n",
    "    return 10000*num / denom\n",
    "end\n",
    "\n",
    "Ω = allOrNothingIntensityFunction(ω, maximum(keys(H_.E)));\n",
    "\n",
    "Ẑ, t = @timed SuperNode_PPLouvain(H, Ω; α = 0, verbose = false, Z0 = collect(1:n), clusterpenalty = n)\n",
    "Ω̂ = estimateΩEmpirically(H, Ẑ; aggregator = p -> [length(p) == 1, sum(p)], bigNums = true);\n",
    "Q = modularity(H, Ẑ, Ω̂; α = nothing) - n*log(length(unique(Z)))\n",
    "k = length(unique(Ẑ))\n",
    "println(round(Q - n * log(k)), \"    \", k, \"    \", t)"
   ]
  },
  {
   "cell_type": "code",
   "execution_count": 398,
   "metadata": {},
   "outputs": [],
   "source": [
    "function ω_m(p, α)\n",
    "    k = big(sum(p))\n",
    "    kmax = length(α) ÷ 2\n",
    "    return (p[1]/k)^α[k] / n^(α[kmax+k]*k)\n",
    "end\n",
    "\n",
    "Ω̂ = partitionIntensityFunction(ω_m, kmax);\n",
    "α̂ = vcat(repeat([10.0], kmax), repeat([1.0], kmax));"
   ]
  },
  {
   "cell_type": "code",
   "execution_count": 399,
   "metadata": {},
   "outputs": [
    {
     "ename": "InterruptException",
     "evalue": "InterruptException:",
     "output_type": "error",
     "traceback": [
      "InterruptException:",
      "",
      "Stacktrace:",
      " [1] BigInt at ./gmp.jl:56 [inlined]",
      " [2] BigInt at ./gmp.jl:56 [inlined]",
      " [3] add_ui(::BigInt, ::UInt64) at ./gmp.jl:169",
      " [4] + at ./gmp.jl:521 [inlined]",
      " [5] + at ./gmp.jl:528 [inlined]",
      " [6] ω_m(::Array{Int64,1}, ::Array{Float64,1}) at ./In[398]:4",
      " [7] (::HypergraphModularity.var\"#110#113\"{Array{Float64,1},IntensityFunction,Dict{Array{Int64,1},BigInt}})(::Array{Int64,1}) at ./none:0",
      " [8] MappingRF at ./reduce.jl:90 [inlined]",
      " [9] _foldl_impl(::Base.MappingRF{HypergraphModularity.var\"#110#113\"{Array{Float64,1},IntensityFunction,Dict{Array{Int64,1},BigInt}},Base.BottomRF{typeof(Base.add_sum)}}, ::Base._InitialValue, ::Base.KeySet{Array{Int64,1},Dict{Array{Int64,1},BigInt}}) at ./reduce.jl:59",
      " [10] foldl_impl at ./reduce.jl:45 [inlined]",
      " [11] mapfoldl_impl at ./reduce.jl:41 [inlined]",
      " [12] #mapfoldl#189 at ./reduce.jl:157 [inlined]",
      " [13] mapfoldl at ./reduce.jl:157 [inlined]",
      " [14] #mapreduce#193 at ./reduce.jl:283 [inlined]",
      " [15] mapreduce at ./reduce.jl:283 [inlined]",
      " [16] sum at ./reduce.jl:486 [inlined]",
      " [17] sum(::Base.Generator{Base.KeySet{Array{Int64,1},Dict{Array{Int64,1},BigInt}},HypergraphModularity.var\"#110#113\"{Array{Float64,1},IntensityFunction,Dict{Array{Int64,1},BigInt}}}) at ./reduce.jl:503",
      " [18] HyperLouvain(::hypergraph, ::IntensityFunction; α::Array{Float64,1}, kmax::Int64, maxits::Int64, bigInt::Bool, verbose::Bool, scan_order::String) at /home/phil/hypergraph_modularities_code/src/general_hypergraph_louvain.jl:80",
      " [19] #HyperLouvain#106 at /home/phil/hypergraph_modularities_code/src/general_hypergraph_louvain.jl:2 [inlined]",
      " [20] SuperNodeLouvain(::hypergraph, ::IntensityFunction; α::Array{Float64,1}, kmax::Int64, maxits::Int64, bigInt::Bool, verbose::Bool, scan_order::String) at /home/phil/hypergraph_modularities_code/src/general_hypergraph_louvain.jl:326",
      " [21] #SuperNodeLouvain#120 at /home/phil/hypergraph_modularities_code/src/general_hypergraph_louvain.jl:310 [inlined]",
      " [22] macro expansion at ./util.jl:308 [inlined]",
      " [23] top-level scope at ./In[399]:3"
     ]
    }
   ],
   "source": [
    "for i ∈ 1:5\n",
    "    α̂ = learnParameters(H, Ẑ, Ω̂, α̂; max_iters = 50, verbose = false) \n",
    "    Ẑ, t = @timed SuperNodeLouvain(H,kmax,Ω̂;α=α̂, verbose=false, scan_order =\"random\");\n",
    "    Q = modularity(H, Ẑ, Ω̂; α = α̂)\n",
    "    k = length(unique(Ẑ))\n",
    "    \n",
    "    NMI = mutualInformation(Z, Ẑ, true)\n",
    "    println(round(Q), \"    \", k, \"    \", rpad(t, 10, \" \") ,\"   \", NMI)\n",
    "end"
   ]
  },
  {
   "cell_type": "markdown",
   "metadata": {},
   "source": [
    "# Ground Truth"
   ]
  },
  {
   "cell_type": "code",
   "execution_count": 416,
   "metadata": {},
   "outputs": [
    {
     "data": {
      "text/plain": [
       "-14653.99064269901118557493380289218514767396291651551455769549583275286063969922"
      ]
     },
     "execution_count": 416,
     "metadata": {},
     "output_type": "execute_result"
    }
   ],
   "source": [
    "α̂ = learnParameters(H, Z, Ω̂, α̂; max_iters = 1000, verbose = false) \n",
    "Q = modularity(H, Z, Ω̂; α = α̂)"
   ]
  },
  {
   "cell_type": "code",
   "execution_count": null,
   "metadata": {},
   "outputs": [],
   "source": []
  }
 ],
 "metadata": {
  "kernelspec": {
   "display_name": "Julia 1.4.2",
   "language": "julia",
   "name": "julia-1.4"
  },
  "language_info": {
   "file_extension": ".jl",
   "mimetype": "application/julia",
   "name": "julia",
   "version": "1.4.2"
  }
 },
 "nbformat": 4,
 "nbformat_minor": 4
}
