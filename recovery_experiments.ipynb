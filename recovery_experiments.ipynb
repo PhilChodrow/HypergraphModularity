{
 "cells": [
  {
   "cell_type": "code",
   "execution_count": 2,
   "metadata": {},
   "outputs": [
    {
     "name": "stderr",
     "output_type": "stream",
     "text": [
      "\u001b[32m\u001b[1m Activating\u001b[22m\u001b[39m environment at `~/hypergraph_modularities_code/Project.toml`\n"
     ]
    }
   ],
   "source": [
    "using Revise\n",
    "using Pkg; Pkg.activate(\".\")\n",
    "using HypergraphModularity\n",
    "using StatsBase\n",
    "using DataFrames\n",
    "using RCall\n",
    "using SparseArrays\n",
    "using Clustering\n",
    "using CSV"
   ]
  },
  {
   "cell_type": "code",
   "execution_count": 5,
   "metadata": {},
   "outputs": [
    {
     "data": {
      "text/plain": [
       "recoveryExperiment (generic function with 1 method)"
      ]
     },
     "execution_count": 5,
     "metadata": {},
     "output_type": "execute_result"
    }
   ],
   "source": [
    "function recoveryExperiment(; data, n_rounds = 2, core = 0, Γ₀ = 100.0, γ₀ = 1.0, kmax = 20, save_as = \"recovery_throughput/experiment.csv\")\n",
    "    \n",
    "    # collector\n",
    "    DF = DataFrame()\n",
    "\n",
    "    H, Z = read_hypergraph_data(data, kmax)\n",
    "    \n",
    "    H, Z = kcore(H, Z, core)\n",
    "    n = length(H.D)\n",
    "    \n",
    "    kmin = minimum([k for k in keys(H.E) if length(H.E[k]) > 0])\n",
    "    \n",
    "    println(\"$(core)-core of $(data) has $n nodes\")\n",
    "    \n",
    "    for k ∈ reverse(kmin:kmax)\n",
    "        # remove edges of size larger than k\n",
    "        removeEdges!(H; remove = collect((k+1):(kmax+1)))\n",
    "        \n",
    "        m = sum(length(H.E[k]) for k in keys(H.E))\n",
    "        \n",
    "        # polyadic warmstart\n",
    "        D = big(sum(H.D))\n",
    "\n",
    "        ωᵢ = 2.0\n",
    "        ωₒ = 0.6\n",
    "        function ω(p, α)\n",
    "            num = p[1] == 1 ? ωᵢ : ωₒ\n",
    "            denom = D^sum(p[2])\n",
    "            return Γ₀*num / denom\n",
    "        end\n",
    "        \n",
    "        Ω̂ = allOrNothingIntensityFunction(ω, maximum(keys(H.E)))\n",
    "        Ẑ_w = SuperNode_PPLouvain(H, Ω̂; α = 0, verbose = false, Z0 = collect(1:n));\n",
    "        \n",
    "        # polyadic experiments\n",
    "        for i ∈ 1:n_rounds \n",
    "            Ẑ, t = @timed SuperNode_PPLouvain(H, Ω̂; α = 0, verbose = false, scan_order = \"random\")\n",
    "            Ω̄ = estimateΩEmpirically(H, Ẑ; aggregator = p -> [length(p) == 1, sum(p)])\n",
    "\n",
    "            Q = modularity(H, Ẑ, Ω̂; α = 0)\n",
    "            ℓ = length(unique(Ẑ))    \n",
    "            ARI = randindex(Z, Ẑ)[1]\n",
    "            df = DataFrame(data = data, kmax = k, ℓ = ℓ, Q = Q, t = t, ARI = ARI, method = \"Polyadic\", n = n, core = core, round = i, thread = Threads.threadid(), m = m)\n",
    "            DF = vcat(DF, df)\n",
    "        end\n",
    "        \n",
    "        \n",
    "        # construct dyadic graph\n",
    "        H̄ = projectedGraph(H)  \n",
    "        \n",
    "        # dyadic warmstart\n",
    "        D̄ = big(sum(H̄.D))\n",
    "        \n",
    "#         function ω_d(p, α)\n",
    "#             num = p[1] == 1 ? ωᵢ : ωₒ\n",
    "#             denom = D̄^sum(p[2])\n",
    "#             return γ₀*num / denom\n",
    "#         end\n",
    "        \n",
    "#         Ω̄ = allOrNothingIntensityFunction(ω_d, 2)\n",
    "#         Z̄_w = SuperNode_PPLouvain(H, Ω̄; α = 0, verbose = false, Z0 = collect(1:n));\n",
    "              \n",
    "        best_Z̄ = zero(Z)\n",
    "        best_Q = -Inf\n",
    "        \n",
    "        Ω̄ = estimateΩEmpirically(H̄, Ẑ_w; aggregator = p -> [length(p) == 1, sum(p)])\n",
    "        for i ∈ 1:n_rounds\n",
    "            Z̄, t = @timed SuperNode_PPLouvain(H̄, Ω̄; α = 0, verbose = false)\n",
    "            Ω̄ = estimateΩEmpirically(H̄, Z̄; aggregator = p -> [length(p) == 1, sum(p)])\n",
    "            Q = modularity(H̄, Z̄, Ω̄; α = 0)\n",
    "            ℓ = length(unique(Z̄))\n",
    "            ARI = randindex(Z, Z̄)[1]\n",
    "            df = DataFrame(data = data, kmax = k, ℓ = ℓ, Q = Q, method = \"Dyadic\", t = t, ARI = ARI, n = n, core = core, round = i, thread = Threads.threadid(), m = m)\n",
    "            DF = vcat(DF, df)\n",
    "            \n",
    "                        \n",
    "            if Q > best_Q\n",
    "                best_Q = Q\n",
    "                best_Z̄ = Z̄\n",
    "            end   \n",
    "        end\n",
    "        \n",
    "        # dyadic with weighted projection\n",
    "\n",
    "        γ = computeDyadicResolutionParameter(H, Ẑ_w; mode = \"γ\", weighted = true)\n",
    "        \n",
    "        for i ∈ 1:n_rounds\n",
    "            Z̄, t = @timed CliqueExpansionModularity(H, γ; weighted = true)\n",
    "            γ = computeDyadicResolutionParameter(H, Z̄; mode = \"γ\", weighted = true)\n",
    "            Ω̄ = estimateΩEmpirically(H̄, Z̄; aggregator = p -> [length(p) == 1, sum(p)])\n",
    "            Q = modularity(H̄, Z̄, Ω̄; α = 0)\n",
    "            ℓ = length(unique(Z̄))\n",
    "            ARI = randindex(Z, Z̄)[1]\n",
    "            df = DataFrame(data = data, kmax = k, ℓ = ℓ, Q = Q, method = \"Dyadic (weighted)\", t = t, ARI = ARI, n = n, core = core, round = i, thread = Threads.threadid(), m = m)\n",
    "            DF = vcat(DF, df)           \n",
    "        end\n",
    "        \n",
    "        # refinement\n",
    "        Ẑ = best_Z̄    \n",
    "        for i ∈ 1:n_rounds\n",
    "            Ω̂ = estimateΩEmpirically(H, Ẑ; aggregator = p -> [length(p) == 1, sum(p)])\n",
    "            Ẑ, t = @timed SuperNode_PPLouvain(H, Ω̂; Z0 = Ẑ, α = 0, scan_order = \"random\", verbose = false)\n",
    "            Q = modularity(H, Ẑ, Ω̂; α = 0)\n",
    "            ℓ = length(unique(Ẑ))    \n",
    "            ARI = randindex(Z, Ẑ)[1]\n",
    "            df = DataFrame(data = data, kmax = k, ℓ = ℓ, Q = Q, t = t, ARI = ARI, method = \"Polyadic Refinement\", n = n, core = core, round = i, thread = Threads.threadid(), m = m)\n",
    "            DF = vcat(DF, df)\n",
    "        end  \n",
    "    end\n",
    "    \n",
    "    path = \"fig/recovery_throughput/$(save_as).csv\"\n",
    "    CSV.write(path, DF)\n",
    "    return DF\n",
    "end"
   ]
  },
  {
   "cell_type": "markdown",
   "metadata": {},
   "source": [
    "# Troubleshooting"
   ]
  },
  {
   "cell_type": "code",
   "execution_count": 34,
   "metadata": {},
   "outputs": [
    {
     "name": "stdout",
     "output_type": "stream",
     "text": [
      "0-core of SN-congress-bills has 294 nodes\n"
     ]
    }
   ],
   "source": [
    "n_rounds = 5\n",
    "kmax = 10\n",
    "\n",
    "control = [Dict(:data => \"SN-congress-bills\", :core => 0,  :n_rounds => n_rounds, :Γ₀ => 10000.0, :γ₀ => 1000.0, :kmax => kmax, :save_as => \"SN-congress-bills\"),]\n",
    "\n",
    "df = recoveryExperiment(;control[1]...);"
   ]
  },
  {
   "cell_type": "code",
   "execution_count": 35,
   "metadata": {},
   "outputs": [],
   "source": [
    "using RCall\n",
    "\n",
    "R\"\"\"\n",
    "library(tidyverse)\n",
    "\"\"\";"
   ]
  },
  {
   "cell_type": "code",
   "execution_count": 36,
   "metadata": {},
   "outputs": [
    {
     "data": {
      "text/plain": [
       "RObject{VecSxp}\n",
       "# A tibble: 25 x 12\n",
       "   data   kmax     ℓ       Q      t      ARI method     n  core round thread\n",
       "   <chr> <int> <int>   <dbl>  <dbl>    <dbl> <chr>  <int> <int> <int>  <int>\n",
       " 1 SN-c…     6     6 -6.74e5 0.0759  1.01e-2 Dyadi…   294     0     1      1\n",
       " 2 SN-c…     6     5 -6.77e5 0.0540 -2.01e-3 Dyadi…   294     0     2      1\n",
       " 3 SN-c…     6     4 -6.84e5 0.0487 -3.07e-4 Dyadi…   294     0     3      1\n",
       " 4 SN-c…     6   294 -6.83e5 0.0197  0.      Dyadi…   294     0     4      1\n",
       " 5 SN-c…     6     4 -6.84e5 0.0272 -3.07e-4 Dyadi…   294     0     5      1\n",
       " 6 SN-c…     5     6 -4.56e5 0.0536  1.24e-2 Dyadi…   294     0     1      1\n",
       " 7 SN-c…     5     5 -4.58e5 0.0873 -6.61e-5 Dyadi…   294     0     2      1\n",
       " 8 SN-c…     5     4 -4.63e5 0.0538 -3.07e-4 Dyadi…   294     0     3      1\n",
       " 9 SN-c…     5   294 -4.63e5 0.0156  0.      Dyadi…   294     0     4      1\n",
       "10 SN-c…     5     4 -4.63e5 0.0234 -3.07e-4 Dyadi…   294     0     5      1\n",
       "# … with 15 more rows, and 1 more variable: m <int>\n"
      ]
     },
     "execution_count": 36,
     "metadata": {},
     "output_type": "execute_result"
    }
   ],
   "source": [
    "R\"\"\"\n",
    "df <- tibble($df)\n",
    "\n",
    "df %>% \n",
    "    filter(method == \"Dyadic (weighted)\", kmax <= 6)\n",
    "\"\"\""
   ]
  },
  {
   "cell_type": "code",
   "execution_count": 37,
   "metadata": {},
   "outputs": [
    {
     "data": {
      "image/png": "[encoded data removed]"
     },
     "metadata": {},
     "output_type": "display_data"
    },
    {
     "data": {
      "text/plain": [
       "RObject{VecSxp}\n"
      ]
     },
     "execution_count": 37,
     "metadata": {},
     "output_type": "execute_result"
    },
    {
     "name": "stderr",
     "output_type": "stream",
     "text": [
      "┌ Warning: RCall.jl: Warning: Duplicated override.aes is ignored.\n",
      "└ @ RCall /home/phil/.julia/packages/RCall/Qzssx/src/io.jl:160\n"
     ]
    }
   ],
   "source": [
    "R\"\"\"\n",
    "df <- tibble($df)\n",
    "\n",
    "df %>% arrange(desc(round)) %>% \n",
    "    group_by(method, kmax, core) %>% \n",
    "    mutate(n_ = format(n,big.mark=\",\",scientific=FALSE)) %>% \n",
    "#    filter(Q == max(Q)) %>% \n",
    "    ggplot() + \n",
    "    aes(x = factor(kmax), y = ARI) + \n",
    "    geom_boxplot(aes(color = method, fill = method),  lwd = 0.2, outlier.alpha = 0.3, position = position_identity(), alpha = 0.3) + \n",
    "    facet_grid(~core) + \n",
    "    xlab(expression(\"Maximum Edge Size\"~italic(bar(k)))) + \n",
    "    theme_bw() +\n",
    "    theme(strip.background = element_blank(),\n",
    "          panel.spacing = unit(3, \"mm\"),\n",
    "          strip.text = element_text(size = 9),\n",
    "#          legend.position = \"bottom\",\n",
    "          legend.text = element_text(size = 8),\n",
    "          panel.grid.minor = element_blank(),\n",
    "          legend.key.width = unit(0.4,\"line\"),\n",
    "          legend.position = c(.12, .8),\n",
    "          legend.background = element_blank(), \n",
    "          legend.key = element_rect(colour = NA, fill = NA),\n",
    "          axis.title = element_text(size = 9)) +\n",
    "    scale_x_discrete(breaks = seq(4, 20, by = 2)) + \n",
    "    guides(fill = guide_legend(override.aes = list(size = 0.4)), \n",
    "           color = guide_legend(override.aes = list(size = 0.4)))\n",
    "\"\"\""
   ]
  },
  {
   "cell_type": "markdown",
   "metadata": {},
   "source": [
    "# Main Experiment"
   ]
  },
  {
   "cell_type": "code",
   "execution_count": 38,
   "metadata": {},
   "outputs": [],
   "source": [
    "n_rounds = 20\n",
    "kmax = 25\n",
    "\n",
    "control = [\n",
    "    Dict(:data => \"SN-congress-bills\", :core => 0,  :n_rounds => n_rounds, :Γ₀ => 10000.0, :γ₀ => 1000.0, :kmax => kmax, :save_as => \"SN-congress-bills\"),\n",
    "    Dict(:data => \"HR-congress-bills\", :core => 0,  :n_rounds => n_rounds, :Γ₀ => 10000.0, :γ₀ => 1000000.0, :kmax => kmax, :save_as => \"HR-congress-bills\"),\n",
    "    Dict(:data => \"TrivagoClickout\",   :core => 10, :n_rounds => n_rounds, :Γ₀ => 1000.0, :γ₀ => 1000000.0, :kmax => kmax, :save_as => \"TrivagoClickout-10-core\"),\n",
    "    Dict(:data => \"TrivagoClickout\",   :core => 5,  :n_rounds => n_rounds, :Γ₀ => 1000.0, :γ₀ => 100000.0, :kmax => kmax, :save_as => \"TrivagoClickout-5-core\"),\n",
    "    Dict(:data => \"TrivagoClickout\",   :core => 2,  :n_rounds => n_rounds, :Γ₀ => 1000.0, :γ₀ => 100000.0, :kmax => kmax, :save_as => \"TrivagoClickout-2-core\"),\n",
    "    Dict(:data => \"walmart-trips\",     :core => 4,  :n_rounds => n_rounds, :Γ₀ => 100.0, :γ₀ => 1000.0, :kmax => kmax, :save_as => \"walmart-trips-4-core\"),\n",
    "    Dict(:data => \"walmart-trips\",     :core => 3,  :n_rounds => n_rounds, :Γ₀ => 100.0, :γ₀ => 1000.0, :kmax => kmax, :save_as => \"walmart-trips-3-core\"),\n",
    "    Dict(:data => \"walmart-trips\",     :core => 2,  :n_rounds => n_rounds, :Γ₀ => 100.0, :γ₀ => 100.0, :kmax => kmax, :save_as => \"walmart-trips-2-core\"),\n",
    "    Dict(:data => \"contact-primary-school-classes\",     :core => 0,  :n_rounds => n_rounds, :Γ₀ => 20000.0, :γ₀ => 100.0, :kmax => 6, :save_as => \"contact-primary-school\"),\n",
    "    Dict(:data => \"contact-high-school-classes\",        :core => 0,  :n_rounds => n_rounds, :Γ₀ => 10000.0, :γ₀ => 100.0, :kmax => 6, :save_as => \"contact-high-school\"),\n",
    "];"
   ]
  },
  {
   "cell_type": "code",
   "execution_count": null,
   "metadata": {},
   "outputs": [
    {
     "name": "stdout",
     "output_type": "stream",
     "text": [
      "0-core of contact-high-school-classes has 327 nodes\n",
      "0-core of contact-primary-school-classes has 242 nodes\n",
      "0-core of SN-congress-bills has 294 nodes\n",
      "4-core of walmart-trips has 535 nodes\n",
      "0-core of HR-congress-bills has 1494 nodes\n",
      "3-core of walmart-trips has 1155 nodes\n",
      "10-core of TrivagoClickout has 1327 nodes\n",
      "2-core of walmart-trips has 15105 nodes\n",
      "5-core of TrivagoClickout has 13345 nodes\n",
      "2-core of TrivagoClickout has 73543 nodes\n"
     ]
    }
   ],
   "source": [
    "Threads.@threads for d in control\n",
    "    recoveryExperiment(;d...)\n",
    "end"
   ]
  }
 ],
 "metadata": {
  "kernelspec": {
   "display_name": "Julia 1.4.2 (multithreaded)",
   "language": "julia",
   "name": "julia-12-threads-1.4"
  },
  "language_info": {
   "file_extension": ".jl",
   "mimetype": "application/julia",
   "name": "julia",
   "version": "1.4.2"
  }
 },
 "nbformat": 4,
 "nbformat_minor": 4
}
