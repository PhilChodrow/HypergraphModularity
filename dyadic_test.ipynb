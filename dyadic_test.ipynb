{
 "cells": [
  {
   "cell_type": "markdown",
   "metadata": {},
   "source": [
    "Ok, so in this notebook we are going to generate a *dyadic* graph, which we will then attempt to cluster. "
   ]
  },
  {
   "cell_type": "code",
   "execution_count": 49,
   "metadata": {},
   "outputs": [],
   "source": [
    "## Generate a graph\n",
    "using StatsBase\n",
    "using Combinatorics\n",
    "\n",
    "include(\"jl/omega.jl\")\n",
    "include(\"jl/HSBM.jl\")\n",
    "include(\"jl/hypergraph_louvain.jl\")\n",
    "include(\"jl/inference.jl\")\n",
    "\n",
    "# parameters\n",
    "\n",
    "n_ = 50\n",
    "n = 2*n_\n",
    "Z = vcat(repeat([1],n_), repeat([2], n_))\n",
    "ϑ = dropdims(ones(1,n) + rand(1,n), dims = 1)\n",
    "\n",
    "# defining group intensity function Ω\n",
    "μ = mean(ϑ)\n",
    "\n",
    "\n",
    "# because of the way the code is structured, we need to allow kmin = 1, \n",
    "# but we set Ω = 0 for all size-1 edges below. \n",
    "\n",
    "kmax = 2\n",
    "kmin = 1\n",
    "\n",
    "fk = k->(2 .*μ*k)^(-k)\n",
    "fp = x->harmonicMean(x)^10\n",
    "\n",
    "Ω_dict = Dict{Vector{Int64}, Float64}()\n",
    "\n",
    "for k = kmin:kmax, p in partitions(k)\n",
    "    Ω_dict[p] = fk(sum(p))*fp(p)/10\n",
    "end\n",
    "\n",
    "for p in keys(Ω_dict)\n",
    "    if sum(p) == 1\n",
    "        Ω_dict[p] = 0\n",
    "    end\n",
    "end\n",
    "\n",
    "Ω = buildΩ(Ω_dict; by_size=true);"
   ]
  },
  {
   "cell_type": "code",
   "execution_count": 50,
   "metadata": {},
   "outputs": [
    {
     "name": "stdout",
     "output_type": "stream",
     "text": [
      "The graph has 854 edges and 95.89999999999999 % of them are within-cluster.\n"
     ]
    }
   ],
   "source": [
    "H = sampleSBM(Z, ϑ, Ω; kmax=kmax, kmin = kmin)\n",
    "# number of edges\n",
    "l = length(H.E[2])\n",
    "# proportion of edges in same cluster\n",
    "c = mean([Z[e[1]] == Z[e[2]] for e in keys(H.E[2])]) \n",
    "\n",
    "println(\"The graph has $l edges and $(100*round(c, digits=3)) % of them are within-cluster.\")"
   ]
  },
  {
   "cell_type": "code",
   "execution_count": 51,
   "metadata": {},
   "outputs": [
    {
     "name": "stdout",
     "output_type": "stream",
     "text": [
      "\n",
      "Louvain Iteration 1\n",
      "No nodes moved clusters\n",
      "The log-likelihood of the Louvain partition is -2744.315.\n",
      "\n",
      "Louvain Iteration 1\n",
      "No nodes moved clusters\n",
      "The log-likelihood of the Louvain partition is -2744.315.\n",
      "\n",
      "Louvain Iteration 1\n",
      "No nodes moved clusters\n",
      "The log-likelihood of the Louvain partition is -2744.315.\n",
      "\n",
      "Louvain Iteration 1\n",
      "No nodes moved clusters\n",
      "The log-likelihood of the Louvain partition is -2744.315.\n",
      "\n",
      "Louvain Iteration 1\n",
      "No nodes moved clusters\n",
      "The log-likelihood of the Louvain partition is -2744.315.\n"
     ]
    }
   ],
   "source": [
    "# encouraging that this does indeed tend to decrease. I don't think it's required to be monotonically decreasing (need to check), so heuristically this looks ok-ish\n",
    "\n",
    "Ω̂ = buildΩ(estimateΩ(H, Z); by_size=true)\n",
    "\n",
    "Z_ = copy(Z)\n",
    "\n",
    "for i = 1:5\n",
    "    Z_ = HyperLouvain(H,kmax,Ω̂)\n",
    "    Ω̂  = buildΩ(estimateΩ(H, Z_); by_size=true)\n",
    "    println(\"The log-likelihood of the Louvain partition is $(round(logLikelihood(H, Z_, Ω̂),digits=3)).\")\n",
    "end"
   ]
  },
  {
   "cell_type": "code",
   "execution_count": 52,
   "metadata": {},
   "outputs": [
    {
     "name": "stdout",
     "output_type": "stream",
     "text": [
      "The log-likelihood of the true partition is -2233.149.\n",
      "The log-likelihood of the singleton partition is -4697.921.\n"
     ]
    }
   ],
   "source": [
    "Zsing = collect(1:n)\n",
    "\n",
    "# likelihoods with true parameters\n",
    "\n",
    "println(\"The log-likelihood of the true partition is $(round(logLikelihood(H, Z, Ω, ϑ),digits=3)).\")\n",
    "println(\"The log-likelihood of the singleton partition is $(round(logLikelihood(H, Zsing, Ω, ϑ),digits=3)).\")"
   ]
  }
 ],
 "metadata": {
  "kernelspec": {
   "display_name": "Julia 1.4.2",
   "language": "julia",
   "name": "julia-1.4"
  },
  "language_info": {
   "file_extension": ".jl",
   "mimetype": "application/julia",
   "name": "julia",
   "version": "1.4.2"
  }
 },
 "nbformat": 4,
 "nbformat_minor": 4
}
