{
 "cells": [
  {
   "cell_type": "markdown",
   "metadata": {},
   "source": [
    "Ok, so in this notebook we are going to generate a *dyadic* graph, which we will then attempt to cluster. "
   ]
  },
  {
   "cell_type": "code",
   "execution_count": 1,
   "metadata": {},
   "outputs": [
    {
     "name": "stderr",
     "output_type": "stream",
     "text": [
      "\u001b[32m\u001b[1m Activating\u001b[22m\u001b[39m environment at `~/hypergraph_modularities_code/Project.toml`\n",
      "┌ Info: Precompiling HypergraphModularity [0c934d27-dd44-49d7-950f-bd4be7819e54]\n",
      "└ @ Base loading.jl:1260\n",
      "WARNING: Method definition evalSums(Array{#s51, 1} where #s51<:Integer, Array{Int64, 1}, Integer) in module HypergraphModularity at /home/phil/hypergraph_modularities_code/src/vol.jl:79 overwritten at /home/phil/hypergraph_modularities_code/src/vol.jl:113.\n",
      "  ** incremental compilation may be fatally broken for this module **\n",
      "\n",
      "WARNING: Method definition NeighborList(SparseArrays.SparseMatrixCSC{Float64, Int64}, SparseArrays.SparseMatrixCSC{Float64, Int64}) in module HypergraphModularity at /home/phil/hypergraph_modularities_code/src/hyper_format.jl:5 overwritten at /home/phil/hypergraph_modularities_code/src/hyper_format.jl:5.\n",
      "  ** incremental compilation may be fatally broken for this module **\n",
      "\n",
      "WARNING: Method definition NeighborList(Array{Array{Int64, 1}, 1}, Array{Array{Int64, 1}, 1}) in module HypergraphModularity at /home/phil/hypergraph_modularities_code/src/hyper_format.jl:32 overwritten at /home/phil/hypergraph_modularities_code/src/hyper_format.jl:32.\n",
      "  ** incremental compilation may be fatally broken for this module **\n",
      "\n",
      "WARNING: Method definition getedges(SparseArrays.SparseMatrixCSC{Float64, Int64}, Int64) in module HypergraphModularity at /home/phil/hypergraph_modularities_code/src/hyper_format.jl:57 overwritten at /home/phil/hypergraph_modularities_code/src/hyper_format.jl:57.\n",
      "  ** incremental compilation may be fatally broken for this module **\n",
      "\n",
      "WARNING: Method definition getnodes(SparseArrays.SparseMatrixCSC{Float64, Int64}, Int64) in module HypergraphModularity at /home/phil/hypergraph_modularities_code/src/hyper_format.jl:69 overwritten at /home/phil/hypergraph_modularities_code/src/hyper_format.jl:69.\n",
      "  ** incremental compilation may be fatally broken for this module **\n",
      "\n",
      "WARNING: Method definition incidence2elist(SparseArrays.SparseMatrixCSC{Float64, Int64}) in module HypergraphModularity at /home/phil/hypergraph_modularities_code/src/hyper_format.jl:90 overwritten at /home/phil/hypergraph_modularities_code/src/hyper_format.jl:90.\n",
      "  ** incremental compilation may be fatally broken for this module **\n",
      "\n",
      "WARNING: Method definition incidence2elist(SparseArrays.SparseMatrixCSC{Float64, Int64}, Bool) in module HypergraphModularity at /home/phil/hypergraph_modularities_code/src/hyper_format.jl:90 overwritten at /home/phil/hypergraph_modularities_code/src/hyper_format.jl:90.\n",
      "  ** incremental compilation may be fatally broken for this module **\n",
      "\n",
      "WARNING: Method definition elist2incidence(Array{Array{Int64, 1}, 1}, Int64) in module HypergraphModularity at /home/phil/hypergraph_modularities_code/src/hyper_format.jl:127 overwritten at /home/phil/hypergraph_modularities_code/src/hyper_format.jl:127.\n",
      "  ** incremental compilation may be fatally broken for this module **\n",
      "\n",
      "WARNING: Method definition hyperedge_formatting(HypergraphModularity.hypergraph) in module HypergraphModularity at /home/phil/hypergraph_modularities_code/src/hyper_format.jl:148 overwritten at /home/phil/hypergraph_modularities_code/src/hyper_format.jl:148.\n",
      "  ** incremental compilation may be fatally broken for this module **\n",
      "\n",
      "WARNING: Method definition hypergraph2incidence(HypergraphModularity.hypergraph) in module HypergraphModularity at /home/phil/hypergraph_modularities_code/src/hyper_format.jl:168 overwritten at /home/phil/hypergraph_modularities_code/src/hyper_format.jl:168.\n",
      "  ** incremental compilation may be fatally broken for this module **\n",
      "\n",
      "WARNING: Method definition EdgeMap(HypergraphModularity.hypergraph) in module HypergraphModularity at /home/phil/hypergraph_modularities_code/src/hyper_format.jl:185 overwritten at /home/phil/hypergraph_modularities_code/src/hyper_format.jl:185.\n",
      "  ** incremental compilation may be fatally broken for this module **\n",
      "\n",
      "WARNING: Method definition evalCuts(Array{Int64, 1}, HypergraphModularity.hypergraph) in module HypergraphModularity at /home/phil/hypergraph_modularities_code/src/cut.jl:116 overwritten at /home/phil/hypergraph_modularities_code/src/hyperlouvain_helpers.jl:2.\n",
      "  ** incremental compilation may be fatally broken for this module **\n",
      "\n",
      "WARNING: Method definition renumber(Array{Int64, 1}, Array{Array{Int64, 1}, 1}) in module HypergraphModularity at /home/phil/hypergraph_modularities_code/src/graph_louvain.jl:76 overwritten at /home/phil/hypergraph_modularities_code/src/hyperlouvain_helpers.jl:124.\n",
      "  ** incremental compilation may be fatally broken for this module **\n",
      "\n",
      "WARNING: Method definition renumber(Array{Int64, 1}) in module HypergraphModularity at /home/phil/hypergraph_modularities_code/src/graph_louvain.jl:99 overwritten at /home/phil/hypergraph_modularities_code/src/hyperlouvain_helpers.jl:150.\n",
      "  ** incremental compilation may be fatally broken for this module **\n",
      "\n"
     ]
    },
    {
     "data": {
      "text/plain": [
       "(::HypergraphModularity.var\"#Ω#8\"{HypergraphModularity.var\"#Ω#3#9\"{typeof(ω),Int64}}) (generic function with 1 method)"
      ]
     },
     "execution_count": 1,
     "metadata": {},
     "output_type": "execute_result"
    }
   ],
   "source": [
    "## Generate a graph\n",
    "using Pkg; Pkg.activate(\".\")\n",
    "using HypergraphModularity\n",
    "\n",
    "using StatsBase\n",
    "\n",
    "# parameters\n",
    "\n",
    "n_ = 50\n",
    "n = 2*n_\n",
    "Z = vcat(repeat([1],n_), repeat([2], n_))\n",
    "ϑ = dropdims(ones(1,n) + rand(1,n), dims = 1)\n",
    "\n",
    "# defining group intensity function Ω\n",
    "μ = mean(ϑ)\n",
    "\n",
    "\n",
    "# because of the way the code is structured, we need to allow kmin = 1, \n",
    "# but we set Ω = 0 for all size-1 edges below. \n",
    "\n",
    "function ω(p,α)\n",
    "    if sum(p) == 1\n",
    "        return 0\n",
    "    else\n",
    "        return (5 .*μ*sum(p))^(-sum(p))*prod(p.^α)^(10/(sum(p)*α))\n",
    "    end\n",
    "end\n",
    "\n",
    "α0 = 50\n",
    "\n",
    "kmax = 2\n",
    "kmin = 2\n",
    "\n",
    "Ω = buildΩ(ω, α0, kmax)"
   ]
  },
  {
   "cell_type": "code",
   "execution_count": 5,
   "metadata": {},
   "outputs": [
    {
     "name": "stdout",
     "output_type": "stream",
     "text": [
      "The graph has 1220 edges and 96.5 % of them are within-cluster.\n"
     ]
    }
   ],
   "source": [
    "H = sampleSBM(Z, ϑ, Ω; α=α0, kmax=kmax, kmin = kmin)\n",
    "# number of edges\n",
    "l = length(H.E[2])\n",
    "# proportion of edges in same cluster\n",
    "c = mean([Z[e[1]] == Z[e[2]] for e in keys(H.E[2])]) \n",
    "\n",
    "println(\"The graph has $l edges and $(100*round(c, digits=3)) % of them are within-cluster.\")"
   ]
  },
  {
   "cell_type": "code",
   "execution_count": 6,
   "metadata": {},
   "outputs": [
    {
     "name": "stdout",
     "output_type": "stream",
     "text": [
      "Louvain Iteration 1\n",
      "Louvain Iteration 2\n",
      "Louvain Iteration 3\n",
      "Louvain Iteration 4\n",
      "The log-likelihood of the Louvain partition is -2827.118.\n",
      "Louvain Iteration 1\n",
      "Louvain Iteration 2\n",
      "Louvain Iteration 3\n",
      "Louvain Iteration 4\n",
      "The log-likelihood of the Louvain partition is -2827.118.\n",
      "Louvain Iteration 1\n",
      "Louvain Iteration 2\n",
      "Louvain Iteration 3\n",
      "Louvain Iteration 4\n",
      "The log-likelihood of the Louvain partition is -2827.118.\n",
      "Louvain Iteration 1\n",
      "Louvain Iteration 2\n",
      "Louvain Iteration 3\n",
      "Louvain Iteration 4\n",
      "The log-likelihood of the Louvain partition is -2827.118.\n",
      "Louvain Iteration 1\n",
      "Louvain Iteration 2\n",
      "Louvain Iteration 3\n",
      "Louvain Iteration 4\n",
      "The log-likelihood of the Louvain partition is -2827.118.\n"
     ]
    }
   ],
   "source": [
    "# encouraging that this does indeed tend to decrease. I don't think it's required to be monotonically decreasing (need to check), so heuristically this looks ok-ish\n",
    "\n",
    "Ω̂      = estimateΩEmpirically(H, Z; min_val=0)\n",
    "\n",
    "Z_ = copy(Z)\n",
    "\n",
    "for i = 1:5\n",
    "    Z_ = HyperLouvain(H,kmax,Ω̂;α=α0)\n",
    "    Ω̂  = estimateΩEmpirically(H, Z; min_val=0)\n",
    "    println(\"The log-likelihood of the Louvain partition is $(round(logLikelihood(H, Z_, Ω̂;α=α0),digits=3)).\")\n",
    "end"
   ]
  },
  {
   "cell_type": "code",
   "execution_count": 7,
   "metadata": {},
   "outputs": [
    {
     "name": "stdout",
     "output_type": "stream",
     "text": [
      "The log-likelihood of the true partition is -2861.492.\n",
      "The log-likelihood of the singleton partition is -6959.495.\n"
     ]
    }
   ],
   "source": [
    "Zsing = collect(1:n)\n",
    "\n",
    "# likelihoods with true parameters\n",
    "\n",
    "println(\"The log-likelihood of the true partition is $(round(logLikelihood(H, Z, Ω, ϑ;α=α0),digits=3)).\")\n",
    "println(\"The log-likelihood of the singleton partition is $(round(logLikelihood(H, Zsing, Ω, ϑ;α=α0),digits=3)).\")"
   ]
  },
  {
   "cell_type": "code",
   "execution_count": 8,
   "metadata": {},
   "outputs": [
    {
     "data": {
      "text/plain": [
       "true"
      ]
     },
     "execution_count": 8,
     "metadata": {},
     "output_type": "execute_result"
    }
   ],
   "source": [
    "Z_ == Z"
   ]
  },
  {
   "cell_type": "code",
   "execution_count": null,
   "metadata": {},
   "outputs": [],
   "source": []
  }
 ],
 "metadata": {
  "kernelspec": {
   "display_name": "Julia 1.4.2",
   "language": "julia",
   "name": "julia-1.4"
  },
  "language_info": {
   "file_extension": ".jl",
   "mimetype": "application/julia",
   "name": "julia",
   "version": "1.4.2"
  }
 },
 "nbformat": 4,
 "nbformat_minor": 4
}
