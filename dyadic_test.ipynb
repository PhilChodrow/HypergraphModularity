{
 "cells": [
  {
   "cell_type": "markdown",
   "metadata": {},
   "source": [
    "Ok, so in this notebook we are going to generate a *dyadic* graph, which we will then attempt to cluster. "
   ]
  },
  {
   "cell_type": "code",
   "execution_count": 32,
   "metadata": {},
   "outputs": [
    {
     "data": {
      "text/plain": [
       "Ω (generic function with 1 method)"
      ]
     },
     "execution_count": 32,
     "metadata": {},
     "output_type": "execute_result"
    }
   ],
   "source": [
    "## Generate a graph\n",
    "using StatsBase\n",
    "using Combinatorics\n",
    "\n",
    "include(\"jl/omega.jl\")\n",
    "include(\"jl/HSBM.jl\")\n",
    "include(\"jl/hypergraph_louvain.jl\")\n",
    "include(\"jl/inference.jl\")\n",
    "\n",
    "# parameters\n",
    "\n",
    "n_ = 50\n",
    "n = 2*n_\n",
    "Z = vcat(repeat([1],n_), repeat([2], n_))\n",
    "ϑ = dropdims(ones(1,n) + rand(1,n), dims = 1)\n",
    "\n",
    "# defining group intensity function Ω\n",
    "μ = mean(ϑ)\n",
    "\n",
    "\n",
    "# because of the way the code is structured, we need to allow kmin = 1, \n",
    "# but we set Ω = 0 for all size-1 edges below. \n",
    "\n",
    "function ω(p,α)\n",
    "    if sum(p) == 1\n",
    "        return 0\n",
    "    else\n",
    "        return (5 .*μ*sum(p))^(-sum(p))*prod(p.^α)^(10/(sum(p)*α))\n",
    "    end\n",
    "end\n",
    "\n",
    "α0 = 50\n",
    "\n",
    "kmax = 2\n",
    "\n",
    "Ω = buildΩ(ω, α0, kmax)"
   ]
  },
  {
   "cell_type": "code",
   "execution_count": 33,
   "metadata": {},
   "outputs": [
    {
     "name": "stdout",
     "output_type": "stream",
     "text": [
      "The graph has 1249 edges and 96.1 % of them are within-cluster.\n"
     ]
    }
   ],
   "source": [
    "H = sampleSBM(Z, ϑ, Ω; α=α0, kmax=kmax, kmin = kmin)\n",
    "# number of edges\n",
    "l = length(H.E[2])\n",
    "# proportion of edges in same cluster\n",
    "c = mean([Z[e[1]] == Z[e[2]] for e in keys(H.E[2])]) \n",
    "\n",
    "println(\"The graph has $l edges and $(100*round(c, digits=3)) % of them are within-cluster.\")"
   ]
  },
  {
   "cell_type": "code",
   "execution_count": 35,
   "metadata": {},
   "outputs": [
    {
     "name": "stdout",
     "output_type": "stream",
     "text": [
      "\n",
      "Louvain Iteration 1\n",
      "Louvain Iteration 2\n",
      "Louvain Iteration 3\n",
      "Louvain Iteration 4\n",
      "The log-likelihood of the Louvain partition is -2805.719.\n",
      "\n",
      "Louvain Iteration 1\n",
      "Louvain Iteration 2\n",
      "Louvain Iteration 3\n",
      "Louvain Iteration 4\n",
      "The log-likelihood of the Louvain partition is -2805.719.\n",
      "\n",
      "Louvain Iteration 1\n",
      "Louvain Iteration 2\n",
      "Louvain Iteration 3\n",
      "Louvain Iteration 4\n",
      "The log-likelihood of the Louvain partition is -2805.719.\n",
      "\n",
      "Louvain Iteration 1\n",
      "Louvain Iteration 2\n",
      "Louvain Iteration 3\n",
      "Louvain Iteration 4\n",
      "The log-likelihood of the Louvain partition is -2805.719.\n",
      "\n",
      "Louvain Iteration 1\n",
      "Louvain Iteration 2\n",
      "Louvain Iteration 3\n",
      "Louvain Iteration 4\n",
      "The log-likelihood of the Louvain partition is -2805.719.\n"
     ]
    }
   ],
   "source": [
    "# encouraging that this does indeed tend to decrease. I don't think it's required to be monotonically decreasing (need to check), so heuristically this looks ok-ish\n",
    "\n",
    "Ω̂      = estimateΩEmpirically(H, Z; min_val=0)\n",
    "\n",
    "Z_ = copy(Z)\n",
    "\n",
    "for i = 1:5\n",
    "    Z_ = HyperLouvain(H,kmax,Ω̂;α=α0)\n",
    "    Ω̂  = estimateΩEmpirically(H, Z; min_val=0)\n",
    "    println(\"The log-likelihood of the Louvain partition is $(round(logLikelihood(H, Z_, Ω̂;α=α0),digits=3)).\")\n",
    "end"
   ]
  },
  {
   "cell_type": "code",
   "execution_count": 36,
   "metadata": {},
   "outputs": [
    {
     "name": "stdout",
     "output_type": "stream",
     "text": [
      "The log-likelihood of the true partition is -2841.992.\n",
      "The log-likelihood of the singleton partition is -6740.588.\n"
     ]
    }
   ],
   "source": [
    "Zsing = collect(1:n)\n",
    "\n",
    "# likelihoods with true parameters\n",
    "\n",
    "println(\"The log-likelihood of the true partition is $(round(logLikelihood(H, Z, Ω, ϑ;α=α0),digits=3)).\")\n",
    "println(\"The log-likelihood of the singleton partition is $(round(logLikelihood(H, Zsing, Ω, ϑ;α=α0),digits=3)).\")"
   ]
  },
  {
   "cell_type": "code",
   "execution_count": 37,
   "metadata": {},
   "outputs": [
    {
     "data": {
      "text/plain": [
       "true"
      ]
     },
     "execution_count": 37,
     "metadata": {},
     "output_type": "execute_result"
    }
   ],
   "source": [
    "Z_ == Z"
   ]
  }
 ],
 "metadata": {
  "kernelspec": {
   "display_name": "Julia 1.4.2",
   "language": "julia",
   "name": "julia-1.4"
  },
  "language_info": {
   "file_extension": ".jl",
   "mimetype": "application/julia",
   "name": "julia",
   "version": "1.4.2"
  }
 },
 "nbformat": 4,
 "nbformat_minor": 4
}
