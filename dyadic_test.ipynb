{
 "cells": [
  {
   "cell_type": "markdown",
   "metadata": {},
   "source": [
    "Ok, so in this notebook we are going to generate a *dyadic* graph, which we will then attempt to cluster. "
   ]
  },
  {
   "cell_type": "code",
   "execution_count": 128,
   "metadata": {},
   "outputs": [
    {
     "name": "stderr",
     "output_type": "stream",
     "text": [
      "\u001b[32m\u001b[1m Activating\u001b[22m\u001b[39m environment at `~/hypergraph_modularities_code/Project.toml`\n"
     ]
    },
    {
     "data": {
      "text/plain": [
       "(hypergraph\n",
       "  N: Array{Int64}((172738,)) [1, 2, 3, 4, 5, 6, 7, 8, 9, 10  …  172729, 172730, 172731, 172732, 172733, 172734, 172735, 172736, 172737, 172738]\n",
       "  E: Dict{Int64,Dict}\n",
       "  D: Array{Int64}((172738,)) [6, 6, 5, 1, 1, 4, 3, 3, 3, 4  …  4, 1, 2, 2, 1, 7, 8, 5, 1, 4]\n",
       ", [1, 2, 3, 4, 5, 5, 6, 7, 8, 1  …  14, 5, 8, 17, 3, 81, 17, 29, 55, 47])"
      ]
     },
     "execution_count": 128,
     "metadata": {},
     "output_type": "execute_result"
    }
   ],
   "source": [
    "## Generate a graph\n",
    "using Pkg; Pkg.activate(\".\")\n",
    "using HypergraphModularity\n",
    "\n",
    "using StatsBase\n",
    "using SparseArrays\n",
    "\n",
    "# parameters\n",
    "\n",
    "dataset = \"TrivagoClickout\"\n",
    "kmax_ = 100\n",
    "\n",
    "H, Z = read_hypergraph_data(dataset,kmax_)"
   ]
  },
  {
   "cell_type": "code",
   "execution_count": 129,
   "metadata": {},
   "outputs": [
    {
     "name": "stdout",
     "output_type": "stream",
     "text": [
      "  0.538146 seconds (3.37 M allocations: 246.028 MiB, 10.24% gc time)\n"
     ]
    }
   ],
   "source": [
    "@time  G = CliqueExpansion(H, false);"
   ]
  },
  {
   "cell_type": "code",
   "execution_count": 130,
   "metadata": {},
   "outputs": [
    {
     "data": {
      "text/plain": [
       "CliqueExpansion_ (generic function with 1 method)"
      ]
     },
     "execution_count": 130,
     "metadata": {},
     "output_type": "execute_result"
    }
   ],
   "source": [
    "function CliqueExpansion_(H;weighted=false, dtype = Int64)\n",
    "    \n",
    "    if weighted & (dtype <: Integer)\n",
    "        print(\"Don't use integer data type to record weighted edges; exiting.\")\n",
    "        return false\n",
    "    end\n",
    "    n = length(H.D)\n",
    "    I = Vector{dtype}()\n",
    "    J = Vector{dtype}()\n",
    "    V = Vector{dtype}()\n",
    "    ks = setdiff(keys(H.E),1)\n",
    "    for k in ks\n",
    "        for edge in keys(H.E[k])\n",
    "            weight = H.E[k][edge]\n",
    "            for i = 1:k-1\n",
    "                ei = edge[i]\n",
    "                for j = i+1:k\n",
    "                    ej = edge[j]\n",
    "                    push!(I,ei)\n",
    "                    push!(J,ej)\n",
    "                    if weighted\n",
    "                        push!(V,weight/(k-1))\n",
    "                    else\n",
    "                        push!(V,weight)\n",
    "                    end\n",
    "                end\n",
    "            end\n",
    "        end\n",
    "    end\n",
    "    A = SparseArrays.sparse(I,J,V,n,n)\n",
    "    for i = 1:n; A[i,i] = 0.0; end\n",
    "    SparseArrays.dropzeros!(A)\n",
    "    A = SparseArrays.sparse(A+A')\n",
    "    return A\n",
    "end"
   ]
  },
  {
   "cell_type": "code",
   "execution_count": 131,
   "metadata": {},
   "outputs": [
    {
     "name": "stdout",
     "output_type": "stream",
     "text": [
      "  0.722936 seconds (3.83 M allocations: 163.001 MiB, 26.60% gc time)\n"
     ]
    }
   ],
   "source": [
    "@time G = CliqueExpansion_(H; weighted= false, dtype = UInt32);"
   ]
  },
  {
   "cell_type": "code",
   "execution_count": 132,
   "metadata": {},
   "outputs": [
    {
     "data": {
      "text/plain": [
       "ConstructAdj (generic function with 1 method)"
      ]
     },
     "execution_count": 132,
     "metadata": {},
     "output_type": "execute_result"
    }
   ],
   "source": [
    "function ConstructAdj(C::SparseArrays.SparseMatrixCSC,n::Int64)\n",
    "    rp = C.rowval\n",
    "    ci = C.colptr\n",
    "    Neighbs = Vector{Vector{Int64}}()\n",
    "    d = zeros(Int64,n)\n",
    "    for i = 1:n\n",
    "        # chop up the rp vector and put it in Neighbs\n",
    "        push!(Neighbs,rp[ci[i]:ci[i+1]-1])\n",
    "        d[i] = ci[i+1]-ci[i]\n",
    "    end\n",
    "\n",
    "    # d is the number of neighbors. This is the unweighted degree,\n",
    "    # but note importantly that if the original graph is weighted this is\n",
    "    # not the same as the degree vector d we will sometimes use\n",
    "    return Neighbs, d\n",
    "end"
   ]
  },
  {
   "cell_type": "code",
   "execution_count": 135,
   "metadata": {},
   "outputs": [
    {
     "name": "stdout",
     "output_type": "stream",
     "text": [
      "  0.089072 seconds (345.50 k allocations: 57.920 MiB, 51.11% gc time)\n"
     ]
    }
   ],
   "source": [
    "@time ConstructAdj(G, length(H.D));"
   ]
  },
  {
   "cell_type": "code",
   "execution_count": 137,
   "metadata": {},
   "outputs": [
    {
     "data": {
      "text/plain": [
       "(172738, 172738)"
      ]
     },
     "execution_count": 137,
     "metadata": {},
     "output_type": "execute_result"
    }
   ],
   "source": [
    "size(G)"
   ]
  }
 ],
 "metadata": {
  "kernelspec": {
   "display_name": "Julia 1.4.2",
   "language": "julia",
   "name": "julia-1.4"
  },
  "language_info": {
   "file_extension": ".jl",
   "mimetype": "application/julia",
   "name": "julia",
   "version": "1.4.2"
  }
 },
 "nbformat": 4,
 "nbformat_minor": 4
}
