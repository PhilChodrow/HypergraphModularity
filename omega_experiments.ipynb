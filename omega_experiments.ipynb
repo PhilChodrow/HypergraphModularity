{
 "cells": [
  {
   "cell_type": "code",
   "execution_count": 1,
   "metadata": {},
   "outputs": [
    {
     "name": "stderr",
     "output_type": "stream",
     "text": [
      "\u001b[32m\u001b[1m Activating\u001b[22m\u001b[39m environment at `~/hypergraph_modularities_code/Project.toml`\n",
      "┌ Info: Precompiling HypergraphModularity [0c934d27-dd44-49d7-950f-bd4be7819e54]\n",
      "└ @ Base loading.jl:1260\n",
      "┌ Warning: Package HypergraphModularity does not have DelimitedFiles in its dependencies:\n",
      "│ - If you have HypergraphModularity checked out for development and have\n",
      "│   added DelimitedFiles as a dependency but haven't updated your primary\n",
      "│   environment's manifest file, try `Pkg.resolve()`.\n",
      "│ - Otherwise you may need to report an issue with HypergraphModularity\n",
      "└ Loading DelimitedFiles into HypergraphModularity from project dependency, future warnings for HypergraphModularity are suppressed.\n"
     ]
    }
   ],
   "source": [
    "using Revise\n",
    "using Pkg; Pkg.activate(\".\")\n",
    "using HypergraphModularity\n",
    "using StatsBase\n",
    "using Random \n",
    "\n",
    "Random.seed!(1234);"
   ]
  },
  {
   "cell_type": "code",
   "execution_count": 2,
   "metadata": {},
   "outputs": [
    {
     "data": {
      "text/plain": [
       "Dict{String,Dict{String,Integer}} with 4 entries:\n",
       "  \"TrivagoClickout\"                => Dict{String,Integer}(\"haslabels\"=>true,\"k…\n",
       "  \"email-Enron-full\"               => Dict{String,Integer}(\"haslabels\"=>false,\"…\n",
       "  \"contact-primary-school-classes\" => Dict{String,Integer}(\"haslabels\"=>true,\"k…\n",
       "  \"walmart-trips\"                  => Dict{String,Integer}(\"haslabels\"=>true,\"k…"
      ]
     },
     "execution_count": 2,
     "metadata": {},
     "output_type": "execute_result"
    }
   ],
   "source": [
    "datasets = Dict(\n",
    "    \"email-Enron-full\" => Dict(\"kmax\" => 10, \n",
    "                               \"prune\" => false,\n",
    "                               \"haslabels\" => false),\n",
    "    \"contact-primary-school-classes\" => Dict(\"kmax\" => 6,\n",
    "                                             \"prune\" => false,\n",
    "                                             \"haslabels\" => true),\n",
    "    \"TrivagoClickout\" => Dict(\"kmax\" => 10,\n",
    "                              \"prune\" => 2,\n",
    "                              \"haslabels\" => true),\n",
    "    \"walmart-trips\" => Dict(\"kmax\" => 10,\n",
    "                              \"prune\" => 2,\n",
    "                              \"haslabels\" => true)\n",
    ")"
   ]
  },
  {
   "cell_type": "code",
   "execution_count": 3,
   "metadata": {},
   "outputs": [],
   "source": [
    "function prep_data(dataset)\n",
    "    \n",
    "    # check if there are labels, and read in the data\n",
    "    haslabels = datasets[dataset][\"haslabels\"]\n",
    "    kmax = datasets[dataset][\"kmax\"]\n",
    "    if haslabels\n",
    "        H, Z = read_hypergraph_data(dataset,kmax, 2, true)\n",
    "    else\n",
    "        H = read_hypergraph_data(dataset,kmax, 2, false)\n",
    "        Z = nothing\n",
    "    end\n",
    "    \n",
    "    # prune the data if specified\n",
    "    d = datasets[dataset][\"prune\"]\n",
    "    if d > 0\n",
    "        for i in 1:10\n",
    "            H, Z = subHypergraph(H, H.D .>= d, Z)\n",
    "        end\n",
    "    end\n",
    "    if haslabels\n",
    "        return H, Z\n",
    "    end\n",
    "    return H\n",
    "end;"
   ]
  },
  {
   "cell_type": "code",
   "execution_count": 4,
   "metadata": {},
   "outputs": [
    {
     "data": {
      "text/plain": [
       "acquirePartition (generic function with 1 method)"
      ]
     },
     "execution_count": 4,
     "metadata": {},
     "output_type": "execute_result"
    }
   ],
   "source": [
    "# these values of ωᵢ and ωₒ are roughly tuned so that \n",
    "# the effective resolution parameter is unity. \n",
    "# Then, the multiplier controls the overall resolution parameter\n",
    "\n",
    "ωᵢ = 2.0\n",
    "ωₒ = 0.6\n",
    "\n",
    "function acquirePartition(H; verbose = false, n_iters = 10, γ = 1000)\n",
    "\n",
    "    function ω(p, α)\n",
    "        num = p[1] == 1 ? ωᵢ : ωₒ\n",
    "        denom = big(sum(H.D))^sum(p[2])\n",
    "        return γ*num / denom\n",
    "    end\n",
    "\n",
    "    Ω̂₀ = allOrNothingIntensityFunction(ω, maximum(keys(H.E)));\n",
    "    n = length(H.D)\n",
    "    Ẑ = nothing\n",
    "    best_Ẑ = nothing\n",
    "    best_Q = -Inf\n",
    "    T = Vector{Float64}()\n",
    "    for i ∈ 1:n_iters\n",
    "        Ẑ, t = @timed SuperNode_PPLouvain(H, Ω̂₀; α = 0, verbose = false, Z0 = collect(1:n), clusterpenalty = n)\n",
    "        Ω̂₀ = estimateΩEmpirically(H, Ẑ; aggregator = p -> [length(p) == 1, sum(p)], bigNums = true);\n",
    "        Q = modularity(H, Ẑ, Ω̂₀; α = nothing)\n",
    "        k = length(unique(Ẑ))\n",
    "        penalty = round( - n * log(k))\n",
    "        if verbose\n",
    "            println(round(Q), \"    \", penalty , \"   \", round(Q + penalty),\"    \", k, \"    \", t)\n",
    "        end\n",
    "        if Q + penalty > best_Q\n",
    "            best_Q = Q + penalty\n",
    "            best_Ẑ = Ẑ\n",
    "        end\n",
    "        push!(T, t)\n",
    "    end\n",
    "    \n",
    "    return best_Ẑ, Ω̂₀, mean(T)\n",
    "end"
   ]
  },
  {
   "cell_type": "code",
   "execution_count": 5,
   "metadata": {},
   "outputs": [
    {
     "data": {
      "text/plain": [
       "compare_Ω (generic function with 1 method)"
      ]
     },
     "execution_count": 5,
     "metadata": {},
     "output_type": "execute_result"
    }
   ],
   "source": [
    "A = Vector{Float64}()\n",
    "O = Vector{String}()\n",
    "D = Vector{String}()\n",
    "K = Vector{Int64}()\n",
    "\n",
    "function compare_Ω(H, Ẑ; data_label = \"\")\n",
    "        \n",
    "    kmax = maximum(keys(H.E))\n",
    "    kmin = minimum(keys(H.E))\n",
    "    n = length(H.D)\n",
    "    \n",
    "    function ω_m(p, α)\n",
    "        k = big(sum(p))\n",
    "        kmax = length(α) ÷ 2\n",
    "        return k/sum((p .* (1:length(p)).^α[k])) / n^(α[kmax+k]*k)\n",
    "    end\n",
    "\n",
    "    function ω_d(p, α)\n",
    "        k = big(sum(p))\n",
    "        kmax = length(α) ÷ 2\n",
    "        dcut = big((sum(p*p') - p'*p)/2)\n",
    "        return k/((1 + dcut)^α[k])/ n^(α[kmax+k]*k)\n",
    "    end\n",
    "    \n",
    "    num_parameters = 0\n",
    "    for aff in [\"AON\", \"numGroups\", \"dyadic\", \"majorization\"]\n",
    "        print(rpad(aff, 15))\n",
    "        α = vcat(repeat([1.0], kmax), 1:kmax);\n",
    "        if aff == \"AON\"\n",
    "            Ω̂ = estimateΩEmpirically(H, Ẑ; aggregator = p -> [length(p) == 1, sum(p)], bigNums = true)\n",
    "            num_parameters = 2*(kmax - kmin)\n",
    "        elseif aff == \"numGroups\"\n",
    "            Ω̂ = estimateΩEmpirically(H, Ẑ; aggregator = p -> [length(p), sum(p)], bigNums = true)\n",
    "            num_parameters = kmax*(kmax - 1)/2 - kmin*(kmin-1)/2\n",
    "        elseif aff == \"dyadic\"\n",
    "            Ω̂ = partitionIntensityFunction(ω_d, kmax)\n",
    "            α = learnParameters(H, Ẑ, Ω̂, α; max_iters = 50, verbose = false)\n",
    "            num_parameters = 2*(kmax - kmin)\n",
    "        elseif aff == \"majorization\"\n",
    "            Ω̂ = partitionIntensityFunction(ω_m, kmax)\n",
    "            α = learnParameters(H, Ẑ, Ω̂, α; max_iters = 50, verbose = false) \n",
    "            num_parameters = 2*(kmax - kmin)\n",
    "        end\n",
    "        \n",
    "        for i in 1:2kmax push!(O, aff) end\n",
    "        for i in 1:2kmax push!(A, α[i]) end\n",
    "        for i in 1:2kmax push!(D, data_label) end\n",
    "        for i in 1:2kmax push!(K, i) end\n",
    "        \n",
    "        \n",
    "        AIC = 2*modularity(H, Ẑ, Ω̂; α = α) - 2*num_parameters\n",
    "        print(rpad(Float64(AIC), 30))\n",
    "        \n",
    "        N   = sum(big(n)^k/factorial(k) for k in kmin:kmax) # number of observations, very large\n",
    "        BIC = 2*modularity(H, Ẑ, Ω̂; α = α) - num_parameters*log(N)\n",
    "        println(rpad(Float64(BIC), 30))\n",
    "    end\n",
    "end"
   ]
  },
  {
   "cell_type": "code",
   "execution_count": 6,
   "metadata": {},
   "outputs": [
    {
     "name": "stdout",
     "output_type": "stream",
     "text": [
      "Number of nodes: 242\n",
      "Mean Louvain Runtime: 0.13s\n",
      "Number of groups: 7\n",
      "Mean degree: 126.97933884297521\n",
      "Mean edge size: 2.4188444584382873\n",
      "\n",
      "Ω              AIC                           BIC                           \n",
      "--------------------------------------------------\n",
      "AON            -416554.82284326176           -416720.2467329968            \n",
      "numGroups      -415401.5608442435            -415608.3407064122            \n",
      "dyadic         -415613.23016189336           -415778.6540516283            \n",
      "majorization   -415561.03799726866           -415726.4618870036            \n"
     ]
    }
   ],
   "source": [
    "H, Z = prep_data(\"contact-primary-school-classes\")\n",
    "Ẑ, Ω̂₀, T = acquirePartition(H; verbose = false, n_iters = 20, γ = 10000);\n",
    "println(\"Number of nodes: $(length(H.D))\")\n",
    "println(\"Mean Louvain Runtime: $(round(T, digits=2))s\")\n",
    "println(\"Number of groups: $(length(unique(Ẑ)))\")\n",
    "println(\"Mean degree: $(mean(H.D))\")\n",
    "\n",
    "num = sum(sum(collect(values(H.E[k])))*k for k in keys(H.E) if length(H.E[k]) > 0)\n",
    "denom = sum(sum(collect(values(H.E[k]))) for k in keys(H.E) if length(H.E[k]) > 0)\n",
    "\n",
    "mean_k = num/denom\n",
    "\n",
    "println(\"Mean edge size: $(mean_k)\")\n",
    "println(\"\")\n",
    "print(rpad(\"Ω\", 15))\n",
    "print(rpad(\"AIC\", 30))\n",
    "println(rpad(\"BIC\", 30))\n",
    "println(rpad(\"\", 50, \"-\"))\n",
    "compare_Ω(H, Ẑ; data_label = \"contact-primary-school\")"
   ]
  },
  {
   "cell_type": "code",
   "execution_count": 7,
   "metadata": {},
   "outputs": [
    {
     "name": "stdout",
     "output_type": "stream",
     "text": [
      "Number of nodes: 148\n",
      "Mean Louvain Runtime: 0.02s\n",
      "Number of groups: 11\n",
      "Mean degree: 28.533783783783782\n",
      "Mean edge size: 2.9408077994428967\n",
      "\n",
      "Ω              AIC                 BIC                 \n",
      "--------------------------------------------------\n",
      "AON            -52310.21059189935            -52903.07932351048            \n",
      "numGroups      -51882.06999165356            -53364.241820681375           \n",
      "dyadic         -51980.587020204526           -52573.45575181565            \n",
      "majorization   -51836.72702906432            -52429.595760675445           \n"
     ]
    }
   ],
   "source": [
    "H = prep_data(\"email-Enron-full\");\n",
    "Ẑ, Ω̂₀, T = acquirePartition(H; verbose = false, n_iters = 20);\n",
    "println(\"Number of nodes: $(length(H.D))\")\n",
    "println(\"Mean Louvain Runtime: $(round(T, digits=2))s\")\n",
    "println(\"Number of groups: $(length(unique(Ẑ)))\")\n",
    "println(\"Mean degree: $(mean(H.D))\")\n",
    "\n",
    "num = sum(sum(collect(values(H.E[k])))*k for k in keys(H.E) if length(H.E[k]) > 0)\n",
    "denom = sum(sum(collect(values(H.E[k]))) for k in keys(H.E) if length(H.E[k]) > 0)\n",
    "\n",
    "mean_k = num/denom\n",
    "\n",
    "println(\"Mean edge size: $(mean_k)\")\n",
    "\n",
    "println(\"\")\n",
    "print(rpad(\"Ω\", 15))\n",
    "print(rpad(\"AIC\", 20))\n",
    "println(rpad(\"BIC\", 20))\n",
    "println(rpad(\"\", 50, \"-\"))\n",
    "compare_Ω(H, Ẑ; data_label = \"email-Enron-full\")"
   ]
  },
  {
   "cell_type": "code",
   "execution_count": 8,
   "metadata": {},
   "outputs": [
    {
     "name": "stdout",
     "output_type": "stream",
     "text": [
      "Number of nodes: 71558\n",
      "Mean Louvain Runtime: 44.99s\n",
      "Number of groups: 721\n",
      "Mean degree: 7.9751250733670584\n",
      "Mean edge size: 3.7895030412494357\n",
      "\n",
      "Ω              AIC                           BIC                           \n",
      "--------------------------------------------------\n",
      "AON            -8.619255415113937e6          -8.620770268923027e6          \n",
      "numGroups      -8.36324592325583e6           -8.367411771230826e6          \n",
      "dyadic         -8.501289219347347e6          -8.502804073156435e6          \n",
      "majorization   -8.371104265810004e6          -8.372619119619094e6          \n"
     ]
    }
   ],
   "source": [
    "H, Z = prep_data(\"TrivagoClickout\");\n",
    "Ẑ, Ω̂₀, T = acquirePartition(H; verbose = false, n_iters = 20);\n",
    "println(\"Number of nodes: $(length(H.D))\")\n",
    "println(\"Mean Louvain Runtime: $(round(T, digits=2))s\")\n",
    "println(\"Number of groups: $(length(unique(Ẑ)))\")\n",
    "println(\"Mean degree: $(mean(H.D))\")\n",
    "\n",
    "num = sum(sum(collect(values(H.E[k])))*k for k in keys(H.E) if length(H.E[k]) > 0)\n",
    "denom = sum(sum(collect(values(H.E[k]))) for k in keys(H.E) if length(H.E[k]) > 0)\n",
    "\n",
    "mean_k = num/denom\n",
    "\n",
    "println(\"Mean edge size: $(mean_k)\")\n",
    "\n",
    "println(\"\")\n",
    "print(rpad(\"Ω\", 15))\n",
    "print(rpad(\"AIC\", 30))\n",
    "println(rpad(\"BIC\", 30))\n",
    "println(rpad(\"\", 50, \"-\"))\n",
    "compare_Ω(H, Ẑ; data_label = \"TrivagoClickout\")"
   ]
  },
  {
   "cell_type": "code",
   "execution_count": 13,
   "metadata": {},
   "outputs": [
    {
     "name": "stdout",
     "output_type": "stream",
     "text": [
      "Number of nodes: 71558\n",
      "Mean Louvain Runtime: 12.55s\n",
      "Number of groups: 123\n",
      "Mean degree: 7.9751250733670584\n",
      "Mean edge size: 3.7895030412494357\n",
      "\n",
      "Ω              AIC                           BIC                           \n",
      "--------------------------------------------------\n",
      "AON            -1.0234086860862033e7         -1.0235601714671122e7         \n",
      "numGroups      -1.0212394437538821e7         -1.0216560285513816e7         \n",
      "dyadic         -1.0220536373573827e7         -1.0222051227382917e7         \n",
      "majorization   -1.0212565082809113e7         -1.0214079936618201e7         \n"
     ]
    }
   ],
   "source": [
    "H, Z = prep_data(\"TrivagoClickout\");\n",
    "Ẑ = Z\n",
    "println(\"Number of nodes: $(length(H.D))\")\n",
    "println(\"Mean Louvain Runtime: $(round(T, digits=2))s\")\n",
    "println(\"Number of groups: $(length(unique(Ẑ)))\")\n",
    "println(\"Mean degree: $(mean(H.D))\")\n",
    "\n",
    "num = sum(sum(collect(values(H.E[k])))*k for k in keys(H.E) if length(H.E[k]) > 0)\n",
    "denom = sum(sum(collect(values(H.E[k]))) for k in keys(H.E) if length(H.E[k]) > 0)\n",
    "\n",
    "mean_k = num/denom\n",
    "\n",
    "println(\"Mean edge size: $(mean_k)\")\n",
    "\n",
    "println(\"\")\n",
    "print(rpad(\"Ω\", 15))\n",
    "print(rpad(\"AIC\", 30))\n",
    "println(rpad(\"BIC\", 30))\n",
    "println(rpad(\"\", 50, \"-\"))\n",
    "compare_Ω(H, Ẑ; data_label = \"TrivagoClickout-TrueLabels\")"
   ]
  },
  {
   "cell_type": "code",
   "execution_count": 9,
   "metadata": {},
   "outputs": [
    {
     "name": "stdout",
     "output_type": "stream",
     "text": [
      "Number of nodes: 9300\n",
      "Mean Louvain Runtime: 12.55s\n",
      "Number of groups: 9\n",
      "Mean degree: 5.558817204301075\n",
      "Mean edge size: 3.48879740855716\n",
      "\n",
      "Ω              AIC                           BIC                           \n",
      "--------------------------------------------------\n",
      "AON            -885957.2725986973            -887145.6623578946            \n",
      "numGroups      -883555.7668942276            -886823.8387320199            \n",
      "dyadic         -884566.4334000557            -885754.823159253             \n",
      "majorization   -886989.6130075895            -888178.0027667867            \n"
     ]
    }
   ],
   "source": [
    "H, Z = prep_data(\"walmart-trips\");\n",
    "Ẑ, Ω̂₀, T = acquirePartition(H; verbose = false, n_iters = 20, γ = 50000);\n",
    "println(\"Number of nodes: $(length(H.D))\")\n",
    "println(\"Mean Louvain Runtime: $(round(T, digits=2))s\")\n",
    "println(\"Number of groups: $(length(unique(Ẑ)))\")\n",
    "println(\"Mean degree: $(mean(H.D))\")\n",
    "\n",
    "num = sum(sum(collect(values(H.E[k])))*k for k in keys(H.E) if length(H.E[k]) > 0)\n",
    "denom = sum(sum(collect(values(H.E[k]))) for k in keys(H.E) if length(H.E[k]) > 0)\n",
    "\n",
    "mean_k = num/denom\n",
    "\n",
    "println(\"Mean edge size: $(mean_k)\")\n",
    "\n",
    "println(\"\")\n",
    "print(rpad(\"Ω\", 15))\n",
    "print(rpad(\"AIC\", 30))\n",
    "println(rpad(\"BIC\", 30))\n",
    "println(rpad(\"\", 50, \"-\"))\n",
    "compare_Ω(H, Ẑ; data_label = \"walmart-trips\")"
   ]
  },
  {
   "cell_type": "code",
   "execution_count": 14,
   "metadata": {},
   "outputs": [
    {
     "name": "stdout",
     "output_type": "stream",
     "text": [
      "Number of nodes: 9300\n",
      "Mean Louvain Runtime: 12.55s\n",
      "Number of groups: 11\n",
      "Mean degree: 5.558817204301075\n",
      "Mean edge size: 3.48879740855716\n",
      "\n",
      "Ω              AIC                           BIC                           \n",
      "--------------------------------------------------\n",
      "AON            -911223.6692942963            -912412.0590534935            \n",
      "numGroups      -910066.0788825046            -913334.1507202969            \n",
      "dyadic         -910793.6721966654            -911982.0619558627            \n",
      "majorization   -910662.9911829687            -911851.380942166             \n"
     ]
    }
   ],
   "source": [
    "H, Z = prep_data(\"walmart-trips\");\n",
    "Ẑ = Z\n",
    "println(\"Number of nodes: $(length(H.D))\")\n",
    "println(\"Mean Louvain Runtime: $(round(T, digits=2))s\")\n",
    "println(\"Number of groups: $(length(unique(Ẑ)))\")\n",
    "println(\"Mean degree: $(mean(H.D))\")\n",
    "\n",
    "num = sum(sum(collect(values(H.E[k])))*k for k in keys(H.E) if length(H.E[k]) > 0)\n",
    "denom = sum(sum(collect(values(H.E[k]))) for k in keys(H.E) if length(H.E[k]) > 0)\n",
    "\n",
    "mean_k = num/denom\n",
    "\n",
    "println(\"Mean edge size: $(mean_k)\")\n",
    "\n",
    "println(\"\")\n",
    "print(rpad(\"Ω\", 15))\n",
    "print(rpad(\"AIC\", 30))\n",
    "println(rpad(\"BIC\", 30))\n",
    "println(rpad(\"\", 50, \"-\"))\n",
    "compare_Ω(H, Ẑ; data_label = \"walmart-trips-TrueLabels\")"
   ]
  },
  {
   "cell_type": "code",
   "execution_count": 10,
   "metadata": {},
   "outputs": [
    {
     "name": "stderr",
     "output_type": "stream",
     "text": [
      "┌ Warning: RCall.jl: ── Attaching packages ─────────────────────────────────────── tidyverse 1.3.0 ──\n",
      "│ ✔ ggplot2 3.3.2     ✔ purrr   0.3.4\n",
      "│ ✔ tibble  3.0.3     ✔ dplyr   1.0.0\n",
      "│ ✔ tidyr   1.1.0     ✔ stringr 1.4.0\n",
      "│ ✔ readr   1.3.1     ✔ forcats 0.5.0\n",
      "│ ── Conflicts ────────────────────────────────────────── tidyverse_conflicts() ──\n",
      "│ ✖ dplyr::filter() masks stats::filter()\n",
      "│ ✖ dplyr::lag()    masks stats::lag()\n",
      "└ @ RCall /home/phil/.julia/packages/RCall/Qzssx/src/io.jl:160\n",
      "┌ Warning: RCall.jl: Loading required package: viridisLite\n",
      "└ @ RCall /home/phil/.julia/packages/RCall/Qzssx/src/io.jl:160\n"
     ]
    },
    {
     "data": {
      "text/plain": [
       "RObject{StrSxp}\n",
       " [1] \"viridis\"     \"viridisLite\" \"forcats\"     \"stringr\"     \"dplyr\"      \n",
       " [6] \"purrr\"       \"readr\"       \"tidyr\"       \"tibble\"      \"ggplot2\"    \n",
       "[11] \"tidyverse\"   \"stats\"       \"graphics\"    \"grDevices\"   \"utils\"      \n",
       "[16] \"datasets\"    \"methods\"     \"base\"       \n"
      ]
     },
     "execution_count": 10,
     "metadata": {},
     "output_type": "execute_result"
    }
   ],
   "source": [
    "using RCall\n",
    "RCall.rcall_p(:options, rcalljl_options=Dict(:width => 650, :height => 300))\n",
    "\n",
    "R\"\"\"\n",
    "library(tidyverse)\n",
    "library(viridis)\n",
    "\"\"\""
   ]
  },
  {
   "cell_type": "code",
   "execution_count": 11,
   "metadata": {},
   "outputs": [
    {
     "data": {
      "image/png": "[encoded data removed]"
     },
     "metadata": {},
     "output_type": "display_data"
    },
    {
     "data": {
      "text/plain": [
       "RObject{VecSxp}\n"
      ]
     },
     "execution_count": 11,
     "metadata": {},
     "output_type": "execute_result"
    }
   ],
   "source": [
    "D = convert(Array{String, 1}, D)\n",
    "O = convert(Array{String, 1}, O)\n",
    "A = convert(Array{Float64, 1}, A)\n",
    "R\"\"\"\n",
    "df <- tibble(dataset = $D, \n",
    "             alpha = $A, \n",
    "             omega = $O)\n",
    "\n",
    "df %>% \n",
    "    filter(omega %in% c(\"dyadic\", \"majorization\")) %>% \n",
    "    group_by(dataset, omega) %>% \n",
    "    mutate(k = row_number(),\n",
    "           kmax = max(k)/2,\n",
    "           type = k > kmax,\n",
    "           k = ifelse(k > kmax, k - kmax, k),\n",
    "           k = ifelse((dataset == \"TrivagoClickout\") & (k == 2), NA, k)) %>% \n",
    "    mutate(omega = stringr::str_to_title(omega)) %>% \n",
    "    filter(k >= 2) %>% \n",
    "    ggplot() + \n",
    "    aes(x = k, y = alpha, color = type) +\n",
    "    geom_point(pch = 21, stroke = 1) + \n",
    "    facet_grid(omega~dataset, scales = \"free_y\") + \n",
    "    theme_bw() + \n",
    "    scale_color_manual(labels = c(expression(alpha), expression(beta)), values = c(\"#e6a176\",\"#00678a\" )) + \n",
    "    guides(color = guide_legend(title = element_blank())) + \n",
    "    ylab(expression(alpha)) + \n",
    "    xlab(expression(italic(k))) + \n",
    "    theme(strip.background = element_blank(),\n",
    "          panel.spacing = unit(3, \"mm\"),\n",
    "          strip.text = element_text(size = 9),\n",
    "          legend.position = \"bottom\",\n",
    "          legend.text = element_text(size = 12),\n",
    "          panel.grid.minor = element_blank())\n",
    "\"\"\""
   ]
  },
  {
   "cell_type": "code",
   "execution_count": 12,
   "metadata": {},
   "outputs": [
    {
     "data": {
      "text/plain": [
       "RObject{NilSxp}\n",
       "NULL\n"
      ]
     },
     "execution_count": 12,
     "metadata": {},
     "output_type": "execute_result"
    }
   ],
   "source": [
    "R\"\"\"\n",
    "ggsave(\"fig/omega.png\", width = 6.5, height = 3.5)\n",
    "\"\"\""
   ]
  },
  {
   "cell_type": "code",
   "execution_count": null,
   "metadata": {},
   "outputs": [],
   "source": []
  }
 ],
 "metadata": {
  "kernelspec": {
   "display_name": "Julia 1.4.2",
   "language": "julia",
   "name": "julia-1.4"
  },
  "language_info": {
   "file_extension": ".jl",
   "mimetype": "application/julia",
   "name": "julia",
   "version": "1.4.2"
  }
 },
 "nbformat": 4,
 "nbformat_minor": 4
}
