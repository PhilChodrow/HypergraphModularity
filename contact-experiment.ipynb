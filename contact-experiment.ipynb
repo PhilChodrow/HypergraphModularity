{
 "cells": [
  {
   "cell_type": "code",
   "execution_count": 22,
   "metadata": {},
   "outputs": [
    {
     "name": "stderr",
     "output_type": "stream",
     "text": [
      "\u001b[32m\u001b[1m Activating\u001b[22m\u001b[39m environment at `~/hypergraph_modularities_code/Project.toml`\n"
     ]
    }
   ],
   "source": [
    "using Revise\n",
    "using Pkg; Pkg.activate(\".\")\n",
    "using HypergraphModularity\n",
    "using DataFrames\n",
    "using SparseArrays\n",
    "using RCall\n",
    "using Random\n",
    "\n",
    "Random.seed!(7777);"
   ]
  },
  {
   "cell_type": "code",
   "execution_count": 67,
   "metadata": {},
   "outputs": [
    {
     "data": {
      "text/plain": [
       "projectedGraph (generic function with 1 method)"
      ]
     },
     "execution_count": 67,
     "metadata": {},
     "output_type": "execute_result"
    }
   ],
   "source": [
    "function projectedGraph(H)\n",
    "    \n",
    "    n = length(H.D)\n",
    "    A = CliqueExpansion(H, false, false)\n",
    "    ix, jx, w = findnz(A)\n",
    "    E = Dict(sort([ix[k], jx[k]]) => w[k] for k in 1:length(ix))\n",
    "\n",
    "    H̄ = hypergraph(collect(1:n), Dict(1 => Dict(), 2 => E), [0])\n",
    "    HypergraphModularity.computeDegrees!(H̄);\n",
    "    return H̄\n",
    "end"
   ]
  },
  {
   "cell_type": "code",
   "execution_count": 99,
   "metadata": {},
   "outputs": [
    {
     "data": {
      "text/plain": [
       "experiment (generic function with 1 method)"
      ]
     },
     "execution_count": 99,
     "metadata": {},
     "output_type": "execute_result"
    }
   ],
   "source": [
    "function experiment(H, Z, method, data_label)\n",
    "    \n",
    "    n = length(H.D)\n",
    "    \n",
    "    Z_ = collect(1:n)\n",
    "    γ = 20.0\n",
    "    H̄ = projectedGraph(H)\n",
    "    \n",
    "    # for warmstarts\n",
    "    Z̄ = CliqueExpansionModularity(H, γ, false, true)\n",
    "    Ω̄ = estimateΩEmpirically(H̄, Z̄; aggregator = p -> [length(p) == 1, sum(p)])\n",
    "    Ω = estimateΩEmpirically(H, Z̄; aggregator = p -> [length(p) == 1, sum(p)])\n",
    "    \n",
    "    DF = DataFrame()\n",
    "    \n",
    "    for i in 1:20\n",
    "        if method     == \"dyadic_modularity\"\n",
    "#             Z_ = CliqueExpansionModularity(H, γ, false, true)\n",
    "#             γ  = computeDyadicResolutionParameter(H, Z_)\n",
    "            Z_ = SuperNode_PPLouvain(H̄, Ω̄;α = 0, verbose = false, scan_order = \"random\")\n",
    "            Ω̄  = estimateΩEmpirically(H̄, Z_; aggregator = p -> [length(p) == 1, sum(p)])\n",
    "        elseif method == \"dyadic_likelihood\"\n",
    "            Z_ = SuperNode_PPLouvain(H̄, Ω̄;α = 0, verbose = false,  scan_order = \"random\")\n",
    "            Ω̄  = estimateΩEmpirically(H̄, Z_; aggregator = p -> [length(p) == 1, sum(p)])\n",
    "        elseif method == \"polyadic_likelihood\"\n",
    "            Z_ = SuperNode_PPLouvain(H, Ω; α = 0, verbose = false,  scan_order = \"random\")\n",
    "            Ω  = estimateΩEmpirically(H, Z_; aggregator = p -> [length(p) == 1, sum(p)])\n",
    "        end\n",
    "        \n",
    "        γ = computeDyadicResolutionParameter(H, Z_)\n",
    "        ωᵢ, ωₒ = computeDyadicResolutionParameter(H, Z_; mode=\"ω\", weighted=false) \n",
    "        Q_D = dyadicModularity(H̄, Z_, γ; weighted=false)\n",
    "\n",
    "        Ω̄  = estimateΩEmpirically(H̄, Z_; aggregator = p -> [length(p) == 1, sum(p)])\n",
    "        L_D = modularity(H̄, Z_, Ω̄; α = 0)\n",
    "\n",
    "        Ω  = estimateΩEmpirically(H, Z_; aggregator = p -> [length(p) == 1, sum(p)])\n",
    "        Q_H = modularity(H, Z_, Ω; α = 0)\n",
    "        \n",
    "        df = DataFrame(\n",
    "            Z      = Z, \n",
    "            Z_     = Z_, \n",
    "            method = method,\n",
    "            dyadic_modularity    = round(convert(Float64, Q_D), digits = 2), \n",
    "            dyadic_likelihood    = round(convert(Float64, L_D), digits = 2),\n",
    "            polyadic_likelihood    = round(convert(Float64, Q_H), digits = 2),\n",
    "            round  = i,\n",
    "            data   = data_label\n",
    "        )\n",
    "        \n",
    "        DF = vcat(DF, df)\n",
    "    end\n",
    "    return DF\n",
    "end"
   ]
  },
  {
   "cell_type": "code",
   "execution_count": 100,
   "metadata": {},
   "outputs": [],
   "source": [
    "DF = DataFrame()\n",
    "\n",
    "for method ∈ [\"dyadic_modularity\", \"dyadic_likelihood\", \"polyadic_likelihood\"]\n",
    "    for data ∈ [\"contact-high-school-classes\", \"contact-primary-school-classes\"]\n",
    "        kmax_ = 6\n",
    "        H, Z = read_hypergraph_data(data,kmax_, 2, true)\n",
    "        n = length(H.D)\n",
    "        \n",
    "        df = experiment(H, Z, method, data)\n",
    "        DF = vcat(DF, df)\n",
    "    end\n",
    "end"
   ]
  },
  {
   "cell_type": "code",
   "execution_count": 101,
   "metadata": {},
   "outputs": [
    {
     "data": {
      "text/plain": [
       "RObject{StrSxp}\n",
       " [1] \"cowplot\"   \"forcats\"   \"stringr\"   \"dplyr\"     \"purrr\"     \"readr\"    \n",
       " [7] \"tidyr\"     \"tibble\"    \"ggplot2\"   \"tidyverse\" \"stats\"     \"graphics\" \n",
       "[13] \"grDevices\" \"utils\"     \"datasets\"  \"methods\"   \"base\"     \n"
      ]
     },
     "execution_count": 101,
     "metadata": {},
     "output_type": "execute_result"
    }
   ],
   "source": [
    "R\"\"\"\n",
    "library(tidyverse)\n",
    "\"\"\""
   ]
  },
  {
   "cell_type": "code",
   "execution_count": 102,
   "metadata": {},
   "outputs": [
    {
     "name": "stderr",
     "output_type": "stream",
     "text": [
      "┌ Warning: RCall.jl: Parsed with column specification:\n",
      "│ cols(\n",
      "│   X1 = col_character()\n",
      "│ )\n",
      "└ @ RCall /home/phil/.julia/packages/RCall/Qzssx/src/io.jl:160\n",
      "┌ Warning: RCall.jl: Parsed with column specification:\n",
      "│ cols(\n",
      "│   X1 = col_character()\n",
      "│ )\n",
      "└ @ RCall /home/phil/.julia/packages/RCall/Qzssx/src/io.jl:160\n"
     ]
    },
    {
     "data": {
      "text/plain": [
       "RObject{VecSxp}\n",
       "# A tibble: 1,707 x 8\n",
       "# Groups:   method, data, metric [6]\n",
       "       Z    Z_ method        round data                metric        value class\n",
       "   <int> <int> <chr>         <int> <chr>               <chr>         <dbl> <chr>\n",
       " 1     9     6 dyadic_modul…     2 contact-high-schoo… dyadic_modul…  0.55 MP   \n",
       " 2     9     6 dyadic_modul…     2 contact-high-schoo… dyadic_modul…  0.55 MP   \n",
       " 3     3     1 dyadic_modul…     2 contact-high-schoo… dyadic_modul…  0.55 2BIO3\n",
       " 4     3     1 dyadic_modul…     2 contact-high-schoo… dyadic_modul…  0.55 2BIO3\n",
       " 5     8     3 dyadic_modul…     2 contact-high-schoo… dyadic_modul…  0.55 PC*  \n",
       " 6     8     3 dyadic_modul…     2 contact-high-schoo… dyadic_modul…  0.55 PC*  \n",
       " 7     3     1 dyadic_modul…     2 contact-high-schoo… dyadic_modul…  0.55 2BIO3\n",
       " 8     3     1 dyadic_modul…     2 contact-high-schoo… dyadic_modul…  0.55 2BIO3\n",
       " 9     7     8 dyadic_modul…     2 contact-high-schoo… dyadic_modul…  0.55 PC   \n",
       "10     7     8 dyadic_modul…     2 contact-high-schoo… dyadic_modul…  0.55 PC   \n",
       "# … with 1,697 more rows\n"
      ]
     },
     "execution_count": 102,
     "metadata": {},
     "output_type": "execute_result"
    }
   ],
   "source": [
    "R\"\"\"\n",
    "df <- tibble($DF)\n",
    "\n",
    "df <- df %>% \n",
    "    pivot_longer(cols = c(dyadic_modularity, dyadic_likelihood, polyadic_likelihood), names_to = \"metric\", values_to = \"value\" ) %>% \n",
    "    filter(method == metric) %>% \n",
    "    group_by(method, data, metric) %>% \n",
    "    filter(value == max(value)) %>% \n",
    "    filter(round == min(round)) \n",
    "\n",
    "primary_labels <- read_csv(\"data/contact-primary-school-classes/label-names-contact-primary-school-classes.txt\",\n",
    "                    col_names = FALSE) %>% \n",
    "          mutate(num = row_number(),\n",
    "                 data = \"contact-primary-school-classes\") %>% \n",
    "          rename(class = X1)\n",
    "\n",
    "high_labels <- read_csv(\"data/contact-high-school-classes/label-names-contact-high-school-classes.txt\",\n",
    "                    col_names = FALSE) %>% \n",
    "          mutate(num = row_number(),\n",
    "                 data = \"contact-high-school-classes\") %>% \n",
    "          rename(class = X1) \n",
    "        \n",
    "labels <- rbind(primary_labels, high_labels)\n",
    "\n",
    "df <- df %>% \n",
    "    left_join(labels, by = c(\"Z\" = \"num\", \"data\" = \"data\"))\n",
    "\"\"\""
   ]
  },
  {
   "cell_type": "code",
   "execution_count": 103,
   "metadata": {},
   "outputs": [
    {
     "name": "stderr",
     "output_type": "stream",
     "text": [
      "┌ Warning: RCall.jl: `summarise()` regrouping output by 'data', 'method', 'class' (override with `.groups` argument)\n",
      "└ @ RCall /home/phil/.julia/packages/RCall/Qzssx/src/io.jl:160\n",
      "┌ Warning: RCall.jl: Joining, by = c(\"Z_\", \"method\", \"data\")\n",
      "└ @ RCall /home/phil/.julia/packages/RCall/Qzssx/src/io.jl:160\n"
     ]
    },
    {
     "data": {
      "text/plain": [
       "RObject{VecSxp}\n",
       "# A tibble: 1,707 x 9\n",
       "# Groups:   method, data, metric [6]\n",
       "       Z    Z_ method       round data             metric      value class   Z__\n",
       "   <int> <int> <chr>        <int> <chr>            <chr>       <dbl> <chr> <int>\n",
       " 1     9     6 dyadic_modu…     2 contact-high-sc… dyadic_mod…  0.55 MP        4\n",
       " 2     9     6 dyadic_modu…     2 contact-high-sc… dyadic_mod…  0.55 MP        4\n",
       " 3     3     1 dyadic_modu…     2 contact-high-sc… dyadic_mod…  0.55 2BIO3     3\n",
       " 4     3     1 dyadic_modu…     2 contact-high-sc… dyadic_mod…  0.55 2BIO3     3\n",
       " 5     8     3 dyadic_modu…     2 contact-high-sc… dyadic_mod…  0.55 PC*       9\n",
       " 6     8     3 dyadic_modu…     2 contact-high-sc… dyadic_mod…  0.55 PC*       9\n",
       " 7     3     1 dyadic_modu…     2 contact-high-sc… dyadic_mod…  0.55 2BIO3     3\n",
       " 8     3     1 dyadic_modu…     2 contact-high-sc… dyadic_mod…  0.55 2BIO3     3\n",
       " 9     7     8 dyadic_modu…     2 contact-high-sc… dyadic_mod…  0.55 PC        8\n",
       "10     7     8 dyadic_modu…     2 contact-high-sc… dyadic_mod…  0.55 PC        8\n",
       "# … with 1,697 more rows\n"
      ]
     },
     "execution_count": 103,
     "metadata": {},
     "output_type": "execute_result"
    }
   ],
   "source": [
    "R\"\"\"\n",
    "\n",
    "reorder_df <- df %>% \n",
    "    group_by(data, method, class, Z_) %>% \n",
    "    summarise(n = n()) %>% \n",
    "    ungroup() %>% \n",
    "    group_by(data, method, Z_) %>% \n",
    "    filter(n == max(n)) %>% \n",
    "    ungroup() %>% \n",
    "    group_by(data, method) %>% \n",
    "    mutate(Z__ = row_number()) %>% \n",
    "    select(-class, -n)\n",
    "\n",
    "df <- df %>% \n",
    "   left_join(reorder_df)\n",
    "\"\"\""
   ]
  },
  {
   "cell_type": "code",
   "execution_count": 104,
   "metadata": {},
   "outputs": [
    {
     "name": "stderr",
     "output_type": "stream",
     "text": [
      "┌ Warning: RCall.jl: `summarise()` regrouping output by 'class', 'Z__', 'method' (override with `.groups` argument)\n",
      "└ @ RCall /home/phil/.julia/packages/RCall/Qzssx/src/io.jl:160\n"
     ]
    },
    {
     "data": {
      "image/png": "[encoded data removed]"
     },
     "metadata": {},
     "output_type": "display_data"
    },
    {
     "data": {
      "text/plain": [
       "RObject{VecSxp}\n"
      ]
     },
     "execution_count": 104,
     "metadata": {},
     "output_type": "execute_result"
    }
   ],
   "source": [
    "R\"\"\"\n",
    "\n",
    "p <- df %>% \n",
    "    group_by(class, Z__, method, data) %>% \n",
    "    summarise(n = n()) %>% \n",
    "    mutate(method = case_when(\n",
    "               method == \"dyadic_likelihood\" ~ \"Graph MLL\",\n",
    "               method == \"dyadic_modularity\" ~ \"Graph Louvain\",\n",
    "               method == \"polyadic_likelihood\" ~ \"Hypergraph AON MLL\"),\n",
    "           data = case_when(\n",
    "                data == \"contact-high-school-classes\" ~ \"High School\",\n",
    "                data == \"contact-primary-school-classes\" ~ \"Primary School\"),\n",
    "           method = factor(method, levels = c(\"Graph Louvain\", \n",
    "                                              \"Graph MLL\", \n",
    "                                              \"Hypergraph AON MLL\")),\n",
    "           data   = factor(data, levels = c(\"Primary School\", \"High School\"))) %>% \n",
    "    ungroup() %>% \n",
    "    group_by(data) %>% \n",
    "    mutate(n_ = max(n)) %>% \n",
    "    ggplot() + \n",
    "    aes(x = Z__, y = class) + \n",
    "    facet_grid(data~method, scales = \"free_y\") + \n",
    "    geom_tile(aes(alpha = n/n_, fill = data), color = \"black\") + \n",
    "    theme_bw() + \n",
    "    geom_text(aes(label = n, color = n < 27), size = 3) + \n",
    "    scale_color_manual(values = c(\"white\", \"black\")) + \n",
    "    theme(panel.grid.major = element_blank(), \n",
    "          panel.grid.minor = element_blank(), \n",
    "          strip.background = element_blank(),\n",
    "          strip.text = element_text(size = 12),\n",
    "          axis.title.x = element_text(size = 12),\n",
    "          axis.title.y = element_blank(),\n",
    "          axis.text.x = element_text(size = 10),\n",
    "          axis.text.y = element_text(size = 10),\n",
    "          panel.spacing = unit(1, \"lines\")) + \n",
    "    guides(color = FALSE, fill = FALSE, alpha = FALSE) + \n",
    "    scale_x_continuous(expand = c(0,0), breaks = 1:10, labels = 1:10) + \n",
    "    scale_y_discrete(expand = c(0,0)) + \n",
    "    xlab(\"Inferred Cluster\") + \n",
    "    ylab(\"Class\") + \n",
    "    scale_fill_manual(values = c(\"#e6a176\",\"#00678a\" ))\n",
    "\"\"\""
   ]
  },
  {
   "cell_type": "code",
   "execution_count": 105,
   "metadata": {},
   "outputs": [
    {
     "data": {
      "text/plain": [
       "RObject{NilSxp}\n",
       "NULL\n"
      ]
     },
     "execution_count": 105,
     "metadata": {},
     "output_type": "execute_result"
    }
   ],
   "source": [
    "R\"\"\"\n",
    "ggsave(\"fig/contact-clustering.png\", width = 6.5, height = 4)\n",
    "\"\"\""
   ]
  },
  {
   "cell_type": "markdown",
   "metadata": {},
   "source": [
    "## Structure of $\\Omega$"
   ]
  },
  {
   "cell_type": "code",
   "execution_count": 106,
   "metadata": {},
   "outputs": [],
   "source": [
    "df = DataFrame()\n",
    "\n",
    "\n",
    "for data ∈ [\"contact-high-school-classes\", \"contact-primary-school-classes\"]\n",
    "\n",
    "    kmax = 5\n",
    "    H, Z = read_hypergraph_data(data,kmax, 2, true)\n",
    "    n = length(H.D)\n",
    "\n",
    "    Ω  = estimateΩEmpirically(H, Z; aggregator = p -> [length(p) == 1, sum(p)]);\n",
    "    \n",
    "    β = [log(Ω.ω([1, i], 0)) - log(Ω.ω([0, i], 0)) for i in 2:kmax]\n",
    "    γ = [(Ω.ω([1, i], 0) - Ω.ω([0, i], 0)) for i in 2:kmax]\n",
    "    γ = γ ./ β\n",
    "    \n",
    "    m = [length(H.E[k]) for k in 2:kmax]\n",
    "    \n",
    "    df_ = DataFrame(γ = γ, β = β, m = m, D = sum(H.D), data = data, k = 2:kmax)\n",
    "    \n",
    "    df = vcat(df_, df)    \n",
    "end"
   ]
  },
  {
   "cell_type": "code",
   "execution_count": 107,
   "metadata": {},
   "outputs": [
    {
     "data": {
      "text/html": [
       "<table class=\"data-frame\"><thead><tr><th></th><th>γ</th><th>β</th><th>m</th><th>D</th><th>data</th><th>k</th></tr><tr><th></th><th>BigFloat</th><th>BigFloat</th><th>Int64</th><th>Int64</th><th>String</th><th>Int64</th></tr></thead><tbody><p>8 rows × 6 columns</p><tr><th>1</th><td>1.41146e-05</td><td>1.49066</td><td>7748</td><td>30729</td><td>contact-primary-school-classes</td><td>2</td></tr><tr><th>2</th><td>1.71165e-09</td><td>4.67324</td><td>4600</td><td>30729</td><td>contact-primary-school-classes</td><td>3</td></tr><tr><th>3</th><td>2.37004e-14</td><td>6.60484</td><td>347</td><td>30729</td><td>contact-primary-school-classes</td><td>4</td></tr><tr><th>4</th><td>4.16075e-20</td><td>6.89038</td><td>9</td><td>30729</td><td>contact-primary-school-classes</td><td>5</td></tr><tr><th>5</th><td>3.1724e-05</td><td>2.84767</td><td>5498</td><td>18192</td><td>contact-high-school-classes</td><td>2</td></tr><tr><th>6</th><td>3.12624e-09</td><td>5.48832</td><td>2091</td><td>18192</td><td>contact-high-school-classes</td><td>3</td></tr><tr><th>7</th><td>9.34963e-14</td><td>7.11772</td><td>222</td><td>18192</td><td>contact-high-school-classes</td><td>4</td></tr><tr><th>8</th><td>8.66552e-19</td><td>8.95251</td><td>7</td><td>18192</td><td>contact-high-school-classes</td><td>5</td></tr></tbody></table>"
      ],
      "text/latex": [
       "\\begin{tabular}{r|cccccc}\n",
       "\t& γ & β & m & D & data & k\\\\\n",
       "\t\\hline\n",
       "\t& BigFloat & BigFloat & Int64 & Int64 & String & Int64\\\\\n",
       "\t\\hline\n",
       "\t1 & 1.41146e-05 & 1.49066 & 7748 & 30729 & contact-primary-school-classes & 2 \\\\\n",
       "\t2 & 1.71165e-09 & 4.67324 & 4600 & 30729 & contact-primary-school-classes & 3 \\\\\n",
       "\t3 & 2.37004e-14 & 6.60484 & 347 & 30729 & contact-primary-school-classes & 4 \\\\\n",
       "\t4 & 4.16075e-20 & 6.89038 & 9 & 30729 & contact-primary-school-classes & 5 \\\\\n",
       "\t5 & 3.1724e-05 & 2.84767 & 5498 & 18192 & contact-high-school-classes & 2 \\\\\n",
       "\t6 & 3.12624e-09 & 5.48832 & 2091 & 18192 & contact-high-school-classes & 3 \\\\\n",
       "\t7 & 9.34963e-14 & 7.11772 & 222 & 18192 & contact-high-school-classes & 4 \\\\\n",
       "\t8 & 8.66552e-19 & 8.95251 & 7 & 18192 & contact-high-school-classes & 5 \\\\\n",
       "\\end{tabular}\n"
      ],
      "text/plain": [
       "8×6 DataFrame. Omitted printing of 2 columns\n",
       "│ Row │ γ           │ β        │ m     │ D     │\n",
       "│     │ \u001b[90mBigFloat\u001b[39m    │ \u001b[90mBigFloat\u001b[39m │ \u001b[90mInt64\u001b[39m │ \u001b[90mInt64\u001b[39m │\n",
       "├─────┼─────────────┼──────────┼───────┼───────┤\n",
       "│ 1   │ 1.41146e-05 │ 1.49066  │ 7748  │ 30729 │\n",
       "│ 2   │ 1.71165e-09 │ 4.67324  │ 4600  │ 30729 │\n",
       "│ 3   │ 2.37004e-14 │ 6.60484  │ 347   │ 30729 │\n",
       "│ 4   │ 4.16075e-20 │ 6.89038  │ 9     │ 30729 │\n",
       "│ 5   │ 3.1724e-05  │ 2.84767  │ 5498  │ 18192 │\n",
       "│ 6   │ 3.12624e-09 │ 5.48832  │ 2091  │ 18192 │\n",
       "│ 7   │ 9.34963e-14 │ 7.11772  │ 222   │ 18192 │\n",
       "│ 8   │ 8.66552e-19 │ 8.95251  │ 7     │ 18192 │"
      ]
     },
     "execution_count": 107,
     "metadata": {},
     "output_type": "execute_result"
    }
   ],
   "source": [
    "df"
   ]
  },
  {
   "cell_type": "code",
   "execution_count": 116,
   "metadata": {},
   "outputs": [
    {
     "data": {
      "image/png": "[encoded data removed]"
     },
     "metadata": {},
     "output_type": "display_data"
    },
    {
     "data": {
      "text/plain": [
       "RObject{VecSxp}\n"
      ]
     },
     "execution_count": 116,
     "metadata": {},
     "output_type": "execute_result"
    },
    {
     "name": "stderr",
     "output_type": "stream",
     "text": [
      "┌ Warning: RCall.jl: Warning: Removed 16 row(s) containing missing values (geom_path).\n",
      "└ @ RCall /home/phil/.julia/packages/RCall/Qzssx/src/io.jl:160\n"
     ]
    }
   ],
   "source": [
    "R\"\"\"\n",
    "q <- tibble($df) %>% \n",
    "    group_by(data) %>% \n",
    "    mutate(γ = log10(γ*(D^k)/m),\n",
    "           β = β/(k*(k-1)/2),\n",
    "           m = log10(m),\n",
    "           data = ifelse(data == \"contact-primary-school-classes\", \"Primary School\", \"High School\"),\n",
    "           data = factor(data, levels = c(\"Primary School\", \"High School\"))) %>% \n",
    "    pivot_longer(cols = c(γ, β, m), names_to = \"type\", values_to = \"value\") %>% \n",
    "    ungroup() %>% \n",
    "    mutate(marker = ifelse(type == \"β\", 1, NA)) %>% \n",
    "    mutate(type = ifelse(type == \"γ\", \"log(italic(γ[k]/γ[k][0]))\", type),\n",
    "           type = ifelse(type == \"β\", \"italic(beta[k])/scriptstyle(bgroup('(',atop(italic(k),2),')'))\", type),\n",
    "           type = ifelse(type == \"m\", \"log(italic(m[k]))\", type),\n",
    "           type = factor(type, levels = c(\"log(italic(m[k]))\", \"italic(beta[k])/scriptstyle(bgroup('(',atop(italic(k),2),')'))\", \"log(italic(γ[k]/γ[k][0]))\"))) %>%     \n",
    "    ggplot() + \n",
    "    aes(x = k, y = value) + \n",
    "    facet_wrap(~type, scales = \"free_y\", labeller = label_parsed) + \n",
    "    geom_line(aes(y = marker), color = \"lightgrey\", linetype = \"dashed\", size = 1) + \n",
    "    geom_line(aes(color = data)) + \n",
    "    geom_point(aes(fill = data), size = 3, pch = 21) + \n",
    "    theme_bw() + \n",
    "    theme(legend.position = c(0.13, 0.3),\n",
    "          strip.background = element_blank(), \n",
    "          axis.title.y = element_blank(),\n",
    "          legend.title = element_blank(),\n",
    "          panel.grid.minor = element_blank(),\n",
    "          strip.text = element_text(size = 12),\n",
    "          legend.text = element_text(size = 12),\n",
    "          legend.background = element_blank(), \n",
    "          panel.spacing = unit(.3, \"lines\"),\n",
    "          legend.key = element_rect(colour = NA, fill = NA)) +\n",
    "    xlab(expression(paste(\"Edge size \", italic(k)))) + \n",
    "    scale_color_manual(values = c(\"#e6a176\",\"#00678a\" )) + \n",
    "    scale_fill_manual(values = c(\"#e6a176\",\"#00678a\" )) + \n",
    "    ylim(c(0, NA))\n",
    "\"\"\""
   ]
  },
  {
   "cell_type": "code",
   "execution_count": 117,
   "metadata": {},
   "outputs": [
    {
     "name": "stderr",
     "output_type": "stream",
     "text": [
      "┌ Warning: RCall.jl: Warning: Removed 16 row(s) containing missing values (geom_path).\n",
      "│ Warning in grid.Call(C_textBounds, as.graphicsAnnot(x$label), x$x, x$y,  :\n",
      "│   font metrics unknown for Unicode character U+03b3\n",
      "│ Warning in grid.Call(C_textBounds, as.graphicsAnnot(x$label), x$x, x$y,  :\n",
      "│   font metrics unknown for Unicode character U+03b3\n",
      "│ Warning in grid.Call(C_textBounds, as.graphicsAnnot(x$label), x$x, x$y,  :\n",
      "│   font metrics unknown for Unicode character U+03b3\n",
      "│ Warning in grid.Call(C_textBounds, as.graphicsAnnot(x$label), x$x, x$y,  :\n",
      "│   font metrics unknown for Unicode character U+03b3\n",
      "│ Warning in grid.Call(C_textBounds, as.graphicsAnnot(x$label), x$x, x$y,  :\n",
      "│   font metrics unknown for Unicode character U+03b3\n",
      "│ Warning in grid.Call(C_textBounds, as.graphicsAnnot(x$label), x$x, x$y,  :\n",
      "│   font metrics unknown for Unicode character U+03b3\n",
      "│ Warning in grid.Call(C_textBounds, as.graphicsAnnot(x$label), x$x, x$y,  :\n",
      "│   font metrics unknown for Unicode character U+03b3\n",
      "│ Warning in grid.Call(C_textBounds, as.graphicsAnnot(x$label), x$x, x$y,  :\n",
      "│   font metrics unknown for Unicode character U+03b3\n",
      "│ Warning in grid.Call(C_textBounds, as.graphicsAnnot(x$label), x$x, x$y,  :\n",
      "│   font metrics unknown for Unicode character U+03b3\n",
      "│ Warning in grid.Call(C_textBounds, as.graphicsAnnot(x$label), x$x, x$y,  :\n",
      "│   font metrics unknown for Unicode character U+03b3\n",
      "│ Warning in grid.Call(C_textBounds, as.graphicsAnnot(x$label), x$x, x$y,  :\n",
      "│   font metrics unknown for Unicode character U+03b3\n",
      "│ Warning in grid.Call(C_textBounds, as.graphicsAnnot(x$label), x$x, x$y,  :\n",
      "│   font metrics unknown for Unicode character U+03b3\n",
      "│ Warning in grid.Call(C_textBounds, as.graphicsAnnot(x$label), x$x, x$y,  :\n",
      "│   font metrics unknown for Unicode character U+03b3\n",
      "│ Warning in grid.Call(C_textBounds, as.graphicsAnnot(x$label), x$x, x$y,  :\n",
      "│   font metrics unknown for Unicode character U+03b3\n",
      "│ Warning in grid.Call(C_textBounds, as.graphicsAnnot(x$label), x$x, x$y,  :\n",
      "│   font metrics unknown for Unicode character U+03b3\n",
      "│ Warning in grid.Call(C_textBounds, as.graphicsAnnot(x$label), x$x, x$y,  :\n",
      "│   font metrics unknown for Unicode character U+03b3\n",
      "└ @ RCall /home/phil/.julia/packages/RCall/Qzssx/src/io.jl:160\n"
     ]
    },
    {
     "data": {
      "text/plain": [
       "RObject{NilSxp}\n",
       "NULL\n"
      ]
     },
     "execution_count": 117,
     "metadata": {},
     "output_type": "execute_result"
    }
   ],
   "source": [
    "R\"\"\"\n",
    "library(cowplot)\n",
    "\n",
    "r <- plot_grid(p, q, ncol = 1, align = \"v\", axis = \"lr\", rel_heights = c(2, 1.1))\n",
    "\n",
    "r\n",
    "ggsave(\"fig/contact-experiments.png\", width = 7.5, height = 7)\n",
    "\"\"\""
   ]
  },
  {
   "cell_type": "code",
   "execution_count": 110,
   "metadata": {},
   "outputs": [
    {
     "data": {
      "text/plain": [
       "RObject{NilSxp}\n",
       "NULL\n"
      ]
     },
     "execution_count": 110,
     "metadata": {},
     "output_type": "execute_result"
    }
   ],
   "source": [
    "R\"\"\"\n",
    "ggsave(\"fig/contact-resolution.png\", width = 7.5, height = 3.5)\n",
    "\"\"\""
   ]
  }
 ],
 "metadata": {
  "kernelspec": {
   "display_name": "Julia 1.4.2",
   "language": "julia",
   "name": "julia-1.4"
  },
  "language_info": {
   "file_extension": ".jl",
   "mimetype": "application/julia",
   "name": "julia",
   "version": "1.4.2"
  }
 },
 "nbformat": 4,
 "nbformat_minor": 4
}
