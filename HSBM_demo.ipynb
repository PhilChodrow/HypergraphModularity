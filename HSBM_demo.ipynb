{
 "cells": [
  {
   "cell_type": "code",
   "execution_count": 1,
   "metadata": {},
   "outputs": [
    {
     "data": {
      "text/plain": [
       "logLikelihood (generic function with 1 method)"
      ]
     },
     "execution_count": 1,
     "metadata": {},
     "output_type": "execute_result"
    }
   ],
   "source": [
    "using Statistics\n",
    "\n",
    "include(\"jl/omega.jl\")\n",
    "include(\"jl/HSBM.jl\")\n",
    "include(\"jl/objectives.jl\")"
   ]
  },
  {
   "cell_type": "code",
   "execution_count": 4,
   "metadata": {},
   "outputs": [
    {
     "data": {
      "text/plain": [
       "hypergraph\n",
       "  E: Dict{Integer,Dict}\n",
       "  D: Array{Integer}((10,)) Integer[15, 18, 20, 14, 15, 11, 12, 14, 15, 13]\n"
      ]
     },
     "execution_count": 4,
     "metadata": {},
     "output_type": "execute_result"
    }
   ],
   "source": [
    "n = 10\n",
    "Z = rand(1:5, n)\n",
    "ϑ = dropdims(ones(1,n) + rand(1,n), dims = 1)\n",
    "μ = mean(ϑ)\n",
    "\n",
    "fk = k->(1*μ*k)^(-k)\n",
    "fp = harmonicMean\n",
    "Ω  = (z; mode)->Ω_partition(z, fp, fk; mode=mode)\n",
    "\n",
    "H = sampleSBM(Z, ϑ, Ω; kmax=3, kmin = 1)"
   ]
  },
  {
   "cell_type": "code",
   "execution_count": 12,
   "metadata": {},
   "outputs": [
    {
     "name": "stdout",
     "output_type": "stream",
     "text": [
      "The realized hypergraph has 59 edges.\n",
      "The log-likelihood of the true partition is -39124.28.\n",
      "The log-likelihood of the fake partition is -39900.783.\n"
     ]
    }
   ],
   "source": [
    "Z_ = rand(1:5, n) # a random partition\n",
    "\n",
    "println(\"The realized hypergraph has $(countEdges(H)) edges.\")\n",
    "\n",
    "println(\"The log-likelihood of the true partition is $(round(logLikelihood(H, Z,  Ω),digits=3)).\")\n",
    "println(\"The log-likelihood of the fake partition is $(round(logLikelihood(H, Z_, Ω),digits=3)).\")"
   ]
  },
  {
   "cell_type": "code",
   "execution_count": 4,
   "metadata": {},
   "outputs": [
    {
     "data": {
      "text/plain": [
       "-43005.56961304746"
      ]
     },
     "execution_count": 4,
     "metadata": {},
     "output_type": "execute_result"
    }
   ],
   "source": [
    "logLikelihood(H, Z, Ω)"
   ]
  },
  {
   "cell_type": "code",
   "execution_count": 5,
   "metadata": {},
   "outputs": [
    {
     "data": {
      "text/plain": [
       "0.037122638371322035"
      ]
     },
     "execution_count": 5,
     "metadata": {},
     "output_type": "execute_result"
    }
   ],
   "source": [
    "Ω([1 1];mode=\"group\")"
   ]
  },
  {
   "cell_type": "code",
   "execution_count": 6,
   "metadata": {},
   "outputs": [
    {
     "ename": "UndefVarError",
     "evalue": "UndefVarError: H not defined",
     "output_type": "error",
     "traceback": [
      "UndefVarError: H not defined",
      "",
      "Stacktrace:",
      " [1] top-level scope at In[6]:3"
     ]
    }
   ],
   "source": [
    "n = length(Z)\n",
    "L_ = 0\n",
    "\n",
    "ϑ = computeDegrees(H)\n",
    "\n",
    "for k in keys(H.E)  \n",
    "    T = with_replacement_combinations(1:n, k) \n",
    "    Ek = H.E[k]   \n",
    "    for S in T\n",
    "        print(S)\n",
    "        z = Z[S]\n",
    "        θ = ϑ[S]\n",
    "        X = Poisson(prod(θ)*Ω(z; mode=\"group\"))\n",
    "\n",
    "        m = get(Ek, S, 0)\n",
    "        L_ += log(pdf(X, m))\n",
    "    end\n",
    "end\n"
   ]
  },
  {
   "cell_type": "code",
   "execution_count": 7,
   "metadata": {},
   "outputs": [
    {
     "data": {
      "text/plain": [
       "2-element Array{Float64,1}:\n",
       " 1.023640906761166\n",
       " 1.023640906761166"
      ]
     },
     "execution_count": 7,
     "metadata": {},
     "output_type": "execute_result"
    }
   ],
   "source": [
    "ϑ[[1,1]]"
   ]
  },
  {
   "cell_type": "code",
   "execution_count": 8,
   "metadata": {},
   "outputs": [
    {
     "data": {
      "text/plain": [
       "30-element Array{Float64,1}:\n",
       " 1.023640906761166\n",
       " 1.974063580764563\n",
       " 1.7617547385368748\n",
       " 1.8590048037863958\n",
       " 1.7115524953208572\n",
       " 1.889374952402906\n",
       " 1.8709923289979353\n",
       " 1.2305581861446497\n",
       " 1.578028535470945\n",
       " 1.170104808263728\n",
       " 1.8113233730527853\n",
       " 1.4119407698695772\n",
       " 1.4761215675693973\n",
       " ⋮\n",
       " 1.578859095346571\n",
       " 1.4148431005211533\n",
       " 1.2290161531797663\n",
       " 1.484525494869369\n",
       " 1.2120530913701966\n",
       " 1.7132282713174487\n",
       " 1.5555189723780913\n",
       " 1.7285793775513487\n",
       " 1.897904890003882\n",
       " 1.4985638363256664\n",
       " 1.913687173211345\n",
       " 1.2481261785612625"
      ]
     },
     "execution_count": 8,
     "metadata": {},
     "output_type": "execute_result"
    }
   ],
   "source": [
    "ϑ"
   ]
  },
  {
   "cell_type": "code",
   "execution_count": null,
   "metadata": {},
   "outputs": [],
   "source": []
  }
 ],
 "metadata": {
  "kernelspec": {
   "display_name": "Julia 1.4.1",
   "language": "julia",
   "name": "julia-1.4"
  },
  "language_info": {
   "file_extension": ".jl",
   "mimetype": "application/julia",
   "name": "julia",
   "version": "1.4.1"
  }
 },
 "nbformat": 4,
 "nbformat_minor": 2
}
