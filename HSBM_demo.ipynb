{
 "cells": [
  {
   "cell_type": "code",
   "execution_count": 8,
   "metadata": {},
   "outputs": [
    {
     "data": {
      "text/plain": [
       "countEdges (generic function with 1 method)"
      ]
     },
     "execution_count": 8,
     "metadata": {},
     "output_type": "execute_result"
    }
   ],
   "source": [
    "using Statistics\n",
    "\n",
    "include(\"jl/omega.jl\")\n",
    "include(\"jl/HSBM.jl\")"
   ]
  },
  {
   "cell_type": "code",
   "execution_count": 9,
   "metadata": {},
   "outputs": [
    {
     "data": {
      "text/plain": [
       "hypergraph\n",
       "  E: Dict{Integer,Dict}\n",
       "  D: Dict{Integer,Integer}\n"
      ]
     },
     "execution_count": 9,
     "metadata": {},
     "output_type": "execute_result"
    }
   ],
   "source": [
    "n = 30\n",
    "Z = rand(1:5, n)\n",
    "ϑ = dropdims(ones(1,n) + rand(1,n), dims = 1)\n",
    "μ = mean(ϑ)\n",
    "\n",
    "fk = k->(2*μ*k)^(-k)\n",
    "fp = harmonicMean\n",
    "Ω = (z; mode)->Ω_partition(z, fp, fk; mode=mode)\n",
    "\n",
    "H = sampleSBM(Z, ϑ, Ω; kmax=3, kmin = 1)"
   ]
  },
  {
   "cell_type": "code",
   "execution_count": 10,
   "metadata": {},
   "outputs": [
    {
     "name": "stdout",
     "output_type": "stream",
     "text": [
      "The realized hypergraph has 213 edges.\n",
      "The log-likelihood of the true partition is -1027.344.\n",
      "The log-likelihood of the fake partition is -1028.69.\n"
     ]
    }
   ],
   "source": [
    "Z_ = rand(1:5, n) # a random partition\n",
    "\n",
    "println(\"The realized hypergraph has $(countEdges(H)) edges.\")\n",
    "\n",
    "println(\"The log-likelihood of the true partition is $(round(logLikelihood(H, Z, ϑ, Ω),digits=3)).\")\n",
    "println(\"The log-likelihood of the fake partition is $(round(logLikelihood(H, Z_, ϑ, Ω),digits=3)).\")"
   ]
  }
 ],
 "metadata": {
  "kernelspec": {
   "display_name": "Julia 1.4.1",
   "language": "julia",
   "name": "julia-1.4"
  },
  "language_info": {
   "file_extension": ".jl",
   "mimetype": "application/julia",
   "name": "julia",
   "version": "1.4.1"
  }
 },
 "nbformat": 4,
 "nbformat_minor": 2
}
