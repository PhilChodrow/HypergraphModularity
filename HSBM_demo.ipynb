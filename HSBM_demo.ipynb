{
 "cells": [
  {
   "cell_type": "code",
   "execution_count": 1,
   "metadata": {},
   "outputs": [
    {
     "data": {
      "text/plain": [
       "logLikelihood (generic function with 1 method)"
      ]
     },
     "execution_count": 1,
     "metadata": {},
     "output_type": "execute_result"
    }
   ],
   "source": [
    "using Statistics\n",
    "\n",
    "include(\"jl/omega.jl\")\n",
    "include(\"jl/HSBM.jl\")\n",
    "include(\"jl/objectives.jl\")"
   ]
  },
  {
   "cell_type": "code",
   "execution_count": 2,
   "metadata": {},
   "outputs": [
    {
     "data": {
      "text/plain": [
       "hypergraph\n",
       "  E: Dict{Integer,Dict}\n",
       "  D: Array{Integer}((10,)) Integer[1, 0, 1, 2, 2, 1, 3, 0, 1, 1]\n"
      ]
     },
     "execution_count": 2,
     "metadata": {},
     "output_type": "execute_result"
    }
   ],
   "source": [
    "n = 10\n",
    "Z = rand(1:5, n)\n",
    "ϑ = dropdims(ones(1,n) + rand(1,n), dims = 1)\n",
    "μ = mean(ϑ)\n",
    "\n",
    "kmax = 4\n",
    "kmin = 1\n",
    "\n",
    "fk = k->(2.4*μ*k)^(-k)\n",
    "fp = harmonicMean\n",
    "\n",
    "Ω_dict = Dict()\n",
    "\n",
    "for k = kmin:kmax, p in partitions(k)\n",
    "    Ω_dict[p] = fk(sum(p))*fp(p)\n",
    "end\n",
    "\n",
    "Ω = buildΩ(Ω_dict; by_size=true)\n",
    "\n",
    "H = sampleSBM(Z, ϑ, Ω; kmax=3, kmin = 1)"
   ]
  },
  {
   "cell_type": "code",
   "execution_count": 3,
   "metadata": {},
   "outputs": [
    {
     "name": "stdout",
     "output_type": "stream",
     "text": [
      "The realized hypergraph has 6 edges.\n",
      "The log-likelihood of the true partition is -22.071.\n",
      "The log-likelihood of the fake partition is -22.13.\n"
     ]
    }
   ],
   "source": [
    "Z_ = rand(1:5, n) # a random partition\n",
    "\n",
    "println(\"The realized hypergraph has $(countEdges(H)) edges.\")\n",
    "\n",
    "println(\"The log-likelihood of the true partition is $(round(logLikelihood(H, Z,  Ω),digits=3)).\")\n",
    "println(\"The log-likelihood of the fake partition is $(round(logLikelihood(H, Z_, Ω),digits=3)).\")"
   ]
  },
  {
   "cell_type": "code",
   "execution_count": null,
   "metadata": {},
   "outputs": [],
   "source": []
  }
 ],
 "metadata": {
  "kernelspec": {
   "display_name": "Julia 1.4.1",
   "language": "julia",
   "name": "julia-1.4"
  },
  "language_info": {
   "file_extension": ".jl",
   "mimetype": "application/julia",
   "name": "julia",
   "version": "1.4.1"
  }
 },
 "nbformat": 4,
 "nbformat_minor": 2
}
