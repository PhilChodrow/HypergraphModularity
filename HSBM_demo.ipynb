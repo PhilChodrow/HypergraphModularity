{
 "cells": [
  {
   "cell_type": "code",
   "execution_count": 1,
   "metadata": {},
   "outputs": [
    {
     "data": {
      "text/plain": [
       "logLikelihood (generic function with 2 methods)"
      ]
     },
     "execution_count": 1,
     "metadata": {},
     "output_type": "execute_result"
    }
   ],
   "source": [
    "using Statistics\n",
    "\n",
    "include(\"jl/omega.jl\")\n",
    "include(\"jl/HSBM.jl\")\n",
    "include(\"jl/objectives.jl\")"
   ]
  },
  {
   "cell_type": "code",
   "execution_count": 2,
   "metadata": {},
   "outputs": [
    {
     "data": {
      "text/plain": [
       "hypergraph\n",
       "  N: Array{Int64}((20,)) [1, 2, 3, 4, 5, 6, 7, 8, 9, 10, 11, 12, 13, 14, 15, 16, 17, 18, 19, 20]\n",
       "  E: Dict{Integer,Dict}\n",
       "  D: Array{Integer}((20,)) Integer[47, 64, 35, 63, 42, 68, 66, 29, 34, 28, 77, 58, 38, 41, 74, 64, 42, 50, 43, 40]\n"
      ]
     },
     "execution_count": 2,
     "metadata": {},
     "output_type": "execute_result"
    }
   ],
   "source": [
    "n = 20\n",
    "Z = rand(1:5, n)\n",
    "ϑ = dropdims(ones(1,n) + rand(1,n), dims = 1)\n",
    "μ = mean(ϑ)\n",
    "\n",
    "kmax = 4\n",
    "kmin = 1\n",
    "\n",
    "fk = k->(2*μ*k)^(-k)\n",
    "fp = x->harmonicMean(x)^5\n",
    "\n",
    "Ω_dict = Dict{Array{Int64, 1}, Float64}()\n",
    "\n",
    "for k = kmin:kmax, p in partitions(k)\n",
    "    Ω_dict[p] = fk(sum(p))*fp(p)\n",
    "end\n",
    "\n",
    "for p in keys(Ω_dict)\n",
    "    if sum(p) == 1\n",
    "        Ω_dict[p] = 0\n",
    "    end\n",
    "end\n",
    "\n",
    "Ω = buildΩ(Ω_dict; by_size=true)\n",
    "\n",
    "H = sampleSBM(Z, ϑ, Ω; kmax=kmax, kmin = kmin)"
   ]
  },
  {
   "cell_type": "code",
   "execution_count": 3,
   "metadata": {},
   "outputs": [
    {
     "data": {
      "text/plain": [
       "Dict{Integer,Dict} with 4 entries:\n",
       "  4 => Dict{Array{Int64,N} where N,Integer}([2, 8, 17, 19]=>1,[4, 15, 17, 18]=>…\n",
       "  2 => Dict{Array{Int64,N} where N,Integer}([3, 4]=>1,[12, 15]=>1,[4, 8]=>1,[4,…\n",
       "  3 => Dict{Array{Int64,N} where N,Integer}([6, 16, 16]=>1,[3, 12, 13]=>1,[1, 1…\n",
       "  1 => Dict{Array{Int64,N} where N,Integer}()"
      ]
     },
     "execution_count": 3,
     "metadata": {},
     "output_type": "execute_result"
    }
   ],
   "source": [
    "H.E"
   ]
  },
  {
   "cell_type": "code",
   "execution_count": 4,
   "metadata": {},
   "outputs": [
    {
     "data": {
      "text/plain": [
       "8.595833509413008e-5"
      ]
     },
     "execution_count": 4,
     "metadata": {},
     "output_type": "execute_result"
    }
   ],
   "source": [
    "z = [1, 2, 3, 3]\n",
    "Ω(z;mode=\"group\")"
   ]
  },
  {
   "cell_type": "code",
   "execution_count": 5,
   "metadata": {},
   "outputs": [
    {
     "name": "stdout",
     "output_type": "stream",
     "text": [
      "The realized hypergraph has 301 edges.\n",
      "The log-likelihood of the true partition is -1220.676.\n",
      "The log-likelihood of the fake partition is -1325.337.\n",
      "The log-likelihood of the singleton partition is -1356.7.\n"
     ]
    }
   ],
   "source": [
    "Z_ = rand(1:5, n) # a random partition\n",
    "Z__ = [i for i in 1:n]\n",
    "\n",
    "println(\"The realized hypergraph has $(countEdges(H)) edges.\")\n",
    "\n",
    "println(\"The log-likelihood of the true partition is $(round(logLikelihood(H, Z,  Ω, ϑ),digits=3)).\")\n",
    "println(\"The log-likelihood of the fake partition is $(round(logLikelihood(H, Z_, Ω, ϑ),digits=3)).\")\n",
    "println(\"The log-likelihood of the singleton partition is $(round(logLikelihood(H, Z__, Ω, ϑ),digits=3)).\")"
   ]
  }
 ],
 "metadata": {
  "kernelspec": {
   "display_name": "Julia 1.4.1",
   "language": "julia",
   "name": "julia-1.4"
  },
  "language_info": {
   "file_extension": ".jl",
   "mimetype": "application/julia",
   "name": "julia",
   "version": "1.4.1"
  }
 },
 "nbformat": 4,
 "nbformat_minor": 2
}
