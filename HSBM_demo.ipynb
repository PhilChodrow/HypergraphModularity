{
 "cells": [
  {
   "cell_type": "code",
   "execution_count": 3,
   "metadata": {},
   "outputs": [
    {
     "data": {
      "text/plain": [
       "logLikelihood (generic function with 2 methods)"
      ]
     },
     "execution_count": 3,
     "metadata": {},
     "output_type": "execute_result"
    }
   ],
   "source": [
    "using Statistics\n",
    "\n",
    "include(\"jl/omega.jl\")\n",
    "include(\"jl/HSBM.jl\")\n",
    "include(\"jl/objectives.jl\")"
   ]
  },
  {
   "cell_type": "code",
   "execution_count": 4,
   "metadata": {},
   "outputs": [
    {
     "data": {
      "text/plain": [
       "Ω (generic function with 1 method)"
      ]
     },
     "execution_count": 4,
     "metadata": {},
     "output_type": "execute_result"
    }
   ],
   "source": [
    "n = 20\n",
    "Z = rand(1:5, n)\n",
    "ϑ = dropdims(ones(1,n) + rand(1,n), dims = 1)\n",
    "μ = mean(ϑ)\n",
    "\n",
    "kmax = 4\n",
    "\n",
    "ω(p,α) = 2*10^(-5)*prod(p.^α)^(1/(sum(p)*α))\n",
    "α0 = 1\n",
    "\n",
    "Ω = buildΩ(ω, α0, kmax)"
   ]
  },
  {
   "cell_type": "code",
   "execution_count": 6,
   "metadata": {},
   "outputs": [
    {
     "data": {
      "text/plain": [
       "hypergraph\n",
       "  N: Array{Int64}((20,)) [1, 2, 3, 4, 5, 6, 7, 8, 9, 10, 11, 12, 13, 14, 15, 16, 17, 18, 19, 20]\n",
       "  E: Dict{Int64,Dict}\n",
       "  D: Array{Int64}((20,)) [4, 4, 4, 1, 5, 3, 0, 1, 2, 2, 5, 4, 2, 4, 3, 4, 0, 2, 1, 5]\n"
      ]
     },
     "execution_count": 6,
     "metadata": {},
     "output_type": "execute_result"
    }
   ],
   "source": [
    "H = sampleSBM(Z, ϑ, Ω;α=α0, kmax=kmax, kmin = 1)"
   ]
  },
  {
   "cell_type": "code",
   "execution_count": 7,
   "metadata": {},
   "outputs": [
    {
     "data": {
      "text/plain": [
       "2.828427124746191e-5"
      ]
     },
     "execution_count": 7,
     "metadata": {},
     "output_type": "execute_result"
    }
   ],
   "source": [
    "z = [3, 3, 3, 3]\n",
    "Ω(z; α = α0, mode=\"group\")"
   ]
  },
  {
   "cell_type": "code",
   "execution_count": 8,
   "metadata": {},
   "outputs": [
    {
     "name": "stdout",
     "output_type": "stream",
     "text": [
      "The realized hypergraph has 14 edges.\n",
      "The log-likelihood of the true partition is -114.776.\n",
      "The log-likelihood of the fake partition is -114.535.\n",
      "The log-likelihood of the singleton partition is -113.381.\n"
     ]
    }
   ],
   "source": [
    "Z_ = rand(1:5, n) # a random partition\n",
    "Z__ = [i for i in 1:n]\n",
    "\n",
    "println(\"The realized hypergraph has $(countEdges(H)) edges.\")\n",
    "\n",
    "println(\"The log-likelihood of the true partition is $(round(logLikelihood(H, Z,  Ω, ϑ;α=α0),digits=3)).\")\n",
    "println(\"The log-likelihood of the fake partition is $(round(logLikelihood(H, Z_, Ω, ϑ;α=α0),digits=3)).\")\n",
    "println(\"The log-likelihood of the singleton partition is $(round(logLikelihood(H, Z__, Ω, ϑ;α=α0),digits=3)).\")"
   ]
  },
  {
   "cell_type": "code",
   "execution_count": null,
   "metadata": {},
   "outputs": [],
   "source": []
  }
 ],
 "metadata": {
  "kernelspec": {
   "display_name": "Julia 1.4.2",
   "language": "julia",
   "name": "julia-1.4"
  },
  "language_info": {
   "file_extension": ".jl",
   "mimetype": "application/julia",
   "name": "julia",
   "version": "1.4.2"
  }
 },
 "nbformat": 4,
 "nbformat_minor": 4
}
