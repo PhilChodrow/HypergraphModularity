{
 "cells": [
  {
   "cell_type": "code",
   "execution_count": 6,
   "metadata": {},
   "outputs": [
    {
     "name": "stderr",
     "output_type": "stream",
     "text": [
      "\u001b[32m\u001b[1m Activating\u001b[22m\u001b[39m environment at `~/hypergraph_modularities_code/Project.toml`\n"
     ]
    }
   ],
   "source": [
    "using Pkg; Pkg.activate(\".\")\n",
    "using HypergraphModularity\n",
    "\n",
    "# using Optim \n",
    "using Plots\n",
    "using TimerOutputs\n",
    "using StatsBase"
   ]
  },
  {
   "cell_type": "code",
   "execution_count": 18,
   "metadata": {},
   "outputs": [],
   "source": [
    "kmax = 3\n",
    "n = 200\n",
    "Z_ = rand(1:2, n)\n",
    "\n",
    "Z = copy(Z_) \n",
    "\n",
    "ϑ = repeat([1.0], n)\n",
    "\n",
    "α0 = vcat([3.0, 3.0, 50.0], [0.2, 0.7, 0.5])\n",
    "\n",
    "# all-or-nothing cut with dyadic edges always between group\n",
    "function Ω(z; α, mode = \"group\")\n",
    "    k = (mode == \"group\") ? length(z) : sum(z)\n",
    "    if k <= 2\n",
    "        if mode == \"group\"\n",
    "            if length(unique!(z)) == 1\n",
    "                return (10^(-3))^(α[k])\n",
    "            else \n",
    "                return length(unique!(z))^(-α[k])\n",
    "            end\n",
    "        elseif mode == \"partition\"\n",
    "            if length(z) == 1\n",
    "                return (10^(-3))^(α[k])\n",
    "            else \n",
    "                return length(z)^(-α[k])\n",
    "            end\n",
    "        end\n",
    "    else\n",
    "        if mode == \"group\"\n",
    "            return length(unique!(z))^(-α[k]) / n^(α[kmax+k]*k)\n",
    "        elseif mode == \"partition\"\n",
    "            return length(z)^(-α[k]) / n^(α[kmax+k]*k)\n",
    "        end\n",
    "    end\n",
    "end\n",
    "\n",
    "H = sampleSBM(Z, ϑ, Ω;α=α0, kmax=kmax, kmin = 1)\n",
    "H.E[1] = Dict();"
   ]
  },
  {
   "cell_type": "code",
   "execution_count": 19,
   "metadata": {},
   "outputs": [
    {
     "name": "stdout",
     "output_type": "stream",
     "text": [
      "k = 2: 0.0 % of 2182 edges are within a single group.\n",
      "k = 3: 100.0 % of 699 edges are within a single group.\n"
     ]
    }
   ],
   "source": [
    "for k = 2:kmax\n",
    "    p = mean([length(partitionize(Z[e])) == 1 for e in keys(H.E[k])])\n",
    "    println(\"k = $k: $(round(100*p, digits = 0)) % of $(length(keys(H.E[k]))) edges are within a single group.\")\n",
    "end"
   ]
  },
  {
   "cell_type": "code",
   "execution_count": 20,
   "metadata": {},
   "outputs": [
    {
     "data": {
      "text/plain": [
       "(-0.8500000000000014, 9.250945897582582)"
      ]
     },
     "execution_count": 20,
     "metadata": {},
     "output_type": "execute_result"
    }
   ],
   "source": [
    "cᵢ = length(H.E[3])*6/n\n",
    "cₒ = length(H.E[2])*2/n\n",
    "\n",
    "cᵢ - cₒ, sqrt(2*(cᵢ + cₒ))"
   ]
  },
  {
   "cell_type": "markdown",
   "metadata": {},
   "source": [
    "# Dyadic Modularity"
   ]
  },
  {
   "cell_type": "code",
   "execution_count": 21,
   "metadata": {},
   "outputs": [
    {
     "name": "stdout",
     "output_type": "stream",
     "text": [
      "DYADIC\n",
      "iteration   Q (dyadic)     L (dyadic)          Q (polyadic)   γ̂             groups    time (s)  \n",
      "----------------------------------------------------------------------------------------------------\n",
      "true        -0.014         -4507.088           -50826.0       0.944          2         \n",
      "1           0.09           -4326.973           -112914.0      1.176          5         0.038     \n",
      "2           0.082          -4206.565           -99159.0       1.468          12        0.039     \n",
      "3           0.068          -4178.462           -93318.0       1.729          21        0.031     \n",
      "4           0.065          -4150.644           -90281.0       1.897          28        0.028     \n",
      "5           0.061          -4149.006           -88195.0       2.006          34        0.031     \n",
      "6           0.056          -4164.404           -89048.0       2.088          37        0.027     \n",
      "7           0.059          -4155.36            -87825.0       2.062          38        0.027     \n",
      "8           0.057          -4160.822           -88889.0       2.073          36        0.026     \n",
      "9           0.059          -4162.574           -87974.0       2.002          34        0.039     \n",
      "10          0.059          -4161.624           -87615.0       2.003          35        0.036     \n"
     ]
    }
   ],
   "source": [
    "n_rounds = 10\n",
    "\n",
    "vL_D = zero(1.0*(1:(n_rounds+1)))\n",
    "vm_D = zero((1:(n_rounds+1)))\n",
    "vL_H = zero(1.0*(1:(n_rounds+1)))\n",
    "K = collect(0:(n_rounds))\n",
    "\n",
    "γ̂ = .9\n",
    "α̂ = α0\n",
    "\n",
    "timeAlg(expr)= @timed eval(expr)\n",
    "\n",
    "println(\"DYADIC\")\n",
    "\n",
    "print(rpad(\"iteration\", 12))\n",
    "print(rpad(\"Q (dyadic)\", 15))\n",
    "print(rpad(\"L (dyadic)\", 20))\n",
    "print(rpad(\"Q (polyadic)\", 15))\n",
    "print(rpad(\"γ̂\", 15))\n",
    "print(rpad(\"groups\", 10))\n",
    "println(rpad(\"time (s)\", 10))\n",
    "println(rpad(\"\",  100, \"-\"))\n",
    "\n",
    "weighted = false\n",
    "\n",
    "for i=1:1\n",
    "    Ẑ_dyadic = copy(Z_)\n",
    "    print(rpad(\"true\", 12))\n",
    "    γ̂ = computeDyadicResolutionParameter(H, Z_)\n",
    "    Q = dyadicModularity(H, Z_, γ̂;weighted=weighted)\n",
    "    α̂ = coordinateAscent(H, Z_, Ω, α̂; n_iters = 10, amin = -10, amax = 10)\n",
    "    ω_in, ω_out = computeDyadicResolutionParameter(H, Z_; mode=\"ω\", weighted=weighted)\n",
    "    L_D = dyadicLogLikelihood(H, Z_, ω_in, ω_out, weighted)\n",
    "\n",
    "    Q_D = dyadicModularity(H, Z_, γ̂;weighted=weighted)\n",
    "\n",
    "    Q_H = modularity(H, Z_, Ω; α = α̂)\n",
    "\n",
    "    vL_D[1] = L_D\n",
    "    vm_D[1] = length(unique!(Z_))\n",
    "    vL_H[1] = Q_H\n",
    "    \n",
    "    print(rpad(\"$(round(Q_D, digits = 3))\", 15))\n",
    "    print(rpad(\"$(round(L_D, digits = 3))\", 20))\n",
    "    print(rpad(\"$(round(Q_H, digits = 0))\", 15))\n",
    "    print(rpad(\"$(round(γ̂, digits = 3))\", 15))\n",
    "    println(rpad(\"$(length(unique(Ẑ_dyadic)))\", 10))\n",
    "end\n",
    "    \n",
    "\n",
    "for i = 1:n_rounds\n",
    "    out = timeAlg(:(CliqueExpansionModularity(H, γ̂, weighted, true))) # second true adds random scan order\n",
    "    Ẑ_dyadic = out[1]\n",
    "    time = out[2]\n",
    "    \n",
    "    γ̂ = computeDyadicResolutionParameter(H, Ẑ_dyadic)\n",
    "    α̂ = coordinateAscent(H, Ẑ_dyadic, Ω, α̂; n_iters = 10, amin = -10, amax = 10)\n",
    "    \n",
    "    Q_D = dyadicModularity(H, Ẑ_dyadic, γ̂; weighted=weighted)\n",
    "    \n",
    "    ω_in, ω_out = computeDyadicResolutionParameter(H, Ẑ_dyadic; mode=\"ω\", weighted=weighted)\n",
    "    L_D = dyadicLogLikelihood(H, Ẑ_dyadic, ω_in, ω_out, weighted)\n",
    "    \n",
    "    Q_H = modularity(H, Ẑ_dyadic, Ω; α = α̂)\n",
    "    \n",
    "    print(rpad(\"$i\", 12))\n",
    "    print(rpad(\"$(round(Q_D, digits = 3))\", 15))\n",
    "    print(rpad(\"$(round(L_D, digits = 3))\", 20))\n",
    "    print(rpad(\"$(round(Q_H, digits = 0))\", 15))\n",
    "    print(rpad(\"$(round(γ̂, digits = 3))\", 15))\n",
    "    print(rpad(\"$(length(unique(Ẑ_dyadic)))\", 10))\n",
    "    println(rpad(\"$(round(time; digits=3))\", 10))\n",
    "    \n",
    "    vL_D[i+1] = L_D\n",
    "    vm_D[i+1] = length(unique!(Ẑ_dyadic))\n",
    "    vL_H[i+1] = Q_H\n",
    "    \n",
    "end"
   ]
  },
  {
   "cell_type": "markdown",
   "metadata": {},
   "source": [
    "# Polyadic Modularity"
   ]
  },
  {
   "cell_type": "code",
   "execution_count": 22,
   "metadata": {},
   "outputs": [
    {
     "name": "stdout",
     "output_type": "stream",
     "text": [
      "POLYADIC\n",
      "iteration           Q              groups    time (s)  \n",
      "-----------------------------------------------------------------\n",
      "1                   -77199.0       38        2.609     \n",
      "2                   -61360.0       4         0.502     \n",
      "3                   -50826.0       2         0.299     \n",
      "4                   -50826.0       2         0.353     \n",
      "5                   -50826.0       2         0.334     \n",
      "6                   -50826.0       2         0.32      \n",
      "7                   -50826.0       2         0.335     \n",
      "8                   -50826.0       2         0.305     \n",
      "9                   -50826.0       2         0.292     \n",
      "10                  -50826.0       2         0.306     \n"
     ]
    }
   ],
   "source": [
    "α0 = vcat([3.0, 0.02, 20.0], [0.2, 0.7, 0.5])\n",
    "\n",
    "α̂  = α0\n",
    "\n",
    "vL_H_ = zero(1.0*(1:(n_rounds)))\n",
    "vm_H_ = zero((1:(n_rounds)))\n",
    "\n",
    "println(\"POLYADIC\")\n",
    "\n",
    "print(rpad(\"iteration\", 20))\n",
    "print(rpad(\"Q\", 15))\n",
    "print(rpad(\"groups\", 10))\n",
    "println(rpad(\"time (s)\", 10))\n",
    "println(rpad(\"\",  65, \"-\"))\n",
    "\n",
    "Ẑ = zero(Z)\n",
    "\n",
    "# α̂ = coordinateAscent(H, Z, Ω, α̂; n_iters = 10, amin = -10, amax = 10)\n",
    "# vL_H[1] = modularity(H, Z, Ω; α = α̂)\n",
    "# vm_H[1] = 2\n",
    "\n",
    "for i = 1:n_rounds\n",
    "    out = timeAlg(:(SuperNodeLouvain(H,kmax,Ω;α=α̂, verbose=false, scan_order =\"random\")))\n",
    "    Ẑ = out[1]\n",
    "    time = out[2]\n",
    "    \n",
    "    \n",
    "    α̂ = coordinateAscent(H, Ẑ, Ω, α̂; n_iters = 10, amin = -10, amax = 10)\n",
    "    Q = modularity(H, Ẑ, Ω; α = α̂)\n",
    "    \n",
    "    print(rpad(\"$i\", 20))\n",
    "    print(rpad(\"$(round(Q, digits = 0))\", 15))\n",
    "    print(rpad(\"$(length(unique(Ẑ)))\", 10))\n",
    "    println(rpad(\"$(round(time; digits=3))\", 10))\n",
    "    \n",
    "    vL_H_[i] = Q\n",
    "    vm_H_[i] = length(unique(Ẑ))\n",
    "end"
   ]
  },
  {
   "cell_type": "markdown",
   "metadata": {},
   "source": [
    "# Figures (trying RCall)"
   ]
  },
  {
   "cell_type": "code",
   "execution_count": 23,
   "metadata": {},
   "outputs": [
    {
     "data": {
      "text/plain": [
       "RObject{StrSxp}\n",
       " [1] \"forcats\"   \"stringr\"   \"dplyr\"     \"purrr\"     \"readr\"     \"tidyr\"    \n",
       " [7] \"tibble\"    \"ggplot2\"   \"tidyverse\" \"stats\"     \"graphics\"  \"grDevices\"\n",
       "[13] \"utils\"     \"datasets\"  \"methods\"   \"base\"     \n"
      ]
     },
     "execution_count": 23,
     "metadata": {},
     "output_type": "execute_result"
    }
   ],
   "source": [
    "using RCall\n",
    "RCall.rcall_p(:options, rcalljl_options=Dict(:width => 800, :height => 250))\n",
    "R\"\"\"\n",
    "library(tidyverse)\n",
    "\"\"\""
   ]
  },
  {
   "cell_type": "code",
   "execution_count": 24,
   "metadata": {},
   "outputs": [
    {
     "data": {
      "image/png": "[encoded data removed]"
     },
     "metadata": {},
     "output_type": "display_data"
    },
    {
     "data": {
      "text/plain": [
       "RObject{VecSxp}\n"
      ]
     },
     "execution_count": 24,
     "metadata": {},
     "output_type": "execute_result"
    }
   ],
   "source": [
    "R\"\"\"\n",
    "df_dyadic <- tibble(L_D = $vL_D,  L_H = $vL_H, m = $vm_D, K = $K, Algorithm = \"Graph Louvain\")\n",
    "df_polyadic <- tibble(L_D = NA,  L_H = $vL_H_, m = $vm_H_, K = $(1:n_rounds), Algorithm = \"Hypergraph Louvain\")\n",
    "\n",
    "df <- rbind(df_dyadic, df_polyadic)\n",
    "\n",
    "df <- df %>% \n",
    "    pivot_longer(L_D:m, names_to = \"metric\") %>% \n",
    "    mutate(panel = case_when(\n",
    "            (metric == \"L_D\")&(Algorithm==\"Graph Louvain\")   ~ 1,\n",
    "            (metric == \"L_H\")&((Algorithm==\"Hypergraph Louvain\") | (K == 0) ) ~ 2,\n",
    "            (metric == \"m\") ~ 3\n",
    "            )) %>% \n",
    "    filter(!is.na(panel))\n",
    "\n",
    "true_df <- df %>%\n",
    "    filter(K == 0)\n",
    "\n",
    "alg_df <- df %>%\n",
    "    filter(K > 0)\n",
    "\n",
    "panel_names <- c(\"1\" = \"(a) Graph Likelihood\", \"2\" = \"(b) Hypergraph Likelihood\", \"3\" = \"(c) Number of Groups\")\n",
    "\n",
    "fancy_scientific <- function(l) {\n",
    "     if(max(nchar(l), na.rm = T) < 3){return(l)}\n",
    "     return(scales::label_scientific(l)(l))\n",
    "}\n",
    "\n",
    "alg_df %>% \n",
    "    ggplot() + \n",
    "    aes(x = K, y = value, fill = Algorithm) + \n",
    "    facet_wrap(~panel, scales = \"free_y\", labeller = as_labeller(panel_names)) + \n",
    "    geom_hline(aes(yintercept = value), data = true_df, color = \"darkgrey\", size = 1) + \n",
    "    geom_point(size = 3, pch = 21, color = \"black\") + \n",
    "    theme_bw() + \n",
    "    theme(strip.background = element_blank(),\n",
    "          panel.border = element_blank(),\n",
    "          axis.line = element_line(color = 'darkgrey'),\n",
    "          panel.grid.minor = element_blank(),\n",
    "          axis.title.y = element_blank(),\n",
    "          legend.position=\"bottom\") + \n",
    "    scale_x_continuous(breaks = 1:10, labels = 1:10) +\n",
    "    scale_y_continuous(labels=fancy_scientific) + \n",
    "    scale_fill_brewer(palette = \"Set2\") +\n",
    "    xlab(\"Iteration Number\")\n",
    "\"\"\""
   ]
  }
 ],
 "metadata": {
  "kernelspec": {
   "display_name": "Julia 1.4.2",
   "language": "julia",
   "name": "julia-1.4"
  },
  "language_info": {
   "file_extension": ".jl",
   "mimetype": "application/julia",
   "name": "julia",
   "version": "1.4.2"
  }
 },
 "nbformat": 4,
 "nbformat_minor": 4
}
