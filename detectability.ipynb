{
 "cells": [
  {
   "cell_type": "code",
   "execution_count": 2,
   "metadata": {},
   "outputs": [
    {
     "name": "stderr",
     "output_type": "stream",
     "text": [
      "\u001b[32m\u001b[1m Activating\u001b[22m\u001b[39m environment at `~/hypergraph_modularities_code/Project.toml`\n"
     ]
    }
   ],
   "source": [
    "using Pkg; Pkg.activate(\".\")\n",
    "using HypergraphModularity\n",
    "\n",
    "# using Optim \n",
    "using Plots\n",
    "using TimerOutputs\n",
    "using StatsBase"
   ]
  },
  {
   "cell_type": "code",
   "execution_count": 190,
   "metadata": {},
   "outputs": [],
   "source": [
    "kmax = 3\n",
    "n = 100\n",
    "Z = rand(1:2, n)\n",
    "ϑ = dropdims(ones(1,n) + rand(1,n), dims = 1)\n",
    "\n",
    "α0 = vcat([3.0, 3.0, 10.0], [0.2, 0.7, 0.5])\n",
    "\n",
    "function ω(p, α)\n",
    "    k = sum(p)\n",
    "    return sum(p)/sum((p .* (1:length(p)).^α[k])) / n^(α[kmax+k]*k)\n",
    "end\n",
    "\n",
    "function ω₃(p, α)\n",
    "    k = sum(p)\n",
    "    return (length(p))^(-α[k])/n^(α[kmax+k]*k)\n",
    "end\n",
    "\n",
    "Ω₁ = buildΩ(ω, α0, kmax)\n",
    "Ω₃ = buildΩ(ω₃, α0, kmax)\n",
    "\n",
    "# all-or-nothing cut with dyadic edges always between group\n",
    "function Ω₂(z; α, mode = \"group\")\n",
    "    k = (mode == \"group\") ? length(z) : sum(z)\n",
    "    \n",
    "    if k <= 2\n",
    "        if mode == \"group\"\n",
    "            if length(unique!(z)) == 1\n",
    "                return (10^(-3))^(α[k])\n",
    "            else \n",
    "                return length(unique!(z))^(-α[k])\n",
    "            end\n",
    "        elseif mode == \"partition\"\n",
    "            if length(z) == 1\n",
    "                return (10^(-3))^(α[k])\n",
    "            else \n",
    "                return length(z)^(-α[k])\n",
    "            end\n",
    "        end\n",
    "    else\n",
    "        if mode == \"group\"\n",
    "            return length(unique!(z))^(-α[k]) / n^(α[kmax+k]*k)\n",
    "        elseif mode == \"partition\"\n",
    "            return length(z)^(-α[k]) / n^(α[kmax+k]*k)\n",
    "        end\n",
    "    end\n",
    "end\n",
    "\n",
    "Ω = Ω₂\n",
    "\n",
    "H = sampleSBM(Z, ϑ, Ω;α=α0, kmax=kmax, kmin = 1)\n",
    "H.E[1] = Dict();"
   ]
  },
  {
   "cell_type": "code",
   "execution_count": 191,
   "metadata": {},
   "outputs": [
    {
     "name": "stdout",
     "output_type": "stream",
     "text": [
      "k = 2: 0.0 % of 1072 edges are within a single group.\n",
      "k = 3: 100.0 % of 844 edges are within a single group.\n"
     ]
    }
   ],
   "source": [
    "for k = 2:kmax\n",
    "    p = mean([length(partitionize(Z[e])) == 1 for e in keys(H.E[k])])\n",
    "    println(\"k = $k: $(round(100*p, digits = 0)) % of $(length(keys(H.E[k]))) edges are within a single group.\")\n",
    "end"
   ]
  },
  {
   "cell_type": "code",
   "execution_count": 199,
   "metadata": {},
   "outputs": [
    {
     "data": {
      "text/plain": [
       "(6.16, 7.429670248402684)"
      ]
     },
     "execution_count": 199,
     "metadata": {},
     "output_type": "execute_result"
    }
   ],
   "source": [
    "(844*2 - 1072)/n, sqrt(2*((844*2 + 1072)/n))  "
   ]
  },
  {
   "cell_type": "markdown",
   "metadata": {},
   "source": [
    "# Dyadic Modularity"
   ]
  },
  {
   "cell_type": "code",
   "execution_count": 192,
   "metadata": {},
   "outputs": [
    {
     "name": "stdout",
     "output_type": "stream",
     "text": [
      "DYADIC\n",
      "iteration   Q (dyadic)     L (dyadic)          Q (polyadic)   γ̂             groups    time (s)  \n",
      "----------------------------------------------------------------------------------------------------\n",
      "true        0.109          -6.326584963e7      -36389.0       0.998          2         \n",
      "1           0.132          -6.3265838187e7     -40833.0       0.999          2         0.008     \n",
      "2           0.127          -6.3265858815e7     -47385.0       1.0            2         0.008     \n",
      "3           0.122          -6.3265840707e7     -46574.0       1.017          4         0.008     \n",
      "4           0.113          -6.3265865496e7     -49582.0       1.022          4         0.008     \n",
      "5           0.124          -6.3265839072e7     -45965.0       1.012          4         0.01      \n",
      "6           0.134          -6.3265827361e7     -45471.0       1.0            2         0.008     \n",
      "7           0.13           -6.3265847387e7     -45560.0       0.999          3         0.022     \n",
      "8           0.128          -6.3265846536e7     -44357.0       1.003          3         0.009     \n",
      "9           0.13           -6.3265844914e7     -46527.0       1.0            3         0.012     \n",
      "10          0.123          -6.3265854061e7     -52105.0       1.01           3         0.02      \n",
      "11          0.13           -6.3265819681e7     -46277.0       1.011          3         0.01      \n",
      "12          0.123          -6.3265860726e7     -53193.0       1.008          3         0.01      \n",
      "13          0.122          -6.3265850267e7     -50628.0       1.015          3         0.01      \n",
      "14          0.124          -6.3265859672e7     -48039.0       1.004          3         0.008     \n",
      "15          0.123          -6.3265856468e7     -48960.0       1.009          4         0.008     \n",
      "16          0.122          -6.3265858908e7     -49828.0       1.009          3         0.008     \n",
      "17          0.132          -6.3265835864e7     -46661.0       1.001          3         0.011     \n",
      "18          0.13           -6.3265845875e7     -47857.0       1.0            3         0.007     \n",
      "19          0.131          -6.3265838234e7     -48684.0       1.0            2         0.01      \n",
      "20          0.124          -6.3265852477e7     -48170.0       1.008          3         0.02      \n"
     ]
    }
   ],
   "source": [
    "γ̂ = .9\n",
    "α̂ = α0\n",
    "\n",
    "timeAlg(expr)= @timed eval(expr)\n",
    "\n",
    "println(\"DYADIC\")\n",
    "\n",
    "print(rpad(\"iteration\", 12))\n",
    "print(rpad(\"Q (dyadic)\", 15))\n",
    "print(rpad(\"L (dyadic)\", 20))\n",
    "print(rpad(\"Q (polyadic)\", 15))\n",
    "print(rpad(\"γ̂\", 15))\n",
    "print(rpad(\"groups\", 10))\n",
    "println(rpad(\"time (s)\", 10))\n",
    "println(rpad(\"\",  100, \"-\"))\n",
    "\n",
    "weighted = false\n",
    "\n",
    "Ẑ_dyadic = copy(Z)\n",
    "\n",
    "print(rpad(\"true\", 12))\n",
    "γ̂ = computeDyadicResolutionParameter(H, Z)\n",
    "Q = dyadicModularity(H, Z, γ̂;weighted=weighted)\n",
    "α̂ = coordinateAscent(H, Z, Ω, α̂; n_iters = 10, amin = -10, amax = 10)\n",
    "ω_in, ω_out = computeDyadicResolutionParameter(H, Z; mode=\"ω\", weighted=weighted)\n",
    "L_D = dyadicLogLikelihood(H, Z, ω_in, ω_out, weighted=weighted)\n",
    "\n",
    "Q_H = modularity(H, Z, Ω; α = α̂)\n",
    "\n",
    "print(rpad(\"$(round(Q_D, digits = 3))\", 15))\n",
    "print(rpad(\"$(round(L_D, digits = 3))\", 20))\n",
    "print(rpad(\"$(round(Q_H, digits = 0))\", 15))\n",
    "print(rpad(\"$(round(γ̂, digits = 3))\", 15))\n",
    "println(rpad(\"$(length(unique(Ẑ_dyadic)))\", 10))\n",
    "\n",
    "for i = 1:20\n",
    "    out = timeAlg(:(CliqueExpansionModularity(H, γ̂, weighted, true))) # second true adds random scan order\n",
    "    Ẑ_dyadic = out[1]\n",
    "    time = out[2]\n",
    "    \n",
    "    γ̂ = computeDyadicResolutionParameter(H, Ẑ_dyadic)\n",
    "    α̂ = coordinateAscent(H, Ẑ_dyadic, Ω, α̂; n_iters = 10, amin = -10, amax = 10)\n",
    "    \n",
    "    Q_D = dyadicModularity(H, Ẑ_dyadic, γ̂;weighted=weighted)\n",
    "    \n",
    "    ω_in, ω_out = computeDyadicResolutionParameter(H, Ẑ_dyadic; mode=\"ω\", weighted=weighted)\n",
    "    L_D = dyadicLogLikelihood(H, Ẑ_dyadic, ω_in, ω_out, weighted=weighted)\n",
    "    \n",
    "    Q_H = modularity(H, Ẑ_dyadic, Ω; α = α̂)\n",
    "    \n",
    "    print(rpad(\"$i\", 12))\n",
    "    print(rpad(\"$(round(Q_D, digits = 3))\", 15))\n",
    "    print(rpad(\"$(round(L_D, digits = 3))\", 20))\n",
    "    print(rpad(\"$(round(Q_H, digits = 0))\", 15))\n",
    "    print(rpad(\"$(round(γ̂, digits = 3))\", 15))\n",
    "    print(rpad(\"$(length(unique(Ẑ_dyadic)))\", 10))\n",
    "    println(rpad(\"$(round(time; digits=3))\", 10))\n",
    "    \n",
    "end"
   ]
  },
  {
   "cell_type": "markdown",
   "metadata": {},
   "source": [
    "# Polyadic Modularity"
   ]
  },
  {
   "cell_type": "code",
   "execution_count": 193,
   "metadata": {},
   "outputs": [
    {
     "name": "stdout",
     "output_type": "stream",
     "text": [
      "POLYADIC\n",
      "iteration           Q              groups    time (s)  \n",
      "-----------------------------------------------------------------\n",
      "1                   -48105.0       86        1.938     \n",
      "2                   -47309.0       32        1.244     \n",
      "3                   -44184.0       6         0.476     \n",
      "4                   -36389.0       2         0.24      \n",
      "5                   -36389.0       2         0.24      \n",
      "6                   -36389.0       2         0.248     \n",
      "7                   -36389.0       2         0.233     \n",
      "8                   -36389.0       2         0.249     \n",
      "9                   -36389.0       2         0.216     \n",
      "10                  -36389.0       2         0.226     \n",
      "11                  -36389.0       2         0.256     \n",
      "12                  -36389.0       2         0.218     \n",
      "13                  -36389.0       2         0.226     \n",
      "14                  -36389.0       2         0.228     \n",
      "15                  -36389.0       2         0.223     \n",
      "16                  -36389.0       2         0.258     \n",
      "17                  -36389.0       2         0.227     \n",
      "18                  -36389.0       2         0.206     \n",
      "19                  -36389.0       2         0.229     \n",
      "20                  -36389.0       2         0.22      \n"
     ]
    }
   ],
   "source": [
    "α̂ = α0\n",
    "\n",
    "println(\"POLYADIC\")\n",
    "\n",
    "print(rpad(\"iteration\", 20))\n",
    "print(rpad(\"Q\", 15))\n",
    "print(rpad(\"groups\", 10))\n",
    "println(rpad(\"time (s)\", 10))\n",
    "println(rpad(\"\",  65, \"-\"))\n",
    "\n",
    "Ẑ = zero(Z)\n",
    "\n",
    "for i = 1:20\n",
    "    out = timeAlg(:(SuperNodeLouvain(H,kmax,Ω;α=α̂, verbose=false, scan_order =\"random\")))\n",
    "    Ẑ = out[1]\n",
    "    time = out[2]\n",
    "    \n",
    "    \n",
    "    α̂ = coordinateAscent(H, Ẑ, Ω, α̂; n_iters = 10, amin = -10, amax = 10)\n",
    "    Q = modularity(H, Ẑ, Ω; α = α̂)\n",
    "    \n",
    "    print(rpad(\"$i\", 20))\n",
    "    print(rpad(\"$(round(Q, digits = 0))\", 15))\n",
    "    print(rpad(\"$(length(unique(Ẑ)))\", 10))\n",
    "    println(rpad(\"$(round(time; digits=3))\", 10))\n",
    "end"
   ]
  },
  {
   "cell_type": "markdown",
   "metadata": {},
   "source": [
    "# Figures (trying RCall)"
   ]
  },
  {
   "cell_type": "code",
   "execution_count": 27,
   "metadata": {},
   "outputs": [
    {
     "name": "stderr",
     "output_type": "stream",
     "text": [
      "┌ Warning: RCall.jl: ── Attaching packages ─────────────────────────────────────── tidyverse 1.3.0 ──\n",
      "│ ✔ ggplot2 3.3.2     ✔ purrr   0.3.4\n",
      "│ ✔ tibble  3.0.3     ✔ dplyr   1.0.0\n",
      "│ ✔ tidyr   1.1.0     ✔ stringr 1.4.0\n",
      "│ ✔ readr   1.3.1     ✔ forcats 0.5.0\n",
      "│ ── Conflicts ────────────────────────────────────────── tidyverse_conflicts() ──\n",
      "│ ✖ dplyr::filter() masks stats::filter()\n",
      "│ ✖ dplyr::lag()    masks stats::lag()\n",
      "└ @ RCall /home/phil/.julia/packages/RCall/Qzssx/src/io.jl:160\n"
     ]
    },
    {
     "data": {
      "text/plain": [
       "RObject{StrSxp}\n",
       " [1] \"forcats\"   \"stringr\"   \"dplyr\"     \"purrr\"     \"readr\"     \"tidyr\"    \n",
       " [7] \"tibble\"    \"ggplot2\"   \"tidyverse\" \"stats\"     \"graphics\"  \"grDevices\"\n",
       "[13] \"utils\"     \"datasets\"  \"methods\"   \"base\"     \n"
      ]
     },
     "execution_count": 27,
     "metadata": {},
     "output_type": "execute_result"
    }
   ],
   "source": [
    "using RCall\n",
    "RCall.rcall_p(:options, rcalljl_options=Dict(:width => 600, :height => 300))\n",
    "R\"\"\"\n",
    "library(tidyverse)\n",
    "\"\"\""
   ]
  }
 ],
 "metadata": {
  "kernelspec": {
   "display_name": "Julia 1.4.2",
   "language": "julia",
   "name": "julia-1.4"
  },
  "language_info": {
   "file_extension": ".jl",
   "mimetype": "application/julia",
   "name": "julia",
   "version": "1.4.2"
  }
 },
 "nbformat": 4,
 "nbformat_minor": 4
}
