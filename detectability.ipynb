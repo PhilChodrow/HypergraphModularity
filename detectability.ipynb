{
 "cells": [
  {
   "cell_type": "code",
   "execution_count": 79,
   "metadata": {},
   "outputs": [
    {
     "name": "stderr",
     "output_type": "stream",
     "text": [
      "\u001b[32m\u001b[1m Activating\u001b[22m\u001b[39m environment at `~/hypergraph_modularities_code/Project.toml`\n"
     ]
    }
   ],
   "source": [
    "using Pkg; Pkg.activate(\".\")\n",
    "using HypergraphModularity\n",
    "\n",
    "# using Optim \n",
    "using Plots\n",
    "using TimerOutputs\n",
    "using StatsBase"
   ]
  },
  {
   "cell_type": "code",
   "execution_count": 88,
   "metadata": {},
   "outputs": [
    {
     "data": {
      "text/plain": [
       "hypergraph\n",
       "  N: Array{Int64}((100,)) [1, 2, 3, 4, 5, 6, 7, 8, 9, 10  …  91, 92, 93, 94, 95, 96, 97, 98, 99, 100]\n",
       "  E: Dict{Int64,Dict}\n",
       "  D: Array{Int64}((100,)) [87, 55, 70, 65, 63, 86, 79, 88, 47, 35  …  84, 67, 68, 81, 74, 61, 61, 57, 80, 85]\n"
      ]
     },
     "execution_count": 88,
     "metadata": {},
     "output_type": "execute_result"
    }
   ],
   "source": [
    "kmax = 3\n",
    "n = 100\n",
    "Z = rand(1:5, n)\n",
    "ϑ = dropdims(ones(1,n) + rand(1,n), dims = 1)\n",
    "\n",
    "α0 = vcat([3.0, -3.0, 10.0], [0.2, 0.4, 0.4])\n",
    "\n",
    "function ω(p, α)\n",
    "    k = sum(p)\n",
    "    return sum(p)/sum((p .* (1:length(p)).^α[k])) / n^(α[kmax+k]*k)\n",
    "end\n",
    "\n",
    "function ω₃(p, α)\n",
    "    k = sum(p)\n",
    "    return (length(p))^(-α[k])/n^(α[kmax+k]*k)\n",
    "end\n",
    "\n",
    "Ω₁ = buildΩ(ω, α0, kmax)\n",
    "Ω₃ = buildΩ(ω₃, α0, kmax)\n",
    "\n",
    "# all-or-nothing cut\n",
    "function Ω₂(z; α, mode = \"group\")\n",
    "    k = (mode == \"group\") ? length(z) : sum(z)\n",
    "        \n",
    "    if mode == \"group\"\n",
    "        return length(unique!(z))^(-α[k]) / n^(α[kmax+k]*k)\n",
    "    elseif mode == \"partition\"\n",
    "        return length(z)^(-α[k]) / n^(α[kmax+k]*k)\n",
    "    end\n",
    "end\n",
    "\n",
    "Ω = Ω₂\n",
    "\n",
    "H = sampleSBM(Z, ϑ, Ω;α=α0, kmax=kmax, kmin = 1)"
   ]
  },
  {
   "cell_type": "code",
   "execution_count": 89,
   "metadata": {},
   "outputs": [
    {
     "name": "stdout",
     "output_type": "stream",
     "text": [
      "k = 1: 100.0 % of 51 edges are within a single group.\n",
      "k = 2: 5.0 % of 2418 edges are within a single group.\n",
      "k = 3: 99.0 % of 642 edges are within a single group.\n"
     ]
    }
   ],
   "source": [
    "for k = 1:kmax\n",
    "    p = mean([length(partitionize(Z[e])) == 1 for e in keys(H.E[k])])\n",
    "    println(\"k = $k: $(round(100*p, digits = 0)) % of $(length(keys(H.E[k]))) edges are within a single group.\")\n",
    "end"
   ]
  },
  {
   "cell_type": "markdown",
   "metadata": {},
   "source": [
    "# Dyadic Modularity"
   ]
  },
  {
   "cell_type": "code",
   "execution_count": 90,
   "metadata": {},
   "outputs": [
    {
     "name": "stdout",
     "output_type": "stream",
     "text": [
      "DYADIC\n",
      "iteration   Q (dyadic)     L (dyadic)          Q (polyadic)   γ̂             groups    time (s)  \n",
      "----------------------------------------------------------------------------------------------------\n",
      "1           0.0            NaN                 -52867.0       0.0            100       0.007     \n",
      "2           NaN            -1.238769e8         -52516.0       NaN            1         0.005     \n",
      "3           0.0            NaN                 -52505.0       0.0            100       0.004     \n",
      "4           NaN            -1.238769e8         -52516.0       NaN            1         0.004     \n",
      "5           0.0            NaN                 -52505.0       0.0            100       0.004     \n",
      "6           NaN            -1.238769e8         -52516.0       NaN            1         0.004     \n",
      "7           0.0            NaN                 -52505.0       0.0            100       0.004     \n",
      "8           NaN            -1.238769e8         -52516.0       NaN            1         0.004     \n",
      "9           0.0            NaN                 -52505.0       0.0            100       0.004     \n",
      "10          NaN            -1.238769e8         -52516.0       NaN            1         0.004     \n"
     ]
    }
   ],
   "source": [
    "γ̂ = 10.0\n",
    "α̂ = α0\n",
    "\n",
    "timeAlg(expr)= @timed eval(expr)\n",
    "\n",
    "println(\"DYADIC\")\n",
    "\n",
    "print(rpad(\"iteration\", 12))\n",
    "print(rpad(\"Q (dyadic)\", 15))\n",
    "print(rpad(\"L (dyadic)\", 20))\n",
    "print(rpad(\"Q (polyadic)\", 15))\n",
    "print(rpad(\"γ̂\", 15))\n",
    "print(rpad(\"groups\", 10))\n",
    "println(rpad(\"time (s)\", 10))\n",
    "println(rpad(\"\",  100, \"-\"))\n",
    "\n",
    "weighted = false\n",
    "\n",
    "Ẑ_dyadic = zero(Z)\n",
    "\n",
    "for i = 1:10\n",
    "    out = timeAlg(:(CliqueExpansionModularity(H, γ̂, weighted, true))) # second true adds random scan order\n",
    "    Ẑ_dyadic = out[1]\n",
    "    time = out[2]\n",
    "    \n",
    "    γ̂ = computeDyadicResolutionParameter(H, Ẑ_dyadic)\n",
    "    α̂ = coordinateAscent(H, Ẑ_dyadic, Ω, α̂; n_iters = 10, amin = -10, amax = 10)\n",
    "    \n",
    "    Q_D = dyadicModularity(H, Ẑ_dyadic, γ̂;weighted=weighted)\n",
    "    \n",
    "    ω_in, ω_out = computeDyadicResolutionParameter(H, Ẑ_dyadic; mode=\"ω\", weighted=weighted)\n",
    "    L_D = dyadicLogLikelihood(H, Ẑ_dyadic, ω_in, ω_out, weighted=weighted)\n",
    "    \n",
    "    Q_H = modularity(H, Ẑ_dyadic, Ω; α = α̂)\n",
    "    \n",
    "    print(rpad(\"$i\", 12))\n",
    "    print(rpad(\"$(round(Q_D, digits = 3))\", 15))\n",
    "    print(rpad(\"$(round(L_D, digits = 3))\", 20))\n",
    "    print(rpad(\"$(round(Q_H, digits = 0))\", 15))\n",
    "    print(rpad(\"$(round(γ̂, digits = 3))\", 15))\n",
    "    print(rpad(\"$(length(unique(Ẑ_dyadic)))\", 10))\n",
    "    println(rpad(\"$(round(time; digits=3))\", 10))\n",
    "    \n",
    "end"
   ]
  },
  {
   "cell_type": "markdown",
   "metadata": {},
   "source": [
    "# Polyadic Modularity"
   ]
  },
  {
   "cell_type": "code",
   "execution_count": 91,
   "metadata": {},
   "outputs": [
    {
     "name": "stdout",
     "output_type": "stream",
     "text": [
      "POLYADIC\n",
      "iteration           Q              groups    time (s)  \n",
      "-----------------------------------------------------------------\n",
      "1                   -52867.0       100       0.623     \n",
      "2                   -52418.0       57        3.734     \n",
      "3                   -52089.0       36        2.696     \n",
      "4                   -51885.0       25        1.819     \n",
      "5                   -51488.0       15        1.402     \n",
      "6                   -50655.0       10        1.01      \n",
      "7                   -50083.0       5         0.513     \n",
      "8                   -50069.0       5         0.53      \n",
      "9                   -50064.0       5         0.555     \n",
      "10                  -50062.0       5         0.499     \n"
     ]
    }
   ],
   "source": [
    "α̂ = α0\n",
    "\n",
    "println(\"POLYADIC\")\n",
    "\n",
    "print(rpad(\"iteration\", 20))\n",
    "print(rpad(\"Q\", 15))\n",
    "print(rpad(\"groups\", 10))\n",
    "println(rpad(\"time (s)\", 10))\n",
    "println(rpad(\"\",  65, \"-\"))\n",
    "\n",
    "Ẑ = zero(Z)\n",
    "\n",
    "for i = 1:10\n",
    "    out = timeAlg(:(SuperNodeLouvain(H,kmax,Ω;α=α̂, verbose=false, scan_order =\"random\")))\n",
    "    Ẑ = out[1]\n",
    "    time = out[2]\n",
    "    \n",
    "    \n",
    "    α̂ = coordinateAscent(H, Ẑ, Ω, α̂; n_iters = 10, amin = -10, amax = 10)\n",
    "    Q = modularity(H, Ẑ, Ω; α = α̂)\n",
    "    \n",
    "    print(rpad(\"$i\", 20))\n",
    "    print(rpad(\"$(round(Q, digits = 0))\", 15))\n",
    "    print(rpad(\"$(length(unique(Ẑ)))\", 10))\n",
    "    println(rpad(\"$(round(time; digits=3))\", 10))\n",
    "end"
   ]
  },
  {
   "cell_type": "code",
   "execution_count": 78,
   "metadata": {},
   "outputs": [
    {
     "data": {
      "text/plain": [
       "-119375.67132380694"
      ]
     },
     "execution_count": 78,
     "metadata": {},
     "output_type": "execute_result"
    }
   ],
   "source": [
    "ω_in, ω_out = computeDyadicResolutionParameter(H, Ẑ_dyadic; mode=\"ω\", weighted=true)\n",
    "ω_in, ω_out = 0.5*10^(-4), 10^(-6)\n",
    "L_D = dyadicLogLikelihood(H, repeat([1], n), ω_in, ω_out, weighted=weighted)"
   ]
  },
  {
   "cell_type": "markdown",
   "metadata": {},
   "source": [
    "# Figures (trying RCall)"
   ]
  },
  {
   "cell_type": "code",
   "execution_count": 27,
   "metadata": {},
   "outputs": [
    {
     "name": "stderr",
     "output_type": "stream",
     "text": [
      "┌ Warning: RCall.jl: ── Attaching packages ─────────────────────────────────────── tidyverse 1.3.0 ──\n",
      "│ ✔ ggplot2 3.3.2     ✔ purrr   0.3.4\n",
      "│ ✔ tibble  3.0.3     ✔ dplyr   1.0.0\n",
      "│ ✔ tidyr   1.1.0     ✔ stringr 1.4.0\n",
      "│ ✔ readr   1.3.1     ✔ forcats 0.5.0\n",
      "│ ── Conflicts ────────────────────────────────────────── tidyverse_conflicts() ──\n",
      "│ ✖ dplyr::filter() masks stats::filter()\n",
      "│ ✖ dplyr::lag()    masks stats::lag()\n",
      "└ @ RCall /home/phil/.julia/packages/RCall/Qzssx/src/io.jl:160\n"
     ]
    },
    {
     "data": {
      "text/plain": [
       "RObject{StrSxp}\n",
       " [1] \"forcats\"   \"stringr\"   \"dplyr\"     \"purrr\"     \"readr\"     \"tidyr\"    \n",
       " [7] \"tibble\"    \"ggplot2\"   \"tidyverse\" \"stats\"     \"graphics\"  \"grDevices\"\n",
       "[13] \"utils\"     \"datasets\"  \"methods\"   \"base\"     \n"
      ]
     },
     "execution_count": 27,
     "metadata": {},
     "output_type": "execute_result"
    }
   ],
   "source": [
    "using RCall\n",
    "RCall.rcall_p(:options, rcalljl_options=Dict(:width => 600, :height => 300))\n",
    "R\"\"\"\n",
    "library(tidyverse)\n",
    "\"\"\""
   ]
  },
  {
   "cell_type": "code",
   "execution_count": 28,
   "metadata": {},
   "outputs": [
    {
     "name": "stderr",
     "output_type": "stream",
     "text": [
      "┌ Warning: RCall.jl: Parsed with column specification:\n",
      "│ cols(\n",
      "│   X1 = col_character()\n",
      "│ )\n",
      "└ @ RCall /home/phil/.julia/packages/RCall/Qzssx/src/io.jl:160\n",
      "┌ Warning: RCall.jl: `summarise()` regrouping output by 'class', 'method' (override with `.groups` argument)\n",
      "└ @ RCall /home/phil/.julia/packages/RCall/Qzssx/src/io.jl:160\n"
     ]
    }
   ],
   "source": [
    "R\"\"\"\n",
    "df <- tibble(Dyadic = $Ẑ_dyadic, Polyadic = $Ẑ, labels = $Z)\n",
    "\n",
    "labels <- read_csv(\"data/contact-primary-school/label-names-contact-primary-school.txt\",\n",
    "                    col_names = FALSE) %>% \n",
    "          mutate(num = row_number()) %>% \n",
    "          rename(class = X1)\n",
    "\n",
    "labels\n",
    "df <- df %>% \n",
    "    left_join(labels, by = c(\"labels\" = \"num\"))\n",
    "\n",
    "df <- df %>% \n",
    "    select(-labels) %>% \n",
    "    pivot_longer(-class) %>% \n",
    "    rename(method = name) %>% \n",
    "    group_by(method) %>% \n",
    "    group_by(class, method, value) %>% \n",
    "    summarise(n = n()) %>% \n",
    "    ungroup()\n",
    "\"\"\";\n",
    "\n",
    "# Getting there, need to figure out the right way to reorder the labels"
   ]
  },
  {
   "cell_type": "code",
   "execution_count": 29,
   "metadata": {},
   "outputs": [
    {
     "name": "stdout",
     "output_type": "stream",
     "text": [
      "# A tibble: 19 x 4\n",
      "# Groups:   method [2]\n",
      "   method   main_group gr    new_number\n",
      "   <chr>         <int> <lgl>      <int>\n",
      " 1 Dyadic            4 TRUE           1\n",
      " 2 Dyadic            5 TRUE           2\n",
      " 3 Dyadic            9 TRUE           3\n",
      " 4 Dyadic            6 TRUE           4\n",
      " 5 Dyadic            8 TRUE           5\n",
      " 6 Dyadic            3 TRUE           6\n",
      " 7 Dyadic            2 TRUE           7\n",
      " 8 Dyadic            7 TRUE           8\n",
      " 9 Dyadic            1 TRUE           9\n",
      "10 Polyadic          5 TRUE           1\n",
      "11 Polyadic          3 TRUE           2\n",
      "12 Polyadic          8 TRUE           3\n",
      "13 Polyadic         10 TRUE           4\n",
      "14 Polyadic          4 TRUE           5\n",
      "15 Polyadic          1 TRUE           6\n",
      "16 Polyadic          6 TRUE           7\n",
      "17 Polyadic          2 TRUE           8\n",
      "18 Polyadic          7 TRUE           9\n",
      "19 Polyadic          9 TRUE          10\n"
     ]
    },
    {
     "name": "stderr",
     "output_type": "stream",
     "text": [
      "┌ Warning: RCall.jl: `summarise()` regrouping output by 'class' (override with `.groups` argument)\n",
      "└ @ RCall /home/phil/.julia/packages/RCall/Qzssx/src/io.jl:160\n"
     ]
    }
   ],
   "source": [
    "R\"\"\"\n",
    "reorder_df <- df %>% \n",
    "    group_by(class, method) %>% \n",
    "    summarise(main_group = max(value)) %>% \n",
    "    arrange(method, class) %>% \n",
    "    ungroup() %>%\n",
    "    group_by(method) %>% \n",
    "    mutate(gr = (!duplicated(main_group)),\n",
    "           new_number = cumsum(gr)) %>% \n",
    "    select(-class) %>% \n",
    "    filter(gr) %>%\n",
    "    print(n = 22)\n",
    "\"\"\";"
   ]
  },
  {
   "cell_type": "code",
   "execution_count": 30,
   "metadata": {},
   "outputs": [],
   "source": [
    "R\"\"\"\n",
    "df <- df %>% \n",
    "    left_join(reorder_df, by = c(\"method\" = \"method\", \"value\" = \"main_group\"))\n",
    "\"\"\";"
   ]
  },
  {
   "cell_type": "code",
   "execution_count": 31,
   "metadata": {},
   "outputs": [
    {
     "data": {
      "image/png": "[encoded data removed]"
     },
     "metadata": {},
     "output_type": "display_data"
    },
    {
     "data": {
      "text/plain": [
       "RObject{VecSxp}\n"
      ]
     },
     "execution_count": 31,
     "metadata": {},
     "output_type": "execute_result"
    }
   ],
   "source": [
    "R\"\"\"\n",
    "\n",
    "df %>% \n",
    "    ggplot() + \n",
    "    aes(x = new_number, y = class) + \n",
    "    facet_wrap(~method) + \n",
    "    geom_tile(aes(fill = n), color = \"black\") + \n",
    "    theme_bw() + \n",
    "    geom_text(aes(label = n, color = n > 3)) + \n",
    "    scale_color_manual(values = c(\"black\", \"white\")) + \n",
    "    theme(panel.grid.major = element_blank(), \n",
    "          panel.grid.minor = element_blank(), \n",
    "          strip.background = element_blank(),\n",
    "          strip.text = element_text(size = 12),\n",
    "          axis.title.x = element_text(size = 12),\n",
    "          axis.title.y = element_blank(),\n",
    "          axis.text.x = element_text(size = 10),\n",
    "          axis.text.y = element_text(size = 10)) + \n",
    "    guides(color = FALSE, fill = FALSE) + \n",
    "    scale_x_continuous(expand = c(0,0), breaks = 1:10, labels = 1:10) + \n",
    "    scale_y_discrete(expand = c(0,0)) + \n",
    "    xlab(\"Cluster\") + \n",
    "    ylab(\"Class\") + \n",
    "    scale_fill_gradient(low = \"white\", high = \"steelblue\")\n",
    "\"\"\""
   ]
  },
  {
   "cell_type": "code",
   "execution_count": 32,
   "metadata": {},
   "outputs": [],
   "source": [
    "R\"\"\"\n",
    "ggsave(\"fig/contact-primary-school-clustering.png\", width = 6, height = 3, dpi = 200)\n",
    "\"\"\";"
   ]
  }
 ],
 "metadata": {
  "kernelspec": {
   "display_name": "Julia 1.4.2",
   "language": "julia",
   "name": "julia-1.4"
  },
  "language_info": {
   "file_extension": ".jl",
   "mimetype": "application/julia",
   "name": "julia",
   "version": "1.4.2"
  }
 },
 "nbformat": 4,
 "nbformat_minor": 4
}
