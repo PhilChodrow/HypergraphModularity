{
 "cells": [
  {
   "cell_type": "code",
   "execution_count": 1,
   "metadata": {},
   "outputs": [
    {
     "name": "stderr",
     "output_type": "stream",
     "text": [
      "\u001b[32m\u001b[1m Activating\u001b[22m\u001b[39m environment at `~/code/hypergraph_modularities_code/Project.toml`\n"
     ]
    }
   ],
   "source": [
    "using Pkg\n",
    "Pkg.activate(\".\")"
   ]
  },
  {
   "cell_type": "code",
   "execution_count": 2,
   "metadata": {
    "scrolled": true
   },
   "outputs": [
    {
     "name": "stderr",
     "output_type": "stream",
     "text": [
      "┌ Info: Precompiling HypergraphModularity [0c934d27-dd44-49d7-950f-bd4be7819e54]\n",
      "└ @ Base loading.jl:1278\n",
      "┌ Warning: Package HypergraphModularity does not have DelimitedFiles in its dependencies:\n",
      "│ - If you have HypergraphModularity checked out for development and have\n",
      "│   added DelimitedFiles as a dependency but haven't updated your primary\n",
      "│   environment's manifest file, try `Pkg.resolve()`.\n",
      "│ - Otherwise you may need to report an issue with HypergraphModularity\n",
      "└ Loading DelimitedFiles into HypergraphModularity from project dependency, future warnings for HypergraphModularity are suppressed.\n",
      "WARNING: Method definition CliqueExpansionModularity(HypergraphModularity.hypergraph) in module HypergraphModularity at /Users/arb/code/hypergraph_modularities_code/src/graph_louvain.jl:42 overwritten at /Users/arb/code/hypergraph_modularities_code/src/graph_louvain.jl:46.\n",
      "  ** incremental compilation may be fatally broken for this module **\n",
      "\n",
      "WARNING: Method definition CliqueExpansionModularity(HypergraphModularity.hypergraph, Float64) in module HypergraphModularity at /Users/arb/code/hypergraph_modularities_code/src/graph_louvain.jl:42 overwritten at /Users/arb/code/hypergraph_modularities_code/src/graph_louvain.jl:46.\n",
      "  ** incremental compilation may be fatally broken for this module **\n",
      "\n",
      "WARNING: Method definition SuperNode_PPLouvain(HypergraphModularity.hypergraph, HypergraphModularity.IntensityFunction) in module HypergraphModularity at /Users/arb/code/hypergraph_modularities_code/src/AON_hyperlouvain.jl:2 overwritten at /Users/arb/code/hypergraph_modularities_code/src/AON_hyperlouvain.jl:10.\n",
      "  ** incremental compilation may be fatally broken for this module **\n",
      "\n",
      "WARNING: Method definition SuperNode_PPLouvain##kw(Any, typeof(HypergraphModularity.SuperNode_PPLouvain), HypergraphModularity.hypergraph, HypergraphModularity.IntensityFunction) in module HypergraphModularity at /Users/arb/code/hypergraph_modularities_code/src/AON_hyperlouvain.jl:2 overwritten at /Users/arb/code/hypergraph_modularities_code/src/AON_hyperlouvain.jl:10.\n",
      "  ** incremental compilation may be fatally broken for this module **\n",
      "\n"
     ]
    }
   ],
   "source": [
    "using HypergraphModularity"
   ]
  },
  {
   "cell_type": "code",
   "execution_count": 3,
   "metadata": {},
   "outputs": [
    {
     "name": "stdout",
     "output_type": "stream",
     "text": [
      "contact-primary-school-classes & 242 & 12704 & 2--5 & 11 \\\\\n",
      "contact-high-school-classes & 327 & 7818 & 2--5 & 9 \\\\\n",
      "walmart-trips & 88860 & 65979 & 2--25 & 11 \\\\\n",
      "HR-congress-bills & 1494 & 43047 & 2--25 & 2 \\\\\n",
      "SN-congress-bills & 293 & 20006 & 2--25 & 2 \\\\\n",
      "TrivagoClickout & 171495 & 220758 & 3--25 & 160 \\\\\n"
     ]
    }
   ],
   "source": [
    "mink, maxk = 2, 25\n",
    "for dataset in [\"contact-primary-school-classes\", \n",
    "                \"contact-high-school-classes\", \n",
    "                \"walmart-trips\", \n",
    "                \"HR-congress-bills\",\n",
    "                \"SN-congress-bills\",\n",
    "                \"TrivagoClickout\"\n",
    "                ]\n",
    "    H, labels = read_hypergraph_data(dataset, maxk, mink)\n",
    "    hedge_sizes = [sz_edge_key for (sz_edge_key, sz_edge_val) in H.E if length(sz_edge_val) > 0]\n",
    "    min_size = minimum(hedge_sizes)\n",
    "    max_size = maximum(hedge_sizes)\n",
    "    num_nodes = sum(H.D .> 0)\n",
    "    num_hedges = sum([length(sz_edge_val) for (sz_edge_key, sz_edge_val) in H.E])\n",
    "    num_labels = length(unique(labels))\n",
    "    println(\"$(dataset) & $(num_nodes) & $(num_hedges) & $(min_size)--$(max_size) & $(num_labels) \\\\\\\\\")\n",
    "end"
   ]
  },
  {
   "cell_type": "code",
   "execution_count": null,
   "metadata": {},
   "outputs": [],
   "source": []
  }
 ],
 "metadata": {
  "@webio": {
   "lastCommId": null,
   "lastKernelId": null
  },
  "kernelspec": {
   "display_name": "Julia 1.5.1",
   "language": "julia",
   "name": "julia-1.5"
  },
  "language_info": {
   "file_extension": ".jl",
   "mimetype": "application/julia",
   "name": "julia",
   "version": "1.5.1"
  }
 },
 "nbformat": 4,
 "nbformat_minor": 4
}
