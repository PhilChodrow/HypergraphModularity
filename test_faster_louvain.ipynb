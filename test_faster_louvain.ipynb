{
 "cells": [
  {
   "cell_type": "code",
   "execution_count": 8,
   "metadata": {},
   "outputs": [
    {
     "data": {
      "text/plain": [
       "logLikelihood (generic function with 2 methods)"
      ]
     },
     "execution_count": 8,
     "metadata": {},
     "output_type": "execute_result"
    }
   ],
   "source": [
    "using StatsBase\n",
    "using Combinatorics\n",
    "\n",
    "include(\"jl/omega.jl\")\n",
    "include(\"jl/HSBM.jl\")\n",
    "include(\"jl/inference.jl\")\n",
    "include(\"jl/objectives.jl\")\n"
   ]
  },
  {
   "cell_type": "code",
   "execution_count": 3,
   "metadata": {},
   "outputs": [
    {
     "data": {
      "text/plain": [
       "hypergraph\n",
       "  N: Array{Int64}((200,)) [1, 2, 3, 4, 5, 6, 7, 8, 9, 10  …  191, 192, 193, 194, 195, 196, 197, 198, 199, 200]\n",
       "  E: Dict{Int64,Dict}\n",
       "  D: Array{Int64}((200,)) [7, 9, 3, 5, 7, 5, 2, 7, 13, 3  …  8, 11, 7, 9, 3, 9, 7, 10, 5, 2]\n"
      ]
     },
     "execution_count": 3,
     "metadata": {},
     "output_type": "execute_result"
    }
   ],
   "source": [
    "## Generate a graph\n",
    "n = 200\n",
    "Z = rand(1:3, n)\n",
    "ϑ = dropdims(ones(1,n) + rand(1,n), dims = 1)\n",
    "\n",
    "# defining group intensity function Ω\n",
    "μ = mean(ϑ)\n",
    "\n",
    "ω(p,α) = (10 .*μ*sum(p))^(-sum(p))*prod(p.^α)^(1/(sum(p)*α))\n",
    "α0 = 1\n",
    "\n",
    "kmax = 3\n",
    "\n",
    "Ω = buildΩ(ω, α0, kmax)\n",
    "\n",
    "H = sampleSBM(Z, ϑ, Ω; α=α0, kmax=kmax, kmin = 1)"
   ]
  },
  {
   "cell_type": "code",
   "execution_count": 4,
   "metadata": {},
   "outputs": [
    {
     "data": {
      "text/plain": [
       "242"
      ]
     },
     "execution_count": 4,
     "metadata": {},
     "output_type": "execute_result"
    }
   ],
   "source": [
    "## Or, load one of the real world datasets\n",
    "include(\"jl/read_data.jl\")\n",
    "kmax = 4\n",
    "H,labels = read_hypergraph_data(\"congress-bills\",kmax)\n",
    "H,labels = read_hypergraph_data(\"contact-primary-school\",kmax)\n",
    "n = length(labels)"
   ]
  },
  {
   "cell_type": "code",
   "execution_count": 10,
   "metadata": {},
   "outputs": [
    {
     "data": {
      "text/plain": [
       "-214929.2375688453280698179324833138363700801833289531447208500845435369397407044"
      ]
     },
     "execution_count": 10,
     "metadata": {},
     "output_type": "execute_result"
    }
   ],
   "source": [
    "## Warm start using Clique-expansion Louvain\n",
    "include(\"jl/warmstart.jl\")\n",
    "using SparseArrays, LinearAlgebra\n",
    "c_warm = CliqueExpansionModularity(H)\n",
    "Zsing = collect(1:n)\n",
    "Ω = estimateΩEmpirically(H, c_warm)\n",
    "mwarm = modularity(H,c_warm,Ω,α=α0)"
   ]
  },
  {
   "cell_type": "code",
   "execution_count": 17,
   "metadata": {},
   "outputs": [
    {
     "name": "stdout",
     "output_type": "stream",
     "text": [
      "pwd() = \"/Users/nateveldt/GitHubRepos/hypergraph_modularities_code\"\n",
      "Louvain Iteration 1\n",
      "Louvain Iteration 2\n",
      "Louvain Iteration 3\n",
      "Louvain Iteration 4\n",
      "Louvain Iteration 5\n",
      "Louvain Iteration 6\n",
      "  6.661642 seconds (44.91 M allocations: 3.973 GiB, 9.88% gc time)\n",
      "Louvain Iteration 1\n",
      "Louvain Iteration 2\n",
      "Louvain Iteration 3\n",
      "Louvain Iteration 4\n",
      "Louvain Iteration 5\n",
      "Louvain Iteration 6\n",
      "  7.414252 seconds (42.75 M allocations: 4.168 GiB, 9.41% gc time)\n",
      "toc = 0.06824898719787598\n",
      "Louvain Iteration 1\n",
      "Louvain Iteration 2\n",
      "Louvain Iteration 3\n",
      "Louvain Iteration 4\n",
      "Louvain Iteration 5\n",
      "Louvain Iteration 6\n",
      "t1 = 6.689685344696045\n",
      "  7.378747 seconds (42.61 M allocations: 4.216 GiB, 10.16% gc time)\n"
     ]
    },
    {
     "data": {
      "text/plain": [
       "-212723.0258701781403992419598633150354379188758818913392504001145036363062956752"
      ]
     },
     "execution_count": 17,
     "metadata": {},
     "output_type": "execute_result"
    }
   ],
   "source": [
    "## Run Louvain Algorithms\n",
    "include(\"jl/fast_hypergraph_louvain.jl\")\n",
    "@time Zlou = HyperLouvain(H,kmax,Ω;α=α0)\n",
    "@time Zlou0 = HyperLouvain_0(H,kmax,Ω;α=α0) # uses compute_moddiff\n",
    "@time Znew, changed = SuperNodeStep(H,Zsing,kmax,Ω;α=α0)\n",
    "\n",
    "mlou = modularity(H,Zlou,Ω,α=α0)\n",
    "mlou0 = modularity(H,Zlou0,Ω,α=α0)\n",
    "msu = modularity(H,Znew,Ω,α=α0)\n"
   ]
  },
  {
   "cell_type": "code",
   "execution_count": null,
   "metadata": {},
   "outputs": [
    {
     "name": "stdout",
     "output_type": "stream",
     "text": [
      "\n",
      "Louvain Iteration 1\n",
      "Louvain Iteration 2\n",
      "Louvain Iteration 3\n",
      "Louvain Iteration 4\n",
      "Louvain Iteration 5\n",
      "Louvain Iteration 6\n",
      " 13.049563 seconds (109.09 M allocations: 10.466 GiB, 12.82% gc time)\n",
      "\n",
      "Louvain Iteration 1\n",
      "Louvain Iteration 2\n",
      "Louvain Iteration 3\n",
      "Louvain Iteration 4\n",
      "Louvain Iteration 5"
     ]
    }
   ],
   "source": [
    "## Try earlier version\n",
    "include(\"jl/hypergraph_louvain.jl\")\n",
    "@time Zlou = HyperLouvain(H,kmax,Ω;α=α0)\n",
    "@time Znew, changed = SuperNodeStep(H,Zsing,kmax,Ω;α=α0)\n",
    "msup = modularity(H,Znew,Ω,α=α0)\n",
    "mlou = modularity(H,Zlou,Ω,α=α0)"
   ]
  },
  {
   "cell_type": "code",
   "execution_count": null,
   "metadata": {},
   "outputs": [],
   "source": []
  }
 ],
 "metadata": {
  "kernelspec": {
   "display_name": "Julia 1.3.1",
   "language": "julia",
   "name": "julia-1.3"
  },
  "language_info": {
   "file_extension": ".jl",
   "mimetype": "application/julia",
   "name": "julia",
   "version": "1.3.1"
  }
 },
 "nbformat": 4,
 "nbformat_minor": 4
}
