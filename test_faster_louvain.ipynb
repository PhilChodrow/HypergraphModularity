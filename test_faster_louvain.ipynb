{
 "cells": [
  {
   "cell_type": "markdown",
   "metadata": {},
   "source": [
    "PC: The later code blocks in this notebook are broken due to the new package structure. "
   ]
  },
  {
   "cell_type": "code",
   "execution_count": 2,
   "metadata": {},
   "outputs": [
    {
     "name": "stderr",
     "output_type": "stream",
     "text": [
      "\u001b[32m\u001b[1m Activating\u001b[22m\u001b[39m environment at `~/hypergraph_modularities_code/Project.toml`\n"
     ]
    }
   ],
   "source": [
    "using StatsBase\n",
    "using Combinatorics\n",
    "\n",
    "using Pkg; Pkg.activate(\".\")\n",
    "using HypergraphModularity"
   ]
  },
  {
   "cell_type": "code",
   "execution_count": 3,
   "metadata": {},
   "outputs": [
    {
     "data": {
      "text/plain": [
       "hypergraph\n",
       "  N: Array{Int64}((200,)) [1, 2, 3, 4, 5, 6, 7, 8, 9, 10  …  191, 192, 193, 194, 195, 196, 197, 198, 199, 200]\n",
       "  E: Dict{Int64,Dict}\n",
       "  D: Array{Int64}((200,)) [7, 10, 9, 5, 2, 4, 4, 6, 7, 6  …  11, 5, 8, 7, 14, 12, 10, 5, 7, 8]\n"
      ]
     },
     "execution_count": 3,
     "metadata": {},
     "output_type": "execute_result"
    }
   ],
   "source": [
    "## Generate a graph\n",
    "n = 200\n",
    "Z = rand(1:3, n)\n",
    "ϑ = dropdims(ones(1,n) + rand(1,n), dims = 1)\n",
    "\n",
    "# defining group intensity function Ω\n",
    "μ = mean(ϑ)\n",
    "\n",
    "ω(p,α) = (10 .*μ*sum(p))^(-sum(p))*prod(p.^α)^(1/(sum(p)*α))\n",
    "α0 = 1\n",
    "\n",
    "kmax = 3\n",
    "\n",
    "Ω = partitionIntensityFunction(ω, kmax)\n",
    "\n",
    "H = sampleSBM(Z, ϑ, Ω; α=α0, kmax=kmax, kmin = 1)"
   ]
  },
  {
   "cell_type": "code",
   "execution_count": 4,
   "metadata": {},
   "outputs": [
    {
     "data": {
      "text/plain": [
       "242"
      ]
     },
     "execution_count": 4,
     "metadata": {},
     "output_type": "execute_result"
    }
   ],
   "source": [
    "## Or, load one of the real world datasets\n",
    "\n",
    "kmax = 4\n",
    "H,labels = read_hypergraph_data(\"congress-bills\",kmax)\n",
    "H,labels = read_hypergraph_data(\"contact-primary-school-classes\",kmax)\n",
    "n = length(labels)"
   ]
  },
  {
   "cell_type": "code",
   "execution_count": 5,
   "metadata": {},
   "outputs": [
    {
     "data": {
      "text/plain": [
       "-214929.2375688453280698179324833138363700801833289531447208500845435369397407044"
      ]
     },
     "execution_count": 5,
     "metadata": {},
     "output_type": "execute_result"
    }
   ],
   "source": [
    "## Warm start using Clique-expansion Louvain\n",
    "\n",
    "c_warm = CliqueExpansionModularity(H)\n",
    "Zsing = collect(1:n)\n",
    "Ω = estimateΩEmpirically(H, c_warm)\n",
    "mwarm = modularity(H,c_warm,Ω,α=α0)"
   ]
  },
  {
   "cell_type": "code",
   "execution_count": 6,
   "metadata": {},
   "outputs": [
    {
     "name": "stdout",
     "output_type": "stream",
     "text": [
      "Louvain Iteration 1\n",
      "Louvain Iteration 2\n",
      "Louvain Iteration 3\n",
      "Louvain Iteration 4\n",
      "Louvain Iteration 5\n",
      "Louvain Iteration 6\n",
      "  6.702055 seconds (47.91 M allocations: 2.473 GiB, 8.71% gc time)\n"
     ]
    },
    {
     "ename": "UndefVarError",
     "evalue": "UndefVarError: HyperLouvain_0 not defined",
     "output_type": "error",
     "traceback": [
      "UndefVarError: HyperLouvain_0 not defined",
      "",
      "Stacktrace:",
      " [1] macro expansion at ./util.jl:175 [inlined]",
      " [2] top-level scope at ./In[6]:4"
     ]
    }
   ],
   "source": [
    "## Run Louvain Algorithms\n",
    "\n",
    "@time Zlou = HyperLouvain(H,kmax,Ω;α=α0)\n",
    "@time Zlou0 = HyperLouvain_0(H,kmax,Ω;α=α0) # uses compute_moddiff\n",
    "@time Znew, changed = SuperNodeStep(H,Zsing,kmax,Ω;α=α0)\n",
    "\n",
    "mlou = modularity(H,Zlou,Ω,α=α0)\n",
    "mlou0 = modularity(H,Zlou0,Ω,α=α0)\n",
    "msu = modularity(H,Znew,Ω,α=α0)\n"
   ]
  },
  {
   "cell_type": "code",
   "execution_count": null,
   "metadata": {},
   "outputs": [
    {
     "name": "stdout",
     "output_type": "stream",
     "text": [
      "\n",
      "Louvain Iteration 1\n",
      "Louvain Iteration 2\n",
      "Louvain Iteration 3\n",
      "Louvain Iteration 4\n",
      "Louvain Iteration 5\n",
      "Louvain Iteration 6\n",
      " 13.049563 seconds (109.09 M allocations: 10.466 GiB, 12.82% gc time)\n",
      "\n",
      "Louvain Iteration 1\n",
      "Louvain Iteration 2\n",
      "Louvain Iteration 3\n",
      "Louvain Iteration 4\n",
      "Louvain Iteration 5"
     ]
    }
   ],
   "source": [
    "## Try earlier version\n",
    "\n",
    "@time Zlou = HyperLouvain(H,kmax,Ω;α=α0)\n",
    "@time Znew, changed = SuperNodeStep(H,Zsing,kmax,Ω;α=α0)\n",
    "msup = modularity(H,Znew,Ω,α=α0)\n",
    "mlou = modularity(H,Zlou,Ω,α=α0)"
   ]
  },
  {
   "cell_type": "code",
   "execution_count": null,
   "metadata": {},
   "outputs": [],
   "source": []
  }
 ],
 "metadata": {
  "kernelspec": {
   "display_name": "Julia 1.4.2",
   "language": "julia",
   "name": "julia-1.4"
  },
  "language_info": {
   "file_extension": ".jl",
   "mimetype": "application/julia",
   "name": "julia",
   "version": "1.4.2"
  }
 },
 "nbformat": 4,
 "nbformat_minor": 4
}
