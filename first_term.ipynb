{
 "cells": [
  {
   "cell_type": "code",
   "execution_count": 44,
   "metadata": {},
   "outputs": [
    {
     "data": {
      "text/plain": [
       "Ω (generic function with 1 method)"
      ]
     },
     "execution_count": 44,
     "metadata": {},
     "output_type": "execute_result"
    }
   ],
   "source": [
    "using StatsBase\n",
    "using Combinatorics\n",
    "using Plots\n",
    "\n",
    "include(\"jl/omega.jl\")\n",
    "include(\"jl/HSBM.jl\")\n",
    "include(\"jl/cut.jl\")\n",
    "\n",
    "# parameters\n",
    "\n",
    "n = 100\n",
    "Z = rand(1:5, n)\n",
    "ϑ = dropdims(ones(1,n) + rand(1,n), dims = 1)\n",
    "\n",
    "# defining group intensity function Ω\n",
    "μ = mean(ϑ)\n",
    "\n",
    "kmax = 4\n",
    "kmin = 1\n",
    "\n",
    "fk = k->(2.*μ*k)^(-k)\n",
    "fp = harmonicMean\n",
    "\n",
    "Ω_dict = Dict()\n",
    "\n",
    "for k = kmin:kmax, p in partitions(k)\n",
    "    Ω_dict[p] = fk(sum(p))*fp(p)\n",
    "end\n",
    "\n",
    "Ω = buildΩ(Ω_dict; by_size=true)"
   ]
  },
  {
   "cell_type": "code",
   "execution_count": 45,
   "metadata": {},
   "outputs": [
    {
     "data": {
      "text/plain": [
       "14997"
      ]
     },
     "execution_count": 45,
     "metadata": {},
     "output_type": "execute_result"
    }
   ],
   "source": [
    "# sample from the HSBM with these parameters, restricting to hyperedges of size no more than kmax\n",
    "H = sampleSBM(Z, ϑ, Ω; kmax=kmax, kmin = kmin)\n",
    "countEdges(H)"
   ]
  },
  {
   "cell_type": "code",
   "execution_count": 3,
   "metadata": {},
   "outputs": [
    {
     "data": {
      "text/plain": [
       "-80682.35953347036"
      ]
     },
     "execution_count": 3,
     "metadata": {},
     "output_type": "execute_result"
    }
   ],
   "source": [
    "# Create a random clustering with k clusters\n",
    "include(\"jl/cut.jl\")\n",
    "k = 10\n",
    "c = rand(1:k,n)\n",
    "term1 = first_term_eval(H,c,Ω)"
   ]
  },
  {
   "cell_type": "code",
   "execution_count": 4,
   "metadata": {},
   "outputs": [],
   "source": [
    "# PC: broken under the dictionary-defined Ω. Could add these manually if desired, but not sure whether this is a problem or not. \n",
    "\n",
    "# Quick checks on the group evaluation function\n",
    "# p4 = [4,0,0,0]\n",
    "# p3 = [3,1,0,0]\n",
    "# p2 = [2,2,0,0]\n",
    "# p1 = [2,1,1,0]\n",
    "# p0 = [1,1,1,1]\n",
    "# @show Ω(p4;mode=\"partition\"), Ω(p3;mode=\"partition\"),Ω(p2;mode=\"partition\"),Ω(p1;mode=\"partition\"),Ω(p0;mode=\"partition\")\n",
    "# I'm going to think about some group interactions functions where the output is ordered\n",
    "# the same as the way I've ordered here, i.e. Ω(p(i+1) >= Ω(p(i)\n",
    "# Ordering by majorization seems natural for clustering applications\n",
    "\n",
    "# PC: the harmonic mean will give you zeros whenever there is a group without any nodes in it. I'd suggest writing this informal experiment as in the next block: "
   ]
  },
  {
   "cell_type": "code",
   "execution_count": 5,
   "metadata": {},
   "outputs": [
    {
     "name": "stdout",
     "output_type": "stream",
     "text": [
      "[4] 1.1800991682260451e-5\n",
      "[3, 1] 1.0982060201735035e-5\n",
      "[2, 2] 1.1800991682260451e-5\n",
      "[2, 1, 1] 9.923411602051714e-6\n",
      "[1, 1, 1, 1] 8.344561243252407e-6\n"
     ]
    }
   ],
   "source": [
    "# still works because we haven't added zero-padding. \n",
    "\n",
    "for i = 1:4, p in partitions(4, i)\n",
    "    print(p, \" \")\n",
    "    println(Ω(p;mode=\"partition\"))\n",
    "end\n",
    "\n",
    "# an interesting note from this is that the harmonic mean doesn't actually respect the majorization order...."
   ]
  },
  {
   "cell_type": "code",
   "execution_count": 49,
   "metadata": {},
   "outputs": [
    {
     "name": "stdout",
     "output_type": "stream",
     "text": [
      "  0.141174 seconds (374.78 k allocations: 26.201 MiB)\n"
     ]
    },
    {
     "data": {
      "text/plain": [
       "-146854.85601820663"
      ]
     },
     "execution_count": 49,
     "metadata": {},
     "output_type": "execute_result"
    }
   ],
   "source": [
    "@time T1 = first_term_eval(H,c,Ω)"
   ]
  },
  {
   "cell_type": "code",
   "execution_count": 48,
   "metadata": {},
   "outputs": [
    {
     "name": "stdout",
     "output_type": "stream",
     "text": [
      "  0.005921 seconds (29.00 k allocations: 1.211 MiB)\n",
      "  0.074355 seconds (299.94 k allocations: 23.954 MiB, 27.59% gc time)\n"
     ]
    },
    {
     "data": {
      "text/plain": [
       "false"
      ]
     },
     "execution_count": 48,
     "metadata": {},
     "output_type": "execute_result"
    }
   ],
   "source": [
    "# Here's a faster way to calculate it...for now requires a different way to store the hypergraph and Omega\n",
    "\n",
    "@time Hyp, w = hyperedge_formatting(H)\n",
    "\n",
    "@time T2 = first_term_v2(Hyp,w,c,Ω)\n",
    "\n",
    "T1 ≈ T2"
   ]
  },
  {
   "cell_type": "code",
   "execution_count": null,
   "metadata": {},
   "outputs": [],
   "source": []
  }
 ],
 "metadata": {
  "kernelspec": {
   "display_name": "Julia 1.4.1",
   "language": "julia",
   "name": "julia-1.4"
  },
  "language_info": {
   "file_extension": ".jl",
   "mimetype": "application/julia",
   "name": "julia",
   "version": "1.4.1"
  }
 },
 "nbformat": 4,
 "nbformat_minor": 4
}
