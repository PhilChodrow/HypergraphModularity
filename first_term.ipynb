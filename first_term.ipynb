{
 "cells": [
  {
   "cell_type": "code",
   "execution_count": 1,
   "metadata": {},
   "outputs": [
    {
     "data": {
      "text/plain": [
       "hypergraph\n",
       "  E: Dict{Integer,Dict}\n",
       "  D: Array{Integer}((30,)) Integer[22, 23, 29, 22, 16, 23, 26, 36, 15, 26  …  32, 27, 24, 25, 24, 26, 17, 33, 29, 30]\n"
      ]
     },
     "execution_count": 1,
     "metadata": {},
     "output_type": "execute_result"
    }
   ],
   "source": [
    "using StatsBase\n",
    "using Combinatorics\n",
    "using Plots\n",
    "\n",
    "include(\"jl/omega.jl\")\n",
    "include(\"jl/HSBM.jl\")\n",
    "# include(\"jl/inference.jl\")\n",
    "\n",
    "# parameters\n",
    "\n",
    "n = 30\n",
    "Z = rand(1:5, n)\n",
    "ϑ = dropdims(ones(1,n) + rand(1,n), dims = 1)\n",
    "\n",
    "# defining group intensity function Ω\n",
    "μ = mean(ϑ)\n",
    "\n",
    "kmax = 4\n",
    "kmin = 1\n",
    "\n",
    "fk = k->(2.4*μ*k)^(-k)\n",
    "fp = harmonicMean\n",
    "\n",
    "Ω_dict = Dict()\n",
    "\n",
    "for k = kmin:kmax, p in partitions(k)\n",
    "    Ω_dict[p] = fk(sum(p))*fp(p)\n",
    "end\n",
    "\n",
    "Ω = buildΩ(Ω_dict; by_size=true)\n",
    "\n",
    "# sample from the HSBM with these parameters, restricting to hyperedges of size no more than kmax\n",
    "H = sampleSBM(Z, ϑ, Ω; kmax=kmax, kmin = kmin)"
   ]
  },
  {
   "cell_type": "code",
   "execution_count": 8,
   "metadata": {},
   "outputs": [
    {
     "data": {
      "text/plain": [
       "-1950.26642965325"
      ]
     },
     "execution_count": 8,
     "metadata": {},
     "output_type": "execute_result"
    }
   ],
   "source": [
    "# Create a random clustering with k clusters\n",
    "include(\"jl/cut.jl\")\n",
    "k = 10\n",
    "c = rand(1:k,n)\n",
    "term1 = first_term_eval(H,c,Ω)"
   ]
  },
  {
   "cell_type": "code",
   "execution_count": 9,
   "metadata": {},
   "outputs": [],
   "source": [
    "# PC: broken under the dictionary-defined Ω. Could add these manually if desired, but not sure whether this is a problem or not. \n",
    "\n",
    "# Quick checks on the group evaluation function\n",
    "# p4 = [4,0,0,0]\n",
    "# p3 = [3,1,0,0]\n",
    "# p2 = [2,2,0,0]\n",
    "# p1 = [2,1,1,0]\n",
    "# p0 = [1,1,1,1]\n",
    "# @show Ω(p4;mode=\"partition\"), Ω(p3;mode=\"partition\"),Ω(p2;mode=\"partition\"),Ω(p1;mode=\"partition\"),Ω(p0;mode=\"partition\")\n",
    "# I'm going to think about some group interactions functions where the output is ordered\n",
    "# the same as the way I've ordered here, i.e. Ω(p(i+1) >= Ω(p(i)\n",
    "# Ordering by majorization seems natural for clustering applications\n",
    "\n",
    "# PC: the harmonic mean will give you zeros whenever there is a group without any nodes in it. I'd suggest writing this informal experiment as in the next block: "
   ]
  },
  {
   "cell_type": "code",
   "execution_count": 10,
   "metadata": {},
   "outputs": [
    {
     "name": "stdout",
     "output_type": "stream",
     "text": [
      "[4] 2.7505423676115396e-5\n",
      "[3, 1] 2.5596680924654918e-5\n",
      "[2, 2] 2.7505423676115396e-5\n",
      "[2, 1, 1] 2.312921216928008e-5\n",
      "[1, 1, 1, 1] 1.944927160079021e-5\n"
     ]
    }
   ],
   "source": [
    "# still works because we haven't added zero-padding. \n",
    "\n",
    "for i = 1:4, p in partitions(4, i)\n",
    "    print(p, \" \")\n",
    "    println(Ω(p;mode=\"partition\"))\n",
    "end\n",
    "\n",
    "# an interesting note from this is that the harmonic mean doesn't actually respect the majorization order...."
   ]
  },
  {
   "cell_type": "code",
   "execution_count": 25,
   "metadata": {},
   "outputs": [
    {
     "name": "stdout",
     "output_type": "stream",
     "text": [
      "  0.024509 seconds (5.38 k allocations: 15.973 MiB)\n"
     ]
    },
    {
     "data": {
      "text/plain": [
       "-1950.26642965325"
      ]
     },
     "execution_count": 25,
     "metadata": {},
     "output_type": "execute_result"
    }
   ],
   "source": [
    "@time T1 = first_term_eval(H,c,Ω)"
   ]
  },
  {
   "cell_type": "code",
   "execution_count": 26,
   "metadata": {},
   "outputs": [
    {
     "name": "stdout",
     "output_type": "stream",
     "text": [
      "  0.000086 seconds (23 allocations: 10.781 KiB)\n",
      "  0.020317 seconds (5.37 k allocations: 15.973 MiB)\n",
      "T1 - T2 = 3.183231456205249e-12\n"
     ]
    },
    {
     "data": {
      "text/plain": [
       "3.183231456205249e-12"
      ]
     },
     "execution_count": 26,
     "metadata": {},
     "output_type": "execute_result"
    }
   ],
   "source": [
    "# Here's a faster way to calculate it...for now requires a different way to store the hypergraph and Omega\n",
    "ff = p->fp(p)*fk(sum(p))\n",
    "# @time Om = build_omega(kmax,ff)\n",
    "\n",
    "@time Hyp, w = hyperedge_formatting(H)\n",
    "\n",
    "@time T2 = first_term_v2(Hyp,w,c,Ω)\n",
    "\n",
    "@show T1-T2"
   ]
  }
 ],
 "metadata": {
  "kernelspec": {
   "display_name": "Julia 1.4.1",
   "language": "julia",
   "name": "julia-1.4"
  },
  "language_info": {
   "file_extension": ".jl",
   "mimetype": "application/julia",
   "name": "julia",
   "version": "1.4.1"
  }
 },
 "nbformat": 4,
 "nbformat_minor": 4
}
