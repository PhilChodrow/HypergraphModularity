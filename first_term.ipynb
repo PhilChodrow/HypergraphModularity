{
 "cells": [
  {
   "cell_type": "code",
   "execution_count": 3,
   "metadata": {},
   "outputs": [
    {
     "data": {
      "text/plain": [
       "hypergraph\n",
       "  E: Dict{Integer,Dict}\n",
       "  D: Dict{Integer,Integer}\n"
      ]
     },
     "execution_count": 3,
     "metadata": {},
     "output_type": "execute_result"
    }
   ],
   "source": [
    "using StatsBase\n",
    "using Combinatorics\n",
    "using Plots\n",
    "\n",
    "include(\"jl/omega.jl\")\n",
    "include(\"jl/HSBM.jl\")\n",
    "include(\"jl/inference.jl\")\n",
    "\n",
    "# parameters\n",
    "\n",
    "n = 40\n",
    "Z = rand(1:5, n)\n",
    "ϑ = dropdims(ones(1,n) + rand(1,n), dims = 1)\n",
    "\n",
    "# defining group intensity function Ω\n",
    "μ = mean(ϑ)\n",
    "fk = k->(2*μ*k)^(-k)\n",
    "fp = harmonicMean\n",
    "Ω = z->groupSizePartition(z, fp, fk); # depends only on the size of the hyperedge\n",
    "\n",
    "# sample from the HSBM with these parameters, restricting to hyperedges of size no more than kmax\n",
    "kmax = 4\n",
    "H = sampleSBM(Z, ϑ, Ω; kmax=kmax, kmin = 1)"
   ]
  },
  {
   "cell_type": "code",
   "execution_count": 38,
   "metadata": {},
   "outputs": [
    {
     "data": {
      "text/plain": [
       "-196026.9198673425"
      ]
     },
     "execution_count": 38,
     "metadata": {},
     "output_type": "execute_result"
    }
   ],
   "source": [
    "# Create a random clustering with k clusters\n",
    "include(\"jl/cut.jl\")\n",
    "k = 10\n",
    "c = rand(1:k,n)\n",
    "term1 = first_term_eval(H,c,kmax,Ω)"
   ]
  },
  {
   "cell_type": "code",
   "execution_count": 51,
   "metadata": {},
   "outputs": [
    {
     "name": "stdout",
     "output_type": "stream",
     "text": [
      "(Ω(p4), Ω(p3), Ω(p2), Ω(p1), Ω(p0)) = (5.016569447408482e-5, 4.5329822039262363e-5, 5.390654689089796e-5, 4.5329822039262363e-5, 5.390654689089796e-5)\n"
     ]
    },
    {
     "data": {
      "text/plain": [
       "(5.016569447408482e-5, 4.5329822039262363e-5, 5.390654689089796e-5, 4.5329822039262363e-5, 5.390654689089796e-5)"
      ]
     },
     "execution_count": 51,
     "metadata": {},
     "output_type": "execute_result"
    }
   ],
   "source": [
    "# Quick checks on the group evaluation function\n",
    "p4 = [4,0,0,0]\n",
    "p3 = [3,1,0,0]\n",
    "p2 = [2,2,0,0]\n",
    "p1 = [2,1,1,0]\n",
    "p0 = [1,1,1,1]\n",
    "@show Ω(p4), Ω(p3),Ω(p2),Ω(p1),Ω(p0)\n",
    "# I'm going to think about some group interactions functions where the output is ordered\n",
    "# the same as the way I've ordered here, i.e. Ω(p(i+1) >= Ω(p(i)\n",
    "# Ordering by majorization seems natural for clustering applications"
   ]
  },
  {
   "cell_type": "code",
   "execution_count": null,
   "metadata": {},
   "outputs": [],
   "source": []
  }
 ],
 "metadata": {
  "kernelspec": {
   "display_name": "Julia 1.3.1",
   "language": "julia",
   "name": "julia-1.3"
  },
  "language_info": {
   "file_extension": ".jl",
   "mimetype": "application/julia",
   "name": "julia",
   "version": "1.3.1"
  }
 },
 "nbformat": 4,
 "nbformat_minor": 4
}
