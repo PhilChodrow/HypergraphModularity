{
 "cells": [
  {
   "cell_type": "code",
   "execution_count": 1,
   "metadata": {},
   "outputs": [
    {
     "data": {
      "text/plain": [
       "hypergraph\n",
       "  E: Dict{Integer,Dict}\n",
       "  D: Dict{Integer,Integer}\n"
      ]
     },
     "execution_count": 1,
     "metadata": {},
     "output_type": "execute_result"
    }
   ],
   "source": [
    "using StatsBase\n",
    "using Combinatorics\n",
    "using Plots\n",
    "\n",
    "include(\"jl/omega.jl\")\n",
    "include(\"jl/HSBM.jl\")\n",
    "include(\"jl/inference.jl\")\n",
    "\n",
    "# parameters\n",
    "\n",
    "n = 40\n",
    "Z = rand(1:5, n)\n",
    "ϑ = dropdims(ones(1,n) + rand(1,n), dims = 1)\n",
    "\n",
    "# defining group intensity function Ω\n",
    "μ = mean(ϑ)\n",
    "\n",
    "fk = k->(2*μ*k)^(-k)\n",
    "fp = harmonicMean\n",
    "Ω = (z; mode)->Ω_partition(z, fp, fk; mode=mode)\n",
    "\n",
    "# sample from the HSBM with these parameters, restricting to hyperedges of size no more than kmax\n",
    "kmax = 4\n",
    "H = sampleSBM(Z, ϑ, Ω; kmax=kmax, kmin = 1)"
   ]
  },
  {
   "cell_type": "code",
   "execution_count": 2,
   "metadata": {},
   "outputs": [
    {
     "data": {
      "text/plain": [
       "-183115.46540110887"
      ]
     },
     "execution_count": 2,
     "metadata": {},
     "output_type": "execute_result"
    }
   ],
   "source": [
    "# Create a random clustering with k clusters\n",
    "include(\"jl/cut.jl\")\n",
    "k = 10\n",
    "c = rand(1:k,n)\n",
    "term1 = first_term_eval(H, c, kmax,Ω)"
   ]
  },
  {
   "cell_type": "code",
   "execution_count": 11,
   "metadata": {},
   "outputs": [
    {
     "name": "stdout",
     "output_type": "stream",
     "text": [
      "(Ω(p4; mode = \"partition\"), Ω(p3; mode = \"partition\"), Ω(p2; mode = \"partition\"), Ω(p1; mode = \"partition\"), Ω(p0; mode = \"partition\")) = (0.0, 0.0, 0.0, 0.0, 5.0778184629422415e-5)\n"
     ]
    },
    {
     "data": {
      "text/plain": [
       "(0.0, 0.0, 0.0, 0.0, 5.0778184629422415e-5)"
      ]
     },
     "execution_count": 11,
     "metadata": {},
     "output_type": "execute_result"
    }
   ],
   "source": [
    "# Quick checks on the group evaluation function\n",
    "p4 = [4,0,0,0]\n",
    "p3 = [3,1,0,0]\n",
    "p2 = [2,2,0,0]\n",
    "p1 = [2,1,1,0]\n",
    "p0 = [1,1,1,1]\n",
    "@show Ω(p4;mode=\"partition\"), Ω(p3;mode=\"partition\"),Ω(p2;mode=\"partition\"),Ω(p1;mode=\"partition\"),Ω(p0;mode=\"partition\")\n",
    "# I'm going to think about some group interactions functions where the output is ordered\n",
    "# the same as the way I've ordered here, i.e. Ω(p(i+1) >= Ω(p(i)\n",
    "# Ordering by majorization seems natural for clustering applications\n",
    "\n",
    "# PC: the harmonic mean will give you zeros whenever there is a group without any nodes in it. I'd suggest writing this informal experiment as in the next block: "
   ]
  },
  {
   "cell_type": "code",
   "execution_count": 19,
   "metadata": {},
   "outputs": [
    {
     "name": "stdout",
     "output_type": "stream",
     "text": [
      "[4] 7.181119737561422e-5\n",
      "[3, 1] 6.682784921568653e-5\n",
      "[2, 2] 7.181119737561422e-5\n",
      "[2, 1, 1] 6.0385778448230944e-5\n",
      "[1, 1, 1, 1] 5.0778184629422415e-5\n"
     ]
    }
   ],
   "source": [
    "for i = 1:4, p in partitions(4, i)\n",
    "    print(p, \" \")\n",
    "    println(Ω(p;mode=\"partition\"))\n",
    "end\n",
    "\n",
    "# an interesting note from this is that the harmonic mean doesn't actually respect the majorization order...."
   ]
  }
 ],
 "metadata": {
  "kernelspec": {
   "display_name": "Julia 1.4.1",
   "language": "julia",
   "name": "julia-1.4"
  },
  "language_info": {
   "file_extension": ".jl",
   "mimetype": "application/julia",
   "name": "julia",
   "version": "1.4.1"
  }
 },
 "nbformat": 4,
 "nbformat_minor": 4
}
