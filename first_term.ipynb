{
 "cells": [
  {
   "cell_type": "code",
   "execution_count": 20,
   "metadata": {},
   "outputs": [
    {
     "data": {
      "text/plain": [
       "hypergraph\n",
       "  E: Dict{Integer,Dict}\n",
       "  D: Array{Integer}((50,)) Integer[95, 125, 85, 67, 103, 112, 124, 76, 83, 90  …  107, 73, 132, 122, 76, 129, 85, 103, 128, 113]\n"
      ]
     },
     "execution_count": 20,
     "metadata": {},
     "output_type": "execute_result"
    }
   ],
   "source": [
    "using StatsBase\n",
    "using Combinatorics\n",
    "using Plots\n",
    "\n",
    "include(\"jl/omega.jl\")\n",
    "include(\"jl/HSBM.jl\")\n",
    "include(\"jl/cut.jl\")\n",
    "\n",
    "# parameters\n",
    "\n",
    "n = 50\n",
    "Z = rand(1:5, n)\n",
    "ϑ = dropdims(ones(1,n) + rand(1,n), dims = 1)\n",
    "\n",
    "# defining group intensity function Ω\n",
    "μ = mean(ϑ)\n",
    "\n",
    "kmax = 4\n",
    "kmin = 1\n",
    "\n",
    "fk = k->(2.4*μ*k)^(-k)\n",
    "fp = harmonicMean\n",
    "\n",
    "Ω_dict = Dict()\n",
    "\n",
    "for k = kmin:kmax, p in partitions(k)\n",
    "    Ω_dict[p] = fk(sum(p))*fp(p)\n",
    "end\n",
    "\n",
    "Ω = buildΩ(Ω_dict; by_size=true)"
   ]
  },
  {
   "cell_type": "code",
   "execution_count": 21,
   "metadata": {},
   "outputs": [
    {
     "data": {
      "text/plain": [
       "hypergraph\n",
       "  E: Dict{Integer,Dict}\n",
       "  D: Array{Integer}((50,)) Integer[91, 115, 95, 44, 97, 138, 136, 60, 74, 119  …  101, 61, 133, 98, 63, 138, 75, 126, 135, 95]\n"
      ]
     },
     "execution_count": 21,
     "metadata": {},
     "output_type": "execute_result"
    }
   ],
   "source": [
    "# sample from the HSBM with these parameters, restricting to hyperedges of size no more than kmax\n",
    "H = sampleSBM(Z, ϑ, Ω; kmax=kmax, kmin = kmin)"
   ]
  },
  {
   "cell_type": "code",
   "execution_count": 2,
   "metadata": {},
   "outputs": [
    {
     "data": {
      "text/plain": [
       "-12620.992903638218"
      ]
     },
     "execution_count": 2,
     "metadata": {},
     "output_type": "execute_result"
    }
   ],
   "source": [
    "# Create a random clustering with k clusters\n",
    "include(\"jl/cut.jl\")\n",
    "k = 10\n",
    "c = rand(1:k,n)\n",
    "term1 = first_term_eval(H,c,Ω)"
   ]
  },
  {
   "cell_type": "code",
   "execution_count": 3,
   "metadata": {},
   "outputs": [],
   "source": [
    "# PC: broken under the dictionary-defined Ω. Could add these manually if desired, but not sure whether this is a problem or not. \n",
    "\n",
    "# Quick checks on the group evaluation function\n",
    "# p4 = [4,0,0,0]\n",
    "# p3 = [3,1,0,0]\n",
    "# p2 = [2,2,0,0]\n",
    "# p1 = [2,1,1,0]\n",
    "# p0 = [1,1,1,1]\n",
    "# @show Ω(p4;mode=\"partition\"), Ω(p3;mode=\"partition\"),Ω(p2;mode=\"partition\"),Ω(p1;mode=\"partition\"),Ω(p0;mode=\"partition\")\n",
    "# I'm going to think about some group interactions functions where the output is ordered\n",
    "# the same as the way I've ordered here, i.e. Ω(p(i+1) >= Ω(p(i)\n",
    "# Ordering by majorization seems natural for clustering applications\n",
    "\n",
    "# PC: the harmonic mean will give you zeros whenever there is a group without any nodes in it. I'd suggest writing this informal experiment as in the next block: "
   ]
  },
  {
   "cell_type": "code",
   "execution_count": 4,
   "metadata": {},
   "outputs": [
    {
     "name": "stdout",
     "output_type": "stream",
     "text": [
      "[4] 3.3600649602968195e-5\n",
      "[3, 1] 3.1268927789509234e-5\n",
      "[2, 2] 3.3600649602968195e-5\n",
      "[2, 1, 1] 2.8254665801332098e-5\n",
      "[1, 1, 1, 1] 2.3759247186531884e-5\n"
     ]
    }
   ],
   "source": [
    "# still works because we haven't added zero-padding. \n",
    "\n",
    "for i = 1:4, p in partitions(4, i)\n",
    "    print(p, \" \")\n",
    "    println(Ω(p;mode=\"partition\"))\n",
    "end\n",
    "\n",
    "# an interesting note from this is that the harmonic mean doesn't actually respect the majorization order...."
   ]
  },
  {
   "cell_type": "code",
   "execution_count": 5,
   "metadata": {},
   "outputs": [
    {
     "name": "stdout",
     "output_type": "stream",
     "text": [
      "  0.005663 seconds (31.45 k allocations: 2.288 MiB)\n"
     ]
    },
    {
     "data": {
      "text/plain": [
       "-12620.992903638218"
      ]
     },
     "execution_count": 5,
     "metadata": {},
     "output_type": "execute_result"
    }
   ],
   "source": [
    "@time T1 = first_term_eval(H,c,Ω)"
   ]
  },
  {
   "cell_type": "code",
   "execution_count": 16,
   "metadata": {},
   "outputs": [
    {
     "name": "stdout",
     "output_type": "stream",
     "text": [
      "  0.000476 seconds (1.81 k allocations: 93.250 KiB)\n",
      "  0.007179 seconds (29.48 k allocations: 2.258 MiB)\n"
     ]
    },
    {
     "data": {
      "text/plain": [
       "true"
      ]
     },
     "execution_count": 16,
     "metadata": {},
     "output_type": "execute_result"
    }
   ],
   "source": [
    "# Here's a faster way to calculate it...for now requires a different way to store the hypergraph and Omega\n",
    "\n",
    "@time Hyp, w = hyperedge_formatting(H)\n",
    "\n",
    "@time T2 = first_term_v2(Hyp,w,c,Ω)\n",
    "\n",
    "T1 ≈ T2"
   ]
  },
  {
   "cell_type": "code",
   "execution_count": 17,
   "metadata": {},
   "outputs": [
    {
     "name": "stdout",
     "output_type": "stream",
     "text": [
      "  0.008468 seconds (40.00 k allocations: 1.373 MiB)\n",
      "  0.023124 seconds (160.00 k allocations: 14.954 MiB)\n",
      "  0.047606 seconds (130.00 k allocations: 14.496 MiB, 55.73% gc time)\n"
     ]
    }
   ],
   "source": [
    "@time for i=1:10000  Ω([3,1]; mode=\"partition\") end\n",
    "@time for i=1:10000  Ω([1, 1, 2, 1]; mode=\"group\") end\n",
    "@time for i=1:10000  partitionize([1, 1, 2, 1]) end"
   ]
  }
 ],
 "metadata": {
  "kernelspec": {
   "display_name": "Julia 1.4.1",
   "language": "julia",
   "name": "julia-1.4"
  },
  "language_info": {
   "file_extension": ".jl",
   "mimetype": "application/julia",
   "name": "julia",
   "version": "1.4.1"
  }
 },
 "nbformat": 4,
 "nbformat_minor": 4
}
