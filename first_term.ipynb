{
 "cells": [
  {
   "cell_type": "code",
   "execution_count": 34,
   "metadata": {},
   "outputs": [
    {
     "data": {
      "text/plain": [
       "hypergraph\n",
       "  E: Dict{Integer,Dict}\n",
       "  D: Dict{Integer,Integer}\n"
      ]
     },
     "execution_count": 34,
     "metadata": {},
     "output_type": "execute_result"
    }
   ],
   "source": [
    "using StatsBase\n",
    "using Combinatorics\n",
    "using Plots\n",
    "\n",
    "include(\"jl/omega.jl\")\n",
    "include(\"jl/HSBM.jl\")\n",
    "include(\"jl/inference.jl\")\n",
    "\n",
    "# parameters\n",
    "\n",
    "n = 60\n",
    "Z = rand(1:5, n)\n",
    "ϑ = dropdims(ones(1,n) + rand(1,n), dims = 1)\n",
    "\n",
    "# defining group intensity function Ω\n",
    "μ = mean(ϑ)\n",
    "fk = k->(2*μ*k)^(-k)\n",
    "fp = harmonicMean\n",
    "Ω = z->groupSizePartition(z, fp, fk); # depends only on the size of the hyperedge\n",
    "\n",
    "# sample from the HSBM with these parameters, restricting to hyperedges of size no more than kmax\n",
    "kmax = 4\n",
    "kmin = 1\n",
    "H = sampleSBM(Z, ϑ, Ω; kmax=kmax, kmin = kmin)"
   ]
  },
  {
   "cell_type": "code",
   "execution_count": null,
   "metadata": {},
   "outputs": [],
   "source": []
  },
  {
   "cell_type": "code",
   "execution_count": 36,
   "metadata": {},
   "outputs": [
    {
     "data": {
      "text/plain": [
       "-898735.0771316434"
      ]
     },
     "execution_count": 36,
     "metadata": {},
     "output_type": "execute_result"
    }
   ],
   "source": [
    "# Create a random clustering with k clusters\n",
    "include(\"jl/cut.jl\")\n",
    "k = 10\n",
    "c = rand(1:k,n)\n",
    "term1 = first_term_eval(H,c,kmax,kmin,Ω)"
   ]
  },
  {
   "cell_type": "code",
   "execution_count": 37,
   "metadata": {},
   "outputs": [
    {
     "name": "stdout",
     "output_type": "stream",
     "text": [
      "(Ω(p4), Ω(p3), Ω(p2), Ω(p1), Ω(p0)) = (7.115745142575865e-5, 6.429801568008573e-5, 7.646365772731448e-5, 6.429801568008573e-5, 7.646365772731448e-5)\n"
     ]
    },
    {
     "data": {
      "text/plain": [
       "(7.115745142575865e-5, 6.429801568008573e-5, 7.646365772731448e-5, 6.429801568008573e-5, 7.646365772731448e-5)"
      ]
     },
     "execution_count": 37,
     "metadata": {},
     "output_type": "execute_result"
    }
   ],
   "source": [
    "# Quick checks on the group evaluation function\n",
    "p4 = [4,0,0,0]\n",
    "p3 = [3,1,0,0]\n",
    "p2 = [2,2,0,0]\n",
    "p1 = [2,1,1,0]\n",
    "p0 = [1,1,1,1]\n",
    "@show Ω(p4), Ω(p3),Ω(p2),Ω(p1),Ω(p0)\n",
    "# I'm going to think about some group interactions functions where the output is ordered\n",
    "# the same as the way I've ordered here, i.e. Ω(p(i+1) >= Ω(p(i)\n",
    "# Ordering by majorization seems natural for clustering applications"
   ]
  },
  {
   "cell_type": "code",
   "execution_count": 42,
   "metadata": {},
   "outputs": [
    {
     "name": "stdout",
     "output_type": "stream",
     "text": [
      "  0.248093 seconds (205.53 k allocations: 382.865 MiB, 22.90% gc time)\n"
     ]
    },
    {
     "data": {
      "text/plain": [
       "-898735.0771316434"
      ]
     },
     "execution_count": 42,
     "metadata": {},
     "output_type": "execute_result"
    }
   ],
   "source": [
    "@time T1 = first_term_eval(H,c,kmax,kmin,Ω)\n",
    "\n"
   ]
  },
  {
   "cell_type": "code",
   "execution_count": null,
   "metadata": {},
   "outputs": [],
   "source": []
  },
  {
   "cell_type": "code",
   "execution_count": 41,
   "metadata": {},
   "outputs": [
    {
     "name": "stdout",
     "output_type": "stream",
     "text": [
      "  0.028125 seconds (27.05 k allocations: 1.356 MiB)\n",
      "  0.001410 seconds (9.51 k allocations: 413.625 KiB)\n",
      "  0.054791 seconds (162.82 k allocations: 15.425 MiB, 21.05% gc time)\n",
      "T1 - T2 = -5.436595529317856e-8\n"
     ]
    },
    {
     "data": {
      "text/plain": [
       "-5.436595529317856e-8"
      ]
     },
     "execution_count": 41,
     "metadata": {},
     "output_type": "execute_result"
    }
   ],
   "source": [
    "# Here's a faster way to calculate it...for now requires a different way to store the hypergraph and Omega\n",
    "ff = p->fp(p)*fk(sum(p))\n",
    "@time Om = build_omega(kmax,ff)\n",
    "\n",
    "@time Hyp, w = hyperedge_formatting(H)\n",
    "\n",
    "@time T2 = first_term_v2(Hyp,w,c,kmax,kmin,Om)\n",
    "\n",
    "@show T1-T2"
   ]
  },
  {
   "cell_type": "code",
   "execution_count": null,
   "metadata": {},
   "outputs": [],
   "source": []
  }
 ],
 "metadata": {
  "kernelspec": {
   "display_name": "Julia 1.3.1",
   "language": "julia",
   "name": "julia-1.3"
  },
  "language_info": {
   "file_extension": ".jl",
   "mimetype": "application/julia",
   "name": "julia",
   "version": "1.3.1"
  }
 },
 "nbformat": 4,
 "nbformat_minor": 4
}
