{
 "cells": [
  {
   "cell_type": "code",
   "execution_count": 1,
   "metadata": {},
   "outputs": [
    {
     "name": "stderr",
     "output_type": "stream",
     "text": [
      "\u001b[32m\u001b[1m Activating\u001b[22m\u001b[39m environment at `~/hypergraph_modularities_code/Project.toml`\n"
     ]
    },
    {
     "data": {
      "text/plain": [
       "(::HypergraphModularity.var\"#Ω#8\"{HypergraphModularity.var\"#Ω#3#9\"{typeof(ω),Int64}}) (generic function with 1 method)"
      ]
     },
     "execution_count": 1,
     "metadata": {},
     "output_type": "execute_result"
    }
   ],
   "source": [
    "using StatsBase\n",
    "using Combinatorics\n",
    "using Plots\n",
    "\n",
    "using Pkg; Pkg.activate(\".\")\n",
    "using HypergraphModularity\n",
    "# parameters\n",
    "\n",
    "n = 100\n",
    "Z = rand(1:5, n)\n",
    "ϑ = dropdims(ones(1,n) + rand(1,n), dims = 1)\n",
    "\n",
    "# defining group intensity function Ω\n",
    "μ = mean(ϑ)\n",
    "\n",
    "ω(p,α) = (10 .*μ*sum(p))^(-sum(p))*prod(p.^α)^(1/(sum(p)*α))\n",
    "α0 = 1\n",
    "\n",
    "kmax = 4\n",
    "\n",
    "Ω = buildΩ(ω, α0, kmax)"
   ]
  },
  {
   "cell_type": "code",
   "execution_count": 2,
   "metadata": {},
   "outputs": [
    {
     "data": {
      "text/plain": [
       "HypergraphModularity.hypergraph\n",
       "  N: Array{Int64}((100,)) [1, 2, 3, 4, 5, 6, 7, 8, 9, 10  …  91, 92, 93, 94, 95, 96, 97, 98, 99, 100]\n",
       "  E: Dict{Int64,Dict}\n",
       "  D: Array{Int64}((100,)) [3, 1, 3, 5, 2, 9, 2, 4, 4, 6  …  4, 3, 3, 6, 4, 1, 5, 1, 4, 5]\n"
      ]
     },
     "execution_count": 2,
     "metadata": {},
     "output_type": "execute_result"
    }
   ],
   "source": [
    "# sample from the HSBM with these parameters, restricting to hyperedges of size no more than kmax\n",
    "H = sampleSBM(Z, ϑ, Ω;α=α0, kmax=kmax, kmin = 1)"
   ]
  },
  {
   "cell_type": "code",
   "execution_count": 3,
   "metadata": {},
   "outputs": [
    {
     "data": {
      "text/plain": [
       "-1259.180686193258"
      ]
     },
     "execution_count": 3,
     "metadata": {},
     "output_type": "execute_result"
    }
   ],
   "source": [
    "# Create a random clustering with k clusters\n",
    "k = 10\n",
    "c = rand(1:k,n)\n",
    "term1 = first_term_eval(H,c,Ω;α=α0)"
   ]
  },
  {
   "cell_type": "code",
   "execution_count": 4,
   "metadata": {},
   "outputs": [
    {
     "name": "stdout",
     "output_type": "stream",
     "text": [
      "[4] 1.0668131044536959e-7\n",
      "[3, 1] 9.92781458758405e-8\n",
      "[2, 2] 1.0668131044536959e-7\n",
      "[2, 1, 1] 8.970793152807994e-8\n",
      "[1, 1, 1, 1] 7.54350780417881e-8\n"
     ]
    }
   ],
   "source": [
    "# still works because we haven't added zero-padding. \n",
    "\n",
    "for i = 1:4, p in partitions(4, i)\n",
    "    print(p, \" \")\n",
    "    println(Ω(p;α=α0,mode=\"partition\"))\n",
    "end\n",
    "\n",
    "# an interesting note from this is that the harmonic mean doesn't actually respect the majorization order...."
   ]
  },
  {
   "cell_type": "code",
   "execution_count": 5,
   "metadata": {},
   "outputs": [
    {
     "name": "stdout",
     "output_type": "stream",
     "text": [
      "  0.000204 seconds (1.78 k allocations: 92.375 KiB)\n"
     ]
    },
    {
     "data": {
      "text/plain": [
       "-1259.180686193258"
      ]
     },
     "execution_count": 5,
     "metadata": {},
     "output_type": "execute_result"
    }
   ],
   "source": [
    "@time T1 = first_term_eval(H,c,Ω;α=α0)"
   ]
  },
  {
   "cell_type": "code",
   "execution_count": 6,
   "metadata": {},
   "outputs": [
    {
     "name": "stdout",
     "output_type": "stream",
     "text": [
      "  0.095890 seconds (167.42 k allocations: 8.631 MiB)\n",
      "  0.024219 seconds (31.03 k allocations: 1.588 MiB)\n"
     ]
    },
    {
     "data": {
      "text/plain": [
       "true"
      ]
     },
     "execution_count": 6,
     "metadata": {},
     "output_type": "execute_result"
    }
   ],
   "source": [
    "# Here's a faster way to calculate it...for now requires a different way to store the hypergraph and Omega\n",
    "\n",
    "@time Hyp, w = hyperedge_formatting(H)\n",
    "\n",
    "@time T2 = first_term_v2(Hyp,w,c,Ω;α=α0)\n",
    "\n",
    "T1 ≈ T2"
   ]
  }
 ],
 "metadata": {
  "kernelspec": {
   "display_name": "Julia 1.4.2",
   "language": "julia",
   "name": "julia-1.4"
  },
  "language_info": {
   "file_extension": ".jl",
   "mimetype": "application/julia",
   "name": "julia",
   "version": "1.4.2"
  }
 },
 "nbformat": 4,
 "nbformat_minor": 4
}
