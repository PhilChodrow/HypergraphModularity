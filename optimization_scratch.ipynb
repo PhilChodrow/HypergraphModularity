{
 "cells": [
  {
   "cell_type": "code",
   "execution_count": 7,
   "metadata": {},
   "outputs": [],
   "source": [
    "# using NLopt\n",
    "using Optim\n",
    "using StatsBase\n",
    "using Combinatorics\n",
    "\n",
    "include(\"jl/omega.jl\")\n",
    "include(\"jl/HSBM.jl\")\n",
    "include(\"jl/hypergraph_louvain.jl\")\n",
    "include(\"jl/objectives.jl\")\n",
    "include(\"jl/inference.jl\");"
   ]
  },
  {
   "cell_type": "markdown",
   "metadata": {},
   "source": [
    "Ok, so I think the way this works is that `myfunc` is going to supply the update in the gradient by modifying it in place. This seems very smart -- each function call updates the gradient. So, what we would need to do evaluate the relevant sums and cut terms, then follow this pattern. "
   ]
  },
  {
   "cell_type": "code",
   "execution_count": 31,
   "metadata": {},
   "outputs": [
    {
     "data": {
      "text/plain": [
       "Ω (generic function with 1 method)"
      ]
     },
     "execution_count": 31,
     "metadata": {},
     "output_type": "execute_result"
    }
   ],
   "source": [
    "# parameters\n",
    "\n",
    "n = 100\n",
    "Z = rand(1:10, n)\n",
    "ϑ = dropdims(ones(1,n) + rand(1,n), dims = 1)\n",
    "\n",
    "# defining group intensity function Ω\n",
    "μ = mean(ϑ)\n",
    "\n",
    "ω(p,α) = maximum(1.0*p)^α[1] / (sum((1.0*p).^α[1])*α[2])\n",
    "\n",
    "α0 = [100.0, 1e6]\n",
    "\n",
    "kmax = 4\n",
    "\n",
    "Ω = buildΩ(ω, α0, kmax)"
   ]
  },
  {
   "cell_type": "code",
   "execution_count": 32,
   "metadata": {},
   "outputs": [
    {
     "data": {
      "text/plain": [
       "hypergraph\n",
       "  N: Array{Int64}((100,)) [1, 2, 3, 4, 5, 6, 7, 8, 9, 10  …  91, 92, 93, 94, 95, 96, 97, 98, 99, 100]\n",
       "  E: Dict{Int64,Dict}\n",
       "  D: Array{Int64}((100,)) [13, 9, 5, 5, 17, 4, 12, 13, 13, 9  …  11, 9, 8, 10, 13, 9, 10, 6, 6, 9]\n"
      ]
     },
     "execution_count": 32,
     "metadata": {},
     "output_type": "execute_result"
    }
   ],
   "source": [
    "H = sampleSBM(Z, ϑ, Ω; α=α0, kmax=kmax, kmin = 1)"
   ]
  },
  {
   "cell_type": "code",
   "execution_count": 33,
   "metadata": {},
   "outputs": [
    {
     "name": "stdout",
     "output_type": "stream",
     "text": [
      "The log-likelihood of the true partition is -2797.908.\n",
      "The log-likelihood of the singleton partition is -2917.276.\n"
     ]
    }
   ],
   "source": [
    "println(\"The log-likelihood of the true partition is $(round(logLikelihood(H, Z, Ω, ϑ;α=α0),digits=3)).\")\n",
    "println(\"The log-likelihood of the singleton partition is $(round(logLikelihood(H, collect(1:n), Ω, ϑ;α=α0),digits=3)).\")"
   ]
  },
  {
   "cell_type": "code",
   "execution_count": 34,
   "metadata": {},
   "outputs": [
    {
     "name": "stdout",
     "output_type": "stream",
     "text": [
      "\n",
      "Louvain Iteration 1\n",
      "No nodes moved clusters\n",
      "-9887.95181039062\n",
      "[-90.31852465254224, 8.813185221919677e7]\n",
      "\n",
      "Louvain Iteration 1\n",
      "Louvain Iteration 2\n",
      "Louvain Iteration 3\n",
      "-9345.85961526854\n",
      "[-11.679200433677124, 6.946377981150708e7]\n",
      "\n",
      "Louvain Iteration 1\n",
      "Louvain Iteration 2\n",
      "Louvain Iteration 3\n",
      "Louvain Iteration 4\n",
      "Louvain Iteration 5\n",
      "Louvain Iteration 6\n",
      "-137274.67918423985\n",
      "[-22.660755823091847, 1.1520297666166965e6]\n",
      "\n",
      "Louvain Iteration 1\n",
      "Louvain Iteration 2\n",
      "Louvain Iteration 3\n",
      "Louvain Iteration 4\n",
      "Louvain Iteration 5\n",
      "Louvain Iteration 6\n",
      "Louvain Iteration 7\n",
      "Louvain Iteration 8\n",
      "Louvain Iteration 9\n",
      "-36151.68533162755\n",
      "[-51.613618135986655, 4.801264229159951e6]\n",
      "\n",
      "Louvain Iteration 1\n",
      "Louvain Iteration 2\n",
      "Louvain Iteration 3\n",
      "Louvain Iteration 4\n",
      "Louvain Iteration 5\n",
      "-68549.78855181887\n",
      "[-292.0250334059525, 3.1677741590961246e6]\n"
     ]
    }
   ],
   "source": [
    "α̂ = α0\n",
    "Ẑ = Z\n",
    "for i =1:5\n",
    "    Z_prev = Ẑ\n",
    "    Ẑ = HyperLouvain(H,kmax,Ω;α=α̂)\n",
    "#     println(Z_prev==Ẑ)\n",
    "    \n",
    "    obj = parameterEstimateObjective(H, Ẑ, Ω)\n",
    "    \n",
    "    res = optimize(obj, 0, [10.0, 100.0],\n",
    "            NelderMead(),\n",
    "            Optim.Options(f_tol = 1e-10,\n",
    "                iterations = 1000,\n",
    "                show_trace=false))\n",
    "    println(-Optim.minimum(res))\n",
    "    println(Optim.minimizer(res) )\n",
    "    α_prev = α̂\n",
    "    α̂ = Optim.minimizer(res) \n",
    "end"
   ]
  },
  {
   "cell_type": "code",
   "execution_count": null,
   "metadata": {},
   "outputs": [],
   "source": []
  }
 ],
 "metadata": {
  "kernelspec": {
   "display_name": "Julia 1.4.2",
   "language": "julia",
   "name": "julia-1.4"
  },
  "language_info": {
   "file_extension": ".jl",
   "mimetype": "application/julia",
   "name": "julia",
   "version": "1.4.2"
  }
 },
 "nbformat": 4,
 "nbformat_minor": 4
}
