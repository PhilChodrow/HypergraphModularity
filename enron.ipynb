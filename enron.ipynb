{
 "cells": [
  {
   "cell_type": "code",
   "execution_count": 1,
   "metadata": {},
   "outputs": [
    {
     "name": "stderr",
     "output_type": "stream",
     "text": [
      "\u001b[32m\u001b[1m Activating\u001b[22m\u001b[39m environment at `~/hypergraph_modularities_code/Project.toml`\n",
      "┌ Info: Precompiling HypergraphModularity [0c934d27-dd44-49d7-950f-bd4be7819e54]\n",
      "└ @ Base loading.jl:1260\n",
      "┌ Warning: Package HypergraphModularity does not have DelimitedFiles in its dependencies:\n",
      "│ - If you have HypergraphModularity checked out for development and have\n",
      "│   added DelimitedFiles as a dependency but haven't updated your primary\n",
      "│   environment's manifest file, try `Pkg.resolve()`.\n",
      "│ - Otherwise you may need to report an issue with HypergraphModularity\n",
      "└ Loading DelimitedFiles into HypergraphModularity from project dependency, future warnings for HypergraphModularity are suppressed.\n",
      "WARNING: Method definition CliqueExpansionModularity(HypergraphModularity.hypergraph) in module HypergraphModularity at /home/phil/hypergraph_modularities_code/src/graph_louvain.jl:43 overwritten at /home/phil/hypergraph_modularities_code/src/graph_louvain.jl:47.\n",
      "  ** incremental compilation may be fatally broken for this module **\n",
      "\n",
      "WARNING: Method definition CliqueExpansionModularity(HypergraphModularity.hypergraph, Float64) in module HypergraphModularity at /home/phil/hypergraph_modularities_code/src/graph_louvain.jl:43 overwritten at /home/phil/hypergraph_modularities_code/src/graph_louvain.jl:47.\n",
      "  ** incremental compilation may be fatally broken for this module **\n",
      "\n"
     ]
    }
   ],
   "source": [
    "using Revise\n",
    "using Pkg; Pkg.activate(\".\")\n",
    "using HypergraphModularity\n",
    "\n",
    "using StatsBase\n",
    "using Statistics\n",
    "using Plots\n",
    "using DataFrames\n",
    "using SparseArrays\n",
    "using Clustering"
   ]
  },
  {
   "cell_type": "code",
   "execution_count": 42,
   "metadata": {},
   "outputs": [
    {
     "data": {
      "text/plain": [
       "4427"
      ]
     },
     "execution_count": 42,
     "metadata": {},
     "output_type": "execute_result"
    }
   ],
   "source": [
    "dataset = \"email-Enron-full\"\n",
    "kmax_ = 15\n",
    "\n",
    "H = read_hypergraph_data(dataset,kmax_,2, false)\n",
    "α = zeros(2*kmax_);\n",
    "\n",
    "kmax = maximum(keys(H.E))\n",
    "kmin = minimum(keys(H.E));\n",
    "\n",
    "n = length(H.D);\n",
    "D = big(sum(H.D))"
   ]
  },
  {
   "cell_type": "code",
   "execution_count": 43,
   "metadata": {},
   "outputs": [
    {
     "name": "stdout",
     "output_type": "stream",
     "text": [
      "12\n"
     ]
    }
   ],
   "source": [
    "D = big(sum(H.D))\n",
    "\n",
    "ωᵢ = 2.0\n",
    "ωₒ = 0.6\n",
    "function ω(p, α)\n",
    "    num = p[1] == 1 ? ωᵢ : ωₒ\n",
    "    denom = D^sum(p[2])\n",
    "    return 500*num / denom\n",
    "end\n",
    "\n",
    "Ω̂ = allOrNothingIntensityFunction(ω, maximum(keys(H.E)));\n",
    "\n",
    "Ẑ_w = SuperNode_PPLouvain(H, Ω̂; α = 0, verbose = false, Z0 = collect(1:n));\n",
    "\n",
    "println(length(unique(Ẑ_w)))"
   ]
  },
  {
   "cell_type": "code",
   "execution_count": 44,
   "metadata": {},
   "outputs": [
    {
     "name": "stdout",
     "output_type": "stream",
     "text": [
      "-51829.0           18            0.013667617\n",
      "-51630.0           21            0.013526211\n",
      "-51581.0           24            0.013985822\n",
      "-51581.0           23            0.035546895\n",
      "-51536.0           25            0.014166754\n",
      "-51581.0           23            0.013497581\n",
      "-51581.0           24            0.01310611\n",
      "-51580.0           24            0.014213439\n",
      "-51581.0           23            0.013276688\n",
      "-51580.0           24            0.014264732\n",
      "-51588.0           23            0.034426826\n",
      "-51584.0           23            0.013396505\n",
      "-51528.0           24            0.012657007\n",
      "-51581.0           22            0.013643268\n",
      "-51536.0           25            0.012549896\n",
      "-51556.0           23            0.013913386\n",
      "-51534.0           24            0.013102671\n",
      "-51579.0           22            0.032382754\n",
      "-51540.0           24            0.01453839\n",
      "-51583.0           22            0.013181016\n"
     ]
    }
   ],
   "source": [
    "H̄ = projectedGraph(H)\n",
    "\n",
    "Ω̄ = estimateΩEmpirically(H̄, Ẑ_w; aggregator = p -> [length(p) == 1, sum(p)])\n",
    "\n",
    "DF = DataFrame()\n",
    "\n",
    "for i ∈ 1:20\n",
    "    Ẑ, t = @timed SuperNode_PPLouvain(H̄, Ω̄; α = 0, verbose = false)\n",
    "    Ω̄ = estimateΩEmpirically(H̄, Ẑ; aggregator = p -> [length(p) == 1, sum(p)])\n",
    "    \n",
    "    Q = modularity(H̄, Ẑ, Ω̄; α = 0)\n",
    "    ℓ = length(unique(Ẑ))\n",
    "#     ARI = randindex(Z, Ẑ)[1]\n",
    "    \n",
    "    df = DataFrame(Q = Q, ℓ = ℓ, method = \"dyadic\")\n",
    "    DF = vcat(DF, df)\n",
    "    \n",
    "    println(rpad(round(Q), 15, \" \"), \"    \", rpad(ℓ, 10, \" \"), \"    \", rpad(t, 10, \" \"))\n",
    "end"
   ]
  },
  {
   "cell_type": "code",
   "execution_count": 45,
   "metadata": {},
   "outputs": [
    {
     "name": "stdout",
     "output_type": "stream",
     "text": [
      "-28069.0           14            0.022709803    \n",
      "-28025.0           15            0.024521547    \n",
      "-28117.0           15            0.028145216    \n",
      "-28127.0           14            0.023025176    \n",
      "-28088.0           15            0.035414966    \n",
      "-28053.0           16            0.021800327    \n",
      "-28093.0           16            0.025549311    \n",
      "-28077.0           16            0.023070474    \n",
      "-28156.0           16            0.023176631    \n",
      "-28261.0           19            0.023516995    \n",
      "-28121.0           17            0.023118071    \n",
      "-28122.0           17            0.035136139    \n",
      "-28211.0           19            0.02375035     \n",
      "-28207.0           19            0.023833868    \n",
      "-28156.0           17            0.023678493    \n",
      "-28097.0           17            0.026190843    \n",
      "-28092.0           17            0.023921212    \n",
      "-28102.0           17            0.024293674    \n",
      "-28110.0           17            0.02596995     \n",
      "-28246.0           14            0.026156314    \n"
     ]
    }
   ],
   "source": [
    "Ω̂ = estimateΩEmpirically(H, Ẑ_w; aggregator = p -> [length(p) == 1, sum(p)])\n",
    "\n",
    "for i ∈ 1:20\n",
    "    Ẑ, t = @timed SuperNode_PPLouvain(H, Ω̂; α = 0, verbose = false)\n",
    "    Ω̂ = estimateΩEmpirically(H, Ẑ; aggregator = p -> [length(p) == 1, sum(p)])\n",
    "    \n",
    "    Q = modularity(H, Ẑ, Ω̂; α = 0)\n",
    "    ℓ = length(unique(Ẑ))\n",
    "   \n",
    "    \n",
    "    df = DataFrame(Q = Q, ℓ = ℓ,  method = \"polyadic AON\")\n",
    "    DF = vcat(DF, df)\n",
    "    \n",
    "    println(rpad(round(Q), 15, \" \"), \"    \", rpad(ℓ, 10, \" \"), \"    \", rpad(t, 15, \" \"))\n",
    "end"
   ]
  },
  {
   "cell_type": "code",
   "execution_count": 48,
   "metadata": {},
   "outputs": [
    {
     "data": {
      "text/plain": [
       "-27965.04341865154587550862587419397102482717362729009719287903181776303732784617"
      ]
     },
     "execution_count": 48,
     "metadata": {},
     "output_type": "execute_result"
    }
   ],
   "source": [
    "n_ = big(n)\n",
    "\n",
    "function ω(p, α)\n",
    "    k = big(sum(p))\n",
    "    return sum(p)/sum((p .* (1:length(p)).^α[k])) / n^(α[kmax+k]*k)\n",
    "end\n",
    "\n",
    "# function ω_m(p, α)\n",
    "#     k = sum(p)\n",
    "#     kmax = length(α) ÷ 2\n",
    "#     return (2*p[1]/k)^α[k] / n_^(α[kmax+k]*k)\n",
    "# end\n",
    "\n",
    "Ω̂ = partitionIntensityFunction(ω, kmax);\n",
    "α̂ = vcat(repeat([10.0], kmax), repeat([2.0], kmax));\n",
    "\n",
    "\n",
    "# Ω̂ = partitionIntensityFunction(ω_m, kmax);\n",
    "# α̂ = repeat([2.0], 2*kmax)\n",
    "\n",
    "α̂ = learnParameters(H, Ẑ_w, Ω̂, α̂; max_iters = 50, verbose = false, tol = 1e-4);\n",
    "Q = modularity(H, Ẑ_w, Ω̂; α = α̂)"
   ]
  },
  {
   "cell_type": "code",
   "execution_count": 49,
   "metadata": {},
   "outputs": [
    {
     "name": "stdout",
     "output_type": "stream",
     "text": [
      "-27961.0           13            68.192665672   \n",
      "-27809.0           12            76.113712758   \n",
      "-27933.0           13            80.110312093   \n",
      "-27749.0           12            82.596905925   \n",
      "-27760.0           12            69.99947189    \n",
      "-27760.0           13            78.739635056   \n",
      "-27775.0           13            77.415429139   \n",
      "-27759.0           13            72.021495514   \n",
      "-27769.0           12            65.761294166   \n"
     ]
    },
    {
     "ename": "InterruptException",
     "evalue": "InterruptException:",
     "output_type": "error",
     "traceback": [
      "InterruptException:",
      "",
      "Stacktrace:",
      " [1] ^(::BigFloat, ::BigFloat) at ./mpfr.jl:592",
      " [2] ^(::Int64, ::BigFloat) at ./promotion.jl:343",
      " [3] ω(::Array{Int64,1}, ::Array{Float64,1}) at ./In[48]:5",
      " [4] (::HypergraphModularity.var\"#110#113\"{Array{Float64,1},IntensityFunction,Dict{Array{Int64,1},BigInt}})(::Array{Int64,1}) at ./none:0",
      " [5] MappingRF at ./reduce.jl:90 [inlined]",
      " [6] _foldl_impl(::Base.MappingRF{HypergraphModularity.var\"#110#113\"{Array{Float64,1},IntensityFunction,Dict{Array{Int64,1},BigInt}},Base.BottomRF{typeof(Base.add_sum)}}, ::Base._InitialValue, ::Base.KeySet{Array{Int64,1},Dict{Array{Int64,1},BigInt}}) at ./reduce.jl:59",
      " [7] foldl_impl at ./reduce.jl:45 [inlined]",
      " [8] mapfoldl_impl at ./reduce.jl:41 [inlined]",
      " [9] #mapfoldl#189 at ./reduce.jl:157 [inlined]",
      " [10] mapfoldl at ./reduce.jl:157 [inlined]",
      " [11] #mapreduce#193 at ./reduce.jl:283 [inlined]",
      " [12] mapreduce at ./reduce.jl:283 [inlined]",
      " [13] sum at ./reduce.jl:486 [inlined]",
      " [14] sum(::Base.Generator{Base.KeySet{Array{Int64,1},Dict{Array{Int64,1},BigInt}},HypergraphModularity.var\"#110#113\"{Array{Float64,1},IntensityFunction,Dict{Array{Int64,1},BigInt}}}) at ./reduce.jl:503",
      " [15] HyperLouvain(::hypergraph, ::IntensityFunction; α::Array{Float64,1}, kmax::Int64, maxits::Int64, bigInt::Bool, verbose::Bool, scan_order::String) at /home/phil/hypergraph_modularities_code/src/general_hypergraph_louvain.jl:80",
      " [16] #HyperLouvain#106 at /home/phil/hypergraph_modularities_code/src/general_hypergraph_louvain.jl:2 [inlined]",
      " [17] SuperNodeLouvain(::hypergraph, ::IntensityFunction; α::Array{Float64,1}, kmax::Int64, maxits::Int64, bigInt::Bool, verbose::Bool, scan_order::String) at /home/phil/hypergraph_modularities_code/src/general_hypergraph_louvain.jl:326",
      " [18] macro expansion at ./util.jl:308 [inlined]",
      " [19] top-level scope at ./In[49]:2"
     ]
    }
   ],
   "source": [
    "for i ∈ 1:20\n",
    "    Ẑ, t = @timed SuperNodeLouvain(H, Ω̂; α = α̂, verbose = false, scan_order =\"random\")\n",
    "    α̂ = learnParameters(H, Ẑ_w, Ω̂, α̂; max_iters = 10, verbose = false, tol = 1e-4)\n",
    "    \n",
    "    Q = modularity(H, Ẑ, Ω̂; α = α̂)\n",
    "    ℓ = length(unique(Ẑ))\n",
    "\n",
    "    \n",
    "    df = DataFrame(Q = Q, ℓ = ℓ,  method = \"polyadic parameterized\")\n",
    "    DF = vcat(DF, df)\n",
    "    \n",
    "    println(rpad(round(Q), 15, \" \"), \"    \", rpad(ℓ, 10, \" \"), \"    \", rpad(t, 15, \" \") )\n",
    "end"
   ]
  },
  {
   "cell_type": "code",
   "execution_count": 50,
   "metadata": {},
   "outputs": [
    {
     "data": {
      "text/plain": [
       "30-element Array{Float64,1}:\n",
       " 10.0\n",
       "  3.764314058623484\n",
       "  6.097305648267805\n",
       "  7.453213855516319\n",
       "  8.319772330295653\n",
       "  8.28313554036346\n",
       "  8.306604323029502\n",
       "  9.971792643563546\n",
       "  9.039829223803501\n",
       "  8.069921425982221\n",
       " 10.213356533224147\n",
       " 10.181308429823018\n",
       " 12.025263069787856\n",
       "  ⋮\n",
       "  1.2273918538794917\n",
       "  1.2983993662125064\n",
       "  1.3412615612621215\n",
       "  1.3774391157144508\n",
       "  1.380226392624861\n",
       "  1.4345604275442574\n",
       "  1.4528483989154484\n",
       "  1.4389691067105825\n",
       "  1.447246532341495\n",
       "  1.4450268349367807\n",
       "  2.0\n",
       "  1.4794101133466422"
      ]
     },
     "execution_count": 50,
     "metadata": {},
     "output_type": "execute_result"
    }
   ],
   "source": [
    "α̂"
   ]
  }
 ],
 "metadata": {
  "kernelspec": {
   "display_name": "Julia 1.4.2",
   "language": "julia",
   "name": "julia-1.4"
  },
  "language_info": {
   "file_extension": ".jl",
   "mimetype": "application/julia",
   "name": "julia",
   "version": "1.4.2"
  }
 },
 "nbformat": 4,
 "nbformat_minor": 4
}
