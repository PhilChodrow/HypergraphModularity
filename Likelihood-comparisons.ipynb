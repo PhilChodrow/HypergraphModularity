{
 "cells": [
  {
   "cell_type": "code",
   "execution_count": 1,
   "metadata": {},
   "outputs": [
    {
     "name": "stderr",
     "output_type": "stream",
     "text": [
      "\u001b[32m\u001b[1m Activating\u001b[22m\u001b[39m environment at `~/codes/hypergraph_modularities_code/Project.toml`\n"
     ]
    }
   ],
   "source": [
    "using Pkg; Pkg.activate(\".\")\n",
    "using HypergraphModularity\n",
    "\n",
    "using PyPlot\n",
    "using Random"
   ]
  },
  {
   "cell_type": "code",
   "execution_count": 2,
   "metadata": {},
   "outputs": [
    {
     "data": {
      "text/plain": [
       "all_or_nothing2 (generic function with 1 method)"
      ]
     },
     "execution_count": 2,
     "metadata": {},
     "output_type": "execute_result"
    }
   ],
   "source": [
    "identity(p::Vector{Int64}) = p\n",
    "\n",
    "function sum_of_ext_degs(p::Vector{Int64})\n",
    "    soed = length(p) - 1\n",
    "    return (sum(p), soed)\n",
    "end\n",
    "\n",
    "function all_or_nothing(p::Vector{Int64})\n",
    "    is_aon = length(p) == 1\n",
    "    return (sum(p), is_aon)\n",
    "end\n",
    "\n",
    "function rainbow(p::Vector{Int64})\n",
    "    is_rainbow = length(p) == sum(p) && length(p) > 1\n",
    "    return (sum(p), is_rainbow)\n",
    "end\n",
    "\n",
    "function all_or_nothing2(p::Vector{Int64})\n",
    "    return length(p) == 1\n",
    "end"
   ]
  },
  {
   "cell_type": "code",
   "execution_count": 3,
   "metadata": {},
   "outputs": [
    {
     "data": {
      "text/plain": [
       "ll_ratios (generic function with 2 methods)"
      ]
     },
     "execution_count": 3,
     "metadata": {},
     "output_type": "execute_result"
    }
   ],
   "source": [
    "function ll_ratios(Hyp, Z, agg, num_trials::Int64=100)\n",
    "    function MLE_ll(Z1)\n",
    "        Ω̂ = estimateΩEmpirically(Hyp, Z1; min_val=0, aggregator=agg)\n",
    "        return Float64(sum(L(Hyp, Z1, Ω̂; α=0, bigInt=true)))    \n",
    "    end\n",
    "    data_ll = MLE_ll(Z)\n",
    "    rand_ll = Float64[]\n",
    "    for _ = 1:num_trials\n",
    "        push!(rand_ll, MLE_ll(shuffle(Z)))\n",
    "    end\n",
    "    \n",
    "    return data_ll, rand_ll\n",
    "end"
   ]
  },
  {
   "cell_type": "code",
   "execution_count": 4,
   "metadata": {},
   "outputs": [],
   "source": [
    "#H, labels = read_hypergraph_data(\"contact-primary-school\", 10)\n",
    "#data_ll, rand_ll = ll_ratios(H, labels, all_or_nothing2, 500)\n",
    "#data_ll .- rand_ll"
   ]
  },
  {
   "cell_type": "code",
   "execution_count": 5,
   "metadata": {},
   "outputs": [],
   "source": [
    "#H, labels = read_hypergraph_data(\"walmart-trips\", 10)\n",
    "#data_ll, rand_ll = ll_ratios(H, labels, all_or_nothing2, 100)\n",
    "#data_ll .- rand_ll"
   ]
  },
  {
   "cell_type": "code",
   "execution_count": 8,
   "metadata": {},
   "outputs": [
    {
     "name": "stdout",
     "output_type": "stream",
     "text": [
      "3 3.4343143463912965e13\n",
      "4 1.3849971138569043e13\n",
      "5 8.332846923148879e14\n",
      "6 3.827595187628312e16\n",
      "7 3.516821165525935e16\n",
      "8 1.0992833988891296e18\n",
      "9 3.984199970197471e19\n",
      "10 1.318350710847023e21\n",
      "11 5.521088495610445e22\n",
      "12 2.2864224903242258e24\n",
      "13 1.0685640774841664e26\n",
      "14 2.3226040306471357e27\n",
      "15 2.551968116592803e28\n"
     ]
    }
   ],
   "source": [
    "# Are cities or countries better communities for TrivagoClickout ?\n",
    "\n",
    "for k = 3:15\n",
    "    H1, labels1 = read_hypergraph_data(\"TrivagoClickout\", k)\n",
    "    Ω̂ = estimateΩEmpirically(H1, labels1; min_val=0, \n",
    "                              aggregator=all_or_nothing)\n",
    "    ll1 = sum(L(H1, labels1, Ω̂; α=0, bigInt=true))\n",
    "\n",
    "    H2, labels2 = read_hypergraph_data(\"TrivagoClickout-cities\", k)\n",
    "    Ω̂ = estimateΩEmpirically(H2, labels2; min_val=0, \n",
    "                              aggregator=all_or_nothing)\n",
    "    ll2 = sum(L(H2, labels2, Ω̂; α=0, bigInt=true))\n",
    "\n",
    "    diff = Float64(ll1 - ll2)\n",
    "    println(\"$k $diff\")\n",
    "end"
   ]
  },
  {
   "cell_type": "code",
   "execution_count": null,
   "metadata": {},
   "outputs": [],
   "source": []
  }
 ],
 "metadata": {
  "@webio": {
   "lastCommId": null,
   "lastKernelId": null
  },
  "kernelspec": {
   "display_name": "Julia 1.4.0",
   "language": "julia",
   "name": "julia-1.4"
  },
  "language_info": {
   "file_extension": ".jl",
   "mimetype": "application/julia",
   "name": "julia",
   "version": "1.4.0"
  }
 },
 "nbformat": 4,
 "nbformat_minor": 2
}
