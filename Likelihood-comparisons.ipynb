{
 "cells": [
  {
   "cell_type": "code",
   "execution_count": 1,
   "metadata": {},
   "outputs": [
    {
     "name": "stderr",
     "output_type": "stream",
     "text": [
      "\u001b[32m\u001b[1m Activating\u001b[22m\u001b[39m environment at `~/codes/hypergraph_modularities_code/Project.toml`\n"
     ]
    }
   ],
   "source": [
    "using Pkg; Pkg.activate(\".\")\n",
    "using HypergraphModularity\n",
    "\n",
    "using Random"
   ]
  },
  {
   "cell_type": "code",
   "execution_count": 2,
   "metadata": {},
   "outputs": [
    {
     "data": {
      "text/plain": [
       "all_or_nothing2 (generic function with 1 method)"
      ]
     },
     "execution_count": 2,
     "metadata": {},
     "output_type": "execute_result"
    }
   ],
   "source": [
    "identity(p::Vector{Int64}) = p\n",
    "\n",
    "function sum_of_ext_degs(p::Vector{Int64})\n",
    "    soed = length(p) - 1\n",
    "    return (sum(p), soed)\n",
    "end\n",
    "\n",
    "function all_or_nothing(p::Vector{Int64})\n",
    "    is_aon = length(p) == 1\n",
    "    return (sum(p), is_aon)\n",
    "end\n",
    "\n",
    "function rainbow(p::Vector{Int64})\n",
    "    is_rainbow = length(p) == sum(p) && length(p) > 1\n",
    "    return (sum(p), is_rainbow)\n",
    "end\n",
    "\n",
    "function all_or_nothing2(p::Vector{Int64})\n",
    "    return length(p) == 1\n",
    "end"
   ]
  },
  {
   "cell_type": "code",
   "execution_count": 3,
   "metadata": {},
   "outputs": [
    {
     "data": {
      "text/plain": [
       "ll_ratios (generic function with 2 methods)"
      ]
     },
     "execution_count": 3,
     "metadata": {},
     "output_type": "execute_result"
    }
   ],
   "source": [
    "function ll_ratios(Hyp, Z, agg, num_trials::Int64=100)\n",
    "    function MLE_ll(Z1)\n",
    "        Ω̂ = estimateΩEmpirically(Hyp, Z1; min_val=0, aggregator=agg)\n",
    "        return Float64(sum(L(Hyp, Z1, Ω̂; α=0, bigInt=true)))    \n",
    "    end\n",
    "    data_ll = MLE_ll(Z)\n",
    "    rand_ll = Float64[]\n",
    "    for _ = 1:num_trials\n",
    "        push!(rand_ll, MLE_ll(shuffle(Z)))\n",
    "    end\n",
    "    \n",
    "    return data_ll, rand_ll\n",
    "end"
   ]
  },
  {
   "cell_type": "code",
   "execution_count": null,
   "metadata": {},
   "outputs": [],
   "source": [
    "#H, labels = read_hypergraph_data(\"contact-primary-school\", 10)\n",
    "#data_ll, rand_ll = ll_ratios(H, labels, all_or_nothing2, 500)\n",
    "#data_ll .- rand_ll"
   ]
  },
  {
   "cell_type": "code",
   "execution_count": null,
   "metadata": {},
   "outputs": [],
   "source": [
    "#H, labels = read_hypergraph_data(\"walmart-trips\", 10)\n",
    "#data_ll, rand_ll = ll_ratios(H, labels, all_or_nothing2, 100)\n",
    "#data_ll .- rand_ll"
   ]
  },
  {
   "cell_type": "code",
   "execution_count": null,
   "metadata": {},
   "outputs": [],
   "source": [
    "# Are cities or countries better communities for TrivagoClickout ?\n",
    "\n",
    "for k = 3:15\n",
    "    H1, labels1 = read_hypergraph_data(\"TrivagoClickout\", k)\n",
    "    Ω̂ = estimateΩEmpirically(H1, labels1; min_val=0, \n",
    "                              aggregator=all_or_nothing)\n",
    "    ll1 = sum(L(H1, labels1, Ω̂; α=0, bigInt=true))\n",
    "\n",
    "    H2, labels2 = read_hypergraph_data(\"TrivagoClickout-cities\", k)\n",
    "    Ω̂ = estimateΩEmpirically(H2, labels2; min_val=0, \n",
    "                              aggregator=all_or_nothing)\n",
    "    ll2 = sum(L(H2, labels2, Ω̂; α=0, bigInt=true))\n",
    "\n",
    "    diff = Float64(ll1 - ll2)\n",
    "    println(\"$k $diff\")\n",
    "end"
   ]
  },
  {
   "cell_type": "code",
   "execution_count": 4,
   "metadata": {},
   "outputs": [
    {
     "data": {
      "text/plain": [
       "dyadic_MLE_ll (generic function with 1 method)"
      ]
     },
     "execution_count": 4,
     "metadata": {},
     "output_type": "execute_result"
    }
   ],
   "source": [
    "function MLE_ll(Hyp, Z, agg)\n",
    "    Ω̂ = estimateΩEmpirically(Hyp, Z; min_val=0, aggregator=agg)\n",
    "    return Float64(sum(L(Hyp, Z, Ω̂; α=0, bigInt=true)))    \n",
    "end\n",
    "\n",
    "function dyadic_MLE_ll(Hyp, Z, weighted::Bool)\n",
    "    ω_in, ω_out = \n",
    "        computeDyadicResolutionParameter(Hyp, Z; mode=\"ω\", weighted=weighted)\n",
    "    return Float64(dyadicLogLikelihood(Hyp, Z, ω_in, ω_out, weighted))\n",
    "end"
   ]
  },
  {
   "cell_type": "code",
   "execution_count": 5,
   "metadata": {},
   "outputs": [
    {
     "name": "stdout",
     "output_type": "stream",
     "text": [
      "max size = 3...\n",
      "Polyadic MLE LL (countries): -6.241708403589702e6\n",
      "Polyadic MLE LL (cities): -2.680765341324251e11\n",
      "\n",
      "Weighted Dyadic MLE LL (countries): 212822.75119605014\n",
      "Weighted Dyadic MLE LL (cities): 380391.80863090965\n",
      "\n",
      "Unweighted Dyadic MLE LL (countries): 425645.5023921003\n",
      "Unweighted Dyadic MLE LL (cities): 760783.6172618193\n",
      "\n",
      "max size = 4...\n",
      "Polyadic MLE LL (countries): -1.5105591745731872e7\n",
      "Polyadic MLE LL (cities): -5.825459731279067e11\n",
      "\n",
      "Weighted Dyadic MLE LL (countries): 363120.37528979406\n",
      "Weighted Dyadic MLE LL (cities): 648265.8475551737\n",
      "\n",
      "Unweighted Dyadic MLE LL (countries): 876460.7118677769\n",
      "Unweighted Dyadic MLE LL (cities): 1.5641536031144669e6\n",
      "\n",
      "max size = 5...\n",
      "Polyadic MLE LL (countries): -5.581173909750826e6\n",
      "Polyadic MLE LL (cities): -4.1616365774670806e14\n",
      "\n",
      "Weighted Dyadic MLE LL (countries): 458253.15205535025\n",
      "Weighted Dyadic MLE LL (cities): 808483.3323049098\n",
      "\n",
      "Unweighted Dyadic MLE LL (countries): 1.2566817560339351e6\n",
      "Unweighted Dyadic MLE LL (cities): 2.2049693448970127e6\n",
      "\n",
      "max size = 6...\n",
      "Polyadic MLE LL (countries): -6.058955639381852e6\n",
      "Polyadic MLE LL (cities): -8.002762509794358e16\n",
      "\n",
      "Weighted Dyadic MLE LL (countries): 518648.13414113526\n",
      "Weighted Dyadic MLE LL (cities): 905955.1745832805\n",
      "\n",
      "Unweighted Dyadic MLE LL (countries): 1.5581054064563406e6\n",
      "Unweighted Dyadic MLE LL (cities): 2.6926062639279733e6\n",
      "\n"
     ]
    }
   ],
   "source": [
    "for k = 3:6\n",
    "    H, labels1 = read_hypergraph_data(\"TrivagoClickout\", k)\n",
    "    _, labels2 = read_hypergraph_data(\"TrivagoClickout-cities\", k)\n",
    "\n",
    "\n",
    "    println(\"max size = $k...\")\n",
    "    println(\"Polyadic MLE LL (countries): \", \n",
    "            MLE_ll(H, labels1, identity))\n",
    "    println(\"Polyadic MLE LL (cities): \", \n",
    "            MLE_ll(H, labels2, identity))\n",
    "    println(\"\")\n",
    "\n",
    "    println(\"Weighted Dyadic MLE LL (countries): \",     \n",
    "            dyadic_MLE_ll(H, labels1, true))\n",
    "    println(\"Weighted Dyadic MLE LL (cities): \",     \n",
    "            dyadic_MLE_ll(H, labels2, true))\n",
    "    println(\"\")\n",
    "\n",
    "    println(\"Unweighted Dyadic MLE LL (countries): \",     \n",
    "            dyadic_MLE_ll(H, labels1, false))\n",
    "    println(\"Unweighted Dyadic MLE LL (cities): \",     \n",
    "            dyadic_MLE_ll(H, labels2, false))    \n",
    "    \n",
    "    println(\"\")\n",
    "end"
   ]
  },
  {
   "cell_type": "code",
   "execution_count": null,
   "metadata": {},
   "outputs": [],
   "source": []
  }
 ],
 "metadata": {
  "@webio": {
   "lastCommId": null,
   "lastKernelId": null
  },
  "kernelspec": {
   "display_name": "Julia 1.4.0",
   "language": "julia",
   "name": "julia-1.4"
  },
  "language_info": {
   "file_extension": ".jl",
   "mimetype": "application/julia",
   "name": "julia",
   "version": "1.4.0"
  }
 },
 "nbformat": 4,
 "nbformat_minor": 2
}
