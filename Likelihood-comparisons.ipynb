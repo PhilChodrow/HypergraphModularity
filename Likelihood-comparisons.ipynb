{
 "cells": [
  {
   "cell_type": "code",
   "execution_count": 1,
   "metadata": {},
   "outputs": [
    {
     "name": "stderr",
     "output_type": "stream",
     "text": [
      "\u001b[32m\u001b[1m Activating\u001b[22m\u001b[39m environment at `~/codes/hypergraph_modularities_code/Project.toml`\n"
     ]
    }
   ],
   "source": [
    "using Pkg; Pkg.activate(\".\")\n",
    "using HypergraphModularity\n",
    "\n",
    "using PyPlot\n",
    "using Random"
   ]
  },
  {
   "cell_type": "code",
   "execution_count": 2,
   "metadata": {},
   "outputs": [
    {
     "data": {
      "text/plain": [
       "all_or_nothing2 (generic function with 1 method)"
      ]
     },
     "execution_count": 2,
     "metadata": {},
     "output_type": "execute_result"
    }
   ],
   "source": [
    "identity(p::Vector{Int64}) = p\n",
    "\n",
    "function sum_of_ext_degs(p::Vector{Int64})\n",
    "    soed = length(p) - 1\n",
    "    return (sum(p), soed)\n",
    "end\n",
    "\n",
    "function all_or_nothing(p::Vector{Int64})\n",
    "    is_aon = length(p) == 1\n",
    "    return (sum(p), is_aon)\n",
    "end\n",
    "\n",
    "function rainbow(p::Vector{Int64})\n",
    "    is_rainbow = length(p) == sum(p) && length(p) > 1\n",
    "    return (sum(p), is_rainbow)\n",
    "end\n",
    "\n",
    "function all_or_nothing2(p::Vector{Int64})\n",
    "    return length(p) == 1\n",
    "end"
   ]
  },
  {
   "cell_type": "code",
   "execution_count": 3,
   "metadata": {},
   "outputs": [
    {
     "data": {
      "text/plain": [
       "ll_ratios (generic function with 2 methods)"
      ]
     },
     "execution_count": 3,
     "metadata": {},
     "output_type": "execute_result"
    }
   ],
   "source": [
    "function ll_ratios(Hyp, Z, agg, num_trials::Int64=100)\n",
    "    function MLE_ll(Z1)\n",
    "        Ω̂ = estimateΩEmpirically(Hyp, Z1; min_val=0, aggregator=agg)\n",
    "        return Float64(sum(L(Hyp, Z1, Ω̂; α=0, bigInt=true)))    \n",
    "    end\n",
    "    data_ll = MLE_ll(Z)\n",
    "    rand_ll = Float64[]\n",
    "    for _ = 1:num_trials\n",
    "        push!(rand_ll, MLE_ll(shuffle(Z)))\n",
    "    end\n",
    "    \n",
    "    return data_ll, rand_ll\n",
    "end"
   ]
  },
  {
   "cell_type": "code",
   "execution_count": 4,
   "metadata": {},
   "outputs": [
    {
     "data": {
      "text/plain": [
       "(hypergraph\n",
       "  N: Array{Int64}((242,)) [1, 2, 3, 4, 5, 6, 7, 8, 9, 10  …  233, 234, 235, 236, 237, 238, 239, 240, 241, 242]\n",
       "  E: Dict{Int64,Dict}\n",
       "  D: Array{Int64}((242,)) [236, 150, 183, 105, 147, 74, 49, 159, 222, 244  …  48, 141, 72, 114, 34, 34, 37, 84, 36, 102]\n",
       ", [5, 5, 5, 5, 5, 6, 6, 6, 8, 8  …  4, 10, 2, 2, 6, 1, 9, 5, 10, 7])"
      ]
     },
     "execution_count": 4,
     "metadata": {},
     "output_type": "execute_result"
    }
   ],
   "source": [
    "H, labels = read_hypergraph_data(\"contact-primary-school\", 10)"
   ]
  },
  {
   "cell_type": "code",
   "execution_count": 5,
   "metadata": {},
   "outputs": [
    {
     "data": {
      "text/plain": [
       "500-element Array{Float64,1}:\n",
       " 199923.0575860939\n",
       " 520319.9448473833\n",
       " 128923.92189508863\n",
       " 235169.63439611928\n",
       " 341968.91256951354\n",
       " 148197.69011835242\n",
       " 536622.2115340244\n",
       " 238840.70668367273\n",
       " 611855.6661032506\n",
       " 532891.3509570444\n",
       " 527806.0305207928\n",
       " 272774.3054926202\n",
       " 372686.13279928174\n",
       "      ⋮\n",
       " 401402.2485593322\n",
       " 105008.09903349844\n",
       " 284569.0343966475\n",
       " 201229.804943525\n",
       " 293890.55374597013\n",
       " 422674.78275075904\n",
       " 364410.3152967619\n",
       " 503851.1858833055\n",
       " 531569.4608265241\n",
       " 420080.9257734136\n",
       " 306877.5243821156\n",
       " 288552.42352419253"
      ]
     },
     "execution_count": 5,
     "metadata": {},
     "output_type": "execute_result"
    }
   ],
   "source": [
    "data_ll, rand_ll = ll_ratios(H, labels, all_or_nothing2, 500)\n",
    "data_ll .- rand_ll"
   ]
  },
  {
   "cell_type": "code",
   "execution_count": 6,
   "metadata": {},
   "outputs": [
    {
     "data": {
      "text/plain": [
       "100-element Array{Float64,1}:\n",
       " 73245.66196355503\n",
       " 72141.15182593837\n",
       " 72146.6158016324\n",
       " 72890.0711177215\n",
       " 71325.11387897376\n",
       " 70956.74057590123\n",
       " 71367.55760686379\n",
       " 72226.16261752415\n",
       " 72659.71992012765\n",
       " 74846.31414260995\n",
       " 71668.30162708461\n",
       " 72434.8749996284\n",
       " 72144.402781819\n",
       "     ⋮\n",
       " 70390.50240353402\n",
       " 72197.34548784234\n",
       " 71532.70333244465\n",
       " 73229.84461837634\n",
       " 71076.55984119419\n",
       " 75931.19257199578\n",
       " 71464.58016780484\n",
       " 69291.45854576211\n",
       " 70790.28493395913\n",
       " 71839.94194327481\n",
       " 69758.19665842596\n",
       " 71090.74127358291"
      ]
     },
     "execution_count": 6,
     "metadata": {},
     "output_type": "execute_result"
    }
   ],
   "source": [
    "H, labels = read_hypergraph_data(\"walmart-trips\", 10)\n",
    "data_ll, rand_ll = ll_ratios(H, labels, all_or_nothing2, 100)\n",
    "data_ll .- rand_ll"
   ]
  },
  {
   "cell_type": "code",
   "execution_count": 7,
   "metadata": {},
   "outputs": [
    {
     "data": {
      "text/plain": [
       "8.332846923148879e14"
      ]
     },
     "execution_count": 7,
     "metadata": {},
     "output_type": "execute_result"
    }
   ],
   "source": [
    "H1, labels1 = read_hypergraph_data(\"TrivagoClickout\", 5)\n",
    "Ω̂ = estimateΩEmpirically(H1, labels1; min_val=0, aggregator=all_or_nothing)\n",
    "ll1 = sum(L(H1, labels1, Ω̂; α=0, bigInt=true))\n",
    "\n",
    "H2, labels2 = read_hypergraph_data(\"TrivagoClickout-cities\", 5)\n",
    "Ω̂ = estimateΩEmpirically(H2, labels2; min_val=0, aggregator=all_or_nothing)\n",
    "ll2 = sum(L(H2, labels2, Ω̂; α=0, bigInt=true))\n",
    "\n",
    "Float64(ll1 - ll2)"
   ]
  },
  {
   "cell_type": "code",
   "execution_count": null,
   "metadata": {},
   "outputs": [],
   "source": []
  }
 ],
 "metadata": {
  "@webio": {
   "lastCommId": null,
   "lastKernelId": null
  },
  "kernelspec": {
   "display_name": "Julia 1.4.0",
   "language": "julia",
   "name": "julia-1.4"
  },
  "language_info": {
   "file_extension": ".jl",
   "mimetype": "application/julia",
   "name": "julia",
   "version": "1.4.0"
  }
 },
 "nbformat": 4,
 "nbformat_minor": 2
}
