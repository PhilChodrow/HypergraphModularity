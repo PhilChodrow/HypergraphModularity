{
 "cells": [
  {
   "cell_type": "code",
   "execution_count": 6,
   "metadata": {},
   "outputs": [
    {
     "name": "stderr",
     "output_type": "stream",
     "text": [
      "\u001b[32m\u001b[1m Activating\u001b[22m\u001b[39m environment at `~/hypergraph_modularities_code/Project.toml`\n"
     ]
    }
   ],
   "source": [
    "using Parameters\n",
    "using LinearAlgebra\n",
    "using Combinatorics\n",
    "using StatsBase\n",
    "using NLopt\n",
    "using Random\n",
    "using SparseArrays\n",
    "using Optim\n",
    "using TimerOutputs\n",
    "\n",
    "using Pkg; Pkg.activate(\".\")\n",
    "using HypergraphModularity"
   ]
  },
  {
   "cell_type": "code",
   "execution_count": 7,
   "metadata": {},
   "outputs": [],
   "source": [
    "dataset = \"contact-primary-school-classes\"\n",
    "# dataset = \"congress-bills\"\n",
    "# dataset = \"walmart-trips\"\n",
    "# dataset = \"TrivagoClickout\"\n",
    "kmax_ = 6\n",
    "\n",
    "H, Z = read_hypergraph_data(dataset,kmax_)\n",
    "α = zeros(2*kmax_);"
   ]
  },
  {
   "cell_type": "code",
   "execution_count": 8,
   "metadata": {},
   "outputs": [
    {
     "data": {
      "text/plain": [
       "IntensityFunction(ω, HypergraphModularity.var\"#7#12\"(), [(0, 1), (0, 2), (0, 3), (0, 4), (0, 5), (1, 1), (1, 2), (1, 3), (1, 4), (1, 5)], HypergraphModularity.var\"#9#14\"(), nothing)"
      ]
     },
     "execution_count": 8,
     "metadata": {},
     "output_type": "execute_result"
    }
   ],
   "source": [
    "kmax = maximum(keys(H.E))\n",
    "kmin = minimum(keys(H.E))\n",
    "\n",
    "n = length(H.D)\n",
    "\n",
    "# all-or-nothing\n",
    "function ω(p,α)\n",
    "    k = p[2]\n",
    "    δ = p[1]\n",
    "    return ((1+(1-δ))*n)^α[k] / (n^α[k + kmax])\n",
    "end\n",
    "\n",
    "Ω = allOrNothingIntensityFunction(ω, kmax)"
   ]
  },
  {
   "cell_type": "code",
   "execution_count": 9,
   "metadata": {},
   "outputs": [
    {
     "data": {
      "text/plain": [
       "12-element Array{Float64,1}:\n",
       " -11.80339887498949\n",
       "  -2.613754096785692\n",
       " -10.849115643266169\n",
       " -11.159452463383706\n",
       "  -8.149804169026112\n",
       "  11.80339887498948\n",
       "  -0.7354134896157385\n",
       "  -7.560975233879389\n",
       "  -5.871720117745739\n",
       "  -0.16029253215960226\n",
       " -11.80339887498949\n",
       " -11.80339887498949"
      ]
     },
     "execution_count": 9,
     "metadata": {},
     "output_type": "execute_result"
    }
   ],
   "source": [
    "α = learnParameters(H, Z, Ω, α; n_iters = 100, amin = -50, amax = 50)"
   ]
  },
  {
   "cell_type": "code",
   "execution_count": 10,
   "metadata": {},
   "outputs": [
    {
     "data": {
      "text/plain": [
       "-213295.3444976664076524447647172272592931589442603511823641855945725690861953082"
      ]
     },
     "execution_count": 10,
     "metadata": {},
     "output_type": "execute_result"
    }
   ],
   "source": [
    "Q = modularity(H, Z, Ω; α = α)"
   ]
  },
  {
   "cell_type": "code",
   "execution_count": 14,
   "metadata": {},
   "outputs": [
    {
     "data": {
      "text/plain": [
       "10"
      ]
     },
     "execution_count": 14,
     "metadata": {},
     "output_type": "execute_result"
    }
   ],
   "source": [
    "Z = SuperNode_PPLouvain(H, Ω; α = α, verbose = false)"
   ]
  },
  {
   "cell_type": "code",
   "execution_count": 13,
   "metadata": {},
   "outputs": [
    {
     "name": "stdout",
     "output_type": "stream",
     "text": [
      "  0.274750 seconds (858.59 k allocations: 52.520 MiB, 7.16% gc time)\n",
      "11"
     ]
    }
   ],
   "source": [
    "@time Z_dyadic = CliqueExpansionModularity(H,5.0);\n",
    "print(length(unique(Z_dyadic)))"
   ]
  },
  {
   "cell_type": "code",
   "execution_count": 14,
   "metadata": {},
   "outputs": [
    {
     "data": {
      "text/plain": [
       "12-element Array{Float64,1}:\n",
       " -11.80339887498949\n",
       "  -2.2045642186594256\n",
       "  -6.987206542392752\n",
       "  -9.49503273218892\n",
       "  -9.110361234933468\n",
       "  11.80339887498948\n",
       "  -0.29248717860487505\n",
       "  -3.6000550927253436\n",
       "  -4.11226135503116\n",
       "  -1.2341174245816986\n",
       " -11.80339887498949\n",
       " -11.80339887498949"
      ]
     },
     "execution_count": 14,
     "metadata": {},
     "output_type": "execute_result"
    }
   ],
   "source": [
    "α = learnParameters(H, Z_dyadic, Ω, α; n_iters = 1000, amin = -50, amax = 50)"
   ]
  },
  {
   "cell_type": "code",
   "execution_count": 15,
   "metadata": {},
   "outputs": [
    {
     "data": {
      "text/plain": [
       "-209135.1614190830599307882290221387128096005256268391737480195343589656842254897"
      ]
     },
     "execution_count": 15,
     "metadata": {},
     "output_type": "execute_result"
    }
   ],
   "source": [
    "Q_dyadic = modularity(H, Z_dyadic, Ω; α = α)"
   ]
  },
  {
   "cell_type": "code",
   "execution_count": 11,
   "metadata": {},
   "outputs": [
    {
     "ename": "BoundsError",
     "evalue": "BoundsError: attempt to access 12-element Array{Float64,1} at index [0]",
     "output_type": "error",
     "traceback": [
      "BoundsError: attempt to access 12-element Array{Float64,1} at index [0]",
      "",
      "Stacktrace:",
      " [1] getindex at ./array.jl:788 [inlined]",
      " [2] ω(::Array{Int64,1}, ::Array{Float64,1}) at ./In[5]:10",
      " [3] AON_Inputs(::hypergraph, ::typeof(ω), ::Array{Float64,1}, ::Int64) at /home/phil/hypergraph_modularities_code/src/AON_hyperlouvain.jl:659",
      " [4] top-level scope at In[11]:1"
     ]
    }
   ],
   "source": [
    "cut_weights, vol_weights, e2n, n2e,w,d,elen = AON_Inputs(H,ω,α,kmax);\n",
    "@assert(d == H.D)"
   ]
  },
  {
   "cell_type": "code",
   "execution_count": 13,
   "metadata": {},
   "outputs": [
    {
     "ename": "UndefVarError",
     "evalue": "UndefVarError: n2e not defined",
     "output_type": "error",
     "traceback": [
      "UndefVarError: n2e not defined",
      "",
      "Stacktrace:",
      " [1] macro expansion at ./util.jl:175 [inlined]",
      " [2] top-level scope at ./In[13]:9"
     ]
    }
   ],
   "source": [
    "## Full supernode version\n",
    "verbose = true\n",
    "maxits = 100\n",
    "randflag = true\n",
    "\n",
    "# Here's where you can set the warm start.\n",
    "\n",
    "Zwarm = Z_dyadic    # can optionally specify a warm start clustering\n",
    "#Zwarm = collect(1:n)  # no warm start\n",
    "@time Zset = SuperNode_PPLouvain(n2e,e2n,w,d,elen,cut_weights,vol_weights,kmax,randflag,maxits,verbose,Zwarm);\n",
    "Z = Zset[:,end];\n",
    "\n",
    "clus = length(unique(Z))\n",
    "println(\"New Version: $clus clusters\")"
   ]
  },
  {
   "cell_type": "code",
   "execution_count": 16,
   "metadata": {},
   "outputs": [
    {
     "name": "stdout",
     "output_type": "stream",
     "text": [
      "21"
     ]
    }
   ],
   "source": [
    "function f(x, y = length(x))\n",
    "    print(x, y)\n",
    "end\n",
    "f(2)"
   ]
  },
  {
   "cell_type": "code",
   "execution_count": 335,
   "metadata": {},
   "outputs": [
    {
     "data": {
      "text/plain": [
       "-6.530194075979064911921053048773569231070296312879052401225360601617792001351575e+06"
      ]
     },
     "execution_count": 335,
     "metadata": {},
     "output_type": "execute_result"
    }
   ],
   "source": [
    "α = learnParameters(H, Z, Ω, α; n_iters = 1000, amin = -50, amax = 50)\n",
    "modularity(H, Z, Ω; α = α)"
   ]
  },
  {
   "cell_type": "code",
   "execution_count": 339,
   "metadata": {},
   "outputs": [
    {
     "name": "stdout",
     "output_type": "stream",
     "text": [
      "POLYADIC\n",
      "iteration           Q              groups    time (s)  \n",
      "-----------------------------------------------------------------\n",
      "1                   -6.51418e+06   16        3.077     \n",
      "2                   -6.510683e+06  14        2.791     \n",
      "3                   -6.487849e+06  16        2.296     \n",
      "4                   -6.416958e+06  10        3.1       \n",
      "5                   -6.400866e+06  12        2.295     \n",
      "6                   -6.396077e+06  10        2.123     \n",
      "7                   -6.391807e+06  13        2.396     \n",
      "8                   -6.388036e+06  13        2.205     \n",
      "9                   -6.384698e+06  12        2.33      \n",
      "10                  -6.381769e+06  13        2.354     \n",
      "11                  -6.379269e+06  13        2.393     \n",
      "12                  -6.377164e+06  10        2.467     \n",
      "13                  -6.375117e+06  9         2.538     \n",
      "14                  -6.373548e+06  13        2.378     \n",
      "15                  -6.372277e+06  12        2.455     \n",
      "16                  -6.371232e+06  12        2.672     \n",
      "17                  -6.370417e+06  11        2.795     \n",
      "18                  -6.369751e+06  8         2.528     \n",
      "19                  -6.369207e+06  9         2.329     \n",
      "20                  -6.368805e+06  9         2.141     \n",
      "21                  -6.368524e+06  8         2.639     \n",
      "22                  -6.368298e+06  11        2.593     \n"
     ]
    },
    {
     "ename": "InterruptException",
     "evalue": "InterruptException:",
     "output_type": "error",
     "traceback": [
      "InterruptException:",
      "",
      "Stacktrace:",
      " [1] _BigFloat at ./mpfr.jl:108 [inlined]",
      " [2] BigFloat(; precision::Int64) at ./mpfr.jl:118",
      " [3] BigFloat at ./mpfr.jl:112 [inlined]",
      " [4] -(::Float64, ::BigFloat) at ./mpfr.jl:458",
      " [5] (::var\"#objective#759\"{IntensityFunction,Dict{Tuple{Int64,Int64},Int64},Dict{Any,Any}})(::Array{Float64,1}) at /home/phil/hypergraph_modularities_code/src/inference.jl:67",
      " [6] G at /home/phil/hypergraph_modularities_code/src/inference.jl:42 [inlined]",
      " [7] (::var\"#756#758\"{var\"#G#757\"{var\"#objective#759\"{IntensityFunction,Dict{Tuple{Int64,Int64},Int64},Dict{Any,Any}}},Array{Float64,1},Int64})(::Float64) at /home/phil/hypergraph_modularities_code/src/inference.jl:48",
      " [8] optimize(::var\"#756#758\"{var\"#G#757\"{var\"#objective#759\"{IntensityFunction,Dict{Tuple{Int64,Int64},Int64},Dict{Any,Any}}},Array{Float64,1},Int64}, ::Float64, ::Float64, ::Brent; rel_tol::Float64, abs_tol::Float64, iterations::Int64, store_trace::Bool, show_trace::Bool, callback::Nothing, show_every::Int64, extended_trace::Bool) at /home/phil/.julia/packages/Optim/TNmSw/src/univariate/solvers/brent.jl:143",
      " [9] #optimize#80 at /home/phil/.julia/packages/Optim/TNmSw/src/univariate/optimize/interface.jl:21 [inlined]",
      " [10] optimize at /home/phil/.julia/packages/Optim/TNmSw/src/univariate/optimize/interface.jl:14 [inlined]",
      " [11] #optimize#81 at /home/phil/.julia/packages/Optim/TNmSw/src/univariate/optimize/interface.jl:38 [inlined]",
      " [12] optimize(::var\"#756#758\"{var\"#G#757\"{var\"#objective#759\"{IntensityFunction,Dict{Tuple{Int64,Int64},Int64},Dict{Any,Any}}},Array{Float64,1},Int64}, ::Int64, ::Int64) at /home/phil/.julia/packages/Optim/TNmSw/src/univariate/optimize/interface.jl:37",
      " [13] learnParameters(::hypergraph, ::Array{Int64,1}, ::IntensityFunction, ::Array{Float64,1}; n_iters::Int64, amin::Int64, amax::Int64) at /home/phil/hypergraph_modularities_code/src/inference.jl:48",
      " [14] top-level scope at ./In[339]:24"
     ]
    }
   ],
   "source": [
    "α̂ = α\n",
    "verbose = false\n",
    "maxits = 100\n",
    "randflag = true\n",
    "\n",
    "println(\"POLYADIC\")\n",
    "print(rpad(\"iteration\", 20))\n",
    "print(rpad(\"Q\", 15))\n",
    "print(rpad(\"groups\", 10))\n",
    "println(rpad(\"time (s)\", 10))\n",
    "println(rpad(\"\",  65, \"-\"))\n",
    "\n",
    "Ẑ = zero(Z)\n",
    "# Zwarm = collect(1:n)  # no warm start\n",
    "Zwarm = Z\n",
    "\n",
    "for i = 1:50\n",
    "    cut_weights, vol_weights, e2n, n2e,w,d,elen = AON_Inputs(H,ω,α̂,kmax);\n",
    "    tic = time()\n",
    "    Zset = SuperNode_PPLouvain(n2e,e2n,w,d,elen,cut_weights,vol_weights,kmax,randflag,maxits,verbose,Zwarm)\n",
    "    toc = time()-tic\n",
    "    Ẑ = Zset[:,end]\n",
    "        \n",
    "    α̂ = learnParameters(H, Ẑ, Ω, α̂; n_iters = 100, amin = -50, amax = 50)\n",
    "    Q = modularity(H, Ẑ, Ω; α = α̂)\n",
    "    \n",
    "    print(rpad(\"$i\", 20))\n",
    "    print(rpad(\"$(round(Q))\", 15))\n",
    "    print(rpad(\"$(length(unique(Ẑ)))\", 10))\n",
    "    println(rpad(\"$(round(toc; digits=3))\", 10))\n",
    "#     Zwarm = split_clusters(Ẑ)\n",
    "#     Zwarm = Ẑ\n",
    "end"
   ]
  },
  {
   "cell_type": "code",
   "execution_count": null,
   "metadata": {},
   "outputs": [],
   "source": []
  },
  {
   "cell_type": "code",
   "execution_count": 265,
   "metadata": {},
   "outputs": [
    {
     "data": {
      "text/plain": [
       "split_clusters (generic function with 1 method)"
      ]
     },
     "execution_count": 265,
     "metadata": {},
     "output_type": "execute_result"
    }
   ],
   "source": [
    "function split_clusters(Z)\n",
    "    Z_split = zero(Z)\n",
    "    zmax = maximum(Z)\n",
    "    for i ∈ 1:length(Z) \n",
    "        Z_split[i] = rand() < 0.5 ? Z[i] : Z[i] + zmax\n",
    "    end\n",
    "    return Z_split\n",
    "end"
   ]
  },
  {
   "cell_type": "code",
   "execution_count": null,
   "metadata": {},
   "outputs": [],
   "source": []
  }
 ],
 "metadata": {
  "kernelspec": {
   "display_name": "Julia 1.4.2",
   "language": "julia",
   "name": "julia-1.4"
  },
  "language_info": {
   "file_extension": ".jl",
   "mimetype": "application/julia",
   "name": "julia",
   "version": "1.4.2"
  }
 },
 "nbformat": 4,
 "nbformat_minor": 4
}
