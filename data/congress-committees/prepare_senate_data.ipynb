{
 "cells": [
  {
   "cell_type": "markdown",
   "metadata": {},
   "source": [
    "Historical codebook: http://web.mit.edu/cstewart/www/data/cb9999"
   ]
  },
  {
   "cell_type": "code",
   "execution_count": 146,
   "metadata": {},
   "outputs": [],
   "source": [
    "library(tidyverse)"
   ]
  },
  {
   "cell_type": "code",
   "execution_count": 168,
   "metadata": {},
   "outputs": [],
   "source": [
    "prep_committees <- function(type){\n",
    "    path <- paste0(type, \"_committees_modern.csv\")\n",
    "    df <- read_csv(path)\n",
    "    \n",
    "    if(type == \"house\"){\n",
    "        df <- df %>% \n",
    "            rename(`Party Code` = Party,\n",
    "                   `Committee Code` = `Committee code`)\n",
    "    }\n",
    "    \n",
    "    df <- df %>% \n",
    "        select(party = `Party Code`, \n",
    "               id = `ID #`, \n",
    "               committee = `Committee Code`, \n",
    "               session = `Congress`,\n",
    "               name = `Name`)\n",
    "    \n",
    "    df <- df %>% \n",
    "        separate(col = name, sep = \", \", into = c(\"last\", \"first\")) %>% \n",
    "        separate(col = first, sep = \" \", into = c(\"first\", \"other\")) %>% \n",
    "        filter(!is.na(id)) %>% \n",
    "        mutate(party = case_when(party == 100 ~ 1,\n",
    "                                 party == 200 ~ 2, \n",
    "                                 TRUE ~ 1)) %>% \n",
    "        filter(party > 0)\n",
    "    \n",
    "    lookup <- df %>% \n",
    "        group_by(id, first, last, party) %>% \n",
    "        filter(row_number() == 1) %>% \n",
    "        ungroup() %>% \n",
    "        mutate(new_id = row_number()) %>% \n",
    "        select(id, new_id, first, last, party)\n",
    "\n",
    "    df <- df %>% \n",
    "        left_join(lookup)\n",
    "    \n",
    "    out_path <- paste0(type, \"_committees.csv\")\n",
    "    \n",
    "    df %>% write_csv(out_path)\n",
    "} "
   ]
  },
  {
   "cell_type": "code",
   "execution_count": 169,
   "metadata": {},
   "outputs": [
    {
     "name": "stderr",
     "output_type": "stream",
     "text": [
      "Warning message:\n",
      "“Missing column names filled in: 'X21' [21]”\n",
      "Parsed with column specification:\n",
      "cols(\n",
      "  .default = col_double(),\n",
      "  Name = \u001b[31mcol_character()\u001b[39m,\n",
      "  `Date of Assignment` = \u001b[31mcol_character()\u001b[39m,\n",
      "  `Date of Termination` = \u001b[31mcol_character()\u001b[39m,\n",
      "  `Appointment Citation` = \u001b[31mcol_character()\u001b[39m,\n",
      "  `Committee Name` = \u001b[31mcol_character()\u001b[39m,\n",
      "  `State Name` = \u001b[31mcol_character()\u001b[39m,\n",
      "  Notes = \u001b[31mcol_character()\u001b[39m,\n",
      "  X21 = \u001b[33mcol_logical()\u001b[39m\n",
      ")\n",
      "\n",
      "See spec(...) for full column specifications.\n",
      "\n",
      "Warning message:\n",
      "“Expected 2 pieces. Additional pieces discarded in 488 rows [2, 27, 61, 83, 86, 113, 123, 155, 178, 228, 230, 243, 274, 323, 343, 351, 373, 412, 433, 450, ...].”\n",
      "Warning message:\n",
      "“Expected 2 pieces. Missing pieces filled with `NA` in 2 rows [9062, 9140].”\n",
      "Warning message:\n",
      "“Expected 2 pieces. Additional pieces discarded in 292 rows [32, 81, 304, 319, 330, 375, 514, 571, 591, 687, 811, 886, 939, 1078, 1081, 1127, 1222, 1286, 1305, 1340, ...].”\n",
      "Warning message:\n",
      "“Expected 2 pieces. Missing pieces filled with `NA` in 6781 rows [3, 10, 11, 12, 14, 18, 20, 21, 22, 23, 25, 28, 29, 30, 31, 33, 34, 36, 37, 41, ...].”\n",
      "Joining, by = c(\"party\", \"id\", \"last\", \"first\")\n",
      "\n"
     ]
    }
   ],
   "source": [
    "prep_committees(\"house\")"
   ]
  },
  {
   "cell_type": "code",
   "execution_count": 151,
   "metadata": {},
   "outputs": [
    {
     "name": "stderr",
     "output_type": "stream",
     "text": [
      "Warning message:\n",
      "“Missing column names filled in: 'X10' [10], 'X22' [22], 'X23' [23], 'X24' [24], 'X25' [25]”\n",
      "Parsed with column specification:\n",
      "cols(\n",
      "  .default = col_double(),\n",
      "  Name = \u001b[31mcol_character()\u001b[39m,\n",
      "  `Date of Appointment` = \u001b[31mcol_character()\u001b[39m,\n",
      "  `Date of Termination` = \u001b[31mcol_character()\u001b[39m,\n",
      "  X10 = \u001b[33mcol_logical()\u001b[39m,\n",
      "  `Appointment Citation` = \u001b[31mcol_character()\u001b[39m,\n",
      "  `Committee Name` = \u001b[31mcol_character()\u001b[39m,\n",
      "  `State Name` = \u001b[31mcol_character()\u001b[39m,\n",
      "  Notes = \u001b[31mcol_character()\u001b[39m,\n",
      "  X22 = \u001b[33mcol_logical()\u001b[39m,\n",
      "  X23 = \u001b[33mcol_logical()\u001b[39m,\n",
      "  X24 = \u001b[33mcol_logical()\u001b[39m,\n",
      "  X25 = \u001b[33mcol_logical()\u001b[39m\n",
      ")\n",
      "\n",
      "See spec(...) for full column specifications.\n",
      "\n"
     ]
    }
   ],
   "source": [
    "senate_df <- read_csv(\"senate_committees_modern.csv\")\n",
    "senate_df <- senate_df %>% \n",
    "    select(party = `Party Code`, \n",
    "           id = `ID #`, \n",
    "           committee = `Committee Code`, \n",
    "           session = `Congress`,\n",
    "           name = `Name`)"
   ]
  },
  {
   "cell_type": "code",
   "execution_count": 152,
   "metadata": {},
   "outputs": [
    {
     "name": "stderr",
     "output_type": "stream",
     "text": [
      "Warning message:\n",
      "“Expected 2 pieces. Additional pieces discarded in 155 rows [69, 71, 86, 91, 96, 113, 114, 169, 176, 177, 182, 191, 193, 218, 224, 245, 265, 297, 386, 475, ...].”\n",
      "Warning message:\n",
      "“Expected 2 pieces. Missing pieces filled with `NA` in 1 rows [3660].”\n",
      "Warning message:\n",
      "“Expected 2 pieces. Additional pieces discarded in 162 rows [1258, 1266, 1319, 1424, 1458, 1498, 1579, 1629, 1630, 1644, 1650, 1663, 1675, 1712, 1722, 1785, 1821, 1860, 1899, 1968, ...].”\n",
      "Warning message:\n",
      "“Expected 2 pieces. Missing pieces filled with `NA` in 3100 rows [2, 4, 5, 6, 8, 12, 13, 14, 15, 17, 24, 25, 26, 28, 30, 33, 34, 36, 37, 39, ...].”\n"
     ]
    }
   ],
   "source": [
    "senate_df <- senate_df %>% \n",
    "    separate(col = name, sep = \", \", into = c(\"last\", \"first\")) %>% \n",
    "    separate(col = first, sep = \" \", into = c(\"first\", \"other\")) %>% \n",
    "    filter(!is.na(id)) %>% \n",
    "    mutate(party = case_when(party == 100 ~ 1,\n",
    "                             party == 200 ~ 2, \n",
    "                             TRUE ~ 1)) %>% \n",
    "    filter(party > 0)"
   ]
  },
  {
   "cell_type": "code",
   "execution_count": 153,
   "metadata": {},
   "outputs": [
    {
     "name": "stderr",
     "output_type": "stream",
     "text": [
      "Joining, by = c(\"party\", \"id\", \"last\", \"first\")\n",
      "\n"
     ]
    }
   ],
   "source": [
    "lookup <- senate_df %>% \n",
    "    group_by(id, first, last, party) %>% \n",
    "    filter(row_number() == 1) %>% \n",
    "    ungroup() %>% \n",
    "    mutate(new_id = row_number()) %>% \n",
    "    select(id, new_id, first, last, party)\n",
    "\n",
    "senate_df <- senate_df %>% \n",
    "    left_join(lookup)"
   ]
  },
  {
   "cell_type": "code",
   "execution_count": 155,
   "metadata": {},
   "outputs": [
    {
     "name": "stderr",
     "output_type": "stream",
     "text": [
      "`summarise()` ungrouping output (override with `.groups` argument)\n",
      "\n"
     ]
    },
    {
     "data": {
      "text/html": [
       "<table>\n",
       "<caption>A tibble: 13 × 2</caption>\n",
       "<thead>\n",
       "\t<tr><th scope=col>session</th><th scope=col>n</th></tr>\n",
       "\t<tr><th scope=col>&lt;dbl&gt;</th><th scope=col>&lt;int&gt;</th></tr>\n",
       "</thead>\n",
       "<tbody>\n",
       "\t<tr><td>103</td><td>393</td></tr>\n",
       "\t<tr><td>104</td><td>405</td></tr>\n",
       "\t<tr><td>105</td><td>383</td></tr>\n",
       "\t<tr><td>106</td><td>389</td></tr>\n",
       "\t<tr><td>107</td><td>429</td></tr>\n",
       "\t<tr><td>108</td><td>417</td></tr>\n",
       "\t<tr><td>109</td><td>404</td></tr>\n",
       "\t<tr><td>110</td><td>431</td></tr>\n",
       "\t<tr><td>111</td><td>443</td></tr>\n",
       "\t<tr><td>112</td><td>429</td></tr>\n",
       "\t<tr><td>113</td><td>444</td></tr>\n",
       "\t<tr><td>114</td><td>433</td></tr>\n",
       "\t<tr><td>115</td><td>430</td></tr>\n",
       "</tbody>\n",
       "</table>\n"
      ],
      "text/latex": [
       "A tibble: 13 × 2\n",
       "\\begin{tabular}{ll}\n",
       " session & n\\\\\n",
       " <dbl> & <int>\\\\\n",
       "\\hline\n",
       "\t 103 & 393\\\\\n",
       "\t 104 & 405\\\\\n",
       "\t 105 & 383\\\\\n",
       "\t 106 & 389\\\\\n",
       "\t 107 & 429\\\\\n",
       "\t 108 & 417\\\\\n",
       "\t 109 & 404\\\\\n",
       "\t 110 & 431\\\\\n",
       "\t 111 & 443\\\\\n",
       "\t 112 & 429\\\\\n",
       "\t 113 & 444\\\\\n",
       "\t 114 & 433\\\\\n",
       "\t 115 & 430\\\\\n",
       "\\end{tabular}\n"
      ],
      "text/markdown": [
       "\n",
       "A tibble: 13 × 2\n",
       "\n",
       "| session &lt;dbl&gt; | n &lt;int&gt; |\n",
       "|---|---|\n",
       "| 103 | 393 |\n",
       "| 104 | 405 |\n",
       "| 105 | 383 |\n",
       "| 106 | 389 |\n",
       "| 107 | 429 |\n",
       "| 108 | 417 |\n",
       "| 109 | 404 |\n",
       "| 110 | 431 |\n",
       "| 111 | 443 |\n",
       "| 112 | 429 |\n",
       "| 113 | 444 |\n",
       "| 114 | 433 |\n",
       "| 115 | 430 |\n",
       "\n"
      ],
      "text/plain": [
       "   session n  \n",
       "1  103     393\n",
       "2  104     405\n",
       "3  105     383\n",
       "4  106     389\n",
       "5  107     429\n",
       "6  108     417\n",
       "7  109     404\n",
       "8  110     431\n",
       "9  111     443\n",
       "10 112     429\n",
       "11 113     444\n",
       "12 114     433\n",
       "13 115     430"
      ]
     },
     "metadata": {},
     "output_type": "display_data"
    }
   ],
   "source": [
    "senate_df %>% \n",
    "    group_by(session) %>% \n",
    "    summarise(n = n())"
   ]
  },
  {
   "cell_type": "code",
   "execution_count": 156,
   "metadata": {},
   "outputs": [],
   "source": [
    "df %>% \n",
    "    write_csv(\"senate_committees.csv\")"
   ]
  },
  {
   "cell_type": "code",
   "execution_count": null,
   "metadata": {},
   "outputs": [],
   "source": []
  }
 ],
 "metadata": {
  "kernelspec": {
   "display_name": "R",
   "language": "R",
   "name": "ir"
  },
  "language_info": {
   "codemirror_mode": "r",
   "file_extension": ".r",
   "mimetype": "text/x-r-source",
   "name": "R",
   "pygments_lexer": "r",
   "version": "4.0.2"
  }
 },
 "nbformat": 4,
 "nbformat_minor": 4
}
