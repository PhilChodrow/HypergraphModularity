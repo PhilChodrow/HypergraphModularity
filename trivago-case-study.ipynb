{
 "cells": [
  {
   "cell_type": "code",
   "execution_count": 2,
   "metadata": {},
   "outputs": [
    {
     "name": "stderr",
     "output_type": "stream",
     "text": [
      "\u001b[32m\u001b[1m Activating\u001b[22m\u001b[39m environment at `~/hypergraph_modularities_code/Project.toml`\n"
     ]
    }
   ],
   "source": [
    "using Revise\n",
    "using Pkg; Pkg.activate(\".\")\n",
    "using HypergraphModularity\n",
    "using StatsBase\n",
    "using DataFrames\n",
    "using RCall\n",
    "using SparseArrays"
   ]
  },
  {
   "cell_type": "code",
   "execution_count": 3,
   "metadata": {},
   "outputs": [],
   "source": [
    "# H, Z = read_hypergraph_data(\"walmart-trips\", 20)\n",
    "kmax = 20\n",
    "H, Z = read_hypergraph_data(\"TrivagoClickout\", kmax) # VERY good results on Trivago with 3-5 core\n",
    "# H, Z = read_hypergraph_data(\"congress-bills\", 20) \n",
    "\n",
    "Base.copy(H::hypergraph) = hypergraph(H.N, H.E, H.D)"
   ]
  },
  {
   "cell_type": "code",
   "execution_count": 4,
   "metadata": {},
   "outputs": [
    {
     "data": {
      "text/plain": [
       "projectedGraph (generic function with 1 method)"
      ]
     },
     "execution_count": 4,
     "metadata": {},
     "output_type": "execute_result"
    }
   ],
   "source": [
    "function projectedGraph(H)\n",
    "    \n",
    "    n = length(H.D)\n",
    "    A = CliqueExpansion(H, false, false)\n",
    "    ix, jx, w = findnz(A)\n",
    "    E = Dict(sort([ix[k], jx[k]]) => w[k] for k in 1:length(ix))\n",
    "\n",
    "    H̄ = hypergraph(collect(1:n), Dict(1 => Dict(), 2 => E), [0])\n",
    "    HypergraphModularity.computeDegrees!(H̄);\n",
    "    return H̄\n",
    "end"
   ]
  },
  {
   "cell_type": "code",
   "execution_count": null,
   "metadata": {},
   "outputs": [
    {
     "name": "stdout",
     "output_type": "stream",
     "text": [
      "Extracting 10-core\n",
      "10-core has 1327 nodes\n",
      "  kmax = 20\n",
      "    Polyadic experiments\n",
      "    1 2 3 4 5 6 7 8 9 10 11 12 13 14 15 16 17 18 19 20 \n",
      "    Dyadic experiments\n",
      "    1 2 3 4 5 6 7 8 9 10 11 12 13 14 15 16 17 18 19 20 \n",
      "  kmax = 19\n",
      "    Polyadic experiments\n",
      "    1 2 3 4 5 6 7 8 9 10 11 12 13 14 15 16 17 18 19 20 \n",
      "    Dyadic experiments\n",
      "    1 2 3 4 5 6 7 8 9 10 11 12 13 14 15 16 17 18 19 20 \n",
      "  kmax = 18\n",
      "    Polyadic experiments\n",
      "    1 2 3 4 5 6 7 8 9 10 11 12 13 14 15 16 17 18 19 20 \n",
      "    Dyadic experiments\n",
      "    1 2 3 4 5 6 7 8 9 10 11 12 13 14 15 16 17 18 19 20 \n",
      "  kmax = 17\n",
      "    Polyadic experiments\n",
      "    1 2 3 4 5 6 7 8 9 10 11 12 13 14 15 16 17 18 19 20 \n",
      "    Dyadic experiments\n",
      "    1 2 3 4 5 6 7 8 9 10 11 12 13 14 15 16 17 18 19 20 \n",
      "  kmax = 16\n",
      "    Polyadic experiments\n",
      "    1 2 3 4 5 6 7 8 9 10 11 12 13 14 15 16 17 18 19 20 \n",
      "    Dyadic experiments\n",
      "    1 2 3 4 5 6 7 8 9 10 11 12 13 14 15 16 17 18 19 20 \n",
      "  kmax = 15\n",
      "    Polyadic experiments\n",
      "    1 2 3 4 5 6 7 8 9 10 11 12 13 14 15 16 17 18 19 20 \n",
      "    Dyadic experiments\n",
      "    1 2 3 4 5 6 7 8 9 10 11 12 13 14 15 16 17 18 19 20 \n",
      "  kmax = 14\n",
      "    Polyadic experiments\n",
      "    1 2 3 4 5 6 7 8 9 10 11 12 13 14 15 16 17 18 19 20 \n",
      "    Dyadic experiments\n",
      "    1 2 3 4 5 6 7 8 9 10 11 12 13 14 15 16 17 18 19 20 \n",
      "  kmax = 13\n",
      "    Polyadic experiments\n",
      "    1 2 3 4 5 6 7 8 9 10 11 12 13 14 15 16 17 18 19 20 \n",
      "    Dyadic experiments\n",
      "    1 2 3 4 5 6 7 8 9 10 11 12 13 14 15 16 17 18 19 20 \n",
      "  kmax = 12\n",
      "    Polyadic experiments\n",
      "    1 2 3 4 5 6 7 8 9 10 11 12 13 14 15 16 17 18 19 20 \n",
      "    Dyadic experiments\n",
      "    1 2 3 4 5 6 7 8 9 10 11 12 13 14 15 16 17 18 19 20 \n",
      "  kmax = 11\n",
      "    Polyadic experiments\n",
      "    1 2 3 4 5 6 7 8 9 10 11 12 13 14 15 16 17 18 19 20 \n",
      "    Dyadic experiments\n",
      "    1 2 3 4 5 6 7 8 9 10 11 12 13 14 15 16 17 18 19 20 \n",
      "  kmax = 10\n",
      "    Polyadic experiments\n",
      "    1 2 3 4 5 6 7 8 9 10 11 12 13 14 15 16 17 18 19 20 \n",
      "    Dyadic experiments\n",
      "    1 2 3 4 5 6 7 8 9 10 11 12 13 14 15 16 17 18 19 20 \n",
      "  kmax = 9\n",
      "    Polyadic experiments\n",
      "    1 2 3 4 5 6 7 8 9 10 11 12 13 14 15 16 17 18 19 20 \n",
      "    Dyadic experiments\n",
      "    1 2 3 4 5 6 7 8 9 10 11 12 13 14 15 16 17 18 19 20 \n",
      "  kmax = 8\n",
      "    Polyadic experiments\n",
      "    1 2 3 4 5 6 7 8 9 10 11 12 13 14 15 16 17 18 19 20 \n",
      "    Dyadic experiments\n",
      "    1 2 3 4 5 6 7 8 9 10 11 12 13 14 15 16 17 18 19 20 \n",
      "  kmax = 7\n",
      "    Polyadic experiments\n",
      "    1 2 3 4 5 6 7 8 9 10 11 12 13 14 15 16 17 18 19 20 \n",
      "    Dyadic experiments\n",
      "    1 2 3 4 5 6 7 8 9 10 11 12 13 14 15 16 17 18 19 20 \n",
      "  kmax = 6\n",
      "    Polyadic experiments\n",
      "    1 2 3 4 5 6 7 8 9 10 11 12 13 14 15 16 17 18 19 20 \n",
      "    Dyadic experiments\n",
      "    1 2 3 4 5 6 7 8 9 10 11 12 13 14 15 16 17 18 19 20 \n",
      "  kmax = 5\n",
      "    Polyadic experiments\n",
      "    1 2 3 4 5 6 7 8 9 10 11 12 13 14 15 16 17 18 19 20 \n",
      "    Dyadic experiments\n",
      "    1 2 3 4 5 6 7 8 9 10 11 12 13 14 15 16 17 18 19 20 \n",
      "  kmax = 4\n",
      "    Polyadic experiments\n",
      "    1 2 3 4 5 6 7 8 9 10 11 12 13 14 15 16 17 18 19 20 \n",
      "    Dyadic experiments\n",
      "    1 2 3 4 5 6 7 8 9 10 11 12 13 14 15 16 17 18 19 20 \n",
      "  kmax = 3\n",
      "    Polyadic experiments\n",
      "    1 2 3 4 5 6 7 8 9 10 11 12 13 14 15 16 17 18 19 20 \n",
      "    Dyadic experiments\n",
      "    1 2 3 4 5 6 7 8 9 10 11 12 13 14 15 16 17 18 19 20 \n",
      "Extracting 5-core\n",
      "5-core has 13326 nodes\n",
      "  kmax = 20\n",
      "    Polyadic experiments\n",
      "    1 2 3 4 5 6 7 8 9 10 11 12 13 14 15 16 17 18 19 20 \n",
      "    Dyadic experiments\n",
      "    1 2 3 4 5 6 7 8 9 10 11 12 13 14 15 16 17 18 19 20 \n",
      "  kmax = 19\n",
      "    Polyadic experiments\n",
      "    1 2 3 4 5 6 7 8 9 10 11 12 13 14 15 16 17 18 19 20 \n",
      "    Dyadic experiments\n",
      "    1 2 3 4 5 6 7 8 9 10 11 12 13 14 15 16 17 18 19 20 \n",
      "  kmax = 18\n",
      "    Polyadic experiments\n",
      "    1 2 3 4 5 6 7 8 9 10 11 12 13 14 15 16 17 18 19 20 \n",
      "    Dyadic experiments\n",
      "    1 2 3 4 5 6 7 8 9 10 11 12 13 14 15 16 17 18 19 20 \n",
      "  kmax = 17\n",
      "    Polyadic experiments\n",
      "    1 2 3 4 5 6 7 8 9 10 11 12 13 14 15 16 17 18 19 20 \n",
      "    Dyadic experiments\n",
      "    1 2 3 4 5 6 7 8 9 10 11 12 13 14 15 16 17 18 19 20 \n",
      "  kmax = 16\n",
      "    Polyadic experiments\n",
      "    1 2 3 4 5 6 7 8 9 10 11 12 13 14 15 16 17 18 19 20 \n",
      "    Dyadic experiments\n",
      "    1 2 3 4 5 6 7 8 9 10 11 12 13 14 15 16 17 18 19 20 \n",
      "  kmax = 15\n",
      "    Polyadic experiments\n",
      "    1 2 3 4 5 6 7 8 9 10 11 12 13 14 15 16 17 18 19 20 \n",
      "    Dyadic experiments\n",
      "    1 2 3 4 5 6 7 8 9 10 11 12 13 14 15 16 17 18 19 20 \n",
      "  kmax = 14\n",
      "    Polyadic experiments\n",
      "    1 2 3 4 5 6 7 8 9 10 11 12 13 14 15 16 17 18 19 20 \n",
      "    Dyadic experiments\n",
      "    1 2 3 4 5 6 7 8 9 10 11 12 13 14 15 16 17 18 19 20 \n",
      "  kmax = 13\n",
      "    Polyadic experiments\n",
      "    1 2 3 4 5 6 7 8 9 10 11 12 13 14 15 16 17 18 19 20 \n",
      "    Dyadic experiments\n",
      "    1 2 3 4 5 6 7 8 9 10 11 12 13 14 15 16 17 18 19 20 \n",
      "  kmax = 12\n",
      "    Polyadic experiments\n",
      "    1 2 3 4 5 6 7 8 9 10 11 12 13 14 15 16 17 18 19 20 \n",
      "    Dyadic experiments\n",
      "    1 2 3 4 5 6 7 8 9 10 11 12 13 14 15 16 17 18 19 20 \n",
      "  kmax = 11\n",
      "    Polyadic experiments\n",
      "    1 2 3 4 5 6 7 8 9 10 11 12 13 14 15 16 17 18 19 20 \n",
      "    Dyadic experiments\n",
      "    1 2 3 4 5 6 7 8 9 10 11 12 13 14 15 16 17 18 19 20 \n",
      "  kmax = 10\n",
      "    Polyadic experiments\n",
      "    1 2 3 4 5 6 7 8 9 10 11 12 13 14 15 16 17 18 19 20 \n",
      "    Dyadic experiments\n",
      "    1 2 3 4 5 6 7 8 9 10 11 12 13 14 15 16 17 18 19 20 \n",
      "  kmax = 9\n",
      "    Polyadic experiments\n",
      "    1 2 3 4 5 6 7 8 9 10 11 12 13 14 15 16 17 18 19 20 \n",
      "    Dyadic experiments\n",
      "    1 2 3 4 5 6 7 8 9 10 11 12 13 14 15 16 17 18 19 20 \n",
      "  kmax = 8\n",
      "    Polyadic experiments\n",
      "    1 2 3 4 5 6 7 8 9 10 11 12 13 14 15 16 17 18 19 20 \n",
      "    Dyadic experiments\n",
      "    1 2 3 4 5 6 7 8 9 10 11 12 13 14 15 16 17 18 19 20 \n",
      "  kmax = 7\n",
      "    Polyadic experiments\n",
      "    1 2 3 4 5 6 7 8 9 10 11 12 13 14 15 16 17 18 19 20 \n",
      "    Dyadic experiments\n",
      "    1 2 3 4 5 6 7 8 9 10 11 12 13 14 15 16 17 18 19 20 \n",
      "  kmax = 6\n",
      "    Polyadic experiments\n",
      "    1 2 3 4 5 6 7 8 9 10 11 12 13 14 15 16 17 18 19 20 \n",
      "    Dyadic experiments\n",
      "    1 2 3 4 5 6 7 8 9 10 11 12 13 14 15 16 17 18 19 20 \n",
      "  kmax = 5\n",
      "    Polyadic experiments\n",
      "    1 2 3 4 5 6 7 8 9 10 11 12 13 14 15 16 17 18 19 20 \n",
      "    Dyadic experiments\n",
      "    1 2 3 4 5 6 7 8 9 10 11 12 13 14 15 16 17 18 19 20 \n",
      "  kmax = 4\n",
      "    Polyadic experiments\n",
      "    1 2 3 4 5 6 7 8 9 10 11 12 13 14 15 16 17 18 19 20 \n",
      "    Dyadic experiments\n",
      "    1 2 3 4 5 6 7 8 9 10 11 12 13 14 15 16 17 18 19 20 \n",
      "  kmax = 3\n",
      "    Polyadic experiments\n",
      "    1 2 3 4 5 6 7 8 9 10 11 12 13 14 15 16 17 18 19 20 \n",
      "    Dyadic experiments\n",
      "    1 2 3 4 5 6 7 8 9 10 11 12 13 14 15 16 17 18 19 20 \n",
      "Extracting 2-core\n",
      "2-core has 73380 nodes\n",
      "  kmax = 20\n",
      "    Polyadic experiments\n",
      "    1 2 3 4 5 6 7 8 9 10 11 12 13 14 15 16 17 18 19 20 \n",
      "    Dyadic experiments\n",
      "    1 2 3 4 5 6 7 8 9 10 11 12 13 14 15 16 17 18 19 20 \n",
      "  kmax = 19\n",
      "    Polyadic experiments\n",
      "    1 2 3 4 5 6 7 8 9 10 11 12 13 14 15 16 17 18 19 20 \n",
      "    Dyadic experiments\n",
      "    1 2 3 4 5 6 7 8 9 10 11 12 13 14 15 16 17 18 19 20 \n",
      "  kmax = 18\n",
      "    Polyadic experiments\n",
      "    1 2 3 4 5 6 7 8 9 10 11 12 13 14 15 16 17 18 19 20 \n",
      "    Dyadic experiments\n",
      "    1 2 3 4 5 6 7 8 9 10 11 12 13 14 15 16 17 18 19 20 \n",
      "  kmax = 17\n",
      "    Polyadic experiments\n",
      "    1 2 3 4 5 6 7 8 9 10 11 12 13 14 15 16 17 18 19 20 \n",
      "    Dyadic experiments\n",
      "    1 2 3 4 5 6 7 8 9 10 11 12 13 14 15 16 17 18 19 20 \n",
      "  kmax = 16\n",
      "    Polyadic experiments\n",
      "    1 2 3 4 5 6 7 8 9 10 11 12 13 14 15 16 17 18 19 20 \n",
      "    Dyadic experiments\n",
      "    1 2 3 4 5 6 7 8 9 10 11 12 13 14 15 16 17 18 19 20 \n",
      "  kmax = 15\n",
      "    Polyadic experiments\n",
      "    1 2 3 4 5 6 7 8 9 10 11 12 13 14 15 16 17 18 19 20 \n",
      "    Dyadic experiments\n",
      "    1 2 3 4 5 6 7 8 9 10 11 12 13 14 15 16 17 18 19 20 \n",
      "  kmax = 14\n",
      "    Polyadic experiments\n",
      "    1 2 3 4 5 6 7 8 9 10 11 12 13 14 15 16 17 18 19 20 \n",
      "    Dyadic experiments\n",
      "    1 2 3 4 5 6 7 8 9 10 11 12 13 14 15 16 17 18 19 20 \n",
      "  kmax = 13\n",
      "    Polyadic experiments\n",
      "    1 2 3 4 5 6 7 8 9 10 11 12 13 14 15 16 17 18 19 20 \n",
      "    Dyadic experiments\n",
      "    1 2 3 4 5 6 7 8 9 10 11 12 13 14 15 16 17 18 19 20 \n",
      "  kmax = 12\n",
      "    Polyadic experiments\n",
      "    1 2 3 4 5 6 7 8 9 10 11 12 13 14 15 16 17 18 19 20 \n",
      "    Dyadic experiments\n",
      "    1 2 3 4 5 6 7 8 9 10 11 12 13 14 15 16 17 18 19 20 \n",
      "  kmax = 11\n",
      "    Polyadic experiments\n",
      "    1 2 3 4 5 6 7 8 9 10 11 12 13 14 15 16 17 18 19 20 \n",
      "    Dyadic experiments\n",
      "    1 2 3 4 5 6 7 8 9 10 11 12 13 14 15 16 17 18 19 20 \n",
      "  kmax = 10\n",
      "    Polyadic experiments\n",
      "    1 2 3 4 5 6 7 8 9 10 11 12 13 14 15 16 17 18 19 20 \n",
      "    Dyadic experiments\n",
      "    1 2 3 4 5 6 7 8 9 10 11 12 13 14 15 16 17 18 19 20 \n",
      "  kmax = 9\n",
      "    Polyadic experiments\n",
      "    1 2 3 4 5 6 7 8 9 10 "
     ]
    }
   ],
   "source": [
    "DF = DataFrame()\n",
    "\n",
    "kmax = 20\n",
    "\n",
    "for core ∈ [10, 5, 2]\n",
    "    \n",
    "    H, Z = read_hypergraph_data(\"TrivagoClickout\", kmax)\n",
    "        # extract core\n",
    "    println(\"Extracting $(core)-core\")\n",
    "\n",
    "    H_, Z_ = copy(H), copy(Z)\n",
    "\n",
    "    for i in 1:10\n",
    "        H_, Z_ = subHypergraph(H_, H_.D .>= core, Z_)\n",
    "    end\n",
    "    \n",
    "    n = length(H_.D)\n",
    "    \n",
    "    println(\"$(core)-core has $n nodes\")\n",
    "\n",
    "    for k ∈ reverse(3:kmax)\n",
    "        println(\"  kmax = $k\")\n",
    "        \n",
    "        for kay in keys(H_.E)\n",
    "            if kay > k\n",
    "                pop!(H_.E, kay)\n",
    "            end\n",
    "        end\n",
    "        \n",
    "        HypergraphModularity.computeDegrees!(H_)\n",
    "        H̄ = projectedGraph(H_)\n",
    "        \n",
    "        Ω̂ = estimateΩEmpirically(H_, Z_; aggregator = p -> [length(p) == 1, sum(p)])\n",
    "        println(\"    Polyadic experiments\")\n",
    "        print(\"    \")\n",
    "        for i ∈ 1:20 \n",
    "            print(\"$i \")\n",
    "            Ẑ, t = @timed SuperNode_PPLouvain(H_, Ω̂; α = 0, verbose = false, Z0 = collect(1:n), clusterpenalty = n)\n",
    "            Ω̂ = estimateΩEmpirically(H_, Ẑ; aggregator = p -> [length(p) == 1, sum(p)], bigNums = true);\n",
    "            Q = modularity(H_, Ẑ, Ω̂; α = nothing) - n*log(length(unique(Z)))\n",
    "            ℓ = length(unique(Ẑ))\n",
    "            NMI = mutualInformation(Z_, Ẑ, true)\n",
    "            df = DataFrame(kmax = k, ℓ = ℓ, Q = Q, t = t, NMI = NMI, method = \"Polyadic\", n = n, core = core)\n",
    "            DF = vcat(DF, df)\n",
    "        end\n",
    "        println(\"\")\n",
    "\n",
    "        println(\"    Dyadic experiments\")\n",
    "        print(\"    \")\n",
    "\n",
    "        Ω̄ = estimateΩEmpirically(H̄, Z_; aggregator = p -> [length(p) == 1, sum(p)])\n",
    "        for i ∈ 1:20\n",
    "            print(\"$i \")\n",
    "            Ẑ, t = @timed SuperNode_PPLouvain(H̄, Ω̄; α = 0, verbose = false, clusterpenalty = n)\n",
    "            Ω̄ = estimateΩEmpirically(H̄, Ẑ; aggregator = p -> [length(p) == 1, sum(p)])\n",
    "            Q = modularity(H̄, Ẑ, Ω̄; α = 0)\n",
    "            ℓ = length(unique(Ẑ))\n",
    "            NMI = mutualInformation(Z_, Ẑ, true)\n",
    "            df = DataFrame(kmax = k, ℓ = ℓ, Q = Q, method = \"Dyadic\", t = t, NMI = NMI, n = n, core = core)\n",
    "            DF = vcat(DF, df)\n",
    "        end\n",
    "        println(\"\")\n",
    "    end\n",
    "end"
   ]
  },
  {
   "cell_type": "code",
   "execution_count": 12,
   "metadata": {},
   "outputs": [],
   "source": [
    "R\"\"\"\n",
    "library(tidyverse)\n",
    "\"\"\";"
   ]
  },
  {
   "cell_type": "code",
   "execution_count": 13,
   "metadata": {},
   "outputs": [],
   "source": [
    "R\"\"\"\n",
    "df <- tibble($DF)\n",
    "\n",
    "df %>% write_csv(\"fig/trivago_throughput.csv\")\n",
    "\"\"\";"
   ]
  },
  {
   "cell_type": "code",
   "execution_count": 29,
   "metadata": {},
   "outputs": [
    {
     "data": {
      "image/png": "[encoded data removed]"
     },
     "metadata": {},
     "output_type": "display_data"
    },
    {
     "data": {
      "text/plain": [
       "RObject{VecSxp}\n"
      ]
     },
     "execution_count": 29,
     "metadata": {},
     "output_type": "execute_result"
    }
   ],
   "source": [
    "R\"\"\"\n",
    "\n",
    "levels <- c(\"2-Core (73,380 nodes)\", \"5-Core (13,326 nodes)\", \"10-Core (1,327 nodes)\")\n",
    "\n",
    "df %>% \n",
    "    arrange(desc(core)) %>% \n",
    "    group_by(method, kmax, core) %>% \n",
    "    filter(Q == max(Q)) %>% \n",
    "    filter(row_number() >= 10) %>% \n",
    "    mutate(n_ = format(n,big.mark=\",\",scientific=FALSE)) %>% \n",
    "    mutate(core = paste0(core, \"-Core (\", n_, \" nodes)\"),\n",
    "           core = factor(core, levels = levels)) %>% \n",
    "    ggplot() + \n",
    "    aes(x = kmax, y = NMI) + \n",
    "    geom_point(pch = 21, aes(color = factor(method)), stroke = 1) + \n",
    "    facet_grid(~core) + \n",
    "    guides(color = guide_legend(title = element_blank())) + \n",
    "    xlab(\"Maximum Edge Size\") + \n",
    "    theme_bw() +\n",
    "    theme(strip.background = element_blank(),\n",
    "          panel.spacing = unit(3, \"mm\"),\n",
    "          strip.text = element_text(size = 9),\n",
    "          legend.position = \"bottom\",\n",
    "          legend.text = element_text(size = 12),\n",
    "          panel.grid.minor = element_blank()) + \n",
    "    scale_color_manual(values = c(\"#e6a176\",\"#00678a\" ))\n",
    "\"\"\""
   ]
  },
  {
   "cell_type": "code",
   "execution_count": 27,
   "metadata": {},
   "outputs": [
    {
     "data": {
      "text/plain": [
       "RObject{NilSxp}\n",
       "NULL\n"
      ]
     },
     "execution_count": 27,
     "metadata": {},
     "output_type": "execute_result"
    }
   ],
   "source": [
    "R\"\"\"\n",
    "ggsave(\"fig/trivago.png\", width = 5.5, height = 3)\n",
    "\"\"\""
   ]
  },
  {
   "cell_type": "code",
   "execution_count": 139,
   "metadata": {},
   "outputs": [
    {
     "data": {
      "image/png": "[encoded data removed]"
     },
     "metadata": {},
     "output_type": "display_data"
    },
    {
     "data": {
      "text/plain": [
       "RObject{VecSxp}\n"
      ]
     },
     "execution_count": 139,
     "metadata": {},
     "output_type": "execute_result"
    },
    {
     "name": "stderr",
     "output_type": "stream",
     "text": [
      "┌ Warning: RCall.jl: Warning: Duplicated override.aes is ignored.\n",
      "└ @ RCall /home/phil/.julia/packages/RCall/Qzssx/src/io.jl:160\n"
     ]
    }
   ],
   "source": [
    "R\"\"\"\n",
    "\n",
    "levels <- c(\"2-Core (73,380 nodes)\", \"5-Core (13,326 nodes)\", \"10-Core (1,327 nodes)\")\n",
    "\n",
    "df %>% \n",
    "    arrange(desc(core)) %>% \n",
    "    group_by(method, kmax, core) %>% \n",
    "    filter(row_number() >= 10) %>% \n",
    "    mutate(n_ = format(n,big.mark=\",\",scientific=FALSE)) %>% \n",
    "    mutate(core = paste0(core, \"-Core (\", n_, \" nodes)\"),\n",
    "           core = factor(core, levels = levels),\n",
    "           method = factor(method, levels = c(\"Polyadic\", \"Dyadic\"))) %>% \n",
    "    ggplot() + \n",
    "    aes(x = factor(kmax), y = NMI) + \n",
    "    geom_boxplot(aes(color = method, fill = method),  lwd = 0.2, outlier.alpha = 0.3, position = position_identity(), alpha = 0.3) + \n",
    "    facet_grid(~core) + \n",
    "    xlab(expression(\"Maximum Edge Size\"~italic(bar(k)))) + \n",
    "    theme_bw() +\n",
    "    theme(strip.background = element_blank(),\n",
    "          panel.spacing = unit(3, \"mm\"),\n",
    "          strip.text = element_text(size = 9),\n",
    "#          legend.position = \"bottom\",\n",
    "          legend.text = element_text(size = 8),\n",
    "          panel.grid.minor = element_blank(),\n",
    "          legend.key.width = unit(0.4,\"line\"),\n",
    "          legend.position = c(.12, .8),\n",
    "          legend.background = element_blank(), \n",
    "          legend.key = element_rect(colour = NA, fill = NA),\n",
    "          axis.title = element_text(size = 9)) + \n",
    "    scale_color_manual(name = \"\", \n",
    "                       values = c(\"#CC3311\", \"#555555\"),\n",
    "                       labels = c(\"Polyadic\", \"Dyadic\")) + \n",
    "    scale_fill_manual(name = \"\", \n",
    "                      values = c(\"#CC3311\", \"#555555\"),\n",
    "                      labels = c(\"Polyadic\", \"Dyadic\")) + \n",
    "    scale_x_discrete(breaks = seq(4, 20, by = 2)) + \n",
    "    guides(fill = guide_legend(override.aes = list(size = 0.4)), \n",
    "           color = guide_legend(override.aes = list(size = 0.4)))\n",
    "\"\"\""
   ]
  },
  {
   "cell_type": "code",
   "execution_count": 137,
   "metadata": {},
   "outputs": [
    {
     "name": "stderr",
     "output_type": "stream",
     "text": [
      "┌ Warning: RCall.jl: Warning: Duplicated override.aes is ignored.\n",
      "└ @ RCall /home/phil/.julia/packages/RCall/Qzssx/src/io.jl:160\n"
     ]
    },
    {
     "data": {
      "text/plain": [
       "RObject{NilSxp}\n",
       "NULL\n"
      ]
     },
     "execution_count": 137,
     "metadata": {},
     "output_type": "execute_result"
    }
   ],
   "source": [
    "R\"\"\"\n",
    "ggsave(\"fig/trivago_boxplot.png\", width = 5.5, height = 2.5)\n",
    "\"\"\""
   ]
  },
  {
   "cell_type": "code",
   "execution_count": 329,
   "metadata": {},
   "outputs": [
    {
     "data": {
      "image/png": "[encoded data removed]"
     },
     "metadata": {},
     "output_type": "display_data"
    },
    {
     "data": {
      "text/plain": [
       "RObject{VecSxp}\n"
      ]
     },
     "execution_count": 329,
     "metadata": {},
     "output_type": "execute_result"
    }
   ],
   "source": [
    "R\"\"\"\n",
    "df %>% \n",
    "    group_by(method, kmax, core) %>% \n",
    "    ggplot() + \n",
    "    aes(x = kmax, y = t, group = kmax) + \n",
    "    geom_boxplot() + \n",
    "    facet_wrap(core~method) \n",
    "\"\"\""
   ]
  },
  {
   "cell_type": "code",
   "execution_count": 267,
   "metadata": {},
   "outputs": [
    {
     "data": {
      "image/png": "[encoded data removed]"
     },
     "metadata": {},
     "output_type": "display_data"
    },
    {
     "data": {
      "text/plain": [
       "RObject{VecSxp}\n"
      ]
     },
     "execution_count": 267,
     "metadata": {},
     "output_type": "execute_result"
    }
   ],
   "source": [
    "R\"\"\"\n",
    "df %>% \n",
    "    group_by(method, kmax) %>%\n",
    "    mutate(i = row_number()) %>% \n",
    "    ggplot() + \n",
    "    aes(x = i, y = ℓ, color = kmax, group = kmax) + \n",
    "    geom_point() + \n",
    "    geom_line() + \n",
    "    facet_wrap(~method)\n",
    "\"\"\""
   ]
  },
  {
   "cell_type": "code",
   "execution_count": 268,
   "metadata": {},
   "outputs": [
    {
     "data": {
      "text/plain": [
       "RObject{VecSxp}\n",
       "# A tibble: 160 x 7\n",
       "# Groups:   method, kmax [16]\n",
       "    kmax     ℓ       Q      t   NMI method       n\n",
       "   <int> <int>   <dbl>  <dbl> <dbl> <chr>    <int>\n",
       " 1     3     2 -31965. 0.0118     1 polyadic    71\n",
       " 2     3     2 -31965. 0.0122     1 polyadic    71\n",
       " 3     3     2 -31965. 0.0122     1 polyadic    71\n",
       " 4     3     2 -31965. 0.0128     1 polyadic    71\n",
       " 5     3     2 -31965. 0.0135     1 polyadic    71\n",
       " 6     3     2 -31965. 0.0112     1 polyadic    71\n",
       " 7     3     2 -31965. 0.0122     1 polyadic    71\n",
       " 8     3     2 -31965. 0.0118     1 polyadic    71\n",
       " 9     3     2 -31965. 0.0131     1 polyadic    71\n",
       "10     3     2 -31965. 0.0139     1 polyadic    71\n",
       "# … with 150 more rows\n"
      ]
     },
     "execution_count": 268,
     "metadata": {},
     "output_type": "execute_result"
    }
   ],
   "source": [
    "R\"\"\"\n",
    "df %>% \n",
    "    group_by(method, kmax) %>% \n",
    "    filter(Q == max(Q))\n",
    "\"\"\""
   ]
  },
  {
   "cell_type": "code",
   "execution_count": 56,
   "metadata": {},
   "outputs": [],
   "source": [
    "# this seems to work well: \n",
    "# set a roughly uniform resolution \n",
    "# parameter across different sizes\n",
    "\n",
    "ωᵢ = 2.0\n",
    "ωₒ = 0.6\n",
    "function ω(p, α)\n",
    "    num = p[1] == 1 ? ωᵢ : ωₒ\n",
    "    denom = big(sum(H_.D))^sum(p[2])\n",
    "    return 1000*num / denom\n",
    "end\n",
    "\n",
    "Ω = allOrNothingIntensityFunction(ω, maximum(keys(H_.E)));"
   ]
  },
  {
   "cell_type": "code",
   "execution_count": 57,
   "metadata": {},
   "outputs": [
    {
     "name": "stdout",
     "output_type": "stream",
     "text": [
      "-5.543607e+06    1034    87.537544466\n"
     ]
    }
   ],
   "source": [
    "Ẑ, t = @timed SuperNode_PPLouvain(H_, Ω; α = 0, verbose = false, Z0 = collect(1:n), clusterpenalty = n)\n",
    "Ω̂ = estimateΩEmpirically(H_, Ẑ; aggregator = p -> [length(p) == 1, sum(p)], bigNums = true);\n",
    "Q = modularity(H_, Ẑ, Ω̂; α = nothing) - n*log(length(unique(Z)))\n",
    "k = length(unique(Ẑ))\n",
    "println(round(Q - n * log(k)), \"    \", k, \"    \", t)"
   ]
  },
  {
   "cell_type": "code",
   "execution_count": 58,
   "metadata": {},
   "outputs": [
    {
     "name": "stdout",
     "output_type": "stream",
     "text": [
      "-4.394645e+06    -412218.0   -4.806863e+06    1044    21.357420084\n",
      "-4.064628e+06    -413510.0   -4.478138e+06    1067    68.847220794\n",
      "-3.87094e+06    -415693.0   -4.286633e+06    1107    68.0647816\n",
      "-3.790749e+06    -417953.0   -4.208702e+06    1150    73.945746394\n",
      "-3.742153e+06    -419480.0   -4.161633e+06    1180    72.335793413\n",
      "-3.730414e+06    -420920.0   -4.151334e+06    1209    23.261946143\n",
      "-3.713118e+06    -421845.0   -4.134963e+06    1228    77.404249302\n",
      "-3.707867e+06    -422374.0   -4.130241e+06    1239    24.516362609\n",
      "-3.706195e+06    -422708.0   -4.128903e+06    1246    77.272736499\n",
      "-3.701791e+06    -423276.0   -4.125067e+06    1258    73.258317537\n"
     ]
    }
   ],
   "source": [
    "for i ∈ 1:10\n",
    "    Ẑ, t = @timed SuperNode_PPLouvain(H_, Ω̂; α = 0, verbose = false, Z0 = collect(1:n), clusterpenalty = n)\n",
    "    Ω̂ = estimateΩEmpirically(H_, Ẑ; aggregator = p -> [length(p) == 1, sum(p)], bigNums = true);\n",
    "    Q = modularity(H_, Ẑ, Ω̂; α = nothing)\n",
    "    k = length(unique(Ẑ))\n",
    "    penalty = round( - n * log(k))\n",
    "    println(round(Q), \"    \", penalty , \"   \", round(Q + penalty),\"    \", k, \"    \", t)\n",
    "end"
   ]
  },
  {
   "cell_type": "code",
   "execution_count": 59,
   "metadata": {},
   "outputs": [
    {
     "data": {
      "text/plain": [
       "0.708864615308239"
      ]
     },
     "execution_count": 59,
     "metadata": {},
     "output_type": "execute_result"
    }
   ],
   "source": [
    "mutualInformation(Z_, Ẑ, true)"
   ]
  },
  {
   "cell_type": "code",
   "execution_count": 60,
   "metadata": {},
   "outputs": [
    {
     "data": {
      "image/svg+xml": [
       "<?xml version=\"1.0\" encoding=\"utf-8\"?>\n",
       "<svg xmlns=\"http://www.w3.org/2000/svg\" xmlns:xlink=\"http://www.w3.org/1999/xlink\" width=\"600\" height=\"400\" viewBox=\"0 0 2400 1600\">\n",
       "<defs>\n",
       "  <clipPath id=\"clip490\">\n",
       "    <rect x=\"0\" y=\"0\" width=\"2400\" height=\"1600\"/>\n",
       "  </clipPath>\n",
       "</defs>\n",
       "<path clip-path=\"url(#clip490)\" d=\"\n",
       "M0 1600 L2400 1600 L2400 0 L0 0  Z\n",
       "  \" fill=\"#ffffff\" fill-rule=\"evenodd\" fill-opacity=\"1\"/>\n",
       "<defs>\n",
       "  <clipPath id=\"clip491\">\n",
       "    <rect x=\"480\" y=\"0\" width=\"1681\" height=\"1600\"/>\n",
       "  </clipPath>\n",
       "</defs>\n",
       "<path clip-path=\"url(#clip490)\" d=\"\n",
       "M139.191 1486.45 L2352.76 1486.45 L2352.76 47.2441 L139.191 47.2441  Z\n",
       "  \" fill=\"#ffffff\" fill-rule=\"evenodd\" fill-opacity=\"1\"/>\n",
       "<defs>\n",
       "  <clipPath id=\"clip492\">\n",
       "    <rect x=\"139\" y=\"47\" width=\"2215\" height=\"1440\"/>\n",
       "  </clipPath>\n",
       "</defs>\n",
       "<polyline clip-path=\"url(#clip492)\" style=\"stroke:#000000; stroke-width:2; stroke-opacity:0.1; fill:none\" points=\"\n",
       "  201.839,1486.45 201.839,47.2441 \n",
       "  \"/>\n",
       "<polyline clip-path=\"url(#clip492)\" style=\"stroke:#000000; stroke-width:2; stroke-opacity:0.1; fill:none\" points=\"\n",
       "  723.906,1486.45 723.906,47.2441 \n",
       "  \"/>\n",
       "<polyline clip-path=\"url(#clip492)\" style=\"stroke:#000000; stroke-width:2; stroke-opacity:0.1; fill:none\" points=\"\n",
       "  1245.97,1486.45 1245.97,47.2441 \n",
       "  \"/>\n",
       "<polyline clip-path=\"url(#clip492)\" style=\"stroke:#000000; stroke-width:2; stroke-opacity:0.1; fill:none\" points=\"\n",
       "  1768.04,1486.45 1768.04,47.2441 \n",
       "  \"/>\n",
       "<polyline clip-path=\"url(#clip492)\" style=\"stroke:#000000; stroke-width:2; stroke-opacity:0.1; fill:none\" points=\"\n",
       "  2290.11,1486.45 2290.11,47.2441 \n",
       "  \"/>\n",
       "<polyline clip-path=\"url(#clip492)\" style=\"stroke:#000000; stroke-width:2; stroke-opacity:0.1; fill:none\" points=\"\n",
       "  139.191,1366.9 2352.76,1366.9 \n",
       "  \"/>\n",
       "<polyline clip-path=\"url(#clip492)\" style=\"stroke:#000000; stroke-width:2; stroke-opacity:0.1; fill:none\" points=\"\n",
       "  139.191,1037.94 2352.76,1037.94 \n",
       "  \"/>\n",
       "<polyline clip-path=\"url(#clip492)\" style=\"stroke:#000000; stroke-width:2; stroke-opacity:0.1; fill:none\" points=\"\n",
       "  139.191,708.974 2352.76,708.974 \n",
       "  \"/>\n",
       "<polyline clip-path=\"url(#clip492)\" style=\"stroke:#000000; stroke-width:2; stroke-opacity:0.1; fill:none\" points=\"\n",
       "  139.191,380.011 2352.76,380.011 \n",
       "  \"/>\n",
       "<polyline clip-path=\"url(#clip492)\" style=\"stroke:#000000; stroke-width:2; stroke-opacity:0.1; fill:none\" points=\"\n",
       "  139.191,51.0479 2352.76,51.0479 \n",
       "  \"/>\n",
       "<polyline clip-path=\"url(#clip490)\" style=\"stroke:#000000; stroke-width:4; stroke-opacity:1; fill:none\" points=\"\n",
       "  139.191,1486.45 2352.76,1486.45 \n",
       "  \"/>\n",
       "<polyline clip-path=\"url(#clip490)\" style=\"stroke:#000000; stroke-width:4; stroke-opacity:1; fill:none\" points=\"\n",
       "  139.191,1486.45 139.191,47.2441 \n",
       "  \"/>\n",
       "<polyline clip-path=\"url(#clip490)\" style=\"stroke:#000000; stroke-width:4; stroke-opacity:1; fill:none\" points=\"\n",
       "  201.839,1486.45 201.839,1469.18 \n",
       "  \"/>\n",
       "<polyline clip-path=\"url(#clip490)\" style=\"stroke:#000000; stroke-width:4; stroke-opacity:1; fill:none\" points=\"\n",
       "  723.906,1486.45 723.906,1469.18 \n",
       "  \"/>\n",
       "<polyline clip-path=\"url(#clip490)\" style=\"stroke:#000000; stroke-width:4; stroke-opacity:1; fill:none\" points=\"\n",
       "  1245.97,1486.45 1245.97,1469.18 \n",
       "  \"/>\n",
       "<polyline clip-path=\"url(#clip490)\" style=\"stroke:#000000; stroke-width:4; stroke-opacity:1; fill:none\" points=\"\n",
       "  1768.04,1486.45 1768.04,1469.18 \n",
       "  \"/>\n",
       "<polyline clip-path=\"url(#clip490)\" style=\"stroke:#000000; stroke-width:4; stroke-opacity:1; fill:none\" points=\"\n",
       "  2290.11,1486.45 2290.11,1469.18 \n",
       "  \"/>\n",
       "<polyline clip-path=\"url(#clip490)\" style=\"stroke:#000000; stroke-width:4; stroke-opacity:1; fill:none\" points=\"\n",
       "  139.191,1366.9 165.754,1366.9 \n",
       "  \"/>\n",
       "<polyline clip-path=\"url(#clip490)\" style=\"stroke:#000000; stroke-width:4; stroke-opacity:1; fill:none\" points=\"\n",
       "  139.191,1037.94 165.754,1037.94 \n",
       "  \"/>\n",
       "<polyline clip-path=\"url(#clip490)\" style=\"stroke:#000000; stroke-width:4; stroke-opacity:1; fill:none\" points=\"\n",
       "  139.191,708.974 165.754,708.974 \n",
       "  \"/>\n",
       "<polyline clip-path=\"url(#clip490)\" style=\"stroke:#000000; stroke-width:4; stroke-opacity:1; fill:none\" points=\"\n",
       "  139.191,380.011 165.754,380.011 \n",
       "  \"/>\n",
       "<polyline clip-path=\"url(#clip490)\" style=\"stroke:#000000; stroke-width:4; stroke-opacity:1; fill:none\" points=\"\n",
       "  139.191,51.0479 165.754,51.0479 \n",
       "  \"/>\n",
       "<path clip-path=\"url(#clip490)\" d=\"M 0 0 M196.492 1535.98 L212.811 1535.98 L212.811 1539.92 L190.867 1539.92 L190.867 1535.98 Q193.529 1533.23 198.112 1528.6 Q202.719 1523.95 203.899 1522.61 Q206.145 1520.08 207.024 1518.35 Q207.927 1516.59 207.927 1514.9 Q207.927 1512.14 205.982 1510.41 Q204.061 1508.67 200.959 1508.67 Q198.76 1508.67 196.307 1509.43 Q193.876 1510.2 191.098 1511.75 L191.098 1507.03 Q193.922 1505.89 196.376 1505.31 Q198.83 1504.73 200.867 1504.73 Q206.237 1504.73 209.432 1507.42 Q212.626 1510.11 212.626 1514.6 Q212.626 1516.73 211.816 1518.65 Q211.029 1520.54 208.922 1523.14 Q208.344 1523.81 205.242 1527.03 Q202.14 1530.22 196.492 1535.98 Z\" fill=\"#000000\" fill-rule=\"evenodd\" fill-opacity=\"1\" /><path clip-path=\"url(#clip490)\" d=\"M 0 0 M726.915 1509.43 L715.11 1527.88 L726.915 1527.88 L726.915 1509.43 M725.689 1505.36 L731.568 1505.36 L731.568 1527.88 L736.499 1527.88 L736.499 1531.77 L731.568 1531.77 L731.568 1539.92 L726.915 1539.92 L726.915 1531.77 L711.314 1531.77 L711.314 1527.26 L725.689 1505.36 Z\" fill=\"#000000\" fill-rule=\"evenodd\" fill-opacity=\"1\" /><path clip-path=\"url(#clip490)\" d=\"M 0 0 M1246.38 1520.78 Q1243.23 1520.78 1241.38 1522.93 Q1239.55 1525.08 1239.55 1528.83 Q1239.55 1532.56 1241.38 1534.73 Q1243.23 1536.89 1246.38 1536.89 Q1249.53 1536.89 1251.36 1534.73 Q1253.21 1532.56 1253.21 1528.83 Q1253.21 1525.08 1251.36 1522.93 Q1249.53 1520.78 1246.38 1520.78 M1255.66 1506.12 L1255.66 1510.38 Q1253.9 1509.55 1252.1 1509.11 Q1250.31 1508.67 1248.55 1508.67 Q1243.92 1508.67 1241.47 1511.8 Q1239.04 1514.92 1238.69 1521.24 Q1240.06 1519.23 1242.12 1518.16 Q1244.18 1517.07 1246.66 1517.07 Q1251.86 1517.07 1254.87 1520.24 Q1257.91 1523.39 1257.91 1528.83 Q1257.91 1534.16 1254.76 1537.37 Q1251.61 1540.59 1246.38 1540.59 Q1240.38 1540.59 1237.21 1536.01 Q1234.04 1531.4 1234.04 1522.67 Q1234.04 1514.48 1237.93 1509.62 Q1241.82 1504.73 1248.37 1504.73 Q1250.13 1504.73 1251.91 1505.08 Q1253.72 1505.43 1255.66 1506.12 Z\" fill=\"#000000\" fill-rule=\"evenodd\" fill-opacity=\"1\" /><path clip-path=\"url(#clip490)\" d=\"M 0 0 M1768.04 1523.51 Q1764.71 1523.51 1762.79 1525.29 Q1760.89 1527.07 1760.89 1530.2 Q1760.89 1533.32 1762.79 1535.11 Q1764.71 1536.89 1768.04 1536.89 Q1771.37 1536.89 1773.3 1535.11 Q1775.22 1533.3 1775.22 1530.2 Q1775.22 1527.07 1773.3 1525.29 Q1771.4 1523.51 1768.04 1523.51 M1763.36 1521.52 Q1760.36 1520.78 1758.67 1518.72 Q1757 1516.66 1757 1513.69 Q1757 1509.55 1759.94 1507.14 Q1762.9 1504.73 1768.04 1504.73 Q1773.2 1504.73 1776.14 1507.14 Q1779.08 1509.55 1779.08 1513.69 Q1779.08 1516.66 1777.39 1518.72 Q1775.73 1520.78 1772.74 1521.52 Q1776.12 1522.3 1777.99 1524.6 Q1779.89 1526.89 1779.89 1530.2 Q1779.89 1535.22 1776.81 1537.91 Q1773.76 1540.59 1768.04 1540.59 Q1762.32 1540.59 1759.24 1537.91 Q1756.19 1535.22 1756.19 1530.2 Q1756.19 1526.89 1758.09 1524.6 Q1759.99 1522.3 1763.36 1521.52 M1761.65 1514.13 Q1761.65 1516.82 1763.32 1518.32 Q1765.01 1519.83 1768.04 1519.83 Q1771.05 1519.83 1772.74 1518.32 Q1774.45 1516.82 1774.45 1514.13 Q1774.45 1511.45 1772.74 1509.94 Q1771.05 1508.44 1768.04 1508.44 Q1765.01 1508.44 1763.32 1509.94 Q1761.65 1511.45 1761.65 1514.13 Z\" fill=\"#000000\" fill-rule=\"evenodd\" fill-opacity=\"1\" /><path clip-path=\"url(#clip490)\" d=\"M 0 0 M2266.98 1535.98 L2274.62 1535.98 L2274.62 1509.62 L2266.31 1511.29 L2266.31 1507.03 L2274.58 1505.36 L2279.25 1505.36 L2279.25 1535.98 L2286.89 1535.98 L2286.89 1539.92 L2266.98 1539.92 L2266.98 1535.98 Z\" fill=\"#000000\" fill-rule=\"evenodd\" fill-opacity=\"1\" /><path clip-path=\"url(#clip490)\" d=\"M 0 0 M2301.96 1508.44 Q2298.35 1508.44 2296.52 1512 Q2294.71 1515.55 2294.71 1522.67 Q2294.71 1529.78 2296.52 1533.35 Q2298.35 1536.89 2301.96 1536.89 Q2305.59 1536.89 2307.4 1533.35 Q2309.23 1529.78 2309.23 1522.67 Q2309.23 1515.55 2307.4 1512 Q2305.59 1508.44 2301.96 1508.44 M2301.96 1504.73 Q2307.77 1504.73 2310.83 1509.34 Q2313.9 1513.92 2313.9 1522.67 Q2313.9 1531.4 2310.83 1536.01 Q2307.77 1540.59 2301.96 1540.59 Q2296.15 1540.59 2293.07 1536.01 Q2290.02 1531.4 2290.02 1522.67 Q2290.02 1513.92 2293.07 1509.34 Q2296.15 1504.73 2301.96 1504.73 Z\" fill=\"#000000\" fill-rule=\"evenodd\" fill-opacity=\"1\" /><path clip-path=\"url(#clip490)\" d=\"M 0 0 M68.2699 1380.24 L75.9087 1380.24 L75.9087 1353.88 L67.5986 1355.55 L67.5986 1351.29 L75.8624 1349.62 L80.5383 1349.62 L80.5383 1380.24 L88.1772 1380.24 L88.1772 1384.18 L68.2699 1384.18 L68.2699 1380.24 Z\" fill=\"#000000\" fill-rule=\"evenodd\" fill-opacity=\"1\" /><path clip-path=\"url(#clip490)\" d=\"M 0 0 M103.247 1352.7 Q99.6354 1352.7 97.8068 1356.26 Q96.0012 1359.81 96.0012 1366.93 Q96.0012 1374.04 97.8068 1377.61 Q99.6354 1381.15 103.247 1381.15 Q106.881 1381.15 108.686 1377.61 Q110.515 1374.04 110.515 1366.93 Q110.515 1359.81 108.686 1356.26 Q106.881 1352.7 103.247 1352.7 M103.247 1349 Q109.057 1349 112.112 1353.6 Q115.191 1358.18 115.191 1366.93 Q115.191 1375.66 112.112 1380.27 Q109.057 1384.85 103.247 1384.85 Q97.4364 1384.85 94.3577 1380.27 Q91.3022 1375.66 91.3022 1366.93 Q91.3022 1358.18 94.3577 1353.6 Q97.4364 1349 103.247 1349 Z\" fill=\"#000000\" fill-rule=\"evenodd\" fill-opacity=\"1\" /><path clip-path=\"url(#clip490)\" d=\"M 0 0 M71.8578 1051.28 L88.1772 1051.28 L88.1772 1055.22 L66.2328 1055.22 L66.2328 1051.28 Q68.8949 1048.53 73.4782 1043.9 Q78.0846 1039.24 79.2652 1037.9 Q81.5105 1035.38 82.3902 1033.64 Q83.2929 1031.88 83.2929 1030.19 Q83.2929 1027.44 81.3485 1025.7 Q79.4272 1023.97 76.3254 1023.97 Q74.1263 1023.97 71.6726 1024.73 Q69.2421 1025.5 66.4643 1027.05 L66.4643 1022.32 Q69.2884 1021.19 71.7421 1020.61 Q74.1958 1020.03 76.2328 1020.03 Q81.6031 1020.03 84.7976 1022.72 Q87.992 1025.4 87.992 1029.89 Q87.992 1032.02 87.1818 1033.94 Q86.3948 1035.84 84.2883 1038.43 Q83.7096 1039.11 80.6078 1042.32 Q77.5059 1045.52 71.8578 1051.28 Z\" fill=\"#000000\" fill-rule=\"evenodd\" fill-opacity=\"1\" /><path clip-path=\"url(#clip490)\" d=\"M 0 0 M103.247 1023.74 Q99.6354 1023.74 97.8068 1027.3 Q96.0012 1030.84 96.0012 1037.97 Q96.0012 1045.08 97.8068 1048.64 Q99.6354 1052.18 103.247 1052.18 Q106.881 1052.18 108.686 1048.64 Q110.515 1045.08 110.515 1037.97 Q110.515 1030.84 108.686 1027.3 Q106.881 1023.74 103.247 1023.74 M103.247 1020.03 Q109.057 1020.03 112.112 1024.64 Q115.191 1029.22 115.191 1037.97 Q115.191 1046.7 112.112 1051.31 Q109.057 1055.89 103.247 1055.89 Q97.4364 1055.89 94.3577 1051.31 Q91.3022 1046.7 91.3022 1037.97 Q91.3022 1029.22 94.3577 1024.64 Q97.4364 1020.03 103.247 1020.03 Z\" fill=\"#000000\" fill-rule=\"evenodd\" fill-opacity=\"1\" /><path clip-path=\"url(#clip490)\" d=\"M 0 0 M81.0476 707.62 Q84.404 708.337 86.279 710.606 Q88.1772 712.874 88.1772 716.208 Q88.1772 721.323 84.6587 724.124 Q81.1402 726.925 74.6587 726.925 Q72.4828 726.925 70.168 726.485 Q67.8764 726.069 65.4227 725.212 L65.4227 720.698 Q67.3671 721.833 69.6819 722.411 Q71.9967 722.99 74.5198 722.99 Q78.918 722.99 81.2096 721.254 Q83.5244 719.518 83.5244 716.208 Q83.5244 713.152 81.3717 711.439 Q79.242 709.703 75.4226 709.703 L71.3949 709.703 L71.3949 705.861 L75.6078 705.861 Q79.0569 705.861 80.8855 704.495 Q82.7142 703.106 82.7142 700.513 Q82.7142 697.851 80.8161 696.439 Q78.9411 695.004 75.4226 695.004 Q73.5013 695.004 71.3023 695.421 Q69.1032 695.837 66.4643 696.717 L66.4643 692.55 Q69.1264 691.81 71.4412 691.439 Q73.7791 691.069 75.8393 691.069 Q81.1633 691.069 84.2652 693.5 Q87.367 695.907 87.367 700.027 Q87.367 702.898 85.7235 704.888 Q84.08 706.856 81.0476 707.62 Z\" fill=\"#000000\" fill-rule=\"evenodd\" fill-opacity=\"1\" /><path clip-path=\"url(#clip490)\" d=\"M 0 0 M103.247 694.773 Q99.6354 694.773 97.8068 698.337 Q96.0012 701.879 96.0012 709.009 Q96.0012 716.115 97.8068 719.68 Q99.6354 723.222 103.247 723.222 Q106.881 723.222 108.686 719.68 Q110.515 716.115 110.515 709.009 Q110.515 701.879 108.686 698.337 Q106.881 694.773 103.247 694.773 M103.247 691.069 Q109.057 691.069 112.112 695.675 Q115.191 700.259 115.191 709.009 Q115.191 717.736 112.112 722.342 Q109.057 726.925 103.247 726.925 Q97.4364 726.925 94.3577 722.342 Q91.3022 717.736 91.3022 709.009 Q91.3022 700.259 94.3577 695.675 Q97.4364 691.069 103.247 691.069 Z\" fill=\"#000000\" fill-rule=\"evenodd\" fill-opacity=\"1\" /><path clip-path=\"url(#clip490)\" d=\"M 0 0 M78.5939 366.805 L66.7884 385.254 L78.5939 385.254 L78.5939 366.805 M77.367 362.731 L83.2466 362.731 L83.2466 385.254 L88.1772 385.254 L88.1772 389.143 L83.2466 389.143 L83.2466 397.291 L78.5939 397.291 L78.5939 389.143 L62.9921 389.143 L62.9921 384.629 L77.367 362.731 Z\" fill=\"#000000\" fill-rule=\"evenodd\" fill-opacity=\"1\" /><path clip-path=\"url(#clip490)\" d=\"M 0 0 M103.247 365.81 Q99.6354 365.81 97.8068 369.374 Q96.0012 372.916 96.0012 380.046 Q96.0012 387.152 97.8068 390.717 Q99.6354 394.259 103.247 394.259 Q106.881 394.259 108.686 390.717 Q110.515 387.152 110.515 380.046 Q110.515 372.916 108.686 369.374 Q106.881 365.81 103.247 365.81 M103.247 362.106 Q109.057 362.106 112.112 366.712 Q115.191 371.296 115.191 380.046 Q115.191 388.772 112.112 393.379 Q109.057 397.962 103.247 397.962 Q97.4364 397.962 94.3577 393.379 Q91.3022 388.772 91.3022 380.046 Q91.3022 371.296 94.3577 366.712 Q97.4364 362.106 103.247 362.106 Z\" fill=\"#000000\" fill-rule=\"evenodd\" fill-opacity=\"1\" /><path clip-path=\"url(#clip490)\" d=\"M 0 0 M67.2745 33.7679 L85.6309 33.7679 L85.6309 37.703 L71.5569 37.703 L71.5569 46.1752 Q72.5754 45.828 73.5939 45.666 Q74.6124 45.4808 75.6309 45.4808 Q81.418 45.4808 84.7976 48.6521 Q88.1772 51.8233 88.1772 57.24 Q88.1772 62.8186 84.705 65.9205 Q81.2328 68.9992 74.9134 68.9992 Q72.7374 68.9992 70.4689 68.6288 Q68.2236 68.2584 65.8162 67.5177 L65.8162 62.8186 Q67.8995 63.9529 70.1217 64.5084 Q72.3439 65.064 74.8208 65.064 Q78.8254 65.064 81.1633 62.9575 Q83.5013 60.8511 83.5013 57.24 Q83.5013 53.6289 81.1633 51.5224 Q78.8254 49.4159 74.8208 49.4159 Q72.9458 49.4159 71.0708 49.8326 Q69.2189 50.2493 67.2745 51.1289 L67.2745 33.7679 Z\" fill=\"#000000\" fill-rule=\"evenodd\" fill-opacity=\"1\" /><path clip-path=\"url(#clip490)\" d=\"M 0 0 M103.247 36.8466 Q99.6354 36.8466 97.8068 40.4114 Q96.0012 43.953 96.0012 51.0826 Q96.0012 58.189 97.8068 61.7538 Q99.6354 65.2955 103.247 65.2955 Q106.881 65.2955 108.686 61.7538 Q110.515 58.189 110.515 51.0826 Q110.515 43.953 108.686 40.4114 Q106.881 36.8466 103.247 36.8466 M103.247 33.1429 Q109.057 33.1429 112.112 37.7493 Q115.191 42.3326 115.191 51.0826 Q115.191 59.8094 112.112 64.4159 Q109.057 68.9992 103.247 68.9992 Q97.4364 68.9992 94.3577 64.4159 Q91.3022 59.8094 91.3022 51.0826 Q91.3022 42.3326 94.3577 37.7493 Q97.4364 33.1429 103.247 33.1429 Z\" fill=\"#000000\" fill-rule=\"evenodd\" fill-opacity=\"1\" /><circle clip-path=\"url(#clip492)\" cx=\"462.873\" cy=\"977.457\" r=\"14\" fill=\"#009af9\" fill-rule=\"evenodd\" fill-opacity=\"1\" stroke=\"#000000\" stroke-opacity=\"1\" stroke-width=\"3.2\"/>\n",
       "<circle clip-path=\"url(#clip492)\" cx=\"723.906\" cy=\"852.033\" r=\"14\" fill=\"#009af9\" fill-rule=\"evenodd\" fill-opacity=\"1\" stroke=\"#000000\" stroke-opacity=\"1\" stroke-width=\"3.2\"/>\n",
       "<circle clip-path=\"url(#clip492)\" cx=\"984.94\" cy=\"728.019\" r=\"14\" fill=\"#009af9\" fill-rule=\"evenodd\" fill-opacity=\"1\" stroke=\"#000000\" stroke-opacity=\"1\" stroke-width=\"3.2\"/>\n",
       "<circle clip-path=\"url(#clip492)\" cx=\"1245.97\" cy=\"602.903\" r=\"14\" fill=\"#009af9\" fill-rule=\"evenodd\" fill-opacity=\"1\" stroke=\"#000000\" stroke-opacity=\"1\" stroke-width=\"3.2\"/>\n",
       "<circle clip-path=\"url(#clip492)\" cx=\"1507.01\" cy=\"475.823\" r=\"14\" fill=\"#009af9\" fill-rule=\"evenodd\" fill-opacity=\"1\" stroke=\"#000000\" stroke-opacity=\"1\" stroke-width=\"3.2\"/>\n",
       "<circle clip-path=\"url(#clip492)\" cx=\"1768.04\" cy=\"347.302\" r=\"14\" fill=\"#009af9\" fill-rule=\"evenodd\" fill-opacity=\"1\" stroke=\"#000000\" stroke-opacity=\"1\" stroke-width=\"3.2\"/>\n",
       "<circle clip-path=\"url(#clip492)\" cx=\"2029.07\" cy=\"215.626\" r=\"14\" fill=\"#009af9\" fill-rule=\"evenodd\" fill-opacity=\"1\" stroke=\"#000000\" stroke-opacity=\"1\" stroke-width=\"3.2\"/>\n",
       "<circle clip-path=\"url(#clip492)\" cx=\"2290.11\" cy=\"87.9763\" r=\"14\" fill=\"#009af9\" fill-rule=\"evenodd\" fill-opacity=\"1\" stroke=\"#000000\" stroke-opacity=\"1\" stroke-width=\"3.2\"/>\n",
       "<circle clip-path=\"url(#clip492)\" cx=\"462.873\" cy=\"1392.29\" r=\"14\" fill=\"#e26f46\" fill-rule=\"evenodd\" fill-opacity=\"1\" stroke=\"#000000\" stroke-opacity=\"1\" stroke-width=\"3.2\"/>\n",
       "<circle clip-path=\"url(#clip492)\" cx=\"723.906\" cy=\"1396.87\" r=\"14\" fill=\"#e26f46\" fill-rule=\"evenodd\" fill-opacity=\"1\" stroke=\"#000000\" stroke-opacity=\"1\" stroke-width=\"3.2\"/>\n",
       "<circle clip-path=\"url(#clip492)\" cx=\"984.94\" cy=\"1405.33\" r=\"14\" fill=\"#e26f46\" fill-rule=\"evenodd\" fill-opacity=\"1\" stroke=\"#000000\" stroke-opacity=\"1\" stroke-width=\"3.2\"/>\n",
       "<circle clip-path=\"url(#clip492)\" cx=\"1245.97\" cy=\"1416.87\" r=\"14\" fill=\"#e26f46\" fill-rule=\"evenodd\" fill-opacity=\"1\" stroke=\"#000000\" stroke-opacity=\"1\" stroke-width=\"3.2\"/>\n",
       "<circle clip-path=\"url(#clip492)\" cx=\"1507.01\" cy=\"1425.45\" r=\"14\" fill=\"#e26f46\" fill-rule=\"evenodd\" fill-opacity=\"1\" stroke=\"#000000\" stroke-opacity=\"1\" stroke-width=\"3.2\"/>\n",
       "<circle clip-path=\"url(#clip492)\" cx=\"1768.04\" cy=\"1431.5\" r=\"14\" fill=\"#e26f46\" fill-rule=\"evenodd\" fill-opacity=\"1\" stroke=\"#000000\" stroke-opacity=\"1\" stroke-width=\"3.2\"/>\n",
       "<circle clip-path=\"url(#clip492)\" cx=\"2029.07\" cy=\"1440.95\" r=\"14\" fill=\"#e26f46\" fill-rule=\"evenodd\" fill-opacity=\"1\" stroke=\"#000000\" stroke-opacity=\"1\" stroke-width=\"3.2\"/>\n",
       "<circle clip-path=\"url(#clip492)\" cx=\"2290.11\" cy=\"1445.72\" r=\"14\" fill=\"#e26f46\" fill-rule=\"evenodd\" fill-opacity=\"1\" stroke=\"#000000\" stroke-opacity=\"1\" stroke-width=\"3.2\"/>\n",
       "<path clip-path=\"url(#clip490)\" d=\"\n",
       "M1989.74 312.204 L2280.76 312.204 L2280.76 130.764 L1989.74 130.764  Z\n",
       "  \" fill=\"#ffffff\" fill-rule=\"evenodd\" fill-opacity=\"1\"/>\n",
       "<polyline clip-path=\"url(#clip490)\" style=\"stroke:#000000; stroke-width:4; stroke-opacity:1; fill:none\" points=\"\n",
       "  1989.74,312.204 2280.76,312.204 2280.76,130.764 1989.74,130.764 1989.74,312.204 \n",
       "  \"/>\n",
       "<circle clip-path=\"url(#clip490)\" cx=\"2097.74\" cy=\"191.244\" r=\"23\" fill=\"#009af9\" fill-rule=\"evenodd\" fill-opacity=\"1\" stroke=\"#000000\" stroke-opacity=\"1\" stroke-width=\"5.12\"/>\n",
       "<path clip-path=\"url(#clip490)\" d=\"M 0 0 M2195.58 210.931 Q2193.77 215.561 2192.06 216.973 Q2190.35 218.385 2187.48 218.385 L2184.08 218.385 L2184.08 214.82 L2186.58 214.82 Q2188.33 214.82 2189.31 213.987 Q2190.28 213.154 2191.46 210.052 L2192.22 208.107 L2181.74 182.598 L2186.25 182.598 L2194.35 202.876 L2202.46 182.598 L2206.97 182.598 L2195.58 210.931 Z\" fill=\"#000000\" fill-rule=\"evenodd\" fill-opacity=\"1\" /><path clip-path=\"url(#clip490)\" d=\"M 0 0 M2212.85 204.589 L2220.49 204.589 L2220.49 178.223 L2212.18 179.89 L2212.18 175.631 L2220.44 173.964 L2225.12 173.964 L2225.12 204.589 L2232.76 204.589 L2232.76 208.524 L2212.85 208.524 L2212.85 204.589 Z\" fill=\"#000000\" fill-rule=\"evenodd\" fill-opacity=\"1\" /><circle clip-path=\"url(#clip490)\" cx=\"2097.74\" cy=\"251.724\" r=\"23\" fill=\"#e26f46\" fill-rule=\"evenodd\" fill-opacity=\"1\" stroke=\"#000000\" stroke-opacity=\"1\" stroke-width=\"5.12\"/>\n",
       "<path clip-path=\"url(#clip490)\" d=\"M 0 0 M2195.58 271.411 Q2193.77 276.041 2192.06 277.453 Q2190.35 278.865 2187.48 278.865 L2184.08 278.865 L2184.08 275.3 L2186.58 275.3 Q2188.33 275.3 2189.31 274.467 Q2190.28 273.634 2191.46 270.532 L2192.22 268.587 L2181.74 243.078 L2186.25 243.078 L2194.35 263.356 L2202.46 243.078 L2206.97 243.078 L2195.58 271.411 Z\" fill=\"#000000\" fill-rule=\"evenodd\" fill-opacity=\"1\" /><path clip-path=\"url(#clip490)\" d=\"M 0 0 M2216.07 265.069 L2232.39 265.069 L2232.39 269.004 L2210.44 269.004 L2210.44 265.069 Q2213.1 262.314 2217.69 257.685 Q2222.29 253.032 2223.47 251.689 Q2225.72 249.166 2226.6 247.43 Q2227.5 245.671 2227.5 243.981 Q2227.5 241.226 2225.56 239.49 Q2223.64 237.754 2220.53 237.754 Q2218.33 237.754 2215.88 238.518 Q2213.45 239.282 2210.67 240.833 L2210.67 236.111 Q2213.5 234.976 2215.95 234.398 Q2218.4 233.819 2220.44 233.819 Q2225.81 233.819 2229.01 236.504 Q2232.2 239.189 2232.2 243.68 Q2232.2 245.81 2231.39 247.731 Q2230.6 249.629 2228.5 252.222 Q2227.92 252.893 2224.82 256.111 Q2221.71 259.305 2216.07 265.069 Z\" fill=\"#000000\" fill-rule=\"evenodd\" fill-opacity=\"1\" /></svg>\n"
      ]
     },
     "execution_count": 60,
     "metadata": {},
     "output_type": "execute_result"
    }
   ],
   "source": [
    "using Plots\n",
    "\n",
    "v = log.([Ω̂.ω([1, i], 0) / Ω̂.ω([0, i], 0) for i in 2:kmax])\n",
    "\n",
    "plot(collect(2:kmax),\n",
    "    log.([Ω̂.ω([1, i], 0)*big(sum(H.D))^i for i in 2:kmax]), \n",
    "    seriestype = :scatter)\n",
    "\n",
    "plot!(collect(2:kmax),\n",
    "    log.([Ω̂.ω([0, i], 0)*big(sum(H.D))^i for i in 2:kmax]), \n",
    "    seriestype = :scatter)"
   ]
  },
  {
   "cell_type": "code",
   "execution_count": 61,
   "metadata": {},
   "outputs": [
    {
     "data": {
      "image/svg+xml": [
       "<?xml version=\"1.0\" encoding=\"utf-8\"?>\n",
       "<svg xmlns=\"http://www.w3.org/2000/svg\" xmlns:xlink=\"http://www.w3.org/1999/xlink\" width=\"600\" height=\"400\" viewBox=\"0 0 2400 1600\">\n",
       "<defs>\n",
       "  <clipPath id=\"clip530\">\n",
       "    <rect x=\"0\" y=\"0\" width=\"2400\" height=\"1600\"/>\n",
       "  </clipPath>\n",
       "</defs>\n",
       "<path clip-path=\"url(#clip530)\" d=\"\n",
       "M0 1600 L2400 1600 L2400 0 L0 0  Z\n",
       "  \" fill=\"#ffffff\" fill-rule=\"evenodd\" fill-opacity=\"1\"/>\n",
       "<defs>\n",
       "  <clipPath id=\"clip531\">\n",
       "    <rect x=\"480\" y=\"0\" width=\"1681\" height=\"1600\"/>\n",
       "  </clipPath>\n",
       "</defs>\n",
       "<path clip-path=\"url(#clip530)\" d=\"\n",
       "M379.329 1486.45 L2352.76 1486.45 L2352.76 47.2441 L379.329 47.2441  Z\n",
       "  \" fill=\"#ffffff\" fill-rule=\"evenodd\" fill-opacity=\"1\"/>\n",
       "<defs>\n",
       "  <clipPath id=\"clip532\">\n",
       "    <rect x=\"379\" y=\"47\" width=\"1974\" height=\"1440\"/>\n",
       "  </clipPath>\n",
       "</defs>\n",
       "<polyline clip-path=\"url(#clip532)\" style=\"stroke:#000000; stroke-width:2; stroke-opacity:0.1; fill:none\" points=\"\n",
       "  435.18,1486.45 435.18,47.2441 \n",
       "  \"/>\n",
       "<polyline clip-path=\"url(#clip532)\" style=\"stroke:#000000; stroke-width:2; stroke-opacity:0.1; fill:none\" points=\"\n",
       "  900.611,1486.45 900.611,47.2441 \n",
       "  \"/>\n",
       "<polyline clip-path=\"url(#clip532)\" style=\"stroke:#000000; stroke-width:2; stroke-opacity:0.1; fill:none\" points=\"\n",
       "  1366.04,1486.45 1366.04,47.2441 \n",
       "  \"/>\n",
       "<polyline clip-path=\"url(#clip532)\" style=\"stroke:#000000; stroke-width:2; stroke-opacity:0.1; fill:none\" points=\"\n",
       "  1831.47,1486.45 1831.47,47.2441 \n",
       "  \"/>\n",
       "<polyline clip-path=\"url(#clip532)\" style=\"stroke:#000000; stroke-width:2; stroke-opacity:0.1; fill:none\" points=\"\n",
       "  2296.9,1486.45 2296.9,47.2441 \n",
       "  \"/>\n",
       "<polyline clip-path=\"url(#clip532)\" style=\"stroke:#000000; stroke-width:2; stroke-opacity:0.1; fill:none\" points=\"\n",
       "  379.329,1308.63 2352.76,1308.63 \n",
       "  \"/>\n",
       "<polyline clip-path=\"url(#clip532)\" style=\"stroke:#000000; stroke-width:2; stroke-opacity:0.1; fill:none\" points=\"\n",
       "  379.329,901.744 2352.76,901.744 \n",
       "  \"/>\n",
       "<polyline clip-path=\"url(#clip532)\" style=\"stroke:#000000; stroke-width:2; stroke-opacity:0.1; fill:none\" points=\"\n",
       "  379.329,494.86 2352.76,494.86 \n",
       "  \"/>\n",
       "<polyline clip-path=\"url(#clip532)\" style=\"stroke:#000000; stroke-width:2; stroke-opacity:0.1; fill:none\" points=\"\n",
       "  379.329,87.9763 2352.76,87.9763 \n",
       "  \"/>\n",
       "<polyline clip-path=\"url(#clip530)\" style=\"stroke:#000000; stroke-width:4; stroke-opacity:1; fill:none\" points=\"\n",
       "  379.329,1486.45 2352.76,1486.45 \n",
       "  \"/>\n",
       "<polyline clip-path=\"url(#clip530)\" style=\"stroke:#000000; stroke-width:4; stroke-opacity:1; fill:none\" points=\"\n",
       "  379.329,1486.45 379.329,47.2441 \n",
       "  \"/>\n",
       "<polyline clip-path=\"url(#clip530)\" style=\"stroke:#000000; stroke-width:4; stroke-opacity:1; fill:none\" points=\"\n",
       "  435.18,1486.45 435.18,1469.18 \n",
       "  \"/>\n",
       "<polyline clip-path=\"url(#clip530)\" style=\"stroke:#000000; stroke-width:4; stroke-opacity:1; fill:none\" points=\"\n",
       "  900.611,1486.45 900.611,1469.18 \n",
       "  \"/>\n",
       "<polyline clip-path=\"url(#clip530)\" style=\"stroke:#000000; stroke-width:4; stroke-opacity:1; fill:none\" points=\"\n",
       "  1366.04,1486.45 1366.04,1469.18 \n",
       "  \"/>\n",
       "<polyline clip-path=\"url(#clip530)\" style=\"stroke:#000000; stroke-width:4; stroke-opacity:1; fill:none\" points=\"\n",
       "  1831.47,1486.45 1831.47,1469.18 \n",
       "  \"/>\n",
       "<polyline clip-path=\"url(#clip530)\" style=\"stroke:#000000; stroke-width:4; stroke-opacity:1; fill:none\" points=\"\n",
       "  2296.9,1486.45 2296.9,1469.18 \n",
       "  \"/>\n",
       "<polyline clip-path=\"url(#clip530)\" style=\"stroke:#000000; stroke-width:4; stroke-opacity:1; fill:none\" points=\"\n",
       "  379.329,1308.63 403.01,1308.63 \n",
       "  \"/>\n",
       "<polyline clip-path=\"url(#clip530)\" style=\"stroke:#000000; stroke-width:4; stroke-opacity:1; fill:none\" points=\"\n",
       "  379.329,901.744 403.01,901.744 \n",
       "  \"/>\n",
       "<polyline clip-path=\"url(#clip530)\" style=\"stroke:#000000; stroke-width:4; stroke-opacity:1; fill:none\" points=\"\n",
       "  379.329,494.86 403.01,494.86 \n",
       "  \"/>\n",
       "<polyline clip-path=\"url(#clip530)\" style=\"stroke:#000000; stroke-width:4; stroke-opacity:1; fill:none\" points=\"\n",
       "  379.329,87.9763 403.01,87.9763 \n",
       "  \"/>\n",
       "<path clip-path=\"url(#clip530)\" d=\"M 0 0 M429.833 1535.98 L446.152 1535.98 L446.152 1539.92 L424.208 1539.92 L424.208 1535.98 Q426.87 1533.23 431.453 1528.6 Q436.06 1523.95 437.24 1522.61 Q439.486 1520.08 440.365 1518.35 Q441.268 1516.59 441.268 1514.9 Q441.268 1512.14 439.324 1510.41 Q437.402 1508.67 434.301 1508.67 Q432.102 1508.67 429.648 1509.43 Q427.217 1510.2 424.44 1511.75 L424.44 1507.03 Q427.264 1505.89 429.717 1505.31 Q432.171 1504.73 434.208 1504.73 Q439.578 1504.73 442.773 1507.42 Q445.967 1510.11 445.967 1514.6 Q445.967 1516.73 445.157 1518.65 Q444.37 1520.54 442.264 1523.14 Q441.685 1523.81 438.583 1527.03 Q435.481 1530.22 429.833 1535.98 Z\" fill=\"#000000\" fill-rule=\"evenodd\" fill-opacity=\"1\" /><path clip-path=\"url(#clip530)\" d=\"M 0 0 M903.62 1509.43 L891.815 1527.88 L903.62 1527.88 L903.62 1509.43 M902.394 1505.36 L908.273 1505.36 L908.273 1527.88 L913.204 1527.88 L913.204 1531.77 L908.273 1531.77 L908.273 1539.92 L903.62 1539.92 L903.62 1531.77 L888.019 1531.77 L888.019 1527.26 L902.394 1505.36 Z\" fill=\"#000000\" fill-rule=\"evenodd\" fill-opacity=\"1\" /><path clip-path=\"url(#clip530)\" d=\"M 0 0 M1366.45 1520.78 Q1363.3 1520.78 1361.45 1522.93 Q1359.62 1525.08 1359.62 1528.83 Q1359.62 1532.56 1361.45 1534.73 Q1363.3 1536.89 1366.45 1536.89 Q1369.6 1536.89 1371.42 1534.73 Q1373.28 1532.56 1373.28 1528.83 Q1373.28 1525.08 1371.42 1522.93 Q1369.6 1520.78 1366.45 1520.78 M1375.73 1506.12 L1375.73 1510.38 Q1373.97 1509.55 1372.16 1509.11 Q1370.38 1508.67 1368.62 1508.67 Q1363.99 1508.67 1361.54 1511.8 Q1359.11 1514.92 1358.76 1521.24 Q1360.13 1519.23 1362.19 1518.16 Q1364.25 1517.07 1366.73 1517.07 Q1371.93 1517.07 1374.94 1520.24 Q1377.98 1523.39 1377.98 1528.83 Q1377.98 1534.16 1374.83 1537.37 Q1371.68 1540.59 1366.45 1540.59 Q1360.45 1540.59 1357.28 1536.01 Q1354.11 1531.4 1354.11 1522.67 Q1354.11 1514.48 1358 1509.62 Q1361.89 1504.73 1368.44 1504.73 Q1370.2 1504.73 1371.98 1505.08 Q1373.79 1505.43 1375.73 1506.12 Z\" fill=\"#000000\" fill-rule=\"evenodd\" fill-opacity=\"1\" /><path clip-path=\"url(#clip530)\" d=\"M 0 0 M1831.47 1523.51 Q1828.14 1523.51 1826.22 1525.29 Q1824.32 1527.07 1824.32 1530.2 Q1824.32 1533.32 1826.22 1535.11 Q1828.14 1536.89 1831.47 1536.89 Q1834.81 1536.89 1836.73 1535.11 Q1838.65 1533.3 1838.65 1530.2 Q1838.65 1527.07 1836.73 1525.29 Q1834.83 1523.51 1831.47 1523.51 M1826.8 1521.52 Q1823.79 1520.78 1822.1 1518.72 Q1820.43 1516.66 1820.43 1513.69 Q1820.43 1509.55 1823.37 1507.14 Q1826.33 1504.73 1831.47 1504.73 Q1836.64 1504.73 1839.58 1507.14 Q1842.51 1509.55 1842.51 1513.69 Q1842.51 1516.66 1840.83 1518.72 Q1839.16 1520.78 1836.17 1521.52 Q1839.55 1522.3 1841.43 1524.6 Q1843.32 1526.89 1843.32 1530.2 Q1843.32 1535.22 1840.25 1537.91 Q1837.19 1540.59 1831.47 1540.59 Q1825.76 1540.59 1822.68 1537.91 Q1819.62 1535.22 1819.62 1530.2 Q1819.62 1526.89 1821.52 1524.6 Q1823.42 1522.3 1826.8 1521.52 M1825.08 1514.13 Q1825.08 1516.82 1826.75 1518.32 Q1828.44 1519.83 1831.47 1519.83 Q1834.48 1519.83 1836.17 1518.32 Q1837.89 1516.82 1837.89 1514.13 Q1837.89 1511.45 1836.17 1509.94 Q1834.48 1508.44 1831.47 1508.44 Q1828.44 1508.44 1826.75 1509.94 Q1825.08 1511.45 1825.08 1514.13 Z\" fill=\"#000000\" fill-rule=\"evenodd\" fill-opacity=\"1\" /><path clip-path=\"url(#clip530)\" d=\"M 0 0 M2273.78 1535.98 L2281.42 1535.98 L2281.42 1509.62 L2273.11 1511.29 L2273.11 1507.03 L2281.37 1505.36 L2286.05 1505.36 L2286.05 1535.98 L2293.69 1535.98 L2293.69 1539.92 L2273.78 1539.92 L2273.78 1535.98 Z\" fill=\"#000000\" fill-rule=\"evenodd\" fill-opacity=\"1\" /><path clip-path=\"url(#clip530)\" d=\"M 0 0 M2308.76 1508.44 Q2305.14 1508.44 2303.32 1512 Q2301.51 1515.55 2301.51 1522.67 Q2301.51 1529.78 2303.32 1533.35 Q2305.14 1536.89 2308.76 1536.89 Q2312.39 1536.89 2314.2 1533.35 Q2316.02 1529.78 2316.02 1522.67 Q2316.02 1515.55 2314.2 1512 Q2312.39 1508.44 2308.76 1508.44 M2308.76 1504.73 Q2314.57 1504.73 2317.62 1509.34 Q2320.7 1513.92 2320.7 1522.67 Q2320.7 1531.4 2317.62 1536.01 Q2314.57 1540.59 2308.76 1540.59 Q2302.95 1540.59 2299.87 1536.01 Q2296.81 1531.4 2296.81 1522.67 Q2296.81 1513.92 2299.87 1509.34 Q2302.95 1504.73 2308.76 1504.73 Z\" fill=\"#000000\" fill-rule=\"evenodd\" fill-opacity=\"1\" /><path clip-path=\"url(#clip530)\" d=\"M 0 0 M75.7756 1331.64 L75.7756 1327.38 Q77.5349 1328.21 79.3404 1328.65 Q81.146 1329.09 82.8821 1329.09 Q87.5117 1329.09 89.9422 1325.99 Q92.3959 1322.86 92.7431 1316.52 Q91.4005 1318.51 89.3404 1319.58 Q87.2802 1320.64 84.7802 1320.64 Q79.595 1320.64 76.5627 1317.52 Q73.5534 1314.37 73.5534 1308.93 Q73.5534 1303.61 76.7015 1300.39 Q79.8497 1297.17 85.0811 1297.17 Q91.0765 1297.17 94.2246 1301.78 Q97.3959 1306.36 97.3959 1315.11 Q97.3959 1323.28 93.507 1328.17 Q89.6413 1333.03 83.0904 1333.03 Q81.3311 1333.03 79.5256 1332.68 Q77.7201 1332.33 75.7756 1331.64 M85.0811 1316.99 Q88.2293 1316.99 90.058 1314.83 Q91.9098 1312.68 91.9098 1308.93 Q91.9098 1305.2 90.058 1303.05 Q88.2293 1300.87 85.0811 1300.87 Q81.933 1300.87 80.0812 1303.05 Q78.2525 1305.2 78.2525 1308.93 Q78.2525 1312.68 80.0812 1314.83 Q81.933 1316.99 85.0811 1316.99 Z\" fill=\"#000000\" fill-rule=\"evenodd\" fill-opacity=\"1\" /><path clip-path=\"url(#clip530)\" d=\"M 0 0 M102.465 1326.48 L107.35 1326.48 L107.35 1332.36 L102.465 1332.36 L102.465 1326.48 Z\" fill=\"#000000\" fill-rule=\"evenodd\" fill-opacity=\"1\" /><path clip-path=\"url(#clip530)\" d=\"M 0 0 M112.558 1331.64 L112.558 1327.38 Q114.317 1328.21 116.123 1328.65 Q117.928 1329.09 119.664 1329.09 Q124.294 1329.09 126.724 1325.99 Q129.178 1322.86 129.525 1316.52 Q128.183 1318.51 126.123 1319.58 Q124.062 1320.64 121.562 1320.64 Q116.377 1320.64 113.345 1317.52 Q110.336 1314.37 110.336 1308.93 Q110.336 1303.61 113.484 1300.39 Q116.632 1297.17 121.863 1297.17 Q127.859 1297.17 131.007 1301.78 Q134.178 1306.36 134.178 1315.11 Q134.178 1323.28 130.289 1328.17 Q126.423 1333.03 119.873 1333.03 Q118.113 1333.03 116.308 1332.68 Q114.502 1332.33 112.558 1331.64 M121.863 1316.99 Q125.011 1316.99 126.84 1314.83 Q128.692 1312.68 128.692 1308.93 Q128.692 1305.2 126.84 1303.05 Q125.011 1300.87 121.863 1300.87 Q118.715 1300.87 116.863 1303.05 Q115.035 1305.2 115.035 1308.93 Q115.035 1312.68 116.863 1314.83 Q118.715 1316.99 121.863 1316.99 Z\" fill=\"#000000\" fill-rule=\"evenodd\" fill-opacity=\"1\" /><path clip-path=\"url(#clip530)\" d=\"M 0 0 M139.386 1331.64 L139.386 1327.38 Q141.146 1328.21 142.951 1328.65 Q144.757 1329.09 146.493 1329.09 Q151.122 1329.09 153.553 1325.99 Q156.007 1322.86 156.354 1316.52 Q155.011 1318.51 152.951 1319.58 Q150.891 1320.64 148.391 1320.64 Q143.206 1320.64 140.173 1317.52 Q137.164 1314.37 137.164 1308.93 Q137.164 1303.61 140.312 1300.39 Q143.46 1297.17 148.692 1297.17 Q154.687 1297.17 157.835 1301.78 Q161.007 1306.36 161.007 1315.11 Q161.007 1323.28 157.118 1328.17 Q153.252 1333.03 146.701 1333.03 Q144.942 1333.03 143.136 1332.68 Q141.331 1332.33 139.386 1331.64 M148.692 1316.99 Q151.84 1316.99 153.669 1314.83 Q155.521 1312.68 155.521 1308.93 Q155.521 1305.2 153.669 1303.05 Q151.84 1300.87 148.692 1300.87 Q145.544 1300.87 143.692 1303.05 Q141.863 1305.2 141.863 1308.93 Q141.863 1312.68 143.692 1314.83 Q145.544 1316.99 148.692 1316.99 Z\" fill=\"#000000\" fill-rule=\"evenodd\" fill-opacity=\"1\" /><path clip-path=\"url(#clip530)\" d=\"M 0 0 M166.215 1331.64 L166.215 1327.38 Q167.974 1328.21 169.78 1328.65 Q171.585 1329.09 173.321 1329.09 Q177.951 1329.09 180.382 1325.99 Q182.835 1322.86 183.182 1316.52 Q181.84 1318.51 179.78 1319.58 Q177.72 1320.64 175.22 1320.64 Q170.034 1320.64 167.002 1317.52 Q163.993 1314.37 163.993 1308.93 Q163.993 1303.61 167.141 1300.39 Q170.289 1297.17 175.52 1297.17 Q181.516 1297.17 184.664 1301.78 Q187.835 1306.36 187.835 1315.11 Q187.835 1323.28 183.946 1328.17 Q180.081 1333.03 173.53 1333.03 Q171.77 1333.03 169.965 1332.68 Q168.159 1332.33 166.215 1331.64 M175.52 1316.99 Q178.669 1316.99 180.497 1314.83 Q182.349 1312.68 182.349 1308.93 Q182.349 1305.2 180.497 1303.05 Q178.669 1300.87 175.52 1300.87 Q172.372 1300.87 170.52 1303.05 Q168.692 1305.2 168.692 1308.93 Q168.692 1312.68 170.52 1314.83 Q172.372 1316.99 175.52 1316.99 Z\" fill=\"#000000\" fill-rule=\"evenodd\" fill-opacity=\"1\" /><path clip-path=\"url(#clip530)\" d=\"M 0 0 M193.044 1331.64 L193.044 1327.38 Q194.803 1328.21 196.608 1328.65 Q198.414 1329.09 200.15 1329.09 Q204.78 1329.09 207.21 1325.99 Q209.664 1322.86 210.011 1316.52 Q208.668 1318.51 206.608 1319.58 Q204.548 1320.64 202.048 1320.64 Q196.863 1320.64 193.831 1317.52 Q190.821 1314.37 190.821 1308.93 Q190.821 1303.61 193.969 1300.39 Q197.118 1297.17 202.349 1297.17 Q208.344 1297.17 211.492 1301.78 Q214.664 1306.36 214.664 1315.11 Q214.664 1323.28 210.775 1328.17 Q206.909 1333.03 200.358 1333.03 Q198.599 1333.03 196.793 1332.68 Q194.988 1332.33 193.044 1331.64 M202.349 1316.99 Q205.497 1316.99 207.326 1314.83 Q209.178 1312.68 209.178 1308.93 Q209.178 1305.2 207.326 1303.05 Q205.497 1300.87 202.349 1300.87 Q199.201 1300.87 197.349 1303.05 Q195.52 1305.2 195.52 1308.93 Q195.52 1312.68 197.349 1314.83 Q199.201 1316.99 202.349 1316.99 Z\" fill=\"#000000\" fill-rule=\"evenodd\" fill-opacity=\"1\" /><path clip-path=\"url(#clip530)\" d=\"M 0 0 M218.553 1297.8 L240.775 1297.8 L240.775 1299.79 L228.229 1332.36 L223.344 1332.36 L235.15 1301.73 L218.553 1301.73 L218.553 1297.8 Z\" fill=\"#000000\" fill-rule=\"evenodd\" fill-opacity=\"1\" /><path clip-path=\"url(#clip530)\" d=\"M 0 0 M274.015 1306.89 L263.437 1317.52 L274.015 1328.1 L271.261 1330.9 L260.636 1320.27 L250.011 1330.9 L247.279 1328.1 L257.835 1317.52 L247.279 1306.89 L250.011 1304.09 L260.636 1314.72 L271.261 1304.09 L274.015 1306.89 Z\" fill=\"#000000\" fill-rule=\"evenodd\" fill-opacity=\"1\" /><path clip-path=\"url(#clip530)\" d=\"M 0 0 M279.895 1328.42 L287.534 1328.42 L287.534 1302.05 L279.224 1303.72 L279.224 1299.46 L287.487 1297.8 L292.163 1297.8 L292.163 1328.42 L299.802 1328.42 L299.802 1332.36 L279.895 1332.36 L279.895 1328.42 Z\" fill=\"#000000\" fill-rule=\"evenodd\" fill-opacity=\"1\" /><path clip-path=\"url(#clip530)\" d=\"M 0 0 M314.872 1300.87 Q311.26 1300.87 309.432 1304.44 Q307.626 1307.98 307.626 1315.11 Q307.626 1322.22 309.432 1325.78 Q311.26 1329.32 314.872 1329.32 Q318.506 1329.32 320.311 1325.78 Q322.14 1322.22 322.14 1315.11 Q322.14 1307.98 320.311 1304.44 Q318.506 1300.87 314.872 1300.87 M314.872 1297.17 Q320.682 1297.17 323.737 1301.78 Q326.816 1306.36 326.816 1315.11 Q326.816 1323.84 323.737 1328.44 Q320.682 1333.03 314.872 1333.03 Q309.061 1333.03 305.983 1328.44 Q302.927 1323.84 302.927 1315.11 Q302.927 1306.36 305.983 1301.78 Q309.061 1297.17 314.872 1297.17 Z\" fill=\"#000000\" fill-rule=\"evenodd\" fill-opacity=\"1\" /><path clip-path=\"url(#clip530)\" d=\"M 0 0 M326.816 1284.73 L341.994 1284.73 L341.994 1286.51 L326.816 1286.51 L326.816 1284.73 Z\" fill=\"#000000\" fill-rule=\"evenodd\" fill-opacity=\"1\" /><path clip-path=\"url(#clip530)\" d=\"M 0 0 M344.928 1290.31 L348.765 1290.31 L348.765 1278.82 L344.57 1279.59 L344.57 1277.41 L348.896 1276.68 L351.473 1276.68 L351.473 1290.31 L355.329 1290.31 L355.329 1292.38 L344.928 1292.38 L344.928 1290.31 Z\" fill=\"#000000\" fill-rule=\"evenodd\" fill-opacity=\"1\" /><path clip-path=\"url(#clip530)\" d=\"M 0 0 M74.9654 924.754 L74.9654 920.495 Q76.7247 921.328 78.5302 921.768 Q80.3358 922.208 82.0719 922.208 Q86.7015 922.208 89.132 919.106 Q91.5857 915.981 91.9329 909.638 Q90.5904 911.629 88.5302 912.694 Q86.47 913.759 83.97 913.759 Q78.7849 913.759 75.7525 910.634 Q72.7432 907.486 72.7432 902.046 Q72.7432 896.722 75.8914 893.504 Q79.0395 890.287 84.2709 890.287 Q90.2663 890.287 93.4144 894.893 Q96.5857 899.476 96.5857 908.226 Q96.5857 916.398 92.6968 921.282 Q88.8311 926.143 82.2802 926.143 Q80.521 926.143 78.7154 925.796 Q76.9099 925.448 74.9654 924.754 M84.2709 910.101 Q87.4191 910.101 89.2478 907.948 Q91.0996 905.796 91.0996 902.046 Q91.0996 898.319 89.2478 896.166 Q87.4191 893.99 84.2709 893.99 Q81.1228 893.99 79.271 896.166 Q77.4423 898.319 77.4423 902.046 Q77.4423 905.796 79.271 907.948 Q81.1228 910.101 84.2709 910.101 Z\" fill=\"#000000\" fill-rule=\"evenodd\" fill-opacity=\"1\" /><path clip-path=\"url(#clip530)\" d=\"M 0 0 M101.655 919.592 L106.539 919.592 L106.539 925.472 L101.655 925.472 L101.655 919.592 Z\" fill=\"#000000\" fill-rule=\"evenodd\" fill-opacity=\"1\" /><path clip-path=\"url(#clip530)\" d=\"M 0 0 M111.748 924.754 L111.748 920.495 Q113.507 921.328 115.312 921.768 Q117.118 922.208 118.854 922.208 Q123.484 922.208 125.914 919.106 Q128.368 915.981 128.715 909.638 Q127.373 911.629 125.312 912.694 Q123.252 913.759 120.752 913.759 Q115.567 913.759 112.535 910.634 Q109.525 907.486 109.525 902.046 Q109.525 896.722 112.674 893.504 Q115.822 890.287 121.053 890.287 Q127.048 890.287 130.197 894.893 Q133.368 899.476 133.368 908.226 Q133.368 916.398 129.479 921.282 Q125.613 926.143 119.062 926.143 Q117.303 926.143 115.498 925.796 Q113.692 925.448 111.748 924.754 M121.053 910.101 Q124.201 910.101 126.03 907.948 Q127.882 905.796 127.882 902.046 Q127.882 898.319 126.03 896.166 Q124.201 893.99 121.053 893.99 Q117.905 893.99 116.053 896.166 Q114.224 898.319 114.224 902.046 Q114.224 905.796 116.053 907.948 Q117.905 910.101 121.053 910.101 Z\" fill=\"#000000\" fill-rule=\"evenodd\" fill-opacity=\"1\" /><path clip-path=\"url(#clip530)\" d=\"M 0 0 M138.576 924.754 L138.576 920.495 Q140.335 921.328 142.141 921.768 Q143.947 922.208 145.683 922.208 Q150.312 922.208 152.743 919.106 Q155.196 915.981 155.544 909.638 Q154.201 911.629 152.141 912.694 Q150.081 913.759 147.581 913.759 Q142.396 913.759 139.363 910.634 Q136.354 907.486 136.354 902.046 Q136.354 896.722 139.502 893.504 Q142.65 890.287 147.882 890.287 Q153.877 890.287 157.025 894.893 Q160.196 899.476 160.196 908.226 Q160.196 916.398 156.308 921.282 Q152.442 926.143 145.891 926.143 Q144.132 926.143 142.326 925.796 Q140.521 925.448 138.576 924.754 M147.882 910.101 Q151.03 910.101 152.859 907.948 Q154.71 905.796 154.71 902.046 Q154.71 898.319 152.859 896.166 Q151.03 893.99 147.882 893.99 Q144.734 893.99 142.882 896.166 Q141.053 898.319 141.053 902.046 Q141.053 905.796 142.882 907.948 Q144.734 910.101 147.882 910.101 Z\" fill=\"#000000\" fill-rule=\"evenodd\" fill-opacity=\"1\" /><path clip-path=\"url(#clip530)\" d=\"M 0 0 M165.405 924.754 L165.405 920.495 Q167.164 921.328 168.97 921.768 Q170.775 922.208 172.511 922.208 Q177.141 922.208 179.571 919.106 Q182.025 915.981 182.372 909.638 Q181.03 911.629 178.97 912.694 Q176.909 913.759 174.409 913.759 Q169.224 913.759 166.192 910.634 Q163.183 907.486 163.183 902.046 Q163.183 896.722 166.331 893.504 Q169.479 890.287 174.71 890.287 Q180.706 890.287 183.854 894.893 Q187.025 899.476 187.025 908.226 Q187.025 916.398 183.136 921.282 Q179.27 926.143 172.72 926.143 Q170.96 926.143 169.155 925.796 Q167.349 925.448 165.405 924.754 M174.71 910.101 Q177.858 910.101 179.687 907.948 Q181.539 905.796 181.539 902.046 Q181.539 898.319 179.687 896.166 Q177.858 893.99 174.71 893.99 Q171.562 893.99 169.71 896.166 Q167.882 898.319 167.882 902.046 Q167.882 905.796 169.71 907.948 Q171.562 910.101 174.71 910.101 Z\" fill=\"#000000\" fill-rule=\"evenodd\" fill-opacity=\"1\" /><path clip-path=\"url(#clip530)\" d=\"M 0 0 M192.233 924.754 L192.233 920.495 Q193.993 921.328 195.798 921.768 Q197.604 922.208 199.34 922.208 Q203.969 922.208 206.4 919.106 Q208.854 915.981 209.201 909.638 Q207.858 911.629 205.798 912.694 Q203.738 913.759 201.238 913.759 Q196.053 913.759 193.02 910.634 Q190.011 907.486 190.011 902.046 Q190.011 896.722 193.159 893.504 Q196.307 890.287 201.539 890.287 Q207.534 890.287 210.682 894.893 Q213.854 899.476 213.854 908.226 Q213.854 916.398 209.965 921.282 Q206.099 926.143 199.548 926.143 Q197.789 926.143 195.983 925.796 Q194.178 925.448 192.233 924.754 M201.539 910.101 Q204.687 910.101 206.516 907.948 Q208.368 905.796 208.368 902.046 Q208.368 898.319 206.516 896.166 Q204.687 893.99 201.539 893.99 Q198.391 893.99 196.539 896.166 Q194.71 898.319 194.71 902.046 Q194.71 905.796 196.539 907.948 Q198.391 910.101 201.539 910.101 Z\" fill=\"#000000\" fill-rule=\"evenodd\" fill-opacity=\"1\" /><path clip-path=\"url(#clip530)\" d=\"M 0 0 M228.923 909.06 Q225.59 909.06 223.668 910.842 Q221.77 912.624 221.77 915.749 Q221.77 918.874 223.668 920.657 Q225.59 922.439 228.923 922.439 Q232.256 922.439 234.178 920.657 Q236.099 918.851 236.099 915.749 Q236.099 912.624 234.178 910.842 Q232.279 909.06 228.923 909.06 M224.247 907.069 Q221.238 906.328 219.548 904.268 Q217.881 902.208 217.881 899.245 Q217.881 895.101 220.821 892.694 Q223.784 890.287 228.923 890.287 Q234.085 890.287 237.025 892.694 Q239.965 895.101 239.965 899.245 Q239.965 902.208 238.275 904.268 Q236.608 906.328 233.622 907.069 Q237.002 907.856 238.877 910.148 Q240.775 912.439 240.775 915.749 Q240.775 920.772 237.696 923.458 Q234.641 926.143 228.923 926.143 Q223.205 926.143 220.127 923.458 Q217.071 920.772 217.071 915.749 Q217.071 912.439 218.969 910.148 Q220.867 907.856 224.247 907.069 M222.534 899.685 Q222.534 902.37 224.201 903.874 Q225.891 905.379 228.923 905.379 Q231.932 905.379 233.622 903.874 Q235.335 902.37 235.335 899.685 Q235.335 896.999 233.622 895.495 Q231.932 893.99 228.923 893.99 Q225.891 893.99 224.201 895.495 Q222.534 896.999 222.534 899.685 Z\" fill=\"#000000\" fill-rule=\"evenodd\" fill-opacity=\"1\" /><path clip-path=\"url(#clip530)\" d=\"M 0 0 M274.015 900.009 L263.437 910.634 L274.015 921.212 L271.261 924.013 L260.636 913.388 L250.011 924.013 L247.279 921.212 L257.835 910.634 L247.279 900.009 L250.011 897.208 L260.636 907.833 L271.261 897.208 L274.015 900.009 Z\" fill=\"#000000\" fill-rule=\"evenodd\" fill-opacity=\"1\" /><path clip-path=\"url(#clip530)\" d=\"M 0 0 M279.895 921.536 L287.534 921.536 L287.534 895.171 L279.224 896.837 L279.224 892.578 L287.487 890.912 L292.163 890.912 L292.163 921.536 L299.802 921.536 L299.802 925.472 L279.895 925.472 L279.895 921.536 Z\" fill=\"#000000\" fill-rule=\"evenodd\" fill-opacity=\"1\" /><path clip-path=\"url(#clip530)\" d=\"M 0 0 M314.872 893.99 Q311.26 893.99 309.432 897.555 Q307.626 901.097 307.626 908.226 Q307.626 915.333 309.432 918.898 Q311.26 922.439 314.872 922.439 Q318.506 922.439 320.311 918.898 Q322.14 915.333 322.14 908.226 Q322.14 901.097 320.311 897.555 Q318.506 893.99 314.872 893.99 M314.872 890.287 Q320.682 890.287 323.737 894.893 Q326.816 899.476 326.816 908.226 Q326.816 916.953 323.737 921.56 Q320.682 926.143 314.872 926.143 Q309.061 926.143 305.983 921.56 Q302.927 916.953 302.927 908.226 Q302.927 899.476 305.983 894.893 Q309.061 890.287 314.872 890.287 Z\" fill=\"#000000\" fill-rule=\"evenodd\" fill-opacity=\"1\" /><path clip-path=\"url(#clip530)\" d=\"M 0 0 M326.816 877.843 L341.994 877.843 L341.994 879.63 L326.816 879.63 L326.816 877.843 Z\" fill=\"#000000\" fill-rule=\"evenodd\" fill-opacity=\"1\" /><path clip-path=\"url(#clip530)\" d=\"M 0 0 M344.928 883.429 L348.765 883.429 L348.765 871.937 L344.57 872.708 L344.57 870.527 L348.896 869.793 L351.473 869.793 L351.473 883.429 L355.329 883.429 L355.329 885.498 L344.928 885.498 L344.928 883.429 Z\" fill=\"#000000\" fill-rule=\"evenodd\" fill-opacity=\"1\" /><path clip-path=\"url(#clip530)\" d=\"M 0 0 M75.058 517.87 L75.058 513.611 Q76.8173 514.444 78.6228 514.884 Q80.4284 515.324 82.1645 515.324 Q86.7941 515.324 89.2246 512.222 Q91.6783 509.097 92.0255 502.754 Q90.6829 504.745 88.6228 505.81 Q86.5626 506.875 84.0626 506.875 Q78.8775 506.875 75.8451 503.75 Q72.8358 500.602 72.8358 495.162 Q72.8358 489.838 75.984 486.62 Q79.1321 483.403 84.3635 483.403 Q90.3589 483.403 93.507 488.009 Q96.6783 492.592 96.6783 501.342 Q96.6783 509.514 92.7894 514.398 Q88.9237 519.259 82.3728 519.259 Q80.6136 519.259 78.808 518.912 Q77.0025 518.565 75.058 517.87 M84.3635 503.217 Q87.5117 503.217 89.3404 501.065 Q91.1922 498.912 91.1922 495.162 Q91.1922 491.435 89.3404 489.282 Q87.5117 487.106 84.3635 487.106 Q81.2154 487.106 79.3636 489.282 Q77.5349 491.435 77.5349 495.162 Q77.5349 498.912 79.3636 501.065 Q81.2154 503.217 84.3635 503.217 Z\" fill=\"#000000\" fill-rule=\"evenodd\" fill-opacity=\"1\" /><path clip-path=\"url(#clip530)\" d=\"M 0 0 M101.748 512.708 L106.632 512.708 L106.632 518.588 L101.748 518.588 L101.748 512.708 Z\" fill=\"#000000\" fill-rule=\"evenodd\" fill-opacity=\"1\" /><path clip-path=\"url(#clip530)\" d=\"M 0 0 M111.84 517.87 L111.84 513.611 Q113.599 514.444 115.405 514.884 Q117.211 515.324 118.947 515.324 Q123.576 515.324 126.007 512.222 Q128.461 509.097 128.808 502.754 Q127.465 504.745 125.405 505.81 Q123.345 506.875 120.845 506.875 Q115.66 506.875 112.627 503.75 Q109.618 500.602 109.618 495.162 Q109.618 489.838 112.766 486.62 Q115.914 483.403 121.146 483.403 Q127.141 483.403 130.289 488.009 Q133.46 492.592 133.46 501.342 Q133.46 509.514 129.572 514.398 Q125.706 519.259 119.155 519.259 Q117.396 519.259 115.59 518.912 Q113.785 518.565 111.84 517.87 M121.146 503.217 Q124.294 503.217 126.123 501.065 Q127.974 498.912 127.974 495.162 Q127.974 491.435 126.123 489.282 Q124.294 487.106 121.146 487.106 Q117.998 487.106 116.146 489.282 Q114.317 491.435 114.317 495.162 Q114.317 498.912 116.146 501.065 Q117.998 503.217 121.146 503.217 Z\" fill=\"#000000\" fill-rule=\"evenodd\" fill-opacity=\"1\" /><path clip-path=\"url(#clip530)\" d=\"M 0 0 M138.669 517.87 L138.669 513.611 Q140.428 514.444 142.234 514.884 Q144.039 515.324 145.775 515.324 Q150.405 515.324 152.835 512.222 Q155.289 509.097 155.636 502.754 Q154.294 504.745 152.234 505.81 Q150.173 506.875 147.673 506.875 Q142.488 506.875 139.456 503.75 Q136.447 500.602 136.447 495.162 Q136.447 489.838 139.595 486.62 Q142.743 483.403 147.974 483.403 Q153.97 483.403 157.118 488.009 Q160.289 492.592 160.289 501.342 Q160.289 509.514 156.4 514.398 Q152.534 519.259 145.984 519.259 Q144.224 519.259 142.419 518.912 Q140.613 518.565 138.669 517.87 M147.974 503.217 Q151.122 503.217 152.951 501.065 Q154.803 498.912 154.803 495.162 Q154.803 491.435 152.951 489.282 Q151.122 487.106 147.974 487.106 Q144.826 487.106 142.974 489.282 Q141.146 491.435 141.146 495.162 Q141.146 498.912 142.974 501.065 Q144.826 503.217 147.974 503.217 Z\" fill=\"#000000\" fill-rule=\"evenodd\" fill-opacity=\"1\" /><path clip-path=\"url(#clip530)\" d=\"M 0 0 M165.497 517.87 L165.497 513.611 Q167.257 514.444 169.062 514.884 Q170.868 515.324 172.604 515.324 Q177.233 515.324 179.664 512.222 Q182.118 509.097 182.465 502.754 Q181.122 504.745 179.062 505.81 Q177.002 506.875 174.502 506.875 Q169.317 506.875 166.284 503.75 Q163.275 500.602 163.275 495.162 Q163.275 489.838 166.423 486.62 Q169.571 483.403 174.803 483.403 Q180.798 483.403 183.946 488.009 Q187.118 492.592 187.118 501.342 Q187.118 509.514 183.229 514.398 Q179.363 519.259 172.812 519.259 Q171.053 519.259 169.247 518.912 Q167.442 518.565 165.497 517.87 M174.803 503.217 Q177.951 503.217 179.78 501.065 Q181.632 498.912 181.632 495.162 Q181.632 491.435 179.78 489.282 Q177.951 487.106 174.803 487.106 Q171.655 487.106 169.803 489.282 Q167.974 491.435 167.974 495.162 Q167.974 498.912 169.803 501.065 Q171.655 503.217 174.803 503.217 Z\" fill=\"#000000\" fill-rule=\"evenodd\" fill-opacity=\"1\" /><path clip-path=\"url(#clip530)\" d=\"M 0 0 M192.326 517.87 L192.326 513.611 Q194.085 514.444 195.891 514.884 Q197.696 515.324 199.432 515.324 Q204.062 515.324 206.493 512.222 Q208.946 509.097 209.293 502.754 Q207.951 504.745 205.891 505.81 Q203.83 506.875 201.331 506.875 Q196.145 506.875 193.113 503.75 Q190.104 500.602 190.104 495.162 Q190.104 489.838 193.252 486.62 Q196.4 483.403 201.631 483.403 Q207.627 483.403 210.775 488.009 Q213.946 492.592 213.946 501.342 Q213.946 509.514 210.057 514.398 Q206.192 519.259 199.641 519.259 Q197.881 519.259 196.076 518.912 Q194.27 518.565 192.326 517.87 M201.631 503.217 Q204.78 503.217 206.608 501.065 Q208.46 498.912 208.46 495.162 Q208.46 491.435 206.608 489.282 Q204.78 487.106 201.631 487.106 Q198.483 487.106 196.631 489.282 Q194.803 491.435 194.803 495.162 Q194.803 498.912 196.631 501.065 Q198.483 503.217 201.631 503.217 Z\" fill=\"#000000\" fill-rule=\"evenodd\" fill-opacity=\"1\" /><path clip-path=\"url(#clip530)\" d=\"M 0 0 M219.154 517.87 L219.154 513.611 Q220.914 514.444 222.719 514.884 Q224.525 515.324 226.261 515.324 Q230.891 515.324 233.321 512.222 Q235.775 509.097 236.122 502.754 Q234.779 504.745 232.719 505.81 Q230.659 506.875 228.159 506.875 Q222.974 506.875 219.942 503.75 Q216.932 500.602 216.932 495.162 Q216.932 489.838 220.08 486.62 Q223.229 483.403 228.46 483.403 Q234.455 483.403 237.603 488.009 Q240.775 492.592 240.775 501.342 Q240.775 509.514 236.886 514.398 Q233.02 519.259 226.469 519.259 Q224.71 519.259 222.904 518.912 Q221.099 518.565 219.154 517.87 M228.46 503.217 Q231.608 503.217 233.437 501.065 Q235.289 498.912 235.289 495.162 Q235.289 491.435 233.437 489.282 Q231.608 487.106 228.46 487.106 Q225.312 487.106 223.46 489.282 Q221.631 491.435 221.631 495.162 Q221.631 498.912 223.46 501.065 Q225.312 503.217 228.46 503.217 Z\" fill=\"#000000\" fill-rule=\"evenodd\" fill-opacity=\"1\" /><path clip-path=\"url(#clip530)\" d=\"M 0 0 M274.015 493.125 L263.437 503.75 L274.015 514.328 L271.261 517.129 L260.636 506.504 L250.011 517.129 L247.279 514.328 L257.835 503.75 L247.279 493.125 L250.011 490.324 L260.636 500.949 L271.261 490.324 L274.015 493.125 Z\" fill=\"#000000\" fill-rule=\"evenodd\" fill-opacity=\"1\" /><path clip-path=\"url(#clip530)\" d=\"M 0 0 M279.895 514.653 L287.534 514.653 L287.534 488.287 L279.224 489.954 L279.224 485.694 L287.487 484.028 L292.163 484.028 L292.163 514.653 L299.802 514.653 L299.802 518.588 L279.895 518.588 L279.895 514.653 Z\" fill=\"#000000\" fill-rule=\"evenodd\" fill-opacity=\"1\" /><path clip-path=\"url(#clip530)\" d=\"M 0 0 M314.872 487.106 Q311.26 487.106 309.432 490.671 Q307.626 494.213 307.626 501.342 Q307.626 508.449 309.432 512.014 Q311.26 515.555 314.872 515.555 Q318.506 515.555 320.311 512.014 Q322.14 508.449 322.14 501.342 Q322.14 494.213 320.311 490.671 Q318.506 487.106 314.872 487.106 M314.872 483.403 Q320.682 483.403 323.737 488.009 Q326.816 492.592 326.816 501.342 Q326.816 510.069 323.737 514.676 Q320.682 519.259 314.872 519.259 Q309.061 519.259 305.983 514.676 Q302.927 510.069 302.927 501.342 Q302.927 492.592 305.983 488.009 Q309.061 483.403 314.872 483.403 Z\" fill=\"#000000\" fill-rule=\"evenodd\" fill-opacity=\"1\" /><path clip-path=\"url(#clip530)\" d=\"M 0 0 M326.816 470.959 L341.994 470.959 L341.994 472.746 L326.816 472.746 L326.816 470.959 Z\" fill=\"#000000\" fill-rule=\"evenodd\" fill-opacity=\"1\" /><path clip-path=\"url(#clip530)\" d=\"M 0 0 M344.928 476.545 L348.765 476.545 L348.765 465.053 L344.57 465.824 L344.57 463.643 L348.896 462.909 L351.473 462.909 L351.473 476.545 L355.329 476.545 L355.329 478.614 L344.928 478.614 L344.928 476.545 Z\" fill=\"#000000\" fill-rule=\"evenodd\" fill-opacity=\"1\" /><path clip-path=\"url(#clip530)\" d=\"M 0 0 M91.8881 107.769 L99.5269 107.769 L99.5269 81.4031 L91.2168 83.0698 L91.2168 78.8105 L99.4806 77.1439 L104.157 77.1439 L104.157 107.769 L111.795 107.769 L111.795 111.704 L91.8881 111.704 L91.8881 107.769 Z\" fill=\"#000000\" fill-rule=\"evenodd\" fill-opacity=\"1\" /><path clip-path=\"url(#clip530)\" d=\"M 0 0 M116.865 105.824 L121.749 105.824 L121.749 111.704 L116.865 111.704 L116.865 105.824 Z\" fill=\"#000000\" fill-rule=\"evenodd\" fill-opacity=\"1\" /><path clip-path=\"url(#clip530)\" d=\"M 0 0 M136.818 80.2226 Q133.207 80.2226 131.379 83.7874 Q129.573 87.329 129.573 94.4586 Q129.573 101.565 131.379 105.13 Q133.207 108.671 136.818 108.671 Q140.453 108.671 142.258 105.13 Q144.087 101.565 144.087 94.4586 Q144.087 87.329 142.258 83.7874 Q140.453 80.2226 136.818 80.2226 M136.818 76.5189 Q142.629 76.5189 145.684 81.1253 Q148.763 85.7086 148.763 94.4586 Q148.763 103.185 145.684 107.792 Q142.629 112.375 136.818 112.375 Q131.008 112.375 127.93 107.792 Q124.874 103.185 124.874 94.4586 Q124.874 85.7086 127.93 81.1253 Q131.008 76.5189 136.818 76.5189 Z\" fill=\"#000000\" fill-rule=\"evenodd\" fill-opacity=\"1\" /><path clip-path=\"url(#clip530)\" d=\"M 0 0 M163.832 80.2226 Q160.221 80.2226 158.392 83.7874 Q156.587 87.329 156.587 94.4586 Q156.587 101.565 158.392 105.13 Q160.221 108.671 163.832 108.671 Q167.466 108.671 169.272 105.13 Q171.101 101.565 171.101 94.4586 Q171.101 87.329 169.272 83.7874 Q167.466 80.2226 163.832 80.2226 M163.832 76.5189 Q169.642 76.5189 172.698 81.1253 Q175.777 85.7086 175.777 94.4586 Q175.777 103.185 172.698 107.792 Q169.642 112.375 163.832 112.375 Q158.022 112.375 154.943 107.792 Q151.888 103.185 151.888 94.4586 Q151.888 85.7086 154.943 81.1253 Q158.022 76.5189 163.832 76.5189 Z\" fill=\"#000000\" fill-rule=\"evenodd\" fill-opacity=\"1\" /><path clip-path=\"url(#clip530)\" d=\"M 0 0 M190.846 80.2226 Q187.235 80.2226 185.406 83.7874 Q183.601 87.329 183.601 94.4586 Q183.601 101.565 185.406 105.13 Q187.235 108.671 190.846 108.671 Q194.48 108.671 196.286 105.13 Q198.114 101.565 198.114 94.4586 Q198.114 87.329 196.286 83.7874 Q194.48 80.2226 190.846 80.2226 M190.846 76.5189 Q196.656 76.5189 199.712 81.1253 Q202.79 85.7086 202.79 94.4586 Q202.79 103.185 199.712 107.792 Q196.656 112.375 190.846 112.375 Q185.036 112.375 181.957 107.792 Q178.902 103.185 178.902 94.4586 Q178.902 85.7086 181.957 81.1253 Q185.036 76.5189 190.846 76.5189 Z\" fill=\"#000000\" fill-rule=\"evenodd\" fill-opacity=\"1\" /><path clip-path=\"url(#clip530)\" d=\"M 0 0 M217.86 80.2226 Q214.249 80.2226 212.42 83.7874 Q210.614 87.329 210.614 94.4586 Q210.614 101.565 212.42 105.13 Q214.249 108.671 217.86 108.671 Q221.494 108.671 223.299 105.13 Q225.128 101.565 225.128 94.4586 Q225.128 87.329 223.299 83.7874 Q221.494 80.2226 217.86 80.2226 M217.86 76.5189 Q223.67 76.5189 226.725 81.1253 Q229.804 85.7086 229.804 94.4586 Q229.804 103.185 226.725 107.792 Q223.67 112.375 217.86 112.375 Q212.049 112.375 208.971 107.792 Q205.915 103.185 205.915 94.4586 Q205.915 85.7086 208.971 81.1253 Q212.049 76.5189 217.86 76.5189 Z\" fill=\"#000000\" fill-rule=\"evenodd\" fill-opacity=\"1\" /><path clip-path=\"url(#clip530)\" d=\"M 0 0 M244.873 80.2226 Q241.262 80.2226 239.434 83.7874 Q237.628 87.329 237.628 94.4586 Q237.628 101.565 239.434 105.13 Q241.262 108.671 244.873 108.671 Q248.508 108.671 250.313 105.13 Q252.142 101.565 252.142 94.4586 Q252.142 87.329 250.313 83.7874 Q248.508 80.2226 244.873 80.2226 M244.873 76.5189 Q250.684 76.5189 253.739 81.1253 Q256.818 85.7086 256.818 94.4586 Q256.818 103.185 253.739 107.792 Q250.684 112.375 244.873 112.375 Q239.063 112.375 235.985 107.792 Q232.929 103.185 232.929 94.4586 Q232.929 85.7086 235.985 81.1253 Q239.063 76.5189 244.873 76.5189 Z\" fill=\"#000000\" fill-rule=\"evenodd\" fill-opacity=\"1\" /><path clip-path=\"url(#clip530)\" d=\"M 0 0 M290.058 86.2411 L279.48 96.866 L290.058 107.445 L287.304 110.246 L276.679 99.6206 L266.054 110.246 L263.322 107.445 L273.878 96.866 L263.322 86.2411 L266.054 83.4401 L276.679 94.0651 L287.304 83.4401 L290.058 86.2411 Z\" fill=\"#000000\" fill-rule=\"evenodd\" fill-opacity=\"1\" /><path clip-path=\"url(#clip530)\" d=\"M 0 0 M295.938 107.769 L303.577 107.769 L303.577 81.4031 L295.267 83.0698 L295.267 78.8105 L303.53 77.1439 L308.206 77.1439 L308.206 107.769 L315.845 107.769 L315.845 111.704 L295.938 111.704 L295.938 107.769 Z\" fill=\"#000000\" fill-rule=\"evenodd\" fill-opacity=\"1\" /><path clip-path=\"url(#clip530)\" d=\"M 0 0 M330.915 80.2226 Q327.303 80.2226 325.475 83.7874 Q323.669 87.329 323.669 94.4586 Q323.669 101.565 325.475 105.13 Q327.303 108.671 330.915 108.671 Q334.549 108.671 336.354 105.13 Q338.183 101.565 338.183 94.4586 Q338.183 87.329 336.354 83.7874 Q334.549 80.2226 330.915 80.2226 M330.915 76.5189 Q336.725 76.5189 339.78 81.1253 Q342.859 85.7086 342.859 94.4586 Q342.859 103.185 339.78 107.792 Q336.725 112.375 330.915 112.375 Q325.104 112.375 322.026 107.792 Q318.97 103.185 318.97 94.4586 Q318.97 85.7086 322.026 81.1253 Q325.104 76.5189 330.915 76.5189 Z\" fill=\"#000000\" fill-rule=\"evenodd\" fill-opacity=\"1\" /><path clip-path=\"url(#clip530)\" d=\"M 0 0 M351.943 58.997 Q351.003 57.3796 349.103 57.3796 Q347.204 57.3796 346.263 58.997 Q345.304 60.6145 345.304 63.8494 Q345.304 67.1032 346.263 68.7206 Q347.204 70.3381 349.103 70.3381 Q351.003 70.3381 351.943 68.7206 Q352.902 67.1032 352.902 63.8494 Q352.902 60.6145 351.943 58.997 M349.103 55.7057 Q352.131 55.7057 353.73 57.7933 Q355.329 59.881 355.329 63.8494 Q355.329 67.8367 353.73 69.9243 Q352.131 72.012 349.103 72.012 Q346.056 72.012 344.458 69.9243 Q342.859 67.8367 342.859 63.8494 Q342.859 59.881 344.458 57.7933 Q346.056 55.7057 349.103 55.7057 Z\" fill=\"#000000\" fill-rule=\"evenodd\" fill-opacity=\"1\" /><circle clip-path=\"url(#clip532)\" cx=\"667.896\" cy=\"1445.72\" r=\"14\" fill=\"#009af9\" fill-rule=\"evenodd\" fill-opacity=\"1\" stroke=\"#000000\" stroke-opacity=\"1\" stroke-width=\"3.2\"/>\n",
       "<circle clip-path=\"url(#clip532)\" cx=\"900.611\" cy=\"114.073\" r=\"14\" fill=\"#009af9\" fill-rule=\"evenodd\" fill-opacity=\"1\" stroke=\"#000000\" stroke-opacity=\"1\" stroke-width=\"3.2\"/>\n",
       "<circle clip-path=\"url(#clip532)\" cx=\"1133.33\" cy=\"88.4415\" r=\"14\" fill=\"#009af9\" fill-rule=\"evenodd\" fill-opacity=\"1\" stroke=\"#000000\" stroke-opacity=\"1\" stroke-width=\"3.2\"/>\n",
       "<circle clip-path=\"url(#clip532)\" cx=\"1366.04\" cy=\"87.9836\" r=\"14\" fill=\"#009af9\" fill-rule=\"evenodd\" fill-opacity=\"1\" stroke=\"#000000\" stroke-opacity=\"1\" stroke-width=\"3.2\"/>\n",
       "<circle clip-path=\"url(#clip532)\" cx=\"1598.76\" cy=\"87.9764\" r=\"14\" fill=\"#009af9\" fill-rule=\"evenodd\" fill-opacity=\"1\" stroke=\"#000000\" stroke-opacity=\"1\" stroke-width=\"3.2\"/>\n",
       "<circle clip-path=\"url(#clip532)\" cx=\"1831.47\" cy=\"87.9763\" r=\"14\" fill=\"#009af9\" fill-rule=\"evenodd\" fill-opacity=\"1\" stroke=\"#000000\" stroke-opacity=\"1\" stroke-width=\"3.2\"/>\n",
       "<circle clip-path=\"url(#clip532)\" cx=\"2064.19\" cy=\"87.9763\" r=\"14\" fill=\"#009af9\" fill-rule=\"evenodd\" fill-opacity=\"1\" stroke=\"#000000\" stroke-opacity=\"1\" stroke-width=\"3.2\"/>\n",
       "<circle clip-path=\"url(#clip532)\" cx=\"2296.9\" cy=\"87.9763\" r=\"14\" fill=\"#009af9\" fill-rule=\"evenodd\" fill-opacity=\"1\" stroke=\"#000000\" stroke-opacity=\"1\" stroke-width=\"3.2\"/>\n",
       "<path clip-path=\"url(#clip530)\" d=\"\n",
       "M1989.74 251.724 L2280.76 251.724 L2280.76 130.764 L1989.74 130.764  Z\n",
       "  \" fill=\"#ffffff\" fill-rule=\"evenodd\" fill-opacity=\"1\"/>\n",
       "<polyline clip-path=\"url(#clip530)\" style=\"stroke:#000000; stroke-width:4; stroke-opacity:1; fill:none\" points=\"\n",
       "  1989.74,251.724 2280.76,251.724 2280.76,130.764 1989.74,130.764 1989.74,251.724 \n",
       "  \"/>\n",
       "<circle clip-path=\"url(#clip530)\" cx=\"2097.74\" cy=\"191.244\" r=\"23\" fill=\"#009af9\" fill-rule=\"evenodd\" fill-opacity=\"1\" stroke=\"#000000\" stroke-opacity=\"1\" stroke-width=\"5.12\"/>\n",
       "<path clip-path=\"url(#clip530)\" d=\"M 0 0 M2195.58 210.931 Q2193.77 215.561 2192.06 216.973 Q2190.35 218.385 2187.48 218.385 L2184.08 218.385 L2184.08 214.82 L2186.58 214.82 Q2188.33 214.82 2189.31 213.987 Q2190.28 213.154 2191.46 210.052 L2192.22 208.107 L2181.74 182.598 L2186.25 182.598 L2194.35 202.876 L2202.46 182.598 L2206.97 182.598 L2195.58 210.931 Z\" fill=\"#000000\" fill-rule=\"evenodd\" fill-opacity=\"1\" /><path clip-path=\"url(#clip530)\" d=\"M 0 0 M2212.85 204.589 L2220.49 204.589 L2220.49 178.223 L2212.18 179.89 L2212.18 175.631 L2220.44 173.964 L2225.12 173.964 L2225.12 204.589 L2232.76 204.589 L2232.76 208.524 L2212.85 208.524 L2212.85 204.589 Z\" fill=\"#000000\" fill-rule=\"evenodd\" fill-opacity=\"1\" /></svg>\n"
      ]
     },
     "execution_count": 61,
     "metadata": {},
     "output_type": "execute_result"
    }
   ],
   "source": [
    "plot(collect(2:kmax), [Ω̂.ω([1, i], 0) / ( Ω̂.ω([0, i], 0) + Ω̂.ω([1, i], 0)) for i in 2:kmax], seriestype = :scatter)"
   ]
  },
  {
   "cell_type": "code",
   "execution_count": 62,
   "metadata": {},
   "outputs": [
    {
     "data": {
      "text/plain": [
       "131140.0000000000000000000000000000000000000000000000000000000000000000000000023"
      ]
     },
     "execution_count": 62,
     "metadata": {},
     "output_type": "execute_result"
    }
   ],
   "source": [
    "Ω̂ = estimateΩEmpirically(H_, Ẑ; aggregator = p -> [length(p), sum(p)], bigNums = true);\n",
    "\n",
    "D = evalSums(Ẑ, H_, maximum(Ẑ), true)[3]\n",
    "D̄ = Dict(p => Ω̂.ω([length(p), sum(p)], 0)*D[p] for p in keys(D));\n",
    "sum(collect(values(D̄)))"
   ]
  },
  {
   "cell_type": "code",
   "execution_count": 63,
   "metadata": {},
   "outputs": [],
   "source": [
    "P = Dict()\n",
    "for k in keys(H_.E)\n",
    "    for (e, v) in H_.E[k]\n",
    "        p = partitionize(Ẑ[e])\n",
    "        P[p] = get(P, p, 0) + v\n",
    "    end\n",
    "end"
   ]
  },
  {
   "cell_type": "code",
   "execution_count": 64,
   "metadata": {},
   "outputs": [
    {
     "data": {
      "text/plain": [
       "131140"
      ]
     },
     "execution_count": 64,
     "metadata": {},
     "output_type": "execute_result"
    }
   ],
   "source": [
    "sum(collect(values(P)))"
   ]
  },
  {
   "cell_type": "code",
   "execution_count": 65,
   "metadata": {},
   "outputs": [
    {
     "name": "stdout",
     "output_type": "stream",
     "text": [
      "[1, 1, 1, 1]   0   -0.0\n",
      "[2, 2]   850   -92.11494541104874\n",
      "[4]   26424   0.0\n",
      "[3, 1]   1800   92.11494541104874\n",
      "[2, 1, 1]   472   0.0\n"
     ]
    }
   ],
   "source": [
    "# residuals\n",
    "D_ = Dict(p => Float64((get(P, p, 0) - D̄[p])) for p in keys(D̄))\n",
    "\n",
    "# sum(values(D_))\n",
    "for (k, v) in D_\n",
    "    if sum(k) == 4\n",
    "        println(k, \"   \", get(P, k, 0), \"   \", v)\n",
    "    end\n",
    "end"
   ]
  },
  {
   "cell_type": "code",
   "execution_count": 66,
   "metadata": {},
   "outputs": [
    {
     "data": {
      "image/svg+xml": [
       "<?xml version=\"1.0\" encoding=\"utf-8\"?>\n",
       "<svg xmlns=\"http://www.w3.org/2000/svg\" xmlns:xlink=\"http://www.w3.org/1999/xlink\" width=\"600\" height=\"400\" viewBox=\"0 0 2400 1600\">\n",
       "<defs>\n",
       "  <clipPath id=\"clip570\">\n",
       "    <rect x=\"0\" y=\"0\" width=\"2400\" height=\"1600\"/>\n",
       "  </clipPath>\n",
       "</defs>\n",
       "<path clip-path=\"url(#clip570)\" d=\"\n",
       "M0 1600 L2400 1600 L2400 0 L0 0  Z\n",
       "  \" fill=\"#ffffff\" fill-rule=\"evenodd\" fill-opacity=\"1\"/>\n",
       "<defs>\n",
       "  <clipPath id=\"clip571\">\n",
       "    <rect x=\"480\" y=\"0\" width=\"1681\" height=\"1600\"/>\n",
       "  </clipPath>\n",
       "</defs>\n",
       "<path clip-path=\"url(#clip570)\" d=\"\n",
       "M179.283 1486.45 L2352.76 1486.45 L2352.76 47.2441 L179.283 47.2441  Z\n",
       "  \" fill=\"#ffffff\" fill-rule=\"evenodd\" fill-opacity=\"1\"/>\n",
       "<defs>\n",
       "  <clipPath id=\"clip572\">\n",
       "    <rect x=\"179\" y=\"47\" width=\"2174\" height=\"1440\"/>\n",
       "  </clipPath>\n",
       "</defs>\n",
       "<polyline clip-path=\"url(#clip572)\" style=\"stroke:#000000; stroke-width:2; stroke-opacity:0.1; fill:none\" points=\"\n",
       "  179.283,1486.45 179.283,47.2441 \n",
       "  \"/>\n",
       "<polyline clip-path=\"url(#clip572)\" style=\"stroke:#000000; stroke-width:2; stroke-opacity:0.1; fill:none\" points=\"\n",
       "  903.774,1486.45 903.774,47.2441 \n",
       "  \"/>\n",
       "<polyline clip-path=\"url(#clip572)\" style=\"stroke:#000000; stroke-width:2; stroke-opacity:0.1; fill:none\" points=\"\n",
       "  1628.27,1486.45 1628.27,47.2441 \n",
       "  \"/>\n",
       "<polyline clip-path=\"url(#clip572)\" style=\"stroke:#000000; stroke-width:2; stroke-opacity:0.1; fill:none\" points=\"\n",
       "  2352.76,1486.45 2352.76,47.2441 \n",
       "  \"/>\n",
       "<polyline clip-path=\"url(#clip572)\" style=\"stroke:#000000; stroke-width:2; stroke-opacity:0.1; fill:none\" points=\"\n",
       "  179.283,1450.67 2352.76,1450.67 \n",
       "  \"/>\n",
       "<polyline clip-path=\"url(#clip572)\" style=\"stroke:#000000; stroke-width:2; stroke-opacity:0.1; fill:none\" points=\"\n",
       "  179.283,1157.96 2352.76,1157.96 \n",
       "  \"/>\n",
       "<polyline clip-path=\"url(#clip572)\" style=\"stroke:#000000; stroke-width:2; stroke-opacity:0.1; fill:none\" points=\"\n",
       "  179.283,865.25 2352.76,865.25 \n",
       "  \"/>\n",
       "<polyline clip-path=\"url(#clip572)\" style=\"stroke:#000000; stroke-width:2; stroke-opacity:0.1; fill:none\" points=\"\n",
       "  179.283,572.541 2352.76,572.541 \n",
       "  \"/>\n",
       "<polyline clip-path=\"url(#clip572)\" style=\"stroke:#000000; stroke-width:2; stroke-opacity:0.1; fill:none\" points=\"\n",
       "  179.283,279.831 2352.76,279.831 \n",
       "  \"/>\n",
       "<polyline clip-path=\"url(#clip570)\" style=\"stroke:#000000; stroke-width:4; stroke-opacity:1; fill:none\" points=\"\n",
       "  179.283,1486.45 2352.76,1486.45 \n",
       "  \"/>\n",
       "<polyline clip-path=\"url(#clip570)\" style=\"stroke:#000000; stroke-width:4; stroke-opacity:1; fill:none\" points=\"\n",
       "  179.283,1486.45 179.283,47.2441 \n",
       "  \"/>\n",
       "<polyline clip-path=\"url(#clip570)\" style=\"stroke:#000000; stroke-width:4; stroke-opacity:1; fill:none\" points=\"\n",
       "  179.283,1486.45 179.283,1469.18 \n",
       "  \"/>\n",
       "<polyline clip-path=\"url(#clip570)\" style=\"stroke:#000000; stroke-width:4; stroke-opacity:1; fill:none\" points=\"\n",
       "  903.774,1486.45 903.774,1469.18 \n",
       "  \"/>\n",
       "<polyline clip-path=\"url(#clip570)\" style=\"stroke:#000000; stroke-width:4; stroke-opacity:1; fill:none\" points=\"\n",
       "  1628.27,1486.45 1628.27,1469.18 \n",
       "  \"/>\n",
       "<polyline clip-path=\"url(#clip570)\" style=\"stroke:#000000; stroke-width:4; stroke-opacity:1; fill:none\" points=\"\n",
       "  2352.76,1486.45 2352.76,1469.18 \n",
       "  \"/>\n",
       "<polyline clip-path=\"url(#clip570)\" style=\"stroke:#000000; stroke-width:4; stroke-opacity:1; fill:none\" points=\"\n",
       "  179.283,1450.67 205.365,1450.67 \n",
       "  \"/>\n",
       "<polyline clip-path=\"url(#clip570)\" style=\"stroke:#000000; stroke-width:4; stroke-opacity:1; fill:none\" points=\"\n",
       "  179.283,1157.96 205.365,1157.96 \n",
       "  \"/>\n",
       "<polyline clip-path=\"url(#clip570)\" style=\"stroke:#000000; stroke-width:4; stroke-opacity:1; fill:none\" points=\"\n",
       "  179.283,865.25 205.365,865.25 \n",
       "  \"/>\n",
       "<polyline clip-path=\"url(#clip570)\" style=\"stroke:#000000; stroke-width:4; stroke-opacity:1; fill:none\" points=\"\n",
       "  179.283,572.541 205.365,572.541 \n",
       "  \"/>\n",
       "<polyline clip-path=\"url(#clip570)\" style=\"stroke:#000000; stroke-width:4; stroke-opacity:1; fill:none\" points=\"\n",
       "  179.283,279.831 205.365,279.831 \n",
       "  \"/>\n",
       "<path clip-path=\"url(#clip570)\" d=\"M 0 0 M173.936 1535.98 L190.255 1535.98 L190.255 1539.92 L168.311 1539.92 L168.311 1535.98 Q170.973 1533.23 175.556 1528.6 Q180.163 1523.95 181.343 1522.61 Q183.589 1520.08 184.468 1518.35 Q185.371 1516.59 185.371 1514.9 Q185.371 1512.14 183.427 1510.41 Q181.506 1508.67 178.404 1508.67 Q176.205 1508.67 173.751 1509.43 Q171.32 1510.2 168.543 1511.75 L168.543 1507.03 Q171.367 1505.89 173.82 1505.31 Q176.274 1504.73 178.311 1504.73 Q183.681 1504.73 186.876 1507.42 Q190.07 1510.11 190.07 1514.6 Q190.07 1516.73 189.26 1518.65 Q188.473 1520.54 186.367 1523.14 Q185.788 1523.81 182.686 1527.03 Q179.584 1530.22 173.936 1535.98 Z\" fill=\"#000000\" fill-rule=\"evenodd\" fill-opacity=\"1\" /><path clip-path=\"url(#clip570)\" d=\"M 0 0 M908.022 1521.29 Q911.378 1522 913.253 1524.27 Q915.151 1526.54 915.151 1529.87 Q915.151 1534.99 911.633 1537.79 Q908.114 1540.59 901.633 1540.59 Q899.457 1540.59 897.142 1540.15 Q894.851 1539.73 892.397 1538.88 L892.397 1534.36 Q894.341 1535.5 896.656 1536.08 Q898.971 1536.66 901.494 1536.66 Q905.892 1536.66 908.184 1534.92 Q910.499 1533.18 910.499 1529.87 Q910.499 1526.82 908.346 1525.11 Q906.216 1523.37 902.397 1523.37 L898.369 1523.37 L898.369 1519.53 L902.582 1519.53 Q906.031 1519.53 907.86 1518.16 Q909.688 1516.77 909.688 1514.18 Q909.688 1511.52 907.79 1510.11 Q905.915 1508.67 902.397 1508.67 Q900.476 1508.67 898.277 1509.09 Q896.077 1509.5 893.439 1510.38 L893.439 1506.22 Q896.101 1505.48 898.415 1505.11 Q900.753 1504.73 902.814 1504.73 Q908.138 1504.73 911.239 1507.17 Q914.341 1509.57 914.341 1513.69 Q914.341 1516.56 912.698 1518.55 Q911.054 1520.52 908.022 1521.29 Z\" fill=\"#000000\" fill-rule=\"evenodd\" fill-opacity=\"1\" /><path clip-path=\"url(#clip570)\" d=\"M 0 0 M1631.27 1509.43 L1619.47 1527.88 L1631.27 1527.88 L1631.27 1509.43 M1630.05 1505.36 L1635.93 1505.36 L1635.93 1527.88 L1640.86 1527.88 L1640.86 1531.77 L1635.93 1531.77 L1635.93 1539.92 L1631.27 1539.92 L1631.27 1531.77 L1615.67 1531.77 L1615.67 1527.26 L1630.05 1505.36 Z\" fill=\"#000000\" fill-rule=\"evenodd\" fill-opacity=\"1\" /><path clip-path=\"url(#clip570)\" d=\"M 0 0 M2343.03 1505.36 L2361.39 1505.36 L2361.39 1509.3 L2347.32 1509.3 L2347.32 1517.77 Q2348.33 1517.42 2349.35 1517.26 Q2350.37 1517.07 2351.39 1517.07 Q2357.18 1517.07 2360.56 1520.24 Q2363.94 1523.42 2363.94 1528.83 Q2363.94 1534.41 2360.46 1537.51 Q2356.99 1540.59 2350.67 1540.59 Q2348.5 1540.59 2346.23 1540.22 Q2343.98 1539.85 2341.58 1539.11 L2341.58 1534.41 Q2343.66 1535.54 2345.88 1536.1 Q2348.1 1536.66 2350.58 1536.66 Q2354.58 1536.66 2356.92 1534.55 Q2359.26 1532.44 2359.26 1528.83 Q2359.26 1525.22 2356.92 1523.11 Q2354.58 1521.01 2350.58 1521.01 Q2348.71 1521.01 2346.83 1521.42 Q2344.98 1521.84 2343.03 1522.72 L2343.03 1505.36 Z\" fill=\"#000000\" fill-rule=\"evenodd\" fill-opacity=\"1\" /><path clip-path=\"url(#clip570)\" d=\"M 0 0 M64.5893 1453.07 L77.0661 1453.07 L77.0661 1456.86 L64.5893 1456.86 L64.5893 1453.07 Z\" fill=\"#000000\" fill-rule=\"evenodd\" fill-opacity=\"1\" /><path clip-path=\"url(#clip570)\" d=\"M 0 0 M82.9457 1464.02 L90.5846 1464.02 L90.5846 1437.65 L82.2744 1439.32 L82.2744 1435.06 L90.5383 1433.39 L95.2142 1433.39 L95.2142 1464.02 L102.853 1464.02 L102.853 1467.95 L82.9457 1467.95 L82.9457 1464.02 Z\" fill=\"#000000\" fill-rule=\"evenodd\" fill-opacity=\"1\" /><path clip-path=\"url(#clip570)\" d=\"M 0 0 M111.95 1464.02 L128.27 1464.02 L128.27 1467.95 L106.325 1467.95 L106.325 1464.02 Q108.987 1461.26 113.571 1456.63 Q118.177 1451.98 119.358 1450.64 Q121.603 1448.11 122.483 1446.38 Q123.385 1444.62 123.385 1442.93 Q123.385 1440.17 121.441 1438.44 Q119.52 1436.7 116.418 1436.7 Q114.219 1436.7 111.765 1437.46 Q109.334 1438.23 106.557 1439.78 L106.557 1435.06 Q109.381 1433.92 111.834 1433.34 Q114.288 1432.77 116.325 1432.77 Q121.696 1432.77 124.89 1435.45 Q128.084 1438.14 128.084 1442.63 Q128.084 1444.76 127.274 1446.68 Q126.487 1448.58 124.381 1451.17 Q123.802 1451.84 120.7 1455.06 Q117.598 1458.25 111.95 1464.02 Z\" fill=\"#000000\" fill-rule=\"evenodd\" fill-opacity=\"1\" /><path clip-path=\"url(#clip570)\" d=\"M 0 0 M143.339 1436.47 Q139.728 1436.47 137.899 1440.03 Q136.094 1443.58 136.094 1450.7 Q136.094 1457.81 137.899 1461.38 Q139.728 1464.92 143.339 1464.92 Q146.973 1464.92 148.779 1461.38 Q150.607 1457.81 150.607 1450.7 Q150.607 1443.58 148.779 1440.03 Q146.973 1436.47 143.339 1436.47 M143.339 1432.77 Q149.149 1432.77 152.205 1437.37 Q155.283 1441.95 155.283 1450.7 Q155.283 1459.43 152.205 1464.04 Q149.149 1468.62 143.339 1468.62 Q137.529 1468.62 134.45 1464.04 Q131.395 1459.43 131.395 1450.7 Q131.395 1441.95 134.45 1437.37 Q137.529 1432.77 143.339 1432.77 Z\" fill=\"#000000\" fill-rule=\"evenodd\" fill-opacity=\"1\" /><path clip-path=\"url(#clip570)\" d=\"M 0 0 M62.9921 1160.36 L75.4689 1160.36 L75.4689 1164.15 L62.9921 1164.15 L62.9921 1160.36 Z\" fill=\"#000000\" fill-rule=\"evenodd\" fill-opacity=\"1\" /><path clip-path=\"url(#clip570)\" d=\"M 0 0 M81.3485 1171.31 L88.9874 1171.31 L88.9874 1144.94 L80.6772 1146.61 L80.6772 1142.35 L88.9411 1140.68 L93.617 1140.68 L93.617 1171.31 L101.256 1171.31 L101.256 1175.24 L81.3485 1175.24 L81.3485 1171.31 Z\" fill=\"#000000\" fill-rule=\"evenodd\" fill-opacity=\"1\" /><path clip-path=\"url(#clip570)\" d=\"M 0 0 M116.325 1143.76 Q112.714 1143.76 110.885 1147.32 Q109.08 1150.87 109.08 1158 Q109.08 1165.1 110.885 1168.67 Q112.714 1172.21 116.325 1172.21 Q119.959 1172.21 121.765 1168.67 Q123.594 1165.1 123.594 1158 Q123.594 1150.87 121.765 1147.32 Q119.959 1143.76 116.325 1143.76 M116.325 1140.06 Q122.135 1140.06 125.191 1144.66 Q128.27 1149.25 128.27 1158 Q128.27 1166.72 125.191 1171.33 Q122.135 1175.91 116.325 1175.91 Q110.515 1175.91 107.436 1171.33 Q104.381 1166.72 104.381 1158 Q104.381 1149.25 107.436 1144.66 Q110.515 1140.06 116.325 1140.06 Z\" fill=\"#000000\" fill-rule=\"evenodd\" fill-opacity=\"1\" /><path clip-path=\"url(#clip570)\" d=\"M 0 0 M143.339 1143.76 Q139.728 1143.76 137.899 1147.32 Q136.094 1150.87 136.094 1158 Q136.094 1165.1 137.899 1168.67 Q139.728 1172.21 143.339 1172.21 Q146.973 1172.21 148.779 1168.67 Q150.607 1165.1 150.607 1158 Q150.607 1150.87 148.779 1147.32 Q146.973 1143.76 143.339 1143.76 M143.339 1140.06 Q149.149 1140.06 152.205 1144.66 Q155.283 1149.25 155.283 1158 Q155.283 1166.72 152.205 1171.33 Q149.149 1175.91 143.339 1175.91 Q137.529 1175.91 134.45 1171.33 Q131.395 1166.72 131.395 1158 Q131.395 1149.25 134.45 1144.66 Q137.529 1140.06 143.339 1140.06 Z\" fill=\"#000000\" fill-rule=\"evenodd\" fill-opacity=\"1\" /><path clip-path=\"url(#clip570)\" d=\"M 0 0 M88.8716 867.646 L101.348 867.646 L101.348 871.443 L88.8716 871.443 L88.8716 867.646 Z\" fill=\"#000000\" fill-rule=\"evenodd\" fill-opacity=\"1\" /><path clip-path=\"url(#clip570)\" d=\"M 0 0 M116.418 866.119 Q113.084 866.119 111.163 867.901 Q109.265 869.683 109.265 872.808 Q109.265 875.933 111.163 877.716 Q113.084 879.498 116.418 879.498 Q119.751 879.498 121.672 877.716 Q123.594 875.91 123.594 872.808 Q123.594 869.683 121.672 867.901 Q119.774 866.119 116.418 866.119 M111.742 864.128 Q108.733 863.387 107.043 861.327 Q105.376 859.267 105.376 856.304 Q105.376 852.16 108.316 849.753 Q111.279 847.345 116.418 847.345 Q121.58 847.345 124.52 849.753 Q127.459 852.16 127.459 856.304 Q127.459 859.267 125.77 861.327 Q124.103 863.387 121.117 864.128 Q124.496 864.915 126.371 867.206 Q128.27 869.498 128.27 872.808 Q128.27 877.831 125.191 880.517 Q122.135 883.202 116.418 883.202 Q110.7 883.202 107.622 880.517 Q104.566 877.831 104.566 872.808 Q104.566 869.498 106.464 867.206 Q108.362 864.915 111.742 864.128 M110.029 856.744 Q110.029 859.429 111.696 860.933 Q113.385 862.438 116.418 862.438 Q119.427 862.438 121.117 860.933 Q122.83 859.429 122.83 856.744 Q122.83 854.058 121.117 852.554 Q119.427 851.049 116.418 851.049 Q113.385 851.049 111.696 852.554 Q110.029 854.058 110.029 856.744 Z\" fill=\"#000000\" fill-rule=\"evenodd\" fill-opacity=\"1\" /><path clip-path=\"url(#clip570)\" d=\"M 0 0 M143.339 851.049 Q139.728 851.049 137.899 854.614 Q136.094 858.156 136.094 865.285 Q136.094 872.392 137.899 875.956 Q139.728 879.498 143.339 879.498 Q146.973 879.498 148.779 875.956 Q150.607 872.392 150.607 865.285 Q150.607 858.156 148.779 854.614 Q146.973 851.049 143.339 851.049 M143.339 847.345 Q149.149 847.345 152.205 851.952 Q155.283 856.535 155.283 865.285 Q155.283 874.012 152.205 878.618 Q149.149 883.202 143.339 883.202 Q137.529 883.202 134.45 878.618 Q131.395 874.012 131.395 865.285 Q131.395 856.535 134.45 851.952 Q137.529 847.345 143.339 847.345 Z\" fill=\"#000000\" fill-rule=\"evenodd\" fill-opacity=\"1\" /><path clip-path=\"url(#clip570)\" d=\"M 0 0 M88.617 574.936 L101.094 574.936 L101.094 578.733 L88.617 578.733 L88.617 574.936 Z\" fill=\"#000000\" fill-rule=\"evenodd\" fill-opacity=\"1\" /><path clip-path=\"url(#clip570)\" d=\"M 0 0 M116.742 570.677 Q113.594 570.677 111.742 572.83 Q109.913 574.983 109.913 578.733 Q109.913 582.46 111.742 584.635 Q113.594 586.788 116.742 586.788 Q119.89 586.788 121.719 584.635 Q123.571 582.46 123.571 578.733 Q123.571 574.983 121.719 572.83 Q119.89 570.677 116.742 570.677 M126.024 556.025 L126.024 560.284 Q124.265 559.45 122.459 559.011 Q120.677 558.571 118.918 558.571 Q114.288 558.571 111.834 561.696 Q109.404 564.821 109.057 571.14 Q110.422 569.126 112.483 568.061 Q114.543 566.974 117.02 566.974 Q122.228 566.974 125.237 570.145 Q128.27 573.293 128.27 578.733 Q128.27 584.057 125.121 587.274 Q121.973 590.492 116.742 590.492 Q110.746 590.492 107.575 585.909 Q104.404 581.302 104.404 572.575 Q104.404 564.381 108.293 559.52 Q112.182 554.636 118.733 554.636 Q120.492 554.636 122.274 554.983 Q124.08 555.33 126.024 556.025 Z\" fill=\"#000000\" fill-rule=\"evenodd\" fill-opacity=\"1\" /><path clip-path=\"url(#clip570)\" d=\"M 0 0 M143.339 558.339 Q139.728 558.339 137.899 561.904 Q136.094 565.446 136.094 572.575 Q136.094 579.682 137.899 583.247 Q139.728 586.788 143.339 586.788 Q146.973 586.788 148.779 583.247 Q150.607 579.682 150.607 572.575 Q150.607 565.446 148.779 561.904 Q146.973 558.339 143.339 558.339 M143.339 554.636 Q149.149 554.636 152.205 559.242 Q155.283 563.825 155.283 572.575 Q155.283 581.302 152.205 585.909 Q149.149 590.492 143.339 590.492 Q137.529 590.492 134.45 585.909 Q131.395 581.302 131.395 572.575 Q131.395 563.825 134.45 559.242 Q137.529 554.636 143.339 554.636 Z\" fill=\"#000000\" fill-rule=\"evenodd\" fill-opacity=\"1\" /><path clip-path=\"url(#clip570)\" d=\"M 0 0 M88.2929 282.227 L100.77 282.227 L100.77 286.023 L88.2929 286.023 L88.2929 282.227 Z\" fill=\"#000000\" fill-rule=\"evenodd\" fill-opacity=\"1\" /><path clip-path=\"url(#clip570)\" d=\"M 0 0 M118.686 266.625 L106.881 285.074 L118.686 285.074 L118.686 266.625 M117.459 262.551 L123.339 262.551 L123.339 285.074 L128.27 285.074 L128.27 288.963 L123.339 288.963 L123.339 297.111 L118.686 297.111 L118.686 288.963 L103.085 288.963 L103.085 284.449 L117.459 262.551 Z\" fill=\"#000000\" fill-rule=\"evenodd\" fill-opacity=\"1\" /><path clip-path=\"url(#clip570)\" d=\"M 0 0 M143.339 265.629 Q139.728 265.629 137.899 269.194 Q136.094 272.736 136.094 279.865 Q136.094 286.972 137.899 290.537 Q139.728 294.078 143.339 294.078 Q146.973 294.078 148.779 290.537 Q150.607 286.972 150.607 279.865 Q150.607 272.736 148.779 269.194 Q146.973 265.629 143.339 265.629 M143.339 261.926 Q149.149 261.926 152.205 266.532 Q155.283 271.116 155.283 279.865 Q155.283 288.592 152.205 293.199 Q149.149 297.782 143.339 297.782 Q137.529 297.782 134.45 293.199 Q131.395 288.592 131.395 279.865 Q131.395 271.116 134.45 266.532 Q137.529 261.926 143.339 261.926 Z\" fill=\"#000000\" fill-rule=\"evenodd\" fill-opacity=\"1\" /><polyline clip-path=\"url(#clip572)\" style=\"stroke:#3da44d; stroke-width:4; stroke-opacity:1; fill:none\" points=\"\n",
       "  179.283,228.777 903.774,323.266 \n",
       "  \"/>\n",
       "<polyline clip-path=\"url(#clip572)\" style=\"stroke:#c271d2; stroke-width:4; stroke-opacity:1; fill:none\" points=\"\n",
       "  179.283,371.509 903.774,465.674 1628.27,551.539 \n",
       "  \"/>\n",
       "<polyline clip-path=\"url(#clip572)\" style=\"stroke:#ac8d18; stroke-width:4; stroke-opacity:1; fill:none\" points=\"\n",
       "  179.283,515.993 903.774,611.885 1628.27,699.265 2352.76,786.248 \n",
       "  \"/>\n",
       "<polyline clip-path=\"url(#clip572)\" style=\"stroke:#00a9ad; stroke-width:4; stroke-opacity:1; fill:none\" points=\"\n",
       "  179.283,659.653 903.774,758.261 1628.27,847.399 2352.76,930.642 3077.25,1006.1 \n",
       "  \"/>\n",
       "<polyline clip-path=\"url(#clip572)\" style=\"stroke:#ed5d92; stroke-width:4; stroke-opacity:1; fill:none\" points=\"\n",
       "  179.283,803.215 903.774,904.122 1628.27,992.28 2352.76,1081.69 3077.25,1161.62 \n",
       "  \"/>\n",
       "<polyline clip-path=\"url(#clip572)\" style=\"stroke:#c68125; stroke-width:4; stroke-opacity:1; fill:none\" points=\"\n",
       "  179.283,946.918 903.774,1054.95 1628.27,1143.57 2352.76,1242.21 3077.25,1294.19 \n",
       "  \"/>\n",
       "<polyline clip-path=\"url(#clip572)\" style=\"stroke:#00a98d; stroke-width:4; stroke-opacity:1; fill:none\" points=\"\n",
       "  179.283,1092.28 903.774,1200.55 1628.27,1290.17 2352.76,1377.5 3077.25,1445.72 \n",
       "  \"/>\n",
       "<path clip-path=\"url(#clip570)\" d=\"\n",
       "M1988.02 735.564 L2280.76 735.564 L2280.76 130.764 L1988.02 130.764  Z\n",
       "  \" fill=\"#ffffff\" fill-rule=\"evenodd\" fill-opacity=\"1\"/>\n",
       "<polyline clip-path=\"url(#clip570)\" style=\"stroke:#000000; stroke-width:4; stroke-opacity:1; fill:none\" points=\"\n",
       "  1988.02,735.564 2280.76,735.564 2280.76,130.764 1988.02,130.764 1988.02,735.564 \n",
       "  \"/>\n",
       "<polyline clip-path=\"url(#clip570)\" style=\"stroke:#009af9; stroke-width:4; stroke-opacity:1; fill:none\" points=\"\n",
       "  2012.02,191.244 2156.02,191.244 \n",
       "  \"/>\n",
       "<path clip-path=\"url(#clip570)\" d=\"M 0 0 M2193.87 210.931 Q2192.06 215.561 2190.35 216.973 Q2188.64 218.385 2185.77 218.385 L2182.36 218.385 L2182.36 214.82 L2184.86 214.82 Q2186.62 214.82 2187.59 213.987 Q2188.57 213.154 2189.75 210.052 L2190.51 208.107 L2180.02 182.598 L2184.54 182.598 L2192.64 202.876 L2200.74 182.598 L2205.26 182.598 L2193.87 210.931 Z\" fill=\"#000000\" fill-rule=\"evenodd\" fill-opacity=\"1\" /><path clip-path=\"url(#clip570)\" d=\"M 0 0 M2211.14 204.589 L2218.77 204.589 L2218.77 178.223 L2210.46 179.89 L2210.46 175.631 L2218.73 173.964 L2223.4 173.964 L2223.4 204.589 L2231.04 204.589 L2231.04 208.524 L2211.14 208.524 L2211.14 204.589 Z\" fill=\"#000000\" fill-rule=\"evenodd\" fill-opacity=\"1\" /><polyline clip-path=\"url(#clip570)\" style=\"stroke:#e26f46; stroke-width:4; stroke-opacity:1; fill:none\" points=\"\n",
       "  2012.02,251.724 2156.02,251.724 \n",
       "  \"/>\n",
       "<path clip-path=\"url(#clip570)\" d=\"M 0 0 M2193.87 271.411 Q2192.06 276.041 2190.35 277.453 Q2188.64 278.865 2185.77 278.865 L2182.36 278.865 L2182.36 275.3 L2184.86 275.3 Q2186.62 275.3 2187.59 274.467 Q2188.57 273.634 2189.75 270.532 L2190.51 268.587 L2180.02 243.078 L2184.54 243.078 L2192.64 263.356 L2200.74 243.078 L2205.26 243.078 L2193.87 271.411 Z\" fill=\"#000000\" fill-rule=\"evenodd\" fill-opacity=\"1\" /><path clip-path=\"url(#clip570)\" d=\"M 0 0 M2214.35 265.069 L2230.67 265.069 L2230.67 269.004 L2208.73 269.004 L2208.73 265.069 Q2211.39 262.314 2215.97 257.685 Q2220.58 253.032 2221.76 251.689 Q2224.01 249.166 2224.89 247.43 Q2225.79 245.671 2225.79 243.981 Q2225.79 241.226 2223.84 239.49 Q2221.92 237.754 2218.82 237.754 Q2216.62 237.754 2214.17 238.518 Q2211.74 239.282 2208.96 240.833 L2208.96 236.111 Q2211.78 234.976 2214.24 234.398 Q2216.69 233.819 2218.73 233.819 Q2224.1 233.819 2227.29 236.504 Q2230.49 239.189 2230.49 243.68 Q2230.49 245.81 2229.68 247.731 Q2228.89 249.629 2226.78 252.222 Q2226.21 252.893 2223.1 256.111 Q2220 259.305 2214.35 265.069 Z\" fill=\"#000000\" fill-rule=\"evenodd\" fill-opacity=\"1\" /><polyline clip-path=\"url(#clip570)\" style=\"stroke:#3da44d; stroke-width:4; stroke-opacity:1; fill:none\" points=\"\n",
       "  2012.02,312.204 2156.02,312.204 \n",
       "  \"/>\n",
       "<path clip-path=\"url(#clip570)\" d=\"M 0 0 M2193.87 331.891 Q2192.06 336.521 2190.35 337.933 Q2188.64 339.345 2185.77 339.345 L2182.36 339.345 L2182.36 335.78 L2184.86 335.78 Q2186.62 335.78 2187.59 334.947 Q2188.57 334.114 2189.75 331.012 L2190.51 329.067 L2180.02 303.558 L2184.54 303.558 L2192.64 323.836 L2200.74 303.558 L2205.26 303.558 L2193.87 331.891 Z\" fill=\"#000000\" fill-rule=\"evenodd\" fill-opacity=\"1\" /><path clip-path=\"url(#clip570)\" d=\"M 0 0 M2224.49 310.85 Q2227.85 311.568 2229.72 313.836 Q2231.62 316.105 2231.62 319.438 Q2231.62 324.554 2228.1 327.354 Q2224.58 330.155 2218.1 330.155 Q2215.93 330.155 2213.61 329.716 Q2211.32 329.299 2208.87 328.442 L2208.87 323.929 Q2210.81 325.063 2213.13 325.642 Q2215.44 326.22 2217.96 326.22 Q2222.36 326.22 2224.65 324.484 Q2226.97 322.748 2226.97 319.438 Q2226.97 316.382 2224.82 314.669 Q2222.69 312.933 2218.87 312.933 L2214.84 312.933 L2214.84 309.091 L2219.05 309.091 Q2222.5 309.091 2224.33 307.725 Q2226.16 306.336 2226.16 303.743 Q2226.16 301.081 2224.26 299.669 Q2222.39 298.234 2218.87 298.234 Q2216.95 298.234 2214.75 298.651 Q2212.55 299.068 2209.91 299.947 L2209.91 295.781 Q2212.57 295.04 2214.89 294.669 Q2217.22 294.299 2219.28 294.299 Q2224.61 294.299 2227.71 296.73 Q2230.81 299.137 2230.81 303.257 Q2230.81 306.128 2229.17 308.118 Q2227.52 310.086 2224.49 310.85 Z\" fill=\"#000000\" fill-rule=\"evenodd\" fill-opacity=\"1\" /><polyline clip-path=\"url(#clip570)\" style=\"stroke:#c271d2; stroke-width:4; stroke-opacity:1; fill:none\" points=\"\n",
       "  2012.02,372.684 2156.02,372.684 \n",
       "  \"/>\n",
       "<path clip-path=\"url(#clip570)\" d=\"M 0 0 M2193.87 392.371 Q2192.06 397.001 2190.35 398.413 Q2188.64 399.825 2185.77 399.825 L2182.36 399.825 L2182.36 396.26 L2184.86 396.26 Q2186.62 396.26 2187.59 395.427 Q2188.57 394.594 2189.75 391.492 L2190.51 389.547 L2180.02 364.038 L2184.54 364.038 L2192.64 384.316 L2200.74 364.038 L2205.26 364.038 L2193.87 392.371 Z\" fill=\"#000000\" fill-rule=\"evenodd\" fill-opacity=\"1\" /><path clip-path=\"url(#clip570)\" d=\"M 0 0 M2223.17 359.478 L2211.37 377.927 L2223.17 377.927 L2223.17 359.478 M2221.95 355.404 L2227.83 355.404 L2227.83 377.927 L2232.76 377.927 L2232.76 381.816 L2227.83 381.816 L2227.83 389.964 L2223.17 389.964 L2223.17 381.816 L2207.57 381.816 L2207.57 377.302 L2221.95 355.404 Z\" fill=\"#000000\" fill-rule=\"evenodd\" fill-opacity=\"1\" /><polyline clip-path=\"url(#clip570)\" style=\"stroke:#ac8d18; stroke-width:4; stroke-opacity:1; fill:none\" points=\"\n",
       "  2012.02,433.164 2156.02,433.164 \n",
       "  \"/>\n",
       "<path clip-path=\"url(#clip570)\" d=\"M 0 0 M2193.87 452.851 Q2192.06 457.481 2190.35 458.893 Q2188.64 460.305 2185.77 460.305 L2182.36 460.305 L2182.36 456.74 L2184.86 456.74 Q2186.62 456.74 2187.59 455.907 Q2188.57 455.074 2189.75 451.972 L2190.51 450.027 L2180.02 424.518 L2184.54 424.518 L2192.64 444.796 L2200.74 424.518 L2205.26 424.518 L2193.87 452.851 Z\" fill=\"#000000\" fill-rule=\"evenodd\" fill-opacity=\"1\" /><path clip-path=\"url(#clip570)\" d=\"M 0 0 M2210.37 415.884 L2228.73 415.884 L2228.73 419.819 L2214.65 419.819 L2214.65 428.291 Q2215.67 427.944 2216.69 427.782 Q2217.71 427.597 2218.73 427.597 Q2224.52 427.597 2227.89 430.768 Q2231.27 433.94 2231.27 439.356 Q2231.27 444.935 2227.8 448.037 Q2224.33 451.115 2218.01 451.115 Q2215.83 451.115 2213.57 450.745 Q2211.32 450.375 2208.91 449.634 L2208.91 444.935 Q2211 446.069 2213.22 446.625 Q2215.44 447.18 2217.92 447.18 Q2221.92 447.18 2224.26 445.074 Q2226.6 442.967 2226.6 439.356 Q2226.6 435.745 2224.26 433.639 Q2221.92 431.532 2217.92 431.532 Q2216.04 431.532 2214.17 431.949 Q2212.32 432.365 2210.37 433.245 L2210.37 415.884 Z\" fill=\"#000000\" fill-rule=\"evenodd\" fill-opacity=\"1\" /><polyline clip-path=\"url(#clip570)\" style=\"stroke:#00a9ad; stroke-width:4; stroke-opacity:1; fill:none\" points=\"\n",
       "  2012.02,493.644 2156.02,493.644 \n",
       "  \"/>\n",
       "<path clip-path=\"url(#clip570)\" d=\"M 0 0 M2193.87 513.331 Q2192.06 517.961 2190.35 519.373 Q2188.64 520.785 2185.77 520.785 L2182.36 520.785 L2182.36 517.22 L2184.86 517.22 Q2186.62 517.22 2187.59 516.387 Q2188.57 515.554 2189.75 512.452 L2190.51 510.507 L2180.02 484.998 L2184.54 484.998 L2192.64 505.276 L2200.74 484.998 L2205.26 484.998 L2193.87 513.331 Z\" fill=\"#000000\" fill-rule=\"evenodd\" fill-opacity=\"1\" /><path clip-path=\"url(#clip570)\" d=\"M 0 0 M2220.9 491.781 Q2217.76 491.781 2215.9 493.933 Q2214.08 496.086 2214.08 499.836 Q2214.08 503.563 2215.9 505.739 Q2217.76 507.892 2220.9 507.892 Q2224.05 507.892 2225.88 505.739 Q2227.73 503.563 2227.73 499.836 Q2227.73 496.086 2225.88 493.933 Q2224.05 491.781 2220.9 491.781 M2230.19 477.128 L2230.19 481.387 Q2228.43 480.554 2226.62 480.114 Q2224.84 479.674 2223.08 479.674 Q2218.45 479.674 2216 482.799 Q2213.57 485.924 2213.22 492.244 Q2214.58 490.23 2216.64 489.165 Q2218.71 488.077 2221.18 488.077 Q2226.39 488.077 2229.4 491.248 Q2232.43 494.396 2232.43 499.836 Q2232.43 505.16 2229.28 508.378 Q2226.14 511.595 2220.9 511.595 Q2214.91 511.595 2211.74 507.012 Q2208.57 502.406 2208.57 493.679 Q2208.57 485.484 2212.46 480.623 Q2216.34 475.739 2222.89 475.739 Q2224.65 475.739 2226.44 476.086 Q2228.24 476.434 2230.19 477.128 Z\" fill=\"#000000\" fill-rule=\"evenodd\" fill-opacity=\"1\" /><polyline clip-path=\"url(#clip570)\" style=\"stroke:#ed5d92; stroke-width:4; stroke-opacity:1; fill:none\" points=\"\n",
       "  2012.02,554.124 2156.02,554.124 \n",
       "  \"/>\n",
       "<path clip-path=\"url(#clip570)\" d=\"M 0 0 M2193.87 573.811 Q2192.06 578.441 2190.35 579.853 Q2188.64 581.265 2185.77 581.265 L2182.36 581.265 L2182.36 577.7 L2184.86 577.7 Q2186.62 577.7 2187.59 576.867 Q2188.57 576.034 2189.75 572.932 L2190.51 570.987 L2180.02 545.478 L2184.54 545.478 L2192.64 565.756 L2200.74 545.478 L2205.26 545.478 L2193.87 573.811 Z\" fill=\"#000000\" fill-rule=\"evenodd\" fill-opacity=\"1\" /><path clip-path=\"url(#clip570)\" d=\"M 0 0 M2209.14 536.844 L2231.37 536.844 L2231.37 538.835 L2218.82 571.404 L2213.94 571.404 L2225.74 540.779 L2209.14 540.779 L2209.14 536.844 Z\" fill=\"#000000\" fill-rule=\"evenodd\" fill-opacity=\"1\" /><polyline clip-path=\"url(#clip570)\" style=\"stroke:#c68125; stroke-width:4; stroke-opacity:1; fill:none\" points=\"\n",
       "  2012.02,614.604 2156.02,614.604 \n",
       "  \"/>\n",
       "<path clip-path=\"url(#clip570)\" d=\"M 0 0 M2193.87 634.291 Q2192.06 638.921 2190.35 640.333 Q2188.64 641.745 2185.77 641.745 L2182.36 641.745 L2182.36 638.18 L2184.86 638.18 Q2186.62 638.18 2187.59 637.347 Q2188.57 636.514 2189.75 633.412 L2190.51 631.467 L2180.02 605.958 L2184.54 605.958 L2192.64 626.236 L2200.74 605.958 L2205.26 605.958 L2193.87 634.291 Z\" fill=\"#000000\" fill-rule=\"evenodd\" fill-opacity=\"1\" /><path clip-path=\"url(#clip570)\" d=\"M 0 0 M2220.33 615.472 Q2216.99 615.472 2215.07 617.255 Q2213.17 619.037 2213.17 622.162 Q2213.17 625.287 2215.07 627.069 Q2216.99 628.852 2220.33 628.852 Q2223.66 628.852 2225.58 627.069 Q2227.5 625.264 2227.5 622.162 Q2227.5 619.037 2225.58 617.255 Q2223.68 615.472 2220.33 615.472 M2215.65 613.481 Q2212.64 612.741 2210.95 610.681 Q2209.28 608.62 2209.28 605.657 Q2209.28 601.514 2212.22 599.106 Q2215.19 596.699 2220.33 596.699 Q2225.49 596.699 2228.43 599.106 Q2231.37 601.514 2231.37 605.657 Q2231.37 608.62 2229.68 610.681 Q2228.01 612.741 2225.02 613.481 Q2228.4 614.268 2230.28 616.56 Q2232.18 618.852 2232.18 622.162 Q2232.18 627.185 2229.1 629.87 Q2226.04 632.555 2220.33 632.555 Q2214.61 632.555 2211.53 629.87 Q2208.47 627.185 2208.47 622.162 Q2208.47 618.852 2210.37 616.56 Q2212.27 614.268 2215.65 613.481 M2213.94 606.097 Q2213.94 608.782 2215.6 610.287 Q2217.29 611.792 2220.33 611.792 Q2223.33 611.792 2225.02 610.287 Q2226.74 608.782 2226.74 606.097 Q2226.74 603.412 2225.02 601.907 Q2223.33 600.403 2220.33 600.403 Q2217.29 600.403 2215.6 601.907 Q2213.94 603.412 2213.94 606.097 Z\" fill=\"#000000\" fill-rule=\"evenodd\" fill-opacity=\"1\" /><polyline clip-path=\"url(#clip570)\" style=\"stroke:#00a98d; stroke-width:4; stroke-opacity:1; fill:none\" points=\"\n",
       "  2012.02,675.084 2156.02,675.084 \n",
       "  \"/>\n",
       "<path clip-path=\"url(#clip570)\" d=\"M 0 0 M2193.87 694.771 Q2192.06 699.401 2190.35 700.813 Q2188.64 702.225 2185.77 702.225 L2182.36 702.225 L2182.36 698.66 L2184.86 698.66 Q2186.62 698.66 2187.59 697.827 Q2188.57 696.994 2189.75 693.892 L2190.51 691.947 L2180.02 666.438 L2184.54 666.438 L2192.64 686.716 L2200.74 666.438 L2205.26 666.438 L2193.87 694.771 Z\" fill=\"#000000\" fill-rule=\"evenodd\" fill-opacity=\"1\" /><path clip-path=\"url(#clip570)\" d=\"M 0 0 M2210.46 691.647 L2210.46 687.387 Q2212.22 688.221 2214.03 688.66 Q2215.83 689.1 2217.57 689.1 Q2222.2 689.1 2224.63 685.998 Q2227.08 682.873 2227.43 676.531 Q2226.09 678.522 2224.03 679.586 Q2221.97 680.651 2219.47 680.651 Q2214.28 680.651 2211.25 677.526 Q2208.24 674.378 2208.24 668.938 Q2208.24 663.614 2211.39 660.397 Q2214.54 657.179 2219.77 657.179 Q2225.77 657.179 2228.91 661.786 Q2232.08 666.369 2232.08 675.119 Q2232.08 683.29 2228.2 688.174 Q2224.33 693.035 2217.78 693.035 Q2216.02 693.035 2214.21 692.688 Q2212.41 692.341 2210.46 691.647 M2219.77 676.994 Q2222.92 676.994 2224.75 674.841 Q2226.6 672.688 2226.6 668.938 Q2226.6 665.211 2224.75 663.059 Q2222.92 660.883 2219.77 660.883 Q2216.62 660.883 2214.77 663.059 Q2212.94 665.211 2212.94 668.938 Q2212.94 672.688 2214.77 674.841 Q2216.62 676.994 2219.77 676.994 Z\" fill=\"#000000\" fill-rule=\"evenodd\" fill-opacity=\"1\" /></svg>\n"
      ]
     },
     "execution_count": 66,
     "metadata": {},
     "output_type": "execute_result"
    }
   ],
   "source": [
    "plot()\n",
    "\n",
    "for i in 2:kmax\n",
    "    plot!(collect(2:i), [log(Ω̂.ω([k, i], 0)) for k in 2:i])\n",
    "end\n",
    "\n",
    "plot!(xlims = (2, 5))"
   ]
  },
  {
   "cell_type": "code",
   "execution_count": 69,
   "metadata": {},
   "outputs": [
    {
     "data": {
      "text/plain": [
       "(-8.054704114429893e6, -8.058880117868413e6)"
      ]
     },
     "execution_count": 69,
     "metadata": {},
     "output_type": "execute_result"
    }
   ],
   "source": [
    "# AIC for the length measure, preferred over AON for this data\n",
    "Ω̂ = estimateΩEmpirically(H_, Ẑ; aggregator = p -> [length(p), sum(p)], bigNums = true);\n",
    "\n",
    "num_params = kmax*(kmax-1)/2\n",
    "L = 2*(modularity(H_, Ẑ, Ω̂; α = 0) - n*log(k))\n",
    "AIC = L - 2*num_params\n",
    "BIC = L - num_params*(kmax*log(n) - sum(log(i) for i in 2:kmax))\n",
    "Float64(AIC), Float64(BIC)"
   ]
  },
  {
   "cell_type": "code",
   "execution_count": 70,
   "metadata": {},
   "outputs": [
    {
     "data": {
      "text/plain": [
       "(-8.250151729627548e6, -8.250986930315251e6)"
      ]
     },
     "execution_count": 70,
     "metadata": {},
     "output_type": "execute_result"
    }
   ],
   "source": [
    "# AIC for the AON cut\n",
    "\n",
    "Ω̂ = estimateΩEmpirically(H_, Ẑ; aggregator = p -> [length(p) == 1, sum(p)], bigNums = true);\n",
    "\n",
    "num_params = kmax - 1\n",
    "L = 2*(modularity(H_, Ẑ, Ω̂; α = 0) - n*log(k))\n",
    "AIC = L - 2*num_params\n",
    "BIC = L - num_params*(kmax*log(n) - sum(log(i) for i in 2:kmax))\n",
    "Float64(AIC), Float64(BIC)"
   ]
  },
  {
   "cell_type": "markdown",
   "metadata": {},
   "source": [
    "AIC and BIC are probably good things to do here, even if the fast algorithm doesn't quite work for the non-AON cuts. Principled story about model selection would be really good. Annoying problem: correctly stating the number of observations."
   ]
  },
  {
   "cell_type": "code",
   "execution_count": 71,
   "metadata": {},
   "outputs": [],
   "source": [
    "function ω(p, α)\n",
    "    k = big(sum(p))\n",
    "    return k/sum((p .* (1:length(p)).^α[k])) / n^(α[kmax+k]*k)\n",
    "end\n",
    "\n",
    "Ω = partitionIntensityFunction(ω, kmax);\n",
    "α0 = vcat(repeat([1.0], kmax), 1:kmax);"
   ]
  },
  {
   "cell_type": "code",
   "execution_count": 72,
   "metadata": {},
   "outputs": [
    {
     "name": "stdout",
     "output_type": "stream",
     "text": [
      "-4.999454293796865e6\n",
      "-4.618153422403107e6\n",
      "-4.260462075816548e6\n",
      "-4.004400373842957e6\n",
      "-3.8731785640038173e6\n",
      "-3.784778664238286e6\n",
      "-3.731646737300687e6\n",
      "-3.6924197203622176e6\n",
      "-3.667179300260388e6\n",
      "-3.648820543693396e6\n",
      "-3.636433310988673e6\n",
      "-3.6269739904197897e6\n",
      "-3.620478487526476e6\n",
      "-3.615280271441635e6\n",
      "-3.6117271734730275e6\n",
      "-3.609766373697348e6\n",
      "-3.608697736813359e6\n",
      "-3.607821440019501e6\n",
      "-3.6071979112827335e6\n",
      "-3.6070199673479917e6\n"
     ]
    },
    {
     "data": {
      "text/plain": [
       "20-element Array{Float64,1}:\n",
       "  1.0\n",
       "  1.0\n",
       " 14.34848244654724\n",
       " 14.758728877898484\n",
       " 15.455430468408021\n",
       " 16.35464961395791\n",
       " 17.298416774057007\n",
       " 18.25415045519669\n",
       " 19.364349017028434\n",
       " 20.171060668281225\n",
       " 92.45246956064045\n",
       " 16.13022397465688\n",
       "  0.554015109005713\n",
       "  0.6327189901266956\n",
       "  0.6805632307237864\n",
       "  0.7118847319340983\n",
       "  0.7334132074090813\n",
       "  0.7490087008995356\n",
       "  0.7603675986269302\n",
       "  0.7725751808971358"
      ]
     },
     "execution_count": 72,
     "metadata": {},
     "output_type": "execute_result"
    }
   ],
   "source": [
    "using Optim\n",
    "α̂ = learnParameters(H_, Ẑ, Ω, α0; n_iters = 20, verbose = true);    "
   ]
  },
  {
   "cell_type": "code",
   "execution_count": 73,
   "metadata": {},
   "outputs": [
    {
     "name": "stdout",
     "output_type": "stream",
     "text": [
      "-3.607007932355571e6\n",
      "-3.6070076000542114e6\n",
      "-3.607007592736339e6\n",
      "-3.607007592581014e6\n",
      "-3.6070075925777326e6\n",
      "-3.607007592577663e6\n",
      "-3.6070075925776614e6\n",
      "-3.607007592577661e6\n",
      "-3.607007592577661e6\n",
      "-3.607007592577661e6\n",
      "-3.607007592577661e6\n",
      "-3.607007592577661e6\n",
      "-3.607007592577661e6\n",
      "-3.607007592577661e6\n",
      "-3.607007592577661e6\n",
      "-3.607007592577661e6\n",
      "-3.607007592577661e6\n",
      "-3.607007592577661e6\n",
      "-3.607007592577661e6\n",
      "-3.607007592577661e6\n"
     ]
    }
   ],
   "source": [
    "α̂ = learnParameters(H_, Ẑ, Ω, α̂; n_iters = 20, verbose = true);    "
   ]
  },
  {
   "cell_type": "code",
   "execution_count": 74,
   "metadata": {},
   "outputs": [
    {
     "data": {
      "text/plain": [
       "20-element Array{Float64,1}:\n",
       "  1.0\n",
       "  1.0\n",
       " 14.34848244654724\n",
       " 14.758728877898484\n",
       " 15.455430468408021\n",
       " 16.354649614488586\n",
       " 17.298416841275333\n",
       " 18.254164524838835\n",
       " 19.36446956413434\n",
       " 20.299625662311293\n",
       " 92.45246956064045\n",
       " 16.13022397465688\n",
       "  0.554015109005713\n",
       "  0.6327189901266956\n",
       "  0.6805632307237128\n",
       "  0.711884731923924\n",
       "  0.7334132061678384\n",
       "  0.7490084461440487\n",
       "  0.7603654942607672\n",
       "  0.7703673326810474"
      ]
     },
     "execution_count": 74,
     "metadata": {},
     "output_type": "execute_result"
    }
   ],
   "source": [
    "α̂"
   ]
  },
  {
   "cell_type": "code",
   "execution_count": 79,
   "metadata": {},
   "outputs": [
    {
     "data": {
      "text/plain": [
       "47.0"
      ]
     },
     "execution_count": 79,
     "metadata": {},
     "output_type": "execute_result"
    }
   ],
   "source": [
    "v = [6, 3, 2, 1]\n",
    "(sum(v*v') - v'*v)/2"
   ]
  },
  {
   "cell_type": "code",
   "execution_count": 93,
   "metadata": {},
   "outputs": [
    {
     "name": "stdout",
     "output_type": "stream",
     "text": [
      "-4.904198702259071e6\n",
      "-4.571385006257608e6\n",
      "-4.251044029809998e6\n",
      "-4.0347354931475716e6\n",
      "-3.924530063487615e6\n",
      "-3.845228904135363e6\n",
      "-3.7999363593133506e6\n",
      "-3.7626829314931133e6\n",
      "-3.736733987068712e6\n",
      "-3.718647534571205e6\n",
      "-3.703678887910961e6\n",
      "-3.6933929686879287e6\n",
      "-3.685139942600275e6\n",
      "-3.6780835980945807e6\n",
      "-3.6730461663397094e6\n",
      "-3.6689750656653796e6\n",
      "-3.6652620522422297e6\n",
      "-3.662346528276046e6\n",
      "-3.6603747271184316e6\n",
      "-3.65905330655427e6\n"
     ]
    }
   ],
   "source": [
    "function ω(p, α)\n",
    "    k = big(sum(p))\n",
    "    dcut = big((sum(p*p') - p'*p)/2)\n",
    "    return k/((1 + dcut)^α[k])/ n^(α[kmax+k]*k)\n",
    "end\n",
    "\n",
    "Ω₀ = partitionIntensityFunction(ω, kmax);\n",
    "α0 = vcat(repeat([1.0], kmax), 1:kmax);\n",
    "\n",
    "using Optim\n",
    "α̂ = learnParameters(H_, Ẑ, Ω₀, α0; n_iters = 20, verbose = true);    "
   ]
  },
  {
   "cell_type": "code",
   "execution_count": 94,
   "metadata": {},
   "outputs": [
    {
     "data": {
      "text/plain": [
       "20-element Array{Float64,1}:\n",
       "  1.0\n",
       "  1.0\n",
       "  9.403997229268617\n",
       "  8.709799429061102\n",
       "  8.739326928772941\n",
       "  9.05450695024631\n",
       "  9.456531441138202\n",
       "  9.887387147243238\n",
       " 10.201899160765343\n",
       "  8.746925277551988\n",
       " 92.45246956064045\n",
       " 23.260994293916134\n",
       "  0.587150825635639\n",
       "  0.663988439988976\n",
       "  0.7097157978742469\n",
       "  0.7391526106314135\n",
       "  0.7590284235070248\n",
       "  0.773587970001321\n",
       "  0.7911337789252074\n",
       "  0.8659295255669716"
      ]
     },
     "execution_count": 94,
     "metadata": {},
     "output_type": "execute_result"
    }
   ],
   "source": [
    "α̂"
   ]
  },
  {
   "cell_type": "code",
   "execution_count": null,
   "metadata": {},
   "outputs": [],
   "source": []
  }
 ],
 "metadata": {
  "kernelspec": {
   "display_name": "Julia 1.4.2",
   "language": "julia",
   "name": "julia-1.4"
  },
  "language_info": {
   "file_extension": ".jl",
   "mimetype": "application/julia",
   "name": "julia",
   "version": "1.4.2"
  }
 },
 "nbformat": 4,
 "nbformat_minor": 4
}
