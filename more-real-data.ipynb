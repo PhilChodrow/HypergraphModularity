{
 "cells": [
  {
   "cell_type": "code",
   "execution_count": 1,
   "metadata": {},
   "outputs": [],
   "source": [
    "include(\"jl/inference.jl\")\n",
    "using Printf"
   ]
  },
  {
   "cell_type": "code",
   "execution_count": 2,
   "metadata": {},
   "outputs": [],
   "source": [
    "function read_hypergraph_data(dataname::String, maxsize::Int64=25)\n",
    "    labels = Int64[]\n",
    "    open(\"data/$dataname/node-labels-$dataname.txt\") do f\n",
    "        for line in eachline(f)\n",
    "            push!(labels, parse(Int64, line))\n",
    "        end\n",
    "    end\n",
    "    n = length(labels)\n",
    "\n",
    "    E = Dict{Integer, Dict}()\n",
    "    open(\"data/$dataname/hyperedges-$dataname.txt\") do f\n",
    "        for line in eachline(f)\n",
    "            edge = [parse(Int64, v) for v in split(line, ',')]\n",
    "            sort!(edge)\n",
    "            if length(edge) > maxsize; continue; end\n",
    "            sz = length(edge)\n",
    "            if !haskey(E, sz)\n",
    "                E[sz] = Dict{}()\n",
    "            end\n",
    "            E[sz][edge] = 1\n",
    "        end\n",
    "    end\n",
    "    \n",
    "    D = zeros(Int64, n)\n",
    "    for (sz, edges) in E\n",
    "        for (e, _) in edges\n",
    "            D[e] .+= 1\n",
    "        end\n",
    "    end\n",
    "    \n",
    "    N = 1:n\n",
    "    \n",
    "    return hypergraph(N, E, D), labels\n",
    "end\n",
    ";"
   ]
  },
  {
   "cell_type": "code",
   "execution_count": 3,
   "metadata": {},
   "outputs": [
    {
     "data": {
      "text/plain": [
       "estimate_all (generic function with 1 method)"
      ]
     },
     "execution_count": 3,
     "metadata": {},
     "output_type": "execute_result"
    }
   ],
   "source": [
    "# A bunch of move-based aggregation functions,\n",
    "# all stratified by hyperedge size\n",
    "\n",
    "identity(p::Vector{Int64}) = p\n",
    "\n",
    "function discount_cut(p::Vector{Int64}, α=1.0)\n",
    "    discount = sum(p .^ α) - maximum(p) ^ α\n",
    "    return (sum(p), discount)\n",
    "end\n",
    "\n",
    "function sum_of_ext_degs(p::Vector{Int64})\n",
    "    soed = length(p) - 1\n",
    "    return (sum(p), soed)\n",
    "end\n",
    "\n",
    "function all_or_nothing(p::Vector{Int64})\n",
    "    is_aon = length(p) == 1\n",
    "    return (sum(p), is_aon)\n",
    "end\n",
    "\n",
    "function rainbow(p::Vector{Int64})\n",
    "    is_rainbow = length(p) == sum(p) && length(p) > 1\n",
    "    return (sum(p), is_rainbow)\n",
    "end\n",
    "\n",
    "\n",
    "function estimate_all(H, labels)\n",
    "    aggs = [identity, discount_cut, sum_of_ext_degs, \n",
    "            all_or_nothing, rainbow]\n",
    "    return [estimateΩEmpirically(H, labels; min_val=0, \n",
    "                                 aggregator=agg) for agg in aggs]\n",
    "end"
   ]
  },
  {
   "cell_type": "code",
   "execution_count": 4,
   "metadata": {},
   "outputs": [
    {
     "data": {
      "text/plain": [
       "show_estimates (generic function with 1 method)"
      ]
     },
     "execution_count": 4,
     "metadata": {},
     "output_type": "execute_result"
    }
   ],
   "source": [
    "function show_estimates(H, labels, maxk)\n",
    "    Ω̂s = estimate_all(H, labels)\n",
    "    for k = 1:maxk\n",
    "        for p in partitions(k)\n",
    "            estimates = [Ω̂(p; α=1, mode=\"partition\") for Ω̂ in Ω̂s]\n",
    "            strs = join([@sprintf(\"%.3e\", est) for est in estimates], \", \")\n",
    "            println(\"$p\\n\\t$strs\\n\")\n",
    "        end\n",
    "    end\n",
    "end"
   ]
  },
  {
   "cell_type": "code",
   "execution_count": 5,
   "metadata": {},
   "outputs": [
    {
     "data": {
      "text/plain": [
       "comparisons (generic function with 1 method)"
      ]
     },
     "execution_count": 5,
     "metadata": {},
     "output_type": "execute_result"
    }
   ],
   "source": [
    "function comparisons(H, labels, krange)\n",
    "    @time Ω̂ = estimateΩEmpirically(H, labels; min_val=0,\n",
    "                                    aggregator=discount_cut)\n",
    "    for k in krange\n",
    "        p1 = [k]\n",
    "        p2 = [k - 1, 1]\n",
    "        p3 = [ceil(Int64, k / 2), floor(Int64, k / 2)]\n",
    "        e1 = Ω̂(p1; α=1, mode=\"partition\")\n",
    "        e2 = Ω̂(p2; α=1, mode=\"partition\")\n",
    "        e3 = Ω̂(p3; α=1, mode=\"partition\")    \n",
    "        r1 = round(e1 / e2, digits=4)\n",
    "        r2 = round(e1 / e3, digits=4)\n",
    "        println(\"\\t $p1 / $p2 $r1   $p1 / $p3 $r2\")\n",
    "    end\n",
    "end"
   ]
  },
  {
   "cell_type": "code",
   "execution_count": 7,
   "metadata": {},
   "outputs": [
    {
     "name": "stdout",
     "output_type": "stream",
     "text": [
      "contact-primary-school...\n",
      "  0.294561 seconds (348.77 k allocations: 429.965 MiB, 24.39% gc time)\n",
      "\t [2] / [1, 1] 4.44   [2] / [1, 1] 4.44\n",
      "\t [3] / [2, 1] 35.6847   [3] / [2, 1] 35.6847\n",
      "\t [4] / [3, 1] 61.6188   [4] / [2, 2] 678.7721\n",
      "walmart-trips...\n",
      "  2.737869 seconds (7.28 M allocations: 3.741 GiB, 22.61% gc time)\n",
      "\t [2] / [1, 1] 2.7346   [2] / [1, 1] 2.7346\n",
      "\t [3] / [2, 1] 2.7092   [3] / [2, 1] 2.7092\n",
      "\t [4] / [3, 1] 3.6565   [4] / [2, 2] 4.9379\n",
      "\t [5] / [4, 1] 4.6371   [5] / [3, 2] 6.1936\n",
      "\t [6] / [5, 1] 5.456   [6] / [3, 3] 10.179\n",
      "\t [7] / [6, 1] 7.8185   [7] / [4, 3] 17.587\n",
      "\t [8] / [7, 1] 8.1443   [8] / [4, 4] 28.8033\n",
      "\t [9] / [8, 1] 8.6439   [9] / [5, 4] 52.4397\n",
      "\t [10] / [9, 1] 11.0399   [10] / [5, 5] 103.4761\n",
      "TrivagoClickout...\n",
      " 13.871073 seconds (118.09 M allocations: 3.808 GiB, 26.22% gc time)\n",
      "\t [2] / [1, 1] NaN   [2] / [1, 1] NaN\n",
      "\t [3] / [2, 1] 1710.7091   [3] / [2, 1] 1710.7091\n",
      "\t [4] / [3, 1] 2026.5037   [4] / [2, 2] 69846.6807\n",
      "\t [5] / [4, 1] 2874.3709   [5] / [3, 2] 61486.7145\n",
      "\t [6] / [5, 1] 2701.3909   [6] / [3, 3] 1.7614672403e6\n",
      "\t [7] / [6, 1] 3429.3942   [7] / [4, 3] 2.2177431644e6\n",
      "\t [8] / [7, 1] 4078.5423   [8] / [4, 4] 6.41109078334e7\n",
      "\t [9] / [8, 1] 3894.8301   [9] / [5, 4] 7.30187821402e7\n",
      "\t [10] / [9, 1] 5986.7013   [10] / [5, 5] 1.8537714451203e9\n",
      "\t [11] / [10, 1] 7054.4852   [11] / [6, 5] 1.8261542591251e9\n",
      "\t [12] / [11, 1] 7727.7021   [12] / [6, 6] 5.98320370622833e10\n",
      "congress-bills...\n",
      "  2.708522 seconds (3.44 M allocations: 4.553 GiB, 22.82% gc time)\n",
      "\t [2] / [1, 1] 1.4273   [2] / [1, 1] 1.4273\n",
      "\t [3] / [2, 1] 2.1327   [3] / [2, 1] 2.1327\n",
      "\t [4] / [3, 1] 3.1247   [4] / [2, 2] 3.0957\n",
      "\t [5] / [4, 1] 3.8465   [5] / [3, 2] 5.5969\n",
      "\t [6] / [5, 1] 4.6607   [6] / [3, 3] 8.8925\n",
      "\t [7] / [6, 1] 5.7288   [7] / [4, 3] 15.142\n",
      "\t [8] / [7, 1] 6.1799   [8] / [4, 4] 24.1219\n",
      "\t [9] / [8, 1] 6.8549   [9] / [5, 4] 37.8946\n",
      "\t [10] / [9, 1] 7.2146   [10] / [5, 5] 60.9311\n",
      "\t [11] / [10, 1] 9.0604   [11] / [6, 5] 105.6267\n",
      "\t [12] / [11, 1] 10.3664   [12] / [6, 6] 172.0001\n"
     ]
    }
   ],
   "source": [
    "for (dataset, krange) in [(\"contact-primary-school\", 2:4), \n",
    "                          (\"walmart-trips\", 2:10),\n",
    "                          (\"TrivagoClickout\", 2:12), \n",
    "                          (\"congress-bills\", 2:12)]\n",
    "    println(\"$dataset...\")\n",
    "    H, labels = read_hypergraph_data(dataset)\n",
    "    comparisons(H, labels, krange)\n",
    "end"
   ]
  }
 ],
 "metadata": {
  "@webio": {
   "lastCommId": null,
   "lastKernelId": null
  },
  "kernelspec": {
   "display_name": "Julia 1.4.2",
   "language": "julia",
   "name": "julia-1.4"
  },
  "language_info": {
   "file_extension": ".jl",
   "mimetype": "application/julia",
   "name": "julia",
   "version": "1.4.2"
  }
 },
 "nbformat": 4,
 "nbformat_minor": 4
}
