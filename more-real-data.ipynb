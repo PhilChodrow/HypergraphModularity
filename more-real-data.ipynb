{
 "cells": [
  {
   "cell_type": "code",
   "execution_count": 1,
   "metadata": {},
   "outputs": [],
   "source": [
    "include(\"jl/inference.jl\")\n",
    "using Printf"
   ]
  },
  {
   "cell_type": "code",
   "execution_count": 2,
   "metadata": {},
   "outputs": [],
   "source": [
    "function read_hypergraph_data(dataname::String, maxsize::Int64=25)\n",
    "    labels = Int64[]\n",
    "    open(\"data/$dataname/node-labels-$dataname.txt\") do f\n",
    "        for line in eachline(f)\n",
    "            push!(labels, parse(Int64, line))\n",
    "        end\n",
    "    end\n",
    "    n = length(labels)\n",
    "\n",
    "    E = Dict{Integer, Dict}()\n",
    "    open(\"data/$dataname/hyperedges-$dataname.txt\") do f\n",
    "        for line in eachline(f)\n",
    "            edge = [parse(Int64, v) for v in split(line, ',')]\n",
    "            sort!(edge)\n",
    "            if length(edge) > maxsize; continue; end\n",
    "            sz = length(edge)\n",
    "            if !haskey(E, sz)\n",
    "                E[sz] = Dict{}()\n",
    "            end\n",
    "            E[sz][edge] = 1\n",
    "        end\n",
    "    end\n",
    "    \n",
    "    D = zeros(Int64, n)\n",
    "    for (sz, edges) in E\n",
    "        for (e, _) in edges\n",
    "            D[e] .+= 1\n",
    "        end\n",
    "    end\n",
    "    \n",
    "    N = 1:n\n",
    "    \n",
    "    return hypergraph(N, E, D), labels\n",
    "end\n",
    ";"
   ]
  },
  {
   "cell_type": "code",
   "execution_count": 3,
   "metadata": {},
   "outputs": [
    {
     "data": {
      "text/plain": [
       "estimate_all (generic function with 1 method)"
      ]
     },
     "execution_count": 3,
     "metadata": {},
     "output_type": "execute_result"
    }
   ],
   "source": [
    "# A bunch of move-based aggregation functions,\n",
    "# all stratified by hyperedge size\n",
    "\n",
    "identity(p::Vector{Int64}) = p\n",
    "\n",
    "function discount_cut(p::Vector{Int64}, α=1.0)\n",
    "    discount = sum(p .^ α) - maximum(p) ^ α\n",
    "    return (sum(p), discount)\n",
    "end\n",
    "\n",
    "function sum_of_ext_degs(p::Vector{Int64})\n",
    "    soed = length(p) - 1\n",
    "    return (sum(p), soed)\n",
    "end\n",
    "\n",
    "function all_or_nothing(p::Vector{Int64})\n",
    "    is_aon = length(p) == 1\n",
    "    return (sum(p), is_aon)\n",
    "end\n",
    "\n",
    "function rainbow(p::Vector{Int64})\n",
    "    is_rainbow = length(p) == sum(p) && length(p) > 1\n",
    "    return (sum(p), is_rainbow)\n",
    "end\n",
    "\n",
    "\n",
    "function estimate_all(H, labels)\n",
    "    aggs = [identity, discount_cut, sum_of_ext_degs, \n",
    "            all_or_nothing, rainbow]\n",
    "    return [estimateΩEmpirically(H, labels; min_val=0, \n",
    "                                 aggregator=agg) for agg in aggs]\n",
    "end"
   ]
  },
  {
   "cell_type": "code",
   "execution_count": 4,
   "metadata": {},
   "outputs": [
    {
     "data": {
      "text/plain": [
       "show_estimates (generic function with 1 method)"
      ]
     },
     "execution_count": 4,
     "metadata": {},
     "output_type": "execute_result"
    }
   ],
   "source": [
    "function show_estimates(H, labels, maxk)\n",
    "    Ω̂s = estimate_all(H, labels)\n",
    "    for k = 1:maxk\n",
    "        for p in partitions(k)\n",
    "            estimates = [Ω̂(p; α=1, mode=\"partition\") for Ω̂ in Ω̂s]\n",
    "            strs = join([@sprintf(\"%.3e\", est) for est in estimates], \", \")\n",
    "            println(\"$p\\n\\t$strs\\n\")\n",
    "        end\n",
    "    end\n",
    "end"
   ]
  },
  {
   "cell_type": "code",
   "execution_count": 5,
   "metadata": {},
   "outputs": [
    {
     "name": "stdout",
     "output_type": "stream",
     "text": [
      "  2.231857 seconds (5.96 M allocations: 706.955 MiB, 12.36% gc time)\n",
      "[2] / [1, 1] 4.44001110430888\n",
      "[3] / [2, 1] 35.68468337653148\n",
      "[4] / [3, 1] 61.61881494241789\n"
     ]
    }
   ],
   "source": [
    "H, labels = read_hypergraph_data(\"contact-primary-school\");\n",
    "@time Ω̂ = estimateΩEmpirically(H, labels; min_val=0, aggregator=discount_cut)\n",
    "for k = 2:4\n",
    "    p1 = [k]\n",
    "    p2 = [k - 1, 1]\n",
    "    rat = Ω̂(p1; α=1, mode=\"partition\") / Ω̂(p2; α=1, mode=\"partition\")\n",
    "    println(\"$p1 / $p2 $rat\")\n",
    "end"
   ]
  },
  {
   "cell_type": "code",
   "execution_count": 6,
   "metadata": {},
   "outputs": [
    {
     "name": "stdout",
     "output_type": "stream",
     "text": [
      "  2.730058 seconds (7.28 M allocations: 3.741 GiB, 27.00% gc time)\n",
      "[2] / [1, 1] 2.7345769711532326\n",
      "[3] / [2, 1] 2.7092254438376013\n",
      "[4] / [3, 1] 3.6565106714457616\n",
      "[5] / [4, 1] 4.637051383826315\n",
      "[6] / [5, 1] 5.455954736833069\n",
      "[7] / [6, 1] 7.818459130349408\n",
      "[8] / [7, 1] 8.144259250199264\n"
     ]
    }
   ],
   "source": [
    "H, labels = read_hypergraph_data(\"walmart-trips\");\n",
    "@time Ω̂ = estimateΩEmpirically(H, labels; min_val=0, aggregator=discount_cut)\n",
    "for k = 2:8\n",
    "    p1 = [k]\n",
    "    p2 = [k - 1, 1]\n",
    "    rat = Ω̂(p1; α=1, mode=\"partition\") / Ω̂(p2; α=1, mode=\"partition\")\n",
    "    println(\"$p1 / $p2 $rat\")\n",
    "end"
   ]
  },
  {
   "cell_type": "code",
   "execution_count": 7,
   "metadata": {},
   "outputs": [
    {
     "name": "stdout",
     "output_type": "stream",
     "text": [
      " 13.201690 seconds (118.09 M allocations: 3.808 GiB, 26.64% gc time)\n",
      "[2] / [1, 1] NaN\n",
      "[3] / [2, 1] 1710.709064527459\n",
      "[4] / [3, 1] 2026.5037044869805\n",
      "[5] / [4, 1] 2874.3708572560304\n",
      "[6] / [5, 1] 2701.3909090128327\n",
      "[7] / [6, 1] 3429.3942438500667\n",
      "[8] / [7, 1] 4078.5422751178094\n"
     ]
    }
   ],
   "source": [
    "H, labels = read_hypergraph_data(\"TrivagoClickout\");\n",
    "@time Ω̂ = estimateΩEmpirically(H, labels; min_val=0, aggregator=discount_cut)\n",
    "for k = 2:8\n",
    "    p1 = [k]\n",
    "    p2 = [k - 1, 1]\n",
    "    rat = Ω̂(p1; α=1, mode=\"partition\") / Ω̂(p2; α=1, mode=\"partition\")\n",
    "    println(\"$p1 / $p2 $rat\")\n",
    "end"
   ]
  }
 ],
 "metadata": {
  "@webio": {
   "lastCommId": null,
   "lastKernelId": null
  },
  "kernelspec": {
   "display_name": "Julia 1.4.0",
   "language": "julia",
   "name": "julia-1.4"
  },
  "language_info": {
   "file_extension": ".jl",
   "mimetype": "application/julia",
   "name": "julia",
   "version": "1.4.0"
  }
 },
 "nbformat": 4,
 "nbformat_minor": 2
}
