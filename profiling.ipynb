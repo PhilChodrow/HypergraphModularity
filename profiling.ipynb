{
 "cells": [
  {
   "cell_type": "code",
   "execution_count": 2,
   "metadata": {},
   "outputs": [
    {
     "name": "stderr",
     "output_type": "stream",
     "text": [
      "\u001b[32m\u001b[1m Activating\u001b[22m\u001b[39m environment at `~/hypergraph_modularities_code/Project.toml`\n"
     ]
    }
   ],
   "source": [
    "using Pkg; Pkg.activate(\".\")\n",
    "using HypergraphModularity\n",
    "\n",
    "using StatsBase\n",
    "using Profile"
   ]
  },
  {
   "cell_type": "code",
   "execution_count": 3,
   "metadata": {},
   "outputs": [],
   "source": [
    "dataset = \"contact-primary-school\"\n",
    "kmax_ = 6\n",
    "\n",
    "H, Z = read_hypergraph_data(dataset,kmax_)\n",
    "\n",
    "kmax = maximum(keys(H.E))\n",
    "kmin = minimum(keys(H.E))\n",
    "\n",
    "n = length(H.D)\n",
    "\n",
    "# full, partition-based intensity function\n",
    "\n",
    "function ω_1(p, α)\n",
    "    k = sum(p)\n",
    "    return sum(p)/sum((p .* (1:length(p)).^α[k])) / n^(α[kmax+k]*k)\n",
    "end\n",
    "\n",
    "Ω_1 = partitionIntensityFunction(ω_1, kmax);\n",
    "\n",
    "# ---\n",
    "\n",
    "# sum of exterior\n",
    "function ω_2(p,α)\n",
    "    k = p[2]\n",
    "    δ = p[1]\n",
    "    return ((1+δ)*n)^α[k] / (1 + α[k + kmax])\n",
    "end\n",
    "\n",
    "Ω_2 = sumOfExteriorDegreesIntensityFunction(ω_2, kmax);\n",
    "\n",
    "\n",
    "# sum of exterior\n",
    "function ω_3(p,α)\n",
    "    k = p[2]\n",
    "    δ = p[1]\n",
    "    return ((1+δ)*n)^α[k] / (1 + α[k + kmax])\n",
    "end\n",
    "\n",
    "Ω_3 = allOrNothingIntensityFunction(ω_3, kmax);"
   ]
  },
  {
   "cell_type": "code",
   "execution_count": 4,
   "metadata": {},
   "outputs": [],
   "source": [
    "Z_dyadic = CliqueExpansionModularity(H);\n",
    "α = zeros(2*kmax);"
   ]
  },
  {
   "cell_type": "code",
   "execution_count": 9,
   "metadata": {},
   "outputs": [
    {
     "data": {
      "text/plain": [
       "([-3.7916786492803087, -0.8163874991460648, -2.7646155113883406, -5.795283685851312, -8.795783455848424, 0.0017717961666377953, 1215.690958789531, 1440.3548676158134, 34.996295125448626, 2.1364582194308683], 228815.91980750754)"
      ]
     },
     "execution_count": 9,
     "metadata": {},
     "output_type": "execute_result"
    }
   ],
   "source": [
    "α, f = learnParameters(H, Z_dyadic, Ω_3, α; xtol_abs = 1e-6)"
   ]
  },
  {
   "cell_type": "code",
   "execution_count": 10,
   "metadata": {},
   "outputs": [
    {
     "name": "stdout",
     "output_type": "stream",
     "text": [
      "Louvain Iteration 1\n",
      "Louvain Iteration 2\n",
      "Louvain Iteration 3\n",
      "Louvain Iteration 4\n",
      "Louvain Iteration 5\n",
      "Louvain Iteration 6\n",
      "Louvain Iteration 7\n",
      "Louvain Iteration 8\n",
      "Louvain Iteration 9\n",
      "Louvain Iteration 10\n",
      "Louvain Iteration 11\n",
      "Louvain Iteration 12\n",
      "Louvain Iteration 13\n"
     ]
    }
   ],
   "source": [
    "Profile.clear()\n",
    "@profile Z = HypergraphModularity.HyperLouvain(H, kmax, Ω_3; α=α, verbose = true);"
   ]
  },
  {
   "cell_type": "code",
   "execution_count": 13,
   "metadata": {},
   "outputs": [
    {
     "name": "stdout",
     "output_type": "stream",
     "text": [
      "Overhead ╎ [+additional indent] Count File:Line; Function\n",
      "=========================================================\n",
      "    ╎8071  @Base/task.jl:358; (::IJulia.var\"#15#18\")()\n",
      "    ╎ 8071  ...ia/src/eventloop.jl:8; eventloop(::ZMQ.Socket)\n",
      "    ╎  8071  @Base/essentials.jl:711; invokelatest\n",
      "    ╎   8071  @Base/essentials.jl:712; #invokelatest#1\n",
      "    ╎    8071  ...execute_request.jl:67; execute_request(::ZMQ.Socket...\n",
      "    ╎     8071  ...oftGlobalScope.jl:218; softscope_include_string(::...\n",
      "    ╎    ╎ 8071  @Base/boot.jl:331; eval\n",
      "    ╎    ╎  8071  ...rgraph_louvain.jl:2; (::HypergraphModularity.var...\n",
      "   1╎    ╎   8071  ...rgraph_louvain.jl:2; HyperLouvain##kw\n",
      "  25╎    ╎    1143  ...raph_louvain.jl:74; HyperLouvain(::hypergraph...\n",
      "    ╎    ╎     1118  @Base/reduce.jl:503; sum(::Base.Generator{Bas...\n",
      "    ╎    ╎    ╎ 1118  @Base/reduce.jl:486; sum\n",
      "    ╎    ╎    ╎  1118  @Base/reduce.jl:283; mapreduce\n",
      "    ╎    ╎    ╎   1118  @Base/reduce.jl:283; #mapreduce#193\n",
      "    ╎    ╎    ╎    1118  @Base/reduce.jl:157; mapfoldl\n",
      "    ╎    ╎    ╎     1118  @Base/reduce.jl:157; #mapfoldl#189\n",
      "    ╎    ╎    ╎    ╎ 1118  @Base/reduce.jl:41; mapfoldl_impl\n",
      "   1╎    ╎    ╎    ╎  1118  @Base/reduce.jl:45; foldl_impl\n",
      "    ╎    ╎    ╎    ╎   1009  @Base/reduce.jl:59; _foldl_impl(::Base.M...\n",
      "  22╎    ╎    ╎    ╎    1009  @Base/reduce.jl:90; MappingRF\n",
      "  77╎    ╎    ╎    ╎     936   none:0; (::HypergraphModul...\n",
      "   4╎    ╎    2717  ...raph_louvain.jl:73; HyperLouvain(::hypergraph...\n",
      "  19╎    ╎     2710  ...rity/src/vol.jl:178; increments(::Array{BigIn...\n",
      "  79╎    ╎    ╎ 2097  ...rity/src/vol.jl:201; increments(::Array{BigIn...\n",
      "   5╎    ╎    ╎  627   ...ity/src/vol.jl:29; correctOvercounting(::D...\n",
      "    ╎    ╎    4091  ...raph_louvain.jl:76; HyperLouvain(::hypergraph...\n",
      "  27╎    ╎     4090  ...vain_helpers.jl:66; CutDiff_OneNode##kw\n",
      " 237╎    ╎    ╎ 555   ...vain_helpers.jl:80; CutDiff_OneNode(::Array{...\n",
      "    ╎    ╎    ╎ 597   ...vain_helpers.jl:78; CutDiff_OneNode(::Array{...\n",
      "    ╎    ╎    ╎  597   ...stractarray.jl:980; getindex\n",
      " 863╎    ╎    ╎ 2646  ...vain_helpers.jl:79; CutDiff_OneNode(::Array{...\n",
      "1177╎    ╎    ╎  1609  In[3]:36; ω_3(::Tuple{Bool,Int64}...\n",
      "Total snapshots: 16385\n"
     ]
    }
   ],
   "source": [
    "Profile.print(sortedby = :count, mincount = 500)"
   ]
  }
 ],
 "metadata": {
  "kernelspec": {
   "display_name": "Julia 1.4.2",
   "language": "julia",
   "name": "julia-1.4"
  },
  "language_info": {
   "file_extension": ".jl",
   "mimetype": "application/julia",
   "name": "julia",
   "version": "1.4.2"
  }
 },
 "nbformat": 4,
 "nbformat_minor": 4
}
